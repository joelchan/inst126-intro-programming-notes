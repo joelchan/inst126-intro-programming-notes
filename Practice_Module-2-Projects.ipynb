{
 "cells": [
  {
   "cell_type": "markdown",
   "id": "58493690-cee9-42a5-8165-5790cba1c05e",
   "metadata": {
    "jp-MarkdownHeadingCollapsed": true,
    "tags": []
   },
   "source": [
    "# Practice: Module 2 Project (Lists, Iteration, Strings)\n",
    "\n",
    "## Reformat and count names\n",
    "\n",
    "Process the list to convert to lastname, firstname format. Count the number of names that have lastname \"Wright\". Be careful! There are some inconsistencies in upper/lowercase!\n",
    "\n",
    "e.g., the first three elements of the output list should look like\n",
    "\n",
    "`[\"Thompson, Amelia\", \"Martinez, Oscar\", \"Green, Sophie\"]`\n",
    "\n",
    "And you should print out a message that is formatted like this:\n",
    "`\"There are M names with lastname Wright\"`\n",
    "\n",
    "Here is the correct output:\n",
    "\n",
    "`['Thompson, Amelia', 'Martinez, Oscar', 'Wright, Sophie', 'Harrison, Miles', 'Wright, Isabella', 'Patel, Lucas', 'Murphy, Chloe', 'Rodriguez, Leo', 'Lee, Ella', 'Kim, David', 'Chen, Emily', 'Davis, Oliver', 'Robinson, Lily', 'Adams, Caleb', 'wright, Ava', 'Garcia, Nathan', 'Hernandez, Grace', 'Brown, Ethan', 'Taylor, Avery', 'WrighT, Jacob']`\n",
    "\n",
    "`There are 4 names with lastname Wright`"
   ]
  },
  {
   "cell_type": "code",
   "execution_count": 9,
   "id": "82c95a45-86cc-4075-b2ec-b50d51229fbb",
   "metadata": {},
   "outputs": [],
   "source": [
    "# make sure you run this cell before you attempt your program\n",
    "names = [\n",
    "    'Amelia Thompson',\n",
    "    'Oscar Martinez',\n",
    "    'Sophie Wright',\n",
    "    'Miles Harrison',\n",
    "    'Isabella Wright',\n",
    "    'Lucas Patel',\n",
    "    'Chloe Murphy',\n",
    "    'Leo Rodriguez',\n",
    "    'Ella Lee',\n",
    "    'David Kim',\n",
    "    'Emily Chen',\n",
    "    'Oliver Davis',\n",
    "    'Lily Robinson',\n",
    "    'Caleb Adams',\n",
    "    'Ava wright',\n",
    "    'Nathan Garcia',\n",
    "    'Grace Hernandez',\n",
    "    'Ethan Brown',\n",
    "    'Avery Taylor',\n",
    "    'Jacob WrighT'\n",
    "]"
   ]
  },
  {
   "cell_type": "code",
   "execution_count": 42,
   "id": "abbcc6d6-f7c5-4bca-aec8-ab5bfec86663",
   "metadata": {
    "tags": []
   },
   "outputs": [
    {
     "name": "stdout",
     "output_type": "stream",
     "text": [
      "['Thompson, Amelia', 'Martinez, Oscar', 'Wright, Sophie', 'Harrison, Miles', 'Wright, Isabella', 'Patel, Lucas', 'Murphy, Chloe', 'Rodriguez, Leo', 'Lee, Ella', 'Kim, David', 'Chen, Emily', 'Davis, Oliver', 'Robinson, Lily', 'Adams, Caleb', 'wright, Ava', 'Garcia, Nathan', 'Hernandez, Grace', 'Brown, Ethan', 'Taylor, Avery', 'WrighT, Jacob']\n",
      "There are 4 names with lastname Wright\n"
     ]
    }
   ],
   "source": [
    "names_lf = [] # for output list (reformatted names)\n",
    "num_wright = 0 # count of names with lastname wright\n",
    "\n",
    "# for every name in the input list\n",
    "for name in names:\n",
    "    # parse name into first and last name\n",
    "    elements = name.split(\" \")\n",
    "    # firstname is the first thing\n",
    "    firstname = elements[0]\n",
    "    # lastname is the second thing\n",
    "    lastname = elements[1]\n",
    "    \n",
    "    # MAP\n",
    "    # make the lastname, firstname format\n",
    "    name_lf = lastname + \", \" + firstname\n",
    "    # add it to our new list\n",
    "    names_lf.append(name_lf)\n",
    "    \n",
    "    # COUNT\n",
    "    # normalize the lastname by turning into lowercase\n",
    "    lastname_lower = lastname.lower()\n",
    "    # check if it's wright\n",
    "    if lastname_lower == \"wright\":\n",
    "        # update our count\n",
    "        num_wright += 1\n",
    "\n",
    "# print out results\n",
    "print(names_lf)        \n",
    "print(f\"There are {num_wright} names with lastname Wright\")"
   ]
  },
  {
   "cell_type": "markdown",
   "id": "3d324112-e123-4309-88d4-a9e765df1b82",
   "metadata": {},
   "source": [
    "Here is a variant that is slightly more compact and (in my opinion) readable and debuggable.\n",
    "\n",
    "For the parsing step, instead of saving the output of `name.split(\" \")` into an intermediate list (since we don't care about it), we unpack it directly into two variables `firstname`, and `lastname`, since we know (assume!) the split will produce two elements. The first element in the split goes into the first variable, and the second into the second variable. This gives us one less variable to keep track of.\n",
    "\n",
    "Second, instead of joining the lastname and firstname with `+`, we use the f-string string formatting.\n",
    "\n",
    "Finally, for the step of checking the lastname, we can also skip assigning it to a variable, and just directly compare the output of `lastname.lower()` to the string `\"Wright\"`."
   ]
  },
  {
   "cell_type": "code",
   "execution_count": 43,
   "id": "cfb7d0aa-8178-4caf-a2ff-4a3df813cb0a",
   "metadata": {},
   "outputs": [
    {
     "name": "stdout",
     "output_type": "stream",
     "text": [
      "['Thompson, Amelia', 'Martinez, Oscar', 'Wright, Sophie', 'Harrison, Miles', 'Wright, Isabella', 'Patel, Lucas', 'Murphy, Chloe', 'Rodriguez, Leo', 'Lee, Ella', 'Kim, David', 'Chen, Emily', 'Davis, Oliver', 'Robinson, Lily', 'Adams, Caleb', 'wright, Ava', 'Garcia, Nathan', 'Hernandez, Grace', 'Brown, Ethan', 'Taylor, Avery', 'WrighT, Jacob']\n",
      "There are 4 names with lastname Wright\n"
     ]
    }
   ],
   "source": [
    "names_lf = [] # for output list (reformatted names)\n",
    "num_wright = 0 # count of names with lastname wright\n",
    "\n",
    "# for every name in the input list\n",
    "for name in names:\n",
    "    \n",
    "    # parse name into first and last name\n",
    "    firstname, lastname = name.split(\" \")\n",
    "    \n",
    "    # MAP\n",
    "    # make the lastname, firstname format\n",
    "    name_lf = f\"{lastname}, {firstname}\"\n",
    "    # and add to output list\n",
    "    names_lf.append(name_lf)\n",
    "    \n",
    "    # COUNT\n",
    "    # check if the lastname (normalized) is wright\n",
    "    if lastname.lower() == \"wright\":\n",
    "        # update count if so\n",
    "        num_wright += 1\n",
    "\n",
    "# print out results\n",
    "print(names_lf)\n",
    "print(f\"There are {num_wright} names with lastname Wright\")"
   ]
  },
  {
   "cell_type": "markdown",
   "id": "5a904150-e2d6-42cc-90f5-e352abf428d1",
   "metadata": {
    "tags": []
   },
   "source": [
    "## Clean dataset\n",
    "\n",
    "Clean this dataset. The values should all be between 0 and 100. Anything above 100 is an outlier. Anything coded -999 is a missing value. Compute the average value of the cleaned dataset (i.e., w/ outliers and missing removed), and report how many outliers and missing values there are. Your output message shoudl only show 3 decimal points.\n",
    "\n",
    "Here is the correct output:\n",
    "\n",
    "`[67, 96, 95, 78, 36, 94, 67, 85, 96, 60, 73, 45, 6, 17, 24, 82, 82, 100, 44, 81, 12, 60]`\n",
    "\n",
    "`After removing 4 missing values and 4 outliers, average value is 63.636`"
   ]
  },
  {
   "cell_type": "code",
   "execution_count": 12,
   "id": "1a6abbe9-2aba-4868-8bd3-81be44862ec7",
   "metadata": {},
   "outputs": [],
   "source": [
    "# make sure you run this cell before you attempt your program\n",
    "data = ['67', '96', '95', '78', '36', '94', '67', '85', '96', '60', '73', '45', '6', '17', '24', '82', '125', '150', '136', '106', '82', '100', '44', '81', '12', '-999', '-999', '-999', '-999', '60']"
   ]
  },
  {
   "cell_type": "code",
   "execution_count": 44,
   "id": "435f753b-3a2f-4554-9122-8885d60d37d8",
   "metadata": {},
   "outputs": [
    {
     "name": "stdout",
     "output_type": "stream",
     "text": [
      "[67, 96, 95, 78, 36, 94, 67, 85, 96, 60, 73, 45, 6, 17, 24, 82, 82, 100, 44, 81, 12, 60]\n",
      "After removing 4 missing values and 4 outliers, average value is 63.636\n"
     ]
    }
   ],
   "source": [
    "# your program here\n",
    "\n",
    "clean = [] # output list (cleaned dataset)\n",
    "num_missing = 0 # count of missing\n",
    "num_outliers = 0 # count of outliers\n",
    "\n",
    "for item in data:\n",
    "    \n",
    "    # convert to number\n",
    "    num = int(item)\n",
    "    \n",
    "    # check if missing or outlier\n",
    "    # if missing (this will catch -999)\n",
    "    if num < 0:\n",
    "        # update count of missing\n",
    "        num_missing += 1\n",
    "    # otherwise, if outlier\n",
    "    elif num > 100:\n",
    "        # update count of outlier\n",
    "        num_outliers += 1\n",
    "    # otherwise\n",
    "    else:\n",
    "        # add to our cleaned dataset\n",
    "        clean.append(num)\n",
    "\n",
    "# compute the average\n",
    "avg = sum(clean)/len(clean)\n",
    "\n",
    "# print out results\n",
    "print(clean)\n",
    "print(f\"After removing {num_missing} missing values and {num_outliers} outliers, average value is {avg:.3f}\")"
   ]
  },
  {
   "cell_type": "markdown",
   "id": "01a94064-16ff-4452-bda7-748eff53ee94",
   "metadata": {},
   "source": [
    "## Process submissions (with late penalties and exceptions)\n",
    "\n",
    "Here is a list of submissions that I want you to process.\n",
    "\n",
    "The submissions have three parts to them (separated by commas):\n",
    "1. The score (0 to 100)\n",
    "2. A value that indicates whether the submission was late (0 or 1)\n",
    "3. A value that indicates whether the submission had a late exception\n",
    "\n",
    "Produce a final list of scores that applies a late penalty (reduce score by 20%) unless the submission has a late exception. \n",
    "\n",
    "Also, report:\n",
    "1. The average score of the final list (M)\n",
    "2. The number of non-exempted late submissions (N)\n",
    "\n",
    "In the following format:\n",
    "`\"The average score (after penalizing N late submissions) is M\"`\n",
    "\n",
    "Make sure M is formatted with only 2 decimal points.\n",
    "\n",
    "Here is the correct output:\n",
    "\n",
    "`[62, 80, 5, 12.0, 64.0, 97, 61, 20, 56, 74, 73, 89, 57, 27.200000000000003, 63, 2, 27, 60, 33, 65.60000000000001]`\n",
    "\n",
    "`The average score (after penalizing 4 late submissions) is 51.39`"
   ]
  },
  {
   "cell_type": "code",
   "execution_count": 7,
   "id": "74f56354-ad42-41ac-a268-9a62f45b1631",
   "metadata": {},
   "outputs": [],
   "source": [
    "# make sure you run this cell before you attempt your program\n",
    "submissions = ['62,0,0', '80,0,0', '5,0,0', '15,1,0', '80,1,0', '97,0,0', '61,0,0', '20,1,1', '56,0,0', '74,0,0', '73,0,0', '89,0,0', '57,0,0', '34,1,0', '63,0,0', '2,0,0', '27,0,0', '60,0,0', '33,1,1', '82,1,0']"
   ]
  },
  {
   "cell_type": "code",
   "execution_count": null,
   "id": "04575542-012b-4db3-a7ba-5f6afff49191",
   "metadata": {},
   "outputs": [],
   "source": [
    "# your program here"
   ]
  }
 ],
 "metadata": {
  "kernelspec": {
   "display_name": "Python 3 (ipykernel)",
   "language": "python",
   "name": "python3"
  },
  "language_info": {
   "codemirror_mode": {
    "name": "ipython",
    "version": 3
   },
   "file_extension": ".py",
   "mimetype": "text/x-python",
   "name": "python",
   "nbconvert_exporter": "python",
   "pygments_lexer": "ipython3",
   "version": "3.9.7"
  }
 },
 "nbformat": 4,
 "nbformat_minor": 5
}
