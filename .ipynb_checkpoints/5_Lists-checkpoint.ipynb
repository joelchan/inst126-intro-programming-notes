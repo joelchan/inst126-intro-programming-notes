{
 "cells": [
  {
   "cell_type": "markdown",
   "metadata": {},
   "source": [
    "# 5: Lists"
   ]
  },
  {
   "cell_type": "markdown",
   "metadata": {},
   "source": [
    "## Learning goals\n",
    "- Create a list in Python\n",
    "- Do common operations on lists (e.g., appending, indexing, slicing, sorting)\n",
    "- Explain difference between mutable and immutable data structures\n",
    "- Recognize potential application opportunities for collection methods and functions (e.g., len, max, min)\n",
    "- Explain difference between functions and methods\n",
    "- Appropriately apply collection methods and functions to lists"
   ]
  },
  {
   "cell_type": "markdown",
   "metadata": {
    "id": "g-lkfdphxbR0"
   },
   "source": [
    "## What are lists and why should we care about them?"
   ]
  },
  {
   "cell_type": "markdown",
   "metadata": {
    "id": "X8Q343PRGhMR"
   },
   "source": [
    "### A list is a kind of collection data structure\n",
    "\n",
    "So far we’ve mostly used a “non-collection” data structures. Most of our variables have one value in them - when we put a new value in the variable, the old value is overwritten\n",
    "\n",
    "A list is a kind of **collection** data structure. A collection allows us to put many values into a single \"variable\"\n",
    "\n",
    "A collection is nice because we can carry many values around in one convenient package\n"
   ]
  },
  {
   "cell_type": "code",
   "execution_count": 1,
   "metadata": {
    "id": "cTjXSIqNGs85"
   },
   "outputs": [],
   "source": [
    "a_list = []\n",
    "s = \"\"\n",
    "friends = ['Joseph', 'Glenn', 'Sally']\n",
    "carryon = ['socks', 'shirt', 'perfume']\n",
    "scores = [1, 50, 32]"
   ]
  },
  {
   "cell_type": "code",
   "execution_count": 4,
   "metadata": {
    "colab": {
     "base_uri": "https://localhost:8080/",
     "height": 34
    },
    "executionInfo": {
     "elapsed": 368,
     "status": "ok",
     "timestamp": 1601909194385,
     "user": {
      "displayName": "Joel Chan",
      "photoUrl": "https://lh3.googleusercontent.com/a-/AOh14GiBPPpBf_QqgDL3pMurAsPu9WJJE_x_6UtgW13UFQ=s64",
      "userId": "15153559228409906865"
     },
     "user_tz": 240
    },
    "id": "7QPrKhoiOlvV",
    "outputId": "89bce3f9-bf52-45f2-a864-3ff480b44ff6"
   },
   "outputs": [
    {
     "data": {
      "text/plain": [
       "['Joseph', 'Glenn', 'Sally']"
      ]
     },
     "execution_count": 4,
     "metadata": {},
     "output_type": "execute_result"
    }
   ],
   "source": [
    "friends"
   ]
  },
  {
   "cell_type": "markdown",
   "metadata": {
    "id": "rt-d9q-YGx3F"
   },
   "source": [
    "### Why do we need more data structures than strings, numbers and Boolean values?\n",
    "\n",
    "Recall that computational thinking is a key component of programming skill. **Algorithms** --- sets of rules or steps used to solve a problem --- are an important way to model and instruct computers to solve problems. In computer science, it is well known that some algorithms need special **data structures** --- particular ways of organizing data in a computer.\n",
    "\n",
    "Consider this problem: Find the smallest number amongst a set of N numbers.\n",
    "\n",
    "Can you think of a structured set of rules (algorithms) for solving this problem in a reusable way *without* using a collection / list?"
   ]
  },
  {
   "cell_type": "code",
   "execution_count": 5,
   "metadata": {
    "id": "1EjL-gGYPA6k"
   },
   "outputs": [
    {
     "data": {
      "text/plain": [
       "1"
      ]
     },
     "execution_count": 5,
     "metadata": {},
     "output_type": "execute_result"
    }
   ],
   "source": [
    "# find the smallest number amongst five numbers\n",
    "a = 1\n",
    "b = 5\n",
    "c = 7\n",
    "d = 10\n",
    "e = 2  \n",
    "\n",
    "def find_smallest_among_5(a, b, c, d, e):\n",
    "    smallest = a\n",
    "    if b < smallest:\n",
    "        smallest = b\n",
    "    elif c < smallest:\n",
    "        smallest = c\n",
    "    elif d < smallest:\n",
    "        smallest = d\n",
    "    elif e < smallest:\n",
    "        smallest = e\n",
    "    return smallest"
   ]
  },
  {
   "cell_type": "code",
   "execution_count": null,
   "metadata": {},
   "outputs": [],
   "source": [
    "# what if we have six numbers?\n",
    "def find_smallest_among_6(a, b, c, d, e, f):\n",
    "    smallest = a\n",
    "    if b < smallest:\n",
    "        smallest = b\n",
    "    elif c < smallest:\n",
    "        smallest = c\n",
    "    elif d < smallest:\n",
    "        smallest = d\n",
    "    elif e < smallest:\n",
    "        smallest = e\n",
    "    elif f < smallest:\n",
    "        smallest = f\n",
    "    return smallest"
   ]
  },
  {
   "cell_type": "code",
   "execution_count": null,
   "metadata": {},
   "outputs": [],
   "source": [
    "# or just 3?\n",
    "def find_smallest_among_3(a, b, c):\n",
    "    smallest = a\n",
    "    if b < smallest:\n",
    "        smallest = b\n",
    "    elif c < smallest:\n",
    "        smallest = c\n",
    "    return smallest"
   ]
  },
  {
   "cell_type": "code",
   "execution_count": 6,
   "metadata": {
    "colab": {
     "base_uri": "https://localhost:8080/"
    },
    "executionInfo": {
     "elapsed": 313,
     "status": "ok",
     "timestamp": 1614608840766,
     "user": {
      "displayName": "Joel Chan",
      "photoUrl": "https://lh3.googleusercontent.com/a-/AOh14GiBPPpBf_QqgDL3pMurAsPu9WJJE_x_6UtgW13UFQ=s64",
      "userId": "15153559228409906865"
     },
     "user_tz": 300
    },
    "id": "ojgv4-M_PYY9",
    "outputId": "7ccffee1-0191-4553-e648-cdd808e6d15a"
   },
   "outputs": [],
   "source": [
    "# with lists\n",
    "def find_smallest(l):\n",
    "    # sort the list\n",
    "    l.sort()\n",
    "    # get the first item\n",
    "    return l[0]    "
   ]
  },
  {
   "cell_type": "code",
   "execution_count": 11,
   "metadata": {},
   "outputs": [
    {
     "data": {
      "text/plain": [
       "2"
      ]
     },
     "execution_count": 11,
     "metadata": {},
     "output_type": "execute_result"
    }
   ],
   "source": [
    "l = [4, 5, 7, 10, 2, 10, 15]\n",
    "find_smallest(l)"
   ]
  },
  {
   "cell_type": "markdown",
   "metadata": {
    "id": "XMfeWgyvG3W7"
   },
   "source": [
    "Could in principle do these with separate variables for each item. But very clunky! And error prone! And basically impossible to generalize (contra core goal of developing **abstractions over classes of problems**, from CompT).\n",
    "\n",
    "The point to note here is that your ability to model (and therefore solve) problems with programming is dependent on your knowledge of data structures (since they constrain the set of algorithms you can recognize and apply to problems). So as you expand your knowledge of data structures, try to note down also the common situations in which they apply, and what algorithms they tend to \"work well with\".\n",
    "\n",
    "You will learn a few more data structures this semester (dive more into strings this module, then files and dictionaries next module, and dataframes for data analysis in the final module). And of course many more as you advance in your career.\n"
   ]
  },
  {
   "cell_type": "markdown",
   "metadata": {},
   "source": [
    "Lists in context of our example problem from last week:"
   ]
  },
  {
   "cell_type": "code",
   "execution_count": 1,
   "metadata": {},
   "outputs": [
    {
     "name": "stdout",
     "output_type": "stream",
     "text": [
      "['sarah@umd.edu', 'joelchan@umd.edu']\n"
     ]
    }
   ],
   "source": [
    "# key variables:\n",
    "# the input LIST of strings\n",
    "inputs = [\n",
    "    \"hello sarah@umd.edu\",\n",
    "    \"from: joelchan@umd.edu\",\n",
    "    \"some other text that doesn't have an email\"\n",
    "]\n",
    "# a LIST to store the email addresses\n",
    "emails = []\n",
    "\n",
    "# Loop over every text input\n",
    "for text_input in inputs:\n",
    "    \n",
    "    # extract an email address\n",
    "    # split the text into subsets\n",
    "    chunks = text_input.split()\n",
    "    \n",
    "    # check every chunk\n",
    "    for chunk in chunks:\n",
    "        # check if it has @ and .\n",
    "        if \"@\" in chunk and \".\" in chunk:\n",
    "            # put the chunk in the email list\n",
    "            emails.append(chunk)\n",
    "# give the email address back to the user\n",
    "print(emails)"
   ]
  },
  {
   "cell_type": "markdown",
   "metadata": {},
   "source": [
    "How would you solve this without lists? Or some kind of collection?"
   ]
  },
  {
   "cell_type": "markdown",
   "metadata": {
    "id": "ifBcaTKuA2jN"
   },
   "source": [
    "## Anatomy of a list in Python\n",
    "\n",
    "List constants or \"literals\":\n",
    "1. Are surrounded by square brackets\n",
    "2. Contain at least one element in the list; multiple items are separated by commas."
   ]
  },
  {
   "cell_type": "code",
   "execution_count": 36,
   "metadata": {
    "id": "JG-iNe0ZHJVn"
   },
   "outputs": [],
   "source": [
    "\"1, 2, 3\" # string\n",
    "1 # int\n",
    "1.0 # float\n",
    "\n",
    "basic_list = [1, 2, 3] # list\n",
    "another_list = [11,32,53] # the spaces don't matter for Python, only the commas; spaces are for readability for us\n",
    "another_list = [\n",
    "    \"a really long item in the list\", \n",
    "    2,\n",
    "    3\n",
    "]\n",
    "matrix = [\n",
    "    [0, 1, 2],\n",
    "    [0, 0, 1],\n",
    "    [0, 1, 0]\n",
    "]\n",
    "\n",
    "# can also show up like this if you want to see the contents more explicitly\n",
    "# python knows where the list starts or stops based on the brackets\n",
    "basic_list_2 = [\n",
    "    1,\n",
    "    2,\n",
    "    3\n",
    "]\n",
    "\n",
    "# handy for large items in a list\n",
    "sentences = [\n",
    "    \"something\",\n",
    "    \"she sells sea shells by the sea here\",\n",
    "    \"she sells sea shells by the sea there\",\n",
    "]\n",
    "#sentences = [\"she sells sea shells by the sea shore\", \"she sells sea shells by the sea here\", \"she sells sea shells by the sea there\"]"
   ]
  },
  {
   "cell_type": "code",
   "execution_count": 37,
   "metadata": {
    "colab": {
     "base_uri": "https://localhost:8080/"
    },
    "executionInfo": {
     "elapsed": 461,
     "status": "ok",
     "timestamp": 1614609615503,
     "user": {
      "displayName": "Joel Chan",
      "photoUrl": "https://lh3.googleusercontent.com/a-/AOh14GiBPPpBf_QqgDL3pMurAsPu9WJJE_x_6UtgW13UFQ=s64",
      "userId": "15153559228409906865"
     },
     "user_tz": 300
    },
    "id": "NCGZJbFoOfES",
    "outputId": "5f2c0a1e-c30b-4e2d-9185-335f8ed35abd"
   },
   "outputs": [
    {
     "data": {
      "text/plain": [
       "['something',\n",
       " 'she sells sea shells by the sea here',\n",
       " 'she sells sea shells by the sea there']"
      ]
     },
     "execution_count": 37,
     "metadata": {},
     "output_type": "execute_result"
    }
   ],
   "source": [
    "sentences"
   ]
  },
  {
   "cell_type": "code",
   "execution_count": null,
   "metadata": {
    "colab": {
     "base_uri": "https://localhost:8080/",
     "height": 34
    },
    "executionInfo": {
     "elapsed": 479,
     "status": "ok",
     "timestamp": 1601909922316,
     "user": {
      "displayName": "Joel Chan",
      "photoUrl": "https://lh3.googleusercontent.com/a-/AOh14GiBPPpBf_QqgDL3pMurAsPu9WJJE_x_6UtgW13UFQ=s64",
      "userId": "15153559228409906865"
     },
     "user_tz": 240
    },
    "id": "ly58xGlvRYH3",
    "outputId": "b1f1b382-935c-4c83-8c4a-55faa56484ae"
   },
   "outputs": [
    {
     "data": {
      "text/plain": [
       "[1, 2, 3]"
      ]
     },
     "execution_count": 9,
     "metadata": {
      "tags": []
     },
     "output_type": "execute_result"
    }
   ],
   "source": [
    "basic_list"
   ]
  },
  {
   "cell_type": "markdown",
   "metadata": {},
   "source": [
    "You can assign lists to variables, just like other values, with a variable assignment statement."
   ]
  },
  {
   "cell_type": "code",
   "execution_count": 12,
   "metadata": {
    "colab": {
     "base_uri": "https://localhost:8080/"
    },
    "executionInfo": {
     "elapsed": 586,
     "status": "ok",
     "timestamp": 1614609731424,
     "user": {
      "displayName": "Joel Chan",
      "photoUrl": "https://lh3.googleusercontent.com/a-/AOh14GiBPPpBf_QqgDL3pMurAsPu9WJJE_x_6UtgW13UFQ=s64",
      "userId": "15153559228409906865"
     },
     "user_tz": 300
    },
    "id": "RuCD-LNiRaJU",
    "outputId": "af9e62a4-2c36-4c19-b31e-105f04470f26"
   },
   "outputs": [
    {
     "name": "stdout",
     "output_type": "stream",
     "text": [
      "[1, 2, 3]\n",
      "[1, '2', 3.0]\n",
      "[[1, 2, 3], [1, '2', 3.0]]\n"
     ]
    },
    {
     "data": {
      "text/plain": [
       "[{'a': 1}, [1, 2, 3]]"
      ]
     },
     "execution_count": 12,
     "metadata": {},
     "output_type": "execute_result"
    }
   ],
   "source": [
    "a = [1, 2, 3]\n",
    "b = [1, \"2\", 3.0]\n",
    "c = [a, b] # list of lists\n",
    "print(a)\n",
    "print(b)\n",
    "print(c)\n",
    "d = {\"a\": 1}\n",
    "e = [d, a]\n",
    "e"
   ]
  },
  {
   "cell_type": "code",
   "execution_count": null,
   "metadata": {
    "id": "UEMh-KDiPqm3"
   },
   "outputs": [],
   "source": [
    "a = [\n",
    "  1, # position 0 \n",
    "  2, # position 1\n",
    "  3  # position 2\n",
    "]"
   ]
  },
  {
   "cell_type": "markdown",
   "metadata": {
    "id": "0EsxtmnxHQNC"
   },
   "source": [
    "## Some properties of lists\n",
    "\n",
    "Some properties of lists:\n",
    "- Can hold **more than one value**\n",
    "    - What can go in a list?\n",
    "        - Any Python object: even another list!\n",
    "        - Mixed objects: doesn't all have to be the same type of object\n",
    "    - But you can also have lists with just one item, or no items! Rarely will this be useful (except to initialize the variable).\n",
    "- Is **indexed** positionally, and therefore has a notion of position / order\n",
    "    - Some other data structures, like dictionaries, don't have this property\n",
    "        - This allows you to do things like sort, find by position (e.g., \"first\" or \"last\")\n",
    "    - NOTE: the index starts at 0, not 1! So the first item is at index / position 0, the second at index / position 1, and so on...\n",
    "        - Very important to remember this as you work with getting things in and out of lists\n",
    "- Is **mutable**: you can change the data held by the variable directly. Some other data structures (like strings!) are immutable - you can never directly modify the value held by the variable, you can only create a new modified value that you must then assign to the same or different variable to keep around. Hold this thought to compare/contrast when we discuss strings in a couple weeks.\n"
   ]
  },
  {
   "cell_type": "markdown",
   "metadata": {
    "id": "TlIgLzthHfcr"
   },
   "source": [
    "Let's demonstrate these properties by \"dissecting\" a few lists together."
   ]
  },
  {
   "cell_type": "markdown",
   "metadata": {},
   "source": [
    "### Can hold multiple types of data, including other lists"
   ]
  },
  {
   "cell_type": "code",
   "execution_count": 40,
   "metadata": {
    "colab": {
     "base_uri": "https://localhost:8080/",
     "height": 52
    },
    "executionInfo": {
     "elapsed": 501,
     "status": "ok",
     "timestamp": 1601910267131,
     "user": {
      "displayName": "Joel Chan",
      "photoUrl": "https://lh3.googleusercontent.com/a-/AOh14GiBPPpBf_QqgDL3pMurAsPu9WJJE_x_6UtgW13UFQ=s64",
      "userId": "15153559228409906865"
     },
     "user_tz": 240
    },
    "id": "s_4Oo2sWRwNh",
    "outputId": "2351b06d-2f2d-46cd-8997-43e2cc0829aa"
   },
   "outputs": [
    {
     "name": "stdout",
     "output_type": "stream",
     "text": [
      "[1, '1', [1, 2, 3]]\n",
      "[[1, 2, 3], [1, 2, 3], [1, 2, 3]]\n"
     ]
    }
   ],
   "source": [
    "basic_list = [1, 2, 3] # list\n",
    "x = [1, \"1\", basic_list] # mixed\n",
    "y = [basic_list, basic_list, basic_list] # list of lists\n",
    "empty_list = [] # empty list, often used for initialization\n",
    "list_w_one = [1]\n",
    "print(x)\n",
    "print(y)"
   ]
  },
  {
   "cell_type": "code",
   "execution_count": 41,
   "metadata": {},
   "outputs": [
    {
     "data": {
      "text/plain": [
       "[[1, 2, 3], [1, 2, 3], [1, 2, 3]]"
      ]
     },
     "execution_count": 41,
     "metadata": {},
     "output_type": "execute_result"
    }
   ],
   "source": [
    "y"
   ]
  },
  {
   "cell_type": "markdown",
   "metadata": {},
   "source": [
    "### Indexing\n",
    "\n",
    "REMEMBER: indexing starts at 0"
   ]
  },
  {
   "cell_type": "code",
   "execution_count": 14,
   "metadata": {
    "colab": {
     "base_uri": "https://localhost:8080/"
    },
    "executionInfo": {
     "elapsed": 344,
     "status": "ok",
     "timestamp": 1614610102228,
     "user": {
      "displayName": "Joel Chan",
      "photoUrl": "https://lh3.googleusercontent.com/a-/AOh14GiBPPpBf_QqgDL3pMurAsPu9WJJE_x_6UtgW13UFQ=s64",
      "userId": "15153559228409906865"
     },
     "user_tz": 300
    },
    "id": "vnfv4Qw_Sp_X",
    "outputId": "7ec010d7-ba3b-4390-84cd-de65f79605b6"
   },
   "outputs": [
    {
     "data": {
      "text/plain": [
       "'black'"
      ]
     },
     "execution_count": 14,
     "metadata": {},
     "output_type": "execute_result"
    }
   ],
   "source": [
    "basic_list_3 = [\n",
    "  \"red\", # psn 0\n",
    "  \"green\", # psn 1\n",
    "  \"blue\", # psn 2\n",
    "  \"yellow\", # psn 3\n",
    "  \"white\", # psn 4\n",
    "    \"black\", # psn 5\n",
    "]\n",
    "\n",
    "# get the first item\n",
    "basic_list_3[0]\n",
    "\n",
    "# get the fourth item\n",
    "basic_list_3[5]"
   ]
  },
  {
   "cell_type": "markdown",
   "metadata": {},
   "source": [
    "Here it is in pictures.\n",
    "\n",
    "<img src=\"https://railsware.com/blog/wp-content/uploads/2018/10/positive-indexes.png\" height=500 width=700></img>"
   ]
  },
  {
   "cell_type": "markdown",
   "metadata": {},
   "source": [
    "You can also index in reverse! Handy for getting the last item in a list.\n",
    "\n",
    "<img src=\"https://railsware.com/blog/wp-content/uploads/2018/10/negative-indexes.png\" height=500 width=700></img>"
   ]
  },
  {
   "cell_type": "markdown",
   "metadata": {},
   "source": [
    "Yes, the alert reader will notice that this reverse indexing starts at... 1. So why does the indexing start at 0? I'm afraid I don't have a good answer. [Maybe it came from the design of the C programming language](https://albertkoz.com/why-does-array-start-with-index-0-65ffc07cbce8), and most languages (but not all!! R starts indexing at 1), followed suit."
   ]
  },
  {
   "cell_type": "code",
   "execution_count": 6,
   "metadata": {},
   "outputs": [
    {
     "name": "stdout",
     "output_type": "stream",
     "text": [
      "5\n",
      "4\n"
     ]
    }
   ],
   "source": [
    "print(basic_list_3[-1]) # gets you the last item, at position -1\n",
    "print(basic_list_3[-2]) # gets you the 2nd last item, at position -2"
   ]
  },
  {
   "cell_type": "markdown",
   "metadata": {},
   "source": [
    "### Mutating (changing) list values directly"
   ]
  },
  {
   "cell_type": "code",
   "execution_count": 45,
   "metadata": {
    "colab": {
     "base_uri": "https://localhost:8080/",
     "height": 34
    },
    "executionInfo": {
     "elapsed": 409,
     "status": "ok",
     "timestamp": 1601910603890,
     "user": {
      "displayName": "Joel Chan",
      "photoUrl": "https://lh3.googleusercontent.com/a-/AOh14GiBPPpBf_QqgDL3pMurAsPu9WJJE_x_6UtgW13UFQ=s64",
      "userId": "15153559228409906865"
     },
     "user_tz": 240
    },
    "id": "dyoXYqimT6Zl",
    "outputId": "ced1570f-c180-4e4a-85c1-2170cdca7fa4"
   },
   "outputs": [
    {
     "name": "stdout",
     "output_type": "stream",
     "text": [
      "[4, 6, 7, 10, 5]\n",
      "[4, 7, 7, 10, 5]\n"
     ]
    }
   ],
   "source": [
    "basic_list_4 = [4, 6, 7, 10, 5]\n",
    "print(basic_list_4)\n",
    "basic_list_4[1] = 7 # can mutate the list (i.e., modify it directly)\n",
    "print(basic_list_4)"
   ]
  },
  {
   "cell_type": "code",
   "execution_count": null,
   "metadata": {
    "id": "xAVCZEzERIPk"
   },
   "outputs": [],
   "source": [
    "def multiply(a, b):\n",
    "    return a * b\n",
    "\n",
    "def add(a, b):\n",
    "    return a + b\n",
    "\n",
    "list_of_functions = [multiply, add]"
   ]
  },
  {
   "cell_type": "code",
   "execution_count": 15,
   "metadata": {},
   "outputs": [
    {
     "ename": "TypeError",
     "evalue": "'<' not supported between instances of 'int' and 'str'",
     "output_type": "error",
     "traceback": [
      "\u001b[0;31m---------------------------------------------------------------------------\u001b[0m",
      "\u001b[0;31mTypeError\u001b[0m                                 Traceback (most recent call last)",
      "\u001b[0;32m/var/folders/xz/_hjc5hsx743dclmg8n5678nc0000gn/T/ipykernel_13549/1188436855.py\u001b[0m in \u001b[0;36m<module>\u001b[0;34m\u001b[0m\n\u001b[1;32m      1\u001b[0m \u001b[0mb\u001b[0m \u001b[0;34m=\u001b[0m \u001b[0;34m[\u001b[0m\u001b[0;34m\"2\"\u001b[0m\u001b[0;34m,\u001b[0m \u001b[0;36m1\u001b[0m\u001b[0;34m,\u001b[0m \u001b[0;34m\"1\"\u001b[0m\u001b[0;34m,\u001b[0m \u001b[0;32mTrue\u001b[0m\u001b[0;34m]\u001b[0m\u001b[0;34m\u001b[0m\u001b[0;34m\u001b[0m\u001b[0m\n\u001b[0;32m----> 2\u001b[0;31m \u001b[0mb\u001b[0m\u001b[0;34m.\u001b[0m\u001b[0msort\u001b[0m\u001b[0;34m(\u001b[0m\u001b[0;34m)\u001b[0m\u001b[0;34m\u001b[0m\u001b[0;34m\u001b[0m\u001b[0m\n\u001b[0m",
      "\u001b[0;31mTypeError\u001b[0m: '<' not supported between instances of 'int' and 'str'"
     ]
    }
   ],
   "source": [
    "b = [\"2\", 1, \"1\", True]\n",
    "b.sort()"
   ]
  },
  {
   "cell_type": "markdown",
   "metadata": {
    "id": "FYVv4YjdCjfS"
   },
   "source": [
    "## Working with lists\n"
   ]
  },
  {
   "cell_type": "markdown",
   "metadata": {
    "id": "TP00ttDLHmte"
   },
   "source": [
    "### Make a list\n",
    "Can use the assignment statement to initialize to an empty list, or manually specify what's in a list\n"
   ]
  },
  {
   "cell_type": "code",
   "execution_count": 52,
   "metadata": {
    "id": "AzsUWV0-Hz6N"
   },
   "outputs": [],
   "source": [
    "x = [1, 2, 3] # list with numbers 1 2 and 3\n",
    "y = [] # empty list\n",
    "z = [4, 7]"
   ]
  },
  {
   "cell_type": "markdown",
   "metadata": {
    "id": "Q2HZItzZH0kv"
   },
   "source": [
    "Can create from existing lists, using **concatenation** (adding two existing lists together)"
   ]
  },
  {
   "cell_type": "code",
   "execution_count": 51,
   "metadata": {
    "colab": {
     "base_uri": "https://localhost:8080/"
    },
    "executionInfo": {
     "elapsed": 551,
     "status": "ok",
     "timestamp": 1614610341416,
     "user": {
      "displayName": "Joel Chan",
      "photoUrl": "https://lh3.googleusercontent.com/a-/AOh14GiBPPpBf_QqgDL3pMurAsPu9WJJE_x_6UtgW13UFQ=s64",
      "userId": "15153559228409906865"
     },
     "user_tz": 300
    },
    "id": "E5-DLDoGH6Fz",
    "outputId": "f9cf389a-d0f5-4ca6-a860-d752f684180f"
   },
   "outputs": [
    {
     "data": {
      "text/plain": [
       "[1, 2, 3, 4, 7]"
      ]
     },
     "execution_count": 51,
     "metadata": {},
     "output_type": "execute_result"
    }
   ],
   "source": [
    "new_list = x + z\n",
    "new_list"
   ]
  },
  {
   "cell_type": "code",
   "execution_count": 17,
   "metadata": {
    "colab": {
     "base_uri": "https://localhost:8080/"
    },
    "executionInfo": {
     "elapsed": 327,
     "status": "ok",
     "timestamp": 1614610372758,
     "user": {
      "displayName": "Joel Chan",
      "photoUrl": "https://lh3.googleusercontent.com/a-/AOh14GiBPPpBf_QqgDL3pMurAsPu9WJJE_x_6UtgW13UFQ=s64",
      "userId": "15153559228409906865"
     },
     "user_tz": 300
    },
    "id": "An_uYNG4RtMo",
    "outputId": "d6aed30e-5a28-457e-db8b-d816128cd56a"
   },
   "outputs": [
    {
     "data": {
      "text/plain": [
       "[]"
      ]
     },
     "execution_count": 17,
     "metadata": {},
     "output_type": "execute_result"
    }
   ],
   "source": [
    "# another way that some people create lists\n",
    "some_list = list()\n",
    "some_list"
   ]
  },
  {
   "cell_type": "code",
   "execution_count": 18,
   "metadata": {},
   "outputs": [
    {
     "data": {
      "text/plain": [
       "3"
      ]
     },
     "execution_count": 18,
     "metadata": {},
     "output_type": "execute_result"
    }
   ],
   "source": [
    "int(\"3\")"
   ]
  },
  {
   "cell_type": "markdown",
   "metadata": {
    "id": "0c6wfPPRBHdg"
   },
   "source": [
    "### Get one thing out of a list: Indexing\n",
    "\n",
    "Lists are composed of a sequence of slots, each of which has an index. Indexing is a way to get something out of a list at a specific index position. In English, we might say, \"get me the 1st item in the list\", or \"get me the 3rd item in the list\". In Python, it's a little bit different, since indices start at 0. So \"the first item in the list\" in Python would be \"the item at index position 0 in the list\".\n",
    "\n",
    "Here are some examples:"
   ]
  },
  {
   "cell_type": "code",
   "execution_count": null,
   "metadata": {},
   "outputs": [],
   "source": []
  },
  {
   "cell_type": "code",
   "execution_count": 57,
   "metadata": {
    "colab": {
     "base_uri": "https://localhost:8080/"
    },
    "executionInfo": {
     "elapsed": 551,
     "status": "ok",
     "timestamp": 1614610522269,
     "user": {
      "displayName": "Joel Chan",
      "photoUrl": "https://lh3.googleusercontent.com/a-/AOh14GiBPPpBf_QqgDL3pMurAsPu9WJJE_x_6UtgW13UFQ=s64",
      "userId": "15153559228409906865"
     },
     "user_tz": 300
    },
    "id": "mbd2VhkISFYn",
    "outputId": "c80b8581-3693-436c-dcff-dfba33cb8b6a"
   },
   "outputs": [
    {
     "name": "stdout",
     "output_type": "stream",
     "text": [
      "3\n",
      "4\n",
      "5\n"
     ]
    }
   ],
   "source": [
    "some_list = [3, 4, 5]\n",
    "print(some_list[0]) # first item\n",
    "print(some_list[1]) # second item\n",
    "print(some_list[2]) # third item"
   ]
  },
  {
   "cell_type": "markdown",
   "metadata": {},
   "source": [
    "A helpful trick for getting the last or nth-to-last item is to start the indexing in reverse. Confusingly, this indexing starts at 1... Sorry!\n",
    "- -1 is last\n",
    "- -2 is second last\n",
    "- and so on..."
   ]
  },
  {
   "cell_type": "code",
   "execution_count": null,
   "metadata": {
    "colab": {
     "base_uri": "https://localhost:8080/"
    },
    "executionInfo": {
     "elapsed": 626,
     "status": "ok",
     "timestamp": 1614610682463,
     "user": {
      "displayName": "Joel Chan",
      "photoUrl": "https://lh3.googleusercontent.com/a-/AOh14GiBPPpBf_QqgDL3pMurAsPu9WJJE_x_6UtgW13UFQ=s64",
      "userId": "15153559228409906865"
     },
     "user_tz": 300
    },
    "id": "xwvAmA7wSWrV",
    "outputId": "f86128eb-46b2-4209-ba32-80b3886062e8"
   },
   "outputs": [
    {
     "name": "stdout",
     "output_type": "stream",
     "text": [
      "6\n",
      "7\n",
      "6\n"
     ]
    }
   ],
   "source": [
    "another_list = [3, 4, 5, 6, 7] # 5 items in this list\n",
    "print(another_list[3]) # how to get the 4th item?\n",
    "print(another_list[-1]) # get the last item\n",
    "print(another_list[-2]) # get the 2nd-to-last item"
   ]
  },
  {
   "cell_type": "markdown",
   "metadata": {},
   "source": [
    "This reverse indexing can be handy for getting smallest/largest after sorting a list, especially if there are lots of items in the list."
   ]
  },
  {
   "cell_type": "code",
   "execution_count": null,
   "metadata": {
    "colab": {
     "base_uri": "https://localhost:8080/"
    },
    "executionInfo": {
     "elapsed": 381,
     "status": "ok",
     "timestamp": 1614610736446,
     "user": {
      "displayName": "Joel Chan",
      "photoUrl": "https://lh3.googleusercontent.com/a-/AOh14GiBPPpBf_QqgDL3pMurAsPu9WJJE_x_6UtgW13UFQ=s64",
      "userId": "15153559228409906865"
     },
     "user_tz": 300
    },
    "id": "Lw7deCzATAbr",
    "outputId": "9f193319-40bb-4aa8-eb8c-944e6626704c"
   },
   "outputs": [
    {
     "data": {
      "text/plain": [
       "20"
      ]
     },
     "execution_count": 38,
     "metadata": {
      "tags": []
     },
     "output_type": "execute_result"
    }
   ],
   "source": [
    "a = [4, 6, 1, 8, 20, 13]\n",
    "a.sort()\n",
    "a[-1]"
   ]
  },
  {
   "cell_type": "markdown",
   "metadata": {},
   "source": [
    "Let's practice some more!"
   ]
  },
  {
   "cell_type": "code",
   "execution_count": null,
   "metadata": {
    "colab": {
     "base_uri": "https://localhost:8080/",
     "height": 52
    },
    "executionInfo": {
     "elapsed": 345,
     "status": "ok",
     "timestamp": 1601911176562,
     "user": {
      "displayName": "Joel Chan",
      "photoUrl": "https://lh3.googleusercontent.com/a-/AOh14GiBPPpBf_QqgDL3pMurAsPu9WJJE_x_6UtgW13UFQ=s64",
      "userId": "15153559228409906865"
     },
     "user_tz": 240
    },
    "id": "dMIAR49WIUlY",
    "outputId": "f365d16e-cc9c-4c6b-944c-3378d4b25a8e"
   },
   "outputs": [
    {
     "name": "stdout",
     "output_type": "stream",
     "text": [
      "3\n",
      "three\n"
     ]
    }
   ],
   "source": [
    "# get the 3rd item\n",
    "x = [1, 2, 3]\n",
    "y = [\"one\", \"two\", \"three\"]\n",
    "print(x[2])\n",
    "print(y[2])"
   ]
  },
  {
   "cell_type": "code",
   "execution_count": null,
   "metadata": {
    "colab": {
     "base_uri": "https://localhost:8080/",
     "height": 52
    },
    "executionInfo": {
     "elapsed": 337,
     "status": "ok",
     "timestamp": 1601911183838,
     "user": {
      "displayName": "Joel Chan",
      "photoUrl": "https://lh3.googleusercontent.com/a-/AOh14GiBPPpBf_QqgDL3pMurAsPu9WJJE_x_6UtgW13UFQ=s64",
      "userId": "15153559228409906865"
     },
     "user_tz": 240
    },
    "id": "NbfXxjV1WMjU",
    "outputId": "049638d1-6e84-4037-d28a-f7668a5e2909"
   },
   "outputs": [
    {
     "name": "stdout",
     "output_type": "stream",
     "text": [
      "1\n",
      "one\n"
     ]
    }
   ],
   "source": [
    "# get the first item\n",
    "print(x[0])\n",
    "print(y[0])"
   ]
  },
  {
   "cell_type": "markdown",
   "metadata": {
    "id": "fonfys6nIVpl"
   },
   "source": [
    "### Get multiple (contiguous) things out of a list: Slicing\n",
    "**Slicing** is a variation of indexing that grabs more than one value. The colon specifies that you're slicing.\n",
    "\n",
    "The first number is where you start.\n",
    "The second number is the upper limit, i.e., up to but *not including*."
   ]
  },
  {
   "cell_type": "code",
   "execution_count": 21,
   "metadata": {
    "colab": {
     "base_uri": "https://localhost:8080/"
    },
    "executionInfo": {
     "elapsed": 302,
     "status": "ok",
     "timestamp": 1614610952691,
     "user": {
      "displayName": "Joel Chan",
      "photoUrl": "https://lh3.googleusercontent.com/a-/AOh14GiBPPpBf_QqgDL3pMurAsPu9WJJE_x_6UtgW13UFQ=s64",
      "userId": "15153559228409906865"
     },
     "user_tz": 300
    },
    "id": "fnwbasZjIoy4",
    "outputId": "6a811205-8919-4941-a3ec-8f45285b2bf4"
   },
   "outputs": [
    {
     "name": "stdout",
     "output_type": "stream",
     "text": [
      "[8, 1, 2, 5]\n"
     ]
    }
   ],
   "source": [
    "x = [\n",
    "  4, # 0\n",
    "  6, # 1\n",
    "  8, # 2\n",
    "  1, # 3\n",
    "  2, # 4\n",
    "  5  # 5\n",
    "]\n",
    "# get the first two items\n",
    "# print(x[0:2])\n",
    "# # get the last two items\n",
    "# print(x[-2:])\n",
    "# # get the items from the 3rd position onwards (i want to ignore the first two)\n",
    "print(x[2:])\n",
    "# # get everything up to the 3rd position (i.e., index 2)\n",
    "# print(x[:3])"
   ]
  },
  {
   "cell_type": "markdown",
   "metadata": {},
   "source": [
    "Let's practice some more!"
   ]
  },
  {
   "cell_type": "code",
   "execution_count": 23,
   "metadata": {},
   "outputs": [
    {
     "data": {
      "text/plain": [
       "[4, 6, 8, 1]"
      ]
     },
     "execution_count": 23,
     "metadata": {},
     "output_type": "execute_result"
    }
   ],
   "source": [
    "# get everything up to the 4th item\n",
    "x[:4]"
   ]
  },
  {
   "cell_type": "markdown",
   "metadata": {
    "id": "yzUkh0MaIq5m"
   },
   "source": [
    "### Modify values (\"mutate\") in a list\n",
    "\n",
    "Use the index to specify which part of the list you want to modify, and assign it a (new) value"
   ]
  },
  {
   "cell_type": "code",
   "execution_count": 24,
   "metadata": {
    "colab": {
     "base_uri": "https://localhost:8080/"
    },
    "executionInfo": {
     "elapsed": 266,
     "status": "ok",
     "timestamp": 1614611020082,
     "user": {
      "displayName": "Joel Chan",
      "photoUrl": "https://lh3.googleusercontent.com/a-/AOh14GiBPPpBf_QqgDL3pMurAsPu9WJJE_x_6UtgW13UFQ=s64",
      "userId": "15153559228409906865"
     },
     "user_tz": 300
    },
    "id": "jJCGaIH-JEgc",
    "outputId": "674469fa-f880-4e0a-cf07-099bb8638d78"
   },
   "outputs": [
    {
     "name": "stdout",
     "output_type": "stream",
     "text": [
      "[4, 6, 8, 1, 2, 5]\n",
      "first item 4\n",
      "[10, 6, 8, 1, 2, 5]\n",
      "new first item 10\n"
     ]
    }
   ],
   "source": [
    "x = [4,6,8,1,2,5]\n",
    "print(x)\n",
    "print(\"first item\", x[0])\n",
    "# change the first item to 10\n",
    "x[0] = 10 # notice how this looks like an assignment statement\n",
    "print(x)\n",
    "print(\"new first item\", x[0])"
   ]
  },
  {
   "cell_type": "code",
   "execution_count": 3,
   "metadata": {
    "colab": {
     "base_uri": "https://localhost:8080/"
    },
    "executionInfo": {
     "elapsed": 346,
     "status": "ok",
     "timestamp": 1614611095437,
     "user": {
      "displayName": "Joel Chan",
      "photoUrl": "https://lh3.googleusercontent.com/a-/AOh14GiBPPpBf_QqgDL3pMurAsPu9WJJE_x_6UtgW13UFQ=s64",
      "userId": "15153559228409906865"
     },
     "user_tz": 300
    },
    "id": "AbmhTQK1UQ0Q",
    "outputId": "648c39b7-ee3d-455d-d226-856dad80ebcc"
   },
   "outputs": [
    {
     "data": {
      "text/plain": [
       "[4, 6, 8, 1, 2, 20]"
      ]
     },
     "execution_count": 3,
     "metadata": {},
     "output_type": "execute_result"
    }
   ],
   "source": [
    "x = [\n",
    "  4, # 0\n",
    "  6, # 1\n",
    "  8, # 2\n",
    "  1, # 3\n",
    "  2, # 4\n",
    "  5  # 5\n",
    "]\n",
    "# how do we modify this list so that the last item has the value 20?\n",
    "x[5] = 20\n",
    "# x[-1] = 20 # this is equivalent\n",
    "x"
   ]
  },
  {
   "cell_type": "markdown",
   "metadata": {},
   "source": [
    "Let's practice some more!"
   ]
  },
  {
   "cell_type": "code",
   "execution_count": null,
   "metadata": {},
   "outputs": [],
   "source": []
  },
  {
   "cell_type": "markdown",
   "metadata": {
    "id": "wDihMUBiI7EG"
   },
   "source": [
    "### Check what's in a list\n",
    "\n",
    "Python provides the `in` operator that lets you check if an item is in a list.\n",
    "\n",
    "It's a logical operator that returns True or False, so you can use it as a logica / Boolean expression, for use with conditionals and so on. You'll find this to be quite handy: we often want to be lazy and only do something if a list contains a thing we care about!"
   ]
  },
  {
   "cell_type": "code",
   "execution_count": 28,
   "metadata": {
    "colab": {
     "base_uri": "https://localhost:8080/"
    },
    "executionInfo": {
     "elapsed": 420,
     "status": "ok",
     "timestamp": 1614611289236,
     "user": {
      "displayName": "Joel Chan",
      "photoUrl": "https://lh3.googleusercontent.com/a-/AOh14GiBPPpBf_QqgDL3pMurAsPu9WJJE_x_6UtgW13UFQ=s64",
      "userId": "15153559228409906865"
     },
     "user_tz": 300
    },
    "id": "0qOxB7B8BM9O",
    "outputId": "3fc7f987-bce4-43e8-c341-96056393e250"
   },
   "outputs": [
    {
     "data": {
      "text/plain": [
       "True"
      ]
     },
     "execution_count": 28,
     "metadata": {},
     "output_type": "execute_result"
    }
   ],
   "source": [
    "names = [\"joe\", \"harry\", \"rachel\", \"kelly\"]\n",
    "\"joel\" not in names\n",
    "# if \"joel\" in names:\n",
    "#     print(\"Found!\")\n",
    "# else:\n",
    "#     print(\"Not found!\")"
   ]
  },
  {
   "cell_type": "markdown",
   "metadata": {
    "id": "7V0LiNCSJXRJ"
   },
   "source": [
    "## List methods and collection functions\n",
    "\n",
    "There are a great many other built-in operations in Python that let you do things with lists. They fall into list *methods* and also built in *functions* that take a list as an argument."
   ]
  },
  {
   "cell_type": "markdown",
   "metadata": {
    "id": "haoFPw-RJxI0"
   },
   "source": [
    "### Collection functions\n",
    "\n",
    "Python has built in functions that operate on lists as arguments\n",
    "- `len()`\n",
    "- math ones: `max()`, `min()`, `sum()`\n",
    "- `sorted()`\n",
    "- look for the ones that have an \"iterable\" as as parameter type here: https://docs.python.org/3/library/functions.html\n",
    "\n",
    "These are functions, so mechanics are just like functions - function name, pass in list as an **input** argument, plus whatever other arguments might be needed, and get back some **output** value\n",
    "\n",
    "Let's play with a few!"
   ]
  },
  {
   "cell_type": "code",
   "execution_count": 79,
   "metadata": {
    "colab": {
     "base_uri": "https://localhost:8080/",
     "height": 34
    },
    "executionInfo": {
     "elapsed": 722,
     "status": "ok",
     "timestamp": 1601912542470,
     "user": {
      "displayName": "Joel Chan",
      "photoUrl": "https://lh3.googleusercontent.com/a-/AOh14GiBPPpBf_QqgDL3pMurAsPu9WJJE_x_6UtgW13UFQ=s64",
      "userId": "15153559228409906865"
     },
     "user_tz": 240
    },
    "id": "8JStG5a2Og92",
    "outputId": "1efa4ab6-651d-4ee3-8879-6f7bd61a6639"
   },
   "outputs": [
    {
     "name": "stdout",
     "output_type": "stream",
     "text": [
      "9\n"
     ]
    }
   ],
   "source": [
    "# \n",
    "x = [1, 2, 3, 1, 4, 1, 5, 10, 12]\n",
    "x_length = len(x) # get the length of x\n",
    "print(x_length)"
   ]
  },
  {
   "cell_type": "code",
   "execution_count": 80,
   "metadata": {
    "colab": {
     "base_uri": "https://localhost:8080/",
     "height": 34
    },
    "executionInfo": {
     "elapsed": 506,
     "status": "ok",
     "timestamp": 1601912581674,
     "user": {
      "displayName": "Joel Chan",
      "photoUrl": "https://lh3.googleusercontent.com/a-/AOh14GiBPPpBf_QqgDL3pMurAsPu9WJJE_x_6UtgW13UFQ=s64",
      "userId": "15153559228409906865"
     },
     "user_tz": 240
    },
    "id": "yHvKRjjZbZ6z",
    "outputId": "45a21151-32e1-4c53-8d79-ccac9880e04d"
   },
   "outputs": [
    {
     "name": "stdout",
     "output_type": "stream",
     "text": [
      "[1, 1, 1, 2, 3, 4, 5, 10, 12]\n"
     ]
    }
   ],
   "source": [
    "# make a new list that is a sorted version of x. do this if you want to keep the original list around.\n",
    "x_sorted = sorted(x) \n",
    "print(x_sorted)"
   ]
  },
  {
   "cell_type": "code",
   "execution_count": 81,
   "metadata": {
    "colab": {
     "base_uri": "https://localhost:8080/",
     "height": 69
    },
    "executionInfo": {
     "elapsed": 452,
     "status": "ok",
     "timestamp": 1601912668333,
     "user": {
      "displayName": "Joel Chan",
      "photoUrl": "https://lh3.googleusercontent.com/a-/AOh14GiBPPpBf_QqgDL3pMurAsPu9WJJE_x_6UtgW13UFQ=s64",
      "userId": "15153559228409906865"
     },
     "user_tz": 240
    },
    "id": "95EwmalVbsqr",
    "outputId": "fec77dae-3417-4ae1-c4b1-c524f4d62790"
   },
   "outputs": [
    {
     "name": "stdout",
     "output_type": "stream",
     "text": [
      "1\n",
      "12\n",
      "4.333333333333333\n"
     ]
    }
   ],
   "source": [
    "print(min(x))\n",
    "print(max(x))\n",
    "print(sum(x)/len(x)) # average, using suma nd len"
   ]
  },
  {
   "cell_type": "code",
   "execution_count": 86,
   "metadata": {},
   "outputs": [
    {
     "ename": "TypeError",
     "evalue": "unsupported operand type(s) for +: 'int' and 'str'",
     "output_type": "error",
     "traceback": [
      "\u001b[0;31m---------------------------------------------------------------------------\u001b[0m",
      "\u001b[0;31mTypeError\u001b[0m                                 Traceback (most recent call last)",
      "\u001b[0;32m/var/folders/xz/_hjc5hsx743dclmg8n5678nc0000gn/T/ipykernel_84666/4043033005.py\u001b[0m in \u001b[0;36m<module>\u001b[0;34m\u001b[0m\n\u001b[1;32m      7\u001b[0m     \u001b[0;34m\"seashore\"\u001b[0m\u001b[0;34m\u001b[0m\u001b[0;34m\u001b[0m\u001b[0m\n\u001b[1;32m      8\u001b[0m ]\n\u001b[0;32m----> 9\u001b[0;31m \u001b[0msum\u001b[0m\u001b[0;34m(\u001b[0m\u001b[0mlist_of_strings\u001b[0m\u001b[0;34m)\u001b[0m\u001b[0;34m\u001b[0m\u001b[0;34m\u001b[0m\u001b[0m\n\u001b[0m",
      "\u001b[0;31mTypeError\u001b[0m: unsupported operand type(s) for +: 'int' and 'str'"
     ]
    }
   ],
   "source": [
    "list_of_strings = [\n",
    "    \"she\",\n",
    "    \"sells\",\n",
    "    \"seashells\",\n",
    "    \"by\",\n",
    "    \"the\",\n",
    "    \"seashore\"\n",
    "]\n",
    "sum(list_of_strings)"
   ]
  },
  {
   "cell_type": "code",
   "execution_count": 88,
   "metadata": {},
   "outputs": [
    {
     "name": "stdout",
     "output_type": "stream",
     "text": [
      "['she', 'sells', 'seashells', 'by', 'the', 'seashore']\n",
      "['the', 'she', 'sells', 'seashore', 'seashells', 'by']\n"
     ]
    }
   ],
   "source": [
    "result = sorted(list_of_strings, reverse=True)\n",
    "print(list_of_strings)\n",
    "print(result)"
   ]
  },
  {
   "cell_type": "markdown",
   "metadata": {
    "id": "jhnz1Dn9Jk9W"
   },
   "source": [
    "### List methods\n",
    "\n",
    "Python lists also have *methods*. \n",
    "\n",
    "in Python, methods are like functions that only certain kinds of objects (e.g., list) can do. We'll see that many of the data structures in Python are like this, including strings in 2 weeks. And you can also create your own objects! You will learn much more about this in 326 - this is \"object oriented programming\".\n",
    "\n",
    "All of the list methods are listed (no pun intended!) here: https://docs.python.org/3/tutorial/datastructures.html\n",
    "\n",
    "Here are some common examples:"
   ]
  },
  {
   "cell_type": "code",
   "execution_count": 14,
   "metadata": {
    "colab": {
     "base_uri": "https://localhost:8080/",
     "height": 139
    },
    "executionInfo": {
     "elapsed": 386,
     "status": "ok",
     "timestamp": 1601912306276,
     "user": {
      "displayName": "Joel Chan",
      "photoUrl": "https://lh3.googleusercontent.com/a-/AOh14GiBPPpBf_QqgDL3pMurAsPu9WJJE_x_6UtgW13UFQ=s64",
      "userId": "15153559228409906865"
     },
     "user_tz": 240
    },
    "id": "ZHqVYGfVORJr",
    "outputId": "5b821998-085e-41ac-d9d0-c70506b2937b"
   },
   "outputs": [
    {
     "name": "stdout",
     "output_type": "stream",
     "text": [
      "original list: [1, 2, 3, 1, 4, 1, 5]\n",
      "\n",
      " [1, 2, 3, 1, 4, 1, 5, 4] after appending 4\n",
      "\n",
      " [1, 1, 1, 2, 3, 4, 4, 5] after sorting\n",
      "\n",
      " [5, 4, 4, 3, 2, 1, 1, 1] after sorting in reverse order\n",
      "\n",
      "number of occurences of 1 in the list: 3\n",
      "\n",
      "1 is at position 5 in the list\n",
      "\n",
      " [22, 5, 4, 4, 3, 2, 1, 1, 1] after inserting 22 at the first position\n"
     ]
    }
   ],
   "source": [
    "a_list = [1, 2, 3, 1, 4, 1, 5]\n",
    "print(\"original list:\", a_list)\n",
    "\n",
    "# add something to the end of a list (WE'LL USE THIS A LOT)\n",
    "a_list.append(4)\n",
    "print(\"\\n\", a_list, \"after appending 4\")\n",
    "\n",
    "# sort the list (WE'LL ALSO USE THIS A LOT)\n",
    "a_list.sort()\n",
    "print(\"\\n\", a_list, \"after sorting\")\n",
    "# control how you sort\n",
    "a_list.sort(reverse=True)\n",
    "print(\"\\n\", a_list, \"after sorting in reverse order\")\n",
    "\n",
    "# count how many times an item is in a list (handy for searching)\n",
    "print(\"\\nnumber of occurences of 1 in the list:\", a_list.count(1)) # how many times does the number 1 show up in this list?\n",
    "\n",
    "# where is 1 in the list?\n",
    "print(\"\\n1 is at position\", a_list.index(1), \"in the list\")\n",
    "\n",
    "# insert an item at a specific position\n",
    "a_list.insert(0, 22)\n",
    "print(\"\\n\", a_list, \"after inserting 22 at the first position\")"
   ]
  },
  {
   "cell_type": "markdown",
   "metadata": {},
   "source": [
    "#### Syntax for (list) methods\n",
    "\n",
    "Stepping back for a second, here's how it works, basically, syntax wise.\n",
    "\n",
    "`nameOfVariable.nameOfMethod(anyArgumentsTheMethodsNeed)`\n",
    "\n",
    "And in pictures:\n",
    "<img src=\"../resources/python method example.png\" height=500 width=700></img>"
   ]
  },
  {
   "cell_type": "markdown",
   "metadata": {},
   "source": [
    "Note: unlike functions, list methods change the list itself; they do *not* return a new value. Like your functions that lack return statements, the return value of list methods is `None`. "
   ]
  },
  {
   "cell_type": "code",
   "execution_count": 8,
   "metadata": {},
   "outputs": [
    {
     "name": "stdout",
     "output_type": "stream",
     "text": [
      "None\n"
     ]
    }
   ],
   "source": [
    "result = a_list.sort()\n",
    "print(result)"
   ]
  },
  {
   "cell_type": "markdown",
   "metadata": {},
   "source": [
    "If you want to keep the original list instead of modifying it directly, you should use the collection functions (e.g., `sorted()` instead of `list.sort()`). "
   ]
  },
  {
   "cell_type": "code",
   "execution_count": 77,
   "metadata": {},
   "outputs": [
    {
     "name": "stdout",
     "output_type": "stream",
     "text": [
      "[5, 2, 7, 10, 3]\n",
      "[2, 3, 5, 7, 10]\n"
     ]
    }
   ],
   "source": [
    "a_list = [5,2,7,10,3]\n",
    "result = sorted(a_list)\n",
    "print(a_list)\n",
    "print(result)"
   ]
  },
  {
   "cell_type": "markdown",
   "metadata": {
    "id": "fYsK_XmDJ70s"
   },
   "source": [
    "### Mapping methods/functions to situations\n",
    "\n",
    "Let's practice! Keep these handy, and guess/propose situations where some of these methods/functions will be useful"
   ]
  },
  {
   "cell_type": "code",
   "execution_count": null,
   "metadata": {
    "colab": {
     "base_uri": "https://localhost:8080/"
    },
    "executionInfo": {
     "elapsed": 446,
     "status": "ok",
     "timestamp": 1614612023593,
     "user": {
      "displayName": "Joel Chan",
      "photoUrl": "https://lh3.googleusercontent.com/a-/AOh14GiBPPpBf_QqgDL3pMurAsPu9WJJE_x_6UtgW13UFQ=s64",
      "userId": "15153559228409906865"
     },
     "user_tz": 300
    },
    "id": "OsO4m_5YKAFw",
    "outputId": "7845b6a7-e032-473b-cadd-54358df28608"
   },
   "outputs": [
    {
     "name": "stdout",
     "output_type": "stream",
     "text": [
      "1\n",
      "3\n",
      "[1, 2, 3]\n"
     ]
    }
   ],
   "source": [
    "# finding the smallest/biggest thing\n",
    "x = [1, 2, 3]\n",
    "\n",
    "# find the smallest?\n",
    "\n",
    "# find the biggest?\n",
    "\n",
    "# sort?\n",
    "\n",
    "# filtering"
   ]
  },
  {
   "cell_type": "markdown",
   "metadata": {
    "id": "lbpNvToHKA2H"
   },
   "source": [
    "Meta-points here\n",
    "- Get in the habit of suspecting that something you want to do probably already has a function/method written for it that you can use (that probably does it well)\n",
    "- Notice the docstrings!\n"
   ]
  },
  {
   "cell_type": "markdown",
   "metadata": {
    "id": "-iQvhWi7KGAg"
   },
   "source": [
    "## Common errors"
   ]
  },
  {
   "cell_type": "markdown",
   "metadata": {
    "id": "E9kblMRYOZJR"
   },
   "source": [
    "### Forgetting that indices start at 0\n",
    "\n",
    "As I noted earlier, remember that indices start at 0. A common error to make if you forget this, is to get something at the wrong position!"
   ]
  },
  {
   "cell_type": "code",
   "execution_count": null,
   "metadata": {
    "colab": {
     "base_uri": "https://localhost:8080/"
    },
    "executionInfo": {
     "elapsed": 448,
     "status": "ok",
     "timestamp": 1614612132459,
     "user": {
      "displayName": "Joel Chan",
      "photoUrl": "https://lh3.googleusercontent.com/a-/AOh14GiBPPpBf_QqgDL3pMurAsPu9WJJE_x_6UtgW13UFQ=s64",
      "userId": "15153559228409906865"
     },
     "user_tz": 300
    },
    "id": "u8j1JsYXOgw0",
    "outputId": "3e7fcd31-618e-4e63-a390-16c26945c4f4"
   },
   "outputs": [
    {
     "data": {
      "text/plain": [
       "2"
      ]
     },
     "execution_count": 57,
     "metadata": {
      "tags": []
     },
     "output_type": "execute_result"
    }
   ],
   "source": [
    "a = [1, 2, 3]\n",
    "a[1]"
   ]
  },
  {
   "cell_type": "markdown",
   "metadata": {
    "id": "2P-04t43Knqj"
   },
   "source": [
    "### IndexError\n",
    "\n",
    "Another common error is to try to get something from an index position that doesn't yet exist in a list.\n",
    "\n",
    "For example, the list `x = [1, 4, 5]` has 3 items (has length 3). \n",
    "\n",
    "But! If I want to get the 3rd item with `x[3]`, I will get an IndexError, because the item only has indices that go up to 2!\n",
    "\n",
    "Sometimes this happens if you forget 0-indexing, and try to get the \"3rd item\" with index 3 (instead of the correct index 2).\n",
    "\n",
    "We'll return to this error next week, because it often shows up with iteration \n"
   ]
  },
  {
   "cell_type": "code",
   "execution_count": null,
   "metadata": {
    "colab": {
     "base_uri": "https://localhost:8080/",
     "height": 181
    },
    "executionInfo": {
     "elapsed": 382,
     "status": "error",
     "timestamp": 1614612163956,
     "user": {
      "displayName": "Joel Chan",
      "photoUrl": "https://lh3.googleusercontent.com/a-/AOh14GiBPPpBf_QqgDL3pMurAsPu9WJJE_x_6UtgW13UFQ=s64",
      "userId": "15153559228409906865"
     },
     "user_tz": 300
    },
    "id": "8l94eUXEO0lK",
    "outputId": "3924face-82ba-461e-94eb-a3b9ed1b4c4b"
   },
   "outputs": [
    {
     "ename": "IndexError",
     "evalue": "ignored",
     "output_type": "error",
     "traceback": [
      "\u001b[0;31m---------------------------------------------------------------------------\u001b[0m",
      "\u001b[0;31mIndexError\u001b[0m                                Traceback (most recent call last)",
      "\u001b[0;32m<ipython-input-58-cbead83df169>\u001b[0m in \u001b[0;36m<module>\u001b[0;34m()\u001b[0m\n\u001b[1;32m      1\u001b[0m \u001b[0mx\u001b[0m \u001b[0;34m=\u001b[0m \u001b[0;34m[\u001b[0m\u001b[0;36m1\u001b[0m\u001b[0;34m,\u001b[0m \u001b[0;36m4\u001b[0m\u001b[0;34m,\u001b[0m \u001b[0;36m5\u001b[0m\u001b[0;34m]\u001b[0m\u001b[0;34m\u001b[0m\u001b[0;34m\u001b[0m\u001b[0m\n\u001b[0;32m----> 2\u001b[0;31m \u001b[0mx\u001b[0m\u001b[0;34m[\u001b[0m\u001b[0;36m3\u001b[0m\u001b[0;34m]\u001b[0m\u001b[0;34m\u001b[0m\u001b[0;34m\u001b[0m\u001b[0m\n\u001b[0m",
      "\u001b[0;31mIndexError\u001b[0m: list index out of range"
     ]
    }
   ],
   "source": [
    "x = [1, 4, 5]\n",
    "x[3]"
   ]
  },
  {
   "cell_type": "markdown",
   "metadata": {
    "id": "kjU1dyhRKZ9l"
   },
   "source": [
    "### Mixing up mutable/immutable when using methods/functions\n",
    "\n",
    "This happens most with operations that can be done wiht methods and functions, such as sorting"
   ]
  },
  {
   "cell_type": "code",
   "execution_count": null,
   "metadata": {
    "colab": {
     "base_uri": "https://localhost:8080/"
    },
    "executionInfo": {
     "elapsed": 498,
     "status": "ok",
     "timestamp": 1614612215212,
     "user": {
      "displayName": "Joel Chan",
      "photoUrl": "https://lh3.googleusercontent.com/a-/AOh14GiBPPpBf_QqgDL3pMurAsPu9WJJE_x_6UtgW13UFQ=s64",
      "userId": "15153559228409906865"
     },
     "user_tz": 300
    },
    "id": "5LDRnY23POoo",
    "outputId": "5a79b9a0-3b4b-4c59-9d4d-fdb3a9c3a3f7"
   },
   "outputs": [
    {
     "name": "stdout",
     "output_type": "stream",
     "text": [
      "[1, 7, 4, 2]\n",
      "[1, 2, 4, 7]\n"
     ]
    }
   ],
   "source": [
    "x = [1, 7, 4, 2]\n",
    "xsort = sorted(x) # don't change x, just make a  new list that is a sorted version of x\n",
    "print(x)\n",
    "print(xsort)"
   ]
  },
  {
   "cell_type": "code",
   "execution_count": 20,
   "metadata": {
    "colab": {
     "base_uri": "https://localhost:8080/"
    },
    "executionInfo": {
     "elapsed": 395,
     "status": "ok",
     "timestamp": 1614612441174,
     "user": {
      "displayName": "Joel Chan",
      "photoUrl": "https://lh3.googleusercontent.com/a-/AOh14GiBPPpBf_QqgDL3pMurAsPu9WJJE_x_6UtgW13UFQ=s64",
      "userId": "15153559228409906865"
     },
     "user_tz": 300
    },
    "id": "uKu5xkzPPh49",
    "outputId": "595a1dde-aedc-41be-f698-33fa2c9c70b4"
   },
   "outputs": [
    {
     "name": "stdout",
     "output_type": "stream",
     "text": [
      "[1, 2, 4, 7]\n",
      "None\n"
     ]
    }
   ],
   "source": [
    "x = [1, 7, 4, 2]\n",
    "xsort = x.sort() # modify x directly, we don't care if it changes, so it won't return a value and xsort will have None as its value\n",
    "print(x)\n",
    "print(xsort)"
   ]
  }
 ],
 "metadata": {
  "colab": {
   "name": "INST126_SP21_Week6_Lists_post-class.ipynb",
   "provenance": []
  },
  "kernelspec": {
   "display_name": "Python 3 (ipykernel)",
   "language": "python",
   "name": "python3"
  },
  "language_info": {
   "codemirror_mode": {
    "name": "ipython",
    "version": 3
   },
   "file_extension": ".py",
   "mimetype": "text/x-python",
   "name": "python",
   "nbconvert_exporter": "python",
   "pygments_lexer": "ipython3",
   "version": "3.9.7"
  }
 },
 "nbformat": 4,
 "nbformat_minor": 4
}
