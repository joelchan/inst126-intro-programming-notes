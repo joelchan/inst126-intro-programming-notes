{
 "cells": [
  {
   "cell_type": "markdown",
   "metadata": {},
   "source": [
    "# Debugging Practice Problems Set 1"
   ]
  },
  {
   "cell_type": "markdown",
   "metadata": {
    "id": "vDO4T3SMOoM1"
   },
   "source": [
    "### Problem 1\n",
    "\n",
    "Intent: program that takes two numbers and prints out if the first number is greater than or less than the second number\n",
    "\n",
    "#### Reproducible example"
   ]
  },
  {
   "cell_type": "code",
   "execution_count": 1,
   "metadata": {
    "colab": {
     "base_uri": "https://localhost:8080/"
    },
    "id": "bCuTAeToaoEh",
    "outputId": "78989a48-d33a-422e-c55b-ecce5a84c137"
   },
   "outputs": [
    {
     "name": "stdout",
     "output_type": "stream",
     "text": [
      "a is less than b\n"
     ]
    }
   ],
   "source": [
    "a = 3\n",
    "b = 3\n",
    "\n",
    "if (a > b):\n",
    "    print(\"a is greater than b\")\n",
    "else:\n",
    "    print(\"a is less than b\")"
   ]
  },
  {
   "cell_type": "markdown",
   "metadata": {},
   "source": [
    "#### Debugging notes"
   ]
  },
  {
   "cell_type": "code",
   "execution_count": null,
   "metadata": {
    "id": "wMaJlty2UnZV"
   },
   "outputs": [],
   "source": [
    "# debugging notes here!\n",
    "\n",
    "# what did you expect?\n",
    "\n",
    "# what did you see instead?\n",
    "\n",
    "# what do you think is going on? what's the mismatch between your model and the computer's?\n",
    "# checklist of strategies to draw from:\n",
    "# [ ] model\n",
    "# [ ] document/comment the code\n",
    "# [ ] test with diff. inputs\n",
    "# [ ] add print statements to help model what is happening / use python tutor"
   ]
  },
  {
   "cell_type": "markdown",
   "metadata": {},
   "source": [
    "#### Fixed version:"
   ]
  },
  {
   "cell_type": "code",
   "execution_count": null,
   "metadata": {},
   "outputs": [],
   "source": []
  },
  {
   "cell_type": "markdown",
   "metadata": {},
   "source": [
    "#### Explanation of fix:"
   ]
  },
  {
   "cell_type": "code",
   "execution_count": null,
   "metadata": {},
   "outputs": [],
   "source": []
  },
  {
   "cell_type": "markdown",
   "metadata": {
    "id": "NUkXtgHSnj-K",
    "tags": []
   },
   "source": [
    "### Problem 2\n",
    "\n",
    "Intent: program that adds course codes (strings) from one list to a new list if the courses are from INST (contain code INST)\n",
    "\n",
    "#### Reproducible example"
   ]
  },
  {
   "cell_type": "code",
   "execution_count": 2,
   "metadata": {
    "colab": {
     "base_uri": "https://localhost:8080/"
    },
    "id": "E4BcSLFwnixl",
    "outputId": "eb4fd261-9b5c-4e50-8d49-b419808a154e"
   },
   "outputs": [
    {
     "name": "stdout",
     "output_type": "stream",
     "text": [
      "[]\n"
     ]
    }
   ],
   "source": [
    "a = [\"INST201\", \"CMSC100\", \"STAT100\", \"INST126\", \"INST326\"]\n",
    "b = []\n",
    "for c in a:\n",
    "    if \"INST\" in a:\n",
    "        b.append(c)\n",
    "print(b)"
   ]
  },
  {
   "cell_type": "markdown",
   "metadata": {},
   "source": [
    "#### Debugging notes"
   ]
  },
  {
   "cell_type": "code",
   "execution_count": null,
   "metadata": {
    "id": "wMaJlty2UnZV"
   },
   "outputs": [],
   "source": [
    "# debugging notes here!\n",
    "\n",
    "# what did you expect?\n",
    "\n",
    "# what did you see instead?\n",
    "\n",
    "# what do you think is going on? what's the mismatch between your model and the computer's?\n",
    "# checklist of strategies to draw from:\n",
    "# [ ] model\n",
    "# [ ] document/comment the code\n",
    "# [ ] test with diff. inputs\n",
    "# [ ] add print statements to help model what is happening / use python tutor"
   ]
  },
  {
   "cell_type": "markdown",
   "metadata": {},
   "source": [
    "#### Fixed version:"
   ]
  },
  {
   "cell_type": "code",
   "execution_count": null,
   "metadata": {},
   "outputs": [],
   "source": []
  },
  {
   "cell_type": "markdown",
   "metadata": {},
   "source": [
    "#### Explanation of fix:"
   ]
  },
  {
   "cell_type": "code",
   "execution_count": null,
   "metadata": {},
   "outputs": [],
   "source": []
  },
  {
   "cell_type": "markdown",
   "metadata": {
    "id": "NUkXtgHSnj-K",
    "tags": []
   },
   "source": [
    "### Problem 3\n",
    "\n",
    "Intent: program that only grabs students with lastname wright\n",
    "\n",
    "#### Reproducible example"
   ]
  },
  {
   "cell_type": "code",
   "execution_count": 3,
   "metadata": {
    "colab": {
     "base_uri": "https://localhost:8080/"
    },
    "id": "E4BcSLFwnixl",
    "outputId": "eb4fd261-9b5c-4e50-8d49-b419808a154e"
   },
   "outputs": [
    {
     "data": {
      "text/plain": [
       "[]"
      ]
     },
     "execution_count": 3,
     "metadata": {},
     "output_type": "execute_result"
    }
   ],
   "source": [
    "# make sure you run this cell before you attempt your program\n",
    "names = [\n",
    "    'Amelia Thompson',\n",
    "    'Oscar Martinez',\n",
    "    'Sophie Wright',\n",
    "    'Miles Harrison',\n",
    "    'Isabella Wright',\n",
    "    'Lucas Patel',\n",
    "    'Ava wright',\n",
    "    'Nathan Garcia',\n",
    "    'Grace Hernandez',\n",
    "    'Ethan Brown',\n",
    "    'Avery Taylor',\n",
    "    'Jacob WrighT'\n",
    "]\n",
    "\n",
    "filtered = []\n",
    "\n",
    "for name in names:\n",
    "    elements = name.split(\" \")\n",
    "    if elements[0].lower() == \"wright\":\n",
    "        filtered.append(name)\n",
    "\n",
    "filtered"
   ]
  },
  {
   "cell_type": "markdown",
   "metadata": {},
   "source": [
    "#### Debugging notes"
   ]
  },
  {
   "cell_type": "code",
   "execution_count": null,
   "metadata": {
    "id": "wMaJlty2UnZV"
   },
   "outputs": [],
   "source": [
    "# debugging notes here!\n",
    "\n",
    "# what did you expect?\n",
    "\n",
    "# what did you see instead?\n",
    "\n",
    "# what do you think is going on? what's the mismatch between your model and the computer's?\n",
    "# checklist of strategies to draw from:\n",
    "# [ ] model\n",
    "# [ ] document/comment the code\n",
    "# [ ] test with diff. inputs\n",
    "# [ ] add print statements to help model what is happening / use python tutor"
   ]
  },
  {
   "cell_type": "markdown",
   "metadata": {},
   "source": [
    "#### Fixed version:"
   ]
  },
  {
   "cell_type": "code",
   "execution_count": null,
   "metadata": {},
   "outputs": [],
   "source": []
  },
  {
   "cell_type": "markdown",
   "metadata": {},
   "source": [
    "#### Explanation of fix:"
   ]
  },
  {
   "cell_type": "code",
   "execution_count": null,
   "metadata": {},
   "outputs": [],
   "source": []
  },
  {
   "cell_type": "markdown",
   "metadata": {},
   "source": [
    "### Problem 4 (bonus 1 pt)\n",
    "\n",
    "Intent: program that prints out uppercase versions of all strings in a list\n",
    "\n",
    "#### Reproducible example"
   ]
  },
  {
   "cell_type": "code",
   "execution_count": 4,
   "metadata": {},
   "outputs": [
    {
     "name": "stdout",
     "output_type": "stream",
     "text": [
      "wright\n",
      "friend\n",
      "Dolly\n",
      "Francis\n",
      "king\n"
     ]
    }
   ],
   "source": [
    "string_list = [\"wright\", \"friend\", \"Dolly\", \"Francis\", \"king\"]\n",
    "for s in string_list:\n",
    "    s.upper()\n",
    "    print(s)"
   ]
  },
  {
   "cell_type": "markdown",
   "metadata": {},
   "source": [
    "#### Debugging notes"
   ]
  },
  {
   "cell_type": "code",
   "execution_count": null,
   "metadata": {
    "id": "wMaJlty2UnZV"
   },
   "outputs": [],
   "source": [
    "# debugging notes here!\n",
    "\n",
    "# what did you expect?\n",
    "\n",
    "# what did you see instead?\n",
    "\n",
    "# what do you think is going on? what's the mismatch between your model and the computer's?\n",
    "# checklist of strategies to draw from:\n",
    "# [ ] model\n",
    "# [ ] document/comment the code\n",
    "# [ ] test with diff. inputs\n",
    "# [ ] add print statements to help model what is happening / use python tutor"
   ]
  },
  {
   "cell_type": "markdown",
   "metadata": {},
   "source": [
    "#### Fixed version:"
   ]
  },
  {
   "cell_type": "code",
   "execution_count": null,
   "metadata": {},
   "outputs": [],
   "source": []
  },
  {
   "cell_type": "markdown",
   "metadata": {},
   "source": [
    "#### Explanation of fix:"
   ]
  },
  {
   "cell_type": "code",
   "execution_count": null,
   "metadata": {},
   "outputs": [],
   "source": []
  }
 ],
 "metadata": {
  "colab": {
   "name": "INST126 SP21 Week10 Debugging_examples.ipynb",
   "provenance": [],
   "toc_visible": true
  },
  "kernelspec": {
   "display_name": "Python 3 (ipykernel)",
   "language": "python",
   "name": "python3"
  },
  "language_info": {
   "codemirror_mode": {
    "name": "ipython",
    "version": 3
   },
   "file_extension": ".py",
   "mimetype": "text/x-python",
   "name": "python",
   "nbconvert_exporter": "python",
   "pygments_lexer": "ipython3",
   "version": "3.9.7"
  }
 },
 "nbformat": 4,
 "nbformat_minor": 4
}
