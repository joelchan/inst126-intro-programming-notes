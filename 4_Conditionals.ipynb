{
 "cells": [
  {
   "cell_type": "markdown",
   "metadata": {
    "id": "IUP5mKyTxbRy"
   },
   "source": [
    "# 4: Conditionals"
   ]
  },
  {
   "cell_type": "markdown",
   "metadata": {
    "id": "TB-Kg9GExbRz"
   },
   "source": [
    "## Learning goals:\n",
    "- Write Boolean expressions based on English requirements\n",
    "- Explain different meta-patterns of conditional blocks (nested, chained, with alternative vs. without)\n",
    "- Construct various types of conditional blocks in Python"
   ]
  },
  {
   "cell_type": "markdown",
   "metadata": {
    "id": "g-lkfdphxbR0"
   },
   "source": [
    "## What are conditionals and why do we care about them?\n",
    "\n",
    "Basic concept: it's a fork in the road. We use conditional structures to control the flow of our program.\n",
    "\n",
    "A set of pictures might help to give the intuition:\n",
    "\n",
    "<img src=\"assets/conditional-pictures.png\" height=1000 width=1200></img>\n",
    "\n",
    "Basically anytime you find yourself at a problem step or part of your problem where you say something like \"`do something` *based on / depending on / looking at / if* `some condition`\", that is a signal that you need a conditional."
   ]
  },
  {
   "cell_type": "markdown",
   "metadata": {},
   "source": [
    "Let's brainstorm some real-world examples together! \n",
    "\n",
    "- decide what to wear: check temperature, check if i'm going to a dress code location\n",
    "- shopping: check how much money i have, check quality level of the thing, what i need; decide what to buy\n",
    "- decide what to eat: spiciness, taste, price\n",
    "- decide what section of a class to take\n",
    "- "
   ]
  },
  {
   "cell_type": "markdown",
   "metadata": {
    "id": "ifBcaTKuA2jN",
    "tags": []
   },
   "source": [
    "## Anatomy of a basic conditional block in Python"
   ]
  },
  {
   "cell_type": "markdown",
   "metadata": {},
   "source": [
    "Here's a rough diagram of a basic conditional block in Python:\n",
    "\n",
    "<img src=\"assets/conditional-logic-generic.png\" height=400 width=600></img>"
   ]
  },
  {
   "cell_type": "markdown",
   "metadata": {},
   "source": [
    "And here's what it looks like in code"
   ]
  },
  {
   "cell_type": "code",
   "execution_count": null,
   "metadata": {},
   "outputs": [],
   "source": [
    "# basic conditional block\n",
    "if BooleanExpression:\n",
    "    # do something\n",
    "    # maybe also something more\n",
    "else:\n",
    "    # do something else\n",
    "    # and maybe even more something else"
   ]
  },
  {
   "cell_type": "markdown",
   "metadata": {},
   "source": [
    "- The **if statement**\n",
    "    - The if keyword signals that a conditional block is starting.\n",
    "    - The Boolean expression determine where to go in the conditional block\n",
    "        - True goes to the if branch; False goes to the else branch\n",
    "    - The statement needs to end in a colon to signal that the statement has ended. This is the same as with function definitions, and as we will see, with iteration loops also.\n",
    "- The \"if\" (true) **branch code**: what should happen in that branch if we go down the path?\n",
    "    - Needs to be indented because of scope (same with functions; also will be true of loops)\n",
    "- The **else statement**\n",
    "    - Signals that an else branch will be specified next\n",
    "    - Just the else keyword and a colon\n",
    "- The \"else\" (false) **branch code**: what should happen in that branch if we go down the other path?\n",
    "    - Also needs to be indented"
   ]
  },
  {
   "cell_type": "markdown",
   "metadata": {},
   "source": [
    "Some examples:"
   ]
  },
  {
   "cell_type": "code",
   "execution_count": 20,
   "metadata": {},
   "outputs": [
    {
     "name": "stdin",
     "output_type": "stream",
     "text": [
      "Give me a number to check!\n",
      " 3\n"
     ]
    },
    {
     "name": "stdout",
     "output_type": "stream",
     "text": [
      "It's odd!\n"
     ]
    }
   ],
   "source": [
    "# tell me if a number is even or odd. if it's even, say even, otherwise, say odd.\n",
    "\n",
    "num = int(input(\"Give me a number to check!\\n\"))\n",
    "if num % 2 == 0: \n",
    "    print(\"It's even!\") \n",
    "else: \n",
    "    print(\"It's odd!\") "
   ]
  },
  {
   "cell_type": "code",
   "execution_count": 3,
   "metadata": {
    "colab": {
     "base_uri": "https://localhost:8080/",
     "height": 35
    },
    "executionInfo": {
     "elapsed": 366,
     "status": "ok",
     "timestamp": 1600700847004,
     "user": {
      "displayName": "Joel Chan",
      "photoUrl": "https://lh3.googleusercontent.com/a-/AOh14GiBPPpBf_QqgDL3pMurAsPu9WJJE_x_6UtgW13UFQ=s64",
      "userId": "15153559228409906865"
     },
     "user_tz": 240
    },
    "id": "S3Tqmgxc_h5Y",
    "outputId": "07807add-dd67-4c9f-bf17-5ff7933ef8ae"
   },
   "outputs": [
    {
     "name": "stdin",
     "output_type": "stream",
     "text": [
      "What's the password?\n",
      " bunny\n"
     ]
    },
    {
     "name": "stdout",
     "output_type": "stream",
     "text": [
      "Come in\n"
     ]
    }
   ],
   "source": [
    "# Password checker. Say \"come in\" if the password matches, otherwise say \"go away\"\n",
    "\n",
    "userInput = input(\"What's the password?\\n\")\n",
    "password = \"bunny\"\n",
    "# if the user input matches the password\n",
    "if userInput == password: \n",
    "    print(\"Come in\")\n",
    "else:\n",
    "    print(\"Go away\")"
   ]
  },
  {
   "cell_type": "markdown",
   "metadata": {},
   "source": [
    "Waiter checking your age on your ID, and then shows beer/alcohol menu or says \"have some water\""
   ]
  },
  {
   "cell_type": "code",
   "execution_count": 4,
   "metadata": {
    "id": "4DLKesNtGzZs"
   },
   "outputs": [
    {
     "name": "stdin",
     "output_type": "stream",
     "text": [
      "How old are you?\n",
      " 35\n"
     ]
    },
    {
     "name": "stdout",
     "output_type": "stream",
     "text": [
      "Here's the alcohol menu\n"
     ]
    }
   ],
   "source": [
    "age = int(input(\"How old are you?\\n\"))\n",
    "drinking_age = 21\n",
    "if age >= drinking_age: \n",
    "    print(\"Here's the alcohol menu\")\n",
    "else:\n",
    "    print(\"Have some water\")"
   ]
  },
  {
   "cell_type": "code",
   "execution_count": 22,
   "metadata": {},
   "outputs": [
    {
     "data": {
      "text/plain": [
       "False"
      ]
     },
     "execution_count": 22,
     "metadata": {},
     "output_type": "execute_result"
    }
   ],
   "source": [
    "False == 5"
   ]
  },
  {
   "cell_type": "markdown",
   "metadata": {
    "id": "FYVv4YjdCjfS"
   },
   "source": [
    "## A closer look at Boolean expressions\n",
    "\n",
    "All conditional blocks depend on well-crafted **Boolean Expressions**, which are expressions that evaluate to a Boolean value (i.e., True or False). This is what really determines the logic of the control of flow. So you need to make sure you're proficient with Booolean expressions.\n",
    "\n",
    "### Boolean Operators\n",
    "We use **Boolean** Operators to compare TWO pieces of data. When evaluated, they yield a Boolean value (True or False).\n",
    "\n",
    "`data1 booleanOperator data2`\n",
    "\n",
    "Here are the main ones:\n",
    "- `==` equal to / the same as\n",
    "- `!=` not equal to / different from\n",
    "- `>` greater than\n",
    "- `>=` greater than or equal to (at least)\n",
    "- `<` less than\n",
    "- `<=` less than or equal to (at most)\n",
    "\n",
    "### Logical operators\n",
    "We use **Logical** operators to combine basic Boolean expressions into more complex ones, like \"is a more than 3 and less than 5\"\n",
    "\n",
    "Here are the main ones:\n",
    "- `and` (True if *all* Boolean expressions are True)\n",
    "- `or` (True if *any* Boolean expression is True)\n",
    "- `not` (True if the Boolean expression is *not* True)\n",
    "\n",
    "Full list of comparison and logical operators [here](https://www.w3schools.com/python/python_operators.asp)"
   ]
  },
  {
   "cell_type": "markdown",
   "metadata": {
    "id": "0c6wfPPRBHdg"
   },
   "source": [
    "## Practice: Construct Boolean expressions\n",
    "Let's practice! Translate these Boolean expressions with me from English into Python.\n",
    "\n",
    "\n",
    "### Basic Boolean expressions (only Boolean operator)"
   ]
  },
  {
   "cell_type": "code",
   "execution_count": 7,
   "metadata": {
    "colab": {
     "base_uri": "https://localhost:8080/"
    },
    "executionInfo": {
     "elapsed": 604,
     "status": "ok",
     "timestamp": 1613399839255,
     "user": {
      "displayName": "Joel Chan",
      "photoUrl": "https://lh3.googleusercontent.com/a-/AOh14GiBPPpBf_QqgDL3pMurAsPu9WJJE_x_6UtgW13UFQ=s64",
      "userId": "15153559228409906865"
     },
     "user_tz": 300
    },
    "id": "0qOxB7B8BM9O",
    "outputId": "74c2135d-7b02-46c6-8cc2-3f48b59f3bb7"
   },
   "outputs": [
    {
     "data": {
      "text/plain": [
       "True"
      ]
     },
     "execution_count": 7,
     "metadata": {},
     "output_type": "execute_result"
    }
   ],
   "source": [
    "# is the driver's speed above the limit?\n",
    "speed = 75\n",
    "limit = 45\n",
    "speed > limit"
   ]
  },
  {
   "cell_type": "code",
   "execution_count": null,
   "metadata": {
    "colab": {
     "base_uri": "https://localhost:8080/"
    },
    "executionInfo": {
     "elapsed": 496,
     "status": "ok",
     "timestamp": 1613399925529,
     "user": {
      "displayName": "Joel Chan",
      "photoUrl": "https://lh3.googleusercontent.com/a-/AOh14GiBPPpBf_QqgDL3pMurAsPu9WJJE_x_6UtgW13UFQ=s64",
      "userId": "15153559228409906865"
     },
     "user_tz": 300
    },
    "id": "ZHqVYGfVORJr",
    "outputId": "70d84ccb-6263-4d7a-c027-08ee30359db4"
   },
   "outputs": [],
   "source": [
    "# do i have a passport?\n",
    "hasPassport = True # assign the value True to the passport variable\n",
    "hasPassport == True"
   ]
  },
  {
   "cell_type": "markdown",
   "metadata": {},
   "source": [
    "### Compound Boolean expressions (Boolean operators + Logical operators)"
   ]
  },
  {
   "cell_type": "code",
   "execution_count": 9,
   "metadata": {
    "colab": {
     "base_uri": "https://localhost:8080/"
    },
    "executionInfo": {
     "elapsed": 510,
     "status": "ok",
     "timestamp": 1613400162886,
     "user": {
      "displayName": "Joel Chan",
      "photoUrl": "https://lh3.googleusercontent.com/a-/AOh14GiBPPpBf_QqgDL3pMurAsPu9WJJE_x_6UtgW13UFQ=s64",
      "userId": "15153559228409906865"
     },
     "user_tz": 300
    },
    "id": "8JStG5a2Og92",
    "outputId": "c0ac24b7-40dc-4278-f5a8-acf76fb2dc47"
   },
   "outputs": [
    {
     "data": {
      "text/plain": [
       "False"
      ]
     },
     "execution_count": 9,
     "metadata": {},
     "output_type": "execute_result"
    }
   ],
   "source": [
    "# have i passed all the requirements for graduation?\n",
    "# which is operationalized as \"do i have enough credits, with enough GPA?\"\n",
    "num_credits = 120 # threshold of 120\n",
    "GPA = 1.5 # threshold of 2.0\n",
    "num_credits >= 120 and GPA >= 2.5"
   ]
  },
  {
   "cell_type": "code",
   "execution_count": 11,
   "metadata": {
    "colab": {
     "base_uri": "https://localhost:8080/"
    },
    "executionInfo": {
     "elapsed": 570,
     "status": "ok",
     "timestamp": 1613400346471,
     "user": {
      "displayName": "Joel Chan",
      "photoUrl": "https://lh3.googleusercontent.com/a-/AOh14GiBPPpBf_QqgDL3pMurAsPu9WJJE_x_6UtgW13UFQ=s64",
      "userId": "15153559228409906865"
     },
     "user_tz": 300
    },
    "id": "5LDRnY23POoo",
    "outputId": "787449b7-f6e2-4ff5-9b17-a2d13d8ac4a3"
   },
   "outputs": [
    {
     "data": {
      "text/plain": [
       "True"
      ]
     },
     "execution_count": 11,
     "metadata": {},
     "output_type": "execute_result"
    }
   ],
   "source": [
    "# did i take the prereq for the class OR get permissionm from the instructor?\n",
    "took_prereq = False\n",
    "have_permission = True\n",
    "took_prereq or have_permission"
   ]
  },
  {
   "cell_type": "code",
   "execution_count": 12,
   "metadata": {
    "colab": {
     "base_uri": "https://localhost:8080/",
     "height": 35
    },
    "executionInfo": {
     "elapsed": 335,
     "status": "ok",
     "timestamp": 1600701562660,
     "user": {
      "displayName": "Joel Chan",
      "photoUrl": "https://lh3.googleusercontent.com/a-/AOh14GiBPPpBf_QqgDL3pMurAsPu9WJJE_x_6UtgW13UFQ=s64",
      "userId": "15153559228409906865"
     },
     "user_tz": 240
    },
    "id": "uKu5xkzPPh49",
    "outputId": "eacb8c7d-ce6f-427d-ca22-2957425fbc9a"
   },
   "outputs": [
    {
     "data": {
      "text/plain": [
       "True"
      ]
     },
     "execution_count": 12,
     "metadata": {},
     "output_type": "execute_result"
    }
   ],
   "source": [
    "# is the driver not wearing a seat belt?\n",
    "seatBelt = False\n",
    "not seatBelt"
   ]
  },
  {
   "cell_type": "code",
   "execution_count": 13,
   "metadata": {
    "colab": {
     "base_uri": "https://localhost:8080/"
    },
    "executionInfo": {
     "elapsed": 487,
     "status": "ok",
     "timestamp": 1613400714183,
     "user": {
      "displayName": "Joel Chan",
      "photoUrl": "https://lh3.googleusercontent.com/a-/AOh14GiBPPpBf_QqgDL3pMurAsPu9WJJE_x_6UtgW13UFQ=s64",
      "userId": "15153559228409906865"
     },
     "user_tz": 300
    },
    "id": "q7fSYrgyP7Ar",
    "outputId": "1367118b-1e14-485a-8cb7-97584d3162a0"
   },
   "outputs": [
    {
     "data": {
      "text/plain": [
       "True"
      ]
     },
     "execution_count": 13,
     "metadata": {},
     "output_type": "execute_result"
    }
   ],
   "source": [
    "# is the professor in the office and the door open more than a crack (at least 15 degrees) or there is a sign that says come on in or you have an appointment?\n",
    "prof_in_office = True\n",
    "door_angle = 5\n",
    "sign_says = \"Come in\"\n",
    "haveAppointment = True\n",
    "prof_in_office and door_angle >= 15 or sign_says == \"Come in\" or haveAppointment"
   ]
  },
  {
   "cell_type": "markdown",
   "metadata": {
    "id": "LcXUfJ1qCmZD"
   },
   "source": [
    "## Practice: construct basic conditional blocks\n",
    "\n",
    "Now let's practice constructing conditional blocks! Follow along with me to translate these English instructions into conditional blocks. We basically need to 1) decide what the condition is and translate it into a Boolean expression, then 2) decide what actions go in the \"true\" or \"false\" branches.\n",
    "\n",
    "If my speed is above the limit, print stop; otherwise, let me pass."
   ]
  },
  {
   "cell_type": "code",
   "execution_count": 16,
   "metadata": {
    "colab": {
     "base_uri": "https://localhost:8080/"
    },
    "executionInfo": {
     "elapsed": 497,
     "status": "ok",
     "timestamp": 1613400839676,
     "user": {
      "displayName": "Joel Chan",
      "photoUrl": "https://lh3.googleusercontent.com/a-/AOh14GiBPPpBf_QqgDL3pMurAsPu9WJJE_x_6UtgW13UFQ=s64",
      "userId": "15153559228409906865"
     },
     "user_tz": 300
    },
    "id": "Dz1JKnykDI0c",
    "outputId": "98991791-76bb-4565-e1ca-e9704b333364"
   },
   "outputs": [
    {
     "name": "stdout",
     "output_type": "stream",
     "text": [
      "Go ahead\n"
     ]
    }
   ],
   "source": [
    "# if my speed is above the limit, print stop; otherwise, let me pass\n",
    "speed = 25\n",
    "limit = 45\n",
    "if speed > limit:\n",
    "    print(\"Stop\")\n",
    "else:\n",
    "    print(\"Go ahead\")"
   ]
  },
  {
   "cell_type": "markdown",
   "metadata": {},
   "source": [
    "If i have a passport, print come on in; otherwise, print go away"
   ]
  },
  {
   "cell_type": "code",
   "execution_count": 17,
   "metadata": {
    "colab": {
     "base_uri": "https://localhost:8080/"
    },
    "executionInfo": {
     "elapsed": 496,
     "status": "ok",
     "timestamp": 1613400894868,
     "user": {
      "displayName": "Joel Chan",
      "photoUrl": "https://lh3.googleusercontent.com/a-/AOh14GiBPPpBf_QqgDL3pMurAsPu9WJJE_x_6UtgW13UFQ=s64",
      "userId": "15153559228409906865"
     },
     "user_tz": 300
    },
    "id": "AYdK47-AQ0s_",
    "outputId": "818adb29-13cd-4cb4-ecef-59b815cc6023"
   },
   "outputs": [
    {
     "name": "stdout",
     "output_type": "stream",
     "text": [
      "Go away\n"
     ]
    }
   ],
   "source": [
    "# if i have a passport, print come on in; otherwise, print go away\n",
    "# do i have a passport?\n",
    "hasPassport = False # assign the value True to the passport variable\n",
    "if hasPassport:\n",
    "    print(\"Come on in\")\n",
    "else:\n",
    "    print(\"Go away\")"
   ]
  },
  {
   "cell_type": "markdown",
   "metadata": {},
   "source": [
    "if i have passed all the requirements for graduation, print gradaute! otherwise, print need to do more"
   ]
  },
  {
   "cell_type": "code",
   "execution_count": null,
   "metadata": {
    "colab": {
     "base_uri": "https://localhost:8080/"
    },
    "executionInfo": {
     "elapsed": 507,
     "status": "ok",
     "timestamp": 1613401024364,
     "user": {
      "displayName": "Joel Chan",
      "photoUrl": "https://lh3.googleusercontent.com/a-/AOh14GiBPPpBf_QqgDL3pMurAsPu9WJJE_x_6UtgW13UFQ=s64",
      "userId": "15153559228409906865"
     },
     "user_tz": 300
    },
    "id": "6FSNM3KjRA5t",
    "outputId": "3219fcd1-1dce-4f4b-8ba3-ae9dd72f106d"
   },
   "outputs": [],
   "source": [
    "# if i have passed all the requirements for graduation, print gradaute! otherwise, print need to do more\n",
    "# did i accumulate at least 120 credits AND earn at least a 2.0 GPA?\n",
    "# did i take the prereq for the class OR get permissionm from the instructor?\n",
    "num_credits = 110 # threshold of 120\n",
    "GPA = 1.9 # threshold of 2.0\n",
    "if num_credits >= 120 and GPA >= 2.5:\n",
    "    print(\"Graduate\")}\n",
    "else:\n",
    "    print(\"Don't graduate\")"
   ]
  },
  {
   "cell_type": "markdown",
   "metadata": {
    "id": "ffHIlz8iDDLM"
   },
   "source": [
    "## Aside: the concept of scope\n",
    "\n",
    "Notice the idea of branch code: it's code that \"belongs\" to the branch. We only run it if we go into the branch. But also, variables that are defined in the scope of the if statement stay in there.\n",
    "\n",
    "This is the same thing that happens with functions. Whatever you define in the function is scoped to inside that function.\n",
    "\n",
    "In Python, we control what belongs to what with **indentation**. In other languages, you use things like curly braces (e.g., Java, Javascript)\n",
    "\n",
    "As an example, consider the following example code: how many times do you think we will print the message \"hello world\"? Why?"
   ]
  },
  {
   "cell_type": "code",
   "execution_count": null,
   "metadata": {
    "colab": {
     "base_uri": "https://localhost:8080/"
    },
    "executionInfo": {
     "elapsed": 612,
     "status": "ok",
     "timestamp": 1613401232245,
     "user": {
      "displayName": "Joel Chan",
      "photoUrl": "https://lh3.googleusercontent.com/a-/AOh14GiBPPpBf_QqgDL3pMurAsPu9WJJE_x_6UtgW13UFQ=s64",
      "userId": "15153559228409906865"
     },
     "user_tz": 300
    },
    "id": "w2qU4ufVRm1T",
    "outputId": "da460ae5-ff2a-435b-f252-cc42a2665e2f"
   },
   "outputs": [],
   "source": [
    "# if i have passed all the requirements for graduation, print gradaute! otherwise, print need to do more\n",
    "# did i accumulate at least 25 credits AND earn at least a 3.0 GPA?\n",
    "n_credits = 30\n",
    "gpa = 3.95\n",
    "hello = \"hello world!\"\n",
    "if n_credits >= 25 and gpa >= 3.0:\n",
    "    print(\"Go ahead\")\n",
    "    print(hello)\n",
    "    a_in_f = 5 # this will not be available outside of the scope of hte if statement block\n",
    "else:\n",
    "    print(\"Take more classes\")\n",
    "    print(hello)"
   ]
  },
  {
   "cell_type": "markdown",
   "metadata": {},
   "source": [
    "The answer: only once! Because both print statements are scoped (indented inside) a conditional branch, it will only execute once: either in the true (if) branch or the false (else) branch."
   ]
  },
  {
   "cell_type": "markdown",
   "metadata": {
    "id": "21v9caNsEE1A"
   },
   "source": [
    "## More complex conditional structures\n",
    "The if / else conditional block is the most basic and easy to understand. But often your programs may require something a bit simpler, and sometimes a bit more complex."
   ]
  },
  {
   "cell_type": "markdown",
   "metadata": {
    "id": "oh3kS5FLBquN"
   },
   "source": [
    "### Conditional execution\n",
    "\n",
    "The `else` branch is actually optional. Sometimes you just want to do something if it's true, otherwise you do nothing. \n",
    "\n",
    "The flow looks like this:\n",
    "\n",
    "<img src=\"assets/conditional-logic-noelse.png\" height=400 width=600></img>\n",
    "\n",
    "Some examples:\n",
    "- Only stop someone if they're above the speed limit\n",
    "- Tell me if someone is coming!\n",
    "- Look through the bag and only pull out the red skittles\n",
    "- Can you think of any others?\n"
   ]
  },
  {
   "cell_type": "code",
   "execution_count": null,
   "metadata": {},
   "outputs": [],
   "source": [
    "# generic\n",
    "if booleanExpression:\n",
    "    # do something"
   ]
  },
  {
   "cell_type": "code",
   "execution_count": null,
   "metadata": {
    "id": "ttMHXVzySS8m"
   },
   "outputs": [],
   "source": [
    "speed = 25\n",
    "limit = 30\n",
    "if speed > limit:\n",
    "    print(\"Stop!\")"
   ]
  },
  {
   "cell_type": "markdown",
   "metadata": {
    "id": "jszuKPe9CrGP"
   },
   "source": [
    "Keywords/phrases that signal that this is appropriate?\n",
    "- if only one \"choice\" (or action) is described, then probably you don't need an else, since \"doing nothing\" is a default action"
   ]
  },
  {
   "cell_type": "markdown",
   "metadata": {
    "id": "VZzGfpRdB6ca",
    "tags": []
   },
   "source": [
    "### Chained conditionals\n",
    "\n",
    "Sometimes you have more than two choices of paths (branches). In that case you need an elif. \n",
    "\n",
    "The difference from the basic conditional is something like this:\n",
    "\n",
    "<img src=\"assets/conditional-logic-chained.png\" height=400 width=600></img>\n",
    "\n",
    "Simple example: you have a fever if you're above 100, hypothermia if you're under 95; otherwise, you're all good! \n",
    "\n",
    "Or, choosing an outfit depending on where you want to go (in the Spring in Maryland!).\n",
    "\n",
    "Or, choosing a football play depending on what you think the defense is showing.\n",
    "\n",
    "Any other examples?\n",
    "\n",
    "The key difference between this type of conditional block and the regular \"if/else\" blocks is that you need more than one Boolean expression; one for each `if` or `elif` statement."
   ]
  },
  {
   "cell_type": "markdown",
   "metadata": {},
   "source": [
    "Here's the generic structure:"
   ]
  },
  {
   "cell_type": "code",
   "execution_count": null,
   "metadata": {},
   "outputs": [],
   "source": [
    "if someCondition:\n",
    "    # then something\n",
    "elif someOtherCondition:\n",
    "    # then something else\n",
    "else:\n",
    "    # some default (this is technicallly optional\n",
    "    # but if you leave it out, you may have some unexpected edge cases you didnt' account for!"
   ]
  },
  {
   "cell_type": "code",
   "execution_count": null,
   "metadata": {},
   "outputs": [],
   "source": [
    "if gpa >= gpa_threshold and required_courses >= req_threshold:\n",
    "    # then something\n",
    "    print(\"graduate!\")\n",
    "elif gpa >= gpa_threshold and required_courses < req_threshold:\n",
    "    # then something else\n",
    "    print(\"take more required courses\")\n",
    "elif gpa < gpa_threshold and required_courses >= req_threshold:\n",
    "    print(\"take an easy course!\")\n",
    "else:\n",
    "    print(\"talk to an advisor\")"
   ]
  },
  {
   "cell_type": "code",
   "execution_count": null,
   "metadata": {
    "id": "BaHh7pSfCCNm"
   },
   "outputs": [],
   "source": [
    "# example\n",
    "temp_f = 97\n",
    "if temp_f >= 100:\n",
    "    print(\"fever!\")\n",
    "elif temp_f < 70: # need another Boolean expression\n",
    "    print(\"hypothermia!\")\n",
    "else:\n",
    "    print(\"all good!\")"
   ]
  },
  {
   "cell_type": "markdown",
   "metadata": {
    "id": "7VgOXvQWCyJH"
   },
   "source": [
    "Keywords/phrases that signal that this is appropriate?\n",
    "\n",
    "When you see more than two **conditions** or **choices**\n",
    "\n"
   ]
  },
  {
   "cell_type": "markdown",
   "metadata": {
    "id": "19fV3icBCCu0"
   },
   "source": [
    "Practice! Let's translate these English instructions into Python conditional blocks.\n",
    "\n",
    "ticket pricing: if you're under 5 or 65 and up, price is zero; if you're theater staff, you get half price (7.50); otherwise pay normal price (15)"
   ]
  },
  {
   "cell_type": "code",
   "execution_count": null,
   "metadata": {
    "colab": {
     "base_uri": "https://localhost:8080/"
    },
    "executionInfo": {
     "elapsed": 527,
     "status": "ok",
     "timestamp": 1613402041897,
     "user": {
      "displayName": "Joel Chan",
      "photoUrl": "https://lh3.googleusercontent.com/a-/AOh14GiBPPpBf_QqgDL3pMurAsPu9WJJE_x_6UtgW13UFQ=s64",
      "userId": "15153559228409906865"
     },
     "user_tz": 300
    },
    "id": "9Js_HCT58gTA",
    "outputId": "6498e042-f8ed-483e-d8e4-2f49d34ff989"
   },
   "outputs": [],
   "source": [
    "# ticket pricing: \n",
    "# if you're under 5 or 65 and up, price is zero; \n",
    "# if you're theater staff, you get half price (7.50); \n",
    "# otherwise pay normal price (15)\n",
    "age = 65\n",
    "theater_staff = True\n",
    "if age < 5 or age >= 65:\n",
    "    price = 0\n",
    "elif theater_staff == True:\n",
    "    price = 7.50\n",
    "else:\n",
    "    price = 15"
   ]
  },
  {
   "cell_type": "markdown",
   "metadata": {},
   "source": [
    "help me write the grader for late assignments: if you submit before target date, you get full credit; if you submit after the target date, but before the last day of the period, you get 85% credit - if you submit on the last day of period, you get 70% credit"
   ]
  },
  {
   "cell_type": "code",
   "execution_count": 19,
   "metadata": {
    "colab": {
     "base_uri": "https://localhost:8080/"
    },
    "executionInfo": {
     "elapsed": 405,
     "status": "ok",
     "timestamp": 1614004217307,
     "user": {
      "displayName": "Joel Chan",
      "photoUrl": "https://lh3.googleusercontent.com/a-/AOh14GiBPPpBf_QqgDL3pMurAsPu9WJJE_x_6UtgW13UFQ=s64",
      "userId": "15153559228409906865"
     },
     "user_tz": 300
    },
    "id": "ydD9Jqk8UFhJ",
    "outputId": "541fc550-213b-47be-f786-e2c626eda554"
   },
   "outputs": [
    {
     "name": "stdout",
     "output_type": "stream",
     "text": [
      "1\n"
     ]
    }
   ],
   "source": [
    "# help me write the updated grader for your PCEs: \n",
    "# if you submit before target date, you get full credit; \n",
    "# if you submit after the target date, but before or equal 1 week threshold, you get 85% credit\n",
    "# if you submit after 1` week threshold, but before or equal to 2 week threshold, you get 70% credit\n",
    "# otherwise, you get no credit\n",
    "\n",
    "submission_date = 35\n",
    "target_date = 36\n",
    "score = 1\n",
    "\n",
    "if submission_date <= target_date:\n",
    "    print(score)\n",
    "elif submission_date <= target_date + 1:\n",
    "    print(0.85*score)\n",
    "elif submission_date <= target_date + 2:\n",
    "    print(0.7*score)\n",
    "else:\n",
    "    print(0.0)"
   ]
  },
  {
   "cell_type": "markdown",
   "metadata": {
    "id": "_1BiX-ZSCO_O",
    "tags": []
   },
   "source": [
    "### Nested conditionals\n",
    "\n",
    "Sometimes it only makes sense to check a condition if earlier conditions are true/false. This is like a garden of forking paths or choose your own adventure. Sometimes this to save time/operations. Other times, it may make your program more readable.\n",
    "\n",
    "I like to think of it like a choose your own adventure maze:\n",
    "<img src=\"assets/conditional-logic-nested-cyoa.png\" height=400 width=600></img>\n",
    "\n",
    "Simple example: I want to know if x is the same, less than, or greater than y. We can represent this as a chained conditional with three conditions. But we can also group the less than or greater than conditional block by itself since that only make sense in the situation where x and y are *not* the same (i.e., `x != y`)."
   ]
  },
  {
   "cell_type": "code",
   "execution_count": null,
   "metadata": {},
   "outputs": [],
   "source": [
    "if x == y:\n",
    "    print(\"x and y are equal\")\n",
    "else:\n",
    "    if x < y:\n",
    "        print(\"x is less than y\")\n",
    "    else:\n",
    "        print(\"x is greater than y\")"
   ]
  },
  {
   "cell_type": "markdown",
   "metadata": {},
   "source": [
    "Another simple example: graduation requirements: if you've completed the base requirements and you have a 3.0 average, then we check: do you have sufficient electives? if yes, then great! if not, take more electives. if you don't have the core requirements done, then you need to take care of that first, we'll worry about electives later."
   ]
  },
  {
   "cell_type": "code",
   "execution_count": null,
   "metadata": {
    "id": "zQ5U8v4dGHI0"
   },
   "outputs": [],
   "source": [
    "if n_credits >= credit_threshold and GPA >= 3.0:\n",
    "    if n_electives >= electives_threshold:\n",
    "        print(\"Ready to graduate!\")\n",
    "    else:\n",
    "        print(\"Get more electives!\")\n",
    "else:\n",
    "    print(\"Finish core requirements with sufficient GPA!\")"
   ]
  },
  {
   "cell_type": "markdown",
   "metadata": {
    "id": "za2LAdfFDHww"
   },
   "source": [
    "Keywords/phrases that signal that this is appropriate? Something about having more than two choices, but some choices only make sense if some earlier condition is met. In other words, we have more of multiple forks, rather than a single fork."
   ]
  },
  {
   "cell_type": "markdown",
   "metadata": {
    "id": "Nyxk2KfLIDXz"
   },
   "source": [
    "Practice! Let's translate these English instructions into Python conditional blocks.\n",
    "\n",
    "Polling booth: if you don't have an id, go away and register, then come back; if you have an id come on in! then, if you need assistance, go to the assisted booth; otherwise, go to the normal booth."
   ]
  },
  {
   "cell_type": "code",
   "execution_count": null,
   "metadata": {
    "id": "KCe_GVMMICZh"
   },
   "outputs": [],
   "source": [
    "# polling booth: if your registration doesn't match this location, go away to the right place; if yes, then come on in! \n",
    "# then, if you need assistance, go to the assisted booth; otherwise, go to the normal booth.\n",
    "registration_here = True\n",
    "need_assistance = False\n",
    "\n",
    "if not registration_here:\n",
    "    print(\"Go away to your actual registration location\")\n",
    "else:\n",
    "    if need_assistance:\n",
    "        print(\"Go to assisted booth\")\n",
    "    else:\n",
    "        print(\"Go to normal booth\")"
   ]
  },
  {
   "cell_type": "markdown",
   "metadata": {},
   "source": [
    "Some people may say that sometimes this sort of code isn't great practice, because it can be hard to understand and debug. I'm not sure I completely agree. I think it depends on the structure of your problem. I like to write nested conditionals when the underlying logic is really like a garden of forking paths or choose your own adventure game."
   ]
  },
  {
   "cell_type": "markdown",
   "metadata": {},
   "source": [
    "## Common errors\n",
    "\n",
    "### Syntax and indentation errors\n",
    "e.g., forgetting the colon, or forgetting to indent\n",
    "\n",
    "Best recommendation is to use templates for now as you set them up.\n",
    "\n",
    "### Boolean expression errors\n",
    "Most commonly, using `=` (this is assigning!) instead of `==` (the Boolean operator you actually want)! \n",
    "\n",
    "### Semantic errors\n",
    "Not covering all your bases or mapping the wrong conditions to outcomes.\n",
    "\n",
    "It can be helpful to diagram out or make a truth table to map out the conditions and outcomes to make sure you're covering all your bases. Example here for Project 1: https://docs.google.com/spreadsheets/d/1-q5XXbMDoji8AMVWxgUf5GW5CUOJfiWQTTV6u0-DwF8/edit?usp=sharing"
   ]
  },
  {
   "cell_type": "code",
   "execution_count": null,
   "metadata": {},
   "outputs": [],
   "source": []
  }
 ],
 "metadata": {
  "colab": {
   "name": "INST126_SP21_Week4_Conditionals_post-class.ipynb",
   "provenance": [],
   "toc_visible": true
  },
  "kernelspec": {
   "display_name": "Python 3 (ipykernel)",
   "language": "python",
   "name": "python3"
  },
  "language_info": {
   "codemirror_mode": {
    "name": "ipython",
    "version": 3
   },
   "file_extension": ".py",
   "mimetype": "text/x-python",
   "name": "python",
   "nbconvert_exporter": "python",
   "pygments_lexer": "ipython3",
   "version": "3.9.7"
  },
  "toc": {
   "base_numbering": 1,
   "nav_menu": {},
   "number_sections": false,
   "sideBar": true,
   "skip_h1_title": false,
   "title_cell": "Table of Contents",
   "title_sidebar": "Contents",
   "toc_cell": false,
   "toc_position": {},
   "toc_section_display": true,
   "toc_window_display": false
  }
 },
 "nbformat": 4,
 "nbformat_minor": 4
}
