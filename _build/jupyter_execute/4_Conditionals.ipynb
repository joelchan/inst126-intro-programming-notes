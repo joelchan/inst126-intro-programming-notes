{
 "cells": [
  {
   "cell_type": "markdown",
   "id": "9dd54607",
   "metadata": {
    "id": "IUP5mKyTxbRy"
   },
   "source": [
    "# 4: Conditionals"
   ]
  },
  {
   "cell_type": "markdown",
   "id": "a9fd2114",
   "metadata": {
    "id": "TB-Kg9GExbRz"
   },
   "source": [
    "## Learning goals:\n",
    "- Write Boolean expressions based on English requirements\n",
    "- Explain different meta-patterns of conditional blocks (nested, chained, with alternative vs. without)\n",
    "- Construct various types of conditional blocks in Python"
   ]
  },
  {
   "cell_type": "markdown",
   "id": "21947119",
   "metadata": {
    "id": "g-lkfdphxbR0"
   },
   "source": [
    "## What are conditionals and why do we care about them?\n",
    "\n",
    "Basic concept: it's a fork in the road. We use conditional structures to control the flow of our program.\n",
    "\n",
    "A set of pictures might help to give the intuition:\n",
    "\n",
    "```{image} assets/conditional-pictures.png\n",
    ":class: bg-primary mb-1\n",
    ":width: 1000px\n",
    ":align: center\n",
    "```\n",
    "\n",
    "Basically anytime you find yourself at a problem step or part of your problem where you say something like \"`do something` *based on / depending on / looking at / if* `some condition`\", that is a signal that you need a conditional."
   ]
  },
  {
   "cell_type": "markdown",
   "id": "330a61f0",
   "metadata": {},
   "source": [
    "Let's brainstorm some real-world examples together! \n",
    "\n",
    "- decide what to wear: check temperature, check if i'm going to a dress code location\n",
    "- shopping: check how much money i have, check quality level of the thing, what i need; decide what to buy\n",
    "- decide what to eat: spiciness, taste, price\n",
    "- decide what section of a class to take\n",
    "-"
   ]
  },
  {
   "cell_type": "markdown",
   "id": "f0c7a3bd",
   "metadata": {
    "id": "ifBcaTKuA2jN",
    "tags": []
   },
   "source": [
    "## Anatomy of a basic conditional block in Python"
   ]
  },
  {
   "cell_type": "markdown",
   "id": "d2b265cd",
   "metadata": {},
   "source": [
    "Here's a rough diagram of a basic conditional block in Python:\n",
    "\n",
    "```{image} assets/conditional-logic-generic.png\n",
    ":class: bg-primary mb-1\n",
    ":width: 600px\n",
    ":align: center\n",
    "```"
   ]
  },
  {
   "cell_type": "markdown",
   "id": "f5582ab7",
   "metadata": {},
   "source": [
    "And here's what it looks like in code\n",
    "\n",
    "```\n",
    "# basic conditional block\n",
    "if BooleanExpression:\n",
    "    # do something\n",
    "    # maybe also something more\n",
    "else:\n",
    "    # do something else\n",
    "    # and maybe even more something else\n",
    "```\n",
    "\n",
    "- The **if statement**\n",
    "    - The if keyword signals that a conditional block is starting.\n",
    "    - The Boolean expression determine where to go in the conditional block\n",
    "        - True goes to the if branch; False goes to the else branch\n",
    "    - The statement needs to end in a colon to signal that the statement has ended. This is the same as with function definitions, and as we will see, with iteration loops also.\n",
    "- The \"if\" (true) **branch code**: what should happen in that branch if we go down the path?\n",
    "    - Needs to be indented because of scope (same with functions; also will be true of loops)\n",
    "- The **else statement**\n",
    "    - Signals that an else branch will be specified next\n",
    "    - Just the else keyword and a colon\n",
    "- The \"else\" (false) **branch code**: what should happen in that branch if we go down the other path?\n",
    "    - Also needs to be indented"
   ]
  },
  {
   "cell_type": "markdown",
   "id": "4a9bddd9",
   "metadata": {},
   "source": [
    "Some examples:"
   ]
  },
  {
   "cell_type": "code",
   "execution_count": 1,
   "id": "44b72ac8",
   "metadata": {},
   "outputs": [
    {
     "name": "stdout",
     "output_type": "stream",
     "text": [
      "It's odd!\n"
     ]
    }
   ],
   "source": [
    "# tell me if a number is even or odd. if it's even, say even, otherwise, say odd.\n",
    "\n",
    "num = 3\n",
    "if num % 2 == 0: \n",
    "    print(\"It's even!\") \n",
    "else: \n",
    "    print(\"It's odd!\") "
   ]
  },
  {
   "cell_type": "code",
   "execution_count": 2,
   "id": "1f54df80",
   "metadata": {},
   "outputs": [
    {
     "name": "stdout",
     "output_type": "stream",
     "text": [
      "Go away\n"
     ]
    }
   ],
   "source": [
    "# Password checker. Say \"come in\" if the password matches, otherwise say \"go away\"\n",
    "\n",
    "userInput = \"hello\"\n",
    "password = \"bunny\"\n",
    "# if the user input matches the password\n",
    "if userInput == password: \n",
    "    print(\"Come in\")\n",
    "else:\n",
    "    print(\"Go away\")"
   ]
  },
  {
   "cell_type": "markdown",
   "id": "14bb732d",
   "metadata": {},
   "source": [
    "Waiter checking your age on your ID, and then shows beer/alcohol menu or says \"have some water\""
   ]
  },
  {
   "cell_type": "code",
   "execution_count": 3,
   "id": "513bb855",
   "metadata": {},
   "outputs": [
    {
     "name": "stdout",
     "output_type": "stream",
     "text": [
      "Here's the alcohol menu\n"
     ]
    }
   ],
   "source": [
    "age = 23\n",
    "drinking_age = 21\n",
    "if age >= drinking_age: \n",
    "    print(\"Here's the alcohol menu\")\n",
    "else:\n",
    "    print(\"Have some water\")"
   ]
  },
  {
   "cell_type": "markdown",
   "id": "7b4b4394",
   "metadata": {},
   "source": [
    "## A closer look at Boolean expressions\n",
    "\n",
    "All conditional blocks depend on well-crafted **Boolean Expressions**, which are expressions that evaluate to a Boolean value (i.e., True or False). This is what really determines the logic of the control of flow. So you need to make sure you're proficient with Booolean expressions.\n",
    "\n",
    "### Boolean Operators\n",
    "We use **Boolean** Operators to compare TWO pieces of data. When evaluated, they yield a Boolean value (True or False).\n",
    "\n",
    "`data1 booleanOperator data2`\n",
    "\n",
    "Here are the main ones:\n",
    "- `==` equal to / the same as\n",
    "- `!=` not equal to / different from\n",
    "- `>` greater than\n",
    "- `>=` greater than or equal to (at least)\n",
    "- `<` less than\n",
    "- `<=` less than or equal to (at most)\n",
    "\n",
    "### Logical operators\n",
    "We use **Logical** operators to combine basic Boolean expressions into more complex ones, like \"is a more than 3 and less than 5\"\n",
    "\n",
    "Here are the main ones:\n",
    "- `and` (True if *all* Boolean expressions are True)\n",
    "- `or` (True if *any* Boolean expression is True)\n",
    "- `not` (True if the Boolean expression is *not* True)\n",
    "\n",
    "Full list of comparison and logical operators [here](https://www.w3schools.com/python/python_operators.asp)"
   ]
  },
  {
   "cell_type": "markdown",
   "id": "ad044ac5",
   "metadata": {
    "id": "0c6wfPPRBHdg"
   },
   "source": [
    "## Practice: Construct Boolean expressions\n",
    "Let's practice! Translate these Boolean expressions with me from English into Python.\n",
    "\n",
    "\n",
    "### Basic Boolean expressions (only Boolean operator)"
   ]
  },
  {
   "cell_type": "code",
   "execution_count": 4,
   "id": "001882dd",
   "metadata": {},
   "outputs": [
    {
     "data": {
      "text/plain": [
       "True"
      ]
     },
     "execution_count": 4,
     "metadata": {},
     "output_type": "execute_result"
    }
   ],
   "source": [
    "# is the driver's speed above the limit?\n",
    "speed = 75\n",
    "limit = 45\n",
    "speed > limit"
   ]
  },
  {
   "cell_type": "code",
   "execution_count": 5,
   "id": "544b2f93",
   "metadata": {},
   "outputs": [
    {
     "data": {
      "text/plain": [
       "True"
      ]
     },
     "execution_count": 5,
     "metadata": {},
     "output_type": "execute_result"
    }
   ],
   "source": [
    "# do i have a passport?\n",
    "hasPassport = True # assign the value True to the passport variable\n",
    "hasPassport == True"
   ]
  },
  {
   "cell_type": "markdown",
   "id": "ff00286d",
   "metadata": {},
   "source": [
    "### Compound Boolean expressions (Boolean operators + Logical operators)"
   ]
  },
  {
   "cell_type": "code",
   "execution_count": 6,
   "id": "a84a0204",
   "metadata": {},
   "outputs": [
    {
     "data": {
      "text/plain": [
       "False"
      ]
     },
     "execution_count": 6,
     "metadata": {},
     "output_type": "execute_result"
    }
   ],
   "source": [
    "# have i passed all the requirements for graduation?\n",
    "# which is operationalized as \"do i have enough credits, with enough GPA?\"\n",
    "num_credits = 120 # threshold of 120\n",
    "GPA = 1.5 # threshold of 2.0\n",
    "num_credits >= 120 and GPA >= 2.5"
   ]
  },
  {
   "cell_type": "code",
   "execution_count": 7,
   "id": "7b5627b8",
   "metadata": {},
   "outputs": [
    {
     "data": {
      "text/plain": [
       "True"
      ]
     },
     "execution_count": 7,
     "metadata": {},
     "output_type": "execute_result"
    }
   ],
   "source": [
    "# did i take the prereq for the class OR get permissionm from the instructor?\n",
    "took_prereq = False\n",
    "have_permission = True\n",
    "took_prereq or have_permission"
   ]
  },
  {
   "cell_type": "code",
   "execution_count": 8,
   "id": "a73344e8",
   "metadata": {},
   "outputs": [
    {
     "data": {
      "text/plain": [
       "True"
      ]
     },
     "execution_count": 8,
     "metadata": {},
     "output_type": "execute_result"
    }
   ],
   "source": [
    "# is the driver not wearing a seat belt?\n",
    "seatBelt = False\n",
    "not seatBelt"
   ]
  },
  {
   "cell_type": "code",
   "execution_count": 9,
   "id": "6d21f3bc",
   "metadata": {},
   "outputs": [
    {
     "data": {
      "text/plain": [
       "True"
      ]
     },
     "execution_count": 9,
     "metadata": {},
     "output_type": "execute_result"
    }
   ],
   "source": [
    "# is the professor in the office and the door open more than a crack (at least 15 degrees) or there is a sign that says come on in or you have an appointment?\n",
    "prof_in_office = True\n",
    "door_angle = 5\n",
    "sign_says = \"Come in\"\n",
    "haveAppointment = True\n",
    "prof_in_office and door_angle >= 15 or sign_says == \"Come in\" or haveAppointment"
   ]
  },
  {
   "cell_type": "markdown",
   "id": "5ae72625",
   "metadata": {
    "id": "LcXUfJ1qCmZD"
   },
   "source": [
    "## Practice: construct basic conditional blocks\n",
    "\n",
    "Now let's practice constructing conditional blocks! Follow along with me to translate these English instructions into conditional blocks. We basically need to 1) decide what the condition is and translate it into a Boolean expression, then 2) decide what actions go in the \"true\" or \"false\" branches.\n",
    "\n",
    "If my speed is above the limit, print stop; otherwise, let me pass."
   ]
  },
  {
   "cell_type": "code",
   "execution_count": 10,
   "id": "d9c0e93c",
   "metadata": {},
   "outputs": [
    {
     "name": "stdout",
     "output_type": "stream",
     "text": [
      "Go ahead\n"
     ]
    }
   ],
   "source": [
    "# if my speed is above the limit, print stop; otherwise, let me pass\n",
    "speed = 25\n",
    "limit = 45\n",
    "if speed > limit:\n",
    "    print(\"Stop\")\n",
    "else:\n",
    "    print(\"Go ahead\")"
   ]
  },
  {
   "cell_type": "markdown",
   "id": "c55a344d",
   "metadata": {},
   "source": [
    "If i have a passport, print come on in; otherwise, print go away"
   ]
  },
  {
   "cell_type": "code",
   "execution_count": 11,
   "id": "e96aa756",
   "metadata": {},
   "outputs": [
    {
     "name": "stdout",
     "output_type": "stream",
     "text": [
      "Go away\n"
     ]
    }
   ],
   "source": [
    "# if i have a passport, print come on in; otherwise, print go away\n",
    "# do i have a passport?\n",
    "hasPassport = False # assign the value True to the passport variable\n",
    "if hasPassport:\n",
    "    print(\"Come on in\")\n",
    "else:\n",
    "    print(\"Go away\")"
   ]
  },
  {
   "cell_type": "markdown",
   "id": "d44c9b01",
   "metadata": {},
   "source": [
    "if i have passed all the requirements for graduation, print gradaute! otherwise, print need to do more"
   ]
  },
  {
   "cell_type": "code",
   "execution_count": 12,
   "id": "aaffd3b2",
   "metadata": {},
   "outputs": [
    {
     "ename": "SyntaxError",
     "evalue": "unmatched '}' (471952310.py, line 7)",
     "output_type": "error",
     "traceback": [
      "\u001b[0;36m  File \u001b[0;32m\"/var/folders/xz/_hjc5hsx743dclmg8n5678nc0000gn/T/ipykernel_30843/471952310.py\"\u001b[0;36m, line \u001b[0;32m7\u001b[0m\n\u001b[0;31m    print(\"Graduate\")}\u001b[0m\n\u001b[0m                     ^\u001b[0m\n\u001b[0;31mSyntaxError\u001b[0m\u001b[0;31m:\u001b[0m unmatched '}'\n"
     ]
    }
   ],
   "source": [
    "# if i have passed all the requirements for graduation, print gradaute! otherwise, print need to do more\n",
    "# did i accumulate at least 120 credits AND earn at least a 2.0 GPA?\n",
    "# did i take the prereq for the class OR get permissionm from the instructor?\n",
    "num_credits = 110 # threshold of 120\n",
    "GPA = 1.9 # threshold of 2.0\n",
    "if num_credits >= 120 and GPA >= 2.5:\n",
    "    print(\"Graduate\")}\n",
    "else:\n",
    "    print(\"Don't graduate\")"
   ]
  },
  {
   "cell_type": "markdown",
   "id": "6991ca48",
   "metadata": {
    "id": "ffHIlz8iDDLM"
   },
   "source": [
    "## Aside: the concept of scope\n",
    "\n",
    "Notice the idea of branch code: it's code that \"belongs\" to the branch. We only run it if we go into the branch. But also, variables that are defined in the scope of the if statement stay in there.\n",
    "\n",
    "This is the same thing that happens with functions. Whatever you define in the function is scoped to inside that function.\n",
    "\n",
    "In Python, we control what belongs to what with **indentation**. In other languages, you use things like curly braces (e.g., Java, Javascript)\n",
    "\n",
    "As an example, consider the following example code: how many times do you think we will print the message \"hello world\"? Why?"
   ]
  },
  {
   "cell_type": "code",
   "execution_count": null,
   "id": "3980c6be",
   "metadata": {},
   "outputs": [],
   "source": [
    "# if i have passed all the requirements for graduation, print gradaute! otherwise, print need to do more\n",
    "# did i accumulate at least 25 credits AND earn at least a 3.0 GPA?\n",
    "n_credits = 30\n",
    "gpa = 3.95\n",
    "hello = \"hello world!\"\n",
    "if n_credits >= 25 and gpa >= 3.0:\n",
    "    print(\"Go ahead\")\n",
    "    print(hello)\n",
    "    a_in_f = 5 # this will not be available outside of the scope of hte if statement block\n",
    "else:\n",
    "    print(\"Take more classes\")\n",
    "    print(hello)"
   ]
  },
  {
   "cell_type": "markdown",
   "id": "eb8ef03a",
   "metadata": {},
   "source": [
    "The answer: only once! Because both print statements are scoped (indented inside) a conditional branch, it will only execute once: either in the true (if) branch or the false (else) branch."
   ]
  },
  {
   "cell_type": "markdown",
   "id": "647bfc78",
   "metadata": {
    "id": "21v9caNsEE1A"
   },
   "source": [
    "## More complex conditional structures\n",
    "The if / else conditional block is the most basic and easy to understand. But often your programs may require something a bit simpler, and sometimes a bit more complex."
   ]
  },
  {
   "cell_type": "markdown",
   "id": "a31ec182",
   "metadata": {
    "id": "oh3kS5FLBquN"
   },
   "source": [
    "### Conditional execution\n",
    "\n",
    "The `else` branch is actually optional. Sometimes you just want to do something if it's true, otherwise you do nothing. \n",
    "\n",
    "The flow looks like this:\n",
    "\n",
    "```{image} assets/conditional-logic-noelse.png\n",
    ":class: bg-primary mb-1\n",
    ":width: 600px\n",
    ":align: center\n",
    "```\n",
    "\n",
    "Some examples:\n",
    "- Only stop someone if they're above the speed limit\n",
    "- Tell me if someone is coming!\n",
    "- Look through the bag and only pull out the red skittles\n",
    "- Can you think of any others?\n",
    "\n",
    "```\n",
    "# generic\n",
    "if booleanExpression:\n",
    "    # do something\n",
    "```"
   ]
  },
  {
   "cell_type": "code",
   "execution_count": null,
   "id": "9340ac8f",
   "metadata": {
    "id": "ttMHXVzySS8m"
   },
   "outputs": [],
   "source": [
    "speed = 25\n",
    "limit = 30\n",
    "if speed > limit:\n",
    "    print(\"Stop!\")"
   ]
  },
  {
   "cell_type": "markdown",
   "id": "b41a74d1",
   "metadata": {
    "id": "jszuKPe9CrGP"
   },
   "source": [
    "Keywords/phrases that signal that this is appropriate?\n",
    "- if only one \"choice\" (or action) is described, then probably you don't need an else, since \"doing nothing\" is a default action"
   ]
  },
  {
   "cell_type": "markdown",
   "id": "06adc401",
   "metadata": {
    "id": "VZzGfpRdB6ca",
    "tags": []
   },
   "source": [
    "### Chained conditionals\n",
    "\n",
    "Sometimes you have more than two choices of paths (branches). In that case you need an elif. \n",
    "\n",
    "The difference from the basic conditional is something like this:\n",
    "\n",
    "```{image} assets/conditional-logic-chained.png\n",
    ":class: bg-primary mb-1\n",
    ":width: 600px\n",
    ":align: center\n",
    "```\n",
    "\n",
    "Simple example: you have a fever if you're above 100, hypothermia if you're under 95; otherwise, you're all good! \n",
    "\n",
    "Or, choosing an outfit depending on where you want to go (in the Spring in Maryland!).\n",
    "\n",
    "Or, choosing a football play depending on what you think the defense is showing.\n",
    "\n",
    "Any other examples?\n",
    "\n",
    "The key difference between this type of conditional block and the regular \"if/else\" blocks is that you need more than one Boolean expression; one for each `if` or `elif` statement."
   ]
  },
  {
   "cell_type": "markdown",
   "id": "fc9e62ac",
   "metadata": {},
   "source": [
    "Here's the generic structure:\n",
    "\n",
    "```\n",
    "if someCondition:\n",
    "    # then something\n",
    "elif someOtherCondition:\n",
    "    # then something else\n",
    "else:\n",
    "    # some default (this is technicallly optional\n",
    "    # but if you leave it out, you may have some unexpected edge cases you didnt' account for!\n",
    "```"
   ]
  },
  {
   "cell_type": "code",
   "execution_count": null,
   "id": "ea35343a",
   "metadata": {},
   "outputs": [],
   "source": [
    "if gpa >= gpa_threshold and required_courses >= req_threshold:\n",
    "    # then something\n",
    "    print(\"graduate!\")\n",
    "elif gpa >= gpa_threshold and required_courses < req_threshold:\n",
    "    # then something else\n",
    "    print(\"take more required courses\")\n",
    "elif gpa < gpa_threshold and required_courses >= req_threshold:\n",
    "    print(\"take an easy course!\")\n",
    "else:\n",
    "    print(\"talk to an advisor\")"
   ]
  },
  {
   "cell_type": "code",
   "execution_count": null,
   "id": "6a344750",
   "metadata": {
    "id": "BaHh7pSfCCNm"
   },
   "outputs": [],
   "source": [
    "# example\n",
    "temp_f = 97\n",
    "if temp_f >= 100:\n",
    "    print(\"fever!\")\n",
    "elif temp_f < 70: # need another Boolean expression\n",
    "    print(\"hypothermia!\")\n",
    "else:\n",
    "    print(\"all good!\")"
   ]
  },
  {
   "cell_type": "markdown",
   "id": "306f49cd",
   "metadata": {
    "id": "7VgOXvQWCyJH"
   },
   "source": [
    "Keywords/phrases that signal that this is appropriate?\n",
    "\n",
    "When you see more than two **conditions** or **choices**"
   ]
  },
  {
   "cell_type": "markdown",
   "id": "25909f6e",
   "metadata": {
    "id": "19fV3icBCCu0"
   },
   "source": [
    "Practice! Let's translate these English instructions into Python conditional blocks.\n",
    "\n",
    "ticket pricing: if you're under 5 or 65 and up, price is zero; if you're theater staff, you get half price (7.50); otherwise pay normal price (15)"
   ]
  },
  {
   "cell_type": "code",
   "execution_count": null,
   "id": "b0492c77",
   "metadata": {},
   "outputs": [],
   "source": [
    "# ticket pricing: \n",
    "# if you're under 5 or 65 and up, price is zero; \n",
    "# if you're theater staff, you get half price (7.50); \n",
    "# otherwise pay normal price (15)\n",
    "age = 65\n",
    "theater_staff = True\n",
    "if age < 5 or age >= 65:\n",
    "    price = 0\n",
    "elif theater_staff == True:\n",
    "    price = 7.50\n",
    "else:\n",
    "    price = 15"
   ]
  },
  {
   "cell_type": "markdown",
   "id": "27ac08be",
   "metadata": {},
   "source": [
    "help me write the grader for late assignments: if you submit before target date, you get full credit; if you submit after the target date, but before the last day of the period, you get 85% credit - if you submit on the last day of period, you get 70% credit"
   ]
  },
  {
   "cell_type": "code",
   "execution_count": null,
   "id": "1777dfb3",
   "metadata": {},
   "outputs": [],
   "source": [
    "# help me write the updated grader for your PCEs: \n",
    "# if you submit before target date, you get full credit; \n",
    "# if you submit after the target date, but before or equal 1 week threshold, you get 85% credit\n",
    "# if you submit after 1` week threshold, but before or equal to 2 week threshold, you get 70% credit\n",
    "# otherwise, you get no credit\n",
    "\n",
    "submission_date = 35\n",
    "target_date = 36\n",
    "score = 1\n",
    "\n",
    "if submission_date <= target_date:\n",
    "    print(score)\n",
    "elif submission_date <= target_date + 1:\n",
    "    print(0.85*score)\n",
    "elif submission_date <= target_date + 2:\n",
    "    print(0.7*score)\n",
    "else:\n",
    "    print(0.0)"
   ]
  },
  {
   "cell_type": "markdown",
   "id": "be2a0c99",
   "metadata": {
    "id": "_1BiX-ZSCO_O",
    "tags": []
   },
   "source": [
    "### Nested conditionals\n",
    "\n",
    "Sometimes it only makes sense to check a condition if earlier conditions are true/false. This is like a garden of forking paths or choose your own adventure. Sometimes this to save time/operations. Other times, it may make your program more readable.\n",
    "\n",
    "I like to think of it like a choose your own adventure maze:\n",
    "\n",
    "```{image} assets/conditional-logic-nested-cyoa.png\n",
    ":class: bg-primary mb-1\n",
    ":width: 600px\n",
    ":align: center\n",
    "```\n",
    "\n",
    "Simple example: I want to know if x is the same, less than, or greater than y. We can represent this as a chained conditional with three conditions. But we can also group the less than or greater than conditional block by itself since that only make sense in the situation where x and y are *not* the same (i.e., `x != y`)."
   ]
  },
  {
   "cell_type": "code",
   "execution_count": null,
   "id": "39230eaa",
   "metadata": {},
   "outputs": [],
   "source": [
    "if x == y:\n",
    "    print(\"x and y are equal\")\n",
    "else:\n",
    "    if x < y:\n",
    "        print(\"x is less than y\")\n",
    "    else:\n",
    "        print(\"x is greater than y\")"
   ]
  },
  {
   "cell_type": "markdown",
   "id": "c50469e2",
   "metadata": {},
   "source": [
    "Another simple example: graduation requirements: if you've completed the base requirements and you have a 3.0 average, then we check: do you have sufficient electives? if yes, then great! if not, take more electives. if you don't have the core requirements done, then you need to take care of that first, we'll worry about electives later."
   ]
  },
  {
   "cell_type": "code",
   "execution_count": null,
   "id": "69315215",
   "metadata": {
    "id": "zQ5U8v4dGHI0"
   },
   "outputs": [],
   "source": [
    "if n_credits >= credit_threshold and GPA >= 3.0:\n",
    "    if n_electives >= electives_threshold:\n",
    "        print(\"Ready to graduate!\")\n",
    "    else:\n",
    "        print(\"Get more electives!\")\n",
    "else:\n",
    "    print(\"Finish core requirements with sufficient GPA!\")"
   ]
  },
  {
   "cell_type": "markdown",
   "id": "24fb60ec",
   "metadata": {
    "id": "za2LAdfFDHww"
   },
   "source": [
    "Keywords/phrases that signal that this is appropriate? Something about having more than two choices, but some choices only make sense if some earlier condition is met. In other words, we have more of multiple forks, rather than a single fork."
   ]
  },
  {
   "cell_type": "markdown",
   "id": "90792655",
   "metadata": {
    "id": "Nyxk2KfLIDXz"
   },
   "source": [
    "Practice! Let's translate these English instructions into Python conditional blocks.\n",
    "\n",
    "Polling booth: if you don't have an id, go away and register, then come back; if you have an id come on in! then, if you need assistance, go to the assisted booth; otherwise, go to the normal booth."
   ]
  },
  {
   "cell_type": "code",
   "execution_count": null,
   "id": "444c6452",
   "metadata": {
    "id": "KCe_GVMMICZh"
   },
   "outputs": [],
   "source": [
    "# polling booth: if your registration doesn't match this location, go away to the right place; if yes, then come on in! \n",
    "# then, if you need assistance, go to the assisted booth; otherwise, go to the normal booth.\n",
    "registration_here = True\n",
    "need_assistance = False\n",
    "\n",
    "if not registration_here:\n",
    "    print(\"Go away to your actual registration location\")\n",
    "else:\n",
    "    if need_assistance:\n",
    "        print(\"Go to assisted booth\")\n",
    "    else:\n",
    "        print(\"Go to normal booth\")"
   ]
  },
  {
   "cell_type": "markdown",
   "id": "6e67df97",
   "metadata": {},
   "source": [
    "Some people may say that sometimes this sort of code isn't great practice, because it can be hard to understand and debug. I'm not sure I completely agree. I think it depends on the structure of your problem. I like to write nested conditionals when the underlying logic is really like a garden of forking paths or choose your own adventure game."
   ]
  },
  {
   "cell_type": "markdown",
   "id": "67c20970",
   "metadata": {},
   "source": [
    "## Common errors\n",
    "\n",
    "### Syntax and indentation errors\n",
    "e.g., forgetting the colon, or forgetting to indent\n",
    "\n",
    "Best recommendation is to use templates for now as you set them up.\n",
    "\n",
    "### Boolean expression errors\n",
    "Most commonly, using `=` (this is assigning!) instead of `==` (the Boolean operator you actually want)! \n",
    "\n",
    "### Semantic errors\n",
    "Not covering all your bases or mapping the wrong conditions to outcomes.\n",
    "\n",
    "It can be helpful to diagram out or make a truth table to map out the conditions and outcomes to make sure you're covering all your bases. Example here for Project 1: https://docs.google.com/spreadsheets/d/1-q5XXbMDoji8AMVWxgUf5GW5CUOJfiWQTTV6u0-DwF8/edit?usp=sharing"
   ]
  },
  {
   "cell_type": "code",
   "execution_count": null,
   "id": "ef378159",
   "metadata": {},
   "outputs": [],
   "source": []
  }
 ],
 "metadata": {
  "jupytext": {
   "text_representation": {
    "extension": ".md",
    "format_name": "myst",
    "format_version": 0.13,
    "jupytext_version": "1.14.4"
   }
  },
  "kernelspec": {
   "display_name": "Python 3 (ipykernel)",
   "language": "python",
   "name": "python3"
  },
  "language_info": {
   "codemirror_mode": {
    "name": "ipython",
    "version": 3
   },
   "file_extension": ".py",
   "mimetype": "text/x-python",
   "name": "python",
   "nbconvert_exporter": "python",
   "pygments_lexer": "ipython3",
   "version": "3.9.7"
  },
  "source_map": [
   14,
   18,
   25,
   41,
   51,
   55,
   65,
   92,
   96,
   106,
   116,
   120,
   127,
   156,
   164,
   171,
   175,
   179,
   187,
   194,
   200,
   209,
   217,
   225,
   229,
   237,
   241,
   253,
   265,
   278,
   282,
   287,
   313,
   322,
   327,
   351,
   365,
   378,
   391,
   398,
   404,
   417,
   421,
   442,
   458,
   466,
   470,
   482,
   486,
   492,
   507,
   511,
   528
  ]
 },
 "nbformat": 4,
 "nbformat_minor": 5
}