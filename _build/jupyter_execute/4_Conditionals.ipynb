{
 "cells": [
  {
   "cell_type": "markdown",
   "id": "0a043501",
   "metadata": {
    "id": "IUP5mKyTxbRy"
   },
   "source": [
    "# 4: Conditionals"
   ]
  },
  {
   "cell_type": "markdown",
   "id": "34fda76d",
   "metadata": {
    "id": "TB-Kg9GExbRz"
   },
   "source": [
    "## Learning goals:\n",
    "- Write Boolean expressions based on English requirements\n",
    "- Explain different meta-patterns of conditional blocks (nested, chained, with alternative vs. without)\n",
    "- Construct various types of conditional blocks in Python"
   ]
  },
  {
   "cell_type": "markdown",
   "id": "28df87a0",
   "metadata": {
    "id": "g-lkfdphxbR0"
   },
   "source": [
    "## What are conditionals and why do we care about them?\n",
    "\n",
    "Basic concept: it's a fork in the road. We use conditional structures to control the flow of our program.\n",
    "\n",
    "A set of pictures might help to give the intuition:\n",
    "\n",
    "```{image} assets/conditional-pictures.png\n",
    ":class: bg-primary mb-1\n",
    ":width: 800px\n",
    ":align: center\n",
    "```\n",
    "\n",
    "Basically anytime you find yourself at a problem step or part of your problem where you say something like \"`do something` *based on / depending on / looking at / if* `some condition`\", that is a signal that you need a conditional."
   ]
  },
  {
   "cell_type": "markdown",
   "id": "8dd99132",
   "metadata": {},
   "source": [
    "Let's brainstorm some real-world examples together! \n",
    "\n",
    "-"
   ]
  },
  {
   "cell_type": "markdown",
   "id": "69daf122",
   "metadata": {
    "id": "ifBcaTKuA2jN",
    "tags": []
   },
   "source": [
    "## Anatomy of a basic conditional block in Python"
   ]
  },
  {
   "cell_type": "markdown",
   "id": "aad9f4af",
   "metadata": {},
   "source": [
    "Here's a rough diagram of a basic conditional block in Python:\n",
    "\n",
    "```{image} assets/conditional-logic-generic.png\n",
    ":class: bg-primary mb-1\n",
    ":width: 600px\n",
    ":align: center\n",
    "```"
   ]
  },
  {
   "cell_type": "markdown",
   "id": "ad6c249d",
   "metadata": {},
   "source": [
    "And here's what it looks like in code"
   ]
  },
  {
   "cell_type": "code",
   "execution_count": 1,
   "id": "b02050bd",
   "metadata": {},
   "outputs": [
    {
     "ename": "IndentationError",
     "evalue": "expected an indented block (3646482244.py, line 5)",
     "output_type": "error",
     "traceback": [
      "\u001b[0;36m  File \u001b[0;32m\"/var/folders/xz/_hjc5hsx743dclmg8n5678nc0000gn/T/ipykernel_25031/3646482244.py\"\u001b[0;36m, line \u001b[0;32m5\u001b[0m\n\u001b[0;31m    else:\u001b[0m\n\u001b[0m    ^\u001b[0m\n\u001b[0;31mIndentationError\u001b[0m\u001b[0;31m:\u001b[0m expected an indented block\n"
     ]
    }
   ],
   "source": [
    "# basic conditional block\n",
    "if BooleanExpression:\n",
    "    # do something\n",
    "    # maybe also something more\n",
    "else:\n",
    "    # do something else\n",
    "    # and maybe even more something else"
   ]
  },
  {
   "cell_type": "markdown",
   "id": "b99b2a14",
   "metadata": {},
   "source": [
    "- The **if statement**\n",
    "    - The if keyword signals that a conditional block is starting.\n",
    "    - The Boolean expression determine where to go in the conditional block\n",
    "        - True goes to the if branch; False goes to the else branch\n",
    "    - The statement needs to end in a colon to signal that the statement has ended. This is the same as with function definitions, and as we will see, with iteration loops also.\n",
    "- The \"if\" (true) **branch code**: what should happen in that branch if we go down the path?\n",
    "    - Needs to be indented because of scope (same with functions; also will be true of loops)\n",
    "- The **else statement**\n",
    "    - Signals that an else branch will be specified next\n",
    "    - Just the else keyword and a colon\n",
    "- The \"else\" (false) **branch code**: what should happen in that branch if we go down the other path?\n",
    "    - Also needs to be indented"
   ]
  },
  {
   "cell_type": "markdown",
   "id": "bbbc878d",
   "metadata": {},
   "source": [
    "Some examples:"
   ]
  },
  {
   "cell_type": "code",
   "execution_count": null,
   "id": "b56faa0f",
   "metadata": {},
   "outputs": [],
   "source": [
    "# tell me if a number is even or odd. if it's even, say even, otherwise, say odd.\n",
    "\n",
    "num = int(input(\"Give me a number to check!\\n\"))\n",
    "if num % 2 == 0: \n",
    "    print(\"It's even!\") \n",
    "else: \n",
    "    print(\"It's odd!\") "
   ]
  },
  {
   "cell_type": "code",
   "execution_count": null,
   "id": "b2f8364f",
   "metadata": {
    "colab": {
     "base_uri": "https://localhost:8080/",
     "height": 35
    },
    "executionInfo": {
     "elapsed": 366,
     "status": "ok",
     "timestamp": 1600700847004,
     "user": {
      "displayName": "Joel Chan",
      "photoUrl": "https://lh3.googleusercontent.com/a-/AOh14GiBPPpBf_QqgDL3pMurAsPu9WJJE_x_6UtgW13UFQ=s64",
      "userId": "15153559228409906865"
     },
     "user_tz": 240
    },
    "id": "S3Tqmgxc_h5Y",
    "outputId": "07807add-dd67-4c9f-bf17-5ff7933ef8ae"
   },
   "outputs": [],
   "source": [
    "# Password checker. Say \"come in\" if the password matches, otherwise say \"go away\"\n",
    "\n",
    "userInput = input(\"What's the password?\\n\")\n",
    "password = \"bunny\"\n",
    "# if the user input matches the password\n",
    "if userInput == password: \n",
    "    print(\"Come in\")\n",
    "else:\n",
    "    print(\"Go away\")"
   ]
  },
  {
   "cell_type": "markdown",
   "id": "2eb0058d",
   "metadata": {},
   "source": [
    "Waiter checking your age on your ID, and then shows beer/alcohol menu or says \"have some water\""
   ]
  },
  {
   "cell_type": "code",
   "execution_count": null,
   "id": "32288bd1",
   "metadata": {
    "id": "4DLKesNtGzZs"
   },
   "outputs": [],
   "source": [
    "age = int(input(\"How old are you?\\n\"))\n",
    "drinking_age = 21\n",
    "if age >= drinking_age: \n",
    "    print(\"What beer do you want?\")\n",
    "else:\n",
    "    print(\"Have some water\")"
   ]
  },
  {
   "cell_type": "markdown",
   "id": "f5a0391e",
   "metadata": {
    "id": "FYVv4YjdCjfS"
   },
   "source": [
    "## A closer look at Boolean expressions\n",
    "\n",
    "All conditional blocks depend on well-crafted **Boolean Expressions**, which are expressions that evaluate to a Boolean value (i.e., True or False). This is what really determines the logic of the control of flow. So you need to make sure you're proficient with Booolean expressions.\n",
    "\n",
    "### Boolean Operators\n",
    "We use **Boolean** Operators to compare TWO pieces of data. When evaluated, they yield a Boolean value (True or False).\n",
    "\n",
    "`data1 booleanOperator data2`\n",
    "\n",
    "Here are the main ones:\n",
    "- `==` equal to / the same as\n",
    "- `!=` not equal to / different from\n",
    "- `>` greater than\n",
    "- `>=` greater than or equal to (at least)\n",
    "- `<` less than\n",
    "- `<=` less than or equal to (at most)\n",
    "\n",
    "### Logical operators\n",
    "We use **Logical** operators to combine basic Boolean expressions into more complex ones, like \"is a more than 3 and less than 5\"\n",
    "\n",
    "Here are the main ones:\n",
    "- `and` (True if *all* Boolean expressions are True)\n",
    "- `or` (True if *any* Boolean expression is True)\n",
    "- `not` (True if the Boolean expression is *not* True)\n",
    "\n",
    "Full list of comparison and logical operators [here](https://www.w3schools.com/python/python_operators.asp)"
   ]
  },
  {
   "cell_type": "markdown",
   "id": "41b10cf4",
   "metadata": {
    "id": "0c6wfPPRBHdg"
   },
   "source": [
    "## Practice: Construct Boolean expressions\n",
    "Let's practice! Translate these Boolean expressions with me from English into Python.\n",
    "\n",
    "\n",
    "### Basic Boolean expressions (only Boolean operator)"
   ]
  },
  {
   "cell_type": "code",
   "execution_count": null,
   "id": "36634874",
   "metadata": {
    "colab": {
     "base_uri": "https://localhost:8080/"
    },
    "executionInfo": {
     "elapsed": 604,
     "status": "ok",
     "timestamp": 1613399839255,
     "user": {
      "displayName": "Joel Chan",
      "photoUrl": "https://lh3.googleusercontent.com/a-/AOh14GiBPPpBf_QqgDL3pMurAsPu9WJJE_x_6UtgW13UFQ=s64",
      "userId": "15153559228409906865"
     },
     "user_tz": 300
    },
    "id": "0qOxB7B8BM9O",
    "outputId": "74c2135d-7b02-46c6-8cc2-3f48b59f3bb7"
   },
   "outputs": [],
   "source": [
    "# is the driver's speed above the limit?\n",
    "speed = 25\n",
    "limit = 45"
   ]
  },
  {
   "cell_type": "code",
   "execution_count": null,
   "id": "fee5c539",
   "metadata": {
    "colab": {
     "base_uri": "https://localhost:8080/"
    },
    "executionInfo": {
     "elapsed": 496,
     "status": "ok",
     "timestamp": 1613399925529,
     "user": {
      "displayName": "Joel Chan",
      "photoUrl": "https://lh3.googleusercontent.com/a-/AOh14GiBPPpBf_QqgDL3pMurAsPu9WJJE_x_6UtgW13UFQ=s64",
      "userId": "15153559228409906865"
     },
     "user_tz": 300
    },
    "id": "ZHqVYGfVORJr",
    "outputId": "70d84ccb-6263-4d7a-c027-08ee30359db4"
   },
   "outputs": [],
   "source": [
    "# do i have a passport?\n",
    "hasPassport = True # assign the value True to the passport variable"
   ]
  },
  {
   "cell_type": "markdown",
   "id": "6761ff63",
   "metadata": {},
   "source": [
    "### Compound Boolean expressions (Boolean operators + Logical operators)"
   ]
  },
  {
   "cell_type": "code",
   "execution_count": null,
   "id": "e74953ac",
   "metadata": {
    "colab": {
     "base_uri": "https://localhost:8080/"
    },
    "executionInfo": {
     "elapsed": 510,
     "status": "ok",
     "timestamp": 1613400162886,
     "user": {
      "displayName": "Joel Chan",
      "photoUrl": "https://lh3.googleusercontent.com/a-/AOh14GiBPPpBf_QqgDL3pMurAsPu9WJJE_x_6UtgW13UFQ=s64",
      "userId": "15153559228409906865"
     },
     "user_tz": 300
    },
    "id": "8JStG5a2Og92",
    "outputId": "c0ac24b7-40dc-4278-f5a8-acf76fb2dc47"
   },
   "outputs": [],
   "source": [
    "# have i passed all the requirements for graduation?\n",
    "# which is operationalized as \"do i have enough credits, with enough GPA?\"\n",
    "num_credits = 120 # threshold of 120\n",
    "GPA = 2.5 # threshold of 2.0"
   ]
  },
  {
   "cell_type": "code",
   "execution_count": null,
   "id": "bf37f95a",
   "metadata": {
    "colab": {
     "base_uri": "https://localhost:8080/"
    },
    "executionInfo": {
     "elapsed": 570,
     "status": "ok",
     "timestamp": 1613400346471,
     "user": {
      "displayName": "Joel Chan",
      "photoUrl": "https://lh3.googleusercontent.com/a-/AOh14GiBPPpBf_QqgDL3pMurAsPu9WJJE_x_6UtgW13UFQ=s64",
      "userId": "15153559228409906865"
     },
     "user_tz": 300
    },
    "id": "5LDRnY23POoo",
    "outputId": "787449b7-f6e2-4ff5-9b17-a2d13d8ac4a3"
   },
   "outputs": [],
   "source": [
    "# did i take the prereq for the class OR get permissionm from the instructor?\n",
    "took_prereq = False\n",
    "have_permission = True"
   ]
  },
  {
   "cell_type": "code",
   "execution_count": null,
   "id": "24697219",
   "metadata": {
    "colab": {
     "base_uri": "https://localhost:8080/",
     "height": 35
    },
    "executionInfo": {
     "elapsed": 335,
     "status": "ok",
     "timestamp": 1600701562660,
     "user": {
      "displayName": "Joel Chan",
      "photoUrl": "https://lh3.googleusercontent.com/a-/AOh14GiBPPpBf_QqgDL3pMurAsPu9WJJE_x_6UtgW13UFQ=s64",
      "userId": "15153559228409906865"
     },
     "user_tz": 240
    },
    "id": "uKu5xkzPPh49",
    "outputId": "eacb8c7d-ce6f-427d-ca22-2957425fbc9a"
   },
   "outputs": [],
   "source": [
    "# is the driver not wearing a seat belt?\n",
    "seatBelt = False"
   ]
  },
  {
   "cell_type": "code",
   "execution_count": null,
   "id": "b668cda5",
   "metadata": {
    "colab": {
     "base_uri": "https://localhost:8080/"
    },
    "executionInfo": {
     "elapsed": 487,
     "status": "ok",
     "timestamp": 1613400714183,
     "user": {
      "displayName": "Joel Chan",
      "photoUrl": "https://lh3.googleusercontent.com/a-/AOh14GiBPPpBf_QqgDL3pMurAsPu9WJJE_x_6UtgW13UFQ=s64",
      "userId": "15153559228409906865"
     },
     "user_tz": 300
    },
    "id": "q7fSYrgyP7Ar",
    "outputId": "1367118b-1e14-485a-8cb7-97584d3162a0"
   },
   "outputs": [],
   "source": [
    "# is the professor in the office and the door open more than a crack (at least 15 degrees) or there is a sign that says come on in?\n",
    "prof_in_office = True\n",
    "door_angle = 5\n",
    "sign_says = \"Come in\""
   ]
  },
  {
   "cell_type": "markdown",
   "id": "a88c815f",
   "metadata": {
    "id": "LcXUfJ1qCmZD"
   },
   "source": [
    "## Practice: construct basic conditional blocks\n",
    "\n",
    "Now let's practice constructing conditional blocks! Follow along with me to translate these English instructions into conditional blocks. We basically need to 1) decide what the condition is and translate it into a Boolean expression, then 2) decide what actions go in the \"true\" or \"false\" branches.\n",
    "\n",
    "If my speed is above the limit, print stop; otherwise, let me pass."
   ]
  },
  {
   "cell_type": "code",
   "execution_count": null,
   "id": "c99ba64f",
   "metadata": {
    "colab": {
     "base_uri": "https://localhost:8080/"
    },
    "executionInfo": {
     "elapsed": 497,
     "status": "ok",
     "timestamp": 1613400839676,
     "user": {
      "displayName": "Joel Chan",
      "photoUrl": "https://lh3.googleusercontent.com/a-/AOh14GiBPPpBf_QqgDL3pMurAsPu9WJJE_x_6UtgW13UFQ=s64",
      "userId": "15153559228409906865"
     },
     "user_tz": 300
    },
    "id": "Dz1JKnykDI0c",
    "outputId": "98991791-76bb-4565-e1ca-e9704b333364"
   },
   "outputs": [],
   "source": [
    "# if my speed is above the limit, print stop; otherwise, let me pass\n",
    "speed = 25\n",
    "limit = 45"
   ]
  },
  {
   "cell_type": "markdown",
   "id": "0b352bb2",
   "metadata": {},
   "source": [
    "If i have a passport, print come on in; otherwise, print go away"
   ]
  },
  {
   "cell_type": "code",
   "execution_count": null,
   "id": "0f927bca",
   "metadata": {
    "colab": {
     "base_uri": "https://localhost:8080/"
    },
    "executionInfo": {
     "elapsed": 496,
     "status": "ok",
     "timestamp": 1613400894868,
     "user": {
      "displayName": "Joel Chan",
      "photoUrl": "https://lh3.googleusercontent.com/a-/AOh14GiBPPpBf_QqgDL3pMurAsPu9WJJE_x_6UtgW13UFQ=s64",
      "userId": "15153559228409906865"
     },
     "user_tz": 300
    },
    "id": "AYdK47-AQ0s_",
    "outputId": "818adb29-13cd-4cb4-ecef-59b815cc6023"
   },
   "outputs": [],
   "source": [
    "# if i have a passport, print come on in; otherwise, print go away\n",
    "# do i have a passport?\n",
    "hasPassport = False # assign the value True to the passport variable"
   ]
  },
  {
   "cell_type": "markdown",
   "id": "9eef43a0",
   "metadata": {},
   "source": [
    "if i have passed all the requirements for graduation, print gradaute! otherwise, print need to do more"
   ]
  },
  {
   "cell_type": "code",
   "execution_count": null,
   "id": "27d9bbd4",
   "metadata": {
    "colab": {
     "base_uri": "https://localhost:8080/"
    },
    "executionInfo": {
     "elapsed": 507,
     "status": "ok",
     "timestamp": 1613401024364,
     "user": {
      "displayName": "Joel Chan",
      "photoUrl": "https://lh3.googleusercontent.com/a-/AOh14GiBPPpBf_QqgDL3pMurAsPu9WJJE_x_6UtgW13UFQ=s64",
      "userId": "15153559228409906865"
     },
     "user_tz": 300
    },
    "id": "6FSNM3KjRA5t",
    "outputId": "3219fcd1-1dce-4f4b-8ba3-ae9dd72f106d"
   },
   "outputs": [],
   "source": [
    "# if i have passed all the requirements for graduation, print gradaute! otherwise, print need to do more\n",
    "# did i accumulate at least 120 credits AND earn at least a 2.0 GPA?\n",
    "# did i take the prereq for the class OR get permissionm from the instructor?\n",
    "num_credits = 110 # threshold of 120\n",
    "GPA = 1.9 # threshold of 2.0"
   ]
  },
  {
   "cell_type": "markdown",
   "id": "a93aa05e",
   "metadata": {
    "id": "ffHIlz8iDDLM"
   },
   "source": [
    "## Aside: the concept of scope\n",
    "\n",
    "Notice the idea of branch code: it's code that \"belongs\" to the branch. We only run it if we go into the branch. But also, variables that are defined in the scope of the if statement stay in there.\n",
    "\n",
    "This is the same thing that happens with functions. Whatever you define in the function is scoped to inside that function.\n",
    "\n",
    "In Python, we control what belongs to what with **indentation**. In other languages, you use things like curly braces (e.g., Java, Javascript)\n",
    "\n",
    "As an example, consider the following example code: how many times do you think we will print the message \"hello world\"? Why?"
   ]
  },
  {
   "cell_type": "code",
   "execution_count": null,
   "id": "4730d6b8",
   "metadata": {
    "colab": {
     "base_uri": "https://localhost:8080/"
    },
    "executionInfo": {
     "elapsed": 612,
     "status": "ok",
     "timestamp": 1613401232245,
     "user": {
      "displayName": "Joel Chan",
      "photoUrl": "https://lh3.googleusercontent.com/a-/AOh14GiBPPpBf_QqgDL3pMurAsPu9WJJE_x_6UtgW13UFQ=s64",
      "userId": "15153559228409906865"
     },
     "user_tz": 300
    },
    "id": "w2qU4ufVRm1T",
    "outputId": "da460ae5-ff2a-435b-f252-cc42a2665e2f"
   },
   "outputs": [],
   "source": [
    "# if i have passed all the requirements for graduation, print gradaute! otherwise, print need to do more\n",
    "# did i accumulate at least 25 credits AND earn at least a 3.0 GPA?\n",
    "n_credits = 30\n",
    "gpa = 3.95\n",
    "hello = \"hello world!\"\n",
    "if n_credits >= 25 and gpa >= 3.0:\n",
    "    print(\"Go ahead\")\n",
    "    print(hello)\n",
    "    a_in_f = 5 # this will not be available outside of the scope of hte if statement block\n",
    "else:\n",
    "    print(\"Take more classes\")\n",
    "    print(hello)"
   ]
  },
  {
   "cell_type": "markdown",
   "id": "7db20812",
   "metadata": {
    "id": "21v9caNsEE1A"
   },
   "source": [
    "## More complex conditional structures\n",
    "The if / else conditional block is the most basic and easy to understand. But often your programs may require something a bit simpler, and sometimes a bit more complex."
   ]
  },
  {
   "cell_type": "markdown",
   "id": "3a1083ed",
   "metadata": {
    "id": "oh3kS5FLBquN"
   },
   "source": [
    "### Conditional execution\n",
    "\n",
    "The `else` branch is actually optional. Sometimes you just want to do something if it's true, otherwise you do nothing. \n",
    "\n",
    "The flow looks like this:\n",
    "\n",
    "```{image} assets/conditional-logic-noelse.png\n",
    ":class: bg-primary mb-1\n",
    ":width: 600px\n",
    ":align: center\n",
    "```\n",
    "\n",
    "Some examples:\n",
    "- Only stop someone if they're above the speed limit\n",
    "- Tell me if someone is coming!\n",
    "- Look through the bag and only pull out the red skittles\n",
    "- Can you think of any others?"
   ]
  },
  {
   "cell_type": "code",
   "execution_count": null,
   "id": "fe2af042",
   "metadata": {},
   "outputs": [],
   "source": [
    "# generic\n",
    "if booleanExpression:\n",
    "    # do something"
   ]
  },
  {
   "cell_type": "code",
   "execution_count": null,
   "id": "70abc0d2",
   "metadata": {
    "id": "ttMHXVzySS8m"
   },
   "outputs": [],
   "source": [
    "speed = 25\n",
    "limit = 30\n",
    "if speed > limit:\n",
    "    print(\"Stop!\")"
   ]
  },
  {
   "cell_type": "markdown",
   "id": "4bdeb118",
   "metadata": {
    "id": "jszuKPe9CrGP"
   },
   "source": [
    "Keywords/phrases that signal that this is appropriate?\n",
    "- if only one \"choice\" (or action) is described, then probably you don't need an else, since \"doing nothing\" is a default action"
   ]
  },
  {
   "cell_type": "markdown",
   "id": "596f6558",
   "metadata": {
    "id": "VZzGfpRdB6ca",
    "tags": []
   },
   "source": [
    "### Chained conditionals\n",
    "\n",
    "Sometimes you have more than two choices of paths (branches). In that case you need an elif. \n",
    "\n",
    "The difference from the basic conditional is something like this:\n",
    "\n",
    "```{image} assets/conditional-logic-chained.png\n",
    ":class: bg-primary mb-1\n",
    ":width: 800px\n",
    ":align: center\n",
    "```\n",
    "\n",
    "Simple example: you have a fever if you're above 100, hypothermia if you're under 95; otherwise, you're all good! \n",
    "\n",
    "Or, choosing an outfit depending on where you want to go (in the Spring in Maryland!).\n",
    "\n",
    "Or, choosing a football play depending on what you think the defense is showing.\n",
    "\n",
    "Any other examples?\n",
    "\n",
    "The key difference between this type of conditional block and the regular \"if/else\" blocks is that you need more than one Boolean expression; one for each `if` or `elif` statement."
   ]
  },
  {
   "cell_type": "markdown",
   "id": "60325829",
   "metadata": {},
   "source": [
    "Here's the generic structure:"
   ]
  },
  {
   "cell_type": "code",
   "execution_count": null,
   "id": "a45e40ef",
   "metadata": {},
   "outputs": [],
   "source": [
    "if someCondition:\n",
    "    # then something\n",
    "elif someOtherCondition:\n",
    "    # then something else\n",
    "else:\n",
    "    # some default (this is technicallly optional\n",
    "    # but if you leave it out, you may have some unexpected edge cases you didnt' account for!"
   ]
  },
  {
   "cell_type": "code",
   "execution_count": null,
   "id": "021b8be2",
   "metadata": {
    "id": "BaHh7pSfCCNm"
   },
   "outputs": [],
   "source": [
    "# example\n",
    "temp_f = 97\n",
    "if temp_f >= 100:\n",
    "    print(\"fever!\")\n",
    "elif temp_f < 95: # need another Boolean expression\n",
    "    print(\"hypothermia!\")\n",
    "else:\n",
    "    print(\"all good!\")"
   ]
  },
  {
   "cell_type": "markdown",
   "id": "f3e5bb86",
   "metadata": {
    "id": "7VgOXvQWCyJH"
   },
   "source": [
    "Keywords/phrases that signal that this is appropriate?\n",
    "\n",
    "When you see more than two **conditions** or **choices**"
   ]
  },
  {
   "cell_type": "markdown",
   "id": "d854bef1",
   "metadata": {
    "id": "19fV3icBCCu0"
   },
   "source": [
    "Practice! Let's translate these English instructions into Python conditional blocks.\n",
    "- ticket pricing: if you're under 5 or 65 and up, price is zero; if you're theater staff, you get half price (7.50); otherwise pay normal price (15)\n",
    "- help me write the grader for late assignments: if you submit before target date, you get full credit; if you submit after the target date, but before the last day of the period, you get 85% credit - if you submit on the last day of period, you get 70% credit"
   ]
  },
  {
   "cell_type": "code",
   "execution_count": null,
   "id": "02b449e8",
   "metadata": {
    "colab": {
     "base_uri": "https://localhost:8080/"
    },
    "executionInfo": {
     "elapsed": 527,
     "status": "ok",
     "timestamp": 1613402041897,
     "user": {
      "displayName": "Joel Chan",
      "photoUrl": "https://lh3.googleusercontent.com/a-/AOh14GiBPPpBf_QqgDL3pMurAsPu9WJJE_x_6UtgW13UFQ=s64",
      "userId": "15153559228409906865"
     },
     "user_tz": 300
    },
    "id": "9Js_HCT58gTA",
    "outputId": "6498e042-f8ed-483e-d8e4-2f49d34ff989"
   },
   "outputs": [],
   "source": [
    "# ticket pricing: \n",
    "# if you're under 5 or 65 and up, price is zero; \n",
    "# if you're theater staff, you get half price (7.50); \n",
    "# otherwise pay normal price (15)\n",
    "age = 65\n",
    "theater_staff = True"
   ]
  },
  {
   "cell_type": "code",
   "execution_count": null,
   "id": "856c694b",
   "metadata": {
    "colab": {
     "base_uri": "https://localhost:8080/"
    },
    "executionInfo": {
     "elapsed": 405,
     "status": "ok",
     "timestamp": 1614004217307,
     "user": {
      "displayName": "Joel Chan",
      "photoUrl": "https://lh3.googleusercontent.com/a-/AOh14GiBPPpBf_QqgDL3pMurAsPu9WJJE_x_6UtgW13UFQ=s64",
      "userId": "15153559228409906865"
     },
     "user_tz": 300
    },
    "id": "ydD9Jqk8UFhJ",
    "outputId": "541fc550-213b-47be-f786-e2c626eda554"
   },
   "outputs": [],
   "source": [
    "# help me write the updated grader for your PCEs: \n",
    "# if you submit before target date, you get full credit; \n",
    "# if you submit after the target date, but before or equal 1 week threshold, you get 85% credit\n",
    "# if you submit after 1` week threshold, but before or equal to 2 week threshold, you get 70% credit\n",
    "# otherwise, you get no credit\n",
    "\n",
    "submission_date = 35\n",
    "target_date = 36\n",
    "score = 1"
   ]
  },
  {
   "cell_type": "markdown",
   "id": "7519529c",
   "metadata": {
    "id": "_1BiX-ZSCO_O"
   },
   "source": [
    "### Nested conditionals\n",
    "\n",
    "Sometimes it only makes sense to check a condition if earlier conditions are true/false. This is like a garden of forking paths or choose your own adventure. Sometimes this to save time/operations. Other times, it may make your program more readable.\n",
    "\n",
    "I like to think of it like a choose your own adventure maze:\n",
    "\n",
    "```{image} assets/conditional-logic-nested-cyoa.png\n",
    ":class: bg-primary mb-1\n",
    ":width: 600px\n",
    ":align: center\n",
    "```\n",
    "\n",
    "Simple example: I want to know if x is the same, less than, or greater than y. We can represent this as a chained conditional with three conditions. But we can also group the less than or greater than conditional block by itself since that only make sense in the situation where x and y are *not* the same (i.e., `x != y`)."
   ]
  },
  {
   "cell_type": "code",
   "execution_count": null,
   "id": "f6b1a757",
   "metadata": {},
   "outputs": [],
   "source": [
    "if x == y:\n",
    "    print(\"x and y are equal\")\n",
    "else:\n",
    "    if x < y:\n",
    "        print(\"x is less than y\")\n",
    "    else:\n",
    "        print(\"x is greater than y\")"
   ]
  },
  {
   "cell_type": "markdown",
   "id": "d01e805e",
   "metadata": {},
   "source": [
    "Another simple example: graduation requirements: if you've completed the base requirements and you have a 3.0 average, then we check: do you have sufficient electives? if yes, then great! if not, take more electives. if you don't have the core requirements done, then you need to take care of that first, we'll worry about electives later."
   ]
  },
  {
   "cell_type": "code",
   "execution_count": null,
   "id": "8b0cc51f",
   "metadata": {
    "id": "zQ5U8v4dGHI0"
   },
   "outputs": [],
   "source": [
    "if n_credits >= credit_threshold and GPA >= 3.0:\n",
    "    if n_electives >= electives_threshold:\n",
    "        print(\"Ready to graduate!\")\n",
    "    else:\n",
    "        print(\"Get more electives!\")\n",
    "else:\n",
    "    print(\"Finish core requirements with sufficient GPA!\")"
   ]
  },
  {
   "cell_type": "markdown",
   "id": "f58f2ca1",
   "metadata": {
    "id": "za2LAdfFDHww"
   },
   "source": [
    "Keywords/phrases that signal that this is appropriate? Something about having more than two choices, but some choices only make sense if some earlier condition is met. In other words, we have more of multiple forks, rather than a single fork."
   ]
  },
  {
   "cell_type": "markdown",
   "id": "0f9840ab",
   "metadata": {
    "id": "Nyxk2KfLIDXz"
   },
   "source": [
    "Practice! Let's translate these English instructions into Python conditional blocks.\n",
    "\n",
    "Polling booth: if you don't have an id, go away and register, then come back; if you have an id come on in! then, if you need assistance, go to the assisted booth; otherwise, go to the normal booth."
   ]
  },
  {
   "cell_type": "code",
   "execution_count": null,
   "id": "e2829d3c",
   "metadata": {
    "id": "KCe_GVMMICZh"
   },
   "outputs": [],
   "source": [
    "# polling booth: if your registration doesn't match this location, go away to the right place; if yes, then come on in! \n",
    "# then, if you need assistance, go to the assisted booth; otherwise, go to the normal booth.\n",
    "registration_here = True\n",
    "need_assistance = False"
   ]
  },
  {
   "cell_type": "markdown",
   "id": "e9267e90",
   "metadata": {},
   "source": [
    "graduation requirements: if you've completed the base requirements and you have a 3.0 average, then we check: do you have sufficient electives? if yes, then great! you're done!"
   ]
  },
  {
   "cell_type": "code",
   "execution_count": null,
   "id": "ae406be3",
   "metadata": {
    "id": "6Mb4FyanVT3_"
   },
   "outputs": [],
   "source": [
    "baseRequirementsMet = 22\n",
    "gpa = 2.5\n",
    "electives = 5"
   ]
  },
  {
   "cell_type": "markdown",
   "id": "c096ec69",
   "metadata": {},
   "source": [
    "Some people may say that sometimes this sort of code isn't great practice, because it can be hard to understand and debug. I'm not sure I completely agree. I think it depends on the structure of your problem. I like to write nested conditionals when the underlying logic is really like a garden of forking paths or choose your own adventure game."
   ]
  },
  {
   "cell_type": "markdown",
   "id": "000efb90",
   "metadata": {},
   "source": [
    "## Common errors\n",
    "\n",
    "### Syntax and indentation errors\n",
    "e.g., forgetting the colon, or forgetting to indent\n",
    "Best recommendation is to use templates for now as you set them up.\n",
    "\n",
    "### Boolean expression errors\n",
    "Most commonly, using `=` (this is assigning!) instead of `==` (the Boolean operator you actually want)! \n",
    "\n",
    "### Semantic errors\n",
    "Not covering all your bases or mapping the wrong conditions to outcomes.\n",
    "\n",
    "It can be helpful to diagram out or make a truth table to map out the conditions and outcomes to make sure you're covering all your bases. Example here for Project 1: https://docs.google.com/spreadsheets/d/1-q5XXbMDoji8AMVWxgUf5GW5CUOJfiWQTTV6u0-DwF8/edit?usp=sharing"
   ]
  }
 ],
 "metadata": {
  "jupytext": {
   "text_representation": {
    "extension": ".md",
    "format_name": "myst",
    "format_version": 0.13,
    "jupytext_version": "1.14.4"
   }
  },
  "kernelspec": {
   "display_name": "Python 3 (ipykernel)",
   "language": "python",
   "name": "python3"
  },
  "language_info": {
   "codemirror_mode": {
    "name": "ipython",
    "version": 3
   },
   "file_extension": ".py",
   "mimetype": "text/x-python",
   "name": "python",
   "nbconvert_exporter": "python",
   "pygments_lexer": "ipython3",
   "version": "3.9.7"
  },
  "source_map": [
   14,
   18,
   25,
   41,
   47,
   51,
   61,
   65,
   73,
   88,
   92,
   102,
   128,
   132,
   143,
   172,
   180,
   201,
   219,
   223,
   245,
   266,
   287,
   309,
   317,
   336,
   340,
   359,
   363,
   386,
   398,
   428,
   433,
   453,
   459,
   468,
   473,
   497,
   501,
   511,
   524,
   531,
   537,
   561,
   588,
   604,
   612,
   616,
   628,
   632,
   638,
   645,
   649,
   655,
   659
  ]
 },
 "nbformat": 4,
 "nbformat_minor": 5
}