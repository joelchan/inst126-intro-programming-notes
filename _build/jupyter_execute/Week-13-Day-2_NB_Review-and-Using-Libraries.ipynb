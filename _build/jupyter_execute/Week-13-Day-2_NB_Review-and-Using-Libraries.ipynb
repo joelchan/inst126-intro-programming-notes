{
 "cells": [
  {
   "cell_type": "markdown",
   "metadata": {
    "id": "N4H_rfG4QY6w"
   },
   "source": [
    "## Review: key concept of the path for files, debugging"
   ]
  },
  {
   "cell_type": "markdown",
   "metadata": {
    "id": "hftdKWaHQdHa"
   },
   "source": [
    "General: the file exists in a location in \"the real world\". The path gives directions to where that file exists, assuming you are starting from \"the top\". \n",
    "\n",
    "\n"
   ]
  },
  {
   "cell_type": "code",
   "execution_count": 1,
   "metadata": {
    "id": "rCfL6bPrWggD"
   },
   "outputs": [
    {
     "ename": "FileNotFoundError",
     "evalue": "[Errno 2] No such file or directory: './data/testudo_fall2020.csv'",
     "output_type": "error",
     "traceback": [
      "\u001b[0;31m---------------------------------------------------------------------------\u001b[0m",
      "\u001b[0;31mFileNotFoundError\u001b[0m                         Traceback (most recent call last)",
      "\u001b[0;32m/var/folders/xz/_hjc5hsx743dclmg8n5678nc0000gn/T/ipykernel_77360/508148311.py\u001b[0m in \u001b[0;36m<module>\u001b[0;34m\u001b[0m\n\u001b[1;32m      4\u001b[0m \u001b[0mfilename\u001b[0m \u001b[0;34m=\u001b[0m \u001b[0;34m'testudo_fall2020.csv'\u001b[0m\u001b[0;34m\u001b[0m\u001b[0;34m\u001b[0m\u001b[0m\n\u001b[1;32m      5\u001b[0m \u001b[0mfpath\u001b[0m \u001b[0;34m=\u001b[0m \u001b[0;34mf'{directions}/{filename}'\u001b[0m\u001b[0;34m\u001b[0m\u001b[0;34m\u001b[0m\u001b[0m\n\u001b[0;32m----> 6\u001b[0;31m \u001b[0mf\u001b[0m \u001b[0;34m=\u001b[0m \u001b[0mopen\u001b[0m\u001b[0;34m(\u001b[0m\u001b[0mfpath\u001b[0m\u001b[0;34m,\u001b[0m \u001b[0;34m'r'\u001b[0m\u001b[0;34m)\u001b[0m\u001b[0;34m\u001b[0m\u001b[0;34m\u001b[0m\u001b[0m\n\u001b[0m\u001b[1;32m      7\u001b[0m \u001b[0mf\u001b[0m\u001b[0;34m.\u001b[0m\u001b[0mread\u001b[0m\u001b[0;34m(\u001b[0m\u001b[0;34m)\u001b[0m\u001b[0;34m\u001b[0m\u001b[0;34m\u001b[0m\u001b[0m\n",
      "\u001b[0;31mFileNotFoundError\u001b[0m: [Errno 2] No such file or directory: './data/testudo_fall2020.csv'"
     ]
    }
   ],
   "source": [
    "# go up a level (`..`) and look for the `Project 4 Dataset` folder\n",
    "directions = './data'\n",
    "# this is the name of the file you are looking for\n",
    "filename = 'testudo_fall2020.csv'\n",
    "fpath = f'{directions}/{filename}'\n",
    "f = open(fpath, 'r')\n",
    "f.read()"
   ]
  },
  {
   "cell_type": "markdown",
   "metadata": {
    "id": "bbhPh_pHWUrf"
   },
   "source": [
    "When there is *any* mismatch between your directions and the real world, Python will choke and give you the `FileNotFoundError: [Errno 2] No such file or directory: ...`\n",
    "\n",
    "Many of you have been facing problems with Files that were variants of this problem.\n",
    "- Your mental model of where the file is was correct, but you were missing or misspelling one or more elements in the path\n",
    "- Your mental model of where the file is was inccorrect\n",
    "\n",
    "The general fix is to remove the mismatch between your directions and the real world. The specifics depends on the nature of the mismatch, which you need to diagnose, like a doctor! Make yes/no hypotheses, a means to test them, and rule them out one by one until you come to the right diagnosis."
   ]
  },
  {
   "cell_type": "code",
   "execution_count": 32,
   "metadata": {},
   "outputs": [
    {
     "ename": "FileNotFoundError",
     "evalue": "[Errno 2] No such file or directory: '../Project 3 Sample datasets/colors'",
     "output_type": "error",
     "traceback": [
      "\u001b[0;31m---------------------------------------------------------------------------\u001b[0m",
      "\u001b[0;31mFileNotFoundError\u001b[0m                         Traceback (most recent call last)",
      "\u001b[0;32m/var/folders/xz/_hjc5hsx743dclmg8n5678nc0000gn/T/ipykernel_29873/2832678480.py\u001b[0m in \u001b[0;36m<module>\u001b[0;34m\u001b[0m\n\u001b[1;32m      4\u001b[0m \u001b[0mfilename\u001b[0m \u001b[0;34m=\u001b[0m \u001b[0;34m'colors'\u001b[0m\u001b[0;34m\u001b[0m\u001b[0;34m\u001b[0m\u001b[0m\n\u001b[1;32m      5\u001b[0m \u001b[0mfpath\u001b[0m \u001b[0;34m=\u001b[0m \u001b[0;34mf'{directions}/{filename}'\u001b[0m\u001b[0;34m\u001b[0m\u001b[0;34m\u001b[0m\u001b[0m\n\u001b[0;32m----> 6\u001b[0;31m \u001b[0mf\u001b[0m \u001b[0;34m=\u001b[0m \u001b[0mopen\u001b[0m\u001b[0;34m(\u001b[0m\u001b[0mfpath\u001b[0m\u001b[0;34m,\u001b[0m \u001b[0;34m'r'\u001b[0m\u001b[0;34m)\u001b[0m\u001b[0;34m\u001b[0m\u001b[0;34m\u001b[0m\u001b[0m\n\u001b[0m\u001b[1;32m      7\u001b[0m \u001b[0mlines\u001b[0m \u001b[0;34m=\u001b[0m \u001b[0mf\u001b[0m\u001b[0;34m.\u001b[0m\u001b[0mread\u001b[0m\u001b[0;34m(\u001b[0m\u001b[0;34m)\u001b[0m\u001b[0;34m.\u001b[0m\u001b[0msplitlines\u001b[0m\u001b[0;34m(\u001b[0m\u001b[0;34m)\u001b[0m\u001b[0;34m\u001b[0m\u001b[0;34m\u001b[0m\u001b[0m\n\u001b[1;32m      8\u001b[0m \u001b[0mlines\u001b[0m\u001b[0;34m\u001b[0m\u001b[0;34m\u001b[0m\u001b[0m\n",
      "\u001b[0;31mFileNotFoundError\u001b[0m: [Errno 2] No such file or directory: '../Project 3 Sample datasets/colors'"
     ]
    }
   ],
   "source": [
    "# go up a level (`..`) and look for the `Project 4 Dataset` folder\n",
    "directions = '../Project 3 Sample datasets'\n",
    "# this is the name of the file you are looking for\n",
    "filename = 'colors'\n",
    "fpath = f'{directions}/{filename}'\n",
    "f = open(fpath, 'r')\n",
    "lines = f.read().splitlines()\n",
    "lines"
   ]
  },
  {
   "cell_type": "code",
   "execution_count": null,
   "metadata": {},
   "outputs": [],
   "source": []
  },
  {
   "cell_type": "markdown",
   "metadata": {
    "id": "MKRiDOklsetz"
   },
   "source": [
    "## Importing and using libraries"
   ]
  },
  {
   "cell_type": "markdown",
   "metadata": {
    "id": "l2gfEzKViujS"
   },
   "source": [
    "### What is a library?\n",
    "\n",
    "You can think of a library is a **collection of functions and data structures**. You *import* a library (or subsets of it) into your program / notebook so you have access to special functions or data structures in your program.\n",
    "\n",
    "You are already using Python's standard library, which includes built-in functions like `print()`, and built-in data structures like `str` and `dict`. Every time you fire up Python, these are \"imported\" into your program in the background.\n",
    "\n",
    "As you advance in your programming career, you will often find that you want to solve some (sub)problems that others have tried to do, and wrote a collection of functions and/or data structures to solve those problems really well, and saved that collection into a library that others can use. Take advantage of this!"
   ]
  },
  {
   "cell_type": "markdown",
   "metadata": {
    "id": "u7jmcWXJsw7l"
   },
   "source": [
    "### \"importing\" a library: mechanics"
   ]
  },
  {
   "cell_type": "markdown",
   "metadata": {
    "id": "iwVuI5GmszeR"
   },
   "source": [
    "Here's what it looks like to import a library and use it, conceptually with a \"fake\" library, and with the pandas library"
   ]
  },
  {
   "cell_type": "markdown",
   "metadata": {
    "id": "3mp-JCPQs87F"
   },
   "source": [
    "![](https://firebasestorage.googleapis.com/v0/b/firescript-577a2.appspot.com/o/imgs%2Fapp%2Fmegacoglab%2F0P_oLpCNzy.png?alt=media&token=0908b80b-a761-4588-85b5-7c87bee6bf0e)"
   ]
  },
  {
   "cell_type": "markdown",
   "metadata": {
    "id": "d0xPjQu2s9RF"
   },
   "source": [
    "We often want to import libraries with \"as\"\n",
    "\n",
    "The name after `as` is sort of like a variable name; usually we do that if the library name is clunky, or might conflict with variable names we want to use\n",
    "\n",
    "For pandas, by convention people usually import it `as pd`."
   ]
  },
  {
   "cell_type": "markdown",
   "metadata": {
    "id": "zUfoA-0etIkg"
   },
   "source": [
    "![](https://firebasestorage.googleapis.com/v0/b/firescript-577a2.appspot.com/o/imgs%2Fapp%2Fmegacoglab%2FLJ66aL66zf.png?alt=media&token=e0ae487c-910f-48bc-a8f2-ac42424009a9)"
   ]
  },
  {
   "cell_type": "markdown",
   "metadata": {
    "id": "wArN5QpYtck8"
   },
   "source": [
    "Let's do that quickly to illustrate."
   ]
  },
  {
   "cell_type": "code",
   "execution_count": null,
   "metadata": {
    "id": "p_bX2Zdhtfs0"
   },
   "outputs": [],
   "source": [
    "import pandas as pd"
   ]
  },
  {
   "cell_type": "code",
   "execution_count": null,
   "metadata": {
    "id": "hTidhAj42g0a"
   },
   "outputs": [],
   "source": [
    "pd."
   ]
  },
  {
   "cell_type": "code",
   "execution_count": null,
   "metadata": {
    "id": "K6uz_naEvke3"
   },
   "outputs": [],
   "source": [
    "file = '/content/drive/My Drive/_Teaching/INST126/INST126_Materials/_Lectures/INST courses.csv'\n",
    "df = pd.read_csv(file)"
   ]
  },
  {
   "cell_type": "markdown",
   "metadata": {
    "id": "_Bq_hzfrwLdS"
   },
   "source": [
    "File we're playing with is [here](https://drive.google.com/file/d/1mOEF5mGu810pCNPh73fK1UDslU6OW8bb/view?usp=sharing). "
   ]
  },
  {
   "cell_type": "code",
   "execution_count": null,
   "metadata": {
    "colab": {
     "base_uri": "https://localhost:8080/",
     "height": 580
    },
    "executionInfo": {
     "elapsed": 584,
     "status": "ok",
     "timestamp": 1619442311348,
     "user": {
      "displayName": "Joel Chan",
      "photoUrl": "https://lh3.googleusercontent.com/a-/AOh14GiBPPpBf_QqgDL3pMurAsPu9WJJE_x_6UtgW13UFQ=s64",
      "userId": "15153559228409906865"
     },
     "user_tz": 240
    },
    "id": "1A4nn6EKwXbT",
    "outputId": "91b0269e-4780-40d1-e4aa-a6db87c8f931",
    "scrolled": true
   },
   "outputs": [
    {
     "data": {
      "text/html": [
       "<div>\n",
       "<style scoped>\n",
       "    .dataframe tbody tr th:only-of-type {\n",
       "        vertical-align: middle;\n",
       "    }\n",
       "\n",
       "    .dataframe tbody tr th {\n",
       "        vertical-align: top;\n",
       "    }\n",
       "\n",
       "    .dataframe thead th {\n",
       "        text-align: right;\n",
       "    }\n",
       "</style>\n",
       "<table border=\"1\" class=\"dataframe\">\n",
       "  <thead>\n",
       "    <tr style=\"text-align: right;\">\n",
       "      <th></th>\n",
       "      <th>Code</th>\n",
       "      <th>Title</th>\n",
       "      <th>Description</th>\n",
       "      <th>Prereqs</th>\n",
       "      <th>Credits</th>\n",
       "    </tr>\n",
       "  </thead>\n",
       "  <tbody>\n",
       "    <tr>\n",
       "      <th>0</th>\n",
       "      <td>INST126</td>\n",
       "      <td>Introduction to Programming for Information Sc...</td>\n",
       "      <td>An introduction to computer programming for st...</td>\n",
       "      <td>Minimum grade of C- in MATH115; or must have m...</td>\n",
       "      <td>3.0</td>\n",
       "    </tr>\n",
       "    <tr>\n",
       "      <th>1</th>\n",
       "      <td>INST201</td>\n",
       "      <td>Introduction to Information Science</td>\n",
       "      <td>Examining the effects of new information techn...</td>\n",
       "      <td>None</td>\n",
       "      <td>3.0</td>\n",
       "    </tr>\n",
       "    <tr>\n",
       "      <th>2</th>\n",
       "      <td>INST311</td>\n",
       "      <td>Information Organization</td>\n",
       "      <td>Examines the theories, concepts, and principle...</td>\n",
       "      <td>Must have completed or be concurrently enrolle...</td>\n",
       "      <td>3.0</td>\n",
       "    </tr>\n",
       "    <tr>\n",
       "      <th>3</th>\n",
       "      <td>INST314</td>\n",
       "      <td>Statistics for Information Science</td>\n",
       "      <td>Basic concepts in statistics including measure...</td>\n",
       "      <td>Must have completed or be concurrently enrolle...</td>\n",
       "      <td>3.0</td>\n",
       "    </tr>\n",
       "    <tr>\n",
       "      <th>4</th>\n",
       "      <td>INST326</td>\n",
       "      <td>Object-Oriented Programming for Information Sc...</td>\n",
       "      <td>An introduction to programming, emphasizing un...</td>\n",
       "      <td>1 course with a minimum grade of C- from (INST...</td>\n",
       "      <td>3.0</td>\n",
       "    </tr>\n",
       "    <tr>\n",
       "      <th>5</th>\n",
       "      <td>INST327</td>\n",
       "      <td>Database Design and Modeling</td>\n",
       "      <td>Introduction to databases, the relational mode...</td>\n",
       "      <td>1 course with a minimum grade of C- from (CMSC...</td>\n",
       "      <td>3.0</td>\n",
       "    </tr>\n",
       "    <tr>\n",
       "      <th>6</th>\n",
       "      <td>INST335</td>\n",
       "      <td>Teams and Organizations</td>\n",
       "      <td>Team development and the principles, methods a...</td>\n",
       "      <td>1 course with a minimum grade of C- from (INST...</td>\n",
       "      <td>3.0</td>\n",
       "    </tr>\n",
       "    <tr>\n",
       "      <th>7</th>\n",
       "      <td>INST346</td>\n",
       "      <td>Technologies Infrastructure and Architecture</td>\n",
       "      <td>Examines the basic concepts of local and wide-...</td>\n",
       "      <td>1 course with a minimum grade of C- from (INST...</td>\n",
       "      <td>3.0</td>\n",
       "    </tr>\n",
       "    <tr>\n",
       "      <th>8</th>\n",
       "      <td>INST352</td>\n",
       "      <td>Information User Needs and Assessment</td>\n",
       "      <td>Focuses on use of information by individuals, ...</td>\n",
       "      <td>1 course with a minimum grade of C- from (INST...</td>\n",
       "      <td>3.0</td>\n",
       "    </tr>\n",
       "    <tr>\n",
       "      <th>9</th>\n",
       "      <td>INST354</td>\n",
       "      <td>Decision-Making for Information Science</td>\n",
       "      <td>Examines the use of information in organizatio...</td>\n",
       "      <td>INST314.</td>\n",
       "      <td>3.0</td>\n",
       "    </tr>\n",
       "  </tbody>\n",
       "</table>\n",
       "</div>"
      ],
      "text/plain": [
       "      Code  ... Credits\n",
       "0  INST126  ...     3.0\n",
       "1  INST201  ...     3.0\n",
       "2  INST311  ...     3.0\n",
       "3  INST314  ...     3.0\n",
       "4  INST326  ...     3.0\n",
       "5  INST327  ...     3.0\n",
       "6  INST335  ...     3.0\n",
       "7  INST346  ...     3.0\n",
       "8  INST352  ...     3.0\n",
       "9  INST354  ...     3.0\n",
       "\n",
       "[10 rows x 5 columns]"
      ]
     },
     "execution_count": 4,
     "metadata": {
      "tags": []
     },
     "output_type": "execute_result"
    }
   ],
   "source": [
    "df.head(10) # show me the top 10 rows in the dataframe"
   ]
  },
  {
   "cell_type": "code",
   "execution_count": 3,
   "metadata": {},
   "outputs": [],
   "source": [
    "emails = [\"joelchan@umd.edu\", \"sarah@umd.edu\"]\n",
    "target_email = \"rk@umd.edu\"\n",
    "if target_email in emails:\n",
    "    print(\"Found it!\")"
   ]
  },
  {
   "cell_type": "code",
   "execution_count": 8,
   "metadata": {},
   "outputs": [
    {
     "data": {
      "text/plain": [
       "'12345'"
      ]
     },
     "execution_count": 8,
     "metadata": {},
     "output_type": "execute_result"
    }
   ],
   "source": [
    "string = \"12345678\"\n",
    "string[0:5]"
   ]
  },
  {
   "cell_type": "code",
   "execution_count": 10,
   "metadata": {},
   "outputs": [
    {
     "data": {
      "text/plain": [
       "3"
      ]
     },
     "execution_count": 10,
     "metadata": {},
     "output_type": "execute_result"
    }
   ],
   "source": [
    "words = [\"a\", \"b\", \"c\", \"d\", \"a\"]\n",
    "sensitive_words = [\"a\", \"c\"]\n",
    "# make a count variable (int)\n",
    "count = 0\n",
    "# go through list of sensitive words (list of string) \n",
    "for s_word in sensitive_words:\n",
    "    # count occurences of sensitive word (element) in words (list)\n",
    "    this_count = words.count(s_word)\n",
    "    # add to our count\n",
    "    count += this_count\n",
    "count"
   ]
  },
  {
   "cell_type": "code",
   "execution_count": 11,
   "metadata": {},
   "outputs": [
    {
     "data": {
      "text/plain": [
       "2"
      ]
     },
     "execution_count": 11,
     "metadata": {},
     "output_type": "execute_result"
    }
   ],
   "source": [
    "# count occurences of sensitive word (element) in words (list)\n",
    "s_word = \"a\"\n",
    "words = [\"a\", \"b\", \"c\", \"d\", \"a\"]\n",
    "words.count(s_word)"
   ]
  }
 ],
 "metadata": {
  "colab": {
   "collapsed_sections": [],
   "name": "INST126_SP21_Week14_Pandas-1.ipynb",
   "provenance": [
    {
     "file_id": "1kJy7BqKo1Edp7m9QOPL43MWZ5VRsTzXl",
     "timestamp": 1606742957063
    }
   ],
   "toc_visible": true
  },
  "kernelspec": {
   "display_name": "Python 3 (ipykernel)",
   "language": "python",
   "name": "python3"
  },
  "language_info": {
   "codemirror_mode": {
    "name": "ipython",
    "version": 3
   },
   "file_extension": ".py",
   "mimetype": "text/x-python",
   "name": "python",
   "nbconvert_exporter": "python",
   "pygments_lexer": "ipython3",
   "version": "3.9.7"
  }
 },
 "nbformat": 4,
 "nbformat_minor": 1
}