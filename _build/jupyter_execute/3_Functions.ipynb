{
 "cells": [
  {
   "cell_type": "markdown",
   "id": "096a05f0",
   "metadata": {},
   "source": [
    "# 3: Functions\n",
    "\n",
    "## Learning goals:\n",
    "- Explain why we need functions in our programs\n",
    "- Identify key components of a function in Python\n",
    "- Construct a function block, from scratch\n",
    "- Convert existing code to a function\n",
    "- Use a function\n",
    "- Identify common errors with functions\n",
    "\n",
    "## What are functions and why do we care about them?\n",
    "Functions are basically machines that take some __input(s)__, do some __operations__ on the input(s), and then produce an __output__.\n",
    "\n",
    "Why we need functions:    \n",
    "- Model your problem so that it can be solved by a computer well aka Computational Thinking\n",
    "- Make fewer errors (reduce points of failure from copy/paste, etc.)\n",
    "\n",
    "Motivating example: simple data analysis pipeline to compute percent change in revenue from last year.\n",
    "\n",
    "We have two sales numbers\n",
    "- `last_year = \"$150,000\"`\n",
    "- `this_year = \"$230,000\"`\n",
    "\n",
    "Q: How can we analyze them? What are the subproblems here that we'll need to solve?\n",
    "\n",
    "```{admonition} A:\n",
    ":class: toggle\n",
    "Two main substeps:\n",
    "1. CONVERT strings to integers\n",
    "2. COMPUTE the percent change\n",
    "```\n",
    "\n",
    "Also, pragmatically: I'm explaining functions now so the PCEs are a little less confusing.\n",
    "\n",
    "You'll really start to feel a practical need for functions once your programs start to approach a regular level fo complexity, starting in Module 2 or so.\n",
    "\n",
    "## The basic pattern: DEFINE a function, use (CALL) a function\n",
    "\n",
    "There are two main parts of using functions in programming: 1) DEFINING a function, and then 2) CALLING (using) a function.\n",
    "\n",
    "Here's an example:"
   ]
  },
  {
   "cell_type": "code",
   "execution_count": 1,
   "id": "368609bf",
   "metadata": {},
   "outputs": [],
   "source": [
    "# DEFINE a function that takes an input string and adds a specified number of characters to it\n",
    "def longer(inputString, howMany):\n",
    "    # what to add; create a string that is \n",
    "    # howMany characters long (by multiplying)\n",
    "    toAdd = \"a\"*howMany\n",
    "    # add that long character to the input string\n",
    "    # and store result\n",
    "    result = inputString + toAdd\n",
    "    # return the result\n",
    "    return result"
   ]
  },
  {
   "cell_type": "code",
   "execution_count": 2,
   "id": "b66a1da8",
   "metadata": {},
   "outputs": [
    {
     "name": "stdout",
     "output_type": "stream",
     "text": [
      "S is originally 6 characters long. Here it is: huzzah\n",
      "S is now 9 characters long after adding 3 characters. Here it is: huzzahaaa\n"
     ]
    }
   ],
   "source": [
    "s = \"huzzah\"\n",
    "# this is how the string is rn\n",
    "print(\"S is originally\", len(s), \"characters long. Here it is:\", s)\n",
    "# now CALL the longer() function to make s 3 characters longer\n",
    "howMany = 3\n",
    "longer_s = longer(s, howMany)\n",
    "# this is how long the string is now\n",
    "print(\"S is now\", len(longer_s), \"characters long after adding\", howMany, \"characters. Here it is:\", longer_s)"
   ]
  },
  {
   "cell_type": "markdown",
   "id": "e9fcc1e1",
   "metadata": {},
   "source": [
    "The first cell defines the function `longer()`. The second cell *calls* the function on the 6th line (`longer(s, howMany)`).\n",
    "\n",
    "Here's another example."
   ]
  },
  {
   "cell_type": "code",
   "execution_count": 3,
   "id": "5b7a1a3b",
   "metadata": {},
   "outputs": [],
   "source": [
    "def minutes_to_hours(minutes):\n",
    "    result = minutes/60\n",
    "    return result"
   ]
  },
  {
   "cell_type": "code",
   "execution_count": 4,
   "id": "9e44821c",
   "metadata": {},
   "outputs": [
    {
     "name": "stdout",
     "output_type": "stream",
     "text": [
      "150 minutes is 2.5 hours\n"
     ]
    }
   ],
   "source": [
    "minutes = 150\n",
    "hours = minutes_to_hours(minutes)\n",
    "print(minutes, \"minutes is\", hours, \"hours\")"
   ]
  },
  {
   "cell_type": "markdown",
   "id": "d3690693",
   "metadata": {},
   "source": [
    "The first cell is the function definition. The second cell *calls* the function on the 2nd line (`minutes_to_hours(minutes)`).\n",
    "\n",
    "Let's practice! Look at the following two cells."
   ]
  },
  {
   "cell_type": "code",
   "execution_count": 5,
   "id": "e283f46f",
   "metadata": {},
   "outputs": [],
   "source": [
    "# A\n",
    "def greet_user(username):\n",
    "    msg = \"Hello \" + username + \"!\"\n",
    "    return msg"
   ]
  },
  {
   "cell_type": "code",
   "execution_count": 6,
   "id": "ef8de02c",
   "metadata": {},
   "outputs": [
    {
     "name": "stdout",
     "output_type": "stream",
     "text": [
      "Hello Joel!\n"
     ]
    }
   ],
   "source": [
    "# B\n",
    "username = \"Joel\"\n",
    "greeting = greet_user(username)\n",
    "print(greeting)"
   ]
  },
  {
   "cell_type": "markdown",
   "id": "76fc3495",
   "metadata": {},
   "source": [
    "Q: Which one is the function definition and which one is the function call?\n",
    "```{admonition} A:\n",
    ":class: toggle\n",
    "A is the function definition, and B has code that calls the function.\n",
    "```\n",
    "\n",
    "Q: Which line in the function call cell is actually calling the function?\n",
    "```{admonition} A:\n",
    ":class: toggle\n",
    "Line 3!\n",
    "```\n",
    "\n",
    "This define-call sequence should look similar to our PCE structure! \n",
    "\n",
    "In later more complex programs, you often define a few functions at once, or borrow them from other bits of code, and then use them in a single program. You can also compose functions into larger functions!\n",
    "\n",
    "Here's an example sequence of functions from our motivating example."
   ]
  },
  {
   "cell_type": "code",
   "execution_count": 7,
   "id": "ffcbcdd2",
   "metadata": {},
   "outputs": [],
   "source": [
    "# DEFINE the two sub-functions we need\n",
    "\n",
    "def clean_sale_number(saleNumStr): \n",
    "    # make the input numbers actually numbers\n",
    "    # 1: remove dollar signs\n",
    "    saleNumStr = saleNumStr.replace(\"$\", \"\")\n",
    "    # 2: remove the comma\n",
    "    saleNumStr = saleNumStr.replace(\",\", \"\")\n",
    "    # 3: convert to float\n",
    "    result = float(saleNumStr)\n",
    "    return result \n",
    "\n",
    "def compute_percent_change(lastYear, thisYear):\n",
    "    # first make the input numbers actually numbers\n",
    "    lastYear = clean_sale_number(lastYear)\n",
    "    thisYear = clean_sale_number(thisYear)\n",
    "\n",
    "    # then compute the percent change\n",
    "    result = ((thisYear - lastYear)/lastYear)*100\n",
    "    return result"
   ]
  },
  {
   "cell_type": "code",
   "execution_count": 8,
   "id": "1633bf30",
   "metadata": {},
   "outputs": [
    {
     "name": "stdout",
     "output_type": "stream",
     "text": [
      "151.19986616009368\n"
     ]
    }
   ],
   "source": [
    "# actually use (CALL) the functions.\n",
    "\n",
    "lastYear = \"$500,000.35\"\n",
    "thisYear = \"$1,256,000.21\"\n",
    "percentChange = compute_percent_change(lastYear, thisYear)\n",
    "print(percentChange)"
   ]
  },
  {
   "cell_type": "markdown",
   "id": "0172ab08",
   "metadata": {},
   "source": [
    "Q: Where are the function calls?\n",
    "```{admonition} A:\n",
    ":class: toggle\n",
    "On the third line of the second cell (`compute_percent_change(lastYear, thisYear)`), but also inside the body of the `compute_percent_change()` function definition, calling the `clean_sale_number()` function for both `lastYear` and `thisYear` variables!\n",
    "```\n",
    "\n",
    "Without functions, we would need to copy/paste the clean sales operation. This is both annoying and increases the likelihood of errors!"
   ]
  },
  {
   "cell_type": "code",
   "execution_count": 9,
   "id": "10538778",
   "metadata": {},
   "outputs": [],
   "source": [
    "def compute_percent_change(lastYear, thisYear):\n",
    "    # first make the input numbers actually numbers\n",
    "    # make the input numbers actually numbers\n",
    "    # 1: remove dollar signs\n",
    "    lastYear = lastYear.replace(\"$\", \"\")\n",
    "    # 2: remove the comma\n",
    "    lastYear = lastYear.replace(\",\", \"\")\n",
    "    # 3: convert to float\n",
    "    lastYear = float(lastYear)\n",
    "    \n",
    "     # make the input numbers actually numbers\n",
    "    # 1: remove dollar signs\n",
    "    thisYear = thisYear.replace(\"$\", \"\")\n",
    "    # 2: remove the comma\n",
    "    thisYear = thisYear.replace(\",\", \"\")\n",
    "    # 3: convert to float\n",
    "    thisYear = float(thisYear)\n",
    "\n",
    "    # then compute the percent change\n",
    "    result = ((thisYear - lastYear)/lastYear)*100\n",
    "    return result"
   ]
  },
  {
   "cell_type": "markdown",
   "id": "d57293f0",
   "metadata": {},
   "source": [
    "## Anatomy of a Python function definition and function call\n",
    "\n",
    "Let's take a closer look at what a function actually is in Python.\n",
    "\n",
    "### Function definition\n",
    "\n",
    "In Python, a function consist of three main components:\n",
    "1. **Parameters**: what are the main __input__ variables your function will be manipulating?\n",
    "2. **Body of the function:** what __operations__ will your function be performing on/with the input variables?\n",
    "3. **Return value**: what will your function's __output __be (i.e., what will come out of the function to the code that is calling the function)?\n",
    "\n",
    "Let's go back to our example of a function to convert minutes to hours."
   ]
  },
  {
   "cell_type": "code",
   "execution_count": 10,
   "id": "8eb520b2",
   "metadata": {},
   "outputs": [],
   "source": [
    "def minutes_to_hours(minutes):\n",
    "    result = minutes/60\n",
    "    return result"
   ]
  },
  {
   "cell_type": "markdown",
   "id": "421b65b5",
   "metadata": {},
   "source": [
    "The function `minutes_to_hours()` has input __parameter__ `minutes`, a __body __of code that divides `minutes` by 60 and stores it in the variable `result`, and a `return value` that is the value of the variable `result`\n",
    "\n",
    "So that's the conceptual bits of a function. There's also the syntax bits that make up a function definition. To see what they are, let's compare the function definition to two other function definitions."
   ]
  },
  {
   "cell_type": "code",
   "execution_count": 11,
   "id": "763f62d5",
   "metadata": {},
   "outputs": [],
   "source": [
    "def greet_user(username):\n",
    "    msg = \"Hello \" + username + \"!\"\n",
    "    return msg"
   ]
  },
  {
   "cell_type": "code",
   "execution_count": 12,
   "id": "b956d33e",
   "metadata": {},
   "outputs": [],
   "source": [
    "def longer(inputString, howMany):\n",
    "    toAdd = \"a\"*howMany\n",
    "    result = inputString + toAdd\n",
    "    return result"
   ]
  },
  {
   "cell_type": "markdown",
   "id": "5460a912",
   "metadata": {},
   "source": [
    "There's a fair bit to notice here. \n",
    "\n",
    "Q: What do you see here that you think is important?\n",
    "```{admonition} A:\n",
    ":class: toggle\n",
    "1. def (bold green)\n",
    "2. return (bold green), indented under the function name\n",
    "3. name of the function (typically in blue)\n",
    "4. parentheses after the function name\n",
    "5. one or more parameters inside the parentheses\n",
    "6. colon\n",
    "7. indented code as the body of the function (everything between the colon and the return statement)\n",
    "```\n",
    "\n",
    "Let's practice with another function definition."
   ]
  },
  {
   "cell_type": "code",
   "execution_count": 13,
   "id": "d93c9be8",
   "metadata": {},
   "outputs": [],
   "source": [
    "def greet_user(username):\n",
    "    msg = \"Hello \" + username + \"!\"\n",
    "    return msg"
   ]
  },
  {
   "cell_type": "markdown",
   "id": "63bf742c",
   "metadata": {},
   "source": [
    "Q: What are the parameters, function body, and return value(s) here?\n",
    "```{admonition} A:\n",
    ":class: toggle\n",
    "1. Parameter(s): username\n",
    "2. Function body: `msg = \"Hello \" + username + \"!\"`\n",
    "3. Return value: msg\n",
    "```\n",
    "\n",
    "And another example:"
   ]
  },
  {
   "cell_type": "code",
   "execution_count": 14,
   "id": "8c219136",
   "metadata": {},
   "outputs": [],
   "source": [
    "def longer(inputString, howMany):\n",
    "    toAdd = \"a\"*howMany\n",
    "    result = inputString + toAdd\n",
    "    return result"
   ]
  },
  {
   "cell_type": "markdown",
   "id": "6f656456",
   "metadata": {},
   "source": [
    "Q: What are the parameters, function body, and return value(s) here?\n",
    "```{admonition} A:\n",
    ":class: toggle\n",
    "1. Parameter(s): inputString, howMany\n",
    "2. Function body: lines 2 and 3\n",
    "3. Return value: result\n",
    "```\n",
    "\n",
    "NOTE: when you run a function definition, there should be no output. The same thing is happening as with a variable assignment statement, like `a = 3`. Python is storing the code in the function body (and its associated parameters and return values) to be used later, just like with `a = 3`, Python is storing the value of `3` in the variable `a` to be used later.\n",
    "\n",
    "So. When you write a colon after a variable name, and indent code after it, it's equivalent to an assignment statement (you're assigning the code body and return statement to the function name).\n",
    "\n",
    "### Function call\n",
    "\n",
    "In Python, function calls consist of at least:\n",
    "1. A reference to the **function name**\n",
    "2. One or more **arguments** (inside **parentheses**) to pass as input to the function (how many and what type is determined by the parameters in the function definition)\n",
    "Alongside other code\n",
    "\n",
    "Let's look at an example."
   ]
  },
  {
   "cell_type": "code",
   "execution_count": 15,
   "id": "4964d28a",
   "metadata": {},
   "outputs": [
    {
     "name": "stdout",
     "output_type": "stream",
     "text": [
      "2.5\n"
     ]
    }
   ],
   "source": [
    "mins = 150\n",
    "# call the minutes_to_hours function\n",
    "# with mins as an argument\n",
    "# and store the return value in the variable hours\n",
    "hours = minutes_to_hours(mins)\n",
    "print(hours)"
   ]
  },
  {
   "cell_type": "markdown",
   "id": "74670553",
   "metadata": {},
   "source": [
    "Here, we have the function name (`minutes_to_hours`), and the argument `mins` being passed as input to the function, and code that takes the return value from the function and prints it out.\n",
    "\n",
    "Here it is in pictures\n",
    "\n",
    "```{image} assets/function-definition-annotated.png\n",
    ":alt: typeError\n",
    ":class: bg-primary mb-1\n",
    ":width: 800px\n",
    ":align: center\n",
    "```\n",
    "\n",
    "```{image} assets/function-call-annotated.png\n",
    ":alt: typeError\n",
    ":class: bg-primary mb-1\n",
    ":width: 500px\n",
    ":align: center\n",
    "```\n",
    "\n",
    "What's happening under the hood at this function call is:\n",
    "1. Define the variable `mins` and put the value 150 in it\n",
    "2. Retrieve the code associated with the function name `minutes_to_hours` and give it `mins` as an input argument\n",
    "3. Run the code associated with the function name `minutes_to_hours` with `mins` as input, and return the result\n",
    "4. Pass that result to the `print` function (yes, this is a function also!) as an input argument.\n",
    "\n",
    "It may help to [plug this code (and really all the other examples in this lecture) into pythontutor](https://pythontutor.com/python-compiler.html#mode=edit) to step through it line by line.\n",
    "\n",
    "Let's look at another example pair."
   ]
  },
  {
   "cell_type": "code",
   "execution_count": 16,
   "id": "849210d7",
   "metadata": {},
   "outputs": [],
   "source": [
    "def bouncer(age):\n",
    "    result = age >= 21\n",
    "    return result"
   ]
  },
  {
   "cell_type": "code",
   "execution_count": 17,
   "id": "54f9404d",
   "metadata": {},
   "outputs": [
    {
     "name": "stdout",
     "output_type": "stream",
     "text": [
      "True\n"
     ]
    }
   ],
   "source": [
    "your_age = 24\n",
    "come_in = bouncer(your_age)\n",
    "print(come_in)"
   ]
  },
  {
   "cell_type": "markdown",
   "id": "9c259a1a",
   "metadata": {},
   "source": [
    "<!-- Q: Where are the parameters and arguments?\n",
    "```{admonition} A:\n",
    ":class: toggle\n",
    "Parameter: age\n",
    "Argument: your_age\n",
    "``` -->\n",
    "\n",
    "### Key idea: Arguments vs. parameters\n",
    "\n",
    "Parameters and arguments are easy to confuse. They both go in the parentheses after the function name. What's the difference?\n",
    "\n",
    "It helps me to think of them as two sides of a special kind of variable assignment statement.\n",
    "\n",
    "Parameters are the key *variables* in the function (what's on the left side of an assignment statement). \n",
    "Arguments are the *values* you assign to those variables when you use the function (what's on the right side of an assignment statement).\n",
    "\n",
    "One tip I have to drive this home is to write your function calls like this, where you actually make this analogy explicit.\n",
    "\n",
    "We'll actually see this format come back later on when we deal with more complicated functions, especially when we borrow code from other libraries!\n",
    "\n",
    "If you want to make life easier for yourself when you're still learning, you can make the mapping from arguments (on the right) to parameters (on the left) in a function call explicit in the function call code"
   ]
  },
  {
   "cell_type": "code",
   "execution_count": 18,
   "id": "40237d77",
   "metadata": {},
   "outputs": [
    {
     "data": {
      "text/plain": [
       "1.5"
      ]
     },
     "execution_count": 18,
     "metadata": {},
     "output_type": "execute_result"
    }
   ],
   "source": [
    "minutes_to_hours(minutes=90)"
   ]
  },
  {
   "cell_type": "markdown",
   "id": "802a32b8",
   "metadata": {},
   "source": [
    "Equivalently:"
   ]
  },
  {
   "cell_type": "code",
   "execution_count": 19,
   "id": "76294a98",
   "metadata": {},
   "outputs": [
    {
     "data": {
      "text/plain": [
       "2.0"
      ]
     },
     "execution_count": 19,
     "metadata": {},
     "output_type": "execute_result"
    }
   ],
   "source": [
    "mins = 120\n",
    "minutes_to_hours(minutes=mins)"
   ]
  },
  {
   "cell_type": "markdown",
   "id": "d4abc529",
   "metadata": {},
   "source": [
    "And:"
   ]
  },
  {
   "cell_type": "code",
   "execution_count": 20,
   "id": "81c43138",
   "metadata": {},
   "outputs": [
    {
     "data": {
      "text/plain": [
       "False"
      ]
     },
     "execution_count": 20,
     "metadata": {},
     "output_type": "execute_result"
    }
   ],
   "source": [
    "my_age = 19\n",
    "bouncer(age=my_age)"
   ]
  },
  {
   "cell_type": "markdown",
   "id": "bf466536",
   "metadata": {},
   "source": [
    "## How to define functions\n",
    "\n",
    "### Writing a function from scratch\n",
    "\n",
    "There are a few main steps to follow:\n",
    "1. Write the code that goes in the function (the steps)\n",
    "2. Create a function definition\n",
    "    - Write the skeleton of your function (`def`, a name, parentheses, `return` statement)\n",
    "3. Integrate your code into the function:\n",
    "    - Fill out the parameters\n",
    "    - Fill out the body of the code\n",
    "    - Fill out the return statement\n",
    "4. Run the function definition cell (this defines the function for Python)\n",
    "\n",
    "Let's look at an example together!\n",
    "\n",
    "Let's write a function that applies a discount to a sale, given the sale amount and the percentage discount.\n",
    "\n",
    "Here is code that successfully computes a saleAmount after applying a discount"
   ]
  },
  {
   "cell_type": "code",
   "execution_count": 21,
   "id": "4cfb8660",
   "metadata": {},
   "outputs": [
    {
     "data": {
      "text/plain": [
       "7.0"
      ]
     },
     "execution_count": 21,
     "metadata": {},
     "output_type": "execute_result"
    }
   ],
   "source": [
    "saleAmount = 10.00\n",
    "percentageDiscount = 0.3\n",
    "\n",
    "saleAmount - saleAmount*percentageDiscount"
   ]
  },
  {
   "cell_type": "markdown",
   "id": "44394930",
   "metadata": {},
   "source": [
    "And here is a function definition that encapsulates that code into a function `apply_discount()`, with `saleAmount` and `percentageDiscount` as input **parameters**, the main computation from above applying the discount in the **function body**, and then defining the **return value** as the `finalAmount`."
   ]
  },
  {
   "cell_type": "code",
   "execution_count": 22,
   "id": "68f10dd4",
   "metadata": {},
   "outputs": [],
   "source": [
    "def apply_discount(saleAmount, percentageDiscount):\n",
    "    finalAmount = saleAmount - saleAmount*percentageDiscount\n",
    "    return finalAmount"
   ]
  },
  {
   "cell_type": "markdown",
   "id": "ca14ab6c",
   "metadata": {},
   "source": [
    "Here's an example of how we can call that function, using our explicit argument-parameter notation from before."
   ]
  },
  {
   "cell_type": "code",
   "execution_count": 23,
   "id": "787a2a3c",
   "metadata": {},
   "outputs": [
    {
     "data": {
      "text/plain": [
       "260.79200000000003"
      ]
     },
     "execution_count": 23,
     "metadata": {},
     "output_type": "execute_result"
    }
   ],
   "source": [
    "apply_discount(saleAmount=325.99, percentageDiscount=.2)"
   ]
  },
  {
   "cell_type": "markdown",
   "id": "b28d94fc",
   "metadata": {},
   "source": [
    "And another simple one: give me the area of a triangle, given its base and height.\n",
    "\n",
    "Here's functioning code:"
   ]
  },
  {
   "cell_type": "code",
   "execution_count": 24,
   "id": "2475395d",
   "metadata": {},
   "outputs": [
    {
     "data": {
      "text/plain": [
       "3.0"
      ]
     },
     "execution_count": 24,
     "metadata": {},
     "output_type": "execute_result"
    }
   ],
   "source": [
    "b = 3\n",
    "h = 2\n",
    "0.5*b*h"
   ]
  },
  {
   "cell_type": "markdown",
   "id": "66f51984",
   "metadata": {},
   "source": [
    "And here'sa a function definition for a function `triangle_area()` that has `base` and `height` (renamed here from `b` and `h` for readability, and we make sure to propagate that change to the **function body**), and `area` as the **return value**."
   ]
  },
  {
   "cell_type": "code",
   "execution_count": 25,
   "id": "75fb4740",
   "metadata": {},
   "outputs": [],
   "source": [
    "def triangle_area(base, height):\n",
    "    area = 0.5*base*height\n",
    "    return area"
   ]
  },
  {
   "cell_type": "markdown",
   "id": "08f358b3",
   "metadata": {},
   "source": [
    "Here's an example of calling that function."
   ]
  },
  {
   "cell_type": "code",
   "execution_count": 26,
   "id": "a20249da",
   "metadata": {},
   "outputs": [
    {
     "data": {
      "text/plain": [
       "25.0"
      ]
     },
     "execution_count": 26,
     "metadata": {},
     "output_type": "execute_result"
    }
   ],
   "source": [
    "triangle_area(base=5, height=10)"
   ]
  },
  {
   "cell_type": "markdown",
   "id": "e94ee3a0",
   "metadata": {},
   "source": [
    "### Converting existing code into a function\n",
    "\n",
    "The steps here are similar to writing from scratch, with the main difference that we:\n",
    "1. Decide which of the variables in the existing code are inputs (parameters), and which ones are outputs (return values), then put those in the function definition and return statements.\n",
    "2. Integrate the rest of the working code into the body of the function.\n",
    "\n",
    "Here we've written the code for our substeps of converting the numbers into.. numbers. We know it works."
   ]
  },
  {
   "cell_type": "code",
   "execution_count": 27,
   "id": "1003c145",
   "metadata": {},
   "outputs": [
    {
     "data": {
      "text/plain": [
       "600153.25"
      ]
     },
     "execution_count": 27,
     "metadata": {},
     "output_type": "execute_result"
    }
   ],
   "source": [
    "# test number\n",
    "sale = \"$600,153.25\"\n",
    "# make the input numbers actually numbers\n",
    "# 1: remove dollar signs\n",
    "sale = sale.replace(\"$\", \"\")\n",
    "# 2: remove the comma\n",
    "sale = sale.replace(\",\", \"\")\n",
    "# 3: convert to float\n",
    "result = float(sale)\n",
    "result # the output"
   ]
  },
  {
   "cell_type": "markdown",
   "id": "8a87afe0",
   "metadata": {},
   "source": [
    "We can then encapsulate this into a function `clean_sale_number()`, with `rawSale` as the main input **parameter**, and the various operations cleaning the string in the **function body**, and the resulting float value as a **return value**."
   ]
  },
  {
   "cell_type": "code",
   "execution_count": 28,
   "id": "244e9bd6",
   "metadata": {},
   "outputs": [],
   "source": [
    "# 1. decide which variables are inputs/outputs, fill out function skeleton\n",
    "# 2. integrate rest of code into the body of the function\n",
    "def clean_sale_number(rawSale):\n",
    "    # 1: remove dollar signs\n",
    "    sale = rawSale.replace(\"$\", \"\")\n",
    "    # 2: remove the comma\n",
    "    sale = sale.replace(\",\", \"\")\n",
    "    # 3: convert to float\n",
    "    result = float(sale) \n",
    "    return result"
   ]
  },
  {
   "cell_type": "markdown",
   "id": "f3260411",
   "metadata": {},
   "source": [
    "We can then call the function like this:"
   ]
  },
  {
   "cell_type": "code",
   "execution_count": 29,
   "id": "9ef1409f",
   "metadata": {},
   "outputs": [
    {
     "data": {
      "text/plain": [
       "2115000.0"
      ]
     },
     "execution_count": 29,
     "metadata": {},
     "output_type": "execute_result"
    }
   ],
   "source": [
    "clean_sale_number(rawSale=\"$2,115,000\")"
   ]
  },
  {
   "cell_type": "markdown",
   "id": "235ce607",
   "metadata": {},
   "source": [
    "## Common errors when using functions\n",
    "\n",
    "### Order of execution and NameErrors\n",
    "\n",
    "Remember: In a computational notebook like Jupyter, Python executes the code in the order that you run the cells. If you run the cells from top to bottom, then it behaves the same way as a script. But if you run the cells in a different order, then it's different. \n",
    "\n",
    "This is important because a common error is to forget to run your **function definition** code before you **call the function**. This will result in a `NameError`, which means you're saying something to Python with words it doesn't yet know. The solution is to go back and make sure you do Step 2.\n",
    "\n",
    "If you're __updating__ your function, you'll get different kinds of errors. Sometimes it will be a silent logical or semantic error (where the code will run, but the results of the code will not be what you intend). So you always want to make sure you run a function definition cell to update it in Python's memory, before you run any code that uses the function.\n",
    "\n",
    "If we were to try to call this function `clean_sale`, we would get a `NameError`, because we have not defined any function called `clean_sale` (we named it `clean_sale_number`!):\n",
    "```\n",
    "clean_sale(rawSale=\"$2,115,000\")\n",
    "```\n",
    "\n",
    "Sometimes we define a function, but forget to run it\n",
    "```\n",
    "def divide(x, y):\n",
    "    result = x / y\n",
    "    result = int(result)\n",
    "    return result\n",
    "```\n",
    "\n",
    "And then try to call the function, and also get the same `NameError`, even though the names match! \n",
    "```\n",
    "divide(25, 5)\n",
    "```\n",
    "\n",
    "Fix here is to always make sure you run a function definition before you try to call it.\n",
    "\n",
    "This will also yield a `NameError`, because we haven't defined a `division()` function!\n",
    "```\n",
    "division(25, 3)\n",
    "```\n",
    "\n",
    "### Missing / incorrect return statements\n",
    "\n",
    "Technically, from a syntax perspective, the return statement in a function definition is optional. Functions that don't have return values are syntactically valid (legal code); they're known as a \"void functions\".\n",
    "- Confusingly, in Python, a void function still does return a value (i.e., `None`). \n",
    "- Honestly, void functions kind of break the model of what a function should be (subcomponents in a larger program). In my experience, they are also quite rare in practice, except as, say, a main control loop, or the \"main\" procedure in a script. So, if you're confused by void functions and find \"regular\" (also sometimes called \"fruitful\") functions (with return values) easier to think conceptualize, I'm happy.\n",
    "\n",
    "For now, I want you to pretend void functions don't exist (i.e., do *not* write void functions; always have a `return` statement).\n",
    "\n",
    "So why am I telling you this then?\n",
    "- You'll see void functions in many Python tutorials. Often you'll even learn about void functions *before* fruitful (or regular) functions. I think this may be because it has fewer moving parts? I'm not really sure. \n",
    "- Practically, too, if you leave out a `return` statement, your code will still run! So the *syntax* is fine! But you'll probably have made a semantic error (you meant to give the output of the function to some other piece of code, but the code you wrote isn't actually doing that). **This is a very common error for beginning programmers.** So you if run into this, you're in good company! If you're pretty sure that the code in the body of the function is correct, but you're confused by what happens when the function is used (e.g., it's not giving you the value you expect), but the code runs, it's a good idea to check your `return` statement!\n",
    "\n",
    "An extremely common way to make this mistake is to write a print statement in the function body to produce output to you, the user, and declare that it works, but forget to write a return statement\n",
    "\n",
    "Example: if we define the functions this way, without return statements, they will still run! BUT we won't be able to use their results in a meaningful way, leading to an error if we try"
   ]
  },
  {
   "cell_type": "code",
   "execution_count": 30,
   "id": "2f4259ee",
   "metadata": {},
   "outputs": [],
   "source": [
    "def tip(base, percentage):\n",
    "    result = base * percentage\n",
    "    print(result)\n",
    "    \n",
    "def tax(base, tax_rate):\n",
    "    result = base * tax_rate\n",
    "    print(result)"
   ]
  },
  {
   "cell_type": "markdown",
   "id": "dcefd90d",
   "metadata": {},
   "source": [
    "This code will yield a strange `TypeError` complaining about trying to do math with an `int` and a `NoneType` (because the functions produce `None` return values by default!)\n",
    "\n",
    "```\n",
    "base = 3\n",
    "tip_rate = 0.2\n",
    "tax_rate = 0.08\n",
    "\n",
    "total_check = tip(base, tip_rate) + base + tax(base, tax_rate)\n",
    "print(total_check)\n",
    "```\n",
    "\n",
    "### Mismatching arguments and parameters\n",
    "\n",
    "Make sure that the body of your function is operating on the actual input variables you're passing in via your parameters! This is a common error to make when you're converting code to functions.\n",
    "\n",
    "For example, if we define a function like this, notice how the `x` and `y` parameters are never actually used in the function body!"
   ]
  },
  {
   "cell_type": "code",
   "execution_count": 31,
   "id": "abbfd38d",
   "metadata": {},
   "outputs": [],
   "source": [
    "# example\n",
    "def minus(x, y):\n",
    "    result = a - b\n",
    "    return result"
   ]
  },
  {
   "cell_type": "markdown",
   "id": "3f44ed9a",
   "metadata": {},
   "source": [
    "When we call this function with `a` and `b` arguments, the code will run and produce expected output. BUT. The function will only work in this specific function call, when `a` and `b` are defined. And it will always use the values of `a` and `b`, even if you give it different parameters."
   ]
  },
  {
   "cell_type": "code",
   "execution_count": 32,
   "id": "45077433",
   "metadata": {},
   "outputs": [
    {
     "name": "stdout",
     "output_type": "stream",
     "text": [
      "1\n"
     ]
    }
   ],
   "source": [
    "a = 3\n",
    "b = 2\n",
    "diff = minus(a, b)\n",
    "print(diff)"
   ]
  },
  {
   "cell_type": "markdown",
   "id": "2f984c8e",
   "metadata": {},
   "source": [
    "For example, we would expect this function call to give us the value of `10`, but it will still give `1` as the result, since the function body is ignoring the `x` and `y` input parameters, and operating directly on `a` and `b`."
   ]
  },
  {
   "cell_type": "code",
   "execution_count": 33,
   "id": "2cc8e6f2",
   "metadata": {},
   "outputs": [
    {
     "name": "stdout",
     "output_type": "stream",
     "text": [
      "1\n"
     ]
    }
   ],
   "source": [
    "x = 12\n",
    "y = 2\n",
    "diff = minus(x, y)\n",
    "print(diff)"
   ]
  },
  {
   "cell_type": "markdown",
   "id": "a520347c",
   "metadata": {},
   "source": [
    "A related error is hard-coding the variables inside the function body instead of letting the parameter(s) be defined and given value from the argument(s) in the function call.\n",
    "\n",
    "Example: as written, no matter what arguments we pass in, the following function will always produce `2` as its output. This is because we are *redefining* `x` and `y` in the body of the function and giving them specific values of `3` and `1`, which means the function will ignore any argument values that are assigned to the parameters. So this function will only subtract precisely `3` from `1`, rather than subtracting any number `x` and `y`."
   ]
  },
  {
   "cell_type": "code",
   "execution_count": 34,
   "id": "5daa23fb",
   "metadata": {},
   "outputs": [],
   "source": [
    "def minus(x, y):\n",
    "    x = 3\n",
    "    y = 1\n",
    "    result = x - y\n",
    "    return result"
   ]
  },
  {
   "cell_type": "markdown",
   "id": "c3016297",
   "metadata": {},
   "source": [
    "For example, this function call will yield `2` instead of `5`, as we would expect:"
   ]
  },
  {
   "cell_type": "code",
   "execution_count": 35,
   "id": "de79082d",
   "metadata": {},
   "outputs": [
    {
     "data": {
      "text/plain": [
       "2"
      ]
     },
     "execution_count": 35,
     "metadata": {},
     "output_type": "execute_result"
    }
   ],
   "source": [
    "minus(10, 5)"
   ]
  },
  {
   "cell_type": "markdown",
   "id": "6831f8ec",
   "metadata": {},
   "source": [
    "Finally, if you define a certain number of parameters, but give it a different number of arguments, Python will fail with a TypeError.\n",
    "\n",
    "Like this:"
   ]
  },
  {
   "cell_type": "code",
   "execution_count": 36,
   "id": "e6150d1f",
   "metadata": {},
   "outputs": [
    {
     "ename": "TypeError",
     "evalue": "minus() missing 1 required positional argument: 'y'",
     "output_type": "error",
     "traceback": [
      "\u001b[0;31m---------------------------------------------------------------------------\u001b[0m",
      "\u001b[0;31mTypeError\u001b[0m                                 Traceback (most recent call last)",
      "\u001b[0;32m/var/folders/xz/_hjc5hsx743dclmg8n5678nc0000gn/T/ipykernel_71410/3405736382.py\u001b[0m in \u001b[0;36m<module>\u001b[0;34m\u001b[0m\n\u001b[1;32m      4\u001b[0m     \u001b[0;32mreturn\u001b[0m \u001b[0mresult\u001b[0m\u001b[0;34m\u001b[0m\u001b[0;34m\u001b[0m\u001b[0m\n\u001b[1;32m      5\u001b[0m \u001b[0;34m\u001b[0m\u001b[0m\n\u001b[0;32m----> 6\u001b[0;31m \u001b[0mminus\u001b[0m\u001b[0;34m(\u001b[0m\u001b[0;36m3\u001b[0m\u001b[0;34m)\u001b[0m\u001b[0;34m\u001b[0m\u001b[0;34m\u001b[0m\u001b[0m\n\u001b[0m",
      "\u001b[0;31mTypeError\u001b[0m: minus() missing 1 required positional argument: 'y'"
     ]
    }
   ],
   "source": [
    "# example\n",
    "def minus(x, y):\n",
    "    result = x - y\n",
    "    return result\n",
    "\n",
    "minus(3)"
   ]
  },
  {
   "cell_type": "markdown",
   "id": "6b92bfb9",
   "metadata": {},
   "source": [
    "The fix is to make sure that you have the same number of arguments as parameters. Again, writing out your function calls in explicit argument-parameter mappings can help make sure that you don't make this error, like this:\n",
    "```\n",
    "minus(x=3, y=2)\n",
    "```"
   ]
  }
 ],
 "metadata": {
  "jupytext": {
   "text_representation": {
    "extension": ".md",
    "format_name": "myst",
    "format_version": 0.13,
    "jupytext_version": "1.14.4"
   }
  },
  "kernelspec": {
   "display_name": "Python 3 (ipykernel)",
   "language": "python",
   "name": "python3"
  },
  "language_info": {
   "codemirror_mode": {
    "name": "ipython",
    "version": 3
   },
   "file_extension": ".py",
   "mimetype": "text/x-python",
   "name": "python",
   "nbconvert_exporter": "python",
   "pygments_lexer": "ipython3",
   "version": "3.9.7"
  },
  "source_map": [
   12,
   56,
   69,
   78,
   84,
   90,
   94,
   100,
   107,
   112,
   132,
   155,
   162,
   171,
   193,
   208,
   212,
   218,
   224,
   229,
   247,
   251,
   263,
   268,
   291,
   298,
   330,
   336,
   340,
   363,
   365,
   368,
   371,
   374,
   377,
   398,
   403,
   406,
   410,
   413,
   415,
   420,
   424,
   427,
   431,
   434,
   436,
   446,
   457,
   461,
   472,
   475,
   477,
   529,
   537,
   555,
   560,
   563,
   568,
   571,
   576,
   581,
   587,
   590,
   592,
   597,
   604
  ]
 },
 "nbformat": 4,
 "nbformat_minor": 5
}