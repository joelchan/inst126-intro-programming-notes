{
 "cells": [
  {
   "cell_type": "markdown",
   "metadata": {},
   "source": [
    "# 9: Files"
   ]
  },
  {
   "cell_type": "markdown",
   "metadata": {
    "id": "U-Syddp7kboO"
   },
   "source": [
    "## What are files?"
   ]
  },
  {
   "cell_type": "markdown",
   "metadata": {
    "id": "KzmF64wgkfE0"
   },
   "source": [
    "From Python's perspctive, files are data that is outside of the program's main memory. The PY4E textbook calls it \"secondary memory\".\n",
    "\n",
    "Secondary memory is essential, because main memory, which holds all the data you create while your Python program is running, goes away once the program stops.\n",
    "\n",
    "Secondary memory is a place to have data that is persistent. Sort of like long-term memory in humans.\n",
    "\n",
    "I like this picture from the [PY4E textbook](https://www.py4e.com/html3/07-files) to illustrate the point:\n",
    "\n",
    "<img src=\"https://www.py4e.com/images/arch.svg\" height=600 width=800></img>\n",
    "\n",
    "The middle box is where the Python program \"lives\". \n",
    "\n",
    "Sometimes Python needs a way to connect to the outside world: \"input and output devices\" on the left, \"network\" (e.g., the internet!) on the right, and \"secondary memory\" (e.g., the hard drive! files!) on the right.\n",
    "\n",
    "So far our programs have been self-contained (except for talking to the outside world via `input()` and `print()`.\n",
    "\n",
    "Now we will talk about how to access and write to files in secondary memory so our data can persist beyond a single Python session/program, and also access data that is... more than we can just write into a single Python file or Jupyter cell."
   ]
  },
  {
   "cell_type": "markdown",
   "metadata": {},
   "source": [
    "## The `open()` function, and the file handle object\n",
    "\n",
    "Python interacts with files using the **file handle** object. The `open()` function, as you might suspect, opens a file handle for a file.\n",
    "\n",
    "Here is an example. What do you think is in `fhand`?"
   ]
  },
  {
   "cell_type": "code",
   "execution_count": 1,
   "metadata": {},
   "outputs": [
    {
     "name": "stdout",
     "output_type": "stream",
     "text": [
      "<_io.TextIOWrapper name='assets/mbox-email-receipts.txt' mode='r' encoding='UTF-8'>\n"
     ]
    }
   ],
   "source": [
    "fhand = open('assets/mbox-email-receipts.txt', 'r')\n",
    "print(fhand)"
   ]
  },
  {
   "cell_type": "markdown",
   "metadata": {
    "id": "9L-3BMSuk9B6"
   },
   "source": [
    "The main parameters of `.open()` are:\n",
    "1. Path: The *path* to the file you want to connect to\n",
    "2. Mode: A specification of *how* you want to connect (to read, to write, etc.). \n",
    "\n",
    "But its return value is *not* the contents of the file! Instead, its output is a **file handle** object: `io.TextIOWrapper`.\n",
    "\n",
    "I like this picture from the PY4E textbook:\n",
    "\n",
    "<img src=\"https://www.py4e.com/images/handle.svg\" height=800 width=600></img>\n",
    "\n",
    "What kind of thing is it? What does it allow us to do?\n",
    "\n",
    "Just like lists have methods like `.append()`, strings have methods like `.upper()` and `.split()`, and dictionaries have methods like `.update()` and `.get()`, file handle objects have key methods that enable us to work with the actual file:\n",
    "- read the contents of the file (with `.read()` or `readlines()`)\n",
    "- write to the file (with `.write()` or `writelines()`)\n",
    "\n",
    "So, in the example above, I've opened a file handle for the mbox-email-receipts.txt file, in the reading mode (`r`), which enables me to use `.read()` to read the contents of the file.\n",
    "\n",
    "We'll return to the concepts of mode and operations in a bit. First, we need to understand how to direct python to a file so we can actually open a file handle to it!"
   ]
  },
  {
   "cell_type": "markdown",
   "metadata": {
    "id": "GamPeChbnS0I"
   },
   "source": [
    "## File paths\n",
    "\n",
    "File paths are a way of giving Python directions to the file's location. \n",
    "\n",
    "In the example above, the file path was `'assets/mbox-email-receipts.txt'`\n",
    "\n",
    "There are two parts to a file path: \n",
    "1. The filename itself.\n",
    "2. The path/directions to the folder it's in \"from where you are\"\n",
    "\n",
    "The filename is obvious, but the path/directions part is not. So let's take a closer look."
   ]
  },
  {
   "cell_type": "markdown",
   "metadata": {},
   "source": [
    "### Path, aka directions to a folder"
   ]
  },
  {
   "cell_type": "markdown",
   "metadata": {},
   "source": [
    "Like in everyday directions, to write the path (directions to the folder that has the file), you need to know:\n",
    "1. Where you are (your current location)\n",
    "2. The target location\n",
    "3. The \"directions\" to the target location\n",
    "\n",
    "The parts of a path are:\n",
    "1. Operations: `..` for \"go up a level\", and `/` for \"open the door / go down to...\"\n",
    "2. Names of folders (\"rooms\")\n",
    "\n",
    "So you can think of a path as a route/directions from where you are, to the target folder/room that has the file you want Python to act on.\n",
    "\n",
    "In the example above, we have the target location of the `assets` folder, and we give directions to Python to \"open the door\" (`/`) to the `assets` folder, and that is where it can find the `mbox-email-receipts.txt` file.\n",
    "\n",
    "These directions work because we are currently in a room/folder that has the `assets` folder in it. \n",
    "\n",
    "We can use the `os` library to check/change where we are. This helps understand the concept of paths better, I find. It's also a bit of a preview of using libraries, which we'll do more of in Module 4. If you're confused, don't worry! You don't need to use `os` in this module. This is just for us to see where we are."
   ]
  },
  {
   "cell_type": "code",
   "execution_count": 2,
   "metadata": {},
   "outputs": [
    {
     "name": "stdout",
     "output_type": "stream",
     "text": [
      "You are currently in /Users/joelchan/Projects/inst126-intro-programming-notes\n",
      "\n",
      "Here are all the things you can see:\n",
      "Problem-Formulation.md\n",
      "Week 1 Day 2 - Intro to Jupyter.ipynb\n",
      "fun.ipynb\n",
      "Practice_Module-3-Dictionaries-Files_Solutions.ipynb\n",
      "what-is-programming.md\n",
      "Week-14_Day-1_Slides_Pandas-1.md\n",
      "Untitled1.ipynb\n",
      "Week-13-Day-1_NB_Module4Intro.ipynb\n",
      ".DS_Store\n",
      "Practice_Module-1-Projects-Solutions.ipynb\n",
      "example-course-copier.ipynb\n",
      "LICENSE\n",
      "requirements.txt\n",
      "7_Strings-Solutions-Day2.ipynb\n",
      "5_Lists.ipynb\n",
      "3_Functions.ipynb\n",
      "Practice_Module-2-Projects.ipynb\n",
      "Practice_Conditionals_Solutions.ipynb\n",
      "Untitled.ipynb\n",
      "ncaa-team-data.csv\n",
      "Practice_Debugging_examples.ipynb\n",
      "Week-13-Debugging-Practice.ipynb\n",
      "intro.md\n",
      "4_Conditionals.ipynb\n",
      "Practice_Debugging_examples-Solutions.ipynb\n",
      "2b_Variables.md\n",
      "5_lists.md\n",
      "6_Iteration.ipynb\n",
      "Practice_Conditionals.ipynb\n",
      "laptop-report.txt\n",
      "Practice_Module-1-Projects.ipynb\n",
      "marvel-movies.csv\n",
      "7_Strings-Solutions-Day1.ipynb\n",
      "INST courses.csv\n",
      "4_Conditionals.md\n",
      "README.md\n",
      "module-4-review-scratchpad.ipynb\n",
      "Week-15_Day-1_Slides_Pandas-2.md\n",
      "_toc.yml\n",
      "Practice_Module-2-Projects-Solutions.ipynb\n",
      "Week-13-Day-2_NB_Review-and-Using-Libraries.ipynb\n",
      "3_Functions.md\n",
      ".gitignore\n",
      "7_Strings.ipynb\n",
      "_build\n",
      "_config.yml\n",
      "Week-15_Day-2_Slides_Pandas-2.md\n",
      "Debugging-Helpseeking.md\n",
      "laptop-weights-by-company.csv\n",
      "Practice_Module-2_Lists.ipynb\n",
      "11_Pandas-2.ipynb\n",
      "6_Iteration-Solutions-Day2.ipynb\n",
      "myfile.txt\n",
      ".ipynb_checkpoints\n",
      "project-4-example.ipynb\n",
      "10_Pandas-1.ipynb\n",
      ".jupyter\n",
      "Help-Seeking-Template.md\n",
      "Practice_Module-3-Dictionaries-Files.ipynb\n",
      "8_Dictionaries-Solutions.ipynb\n",
      ".git\n",
      "9_Files.ipynb\n",
      "data\n",
      "assets\n",
      "2a_Expressions.md\n",
      "8_Dictionaries.ipynb\n",
      "Practice_Module-2_Lists-Solutions.ipynb\n",
      "6_Iteration-Solutions-Day1.ipynb\n",
      "Week-14_Day-2_Slides_Pandas-1-ctd.md\n"
     ]
    }
   ],
   "source": [
    "import os # get all the data and functions from the os library\n",
    "\n",
    "cwd = os.getcwd() # show me where i am on the hard drive\n",
    "current_view = os.listdir() # list all the names of things i can immediately see in my current location\n",
    "\n",
    "print(f\"You are currently in {cwd}\\n\")\n",
    "print(f\"Here are all the things you can see:\")\n",
    "for thingname in current_view:\n",
    "    print(thingname)"
   ]
  },
  {
   "cell_type": "markdown",
   "metadata": {},
   "source": [
    "### Practice writing directions (paths) to files!\n",
    "\n",
    "Let's open the `newfile2.txt` file in the `other_stuff` folder"
   ]
  },
  {
   "cell_type": "code",
   "execution_count": 3,
   "metadata": {},
   "outputs": [
    {
     "ename": "FileNotFoundError",
     "evalue": "[Errno 2] No such file or directory: 'other_stuff/newfile2.txt'",
     "output_type": "error",
     "traceback": [
      "\u001b[0;31m---------------------------------------------------------------------------\u001b[0m",
      "\u001b[0;31mFileNotFoundError\u001b[0m                         Traceback (most recent call last)",
      "\u001b[0;32m/var/folders/xz/_hjc5hsx743dclmg8n5678nc0000gn/T/ipykernel_89584/1209499128.py\u001b[0m in \u001b[0;36m<module>\u001b[0;34m\u001b[0m\n\u001b[1;32m      1\u001b[0m \u001b[0mfpath\u001b[0m \u001b[0;34m=\u001b[0m \u001b[0;34m'other_stuff/newfile2.txt'\u001b[0m\u001b[0;34m\u001b[0m\u001b[0;34m\u001b[0m\u001b[0m\n\u001b[0;32m----> 2\u001b[0;31m \u001b[0mfhand\u001b[0m \u001b[0;34m=\u001b[0m \u001b[0mopen\u001b[0m\u001b[0;34m(\u001b[0m\u001b[0mfpath\u001b[0m\u001b[0;34m,\u001b[0m \u001b[0;34m'r'\u001b[0m\u001b[0;34m)\u001b[0m\u001b[0;34m\u001b[0m\u001b[0;34m\u001b[0m\u001b[0m\n\u001b[0m\u001b[1;32m      3\u001b[0m \u001b[0mfhand\u001b[0m\u001b[0;34m\u001b[0m\u001b[0;34m\u001b[0m\u001b[0m\n",
      "\u001b[0;31mFileNotFoundError\u001b[0m: [Errno 2] No such file or directory: 'other_stuff/newfile2.txt'"
     ]
    }
   ],
   "source": [
    "fpath = 'other_stuff/newfile2.txt'\n",
    "fhand = open(fpath, 'r')\n",
    "fhand"
   ]
  },
  {
   "cell_type": "markdown",
   "metadata": {},
   "source": [
    "Let's open the `newfile3.txt` file in the `a_drawer` folder"
   ]
  },
  {
   "cell_type": "code",
   "execution_count": 7,
   "metadata": {},
   "outputs": [
    {
     "data": {
      "text/plain": [
       "<_io.TextIOWrapper name='other_stuff/a_drawer/newfile3.txt' mode='r' encoding='UTF-8'>"
      ]
     },
     "execution_count": 7,
     "metadata": {},
     "output_type": "execute_result"
    }
   ],
   "source": [
    "path = 'other_stuff/a_drawer/'\n",
    "fname = 'newfile3.txt'\n",
    "fpath = f'{path}{fname}'\n",
    "fhand = open(fpath, 'r')\n",
    "fhand"
   ]
  },
  {
   "cell_type": "markdown",
   "metadata": {},
   "source": [
    "Let's open the `newfile.txt` file in the `more_stuff` folder"
   ]
  },
  {
   "cell_type": "code",
   "execution_count": 6,
   "metadata": {},
   "outputs": [
    {
     "data": {
      "text/plain": [
       "<_io.TextIOWrapper name='../more_stuff/newfile.txt' mode='r' encoding='UTF-8'>"
      ]
     },
     "execution_count": 6,
     "metadata": {},
     "output_type": "execute_result"
    }
   ],
   "source": [
    "fpath = '../more_stuff/newfile.txt'\n",
    "fhand = open(fpath, 'r')\n",
    "fhand"
   ]
  },
  {
   "cell_type": "markdown",
   "metadata": {
    "id": "6on-kF69nPb3"
   },
   "source": [
    "## File handle \"mode\" (aka access controls/permissions)\n",
    "\n",
    "The second parameter of an `open()` function call specifies what you intend to do with the file.\n",
    "\n",
    "This part is how the file data structure includes some basic security: you can only write to files you have \"write access\" to, for example.\n",
    "\n",
    "### Read mode (`r`)"
   ]
  },
  {
   "cell_type": "code",
   "execution_count": 10,
   "metadata": {
    "colab": {
     "base_uri": "https://localhost:8080/"
    },
    "executionInfo": {
     "elapsed": 373,
     "status": "ok",
     "timestamp": 1618234160386,
     "user": {
      "displayName": "Joel Chan",
      "photoUrl": "https://lh3.googleusercontent.com/a-/AOh14GiBPPpBf_QqgDL3pMurAsPu9WJJE_x_6UtgW13UFQ=s64",
      "userId": "15153559228409906865"
     },
     "user_tz": 240
    },
    "id": "Z1kM-kPKuvuC",
    "outputId": "b6714115-eb63-4ec0-aaed-6ac089ca8292"
   },
   "outputs": [
    {
     "data": {
      "text/plain": [
       "'From stephen.marquard@uct.ac.za Sat Jan  5 09:14:16 2008\\nFrom louis@media.berkeley.edu Fri Jan  4 18:10:48 2008\\nFrom zqian@umich.edu Fri Jan  4 16:10:39 2008\\nFrom rjlowe@iupui.edu Fri Jan  4 15:46:24 2008\\nFrom zqian@umich.edu Fri Jan  4 15:03:18 2008\\nFrom rjlowe@iupui.edu Fri Jan  4 14:50:18 2008\\nFrom cwen@iupui.edu Fri Jan  4 11:37:30 2008\\nFrom cwen@iupui.edu Fri Jan  4 11:35:08 2008\\nFrom gsilver@umich.edu Fri Jan  4 11:12:37 2008\\nFrom gsilver@umich.edu Fri Jan  4 11:11:52 2008\\nFrom zqian@umich.edu Fri Jan  4 11:11:03 2008\\nFrom gsilver@umich.edu Fri Jan  4 11:10:22 2008\\nFrom wagnermr@iupui.edu Fri Jan  4 10:38:42 2008\\nFrom zqian@umich.edu Fri Jan  4 10:17:43 2008\\nFrom antranig@caret.cam.ac.uk Fri Jan  4 10:04:14 2008\\nFrom gopal.ramasammycook@gmail.com Fri Jan  4 09:05:31 2008\\nFrom david.horwitz@uct.ac.za Fri Jan  4 07:02:32 2008\\nFrom david.horwitz@uct.ac.za Fri Jan  4 06:08:27 2008\\nFrom david.horwitz@uct.ac.za Fri Jan  4 04:49:08 2008\\nFrom david.horwitz@uct.ac.za Fri Jan  4 04:33:44 2008\\nFrom stephen.marquard@uct.ac.za Fri Jan  4 04:07:34 2008\\nFrom louis@media.berkeley.edu Thu Jan  3 19:51:21 2008\\nFrom louis@media.berkeley.edu Thu Jan  3 17:18:23 2008\\nFrom ray@media.berkeley.edu Thu Jan  3 17:07:00 2008\\nFrom cwen@iupui.edu Thu Jan  3 16:34:40 2008\\nFrom cwen@iupui.edu Thu Jan  3 16:29:07 2008\\nFrom cwen@iupui.edu Thu Jan  3 16:23:48 2008\\n'"
      ]
     },
     "execution_count": 10,
     "metadata": {},
     "output_type": "execute_result"
    }
   ],
   "source": [
    "path = \"assets/\"\n",
    "fname = \"mbox-email-receipts.txt\"\n",
    "fpath = f\"{path}{fname}\"\n",
    "\n",
    "# basic read\n",
    "# put 'r' as the second argument\n",
    "fhand = open(fpath, 'r')\n",
    "fhand.read()"
   ]
  },
  {
   "cell_type": "markdown",
   "metadata": {},
   "source": [
    "This is the default. If you don't specify a mode, this is what it defaults to."
   ]
  },
  {
   "cell_type": "code",
   "execution_count": 15,
   "metadata": {},
   "outputs": [
    {
     "data": {
      "text/plain": [
       "'From stephen.marquard@uct.ac.za Sat Jan  5 09:14:16 2008\\nFrom louis@media.berkeley.edu Fri Jan  4 18:10:48 2008\\nFrom zqian@umich.edu Fri Jan  4 16:10:39 2008\\nFrom rjlowe@iupui.edu Fri Jan  4 15:46:24 2008\\nFrom zqian@umich.edu Fri Jan  4 15:03:18 2008\\nFrom rjlowe@iupui.edu Fri Jan  4 14:50:18 2008\\nFrom cwen@iupui.edu Fri Jan  4 11:37:30 2008\\nFrom cwen@iupui.edu Fri Jan  4 11:35:08 2008\\nFrom gsilver@umich.edu Fri Jan  4 11:12:37 2008\\nFrom gsilver@umich.edu Fri Jan  4 11:11:52 2008\\nFrom zqian@umich.edu Fri Jan  4 11:11:03 2008\\nFrom gsilver@umich.edu Fri Jan  4 11:10:22 2008\\nFrom wagnermr@iupui.edu Fri Jan  4 10:38:42 2008\\nFrom zqian@umich.edu Fri Jan  4 10:17:43 2008\\nFrom antranig@caret.cam.ac.uk Fri Jan  4 10:04:14 2008\\nFrom gopal.ramasammycook@gmail.com Fri Jan  4 09:05:31 2008\\nFrom david.horwitz@uct.ac.za Fri Jan  4 07:02:32 2008\\nFrom david.horwitz@uct.ac.za Fri Jan  4 06:08:27 2008\\nFrom david.horwitz@uct.ac.za Fri Jan  4 04:49:08 2008\\nFrom david.horwitz@uct.ac.za Fri Jan  4 04:33:44 2008\\nFrom stephen.marquard@uct.ac.za Fri Jan  4 04:07:34 2008\\nFrom louis@media.berkeley.edu Thu Jan  3 19:51:21 2008\\nFrom louis@media.berkeley.edu Thu Jan  3 17:18:23 2008\\nFrom ray@media.berkeley.edu Thu Jan  3 17:07:00 2008\\nFrom cwen@iupui.edu Thu Jan  3 16:34:40 2008\\nFrom cwen@iupui.edu Thu Jan  3 16:29:07 2008\\nFrom cwen@iupui.edu Thu Jan  3 16:23:48 2008\\n'"
      ]
     },
     "execution_count": 15,
     "metadata": {},
     "output_type": "execute_result"
    }
   ],
   "source": [
    "path = \"assets/\"\n",
    "fname = \"mbox-email-receipts.txt\"\n",
    "fpath = f\"{path}{fname}\"\n",
    "\n",
    "# basic read\n",
    "# put 'r' as the second argument\n",
    "fhand = open(fpath)\n",
    "fhand.read()"
   ]
  },
  {
   "cell_type": "markdown",
   "metadata": {},
   "source": [
    "### Write mode (`w`)"
   ]
  },
  {
   "cell_type": "code",
   "execution_count": 21,
   "metadata": {
    "colab": {
     "base_uri": "https://localhost:8080/"
    },
    "executionInfo": {
     "elapsed": 1226,
     "status": "ok",
     "timestamp": 1618234192300,
     "user": {
      "displayName": "Joel Chan",
      "photoUrl": "https://lh3.googleusercontent.com/a-/AOh14GiBPPpBf_QqgDL3pMurAsPu9WJJE_x_6UtgW13UFQ=s64",
      "userId": "15153559228409906865"
     },
     "user_tz": 240
    },
    "id": "svA1mMKlxSoj",
    "outputId": "712d77cd-6df1-40b6-af44-49e83c0a291b"
   },
   "outputs": [],
   "source": [
    "path = \"assets/\"\n",
    "fname = \"newfile.txt\"\n",
    "fpath = f\"{path}{fname}\"\n",
    "\n",
    "# basic write\n",
    "# put 'w' as the seocnd argument\n",
    "fhand = open(fpath, 'w')\n",
    "fhand.write(\"Hello world, my programming friends!\")\n",
    "fhand.close()"
   ]
  },
  {
   "cell_type": "markdown",
   "metadata": {},
   "source": [
    "if you don't put 'w' as the second argument, python doesn't know that you want to write, and will block you from doing so. this is good for security!"
   ]
  },
  {
   "cell_type": "code",
   "execution_count": 22,
   "metadata": {
    "colab": {
     "base_uri": "https://localhost:8080/",
     "height": 225
    },
    "executionInfo": {
     "elapsed": 745,
     "status": "error",
     "timestamp": 1618234226603,
     "user": {
      "displayName": "Joel Chan",
      "photoUrl": "https://lh3.googleusercontent.com/a-/AOh14GiBPPpBf_QqgDL3pMurAsPu9WJJE_x_6UtgW13UFQ=s64",
      "userId": "15153559228409906865"
     },
     "user_tz": 240
    },
    "id": "MdSdT88DmSXm",
    "outputId": "6eedb21c-0845-4dfc-d0b0-2c5fa9e41256"
   },
   "outputs": [
    {
     "ename": "UnsupportedOperation",
     "evalue": "not writable",
     "output_type": "error",
     "traceback": [
      "\u001b[0;31m---------------------------------------------------------------------------\u001b[0m",
      "\u001b[0;31mUnsupportedOperation\u001b[0m                      Traceback (most recent call last)",
      "\u001b[0;32m/var/folders/xz/_hjc5hsx743dclmg8n5678nc0000gn/T/ipykernel_11301/1000295658.py\u001b[0m in \u001b[0;36m<module>\u001b[0;34m\u001b[0m\n\u001b[1;32m      4\u001b[0m \u001b[0;34m\u001b[0m\u001b[0m\n\u001b[1;32m      5\u001b[0m \u001b[0mfhand\u001b[0m \u001b[0;34m=\u001b[0m \u001b[0mopen\u001b[0m\u001b[0;34m(\u001b[0m\u001b[0mfpath\u001b[0m\u001b[0;34m,\u001b[0m \u001b[0;34m'r'\u001b[0m\u001b[0;34m)\u001b[0m\u001b[0;34m\u001b[0m\u001b[0;34m\u001b[0m\u001b[0m\n\u001b[0;32m----> 6\u001b[0;31m \u001b[0mfhand\u001b[0m\u001b[0;34m.\u001b[0m\u001b[0mwrite\u001b[0m\u001b[0;34m(\u001b[0m\u001b[0;34m\"Hello world from INST126 SP23 Week 12!\"\u001b[0m\u001b[0;34m)\u001b[0m\u001b[0;34m\u001b[0m\u001b[0;34m\u001b[0m\u001b[0m\n\u001b[0m\u001b[1;32m      7\u001b[0m \u001b[0mfhand\u001b[0m\u001b[0;34m.\u001b[0m\u001b[0mclose\u001b[0m\u001b[0;34m(\u001b[0m\u001b[0;34m)\u001b[0m\u001b[0;34m\u001b[0m\u001b[0;34m\u001b[0m\u001b[0m\n",
      "\u001b[0;31mUnsupportedOperation\u001b[0m: not writable"
     ]
    }
   ],
   "source": [
    "path = \"assets/\"\n",
    "fname = \"newfile.txt\"\n",
    "fpath = f\"{path}{fname}\"\n",
    "\n",
    "fhand = open(fpath, 'r')\n",
    "fhand.write(\"Hello world from INST126 SP23 Week 12!\")\n",
    "fhand.close()"
   ]
  },
  {
   "cell_type": "markdown",
   "metadata": {},
   "source": [
    "`w` mode also creates a new file if it doesn't already exist at that path. \n",
    "\n",
    "be careful though! if you run it again and do `.write()`, you'll overwrite the file!"
   ]
  },
  {
   "cell_type": "code",
   "execution_count": 24,
   "metadata": {},
   "outputs": [],
   "source": [
    "path = \"assets/\"\n",
    "fname = \"newfile-from-class.txt\"\n",
    "fpath = f\"{path}{fname}\"\n",
    "\n",
    "fhand = open(fpath, 'w')\n",
    "fhand.write(\"This is a new file from class!\")\n",
    "fhand.close()"
   ]
  },
  {
   "cell_type": "code",
   "execution_count": 27,
   "metadata": {
    "id": "au4lWggwR3qH"
   },
   "outputs": [],
   "source": [
    "# basic write\n",
    "# if you don't put 'w' as the second arugment, python doesn't know that you want to write, and will block you from doing so\n",
    "# good for security\n",
    "path = \"assets/\"\n",
    "fname = \"newfile.txt\"\n",
    "fpath = f\"{path}{fname}\"\n",
    "\n",
    "fhand = open(fpath, 'w')\n",
    "# f is now a connection to the file that allows you to write to it\n",
    "fhand.write(\"Hello world from INST126 SP23 Week 12!\")\n",
    "fhand.close()"
   ]
  },
  {
   "cell_type": "markdown",
   "metadata": {},
   "source": [
    "### Append mode (`a`)\n",
    "\n",
    "This is a variant of the write mode: specifically, it allows you to write, but *only* by adding stuff to the end of the file."
   ]
  },
  {
   "cell_type": "code",
   "execution_count": 25,
   "metadata": {
    "id": "hVGylbXlSRiE"
   },
   "outputs": [],
   "source": [
    "path = \"assets/\"\n",
    "fname = \"newfile.txt\"\n",
    "fpath = f\"{path}{fname}\"\n",
    "\n",
    "# append to a file\n",
    "fhand = open(fpath, 'a')\n",
    "# f is now a connection to the file that allows you to write to it\n",
    "fhand.write(\"More stuff from INST126 SP23 Week 12!\")\n",
    "fhand.close()"
   ]
  },
  {
   "cell_type": "markdown",
   "metadata": {
    "id": "gWc9XtAHmtpi"
   },
   "source": [
    "There are more advanced ways to specify how you want to connect (e.g., `'rb'` read binary, for when you have weird fileformats). But basic `r` and `w` should cover most of your needs for now."
   ]
  },
  {
   "cell_type": "markdown",
   "metadata": {
    "id": "9yecFrrInkbn"
   },
   "source": [
    "## Operations on files\n",
    "\n",
    "Ok, assuming we have the right mode, let's look more closely at how we do things with files.\n",
    "\n",
    "### Reading the contents of a file"
   ]
  },
  {
   "cell_type": "markdown",
   "metadata": {
    "id": "EH_-JkJdmUve"
   },
   "source": [
    "Very often you want to connect to a file because you want to *read* it. There are two ways to do this:\n",
    "1. `.read()` reads in the whole contents of the file as a `string`\n",
    "2. `.readlines()` reads in the whole contents of the file as a `list` of strings\n",
    "\n",
    "In both cases, you end up with strings. You can then parse it to do what you want with it."
   ]
  },
  {
   "cell_type": "code",
   "execution_count": 28,
   "metadata": {
    "colab": {
     "base_uri": "https://localhost:8080/"
    },
    "executionInfo": {
     "elapsed": 356,
     "status": "ok",
     "timestamp": 1618234712701,
     "user": {
      "displayName": "Joel Chan",
      "photoUrl": "https://lh3.googleusercontent.com/a-/AOh14GiBPPpBf_QqgDL3pMurAsPu9WJJE_x_6UtgW13UFQ=s64",
      "userId": "15153559228409906865"
     },
     "user_tz": 240
    },
    "id": "EnDrn9ftyfjk",
    "outputId": "10261ab8-4e8f-41f5-b3e2-fe207ee2530f"
   },
   "outputs": [
    {
     "data": {
      "text/plain": [
       "'From stephen.marquard@uct.ac.za Sat Jan  5 09:14:16 2008\\nFrom louis@media.berkeley.edu Fri Jan  4 18:10:48 2008\\nFrom zqian@umich.edu Fri Jan  4 16:10:39 2008\\nFrom rjlowe@iupui.edu Fri Jan  4 15:46:24 2008\\nFrom zqian@umich.edu Fri Jan  4 15:03:18 2008\\nFrom rjlowe@iupui.edu Fri Jan  4 14:50:18 2008\\nFrom cwen@iupui.edu Fri Jan  4 11:37:30 2008\\nFrom cwen@iupui.edu Fri Jan  4 11:35:08 2008\\nFrom gsilver@umich.edu Fri Jan  4 11:12:37 2008\\nFrom gsilver@umich.edu Fri Jan  4 11:11:52 2008\\nFrom zqian@umich.edu Fri Jan  4 11:11:03 2008\\nFrom gsilver@umich.edu Fri Jan  4 11:10:22 2008\\nFrom wagnermr@iupui.edu Fri Jan  4 10:38:42 2008\\nFrom zqian@umich.edu Fri Jan  4 10:17:43 2008\\nFrom antranig@caret.cam.ac.uk Fri Jan  4 10:04:14 2008\\nFrom gopal.ramasammycook@gmail.com Fri Jan  4 09:05:31 2008\\nFrom david.horwitz@uct.ac.za Fri Jan  4 07:02:32 2008\\nFrom david.horwitz@uct.ac.za Fri Jan  4 06:08:27 2008\\nFrom david.horwitz@uct.ac.za Fri Jan  4 04:49:08 2008\\nFrom david.horwitz@uct.ac.za Fri Jan  4 04:33:44 2008\\nFrom stephen.marquard@uct.ac.za Fri Jan  4 04:07:34 2008\\nFrom louis@media.berkeley.edu Thu Jan  3 19:51:21 2008\\nFrom louis@media.berkeley.edu Thu Jan  3 17:18:23 2008\\nFrom ray@media.berkeley.edu Thu Jan  3 17:07:00 2008\\nFrom cwen@iupui.edu Thu Jan  3 16:34:40 2008\\nFrom cwen@iupui.edu Thu Jan  3 16:29:07 2008\\nFrom cwen@iupui.edu Thu Jan  3 16:23:48 2008\\n'"
      ]
     },
     "execution_count": 28,
     "metadata": {},
     "output_type": "execute_result"
    }
   ],
   "source": [
    "# the path\n",
    "path = \"assets/\"\n",
    "fname = \"mbox-email-receipts.txt\"\n",
    "fpath = f\"{path}{fname}\"\n",
    "\n",
    "# open the file connection and store in f\n",
    "fhand = open(fpath, 'r') # open the file connection and store in the variable fhand\n",
    "content_s = fhand.read() # read the contents of the file, and dump into a string called content_s\n",
    "content_s"
   ]
  },
  {
   "cell_type": "code",
   "execution_count": 29,
   "metadata": {},
   "outputs": [
    {
     "data": {
      "text/plain": [
       "['From stephen.marquard@uct.ac.za Sat Jan  5 09:14:16 2008',\n",
       " 'From louis@media.berkeley.edu Fri Jan  4 18:10:48 2008',\n",
       " 'From zqian@umich.edu Fri Jan  4 16:10:39 2008',\n",
       " 'From rjlowe@iupui.edu Fri Jan  4 15:46:24 2008',\n",
       " 'From zqian@umich.edu Fri Jan  4 15:03:18 2008',\n",
       " 'From rjlowe@iupui.edu Fri Jan  4 14:50:18 2008',\n",
       " 'From cwen@iupui.edu Fri Jan  4 11:37:30 2008',\n",
       " 'From cwen@iupui.edu Fri Jan  4 11:35:08 2008',\n",
       " 'From gsilver@umich.edu Fri Jan  4 11:12:37 2008',\n",
       " 'From gsilver@umich.edu Fri Jan  4 11:11:52 2008',\n",
       " 'From zqian@umich.edu Fri Jan  4 11:11:03 2008',\n",
       " 'From gsilver@umich.edu Fri Jan  4 11:10:22 2008',\n",
       " 'From wagnermr@iupui.edu Fri Jan  4 10:38:42 2008',\n",
       " 'From zqian@umich.edu Fri Jan  4 10:17:43 2008',\n",
       " 'From antranig@caret.cam.ac.uk Fri Jan  4 10:04:14 2008',\n",
       " 'From gopal.ramasammycook@gmail.com Fri Jan  4 09:05:31 2008',\n",
       " 'From david.horwitz@uct.ac.za Fri Jan  4 07:02:32 2008',\n",
       " 'From david.horwitz@uct.ac.za Fri Jan  4 06:08:27 2008',\n",
       " 'From david.horwitz@uct.ac.za Fri Jan  4 04:49:08 2008',\n",
       " 'From david.horwitz@uct.ac.za Fri Jan  4 04:33:44 2008',\n",
       " 'From stephen.marquard@uct.ac.za Fri Jan  4 04:07:34 2008',\n",
       " 'From louis@media.berkeley.edu Thu Jan  3 19:51:21 2008',\n",
       " 'From louis@media.berkeley.edu Thu Jan  3 17:18:23 2008',\n",
       " 'From ray@media.berkeley.edu Thu Jan  3 17:07:00 2008',\n",
       " 'From cwen@iupui.edu Thu Jan  3 16:34:40 2008',\n",
       " 'From cwen@iupui.edu Thu Jan  3 16:29:07 2008',\n",
       " 'From cwen@iupui.edu Thu Jan  3 16:23:48 2008',\n",
       " '']"
      ]
     },
     "execution_count": 29,
     "metadata": {},
     "output_type": "execute_result"
    }
   ],
   "source": [
    "content_s.split(\"\\n\")"
   ]
  },
  {
   "cell_type": "code",
   "execution_count": 27,
   "metadata": {},
   "outputs": [
    {
     "data": {
      "text/plain": [
       "['From stephen.marquard@uct.ac.za Sat Jan  5 09:14:16 2008\\n',\n",
       " 'From louis@media.berkeley.edu Fri Jan  4 18:10:48 2008\\n',\n",
       " 'From zqian@umich.edu Fri Jan  4 16:10:39 2008\\n',\n",
       " 'From rjlowe@iupui.edu Fri Jan  4 15:46:24 2008\\n',\n",
       " 'From zqian@umich.edu Fri Jan  4 15:03:18 2008\\n',\n",
       " 'From rjlowe@iupui.edu Fri Jan  4 14:50:18 2008\\n',\n",
       " 'From cwen@iupui.edu Fri Jan  4 11:37:30 2008\\n',\n",
       " 'From cwen@iupui.edu Fri Jan  4 11:35:08 2008\\n',\n",
       " 'From gsilver@umich.edu Fri Jan  4 11:12:37 2008\\n',\n",
       " 'From gsilver@umich.edu Fri Jan  4 11:11:52 2008\\n',\n",
       " 'From zqian@umich.edu Fri Jan  4 11:11:03 2008\\n',\n",
       " 'From gsilver@umich.edu Fri Jan  4 11:10:22 2008\\n',\n",
       " 'From wagnermr@iupui.edu Fri Jan  4 10:38:42 2008\\n',\n",
       " 'From zqian@umich.edu Fri Jan  4 10:17:43 2008\\n',\n",
       " 'From antranig@caret.cam.ac.uk Fri Jan  4 10:04:14 2008\\n',\n",
       " 'From gopal.ramasammycook@gmail.com Fri Jan  4 09:05:31 2008\\n',\n",
       " 'From david.horwitz@uct.ac.za Fri Jan  4 07:02:32 2008\\n',\n",
       " 'From david.horwitz@uct.ac.za Fri Jan  4 06:08:27 2008\\n',\n",
       " 'From david.horwitz@uct.ac.za Fri Jan  4 04:49:08 2008\\n',\n",
       " 'From david.horwitz@uct.ac.za Fri Jan  4 04:33:44 2008\\n',\n",
       " 'From stephen.marquard@uct.ac.za Fri Jan  4 04:07:34 2008\\n',\n",
       " 'From louis@media.berkeley.edu Thu Jan  3 19:51:21 2008\\n',\n",
       " 'From louis@media.berkeley.edu Thu Jan  3 17:18:23 2008\\n',\n",
       " 'From ray@media.berkeley.edu Thu Jan  3 17:07:00 2008\\n',\n",
       " 'From cwen@iupui.edu Thu Jan  3 16:34:40 2008\\n',\n",
       " 'From cwen@iupui.edu Thu Jan  3 16:29:07 2008\\n',\n",
       " 'From cwen@iupui.edu Thu Jan  3 16:23:48 2008\\n']"
      ]
     },
     "execution_count": 27,
     "metadata": {},
     "output_type": "execute_result"
    }
   ],
   "source": [
    "# # open the file connection and store in f\n",
    "fhand = open(fpath, 'r') # open the file connection and store in the variable fhand\n",
    "# # do this if you know that the structure of the file is basically a list of lines\n",
    "content_list = fhand.readlines() # read the contents of the file, and dump into a list of strings called content_list\n",
    "content_list\n",
    "\n",
    "# content_list = fhand.readlines()\n",
    "# fhand.close()\n",
    "\n",
    "# print(\"content as string from .read()\", content_s)\n",
    "# print(\"content as list from .readlines()\", content_list)"
   ]
  },
  {
   "cell_type": "markdown",
   "metadata": {
    "id": "x2Wk37Vnm709"
   },
   "source": [
    "In the next module we will learn how the `pandas` library connects to files to cover common parsing situations (e.g., I have a spreadsheet, I want to go straight into a `dataframe` for analysis). More on that later! The concepts of accessing files will still apply."
   ]
  },
  {
   "cell_type": "markdown",
   "metadata": {
    "id": "mnlXEdeFnne3"
   },
   "source": [
    "### Writing to a file\n",
    "\n",
    "Another common use case for connecting to files is to *write* to secondary memory. \n",
    "\n",
    "The main thing to know here is the `.write()` method.\n",
    "\n",
    "Think of it as similar to the `print()` function, except it writes to the file instead of the screen."
   ]
  },
  {
   "cell_type": "code",
   "execution_count": 36,
   "metadata": {
    "id": "1rrW3gFk0PKL"
   },
   "outputs": [
    {
     "data": {
      "text/plain": [
       "14"
      ]
     },
     "execution_count": 36,
     "metadata": {},
     "output_type": "execute_result"
    }
   ],
   "source": [
    "path = \"assets/\"\n",
    "fname = \"newfile5.txt\"\n",
    "fpath = f\"{path}{fname}\"\n",
    "\n",
    "# basic write\n",
    "# put 'w' as the seocnd argument\n",
    "fhand = open(fpath, 'w')\n",
    "fhand.write(\"Hello INST126!\") # .write() takes a string as input, and returns the number of characters written, just writes to the file\n",
    "fhand.write(\"\\n\\nAnother line\")\n",
    "# fhand.close()\n",
    "# numwritten"
   ]
  },
  {
   "cell_type": "markdown",
   "metadata": {
    "id": "goGYYULgmKRT"
   },
   "source": [
    "You may be told in various places that you need to `.close()` a file to safely exit the connection. As best we can tell, this used to be very true: sometimes data would be lost if the file wasn't closed. But now, in Python 3, we the instructional team have been unable to determine concrete, repeatable consequences of forgetting this *in the context of this course*. However! This can have consequences in very specific circumstances in professional settings: https://realpython.com/why-close-file-python/\n",
    "\n",
    "This is why you'll often see code using the `with` pattern, like this."
   ]
  },
  {
   "cell_type": "code",
   "execution_count": 10,
   "metadata": {
    "id": "R5hPQ6_TmPja"
   },
   "outputs": [],
   "source": [
    "path = \"assets/\"\n",
    "fname = \"\"\n",
    "fpath = f\"{path}{fname}\"\n",
    "\n",
    "# once the code inside the with block finishes, Python automatically closes the file\n",
    "with open(fpath, 'w') as f:\n",
    "    fhand.write(\"Hello world! Something new\") # .write() takes a string as input, and then doesn't really return any values, just writes to the file"
   ]
  },
  {
   "cell_type": "markdown",
   "metadata": {
    "id": "wYcvIvOoVNKZ"
   },
   "source": [
    "### Iterating through a file, similar to readlines"
   ]
  },
  {
   "cell_type": "code",
   "execution_count": 42,
   "metadata": {
    "colab": {
     "base_uri": "https://localhost:8080/"
    },
    "executionInfo": {
     "elapsed": 715,
     "status": "ok",
     "timestamp": 1618235256101,
     "user": {
      "displayName": "Joel Chan",
      "photoUrl": "https://lh3.googleusercontent.com/a-/AOh14GiBPPpBf_QqgDL3pMurAsPu9WJJE_x_6UtgW13UFQ=s64",
      "userId": "15153559228409906865"
     },
     "user_tz": 240
    },
    "id": "K9vZBbg_VQLi",
    "outputId": "02cf95a2-142f-4ab1-c486-798b655b3d29"
   },
   "outputs": [
    {
     "data": {
      "text/plain": [
       "['From louis@media.berkeley.edu Thu Jan  3 19:51:21 2008\\n',\n",
       " 'From louis@media.berkeley.edu Thu Jan  3 17:18:23 2008\\n',\n",
       " 'From ray@media.berkeley.edu Thu Jan  3 17:07:00 2008\\n',\n",
       " 'From cwen@iupui.edu Thu Jan  3 16:34:40 2008\\n',\n",
       " 'From cwen@iupui.edu Thu Jan  3 16:29:07 2008\\n',\n",
       " 'From cwen@iupui.edu Thu Jan  3 16:23:48 2008\\n']"
      ]
     },
     "execution_count": 42,
     "metadata": {},
     "output_type": "execute_result"
    }
   ],
   "source": [
    "path = \"assets/\"\n",
    "fname = \"mbox-email-receipts.txt\"\n",
    "fpath = f\"{path}{fname}\"\n",
    "\n",
    "thursday_records = []\n",
    "fhand = open(fpath, 'r')\n",
    "for line in fhand:\n",
    "    if 'Thu' in line:\n",
    "        thursday_records.append(line)\n",
    "        \n",
    "thursday_records"
   ]
  },
  {
   "cell_type": "code",
   "execution_count": 49,
   "metadata": {},
   "outputs": [
    {
     "name": "stdout",
     "output_type": "stream",
     "text": [
      "hello world!\n",
      "\n",
      "This is a new line\n",
      "['hello world!\\n', '\\n', 'This is a new line']\n",
      "['hello world!\\n', '\\n', 'This is a new line']\n"
     ]
    }
   ],
   "source": [
    "path = \"assets/\"\n",
    "fname = \"newfile2.txt\"\n",
    "fpath = f\"{path}{fname}\"\n",
    "\n",
    "with open(fpath, 'r') as fhand:\n",
    "    # use .read()\n",
    "    fstring = fhand.read()\n",
    "\n",
    "with open(fpath, 'r') as fhand:\n",
    "    # use readlines\n",
    "    flines = fhand.readlines()\n",
    "\n",
    "# iterate through lines in the file\n",
    "with open(fpath, 'r') as fhand:\n",
    "    records = []\n",
    "    for line in fhand:\n",
    "        records.append(line)\n",
    "        \n",
    "print(fstring)\n",
    "\n",
    "print(flines)\n",
    "\n",
    "print(records)"
   ]
  },
  {
   "cell_type": "markdown",
   "metadata": {
    "id": "G2WjOX0saB8A"
   },
   "source": [
    "### Aside: a reminder of chaining operations"
   ]
  },
  {
   "cell_type": "markdown",
   "metadata": {
    "id": "gTHg1rPp-OIg"
   },
   "source": [
    "Consider these common variants of the open + read steps that accomplish them in one line (we previously separated the steps in part to make them clearer). Let's say we have a file named `\"some_file.txt\"`. This is what it would look like to open and read them in a single line:"
   ]
  },
  {
   "cell_type": "code",
   "execution_count": 51,
   "metadata": {
    "id": "K5gtfv6K-pFB"
   },
   "outputs": [
    {
     "data": {
      "text/plain": [
       "'hello world!\\n\\nThis is a new line'"
      ]
     },
     "execution_count": 51,
     "metadata": {},
     "output_type": "execute_result"
    }
   ],
   "source": [
    "fstring = open(\"assets/newfile2.txt\", \"r\").read() # read all the contents of the file in as a string\n",
    "fstring\n",
    "# flines = open(\"some_file.txt\", \"r\").readlines() # read the contents of the file in as a list of strings, one for each \"line\" in the file"
   ]
  },
  {
   "cell_type": "markdown",
   "metadata": {
    "id": "Pd2egC68_EAO"
   },
   "source": [
    "This works because the `open()` function is an expression that produces a file object, which is the kind of thing that can do the `.read()` or `.readlines()` methods. So, we can actually **chain** the `read()` or `readlines()` methods directly on the file object created by the `open()` expression, without bothering to first save the file object to a variable. This is the concept of **chaining methods/functions/operations directly on the result of an expression\". \n",
    "\n",
    "Often we do this because we don't want to waste \"mental/visible\" space on variables we actually don't care about (e.g., often we never want to do anything with the file object later)."
   ]
  },
  {
   "cell_type": "markdown",
   "metadata": {
    "id": "3sZmKdiWAQ7M"
   },
   "source": [
    "Remember how we saw this with \"cleaning\" strings? \n",
    "\n",
    "For example, you might want to normalize a string by converting it to uppercase AND remove all leading and trailing whitespace. You can do it in one line like this"
   ]
  },
  {
   "cell_type": "code",
   "execution_count": null,
   "metadata": {
    "colab": {
     "base_uri": "https://localhost:8080/"
    },
    "executionInfo": {
     "elapsed": 658,
     "status": "ok",
     "timestamp": 1618235860876,
     "user": {
      "displayName": "Joel Chan",
      "photoUrl": "https://lh3.googleusercontent.com/a-/AOh14GiBPPpBf_QqgDL3pMurAsPu9WJJE_x_6UtgW13UFQ=s64",
      "userId": "15153559228409906865"
     },
     "user_tz": 240
    },
    "id": "ZnYG1VGrAgcW",
    "outputId": "e5ff34d5-c667-4639-8a7e-e8fe2fb27291"
   },
   "outputs": [
    {
     "name": "stdout",
     "output_type": "stream",
     "text": [
      "HELLO WORLD\n",
      "HELL\n"
     ]
    }
   ],
   "source": [
    "s_raw = \"hello WorlD \"\n",
    "\n",
    "# you can do it like this\n",
    "s_upper = s_raw.upper()\n",
    "s_clean = s_upper.strip()\n",
    "\n",
    "# or like this (skip the intermediate variable)\n",
    "s_clean = s_raw.upper().strip() # convert to uppercase, which yields an uppercase string, and then chain the .strip() method directly on that string\n",
    "# instead of first saving in another variable\n",
    "print(s_clean)\n",
    "\n",
    "# only get the first four characters, but make sure it's clean and uppercase\n",
    "first_four = s_raw.upper().strip()[:4]\n",
    "print(first_four)"
   ]
  },
  {
   "cell_type": "markdown",
   "metadata": {},
   "source": [
    "## Common errors with files"
   ]
  },
  {
   "cell_type": "markdown",
   "metadata": {},
   "source": [
    "### Can't find the file: FileNotFoundError"
   ]
  },
  {
   "cell_type": "code",
   "execution_count": 56,
   "metadata": {},
   "outputs": [
    {
     "ename": "FileNotFoundError",
     "evalue": "[Errno 2] No such file or directory: 'mbox-email-receipts.txt'",
     "output_type": "error",
     "traceback": [
      "\u001b[0;31m---------------------------------------------------------------------------\u001b[0m",
      "\u001b[0;31mFileNotFoundError\u001b[0m                         Traceback (most recent call last)",
      "\u001b[0;32m/var/folders/xz/_hjc5hsx743dclmg8n5678nc0000gn/T/ipykernel_11301/2125143104.py\u001b[0m in \u001b[0;36m<module>\u001b[0;34m\u001b[0m\n\u001b[0;32m----> 1\u001b[0;31m \u001b[0mfhand\u001b[0m \u001b[0;34m=\u001b[0m \u001b[0mopen\u001b[0m\u001b[0;34m(\u001b[0m\u001b[0;34m\"mbox-email-receipts.txt\"\u001b[0m\u001b[0;34m,\u001b[0m \u001b[0;34m'r'\u001b[0m\u001b[0;34m)\u001b[0m\u001b[0;34m\u001b[0m\u001b[0;34m\u001b[0m\u001b[0m\n\u001b[0m\u001b[1;32m      2\u001b[0m \u001b[0mprint\u001b[0m\u001b[0;34m(\u001b[0m\u001b[0mfhand\u001b[0m\u001b[0;34m.\u001b[0m\u001b[0mread\u001b[0m\u001b[0;34m(\u001b[0m\u001b[0;34m)\u001b[0m\u001b[0;34m)\u001b[0m\u001b[0;34m\u001b[0m\u001b[0;34m\u001b[0m\u001b[0m\n",
      "\u001b[0;31mFileNotFoundError\u001b[0m: [Errno 2] No such file or directory: 'mbox-email-receipts.txt'"
     ]
    }
   ],
   "source": [
    "fhand = open(\"mbox-email-receipts.txt\", 'r')\n",
    "print(fhand.read())"
   ]
  },
  {
   "cell_type": "markdown",
   "metadata": {},
   "source": [
    "In basically all cases, the issue/mismatch is between your understanding of where the thing is (path) or what its name is (fname) and what you actually told to Python.\n",
    "\n",
    "This could be a:\n",
    "- Misspelling (remember how literal Python is?)\n",
    "- Wrong/missing directions (e.g., missing a folder, or an operation)"
   ]
  },
  {
   "cell_type": "markdown",
   "metadata": {},
   "source": [
    "### Wrong connection type/permission: UnsupportedOperation"
   ]
  },
  {
   "cell_type": "code",
   "execution_count": 62,
   "metadata": {
    "scrolled": true,
    "tags": []
   },
   "outputs": [
    {
     "name": "stdout",
     "output_type": "stream",
     "text": [
      "From stephen.marquard@uct.ac.za Sat Jan  5 09:14:16 2008\n",
      "From louis@media.berkeley.edu Fri Jan  4 18:10:48 2008\n",
      "From zqian@umich.edu Fri Jan  4 16:10:39 2008\n",
      "From rjlowe@iupui.edu Fri Jan  4 15:46:24 2008\n",
      "From zqian@umich.edu Fri Jan  4 15:03:18 2008\n",
      "From rjlowe@iupui.edu Fri Jan  4 14:50:18 2008\n",
      "From cwen@iupui.edu Fri Jan  4 11:37:30 2008\n",
      "From cwen@iupui.edu Fri Jan  4 11:35:08 2008\n",
      "From gsilver@umich.edu Fri Jan  4 11:12:37 2008\n",
      "From gsilver@umich.edu Fri Jan  4 11:11:52 2008\n",
      "From zqian@umich.edu Fri Jan  4 11:11:03 2008\n",
      "From gsilver@umich.edu Fri Jan  4 11:10:22 2008\n",
      "From wagnermr@iupui.edu Fri Jan  4 10:38:42 2008\n",
      "From zqian@umich.edu Fri Jan  4 10:17:43 2008\n",
      "From antranig@caret.cam.ac.uk Fri Jan  4 10:04:14 2008\n",
      "From gopal.ramasammycook@gmail.com Fri Jan  4 09:05:31 2008\n",
      "From david.horwitz@uct.ac.za Fri Jan  4 07:02:32 2008\n",
      "From david.horwitz@uct.ac.za Fri Jan  4 06:08:27 2008\n",
      "From david.horwitz@uct.ac.za Fri Jan  4 04:49:08 2008\n",
      "From david.horwitz@uct.ac.za Fri Jan  4 04:33:44 2008\n",
      "From stephen.marquard@uct.ac.za Fri Jan  4 04:07:34 2008\n",
      "From louis@media.berkeley.edu Thu Jan  3 19:51:21 2008\n",
      "From louis@media.berkeley.edu Thu Jan  3 17:18:23 2008\n",
      "From ray@media.berkeley.edu Thu Jan  3 17:07:00 2008\n",
      "From cwen@iupui.edu Thu Jan  3 16:34:40 2008\n",
      "From cwen@iupui.edu Thu Jan  3 16:29:07 2008\n",
      "From cwen@iupui.edu Thu Jan  3 16:23:48 2008\n",
      "\n"
     ]
    }
   ],
   "source": [
    "# i said i would write to it\n",
    "# but i tried to read it\n",
    "fhand = open(\"assets/mbox-email-receipts.txt\", 'r')\n",
    "print(fhand.read())\n",
    "fhand.close()"
   ]
  },
  {
   "cell_type": "code",
   "execution_count": 58,
   "metadata": {
    "scrolled": true
   },
   "outputs": [
    {
     "ename": "UnsupportedOperation",
     "evalue": "not writable",
     "output_type": "error",
     "traceback": [
      "\u001b[0;31m---------------------------------------------------------------------------\u001b[0m",
      "\u001b[0;31mUnsupportedOperation\u001b[0m                      Traceback (most recent call last)",
      "\u001b[0;32m/var/folders/xz/_hjc5hsx743dclmg8n5678nc0000gn/T/ipykernel_11301/4138939401.py\u001b[0m in \u001b[0;36m<module>\u001b[0;34m\u001b[0m\n\u001b[1;32m      2\u001b[0m \u001b[0;31m# but i tried to write to it\u001b[0m\u001b[0;34m\u001b[0m\u001b[0;34m\u001b[0m\u001b[0m\n\u001b[1;32m      3\u001b[0m \u001b[0mfhand\u001b[0m \u001b[0;34m=\u001b[0m \u001b[0mopen\u001b[0m\u001b[0;34m(\u001b[0m\u001b[0;34m\"assets/mbox-email-receipts.txt\"\u001b[0m\u001b[0;34m,\u001b[0m \u001b[0;34m'r'\u001b[0m\u001b[0;34m)\u001b[0m\u001b[0;34m\u001b[0m\u001b[0;34m\u001b[0m\u001b[0m\n\u001b[0;32m----> 4\u001b[0;31m \u001b[0mprint\u001b[0m\u001b[0;34m(\u001b[0m\u001b[0mfhand\u001b[0m\u001b[0;34m.\u001b[0m\u001b[0mwrite\u001b[0m\u001b[0;34m(\u001b[0m\u001b[0;34m\"Hello world\"\u001b[0m\u001b[0;34m)\u001b[0m\u001b[0;34m)\u001b[0m\u001b[0;34m\u001b[0m\u001b[0;34m\u001b[0m\u001b[0m\n\u001b[0m",
      "\u001b[0;31mUnsupportedOperation\u001b[0m: not writable"
     ]
    }
   ],
   "source": [
    "# i said i would read it\n",
    "# but i tried to write to it\n",
    "fhand = open(\"assets/mbox-email-receipts.txt\", 'r')\n",
    "print(fhand.write(\"Hello world\"))"
   ]
  },
  {
   "cell_type": "code",
   "execution_count": 63,
   "metadata": {},
   "outputs": [
    {
     "data": {
      "text/plain": [
       "['.DS_Store',\n",
       " 'other_stuff',\n",
       " '.ipynb_checkpoints',\n",
       " '.jupyter',\n",
       " '9_Files.ipynb',\n",
       " 'assets']"
      ]
     },
     "execution_count": 63,
     "metadata": {},
     "output_type": "execute_result"
    }
   ],
   "source": [
    "import os\n",
    "os.listdir()"
   ]
  },
  {
   "cell_type": "code",
   "execution_count": null,
   "metadata": {},
   "outputs": [],
   "source": []
  }
 ],
 "metadata": {
  "colab": {
   "name": "INST126_SP21_Week12_Dictionaries2-Files_post-class.ipynb",
   "provenance": [],
   "toc_visible": true
  },
  "kernelspec": {
   "display_name": "Python 3 (ipykernel)",
   "language": "python",
   "name": "python3"
  },
  "language_info": {
   "codemirror_mode": {
    "name": "ipython",
    "version": 3
   },
   "file_extension": ".py",
   "mimetype": "text/x-python",
   "name": "python",
   "nbconvert_exporter": "python",
   "pygments_lexer": "ipython3",
   "version": "3.9.7"
  }
 },
 "nbformat": 4,
 "nbformat_minor": 4
}