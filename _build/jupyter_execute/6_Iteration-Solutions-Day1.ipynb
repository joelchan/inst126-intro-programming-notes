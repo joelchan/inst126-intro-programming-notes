{
 "cells": [
  {
   "cell_type": "markdown",
   "metadata": {
    "id": "g-lkfdphxbR0"
   },
   "source": [
    "# 6: Iteration\n",
    "\n",
    "## What are loops and why should we care about them?"
   ]
  },
  {
   "cell_type": "markdown",
   "metadata": {},
   "source": [
    "Loops are a fundamental building block of comptutational solutions to problems. They are an example of a **control structure**. Conditionals are another example of control structures.\n",
    "\n",
    "Control structures allow you to control *when/whether* (conditional) and *how many times* (loops) you do things"
   ]
  },
  {
   "cell_type": "markdown",
   "metadata": {
    "id": "59UWIOJ_jgrs"
   },
   "source": [
    "It's hard to build programs without a concise way to instruct the computer to do *repeated actions*.\n",
    "\n",
    "Here are some simple examples. Try to think of how you might solve these without loops!\n",
    "- Put 6 cups of flour into this box\n",
    "- Stir occasionally until the sauce starts to reduce"
   ]
  },
  {
   "cell_type": "code",
   "execution_count": 1,
   "metadata": {
    "id": "36G3HH2Nj9-B"
   },
   "outputs": [],
   "source": [
    "def scoop_into_box():\n",
    "    print(\"Scooping!\")"
   ]
  },
  {
   "cell_type": "code",
   "execution_count": 2,
   "metadata": {},
   "outputs": [
    {
     "name": "stdout",
     "output_type": "stream",
     "text": [
      "Scooping!\n",
      "Scooping!\n",
      "Scooping!\n",
      "Scooping!\n",
      "Scooping!\n",
      "Scooping!\n"
     ]
    }
   ],
   "source": [
    "scoop_into_box()\n",
    "scoop_into_box()\n",
    "scoop_into_box()\n",
    "scoop_into_box()\n",
    "scoop_into_box()\n",
    "scoop_into_box()"
   ]
  },
  {
   "cell_type": "code",
   "execution_count": 3,
   "metadata": {
    "id": "mhfdYkXgkDZz"
   },
   "outputs": [
    {
     "name": "stdout",
     "output_type": "stream",
     "text": [
      "stirring\n",
      "Checking sauce\n"
     ]
    }
   ],
   "source": [
    "def stir():\n",
    "    print(\"stirring\")\n",
    "\n",
    "def check_sauce():\n",
    "    print(\"Checking sauce\")\n",
    "    \n",
    "stir()\n",
    "if check_sauce() == \"thick\":\n",
    "    stir()\n",
    "    if check_sauce() == \"thick\":\n",
    "        stir()\n",
    "        if check_sauce() == \"thick\":\n",
    "            stir()"
   ]
  },
  {
   "cell_type": "markdown",
   "metadata": {
    "id": "020LJeezj-ZD"
   },
   "source": [
    "With loops these get a LOT easier to specify, and become more robust and reusable too."
   ]
  },
  {
   "cell_type": "code",
   "execution_count": 4,
   "metadata": {
    "id": "Un6dKvO0UGEG"
   },
   "outputs": [
    {
     "name": "stdout",
     "output_type": "stream",
     "text": [
      "Scooping!\n",
      "Scooping!\n",
      "Scooping!\n"
     ]
    }
   ],
   "source": [
    "#\n",
    "for i in range(3):\n",
    "    scoop_into_box()"
   ]
  },
  {
   "cell_type": "code",
   "execution_count": 5,
   "metadata": {},
   "outputs": [
    {
     "name": "stdout",
     "output_type": "stream",
     "text": [
      "Checking sauce\n"
     ]
    }
   ],
   "source": [
    "# \n",
    "while check_sauce() == \"thick\":\n",
    "    stir()"
   ]
  },
  {
   "cell_type": "markdown",
   "metadata": {
    "id": "2EI3jDA6knjR"
   },
   "source": [
    "Loops also enable many useful algorithms/patterns that go nicely with lists. You'll be practicing and applying them in PCEs and Projects this module!\n",
    "\n",
    "For example:\n",
    "- Searching through a list\n",
    "- Filtering a list of items\n",
    "- Counting occurrences in some collection"
   ]
  },
  {
   "cell_type": "markdown",
   "metadata": {},
   "source": [
    "Continuing with our running example for this module, here are loops in the context of a program:"
   ]
  },
  {
   "cell_type": "code",
   "execution_count": 6,
   "metadata": {},
   "outputs": [
    {
     "name": "stdout",
     "output_type": "stream",
     "text": [
      "['sarah@umd.edu', 'joelchan@umd.edu']\n"
     ]
    }
   ],
   "source": [
    "# key variables:\n",
    "# the input LIST of strings\n",
    "inputs = [\n",
    "    \"hello sarah@umd.edu\",\n",
    "    \"from: joelchan@umd.edu\",\n",
    "    \"some other text that doesn't have an email\"\n",
    "]\n",
    "# a LIST to store the email addresses\n",
    "emails = []\n",
    "\n",
    "# LOOP over every text input\n",
    "for text_input in inputs:\n",
    "    \n",
    "    # extract an email address\n",
    "    # split the text into subsets\n",
    "    chunks = text_input.split()\n",
    "    \n",
    "    # LOOP over the list of chunks to check each one\n",
    "    for chunk in chunks:\n",
    "        # check if it has @ and .\n",
    "        if \"@\" in chunk and \".\" in chunk:\n",
    "            # put the chunk in the email list\n",
    "            emails.append(chunk)\n",
    "# give the email address back to the user\n",
    "print(emails)"
   ]
  },
  {
   "cell_type": "markdown",
   "metadata": {
    "id": "XMfeWgyvG3W7"
   },
   "source": [
    "## Definite loops (for loops)"
   ]
  },
  {
   "cell_type": "markdown",
   "metadata": {
    "id": "s8zUmMgjkYv2"
   },
   "source": [
    "Quite often we have a list of items of the lines in a file - effectively a finite set of things. We can write a loop to do some operation once for each of the items in a set using the Python for construct.\n",
    "\n",
    "These loops are called “*definite loops*” because they execute an exact number of times. We say that “definite loops iterate through the members of a set”\n",
    "\n",
    "Use definite/for when you know in advance how many times you want to do something.\n",
    "\n",
    "This is the use case in our running example.\n",
    "\n",
    "Other examples:\n",
    "- Do an action N times\n",
    "- Take M steps\n",
    "- Do something for every item in a finite list"
   ]
  },
  {
   "cell_type": "markdown",
   "metadata": {},
   "source": [
    "### Anatomy of a definite (for) loop in Python"
   ]
  },
  {
   "cell_type": "markdown",
   "metadata": {},
   "source": [
    "Let's take a closer look.\n",
    "\n",
    "- The **iteration variable** \"iterates\" through the **sequence** (ordered set)\n",
    "- The **block (body)** of code is executed once for each value **in** the **sequence**\n",
    "- The **iteration variable** moves through all of the values in the **sequence**"
   ]
  },
  {
   "cell_type": "code",
   "execution_count": 7,
   "metadata": {},
   "outputs": [
    {
     "name": "stdout",
     "output_type": "stream",
     "text": [
      "taking something from the list\n",
      "5\n",
      "taking something from the list\n",
      "4\n",
      "taking something from the list\n",
      "3\n",
      "taking something from the list\n",
      "2\n",
      "taking something from the list\n",
      "1\n"
     ]
    }
   ],
   "source": [
    "nums = [5, 4, 3, 2, 1]\n",
    "# here, i is the iteration variable\n",
    "\n",
    "n = nums[0]\n",
    "n = nums[1]\n",
    "n = nums[2]\n",
    "\n",
    "for n in nums: \n",
    "    print(\"taking something from the list\")\n",
    "    print(n) # block/body"
   ]
  },
  {
   "cell_type": "code",
   "execution_count": null,
   "metadata": {},
   "outputs": [],
   "source": []
  },
  {
   "cell_type": "code",
   "execution_count": 8,
   "metadata": {},
   "outputs": [
    {
     "name": "stdout",
     "output_type": "stream",
     "text": [
      "5\n",
      "100\n",
      "4\n",
      "80\n",
      "3\n",
      "60\n",
      "2\n",
      "40\n",
      "1\n",
      "20\n"
     ]
    }
   ],
   "source": [
    "nums = [5, 4, 3, 2, 1]\n",
    "# here, i is the iteration variable\n",
    "for i in nums: \n",
    "    print(i)\n",
    "    new_num = i*20\n",
    "    print(new_num) # block/body"
   ]
  },
  {
   "cell_type": "markdown",
   "metadata": {},
   "source": [
    "The iteration variable is a *variable*: this means you can name it whatever you like, subject to the basic syntax rules and of course our heuristic to name things to make the logic of the program legible."
   ]
  },
  {
   "cell_type": "code",
   "execution_count": 9,
   "metadata": {},
   "outputs": [
    {
     "name": "stdout",
     "output_type": "stream",
     "text": [
      "100\n",
      "80\n",
      "60\n",
      "40\n",
      "20\n"
     ]
    }
   ],
   "source": [
    "nums = [5, 4, 3, 2, 1]\n",
    "# here, num is the iteration variable\n",
    "for a_number in nums: \n",
    "    new_num = a_number*20\n",
    "    print(new_num) # block/body"
   ]
  },
  {
   "cell_type": "code",
   "execution_count": 10,
   "metadata": {},
   "outputs": [
    {
     "name": "stdout",
     "output_type": "stream",
     "text": [
      "4\n",
      "2\n"
     ]
    }
   ],
   "source": [
    "nums = [5, 4, 3, 2, 1]\n",
    "# here, num is the iteration variable\n",
    "for num in nums:\n",
    "    if num % 2 == 0: # check if even\n",
    "        print(num) # block/body"
   ]
  },
  {
   "cell_type": "code",
   "execution_count": 11,
   "metadata": {},
   "outputs": [
    {
     "name": "stdout",
     "output_type": "stream",
     "text": [
      "john\n",
      "terrell\n",
      "qian\n",
      "malala\n"
     ]
    }
   ],
   "source": [
    "for name in [\"john\", \"terrell\", \"qian\", \"malala\"]:\n",
    "    print(name)"
   ]
  },
  {
   "cell_type": "code",
   "execution_count": 12,
   "metadata": {},
   "outputs": [
    {
     "data": {
      "text/plain": [
       "[0, 1, 2, 3, 4]"
      ]
     },
     "execution_count": 12,
     "metadata": {},
     "output_type": "execute_result"
    }
   ],
   "source": [
    "# the range function produces an iterable sequence of numbers\n",
    "# that start at the optional first argument, and stop before\n",
    "# the required second argument\n",
    "# https://www.w3schools.com/python/ref_func_range.asp\n",
    "list(range(0,5))"
   ]
  },
  {
   "cell_type": "code",
   "execution_count": 13,
   "metadata": {},
   "outputs": [
    {
     "name": "stdout",
     "output_type": "stream",
     "text": [
      "I has the value 0\n",
      "Taking a step\n",
      "I has the value 1\n",
      "Taking a step\n",
      "I has the value 2\n",
      "Taking a step\n",
      "I has the value 3\n",
      "Taking a step\n",
      "I has the value 4\n",
      "Taking a step\n",
      "I has the value 5\n",
      "Taking a step\n",
      "I has the value 6\n",
      "Taking a step\n"
     ]
    }
   ],
   "source": [
    "# use this if you want to specify doing something N times\n",
    "# e.g., here, take a step 5 times\n",
    "for i in range(7):\n",
    "    print(\"I has the value\", i)\n",
    "    print(\"Taking a step\")"
   ]
  },
  {
   "cell_type": "code",
   "execution_count": 14,
   "metadata": {},
   "outputs": [
    {
     "name": "stdout",
     "output_type": "stream",
     "text": [
      "I has the value 0\n",
      "Taking a step\n",
      "I has the value 1\n",
      "Taking a step\n",
      "I has the value 2\n",
      "Taking a step\n",
      "I has the value 3\n",
      "Taking a step\n",
      "I has the value 4\n",
      "Taking a step\n"
     ]
    }
   ],
   "source": [
    "# use this if you want to specify doing something N times\n",
    "# e.g., here, take a step 5 times\n",
    "for i in [0,1,2,3,4]:\n",
    "    print(\"I has the value\", i)\n",
    "    print(\"Taking a step\")"
   ]
  },
  {
   "cell_type": "code",
   "execution_count": 15,
   "metadata": {},
   "outputs": [
    {
     "name": "stdout",
     "output_type": "stream",
     "text": [
      "scooping cup number 1\n",
      "scooping cup number 2\n",
      "scooping cup number 3\n",
      "scooping cup number 4\n",
      "scooping cup number 5\n",
      "scooping cup number 6\n"
     ]
    }
   ],
   "source": [
    "# scoop 6 cups\n",
    "steps = 6\n",
    "for step in range(steps):\n",
    "    print(\"scooping cup number\", step+1)"
   ]
  },
  {
   "cell_type": "markdown",
   "metadata": {},
   "source": [
    "Let's take a closer look in [python tutor](http://www.pythontutor.com/visualize.html#mode=edit)\n",
    "\n"
   ]
  },
  {
   "cell_type": "markdown",
   "metadata": {
    "id": "FYVv4YjdCjfS"
   },
   "source": [
    "### Common design patterns with definite loops"
   ]
  },
  {
   "cell_type": "markdown",
   "metadata": {
    "id": "zkz3w2_RHk2B"
   },
   "source": [
    "#### Counting\n",
    "\n",
    "A common situation: you have a list of stuff, and you want to count how many times a certain kind of thing shows up in that list. \n",
    "\n",
    "If you want to count occurrences based on a simple exact match, you can use the `.count()` list method."
   ]
  },
  {
   "cell_type": "code",
   "execution_count": 16,
   "metadata": {},
   "outputs": [
    {
     "data": {
      "text/plain": [
       "2"
      ]
     },
     "execution_count": 16,
     "metadata": {},
     "output_type": "execute_result"
    }
   ],
   "source": [
    "names = [\"Joel\", \"John\", \"Jane\", \"Jamie\", \"John\", \"Michael\", \"Sarah\", \"Joseph\", \"Chris\", \"Ray\"]\n",
    "# count how many times \"John\" is in here\n",
    "names.count(\"John\")"
   ]
  },
  {
   "cell_type": "markdown",
   "metadata": {},
   "source": [
    "But often you want to count based on something more complex than an exact match. For example, let's say I want to count the number of \"high performers\" in a list of scores (where high performing means score of 95 or greater).\n",
    "\n",
    "Iteration is a really helpful way to do this."
   ]
  },
  {
   "cell_type": "code",
   "execution_count": 17,
   "metadata": {
    "colab": {
     "base_uri": "https://localhost:8080/"
    },
    "executionInfo": {
     "elapsed": 386,
     "status": "ok",
     "timestamp": 1614616032440,
     "user": {
      "displayName": "Joel Chan",
      "photoUrl": "https://lh3.googleusercontent.com/a-/AOh14GiBPPpBf_QqgDL3pMurAsPu9WJJE_x_6UtgW13UFQ=s64",
      "userId": "15153559228409906865"
     },
     "user_tz": 300
    },
    "id": "97jK8jFWH0Ld",
    "outputId": "86d95e54-e442-49b6-e659-7b9db8a38a45"
   },
   "outputs": [
    {
     "name": "stdout",
     "output_type": "stream",
     "text": [
      "4\n"
     ]
    }
   ],
   "source": [
    "# \n",
    "scores = [65, 78, 23, 97, 100, 25, 95] # input list\n",
    "\n",
    "threshold = 67 # score of C\n",
    "\n",
    "n_highperformers = 0 # define the count variable, initialize to 0\n",
    "\n",
    "# go through each item\n",
    "for score in scores: \n",
    "    # check if meets my criteria for being counted\n",
    "    if score >= threshold: \n",
    "        # if so, increase count\n",
    "        n_highperformers += 1 \n",
    "print(n_highperformers)"
   ]
  },
  {
   "cell_type": "markdown",
   "metadata": {
    "id": "0GUFEwX8aSSV"
   },
   "source": [
    "The generic pattern (or algorithm) is something like this:"
   ]
  },
  {
   "cell_type": "code",
   "execution_count": 18,
   "metadata": {},
   "outputs": [],
   "source": [
    "# initialize count variable\n",
    "\n",
    "# for every item in list\n",
    "    # check if meets my criteria for being counted\n",
    "        # if so, increase count"
   ]
  },
  {
   "cell_type": "markdown",
   "metadata": {
    "id": "7NhuvhW_H01V"
   },
   "source": [
    "Practice: let's say I have a list of names, and I want to count how many names don't start with the letter J."
   ]
  },
  {
   "cell_type": "code",
   "execution_count": 19,
   "metadata": {
    "colab": {
     "base_uri": "https://localhost:8080/"
    },
    "executionInfo": {
     "elapsed": 738,
     "status": "ok",
     "timestamp": 1615215916705,
     "user": {
      "displayName": "Joel Chan",
      "photoUrl": "https://lh3.googleusercontent.com/a-/AOh14GiBPPpBf_QqgDL3pMurAsPu9WJJE_x_6UtgW13UFQ=s64",
      "userId": "15153559228409906865"
     },
     "user_tz": 300
    },
    "id": "FsQMeLKzax1R",
    "outputId": "e35ef9d2-1fd9-4de9-c7d3-78da061d264c"
   },
   "outputs": [],
   "source": [
    "names = [\"Joel\", \"John\", \"Jane\", \"Jamie\", \"Johnny\", \"Michaela\", \"Sarah\", \"Joseph\", \"Chris\", \"Ray\"]\n",
    "\n",
    "target_letter = \"J\"\n",
    "\n",
    "# initialize count variable\n",
    "num_target_names = 0\n",
    "\n",
    "# for every item in list\n",
    "for name in names:\n",
    "    # check if we should count it\n",
    "    if name.startswith(\"J\"):\n",
    "        # increase count if it checks out\n",
    "        num_target_names += 1"
   ]
  },
  {
   "cell_type": "markdown",
   "metadata": {},
   "source": [
    "Practice: count how many names are short (e.g., 4 characters or less)? Or long (e.g., more than 5 characters)."
   ]
  },
  {
   "cell_type": "code",
   "execution_count": 20,
   "metadata": {},
   "outputs": [
    {
     "data": {
      "text/plain": [
       "4"
      ]
     },
     "execution_count": 20,
     "metadata": {},
     "output_type": "execute_result"
    }
   ],
   "source": [
    "len(\"Joel\")"
   ]
  },
  {
   "cell_type": "code",
   "execution_count": 21,
   "metadata": {},
   "outputs": [
    {
     "name": "stdout",
     "output_type": "stream",
     "text": [
      "3\n"
     ]
    }
   ],
   "source": [
    "names = [\"Joel\", \"John\", \"Jane\", \"Jamie\", \"Johnny\", \"Michaela\", \"Sarah\", \"Joseph\", \"Chris\", \"Ray\"]\n",
    "\n",
    "# initialize count variable\n",
    "num_long = 0\n",
    "\n",
    "# for every item in list\n",
    "for name in names:\n",
    "    # check if we should count it\n",
    "    if len(name) > 5: \n",
    "        # increase count if it checks out\n",
    "        num_long += 1\n",
    "        \n",
    "print(num_long)"
   ]
  },
  {
   "cell_type": "markdown",
   "metadata": {},
   "source": [
    "Practice: check how many times we have a \"banned\" name.\n",
    "*hint: how do we check if an item is in a list?"
   ]
  },
  {
   "cell_type": "code",
   "execution_count": 22,
   "metadata": {},
   "outputs": [
    {
     "name": "stdout",
     "output_type": "stream",
     "text": [
      "2\n"
     ]
    }
   ],
   "source": [
    "names = [\"Joel\", \"John\", \"Jane\", \"Jamie\", \"Johnny\", \"Michaela\", \"Sarah\", \"Joseph\", \"Chris\", \"Ray\"]\n",
    "\n",
    "banned = [\"Joel\", \"Chris\"]\n",
    "\n",
    "# initialize count variable\n",
    "num_banned = 0\n",
    "\n",
    "# for every item in list\n",
    "for name in names:\n",
    "    # check if we should count it\n",
    "    if name in banned: \n",
    "        # increase count if it checks out\n",
    "        num_banned += 1\n",
    "        \n",
    "print(num_banned)"
   ]
  },
  {
   "cell_type": "markdown",
   "metadata": {
    "id": "TP00ttDLHmte"
   },
   "source": [
    "#### Filtering\n",
    "\n",
    "A closely related situation is where we want to not only count, but also \"grab\" or *filter* the things that meet our criteria.\n",
    "\n",
    "We'd want to create a new list, and make sure we have a bit of code that adds to that new list based on the criteria we have.\n",
    "\n",
    "Example: grab all scores that cross our threshold."
   ]
  },
  {
   "cell_type": "code",
   "execution_count": 23,
   "metadata": {
    "colab": {
     "base_uri": "https://localhost:8080/"
    },
    "executionInfo": {
     "elapsed": 318,
     "status": "ok",
     "timestamp": 1615216062004,
     "user": {
      "displayName": "Joel Chan",
      "photoUrl": "https://lh3.googleusercontent.com/a-/AOh14GiBPPpBf_QqgDL3pMurAsPu9WJJE_x_6UtgW13UFQ=s64",
      "userId": "15153559228409906865"
     },
     "user_tz": 300
    },
    "id": "AzsUWV0-Hz6N",
    "outputId": "ffe5db87-139f-4444-a1c0-56a62208c525"
   },
   "outputs": [
    {
     "name": "stdout",
     "output_type": "stream",
     "text": [
      "[97, 100, 95]\n"
     ]
    }
   ],
   "source": [
    "scores = [65, 82, 23, 97, 100, 95] # input list to be filtered\n",
    "\n",
    "threshold = 93 # the criterion\n",
    "\n",
    "# initialize empty list to hold filtered items\n",
    "to_grab = [] \n",
    "\n",
    "# go through each item\n",
    "for score in scores: \n",
    "    # check if item meets criteria for being filtered\n",
    "    if score >= threshold: \n",
    "        # if so, add the item to the output list\n",
    "        to_grab.append(score) \n",
    "\n",
    "print(to_grab)"
   ]
  },
  {
   "cell_type": "markdown",
   "metadata": {},
   "source": [
    "The generic pattern is something like this:"
   ]
  },
  {
   "cell_type": "code",
   "execution_count": 24,
   "metadata": {},
   "outputs": [],
   "source": [
    "# initialize empty list to hold filtered items\n",
    "\n",
    "# go through each item\n",
    "    # check if item meets criteria for being filtered\n",
    "        # if so, add the item to the output list"
   ]
  },
  {
   "cell_type": "markdown",
   "metadata": {},
   "source": [
    "Let's grab all the names that start with the letter J."
   ]
  },
  {
   "cell_type": "code",
   "execution_count": 25,
   "metadata": {
    "colab": {
     "base_uri": "https://localhost:8080/"
    },
    "executionInfo": {
     "elapsed": 400,
     "status": "ok",
     "timestamp": 1615216100494,
     "user": {
      "displayName": "Joel Chan",
      "photoUrl": "https://lh3.googleusercontent.com/a-/AOh14GiBPPpBf_QqgDL3pMurAsPu9WJJE_x_6UtgW13UFQ=s64",
      "userId": "15153559228409906865"
     },
     "user_tz": 300
    },
    "id": "E5-DLDoGH6Fz",
    "outputId": "629187b3-46bb-4f66-df83-88484c3f7219"
   },
   "outputs": [],
   "source": [
    "names = [\"Joel\", \"John\", \"Lane\", \"Jamie\", \"Freddy\"]\n",
    "\n",
    "target_letter = \"J\"\n",
    "\n",
    "# initialize list variable\n",
    "target_names = []\n",
    "\n",
    "# for every item in list\n",
    "for name in names:\n",
    "    # check if we should count it\n",
    "    if name.startswith(\"J\"):\n",
    "        # if so, add the item to the output list\n",
    "        target_names.append(name)"
   ]
  },
  {
   "cell_type": "markdown",
   "metadata": {},
   "source": [
    "Or grab only the names that aren't in our banned list."
   ]
  },
  {
   "cell_type": "code",
   "execution_count": 26,
   "metadata": {},
   "outputs": [
    {
     "data": {
      "text/plain": [
       "['John', 'Jane', 'Jamie', 'Johnny', 'Michaela', 'Sarah', 'Joseph', 'Ray']"
      ]
     },
     "execution_count": 26,
     "metadata": {},
     "output_type": "execute_result"
    }
   ],
   "source": [
    "names = [\"Joel\", \"John\", \"Jane\", \"Jamie\", \"Johnny\", \"Michaela\", \"Sarah\", \"Joseph\", \"Chris\", \"Ray\"]\n",
    "\n",
    "banned = [\"Joel\", \"Chris\"]\n",
    "\n",
    "# initialize list variable\n",
    "target_names = []\n",
    "\n",
    "# for every item in list\n",
    "for name in names:\n",
    "    # check if we should count it\n",
    "    if name not in banned:\n",
    "        # if so, add the item to the output list\n",
    "        target_names.append(name)\n",
    "        \n",
    "target_names"
   ]
  },
  {
   "cell_type": "markdown",
   "metadata": {},
   "source": [
    "Just a reminder that you can use the `filter()` function if you're curious, BUT YOU DO NOT HAVE TO. This is just an extra thing if you're curious"
   ]
  },
  {
   "cell_type": "code",
   "execution_count": 27,
   "metadata": {},
   "outputs": [
    {
     "name": "stdout",
     "output_type": "stream",
     "text": [
      "[82, 97, 100, 95]\n"
     ]
    }
   ],
   "source": [
    "scores = [65, 82, 23, 97, 100, 95] # input list to be filtered\n",
    "threshold = 80\n",
    "\n",
    "to_grab = list(filter(lambda x: x >= threshold, scores))\n",
    "print(to_grab)"
   ]
  },
  {
   "cell_type": "markdown",
   "metadata": {},
   "source": [
    "#### Mapping / transforming\n",
    "\n",
    "Finally, sometimes you want to modify some/all elements in a list into a new list. An example might be data cleaning, or data transformation."
   ]
  },
  {
   "cell_type": "markdown",
   "metadata": {},
   "source": [
    "Convert to percentages."
   ]
  },
  {
   "cell_type": "code",
   "execution_count": 28,
   "metadata": {},
   "outputs": [
    {
     "data": {
      "text/plain": [
       "[0.65, 0.82, 0.23, 0.97, 1.0, 0.95]"
      ]
     },
     "execution_count": 28,
     "metadata": {},
     "output_type": "execute_result"
    }
   ],
   "source": [
    "scores = [65, 82, 23, 97, 100, 95]\n",
    "\n",
    "# output list\n",
    "percentages = []\n",
    "\n",
    "# go through every item\n",
    "for score in scores:\n",
    "    # apply the transformation\n",
    "    percent = score/100\n",
    "    # add the transformed value to the output list\n",
    "    percentages.append(percent)\n",
    "percentages"
   ]
  },
  {
   "cell_type": "markdown",
   "metadata": {},
   "source": [
    "The generic pattern is something like this"
   ]
  },
  {
   "cell_type": "code",
   "execution_count": 29,
   "metadata": {},
   "outputs": [],
   "source": [
    "# initialize empty list to hold transformed items\n",
    "\n",
    "# go through each item\n",
    "    # apply transformation to item\n",
    "    # add transformed item to transformed items list"
   ]
  },
  {
   "cell_type": "markdown",
   "metadata": {},
   "source": [
    "Practice: Change outliers (those above 1000) to missing (\"NA\")"
   ]
  },
  {
   "cell_type": "code",
   "execution_count": 30,
   "metadata": {},
   "outputs": [
    {
     "ename": "IndentationError",
     "evalue": "expected an indented block (2612048376.py, line 8)",
     "output_type": "error",
     "traceback": [
      "\u001b[0;36m  File \u001b[0;32m\"/var/folders/xz/_hjc5hsx743dclmg8n5678nc0000gn/T/ipykernel_56233/2612048376.py\"\u001b[0;36m, line \u001b[0;32m8\u001b[0m\n\u001b[0;31m    # add transformed item to transformed items list\u001b[0m\n\u001b[0m                                                    ^\u001b[0m\n\u001b[0;31mIndentationError\u001b[0m\u001b[0;31m:\u001b[0m expected an indented block\n"
     ]
    }
   ],
   "source": [
    "scores = [65, 82, 2323, 97, 100, 95000]\n",
    "\n",
    "# initialize empty list to hold transformed items\n",
    "\n",
    "# go through each item\n",
    "for i in range(len(scores)):\n",
    "    # apply transformation to item\n",
    "    # add transformed item to transformed items list"
   ]
  },
  {
   "cell_type": "markdown",
   "metadata": {},
   "source": [
    "Practice: Change the list from scores to grades."
   ]
  },
  {
   "cell_type": "code",
   "execution_count": null,
   "metadata": {},
   "outputs": [],
   "source": [
    "scores = [65, 82, 23, 97, 100, 95] # input list to be filtered\n",
    "\n",
    "# initialize empty list to hold transformed items\n",
    "\n",
    "# go through each item\n",
    "    # apply transformation to item\n",
    "    # add transformed item to transformed items list"
   ]
  },
  {
   "cell_type": "markdown",
   "metadata": {},
   "source": [
    "As an extra thing to try, you can use the `map()` built-in function to do this too!"
   ]
  },
  {
   "cell_type": "code",
   "execution_count": null,
   "metadata": {},
   "outputs": [],
   "source": [
    "scores = [65, 82, 23, 97, 100, 95]\n",
    "percentages = list(map(lambda x: x/100, scores))\n",
    "percentages"
   ]
  },
  {
   "cell_type": "markdown",
   "metadata": {
    "id": "0WyKDpKBhF6Y"
   },
   "source": [
    "#### Coordinated iteration across multiple sequences\n",
    "\n",
    "One of the Project problems relies on a design pattern I haven't yet explicitly shown you in clear terms. So I want to quickly review it. \n",
    "\n",
    "How do you go through the elements of a list, index by index? I'll show you a form of this, and you can figure out how this might generalize to the rock paper scissors problem, where you need to go through two lists in lockstep (first item from both lists, then second item from both lists, and so on)"
   ]
  },
  {
   "cell_type": "code",
   "execution_count": null,
   "metadata": {
    "colab": {
     "base_uri": "https://localhost:8080/"
    },
    "executionInfo": {
     "elapsed": 343,
     "status": "ok",
     "timestamp": 1615216683162,
     "user": {
      "displayName": "Joel Chan",
      "photoUrl": "https://lh3.googleusercontent.com/a-/AOh14GiBPPpBf_QqgDL3pMurAsPu9WJJE_x_6UtgW13UFQ=s64",
      "userId": "15153559228409906865"
     },
     "user_tz": 300
    },
    "id": "oGZWgZ7ZZqPY",
    "outputId": "cd678d2b-a146-4cae-af20-533f4a6a4452"
   },
   "outputs": [],
   "source": [
    "# basic iteration through a list using indices\n",
    "names = [\"Joel\", \"John\", \"Lane\", \"Jamie\", \"Freddy\"]\n",
    "eligibilities = [True, False, True, True, False]\n",
    "\n",
    "# make a list of numbers that start at 0, and stop before\n",
    "# the length of the names list\n",
    "# and go through every number in that list\n",
    "for index in range(len(names)):\n",
    "    # use the number as an index for the first list\n",
    "    name = names[index]\n",
    "    # use the same number as an index for the second list\n",
    "    eligible = eligibilities[index]\n",
    "    # do something with the items at the same index position for both lists\n",
    "    print(name, eligible)"
   ]
  },
  {
   "cell_type": "markdown",
   "metadata": {},
   "source": [
    "The generic pattern is something like this:"
   ]
  },
  {
   "cell_type": "code",
   "execution_count": null,
   "metadata": {},
   "outputs": [],
   "source": [
    "# make a list of numbers that start at 0, and stop before\n",
    "# the length of one of the lists (assuming they are the same length!)\n",
    "# and go through every number in that list\n",
    "    # use the number as an index for the first list\n",
    "    # use the same number as an index for the second list\n",
    "    # do something with the items at the same index position for both lists"
   ]
  },
  {
   "cell_type": "markdown",
   "metadata": {
    "id": "pogG9d6WlQyC",
    "tags": []
   },
   "source": [
    "## Indefinite loops (while loops)\n",
    "\n",
    "Sometimes you want to repeat actions, but you don't know in advance how many times you want to repeat. But you do have a *stopping condition*. In this situation, you can use indefinite loops, which are called so because they keep going until a logical condition becomes `False`.\n",
    "\n",
    "Examples:\n",
    "- Keep going until I tell you to stop\n",
    "- Keep stirring until the sauce thickens\n",
    "- Keep taking candy from the box until your bucket is full or the box is empty\n",
    "\n",
    "Use indefinite/while when you don't know in advance how many times you want to do something, but do have a stopping condition you can clearly express."
   ]
  },
  {
   "cell_type": "markdown",
   "metadata": {
    "id": "AhUAWXgfnCgR"
   },
   "source": [
    "### Anatomy of an indefinite (while) loop in Python"
   ]
  },
  {
   "cell_type": "markdown",
   "metadata": {
    "id": "zo4AqTPfnkDz"
   },
   "source": [
    "- The **stopping condition** defines when the loop will stop and go to the next block of code\n",
    "  - It's composed of a *Boolean expression*\n",
    "  - It should be possible for the Boolean expression to be `False`!\n",
    "- The **block (body)** of code is executed once for each iteration in the loop\n",
    "- **Stopping condition update**: It is essential that the body of the loop has some operation it that modifies what is checked in the stopping condition"
   ]
  },
  {
   "cell_type": "code",
   "execution_count": null,
   "metadata": {
    "colab": {
     "base_uri": "https://localhost:8080/"
    },
    "executionInfo": {
     "elapsed": 322,
     "status": "ok",
     "timestamp": 1615214355937,
     "user": {
      "displayName": "Joel Chan",
      "photoUrl": "https://lh3.googleusercontent.com/a-/AOh14GiBPPpBf_QqgDL3pMurAsPu9WJJE_x_6UtgW13UFQ=s64",
      "userId": "15153559228409906865"
     },
     "user_tz": 300
    },
    "id": "vgi3xvEDolOS",
    "outputId": "f7c74b34-1c0e-4af4-bcf6-9fd4dc09341b"
   },
   "outputs": [],
   "source": [
    "# keep taking steps until you hit a limit\n",
    "steps = 0\n",
    "limit = 20\n",
    "# check stopping condition\n",
    "while steps < limit: \n",
    "    # body of the loop (aka do some stuff)\n",
    "    print(\"Taking a step\", steps)\n",
    "    # stopping condition update\n",
    "    steps += 1 # \n",
    "print(\"Done!\")"
   ]
  },
  {
   "cell_type": "markdown",
   "metadata": {},
   "source": [
    "Generic pattern:"
   ]
  },
  {
   "cell_type": "code",
   "execution_count": null,
   "metadata": {},
   "outputs": [],
   "source": [
    "# check stopping condition\n",
    "    # body of the loop (aka do some stuff)\n",
    "    # stopping condition update"
   ]
  },
  {
   "cell_type": "code",
   "execution_count": null,
   "metadata": {},
   "outputs": [],
   "source": [
    "guess = input(\"Try to guess the number between 1 and 10, or say `exit` to quit\")\n",
    "number = 5\n",
    "found = False\n",
    "while guess != \"exit\" and not found:\n",
    "    if int(guess) == number:\n",
    "        print(\"You got it!\")\n",
    "        found = True\n",
    "    else:\n",
    "        guess = input(\"Try to guess the number between 1 and 10, or say `exit` to quit\")"
   ]
  },
  {
   "cell_type": "markdown",
   "metadata": {},
   "source": [
    "Let's take a closer look in [python tutor](http://www.pythontutor.com/visualize.html#mode=edit)"
   ]
  },
  {
   "cell_type": "markdown",
   "metadata": {
    "tags": []
   },
   "source": [
    "### Some applications of indefinite loops"
   ]
  },
  {
   "cell_type": "markdown",
   "metadata": {},
   "source": [
    "#### Generically: keep doing something until...\n",
    "\n",
    "Keep adding characters to a string until it is a defined length, e.g., 10"
   ]
  },
  {
   "cell_type": "code",
   "execution_count": null,
   "metadata": {},
   "outputs": [],
   "source": [
    "input_string = \"abc\"\n",
    "\n",
    "# check stopping condition\n",
    "while len(input_string) < 10:\n",
    "    # body of the loop (aka do some stuff)\n",
    "    input_string = input_string + \"a\"\n",
    "    # stopping condition update (not needed because we're modifying the thing being checked)\n",
    "    \n",
    "print(input_string)\n",
    "print(len(input_string))"
   ]
  },
  {
   "cell_type": "markdown",
   "metadata": {},
   "source": [
    "Keep adding \".\" to the string until it is 13 characters long."
   ]
  },
  {
   "cell_type": "code",
   "execution_count": null,
   "metadata": {},
   "outputs": [],
   "source": [
    "input_string = \"abc\"\n",
    "\n",
    "# check stopping condition\n",
    "    # body of the loop (aka do some stuff)\n",
    "    # stopping condition update\n",
    "    \n",
    "print(input_string)"
   ]
  },
  {
   "cell_type": "markdown",
   "metadata": {},
   "source": [
    "Keep dividing a number by 2 until we can't anymore."
   ]
  },
  {
   "cell_type": "code",
   "execution_count": null,
   "metadata": {},
   "outputs": [],
   "source": [
    "num = 12000\n",
    "\n",
    "# check stopping condition\n",
    "    # body of the loop (aka do some stuff)\n",
    "    # stopping condition update\n",
    "    \n",
    "print(num)"
   ]
  },
  {
   "cell_type": "markdown",
   "metadata": {},
   "source": [
    "Example: get me 2 people named \"John\"."
   ]
  },
  {
   "cell_type": "code",
   "execution_count": null,
   "metadata": {},
   "outputs": [],
   "source": [
    "names = [\"Joel\", \"John\", \"Jane\", \"Jamie\", \"John\", \"Michaela\", \"Sarah\", \"John\", \"Chris\", \"John\"]"
   ]
  },
  {
   "cell_type": "markdown",
   "metadata": {},
   "source": [
    "#### Basic user interfaces (keep running program until user stops us.\n",
    "\n",
    "Guessing game."
   ]
  },
  {
   "cell_type": "code",
   "execution_count": null,
   "metadata": {},
   "outputs": [],
   "source": [
    "guess = input(\"Try to guess the number between 1 and 10, or say `exit` to quit\")\n",
    "number = 5\n",
    "while guess != \"exit\":\n",
    "    if int(guess) == number:\n",
    "        print(\"You got it!\")\n",
    "        break # we're done, exit the loop\n",
    "    else:\n",
    "        guess = input(\"Try to guess the number between 1 and 10, or say `exit` to quit\")\n",
    "print(\"Thanks for playing!\")"
   ]
  },
  {
   "cell_type": "code",
   "execution_count": null,
   "metadata": {},
   "outputs": [],
   "source": [
    "# check stopping condition\n",
    "    # body of the loop (aka do some stuff)\n",
    "    # stopping condition update"
   ]
  },
  {
   "cell_type": "markdown",
   "metadata": {},
   "source": [
    "#### All of the definite loops we saw earlier can be implemented with indefinite loops!"
   ]
  },
  {
   "cell_type": "code",
   "execution_count": null,
   "metadata": {},
   "outputs": [],
   "source": []
  },
  {
   "cell_type": "markdown",
   "metadata": {
    "id": "Jakekt19MaZ0"
   },
   "source": [
    "## Breaking a loop with the `break` statement"
   ]
  },
  {
   "cell_type": "markdown",
   "metadata": {
    "id": "BSXoxcbFMfWU"
   },
   "source": [
    "The break statement ends the current loop and jumps to the statement immediately following the loop. \n",
    "It is like a loop test that can happen anywhere in the body of the loop\n"
   ]
  },
  {
   "cell_type": "code",
   "execution_count": null,
   "metadata": {
    "colab": {
     "base_uri": "https://localhost:8080/"
    },
    "executionInfo": {
     "elapsed": 574,
     "status": "ok",
     "timestamp": 1615215187124,
     "user": {
      "displayName": "Joel Chan",
      "photoUrl": "https://lh3.googleusercontent.com/a-/AOh14GiBPPpBf_QqgDL3pMurAsPu9WJJE_x_6UtgW13UFQ=s64",
      "userId": "15153559228409906865"
     },
     "user_tz": 300
    },
    "id": "7Vn3T7moZCYx",
    "outputId": "784aeaa1-4410-481e-e12b-97499102adc3"
   },
   "outputs": [],
   "source": [
    "found = False # default is we hvaen't found it\n",
    "names = [\"Joel\", \"John\", \"Jane\", \"Jamie\", \"Lisa\", \"Anna\", \"Fred\"]\n",
    "for name in names:\n",
    "    print(name)\n",
    "    if name == \"John\":\n",
    "        found = True # set found to true\n",
    "        print(\"Found!\")\n",
    "        break\n",
    "print(\"We're done with the loop\")\n",
    "if found:\n",
    "    print(\"Found john!\")\n",
    "else:\n",
    "    print(\"Didn't find john\")"
   ]
  },
  {
   "cell_type": "code",
   "execution_count": null,
   "metadata": {},
   "outputs": [],
   "source": [
    "found = False # default is we hvaen't found it\n",
    "names = [\"Joel\", \"John\", \"Jane\", \"Jamie\", \"Lisa\", \"Anna\", \"Fred\"]\n",
    "\n",
    "name = names.pop()\n",
    "while not found:\n",
    "    print(name)\n",
    "    if name == \"John\":\n",
    "        found = True\n",
    "        print(found)\n",
    "        break\n",
    "    else:\n",
    "        if len(names) > 0:\n",
    "            name = names.pop()\n",
    "\n",
    "if found:\n",
    "    print(\"Found john!\")\n",
    "else:\n",
    "    print(\"Didn't find john\")"
   ]
  },
  {
   "cell_type": "code",
   "execution_count": null,
   "metadata": {
    "colab": {
     "base_uri": "https://localhost:8080/"
    },
    "executionInfo": {
     "elapsed": 34120,
     "status": "ok",
     "timestamp": 1615215056758,
     "user": {
      "displayName": "Joel Chan",
      "photoUrl": "https://lh3.googleusercontent.com/a-/AOh14GiBPPpBf_QqgDL3pMurAsPu9WJJE_x_6UtgW13UFQ=s64",
      "userId": "15153559228409906865"
     },
     "user_tz": 300
    },
    "id": "7ysp26d3MtqZ",
    "outputId": "2d76b6e8-9dad-4a41-c03d-6346b5b9cb75"
   },
   "outputs": [],
   "source": [
    "while True:\n",
    "    line = input('> ')\n",
    "    if line == 'done' :\n",
    "        break\n",
    "    print(line)\n",
    "print('Done!')"
   ]
  },
  {
   "cell_type": "markdown",
   "metadata": {
    "id": "-iQvhWi7KGAg",
    "tags": []
   },
   "source": [
    "## Common errors"
   ]
  },
  {
   "cell_type": "markdown",
   "metadata": {
    "id": "jzXOyOGZlyNN"
   },
   "source": [
    "### Indentation is key!\n",
    "\n",
    "The way that Python knows what counts as the body of code for a loop (whether definite or indefinite) is through indentation. \n",
    "\n",
    "You must indent all code that goes in the body underneath the for/while statement (after the colon).\n",
    "\n",
    "If you fail to indent the first line of code in the body, you will get an IndentationError.\n",
    "\n",
    "If you fail to indent anything after the first line of code in the body, you will be committing a semantic error: Python will not alert you because it is legal code. But your program will probably malfunction."
   ]
  },
  {
   "cell_type": "code",
   "execution_count": null,
   "metadata": {
    "colab": {
     "base_uri": "https://localhost:8080/",
     "height": 130
    },
    "executionInfo": {
     "elapsed": 422,
     "status": "error",
     "timestamp": 1615214531223,
     "user": {
      "displayName": "Joel Chan",
      "photoUrl": "https://lh3.googleusercontent.com/a-/AOh14GiBPPpBf_QqgDL3pMurAsPu9WJJE_x_6UtgW13UFQ=s64",
      "userId": "15153559228409906865"
     },
     "user_tz": 300
    },
    "id": "QhaEFbPdSYru",
    "outputId": "3ac1ea81-4afa-4574-e487-9daa18cd594f"
   },
   "outputs": [],
   "source": [
    "for i in range(5):\n",
    "print(i)"
   ]
  },
  {
   "cell_type": "code",
   "execution_count": null,
   "metadata": {
    "colab": {
     "base_uri": "https://localhost:8080/"
    },
    "executionInfo": {
     "elapsed": 350,
     "status": "ok",
     "timestamp": 1615214651739,
     "user": {
      "displayName": "Joel Chan",
      "photoUrl": "https://lh3.googleusercontent.com/a-/AOh14GiBPPpBf_QqgDL3pMurAsPu9WJJE_x_6UtgW13UFQ=s64",
      "userId": "15153559228409906865"
     },
     "user_tz": 300
    },
    "id": "rZMhDAYjSgUz",
    "outputId": "340b1967-9670-4c80-fed5-f0119830b9f7"
   },
   "outputs": [],
   "source": [
    "# i want to step through a list of numbers, multiply each of them by 5 and print htem out\n",
    "nums = [1,2,3,4,5]\n",
    "for num in nums:\n",
    "  new_num = num*5\n",
    "  print(new_num)"
   ]
  },
  {
   "cell_type": "markdown",
   "metadata": {
    "id": "2P-04t43Knqj"
   },
   "source": [
    "### IndexError when looping through a list\n",
    "\n",
    "This comes up mostly with `while` loops. So, while it's possible to do any for loop with a while loop, you want to be careful with it.\n"
   ]
  },
  {
   "cell_type": "code",
   "execution_count": null,
   "metadata": {
    "colab": {
     "base_uri": "https://localhost:8080/",
     "height": 336
    },
    "executionInfo": {
     "elapsed": 297,
     "status": "error",
     "timestamp": 1615216873655,
     "user": {
      "displayName": "Joel Chan",
      "photoUrl": "https://lh3.googleusercontent.com/a-/AOh14GiBPPpBf_QqgDL3pMurAsPu9WJJE_x_6UtgW13UFQ=s64",
      "userId": "15153559228409906865"
     },
     "user_tz": 300
    },
    "id": "EQ5QH6fyeYFm",
    "outputId": "68267113-285b-4015-a7c0-b3fc089fddd8"
   },
   "outputs": [],
   "source": [
    "#\n",
    "#\n",
    "#\n",
    "names = [\"Joel\", \"John\", \"Jane\", \"Jamie\", \"John\"]\n",
    "to_grab = [] # output list, initialize to empty list\n",
    "\n",
    "index = 0 # set initial index to zero\n",
    "while index < 10: # until you reach the end of the list\n",
    "  print(index)\n",
    "  name = names[index] # get the name at this index\n",
    "  if name == \"John\": # check if is john / meets my criteria for being filtered\n",
    "    to_grab.append(name) # add the item to the output list\n",
    "  index += 1 # increment the index\n",
    "\n",
    "# print out the result\n",
    "print(to_grab)"
   ]
  },
  {
   "cell_type": "code",
   "execution_count": null,
   "metadata": {
    "colab": {
     "base_uri": "https://localhost:8080/",
     "height": 302
    },
    "executionInfo": {
     "elapsed": 428,
     "status": "error",
     "timestamp": 1615217051840,
     "user": {
      "displayName": "Joel Chan",
      "photoUrl": "https://lh3.googleusercontent.com/a-/AOh14GiBPPpBf_QqgDL3pMurAsPu9WJJE_x_6UtgW13UFQ=s64",
      "userId": "15153559228409906865"
     },
     "user_tz": 300
    },
    "id": "7VDwdVTwb8R9",
    "outputId": "e729b13f-e352-417f-b979-96c2d83a2bf2"
   },
   "outputs": [],
   "source": [
    "# basic iteration through a list using indices\n",
    "names = [\"Joel\", \"John\", \"Lane\", \"Jamie\", \"Freddy\"]\n",
    "\n",
    "for index in range(6):\n",
    "  name = names[index]\n",
    "  print(index, name)"
   ]
  },
  {
   "cell_type": "markdown",
   "metadata": {
    "id": "kjU1dyhRKZ9l"
   },
   "source": [
    "### Infinite loops\n",
    "\n",
    "Remember that with indefinite loops, we need the **stopping condition** to be `False` at some point. Or at least, give the loop a way to exit / `break`. Otherwise, it will go forever! A common error is to forget to include any block of code in the **body (block)** of the loop that modifies the **stopping condition** or provides a **break** condition."
   ]
  },
  {
   "cell_type": "code",
   "execution_count": null,
   "metadata": {
    "colab": {
     "base_uri": "https://localhost:8080/"
    },
    "executionInfo": {
     "elapsed": 251,
     "status": "ok",
     "timestamp": 1615217318600,
     "user": {
      "displayName": "Joel Chan",
      "photoUrl": "https://lh3.googleusercontent.com/a-/AOh14GiBPPpBf_QqgDL3pMurAsPu9WJJE_x_6UtgW13UFQ=s64",
      "userId": "15153559228409906865"
     },
     "user_tz": 300
    },
    "id": "0VWvpPmJfKnN",
    "outputId": "0dce9f4b-815b-4ebb-b8ca-f0ac725e54c3"
   },
   "outputs": [],
   "source": [
    "# \n",
    "n = 5\n",
    "while n > 0:\n",
    "  print(n)\n",
    "  n = n - 1\n",
    "print(\"Blast off!\")"
   ]
  },
  {
   "cell_type": "code",
   "execution_count": null,
   "metadata": {
    "colab": {
     "base_uri": "https://localhost:8080/",
     "height": 119
    },
    "executionInfo": {
     "elapsed": 795,
     "status": "ok",
     "timestamp": 1602517411909,
     "user": {
      "displayName": "Joel Chan",
      "photoUrl": "https://lh3.googleusercontent.com/a-/AOh14GiBPPpBf_QqgDL3pMurAsPu9WJJE_x_6UtgW13UFQ=s64",
      "userId": "15153559228409906865"
     },
     "user_tz": 240
    },
    "id": "5LDRnY23POoo",
    "outputId": "574d3177-7458-418e-933e-3e9914654ad3"
   },
   "outputs": [],
   "source": [
    "# \n",
    "n = 5\n",
    "while n > 0:\n",
    "  print(n)\n",
    "  n = n-1\n",
    "print(\"Blast off!\")"
   ]
  },
  {
   "cell_type": "code",
   "execution_count": null,
   "metadata": {
    "colab": {
     "base_uri": "https://localhost:8080/",
     "height": 300
    },
    "executionInfo": {
     "elapsed": 605,
     "status": "error",
     "timestamp": 1602517470143,
     "user": {
      "displayName": "Joel Chan",
      "photoUrl": "https://lh3.googleusercontent.com/a-/AOh14GiBPPpBf_QqgDL3pMurAsPu9WJJE_x_6UtgW13UFQ=s64",
      "userId": "15153559228409906865"
     },
     "user_tz": 240
    },
    "id": "OZ1Ryo1me3My",
    "outputId": "ba94f18a-57b1-4956-afa1-91feae33aa8f"
   },
   "outputs": [],
   "source": [
    "#\n",
    "#\n",
    "#\n",
    "names = [\"Joel\", \"Jane\", \"Jamie\"]\n",
    "to_grab = [] # output list, initialize to empty list\n",
    "\n",
    "index = 0 # set initial index to zero\n",
    "while len(to_grab) == 0: # until you reach the end of the list\n",
    "    print(index)\n",
    "    name = names[index] # get the name at this index\n",
    "    if name == \"John\": # check if is john / meets my criteria for being filtered\n",
    "        to_grab.append(name) # add the item to the output list\n",
    "    index += 1 # increment the index\n",
    "\n",
    "# print out the result\n",
    "print(to_grab)"
   ]
  }
 ],
 "metadata": {
  "colab": {
   "name": "INST126_SP21_Week7_Iteration_post-class.ipynb",
   "provenance": [],
   "toc_visible": true
  },
  "kernelspec": {
   "display_name": "Python 3 (ipykernel)",
   "language": "python",
   "name": "python3"
  },
  "language_info": {
   "codemirror_mode": {
    "name": "ipython",
    "version": 3
   },
   "file_extension": ".py",
   "mimetype": "text/x-python",
   "name": "python",
   "nbconvert_exporter": "python",
   "pygments_lexer": "ipython3",
   "version": "3.9.7"
  }
 },
 "nbformat": 4,
 "nbformat_minor": 4
}