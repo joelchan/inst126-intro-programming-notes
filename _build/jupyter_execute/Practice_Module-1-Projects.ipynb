{
 "cells": [
  {
   "cell_type": "markdown",
   "id": "8b77dd6f-c554-41fa-9b9d-31e2e1b2a557",
   "metadata": {
    "tags": []
   },
   "source": [
    "# Practice: Module 1 Project (Conditional Functions)\n",
    "\n",
    "## 1: Traffic light timer\n",
    "\n",
    "Two main considerations:\n",
    "1. Rush hour or not (if rush hour, then we use 6 second cycles, otherwise we use 9)\n",
    "2. Weekends or not (if weekends, then the rush hour rule doesn't apply, and we just use 9)"
   ]
  },
  {
   "cell_type": "code",
   "execution_count": 1,
   "id": "e3ffbbd8-228e-4aff-9cd7-7cf0880481e4",
   "metadata": {},
   "outputs": [],
   "source": [
    "def traffic_light_seconds(isRushHour, isWeekend):\n",
    "    if isWeekend == False and isRushHour == True:\n",
    "        return 6\n",
    "    else:\n",
    "        return 9\n",
    "    \n",
    "def traffic_light_seconds(isRushHour, isWeekend):\n",
    "    if not isWeekend and isRushHour:\n",
    "        return 6\n",
    "    else:\n",
    "        return 9"
   ]
  },
  {
   "cell_type": "code",
   "execution_count": 2,
   "id": "299f42c0-bff4-4e68-9e35-438b1dab5ea0",
   "metadata": {},
   "outputs": [
    {
     "name": "stdout",
     "output_type": "stream",
     "text": [
      "5\n",
      "7\n"
     ]
    }
   ],
   "source": [
    "a = 5\n",
    "print(a)\n",
    "a = a + 2\n",
    "print(a)"
   ]
  },
  {
   "cell_type": "code",
   "execution_count": 3,
   "id": "7d804144-6003-4714-b727-ac6ea9eff80c",
   "metadata": {},
   "outputs": [
    {
     "data": {
      "text/plain": [
       "9"
      ]
     },
     "execution_count": 3,
     "metadata": {},
     "output_type": "execute_result"
    }
   ],
   "source": [
    "# run\n",
    "rush = True\n",
    "weekend = True\n",
    "traffic_light_seconds(isRushHour=rush, isWeekend=weekend)"
   ]
  },
  {
   "cell_type": "code",
   "execution_count": 4,
   "id": "f5992976-f7eb-452d-b42b-58910289db2d",
   "metadata": {},
   "outputs": [
    {
     "ename": "NameError",
     "evalue": "name 'bw' is not defined",
     "output_type": "error",
     "traceback": [
      "\u001b[0;31m---------------------------------------------------------------------------\u001b[0m",
      "\u001b[0;31mNameError\u001b[0m                                 Traceback (most recent call last)",
      "\u001b[0;32m/var/folders/xz/_hjc5hsx743dclmg8n5678nc0000gn/T/ipykernel_61752/2712482820.py\u001b[0m in \u001b[0;36m<module>\u001b[0;34m\u001b[0m\n\u001b[1;32m      2\u001b[0m \u001b[0mr\u001b[0m \u001b[0;34m=\u001b[0m \u001b[0;32mTrue\u001b[0m\u001b[0;34m\u001b[0m\u001b[0;34m\u001b[0m\u001b[0m\n\u001b[1;32m      3\u001b[0m \u001b[0mw\u001b[0m \u001b[0;34m=\u001b[0m \u001b[0;32mFalse\u001b[0m\u001b[0;34m\u001b[0m\u001b[0;34m\u001b[0m\u001b[0m\n\u001b[0;32m----> 4\u001b[0;31m \u001b[0mtraffic_light_seconds\u001b[0m\u001b[0;34m(\u001b[0m\u001b[0misRushHour\u001b[0m\u001b[0;34m=\u001b[0m\u001b[0mr\u001b[0m\u001b[0;34m,\u001b[0m \u001b[0misWeekend\u001b[0m\u001b[0;34m=\u001b[0m\u001b[0mbw\u001b[0m\u001b[0;34m)\u001b[0m\u001b[0;34m\u001b[0m\u001b[0;34m\u001b[0m\u001b[0m\n\u001b[0m",
      "\u001b[0;31mNameError\u001b[0m: name 'bw' is not defined"
     ]
    }
   ],
   "source": [
    "# run\n",
    "r = True\n",
    "w = False\n",
    "traffic_light_seconds(isRushHour=r, isWeekend=bw)"
   ]
  },
  {
   "cell_type": "code",
   "execution_count": 14,
   "id": "22c17d8b-d06e-40e9-a8a3-ff04c3946b63",
   "metadata": {},
   "outputs": [
    {
     "data": {
      "text/plain": [
       "6"
      ]
     },
     "execution_count": 14,
     "metadata": {},
     "output_type": "execute_result"
    }
   ],
   "source": [
    "traffic_light_seconds(True, False)"
   ]
  },
  {
   "cell_type": "markdown",
   "id": "51e8e6b6-663c-45c0-9eda-6639075cee38",
   "metadata": {},
   "source": [
    "1. What are the names of the arguments in the function call?\n",
    "2. What are the names of the parameters?\n",
    "3. What are the value types of the parameters?\n",
    "4. What is the value type of the return value?\n",
    "5. What is the Boolean expression?\n",
    "6. What comparison operators are used?\n",
    "7. What Boolean/logical operators are used?\n",
    "8. What conditional pattern is being used here?"
   ]
  },
  {
   "cell_type": "markdown",
   "id": "14570850-5dcb-4fe0-bcef-29e40bf21e83",
   "metadata": {
    "tags": []
   },
   "source": [
    "## 2: Shipping calculator\n",
    "\n",
    "Write a function called shipping_calculator that calculates the shipping cost based on the weight of the package and the destination. If the package is being shipped within the US and weighs less than or equal to 10 pounds, the shipping cost is \\\\$10. If the package is being shipped within the US and weighs more than 10 pounds, the shipping cost is \\\\$20. If the package is being shipped internationally and weighs less than or equal to 10 pounds, the shipping cost is \\\\$20. If the package is being shipped internationally and weighs more than 10 pounds, the shipping cost is \\\\$40."
   ]
  },
  {
   "cell_type": "code",
   "execution_count": 7,
   "id": "e4e669ee-3723-44e2-b4dd-fcfc9ac441e4",
   "metadata": {},
   "outputs": [],
   "source": [
    "# define v1\n",
    "def shipping_calculator(destination, weight):\n",
    "    # domestic, light\n",
    "    if destination == \"US\" and weight <= 10:\n",
    "        return 10\n",
    "    # international, heavy\n",
    "    elif destination != \"US\" and weight > 10:\n",
    "        return 40\n",
    "    # domestic heavy and international light\n",
    "    # i'm lazy to write out the Boolean expression :P\n",
    "    else:\n",
    "        return 20\n",
    "    \n",
    "# define v2\n",
    "def shipping_calculator(destination, weight):\n",
    "    # domestic, light\n",
    "    if destination == \"US\":\n",
    "        if weight <= 10:\n",
    "            return 10\n",
    "        else:\n",
    "            return 20\n",
    "    # international, heavy\n",
    "    else:\n",
    "        if weight <= 10:\n",
    "            return 20\n",
    "        else:\n",
    "            return 40"
   ]
  },
  {
   "cell_type": "code",
   "execution_count": 11,
   "id": "f45a4b52-0adb-4b14-aeb3-54cecdd1d618",
   "metadata": {},
   "outputs": [
    {
     "data": {
      "text/plain": [
       "10"
      ]
     },
     "execution_count": 11,
     "metadata": {},
     "output_type": "execute_result"
    }
   ],
   "source": [
    "# run\n",
    "d = \"US\"\n",
    "w = 5\n",
    "shipping_calculator(d, w)"
   ]
  },
  {
   "cell_type": "markdown",
   "id": "960bb075-ffcb-42d6-805c-3a1c9c7783f4",
   "metadata": {},
   "source": [
    "1. What are the names of the arguments in the function call?\n",
    "2. What are the names of the parameters?\n",
    "3. What are the value types of the parameters?\n",
    "4. What is the value type of the return value?\n",
    "5. What are the Boolean expressions?\n",
    "6. What comparison operators are used?\n",
    "7. What Boolean/logical operators are used?\n",
    "8. What conditional pattern is being used here?"
   ]
  },
  {
   "cell_type": "markdown",
   "id": "880d0746-ad6f-40de-ab41-e420a0d3a559",
   "metadata": {
    "tags": []
   },
   "source": [
    "## 3: Interest rate calculator for a mortgage loan.\n",
    "\n",
    "Three main considerations:\n",
    "1. `loanLength`: 15 starts at 7; 30 starts at 8\n",
    "2. `creditScore` (int) 0 to 850 - exceptional (800 and up) applies a 10% reduction to the interest rate (e.g., 7 would go down to 6.3); very good (740 to 799) applies a 5% reduction, and good (670-739) applies a 2.5% reduction\n",
    "3. `isSecured`: if True, then we get a flat 1 percentage point reduction of the interest rate after considering life of loan and credit score.\n",
    "\n",
    "Returns an `float` that specifies the interest rate percentage as a function of the input params."
   ]
  },
  {
   "cell_type": "code",
   "execution_count": 17,
   "id": "7968d26f-2d0b-4d6b-863f-4541bb9325f5",
   "metadata": {},
   "outputs": [],
   "source": [
    "# define \n",
    "def interest_rate(loanLength, creditScore, isSecured):\n",
    "    \n",
    "    # loanLength consideration\n",
    "    if loanLength <= 15:\n",
    "        rate = 7\n",
    "    else:\n",
    "        rate = 8\n",
    "    \n",
    "    # creditScore consideration\n",
    "    if creditScore >= 800:\n",
    "        rate = rate*0.9\n",
    "    elif creditScore >= 740:\n",
    "        rate = rate*0.95\n",
    "    elif creditScore >= 670:\n",
    "        rate = rate*0.975\n",
    "    \n",
    "    # isSecured consideration\n",
    "    if isSecured:\n",
    "        rate = rate-1\n",
    "    \n",
    "    return rate"
   ]
  },
  {
   "cell_type": "code",
   "execution_count": 18,
   "id": "5d4ec496-8c5e-4751-8c2f-fb6bbb569fa0",
   "metadata": {},
   "outputs": [
    {
     "data": {
      "text/plain": [
       "5.825"
      ]
     },
     "execution_count": 18,
     "metadata": {},
     "output_type": "execute_result"
    }
   ],
   "source": [
    "# run\n",
    "l = 15\n",
    "c = 700\n",
    "s = True\n",
    "interest_rate(l, c, s)"
   ]
  },
  {
   "cell_type": "markdown",
   "id": "9b70b502-797b-47c5-9666-4c2b5db6bb60",
   "metadata": {},
   "source": [
    "## 4: Travel caller for basketball\n",
    "\n",
    "`is_traveling()` returns `True` or `False`, depending on:\n",
    "1. `stepCount`: more than 2 = Travel (though subject to gather step and pivot considerations)\n",
    "2. `gatherStep` (True or False). If True, subtract 1 from step count before deciding if it's a travel.\n",
    "3. `isPivoting` (True or False). If True, then call no travel, regardless of `stepCount`"
   ]
  },
  {
   "cell_type": "code",
   "execution_count": 19,
   "id": "69213e59-335f-407c-bde8-72288a974666",
   "metadata": {},
   "outputs": [],
   "source": [
    "# define\n",
    "def is_traveling(stepCount, hasGatherStep, isPivoting):\n",
    "    # if you're pivoting, nothing else matters, it's not a travel\n",
    "    if isPivoting:\n",
    "        return False\n",
    "    # otherwise\n",
    "    else:\n",
    "        # if you're gather-stepping\n",
    "        if hasGatherStep:\n",
    "            # we subtract 1 from your stepcount\n",
    "            # and check if it's greater than 2\n",
    "            return stepCount - 1 > 2\n",
    "        # otherwise\n",
    "        else:\n",
    "            # we just check if your stepcount is greater than 2\n",
    "            return stepCount > 2"
   ]
  },
  {
   "cell_type": "code",
   "execution_count": 23,
   "id": "ab0561b6-f4b0-46d7-ba68-d93716653184",
   "metadata": {},
   "outputs": [
    {
     "data": {
      "text/plain": [
       "True"
      ]
     },
     "execution_count": 23,
     "metadata": {},
     "output_type": "execute_result"
    }
   ],
   "source": [
    "# run\n",
    "s = 4\n",
    "g = True\n",
    "p = False\n",
    "is_traveling(s, g, p)"
   ]
  },
  {
   "cell_type": "code",
   "execution_count": null,
   "id": "d0a3b9e5-d880-447d-9ebf-b711dee5921d",
   "metadata": {},
   "outputs": [],
   "source": []
  }
 ],
 "metadata": {
  "kernelspec": {
   "display_name": "Python 3 (ipykernel)",
   "language": "python",
   "name": "python3"
  },
  "language_info": {
   "codemirror_mode": {
    "name": "ipython",
    "version": 3
   },
   "file_extension": ".py",
   "mimetype": "text/x-python",
   "name": "python",
   "nbconvert_exporter": "python",
   "pygments_lexer": "ipython3",
   "version": "3.9.7"
  }
 },
 "nbformat": 4,
 "nbformat_minor": 5
}