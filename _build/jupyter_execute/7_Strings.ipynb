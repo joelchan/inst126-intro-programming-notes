{
 "cells": [
  {
   "cell_type": "markdown",
   "metadata": {},
   "source": [
    "# 7: Strings"
   ]
  },
  {
   "cell_type": "markdown",
   "metadata": {
    "id": "g-lkfdphxbR0"
   },
   "source": [
    "## What are strings and why should we care about them?"
   ]
  },
  {
   "cell_type": "markdown",
   "metadata": {
    "id": "TRx-T5TYPZ_m"
   },
   "source": [
    "### Strings are everywhere"
   ]
  },
  {
   "cell_type": "markdown",
   "metadata": {
    "id": "59UWIOJ_jgrs"
   },
   "source": [
    "We need to learn to work with strings because a lot of data we want to do things with live in the world as mixed data\n",
    "- Email addresses\n",
    "- Webpage URLs\n",
    "- Names\n",
    "- Documents, words\n",
    "- Sales records\n",
    "- Etc.\n",
    "\n",
    "Strings are the ultimate \"lingua franca\" between systems\n",
    "- Data is often passed as \"serialized\" forms (e.g., JSON: Javascript **String** Object Notation)\n",
    "- We assume strings coming in, and we parse it appropriately. This can include data (numbers/records), as we see in one of the Projects for this module!\n",
    "- This also includes the \"human system\" (i.e., the user)!"
   ]
  },
  {
   "cell_type": "markdown",
   "metadata": {},
   "source": [
    "Let's see what comes back from the `input()` function we introduced in Iteration."
   ]
  },
  {
   "cell_type": "code",
   "execution_count": 1,
   "metadata": {},
   "outputs": [
    {
     "ename": "StdinNotImplementedError",
     "evalue": "raw_input was called, but this frontend does not support input requests.",
     "output_type": "error",
     "traceback": [
      "\u001b[0;31m---------------------------------------------------------------------------\u001b[0m",
      "\u001b[0;31mStdinNotImplementedError\u001b[0m                  Traceback (most recent call last)",
      "\u001b[0;32m/var/folders/xz/_hjc5hsx743dclmg8n5678nc0000gn/T/ipykernel_71456/3849018124.py\u001b[0m in \u001b[0;36m<module>\u001b[0;34m\u001b[0m\n\u001b[0;32m----> 1\u001b[0;31m \u001b[0mage\u001b[0m \u001b[0;34m=\u001b[0m \u001b[0minput\u001b[0m\u001b[0;34m(\u001b[0m\u001b[0;34m'What is your age?'\u001b[0m\u001b[0;34m)\u001b[0m\u001b[0;34m\u001b[0m\u001b[0;34m\u001b[0m\u001b[0m\n\u001b[0m",
      "\u001b[0;32m~/opt/anaconda3/lib/python3.9/site-packages/ipykernel/kernelbase.py\u001b[0m in \u001b[0;36mraw_input\u001b[0;34m(self, prompt)\u001b[0m\n\u001b[1;32m   1001\u001b[0m         \"\"\"\n\u001b[1;32m   1002\u001b[0m         \u001b[0;32mif\u001b[0m \u001b[0;32mnot\u001b[0m \u001b[0mself\u001b[0m\u001b[0;34m.\u001b[0m\u001b[0m_allow_stdin\u001b[0m\u001b[0;34m:\u001b[0m\u001b[0;34m\u001b[0m\u001b[0;34m\u001b[0m\u001b[0m\n\u001b[0;32m-> 1003\u001b[0;31m             raise StdinNotImplementedError(\n\u001b[0m\u001b[1;32m   1004\u001b[0m                 \u001b[0;34m\"raw_input was called, but this frontend does not support input requests.\"\u001b[0m\u001b[0;34m\u001b[0m\u001b[0;34m\u001b[0m\u001b[0m\n\u001b[1;32m   1005\u001b[0m             )\n",
      "\u001b[0;31mStdinNotImplementedError\u001b[0m: raw_input was called, but this frontend does not support input requests."
     ]
    }
   ],
   "source": [
    "age = input('What is your age?')"
   ]
  },
  {
   "cell_type": "code",
   "execution_count": null,
   "metadata": {},
   "outputs": [
    {
     "data": {
      "text/plain": [
       "'37'"
      ]
     },
     "execution_count": 45,
     "metadata": {},
     "output_type": "execute_result"
    }
   ],
   "source": [
    "age"
   ]
  },
  {
   "cell_type": "markdown",
   "metadata": {},
   "source": [
    "What data type is in `age`?"
   ]
  },
  {
   "cell_type": "markdown",
   "metadata": {
    "id": "X8Q343PRGhMR"
   },
   "source": [
    "### Strings are sequences of characters"
   ]
  },
  {
   "cell_type": "markdown",
   "metadata": {
    "id": "Ku3vlFoMjfUt"
   },
   "source": [
    "But what *is* a string? It's fundamentally a sequence of characters.\n",
    "\n",
    "And that's exactly what a string is in Python too: it's a sequence of characters, much like (though not *exactly*) like a `list`. This means we can *iterate* through a string in a similar way that we can iterate through any other list."
   ]
  },
  {
   "cell_type": "code",
   "execution_count": null,
   "metadata": {
    "colab": {
     "base_uri": "https://localhost:8080/"
    },
    "executionInfo": {
     "elapsed": 351,
     "status": "ok",
     "timestamp": 1616418897497,
     "user": {
      "displayName": "Joel Chan",
      "photoUrl": "https://lh3.googleusercontent.com/a-/AOh14GiBPPpBf_QqgDL3pMurAsPu9WJJE_x_6UtgW13UFQ=s64",
      "userId": "15153559228409906865"
     },
     "user_tz": 240
    },
    "id": "BRNUU1DjEqrw",
    "outputId": "fe1b8335-acec-475d-a809-c931694bee3b"
   },
   "outputs": [
    {
     "name": "stdout",
     "output_type": "stream",
     "text": [
      "b\n",
      "a\n",
      "n\n",
      "a\n",
      "n\n",
      "a\n"
     ]
    }
   ],
   "source": [
    "s = \"banana\"\n",
    "for char in s:\n",
    "    print(char)"
   ]
  },
  {
   "cell_type": "code",
   "execution_count": null,
   "metadata": {
    "colab": {
     "base_uri": "https://localhost:8080/"
    },
    "executionInfo": {
     "elapsed": 499,
     "status": "ok",
     "timestamp": 1616419054359,
     "user": {
      "displayName": "Joel Chan",
      "photoUrl": "https://lh3.googleusercontent.com/a-/AOh14GiBPPpBf_QqgDL3pMurAsPu9WJJE_x_6UtgW13UFQ=s64",
      "userId": "15153559228409906865"
     },
     "user_tz": 240
    },
    "id": "W1mP50_BFMjv",
    "outputId": "f813c28a-f758-449c-e604-f702374cbbc3"
   },
   "outputs": [
    {
     "name": "stdout",
     "output_type": "stream",
     "text": [
      "s\n",
      "h\n",
      "e\n",
      " \n",
      "s\n",
      "e\n",
      "l\n",
      "l\n",
      "s\n",
      " \n",
      "s\n",
      "e\n",
      "a\n",
      "s\n",
      "h\n",
      "e\n",
      "l\n",
      "l\n",
      "s\n",
      " \n",
      "b\n",
      "y\n",
      " \n",
      "t\n",
      "h\n",
      "e\n",
      " \n",
      "s\n",
      "e\n",
      "a\n",
      "s\n",
      "h\n",
      "o\n",
      "r\n",
      "e\n",
      ",\n",
      " \n",
      "e\n",
      "x\n",
      "c\n",
      "e\n",
      "p\n",
      "t\n",
      " \n",
      "w\n",
      "h\n",
      "e\n",
      "n\n",
      " \n",
      "s\n",
      "h\n",
      "e\n",
      " \n",
      "d\n",
      "o\n",
      "e\n",
      "s\n",
      "n\n",
      "'\n",
      "t\n",
      " \n",
      "w\n",
      "a\n",
      "n\n",
      "t\n",
      " \n",
      "t\n",
      "o\n",
      " \n",
      "s\n",
      "e\n",
      "l\n",
      "l\n",
      " \n",
      "s\n",
      "e\n",
      "a\n",
      "s\n",
      "h\n",
      "e\n",
      "l\n",
      "l\n",
      "s\n"
     ]
    }
   ],
   "source": [
    "sentence = \"she sells seashells by the seashore, except when she doesn't want to sell seashells\"\n",
    "for char in sentence:\n",
    "    print(char)"
   ]
  },
  {
   "cell_type": "markdown",
   "metadata": {
    "id": "rt-d9q-YGx3F"
   },
   "source": [
    "### Characters don't have to be visible/letters!\n",
    "\n",
    "\n",
    "\n"
   ]
  },
  {
   "cell_type": "markdown",
   "metadata": {
    "id": "XMfeWgyvG3W7"
   },
   "source": [
    "Notice that even the \"blank space\" is a character! A string that includes an empty space character is **NOT** the same as an empty string (i.e., a list of characters of length zero), even though they print out the same. This distinction is very important to remember as you work with real world data."
   ]
  },
  {
   "cell_type": "code",
   "execution_count": null,
   "metadata": {
    "colab": {
     "base_uri": "https://localhost:8080/",
     "height": 122
    },
    "executionInfo": {
     "elapsed": 429,
     "status": "ok",
     "timestamp": 1603119239104,
     "user": {
      "displayName": "Joel Chan",
      "photoUrl": "https://lh3.googleusercontent.com/a-/AOh14GiBPPpBf_QqgDL3pMurAsPu9WJJE_x_6UtgW13UFQ=s64",
      "userId": "15153559228409906865"
     },
     "user_tz": 240
    },
    "id": "U9vAhGrFZ4o_",
    "outputId": "b1b20f59-7395-485d-ac13-e2c1992496ef"
   },
   "outputs": [
    {
     "name": "stdout",
     "output_type": "stream",
     "text": [
      "Printing out the value of a\n",
      "\n",
      "Printing out the value of b\n",
      " \n",
      "0 1\n",
      "False\n"
     ]
    }
   ],
   "source": [
    "a = \"\" # a blank/empty string\n",
    "b = \" \" # a string with one blank space *character*\n",
    "print(\"Printing out the value of a\")\n",
    "print(a)\n",
    "print(\"Printing out the value of b\")\n",
    "print(b)\n",
    "print(len(a), len(b))\n",
    "print(a == b)"
   ]
  },
  {
   "cell_type": "markdown",
   "metadata": {},
   "source": [
    "This means that whitespace at the beginning or end of strings define completely different strings! For example:"
   ]
  },
  {
   "cell_type": "code",
   "execution_count": null,
   "metadata": {
    "colab": {
     "base_uri": "https://localhost:8080/",
     "height": 69
    },
    "executionInfo": {
     "elapsed": 196,
     "status": "ok",
     "timestamp": 1603119321123,
     "user": {
      "displayName": "Joel Chan",
      "photoUrl": "https://lh3.googleusercontent.com/a-/AOh14GiBPPpBf_QqgDL3pMurAsPu9WJJE_x_6UtgW13UFQ=s64",
      "userId": "15153559228409906865"
     },
     "user_tz": 240
    },
    "id": "bcPsHiupWwTV",
    "outputId": "9ca639ad-4a22-4c99-da95-6bbedf3d1d4f",
    "tags": []
   },
   "outputs": [
    {
     "name": "stdout",
     "output_type": "stream",
     "text": [
      "False\n",
      "False\n",
      "False\n"
     ]
    }
   ],
   "source": [
    "a = \"James\"\n",
    "b = \" James\"\n",
    "c = \"James \"\n",
    "print(a == b)\n",
    "print(b == c)\n",
    "print(a == c)"
   ]
  },
  {
   "cell_type": "code",
   "execution_count": null,
   "metadata": {},
   "outputs": [
    {
     "data": {
      "text/plain": [
       "'James'"
      ]
     },
     "execution_count": 53,
     "metadata": {},
     "output_type": "execute_result"
    }
   ],
   "source": [
    "clean = \"\"\n",
    "for char in b:\n",
    "    if char != \" \":\n",
    "        clean = clean + char\n",
    "clean"
   ]
  },
  {
   "cell_type": "markdown",
   "metadata": {
    "id": "BiQBWTMsRANw"
   },
   "source": [
    "Other kinds of characters that don't look like \"letters\": \n",
    "- `\\t` for tabs\n",
    "- `\\n` for newlines"
   ]
  },
  {
   "cell_type": "code",
   "execution_count": null,
   "metadata": {
    "colab": {
     "base_uri": "https://localhost:8080/"
    },
    "executionInfo": {
     "elapsed": 439,
     "status": "ok",
     "timestamp": 1616419232304,
     "user": {
      "displayName": "Joel Chan",
      "photoUrl": "https://lh3.googleusercontent.com/a-/AOh14GiBPPpBf_QqgDL3pMurAsPu9WJJE_x_6UtgW13UFQ=s64",
      "userId": "15153559228409906865"
     },
     "user_tz": 240
    },
    "id": "UTyQyy3sRIjj",
    "outputId": "57788864-3095-4528-e793-3f128c7eb916"
   },
   "outputs": [
    {
     "name": "stdout",
     "output_type": "stream",
     "text": [
      "a\ttab\n",
      "and a newline\n",
      "0 a\n",
      "1 \t\n",
      "2 t\n",
      "3 a\n",
      "4 b\n",
      "5 \n",
      "\n",
      "6 a\n",
      "7 n\n",
      "8 d\n",
      "9  \n",
      "10 a\n",
      "11  \n",
      "12 n\n",
      "13 e\n",
      "14 w\n",
      "15 l\n",
      "16 i\n",
      "17 n\n",
      "18 e\n"
     ]
    }
   ],
   "source": [
    "# tab is \\t\n",
    "s = \"a\\ttab\\nand a newline\"\n",
    "print(s)\n",
    "for idx, char in enumerate(s):\n",
    "     print(idx, char)"
   ]
  },
  {
   "cell_type": "markdown",
   "metadata": {},
   "source": [
    "Again, even though they may look similar to our eyes (\"blank\"), they are not the same!"
   ]
  },
  {
   "cell_type": "code",
   "execution_count": null,
   "metadata": {
    "colab": {
     "base_uri": "https://localhost:8080/"
    },
    "executionInfo": {
     "elapsed": 461,
     "status": "ok",
     "timestamp": 1616419123459,
     "user": {
      "displayName": "Joel Chan",
      "photoUrl": "https://lh3.googleusercontent.com/a-/AOh14GiBPPpBf_QqgDL3pMurAsPu9WJJE_x_6UtgW13UFQ=s64",
      "userId": "15153559228409906865"
     },
     "user_tz": 240
    },
    "id": "ljxyyCJNFhGX",
    "outputId": "4e7c6c2b-d5c1-4c87-ade6-7dd74a0d8d50"
   },
   "outputs": [],
   "source": [
    "a = \" \"\n",
    "b = \"\\t\"\n",
    "c = \"\\n\"\n",
    "print(\"a is \", a, \"with length\", len(a))\n",
    "print(\"b is \", b, \"with length\", len(b))\n",
    "print(\"c is \", c, \"with length\", len(c))\n",
    "print(\"is a the same as b?\", a == b)\n",
    "print(\"is b the same as c?\", b == c)\n",
    "print(\"is a the same as c?\", a == c)"
   ]
  },
  {
   "cell_type": "markdown",
   "metadata": {},
   "source": [
    "We'll see in the next module how text data often comes in with a mix of various whitespace characters, which we can use to parse the data into structured records.\n",
    "\n",
    "For example, the following string may look ridiculous, but the `\\t` and `\\n` characters in the string actually break it up quite nicely into a structured format that is readable by both humans and Python."
   ]
  },
  {
   "cell_type": "code",
   "execution_count": null,
   "metadata": {},
   "outputs": [
    {
     "name": "stdout",
     "output_type": "stream",
     "text": [
      "NAME\tSCORE\tGRADE\n",
      "Joel\t81\tB-\n",
      "Rony\t98\tA+\n",
      "Sravya\t99\tA+\n"
     ]
    }
   ],
   "source": [
    "records = \"NAME\\tSCORE\\tGRADE\\nJoel\\t81\\tB-\\nRony\\t98\\tA+\\nSravya\\t99\\tA+\"\n",
    "print(records)"
   ]
  },
  {
   "cell_type": "markdown",
   "metadata": {
    "id": "_fBRR1MSROdJ"
   },
   "source": [
    "## Properties of strings\n",
    "\n",
    "Because strings are a special case of a list, most of the properties and functions that apply to lists also apply to strings (e.g., sortable, has length, can check if something is \"in\" it), with one important exception: **strings are immutable**: you can never modify a string directly, only create a *new* string that you must then assign to a variable (or reassign to the same variable) if you want to preserve that change. More on this when we talk about working with strings."
   ]
  },
  {
   "cell_type": "markdown",
   "metadata": {},
   "source": [
    "### Strings are **ordered** (and therefore can be sorted and indexed and sliced like lists)"
   ]
  },
  {
   "cell_type": "code",
   "execution_count": null,
   "metadata": {},
   "outputs": [
    {
     "name": "stdout",
     "output_type": "stream",
     "text": [
      "[' ', ' ', 'H', 'd', 'e', 'h', 'i', 'l', 'l', 'l', 'o', 'o', 'r', 'w']\n"
     ]
    }
   ],
   "source": [
    "a_string = \"hello world Hi\"\n",
    "print(sorted(a_string))"
   ]
  },
  {
   "cell_type": "code",
   "execution_count": null,
   "metadata": {},
   "outputs": [
    {
     "data": {
      "text/plain": [
       "'h'"
      ]
     },
     "execution_count": 58,
     "metadata": {},
     "output_type": "execute_result"
    }
   ],
   "source": [
    "# can be indexed\n",
    "a_string[0]"
   ]
  },
  {
   "cell_type": "code",
   "execution_count": null,
   "metadata": {},
   "outputs": [
    {
     "data": {
      "text/plain": [
       "'hello'"
      ]
     },
     "execution_count": 59,
     "metadata": {},
     "output_type": "execute_result"
    }
   ],
   "source": [
    "# and sliced\n",
    "a_string[:5]"
   ]
  },
  {
   "cell_type": "markdown",
   "metadata": {},
   "source": [
    "### Strings have length"
   ]
  },
  {
   "cell_type": "code",
   "execution_count": null,
   "metadata": {
    "colab": {
     "base_uri": "https://localhost:8080/"
    },
    "executionInfo": {
     "elapsed": 475,
     "status": "ok",
     "timestamp": 1616419444605,
     "user": {
      "displayName": "Joel Chan",
      "photoUrl": "https://lh3.googleusercontent.com/a-/AOh14GiBPPpBf_QqgDL3pMurAsPu9WJJE_x_6UtgW13UFQ=s64",
      "userId": "15153559228409906865"
     },
     "user_tz": 240
    },
    "id": "mEFRGErFZGnx",
    "outputId": "c5615513-1930-4062-f8ae-18634569782c"
   },
   "outputs": [
    {
     "name": "stdout",
     "output_type": "stream",
     "text": [
      "14\n"
     ]
    }
   ],
   "source": [
    "# has length\n",
    "print(len(a_string))"
   ]
  },
  {
   "cell_type": "markdown",
   "metadata": {},
   "source": [
    "### Strings are IMMUTABLE (you can't modify them directly)"
   ]
  },
  {
   "cell_type": "code",
   "execution_count": null,
   "metadata": {},
   "outputs": [
    {
     "name": "stdout",
     "output_type": "stream",
     "text": [
      "HELLO\n",
      "hello\n"
     ]
    }
   ],
   "source": [
    "a_string = \"hello\"\n",
    "print(a_string.upper())\n",
    "a_string = a_string.upper()\n",
    "print(a_string)"
   ]
  },
  {
   "cell_type": "markdown",
   "metadata": {},
   "source": [
    "This property of strings has **one critical implication for how you work with them (vs. other data types):** anytime you modify a string, you must have some kind of variable assignment statement (even if it is back to itself) to preserve the change.\n",
    "\n",
    "This is a really important point we'll drive home later when we dig into ways of working with strings."
   ]
  },
  {
   "cell_type": "markdown",
   "metadata": {
    "id": "XMzCrbEgZufG"
   },
   "source": [
    "### Aside: string encoding\n"
   ]
  },
  {
   "cell_type": "markdown",
   "metadata": {
    "id": "FjZFi16rZ3mZ"
   },
   "source": [
    "The previous observation about blank spaces illustrates a larger point: we deliberately say strings are sequences of *characters*, not letters. This is because strings can include numbers, as we've seen (think usernames like joelchan86, or your uids), but also all sorts of other characters, including various kinds of blank spaces --- like tabs, spaces, and newlines --- and even emoji! \n",
    "\n",
    "Check this resource for an overview and initial guide: https://realpython.com/python-encodings-guide/"
   ]
  },
  {
   "cell_type": "markdown",
   "metadata": {
    "id": "gKBdnB2maj-E"
   },
   "source": [
    "This is something I want to show you to give you a better intuition for what strings *are*, but there is also an important practical implication: you need to be very careful to transform or normalize your strings when you want to sort or compare them. What's the same or different to your human eye will often *not* be the same or different to the computer's eye.\n",
    "\n",
    "For example, \"A\" and \"a\" have different encodings. Thus, Python does *not* see them as the same \"letter\". Sometimes you'll even be reading in strings that are in a different encoding "
   ]
  },
  {
   "cell_type": "code",
   "execution_count": null,
   "metadata": {
    "colab": {
     "base_uri": "https://localhost:8080/",
     "height": 34
    },
    "executionInfo": {
     "elapsed": 262,
     "status": "ok",
     "timestamp": 1603119832607,
     "user": {
      "displayName": "Joel Chan",
      "photoUrl": "https://lh3.googleusercontent.com/a-/AOh14GiBPPpBf_QqgDL3pMurAsPu9WJJE_x_6UtgW13UFQ=s64",
      "userId": "15153559228409906865"
     },
     "user_tz": 240
    },
    "id": "F7YE80TnYtwL",
    "outputId": "3aab63a6-3368-43e6-b28a-3bb16139ca79"
   },
   "outputs": [
    {
     "data": {
      "text/plain": [
       "False"
      ]
     },
     "execution_count": 63,
     "metadata": {},
     "output_type": "execute_result"
    }
   ],
   "source": [
    "s1 = \"James \"\n",
    "s2 = \"James\"\n",
    "s3 = \"james\"\n",
    "s4 = \"JAmes\"\n",
    "s1 == s4"
   ]
  },
  {
   "cell_type": "markdown",
   "metadata": {
    "id": "ifBcaTKuA2jN"
   },
   "source": [
    "## Working with strings: basics\n"
   ]
  },
  {
   "cell_type": "markdown",
   "metadata": {
    "id": "RKgca-CfnFK9"
   },
   "source": [
    "Similar to lists, many basic operations with strings revolve around indexing and iteration."
   ]
  },
  {
   "cell_type": "markdown",
   "metadata": {
    "id": "lwqnJOZV0AEz"
   },
   "source": [
    "### Getting parts of a string\n",
    "\n",
    "#### Indexing\n",
    "\n",
    "Works similarly to lists."
   ]
  },
  {
   "cell_type": "code",
   "execution_count": null,
   "metadata": {
    "colab": {
     "base_uri": "https://localhost:8080/",
     "height": 1000
    },
    "executionInfo": {
     "elapsed": 449,
     "status": "ok",
     "timestamp": 1603119983951,
     "user": {
      "displayName": "Joel Chan",
      "photoUrl": "https://lh3.googleusercontent.com/a-/AOh14GiBPPpBf_QqgDL3pMurAsPu9WJJE_x_6UtgW13UFQ=s64",
      "userId": "15153559228409906865"
     },
     "user_tz": 240
    },
    "id": "JG-iNe0ZHJVn",
    "outputId": "3f4bfb98-724a-4824-be34-554bcecffdd4"
   },
   "outputs": [
    {
     "name": "stdout",
     "output_type": "stream",
     "text": [
      "0 m\n",
      "1 y\n",
      "2  \n",
      "3 n\n",
      "4 a\n",
      "5 m\n",
      "6 e\n",
      "7  \n",
      "8 i\n",
      "9 s\n",
      "10  \n",
      "11 i\n",
      "12 n\n",
      "13 i\n",
      "14 g\n",
      "15 o\n",
      "16  \n",
      "17 m\n",
      "18 o\n",
      "19 n\n",
      "20 t\n",
      "21 o\n",
      "22 y\n",
      "23 a\n",
      "24 ,\n",
      "25  \n",
      "26 y\n",
      "27 o\n",
      "28 u\n",
      "29  \n",
      "30 k\n",
      "31 i\n",
      "32 l\n",
      "33 l\n",
      "34 e\n",
      "35 d\n",
      "36  \n",
      "37 m\n",
      "38 y\n",
      "39  \n",
      "40 f\n",
      "41 a\n",
      "42 t\n",
      "43 h\n",
      "44 e\n",
      "45 r\n",
      "46 ,\n",
      "47  \n",
      "48 p\n",
      "49 r\n",
      "50 e\n",
      "51 p\n",
      "52 a\n",
      "53 r\n",
      "54 e\n",
      "55  \n",
      "56 t\n",
      "57 o\n",
      "58  \n",
      "59 d\n",
      "60 i\n",
      "61 e\n",
      "62 !\n"
     ]
    }
   ],
   "source": [
    "s = \"my name is inigo montoya, you killed my father, prepare to die!\"\n",
    "for i in range(len(s)):\n",
    "    char = s[i]\n",
    "    print(i, char)"
   ]
  },
  {
   "cell_type": "code",
   "execution_count": null,
   "metadata": {
    "colab": {
     "base_uri": "https://localhost:8080/",
     "height": 1000
    },
    "executionInfo": {
     "elapsed": 362,
     "status": "ok",
     "timestamp": 1603120020934,
     "user": {
      "displayName": "Joel Chan",
      "photoUrl": "https://lh3.googleusercontent.com/a-/AOh14GiBPPpBf_QqgDL3pMurAsPu9WJJE_x_6UtgW13UFQ=s64",
      "userId": "15153559228409906865"
     },
     "user_tz": 240
    },
    "id": "3NlBHG2VZfkd",
    "outputId": "564047a9-e86d-4eb3-dd6d-f4341f79611a"
   },
   "outputs": [],
   "source": [
    "s = \"my name is inigo montoya, you killed my father, prepare to die!\"\n",
    "for char in s:\n",
    "    print(char)"
   ]
  },
  {
   "cell_type": "code",
   "execution_count": null,
   "metadata": {
    "colab": {
     "base_uri": "https://localhost:8080/"
    },
    "executionInfo": {
     "elapsed": 320,
     "status": "ok",
     "timestamp": 1616420102205,
     "user": {
      "displayName": "Joel Chan",
      "photoUrl": "https://lh3.googleusercontent.com/a-/AOh14GiBPPpBf_QqgDL3pMurAsPu9WJJE_x_6UtgW13UFQ=s64",
      "userId": "15153559228409906865"
     },
     "user_tz": 240
    },
    "id": "0u_TW-JCJJqk",
    "outputId": "30e0b14a-2bca-490e-8d0e-e63ab84e9958"
   },
   "outputs": [
    {
     "name": "stdout",
     "output_type": "stream",
     "text": [
      "!\n"
     ]
    }
   ],
   "source": [
    "s = \"my name is inigo montoya, you killed my father, prepare to die!\"\n",
    "# give me the last letter\n",
    "print(s[-1])"
   ]
  },
  {
   "cell_type": "code",
   "execution_count": null,
   "metadata": {},
   "outputs": [
    {
     "name": "stdout",
     "output_type": "stream",
     "text": [
      "1\n"
     ]
    }
   ],
   "source": [
    "l = [1,4,5,6,7,]\n",
    "# give me the first item\n",
    "print(l[0])"
   ]
  },
  {
   "cell_type": "markdown",
   "metadata": {},
   "source": [
    "**PRACTICE**: How would you get the first number of the level (after the four-letter code)?"
   ]
  },
  {
   "cell_type": "code",
   "execution_count": null,
   "metadata": {},
   "outputs": [
    {
     "data": {
      "text/plain": [
       "'2'"
      ]
     },
     "execution_count": 67,
     "metadata": {},
     "output_type": "execute_result"
    }
   ],
   "source": [
    "code = \"INST201\"\n",
    "# your code here"
   ]
  },
  {
   "cell_type": "markdown",
   "metadata": {},
   "source": [
    "**PRACTICE**: How would you get the first initial for each name?"
   ]
  },
  {
   "cell_type": "code",
   "execution_count": null,
   "metadata": {
    "colab": {
     "base_uri": "https://localhost:8080/",
     "height": 122
    },
    "executionInfo": {
     "elapsed": 703,
     "status": "ok",
     "timestamp": 1603120158044,
     "user": {
      "displayName": "Joel Chan",
      "photoUrl": "https://lh3.googleusercontent.com/a-/AOh14GiBPPpBf_QqgDL3pMurAsPu9WJJE_x_6UtgW13UFQ=s64",
      "userId": "15153559228409906865"
     },
     "user_tz": 240
    },
    "id": "f0JnSZUsZ3hA",
    "outputId": "07b16a06-e358-4a9e-ff14-16bb3f55fe79"
   },
   "outputs": [
    {
     "name": "stdout",
     "output_type": "stream",
     "text": [
      "J\n",
      "S\n",
      "J\n",
      "M\n",
      "P\n",
      "K\n"
     ]
    }
   ],
   "source": [
    "names = [\"Joel\", \"Sarah\", \"John\", \"Michael\", \"Patrick\", \"Kacie\"]\n",
    "# your code here"
   ]
  },
  {
   "cell_type": "markdown",
   "metadata": {
    "id": "QwKbf3Uwb0oB"
   },
   "source": [
    "#### Slicing\n",
    "\n",
    "Remember slicing? Here we can think about substrings. Super useful for truncation, or getting particular parts of strings when you know the pattern (e.g., first four characters of a course code is always the department).\n",
    "\n",
    "Remember: the index before the `:` indicates where you want to *start*, and the index after the `:` indicates where you want to stop *before*. So `[0:4]` will go from index `0` to index `3` (before index 4). Leaving out an index implicitly says \"to the max\" (e.g., from `0` or `until the end`)."
   ]
  },
  {
   "cell_type": "code",
   "execution_count": 71,
   "metadata": {
    "colab": {
     "base_uri": "https://localhost:8080/"
    },
    "executionInfo": {
     "elapsed": 608,
     "status": "ok",
     "timestamp": 1616420215777,
     "user": {
      "displayName": "Joel Chan",
      "photoUrl": "https://lh3.googleusercontent.com/a-/AOh14GiBPPpBf_QqgDL3pMurAsPu9WJJE_x_6UtgW13UFQ=s64",
      "userId": "15153559228409906865"
     },
     "user_tz": 240
    },
    "id": "Et-DE_NUmkXT",
    "outputId": "ae058356-3d9f-412e-b080-1e9481447640"
   },
   "outputs": [
    {
     "name": "stdout",
     "output_type": "stream",
     "text": [
      "INST\n"
     ]
    }
   ],
   "source": [
    "code = \"INST201\"\n",
    "# get the first four chars (index 0 to 3, stop before 4)\n",
    "area = code[:4]\n",
    "print(area)"
   ]
  },
  {
   "cell_type": "markdown",
   "metadata": {},
   "source": [
    "**PRACTICE**: how would you get the course number?"
   ]
  },
  {
   "cell_type": "code",
   "execution_count": null,
   "metadata": {},
   "outputs": [
    {
     "data": {
      "text/plain": [
       "'201'"
      ]
     },
     "execution_count": 73,
     "metadata": {},
     "output_type": "execute_result"
    }
   ],
   "source": [
    "# get last three characters\n",
    "code = \"INST201\"\n",
    "# your code here"
   ]
  },
  {
   "cell_type": "markdown",
   "metadata": {},
   "source": [
    "**PRACTICE**: How would you get the first 2 letters of the name?"
   ]
  },
  {
   "cell_type": "code",
   "execution_count": null,
   "metadata": {},
   "outputs": [],
   "source": [
    "name = \"Michelle\"\n",
    "# your code here"
   ]
  },
  {
   "cell_type": "markdown",
   "metadata": {},
   "source": [
    "#### We can put these into filtering/counting patterns that check parts of strings!"
   ]
  },
  {
   "cell_type": "markdown",
   "metadata": {},
   "source": [
    "Practice: How many students in the class have names that begin with `Eli`?"
   ]
  },
  {
   "cell_type": "code",
   "execution_count": 78,
   "metadata": {},
   "outputs": [
    {
     "data": {
      "text/plain": [
       "3"
      ]
     },
     "execution_count": 78,
     "metadata": {},
     "output_type": "execute_result"
    }
   ],
   "source": [
    "names = [\n",
    "    \"Eliana\",\n",
    "    \"John\",\n",
    "    \"Elias\",\n",
    "    \"Esther\",\n",
    "    \"Joseph\",\n",
    "    \"Ebenezer\",\n",
    "    \"Eric\",\n",
    "    \"Josiah\",\n",
    "    \"Joe\",\n",
    "    \"Eliza\",\n",
    "    \"Frank\",\n",
    "    \"Ellie\",\n",
    "]\n",
    "\n",
    "count = 0\n",
    "\n",
    "for name in names:\n",
    "    if name[:3] == \"Eli\": # fill in your boolean expression\n",
    "        count += 1\n",
    "\n",
    "count"
   ]
  },
  {
   "cell_type": "markdown",
   "metadata": {},
   "source": [
    "**PRACTICE**: What about grabbing the names that begin with `Jo`?"
   ]
  },
  {
   "cell_type": "code",
   "execution_count": null,
   "metadata": {},
   "outputs": [
    {
     "data": {
      "text/plain": [
       "['John', 'Joseph', 'Josiah', 'Joe']"
      ]
     },
     "execution_count": 81,
     "metadata": {},
     "output_type": "execute_result"
    }
   ],
   "source": [
    "names = [\n",
    "    \"Eliana\",\n",
    "    \"John\",\n",
    "    \"Elias\",\n",
    "    \"Esther\",\n",
    "    \"Joseph\",\n",
    "    \"Ebenezer\",\n",
    "    \"Eric\",\n",
    "    \"Josiah\",\n",
    "    \"Joe\",\n",
    "    \"Eliza\",\n",
    "    \"Frank\",\n",
    "    \"Ellie\",\n",
    "]\n",
    "\n",
    "target_names = []\n",
    "\n",
    "# your code here"
   ]
  },
  {
   "cell_type": "markdown",
   "metadata": {
    "id": "YZ1fZMlqz00f"
   },
   "source": [
    "### Join strings"
   ]
  },
  {
   "cell_type": "markdown",
   "metadata": {
    "id": "DgkOR-cIm2Iy"
   },
   "source": [
    "We've also already shown you concatenation."
   ]
  },
  {
   "cell_type": "code",
   "execution_count": 82,
   "metadata": {
    "colab": {
     "base_uri": "https://localhost:8080/",
     "height": 34
    },
    "executionInfo": {
     "elapsed": 474,
     "status": "ok",
     "timestamp": 1603120250327,
     "user": {
      "displayName": "Joel Chan",
      "photoUrl": "https://lh3.googleusercontent.com/a-/AOh14GiBPPpBf_QqgDL3pMurAsPu9WJJE_x_6UtgW13UFQ=s64",
      "userId": "15153559228409906865"
     },
     "user_tz": 240
    },
    "id": "eCOdUm9UaVYx",
    "outputId": "63d8995e-430a-4fbf-a1dc-f7cdb4ad1278"
   },
   "outputs": [
    {
     "name": "stdout",
     "output_type": "stream",
     "text": [
      "Hello World!\n"
     ]
    }
   ],
   "source": [
    "s1 = \"Hello\"\n",
    "s2 = \" World!\"\n",
    "print(s1 + s2)"
   ]
  },
  {
   "cell_type": "markdown",
   "metadata": {},
   "source": [
    "Now that you've seen lists, you can get a bit more intuition for how it works."
   ]
  },
  {
   "cell_type": "code",
   "execution_count": 83,
   "metadata": {
    "colab": {
     "base_uri": "https://localhost:8080/"
    },
    "executionInfo": {
     "elapsed": 319,
     "status": "ok",
     "timestamp": 1616420422394,
     "user": {
      "displayName": "Joel Chan",
      "photoUrl": "https://lh3.googleusercontent.com/a-/AOh14GiBPPpBf_QqgDL3pMurAsPu9WJJE_x_6UtgW13UFQ=s64",
      "userId": "15153559228409906865"
     },
     "user_tz": 240
    },
    "id": "7gKu9TnzcZbG",
    "outputId": "bb25cf37-b5c0-42ad-eb69-451bf1403f4b"
   },
   "outputs": [
    {
     "name": "stdout",
     "output_type": "stream",
     "text": [
      "[1, 2, 3, 4, 5, 6]\n"
     ]
    }
   ],
   "source": [
    "l1 = [1, 2, 3]\n",
    "l2 = [4, 5, 6]\n",
    "print(l1 + l2)"
   ]
  },
  {
   "cell_type": "markdown",
   "metadata": {
    "id": "XZOi4Ftbzj1q"
   },
   "source": [
    "### Check if character(s) is in string"
   ]
  },
  {
   "cell_type": "markdown",
   "metadata": {},
   "source": [
    "Just like lists, the `in` operator also works for strings. We can think of this as checking whether some *substring* (could be a single character, or a sequence of characters) is part of a target string."
   ]
  },
  {
   "cell_type": "markdown",
   "metadata": {
    "id": "Otxd6tdCacy9"
   },
   "source": [
    "Example: check whether this message contains a keyword"
   ]
  },
  {
   "cell_type": "code",
   "execution_count": 85,
   "metadata": {
    "colab": {
     "base_uri": "https://localhost:8080/"
    },
    "executionInfo": {
     "elapsed": 263,
     "status": "ok",
     "timestamp": 1616420491874,
     "user": {
      "displayName": "Joel Chan",
      "photoUrl": "https://lh3.googleusercontent.com/a-/AOh14GiBPPpBf_QqgDL3pMurAsPu9WJJE_x_6UtgW13UFQ=s64",
      "userId": "15153559228409906865"
     },
     "user_tz": 240
    },
    "id": "1n49p2Ybagde",
    "outputId": "0c79e1a3-f9f1-435a-aa54-d8e1103249e3"
   },
   "outputs": [
    {
     "name": "stdout",
     "output_type": "stream",
     "text": [
      "False\n"
     ]
    }
   ],
   "source": [
    "message = \"hello, my name is inigo montoya\"\n",
    "keyword = \"ingo\"\n",
    "# let's check if the message mentions my name!\n",
    "print(keyword in message)"
   ]
  },
  {
   "cell_type": "markdown",
   "metadata": {},
   "source": [
    "**PRACTICE**: check whether these strings contain a space or tab!\n",
    "\n",
    "tab is represented by `'\\t'`\n",
    "space is represented by `' '`"
   ]
  },
  {
   "cell_type": "code",
   "execution_count": null,
   "metadata": {},
   "outputs": [
    {
     "data": {
      "text/plain": [
       "True"
      ]
     },
     "execution_count": 88,
     "metadata": {},
     "output_type": "execute_result"
    }
   ],
   "source": [
    "s1 = \"\\tInigo\"\n",
    "s2 = \" Inigo\"\n",
    "# your code\n"
   ]
  },
  {
   "cell_type": "markdown",
   "metadata": {},
   "source": [
    "#### Put it into our filtering pattern!"
   ]
  },
  {
   "cell_type": "markdown",
   "metadata": {},
   "source": [
    "**PRACTICE**: Only grab the classes from CMSC"
   ]
  },
  {
   "cell_type": "code",
   "execution_count": null,
   "metadata": {
    "colab": {
     "base_uri": "https://localhost:8080/"
    },
    "executionInfo": {
     "elapsed": 412,
     "status": "ok",
     "timestamp": 1616420573717,
     "user": {
      "displayName": "Joel Chan",
      "photoUrl": "https://lh3.googleusercontent.com/a-/AOh14GiBPPpBf_QqgDL3pMurAsPu9WJJE_x_6UtgW13UFQ=s64",
      "userId": "15153559228409906865"
     },
     "user_tz": 240
    },
    "id": "qy_mZ9amK7aG",
    "outputId": "bb7e2f3e-e9f9-4af2-9103-a430daaf0c16"
   },
   "outputs": [
    {
     "data": {
      "text/plain": [
       "['CMSC126']"
      ]
     },
     "execution_count": 89,
     "metadata": {},
     "output_type": "execute_result"
    }
   ],
   "source": [
    "course_codes = [\"INST201\", \"INST126\", \"INFM322\", \"CMSC126\"]\n",
    "\n",
    "target_courses = []\n",
    "\n",
    "# your code"
   ]
  },
  {
   "cell_type": "markdown",
   "metadata": {},
   "source": [
    "**PRACTICE**: Only grab the emails that are from `.edu` domain"
   ]
  },
  {
   "cell_type": "code",
   "execution_count": null,
   "metadata": {
    "colab": {
     "base_uri": "https://localhost:8080/"
    },
    "executionInfo": {
     "elapsed": 271,
     "status": "ok",
     "timestamp": 1616420680608,
     "user": {
      "displayName": "Joel Chan",
      "photoUrl": "https://lh3.googleusercontent.com/a-/AOh14GiBPPpBf_QqgDL3pMurAsPu9WJJE_x_6UtgW13UFQ=s64",
      "userId": "15153559228409906865"
     },
     "user_tz": 240
    },
    "id": "qj3GI55dLNLu",
    "outputId": "7af247f3-0e7f-4e0c-9581-81d5f759d263"
   },
   "outputs": [
    {
     "data": {
      "text/plain": [
       "['joelchan@terpmail.umd.edu', 'joelchan@umd.edu', 'sarahp@umd.edu']"
      ]
     },
     "execution_count": 92,
     "metadata": {},
     "output_type": "execute_result"
    }
   ],
   "source": [
    "emails = [\"oasislab@gmail.com\", \"joelchan@terpmail.umd.edu\", \"rony@terpmail.com\", \"joelchan@umd.edu\", \"joelchan@gmail.com\", \"sarahp@umd.edu\", \"sarah@umd.org\"]\n",
    "# your code\n",
    "target_emails = []\n",
    "\n",
    "# your code"
   ]
  },
  {
   "cell_type": "markdown",
   "metadata": {
    "id": "AhUAWXgfnCgR",
    "tags": []
   },
   "source": [
    "## Working with strings: advanced\n",
    "\n",
    "Similar to lists, there is a collection of in-built **string methods**: functions in Python that operate on strings: https://docs.python.org/3/library/stdtypes.html#string-methods"
   ]
  },
  {
   "cell_type": "code",
   "execution_count": 1,
   "metadata": {
    "colab": {
     "base_uri": "https://localhost:8080/",
     "height": 1000
    },
    "executionInfo": {
     "elapsed": 573,
     "status": "ok",
     "timestamp": 1603087392532,
     "user": {
      "displayName": "Joel Chan",
      "photoUrl": "https://lh3.googleusercontent.com/a-/AOh14GiBPPpBf_QqgDL3pMurAsPu9WJJE_x_6UtgW13UFQ=s64",
      "userId": "15153559228409906865"
     },
     "user_tz": 240
    },
    "id": "UQl7Ujjmcl7k",
    "outputId": "fdc6789e-656b-442e-a487-5d114e575c95"
   },
   "outputs": [],
   "source": [
    "s = \"hello\"\n",
    "# dir(s)"
   ]
  },
  {
   "cell_type": "markdown",
   "metadata": {
    "id": "zo4AqTPfnkDz"
   },
   "source": [
    "I'm not going to show you all of them, but I will talk through them and discuss some fairly common ones\n",
    "\n",
    "No need to memorize them – just know:\n",
    "- There are many methods that allow you to do things with strings – if you want to do something, first search for that method! It’s often way more efficient/bug-free than what you’ll write (even after you get good)\n",
    "- Where to find the exact code for it, how to figure out how they work\n",
    "\n",
    "More importantly, I want you to practice reading documentation, get a sense of how to use functions (code that other people have written that you can reuse): what are the parameters? return values? what can you learn from examples? how do you learn how to use it appropriately in your own code?\n"
   ]
  },
  {
   "cell_type": "code",
   "execution_count": null,
   "metadata": {
    "id": "Si15yA88dXn2"
   },
   "outputs": [],
   "source": [
    "# \n",
    "message = \"Hello, my name is Inigo Montoya\"\n",
    "# let's check if the message mentions my name!\n",
    "print(\"inigo\" in message.lower())"
   ]
  },
  {
   "cell_type": "markdown",
   "metadata": {
    "id": "qOuLDRAv1P4E",
    "tags": []
   },
   "source": [
    "### Checking a string\n",
    "\n",
    "Common methods include:\n",
    "- `.isnumeric()` - is it all numeric?\n",
    "- `.isalphanumeric()` - is it all letters and numbers?\n",
    "- `.isalpha()` - is it all letters?\n",
    "- `.startswith()` - does it start with some substring?\n",
    "- `.endswith()` - does it end with some substring?"
   ]
  },
  {
   "cell_type": "markdown",
   "metadata": {},
   "source": [
    "Example: `.isnumeric()` checks if the string is entirely composed of numeric characters."
   ]
  },
  {
   "cell_type": "code",
   "execution_count": 7,
   "metadata": {},
   "outputs": [
    {
     "data": {
      "text/plain": [
       "False"
      ]
     },
     "execution_count": 7,
     "metadata": {},
     "output_type": "execute_result"
    }
   ],
   "source": [
    "a = \" 123\"\n",
    "a.isnumeric()"
   ]
  },
  {
   "cell_type": "code",
   "execution_count": 11,
   "metadata": {
    "colab": {
     "base_uri": "https://localhost:8080/"
    },
    "executionInfo": {
     "elapsed": 260,
     "status": "ok",
     "timestamp": 1616420998303,
     "user": {
      "displayName": "Joel Chan",
      "photoUrl": "https://lh3.googleusercontent.com/a-/AOh14GiBPPpBf_QqgDL3pMurAsPu9WJJE_x_6UtgW13UFQ=s64",
      "userId": "15153559228409906865"
     },
     "user_tz": 240
    },
    "id": "5eO8f23OBonj",
    "outputId": "e144c5fa-82b1-4980-80e9-03859b7bcbf6"
   },
   "outputs": [
    {
     "name": "stdout",
     "output_type": "stream",
     "text": [
      "One of the input strings contains non-digits!\n"
     ]
    }
   ],
   "source": [
    "# we want to do math\n",
    "a = \"x123\"\n",
    "b = \"567\"\n",
    "# but first we want to make sure the strings are all numbers before we convert them\n",
    "if a.isnumeric() and b.isnumeric():\n",
    "    a = int(a)\n",
    "    b = int(b)\n",
    "    print(a*b)\n",
    "else:\n",
    "    a_num = int(str(filter(lambda x: x.isnumeric(), a))\n",
    "    print(\"One of the input strings contains non-digits!\")"
   ]
  },
  {
   "cell_type": "markdown",
   "metadata": {},
   "source": [
    "Example application: cleaning a sales record!"
   ]
  },
  {
   "cell_type": "code",
   "execution_count": 8,
   "metadata": {
    "colab": {
     "base_uri": "https://localhost:8080/"
    },
    "executionInfo": {
     "elapsed": 591,
     "status": "ok",
     "timestamp": 1616421656315,
     "user": {
      "displayName": "Joel Chan",
      "photoUrl": "https://lh3.googleusercontent.com/a-/AOh14GiBPPpBf_QqgDL3pMurAsPu9WJJE_x_6UtgW13UFQ=s64",
      "userId": "15153559228409906865"
     },
     "user_tz": 240
    },
    "id": "7ysp26d3MtqZ",
    "outputId": "e39a3644-7a3e-4099-b404-48cf56906b41"
   },
   "outputs": [
    {
     "name": "stdout",
     "output_type": "stream",
     "text": [
      "1000000\n"
     ]
    }
   ],
   "source": [
    "# need to turn into a number so I can do math with it\n",
    "sales_record = \"$1,000,000\"\n",
    "\n",
    "# with iteration\n",
    "cleaned = \"\" # initialize clean string as a blank/empty string\n",
    "# for each character int he sales record string\n",
    "for char in sales_record:\n",
    "    if char.isnumeric(): # if the character is numeric\n",
    "        cleaned += char # grab it (notice the use of concatenation here)\n",
    "print(cleaned)"
   ]
  },
  {
   "cell_type": "markdown",
   "metadata": {},
   "source": [
    "Another example: `.startswith()` and `.endswith()` check whether... the beginning/end of a string matches a substring (single charcter or sequence of characters."
   ]
  },
  {
   "cell_type": "code",
   "execution_count": null,
   "metadata": {
    "colab": {
     "base_uri": "https://localhost:8080/"
    },
    "executionInfo": {
     "elapsed": 444,
     "status": "ok",
     "timestamp": 1616421309905,
     "user": {
      "displayName": "Joel Chan",
      "photoUrl": "https://lh3.googleusercontent.com/a-/AOh14GiBPPpBf_QqgDL3pMurAsPu9WJJE_x_6UtgW13UFQ=s64",
      "userId": "15153559228409906865"
     },
     "user_tz": 240
    },
    "id": "5Dov7m3gM37P",
    "outputId": "60ae4cdd-b5ae-4d25-e5d6-8b487e7687ef"
   },
   "outputs": [],
   "source": [
    "l = [\"INST201\", \"INST126\", \"INFM322\", \"CMSC126\", \"joelchan@umd.edu\", \"joelchan\", \".edu\", \"sarah@umd.edu\"]\n",
    "# get all the strings that start with INST\n",
    "for item in l:\n",
    "    if item.startswith(\"INST\"):\n",
    "        print(item)"
   ]
  },
  {
   "cell_type": "markdown",
   "metadata": {},
   "source": [
    "**PRACTICE**: Use `.startswith()` to only grab the classes from CMSC"
   ]
  },
  {
   "cell_type": "code",
   "execution_count": null,
   "metadata": {
    "colab": {
     "base_uri": "https://localhost:8080/"
    },
    "executionInfo": {
     "elapsed": 412,
     "status": "ok",
     "timestamp": 1616420573717,
     "user": {
      "displayName": "Joel Chan",
      "photoUrl": "https://lh3.googleusercontent.com/a-/AOh14GiBPPpBf_QqgDL3pMurAsPu9WJJE_x_6UtgW13UFQ=s64",
      "userId": "15153559228409906865"
     },
     "user_tz": 240
    },
    "id": "qy_mZ9amK7aG",
    "outputId": "bb7e2f3e-e9f9-4af2-9103-a430daaf0c16"
   },
   "outputs": [
    {
     "data": {
      "text/plain": [
       "['CMSC126']"
      ]
     },
     "execution_count": 11,
     "metadata": {},
     "output_type": "execute_result"
    }
   ],
   "source": [
    "course_codes = [\"INST201\", \"INST126\", \"INFM322\", \"CMSC126\"]\n",
    "target_courses = []\n",
    "# your code"
   ]
  },
  {
   "cell_type": "markdown",
   "metadata": {},
   "source": [
    "**PRACTICE**: Use `.endswith()` to only grab the emails that are from `.edu` domain"
   ]
  },
  {
   "cell_type": "code",
   "execution_count": null,
   "metadata": {
    "colab": {
     "base_uri": "https://localhost:8080/"
    },
    "executionInfo": {
     "elapsed": 271,
     "status": "ok",
     "timestamp": 1616420680608,
     "user": {
      "displayName": "Joel Chan",
      "photoUrl": "https://lh3.googleusercontent.com/a-/AOh14GiBPPpBf_QqgDL3pMurAsPu9WJJE_x_6UtgW13UFQ=s64",
      "userId": "15153559228409906865"
     },
     "user_tz": 240
    },
    "id": "qj3GI55dLNLu",
    "outputId": "7af247f3-0e7f-4e0c-9581-81d5f759d263"
   },
   "outputs": [
    {
     "data": {
      "text/plain": [
       "['joelchan@terpmail.umd.edu', 'joelchan@umd.edu', 'sarahp@umd.edu']"
      ]
     },
     "execution_count": 12,
     "metadata": {},
     "output_type": "execute_result"
    }
   ],
   "source": [
    "emails = [\"oasislab@gmail.com\", \"joelchan@terpmail.umd.edu\", \"rony@terpmail.com\", \"joelchan@umd.edu\", \"joelchan@gmail.com\", \"sarahp@umd.edu\", \"sarah@umd.org\"]\n",
    "\n",
    "target_emails = []\n",
    "# your code"
   ]
  },
  {
   "cell_type": "markdown",
   "metadata": {
    "id": "cCK7NZDqd0g3",
    "tags": []
   },
   "source": [
    "### \"Cleaning\" / normalizing a string\n",
    "\n",
    "Often we get data in string form, and we need to make sure it conforms to our expectations. Sometimes this means we modify it.\n",
    "\n",
    "Common methods include:\n",
    "- `.lower()` or `.upper()` - convert the string to all lowercase or uppercase so we eliminate differences that have to do with case; remember that `A` and `a` are *different* to Python!\n",
    "- `.replace()` - replace parts of a string with something else - often we use this to strip out characters we don't like (by replacing them with a blank string)\n",
    "- `.strip()` - remove hidden whitespace at the beginning and end of strings. super handy in data cleaning scenarios! closely related are `.lstrip()` and `.rstrip()` (can you guess what they do?)"
   ]
  },
  {
   "cell_type": "markdown",
   "metadata": {},
   "source": [
    "Note: you can \"chain\" methods, and often want to do so! Often this is handy to \"bundle together\" cleaning/normalizing operations."
   ]
  },
  {
   "cell_type": "code",
   "execution_count": 14,
   "metadata": {
    "colab": {
     "base_uri": "https://localhost:8080/"
    },
    "executionInfo": {
     "elapsed": 662,
     "status": "ok",
     "timestamp": 1616421743178,
     "user": {
      "displayName": "Joel Chan",
      "photoUrl": "https://lh3.googleusercontent.com/a-/AOh14GiBPPpBf_QqgDL3pMurAsPu9WJJE_x_6UtgW13UFQ=s64",
      "userId": "15153559228409906865"
     },
     "user_tz": 240
    },
    "id": "QM1jyuqae2zD",
    "outputId": "ef7c48da-b7b7-4efc-b0d5-a675de8fd1af"
   },
   "outputs": [
    {
     "name": "stdout",
     "output_type": "stream",
     "text": [
      "1000000\n"
     ]
    }
   ],
   "source": [
    "# can use .replace() if you know in advance which characters you want to strip out\n",
    "def normalize_sales_record(sale):\n",
    "    return sale.replace(\"$\",\"\").replace(\",\",\"\")\n",
    "\n",
    "sales_record = \"$1,000,000\"\n",
    "cleaned = normalize_sales_record(sales_record)\n",
    "print(cleaned)"
   ]
  },
  {
   "cell_type": "markdown",
   "metadata": {},
   "source": [
    "Chaining works because a `str.method()` expression yields a string, which then is also able to do another `.method()`. We can do this as many times as we like, though be careful to make sure your code is still readable!"
   ]
  },
  {
   "cell_type": "code",
   "execution_count": 15,
   "metadata": {
    "colab": {
     "base_uri": "https://localhost:8080/"
    },
    "executionInfo": {
     "elapsed": 1023,
     "status": "ok",
     "timestamp": 1618840742977,
     "user": {
      "displayName": "Joel Chan",
      "photoUrl": "https://lh3.googleusercontent.com/a-/AOh14GiBPPpBf_QqgDL3pMurAsPu9WJJE_x_6UtgW13UFQ=s64",
      "userId": "15153559228409906865"
     },
     "user_tz": 240
    },
    "id": "fAtLRfzUeV8d",
    "outputId": "d0a4ab1f-1d14-4d80-9749-eef5d135ac7c"
   },
   "outputs": [
    {
     "name": "stdout",
     "output_type": "stream",
     "text": [
      " Josh Lyman\n",
      "JOSH LYMAN\n",
      "False\n",
      "JOSH LYMAN\n",
      "JOSH LYMAN\n",
      "True\n"
     ]
    }
   ],
   "source": [
    "def normalize_string(s):\n",
    "      return s.upper().strip() # convert the string to upper case and remove leading and trailing blank spaces\n",
    "\n",
    "# need to make sure it's normalized and we remove all weird stuff\n",
    "n = \" Josh Lyman\"\n",
    "m = \"JOSH LYMAN\"\n",
    "print(n)\n",
    "print(m)\n",
    "print(n == m)\n",
    "n_normal = normalize_string(n)\n",
    "m_normal = normalize_string(m)\n",
    "print(n_normal)\n",
    "print(m_normal)\n",
    "print(n_normal == m_normal)"
   ]
  },
  {
   "cell_type": "markdown",
   "metadata": {
    "id": "l791Q1ofejDn",
    "tags": []
   },
   "source": [
    "### \"Parsing\" a string (getting specific bits we want)\n",
    "\n",
    "You can do this if you know there is some *separator* that you can rely on to divide the string into the \"bits\" you want.\n",
    "\n",
    "Examples:\n",
    "- Parse an email\n",
    "- Parse a URL\n",
    "- Parse a sentence into words!\n",
    "- Parse a time stamp\n",
    "\n",
    "These all use the `.split()` method, which takes a `separator` parameter as input, and returns a `list` of strings that are separated around the `seperator`."
   ]
  },
  {
   "cell_type": "markdown",
   "metadata": {},
   "source": [
    "Example: get elements of an email address."
   ]
  },
  {
   "cell_type": "code",
   "execution_count": 17,
   "metadata": {},
   "outputs": [
    {
     "name": "stdout",
     "output_type": "stream",
     "text": [
      "['joelchan', 'umd.edu']\n",
      "joelchan\n"
     ]
    }
   ],
   "source": [
    "email = \"joelchan@umd.edu\"\n",
    "# we want only the domain and server \n",
    "elements = email.split(\"@\") # split on the `@` character\n",
    "print(elements)\n",
    "username = elements[0] # domain server is the 2nd element in the split\n",
    "print(username)"
   ]
  },
  {
   "cell_type": "code",
   "execution_count": null,
   "metadata": {
    "colab": {
     "base_uri": "https://localhost:8080/"
    },
    "executionInfo": {
     "elapsed": 982,
     "status": "ok",
     "timestamp": 1616422627213,
     "user": {
      "displayName": "Joel Chan",
      "photoUrl": "https://lh3.googleusercontent.com/a-/AOh14GiBPPpBf_QqgDL3pMurAsPu9WJJE_x_6UtgW13UFQ=s64",
      "userId": "15153559228409906865"
     },
     "user_tz": 240
    },
    "id": "QoZ0e0J3SfZz",
    "outputId": "a9832321-fefb-4acd-90ea-a99e8b8054de"
   },
   "outputs": [],
   "source": [
    "email = \"joelchan@umd.edu\"\n",
    "# if we only want the domain (.edu), we can do a multiple split\n",
    "split1 = email.split(\"@\") # split the email by the @ separator\n",
    "domainserver = split1[1] # grab the second item\n",
    "split2 = domainserver.split(\".\") # split that second item by the . separator\n",
    "domain = split2[1] # get the second item from that one\n",
    "print(domain)"
   ]
  },
  {
   "cell_type": "markdown",
   "metadata": {
    "colab": {
     "base_uri": "https://localhost:8080/"
    },
    "executionInfo": {
     "elapsed": 351,
     "status": "ok",
     "timestamp": 1616422309118,
     "user": {
      "displayName": "Joel Chan",
      "photoUrl": "https://lh3.googleusercontent.com/a-/AOh14GiBPPpBf_QqgDL3pMurAsPu9WJJE_x_6UtgW13UFQ=s64",
      "userId": "15153559228409906865"
     },
     "user_tz": 240
    },
    "id": "OCTlaNFMRaa7",
    "outputId": "b15685e7-3066-40ff-e4c2-b15c87d50dc7"
   },
   "source": [
    "Example: get elements of a url."
   ]
  },
  {
   "cell_type": "code",
   "execution_count": 18,
   "metadata": {
    "colab": {
     "base_uri": "https://localhost:8080/"
    },
    "executionInfo": {
     "elapsed": 317,
     "status": "ok",
     "timestamp": 1616422197602,
     "user": {
      "displayName": "Joel Chan",
      "photoUrl": "https://lh3.googleusercontent.com/a-/AOh14GiBPPpBf_QqgDL3pMurAsPu9WJJE_x_6UtgW13UFQ=s64",
      "userId": "15153559228409906865"
     },
     "user_tz": 240
    },
    "id": "BEIMAWhRf0a-",
    "outputId": "6a9e1cad-6818-4ad9-aecc-f72f25c80f4b"
   },
   "outputs": [
    {
     "data": {
      "text/plain": [
       "'ischool'"
      ]
     },
     "execution_count": 18,
     "metadata": {},
     "output_type": "execute_result"
    }
   ],
   "source": [
    "url = \"www.ischool.umd.edu\"\n",
    "elements = url.split(\".\") # split on the `.` character\n",
    "elements[1]"
   ]
  },
  {
   "cell_type": "markdown",
   "metadata": {},
   "source": [
    "**PRACTICE**: get elements of a timestamp (get the hour)."
   ]
  },
  {
   "cell_type": "code",
   "execution_count": null,
   "metadata": {
    "colab": {
     "base_uri": "https://localhost:8080/"
    },
    "executionInfo": {
     "elapsed": 279,
     "status": "ok",
     "timestamp": 1616422408355,
     "user": {
      "displayName": "Joel Chan",
      "photoUrl": "https://lh3.googleusercontent.com/a-/AOh14GiBPPpBf_QqgDL3pMurAsPu9WJJE_x_6UtgW13UFQ=s64",
      "userId": "15153559228409906865"
     },
     "user_tz": 240
    },
    "id": "RZ4TzZ9Tf-1_",
    "outputId": "984c0f7d-9820-47e6-bf32-1d0d3388eb95"
   },
   "outputs": [
    {
     "data": {
      "text/plain": [
       "'13'"
      ]
     },
     "execution_count": 26,
     "metadata": {},
     "output_type": "execute_result"
    }
   ],
   "source": [
    "# get hour\n",
    "timestamp = \"13:30:31\"\n",
    "# your code here"
   ]
  },
  {
   "cell_type": "markdown",
   "metadata": {},
   "source": [
    "**PRACTICE**: get the words in a sentence."
   ]
  },
  {
   "cell_type": "code",
   "execution_count": null,
   "metadata": {
    "colab": {
     "base_uri": "https://localhost:8080/"
    },
    "executionInfo": {
     "elapsed": 667,
     "status": "ok",
     "timestamp": 1616422472590,
     "user": {
      "displayName": "Joel Chan",
      "photoUrl": "https://lh3.googleusercontent.com/a-/AOh14GiBPPpBf_QqgDL3pMurAsPu9WJJE_x_6UtgW13UFQ=s64",
      "userId": "15153559228409906865"
     },
     "user_tz": 240
    },
    "id": "VUhukoeogUjM",
    "outputId": "0b89a884-bc79-450c-d0a1-5150b3f5e51f"
   },
   "outputs": [
    {
     "data": {
      "text/plain": [
       "['She',\n",
       " 'sells',\n",
       " 'seashells',\n",
       " 'by',\n",
       " 'the',\n",
       " 'sea',\n",
       " 'shore,',\n",
       " 'with',\n",
       " 'sea',\n",
       " 'in',\n",
       " 'the',\n",
       " 'wind,',\n",
       " 'and',\n",
       " 'sea',\n",
       " 'in',\n",
       " 'my',\n",
       " 'shoes']"
      ]
     },
     "execution_count": 29,
     "metadata": {},
     "output_type": "execute_result"
    }
   ],
   "source": [
    "# get words\n",
    "message = \"She sells seashells by the sea shore, with sea in the wind, and sea in my shoes\"\n",
    "# your code here"
   ]
  },
  {
   "cell_type": "markdown",
   "metadata": {},
   "source": [
    "A more complicated example: parse records string into a list of lists!"
   ]
  },
  {
   "cell_type": "code",
   "execution_count": 30,
   "metadata": {},
   "outputs": [
    {
     "data": {
      "text/plain": [
       "[['NAME', 'SCORE', 'GRADE'],\n",
       " ['Joel', '81', 'B-'],\n",
       " ['Rony', '98', 'A+'],\n",
       " ['Sravya', '99', 'A+']]"
      ]
     },
     "execution_count": 30,
     "metadata": {},
     "output_type": "execute_result"
    }
   ],
   "source": [
    "records_string = \"NAME\\tSCORE\\tGRADE\\nJoel\\t81\\tB-\\nRony\\t98\\tA+\\nSravya\\t99\\tA+\"\n",
    "\n",
    "records = []\n",
    "\n",
    "for row in records_string.split(\"\\n\"):\n",
    "    row_data = row.split(\"\\t\")\n",
    "    records.append(row_data)\n",
    "records"
   ]
  },
  {
   "cell_type": "markdown",
   "metadata": {},
   "source": [
    "**PRACTICE**: A more complicated example: parse comma-separated records string into a list of lists!"
   ]
  },
  {
   "cell_type": "code",
   "execution_count": null,
   "metadata": {},
   "outputs": [
    {
     "data": {
      "text/plain": [
       "[['NAME', 'SCORE', 'GRADE'],\n",
       " ['Joel', '81', 'B-'],\n",
       " ['Rony', '98', 'A+'],\n",
       " ['Sravya', '99', 'A+']]"
      ]
     },
     "execution_count": 31,
     "metadata": {},
     "output_type": "execute_result"
    }
   ],
   "source": [
    "records_string = \"NAME,SCORE,GRADE\\nJoel,81,B-\\nRony,98,A+\\nSravya,99,A+\"\n",
    "records = []\n",
    "# your code here"
   ]
  },
  {
   "cell_type": "markdown",
   "metadata": {
    "id": "dHLcanphdr9p"
   },
   "source": [
    "## REMEMBER: STRINGS ARE IMMUTABLE"
   ]
  },
  {
   "cell_type": "markdown",
   "metadata": {
    "id": "hexZdUb0M71q"
   },
   "source": [
    "Remember! Unlike lists, string methods return a new object (and do not modify the original string), since strings are immutable.\n",
    "\n",
    "This means if you don't assign the return value of the string method to a new variable, the change will be **lost**. Remember this!"
   ]
  },
  {
   "cell_type": "code",
   "execution_count": 33,
   "metadata": {
    "colab": {
     "base_uri": "https://localhost:8080/"
    },
    "executionInfo": {
     "elapsed": 476,
     "status": "ok",
     "timestamp": 1616422794367,
     "user": {
      "displayName": "Joel Chan",
      "photoUrl": "https://lh3.googleusercontent.com/a-/AOh14GiBPPpBf_QqgDL3pMurAsPu9WJJE_x_6UtgW13UFQ=s64",
      "userId": "15153559228409906865"
     },
     "user_tz": 240
    },
    "id": "_yWoqUBuTeY2",
    "outputId": "e2513fc9-1e79-4294-d29d-761b831e4439"
   },
   "outputs": [
    {
     "name": "stdout",
     "output_type": "stream",
     "text": [
      "hello\n",
      "hello\n",
      "False\n",
      "hello Hello\n"
     ]
    }
   ],
   "source": [
    "a = \"hello\"\n",
    "b = \"Hello\"\n",
    "print(a.lower())\n",
    "print(b.lower())\n",
    "print(a == b)\n",
    "print(a, b)"
   ]
  },
  {
   "cell_type": "code",
   "execution_count": null,
   "metadata": {
    "colab": {
     "base_uri": "https://localhost:8080/"
    },
    "executionInfo": {
     "elapsed": 441,
     "status": "ok",
     "timestamp": 1616422938804,
     "user": {
      "displayName": "Joel Chan",
      "photoUrl": "https://lh3.googleusercontent.com/a-/AOh14GiBPPpBf_QqgDL3pMurAsPu9WJJE_x_6UtgW13UFQ=s64",
      "userId": "15153559228409906865"
     },
     "user_tz": 240
    },
    "id": "wMrfJcr1TqUi",
    "outputId": "78227729-1052-45d8-e7a5-217d029194c0"
   },
   "outputs": [],
   "source": [
    "a = \"hello\"\n",
    "b = \"Hello\"\n",
    "a = a.lower()\n",
    "b = b.lower()\n",
    "a == b\n",
    "print(a, b)"
   ]
  },
  {
   "cell_type": "code",
   "execution_count": 34,
   "metadata": {
    "colab": {
     "base_uri": "https://localhost:8080/"
    },
    "executionInfo": {
     "elapsed": 397,
     "status": "ok",
     "timestamp": 1616422865120,
     "user": {
      "displayName": "Joel Chan",
      "photoUrl": "https://lh3.googleusercontent.com/a-/AOh14GiBPPpBf_QqgDL3pMurAsPu9WJJE_x_6UtgW13UFQ=s64",
      "userId": "15153559228409906865"
     },
     "user_tz": 240
    },
    "id": "1JvumOvjdoll",
    "outputId": "4f195ac6-4196-41d0-ded7-8f5570f6f27e"
   },
   "outputs": [
    {
     "name": "stdout",
     "output_type": "stream",
     "text": [
      "Hello, my name is Inigo Montoya\n",
      "hello, my name is MYSTERY montoya\n"
     ]
    }
   ],
   "source": [
    "message = \"Hello, my name is Inigo Montoya\"\n",
    "print(message)\n",
    "# let's check if the message mentions my name!\n",
    "message = message.lower() # change to lower case\n",
    "message = message.replace(\"inigo\", \"MYSTERY\")\n",
    "print(message)"
   ]
  },
  {
   "cell_type": "markdown",
   "metadata": {
    "id": "ycHWzKopfIxh"
   },
   "source": [
    "## String formatting\n",
    "\n",
    "So far we've taken strings as given, and we often specify a string directly. But frequently it is useful to compose a string programmatically, from variables.\n",
    "\n",
    "Often this is done for debugging (to read the state of your program at various steps), but often this is used as outputs of your program, intermediate or final.\n",
    "\n",
    "Here's an example"
   ]
  },
  {
   "cell_type": "code",
   "execution_count": 37,
   "metadata": {},
   "outputs": [
    {
     "name": "stdout",
     "output_type": "stream",
     "text": [
      "hello rony, my name is anna!\n"
     ]
    }
   ],
   "source": [
    "msg = \"hello\"\n",
    "friend = \"rony\"\n",
    "name = \"anna\"\n",
    "output = f\"{msg} {friend}, my name is {name}!\"\n",
    "print(output)"
   ]
  },
  {
   "cell_type": "code",
   "execution_count": 38,
   "metadata": {},
   "outputs": [
    {
     "name": "stdout",
     "output_type": "stream",
     "text": [
      "120 is 264.0 lbs\n"
     ]
    }
   ],
   "source": [
    "weight_kgs = 120\n",
    "print(f\"{weight_kgs} is {weight_kgs*2.2} lbs\")"
   ]
  },
  {
   "cell_type": "markdown",
   "metadata": {},
   "source": [
    "Example application: a game!"
   ]
  },
  {
   "cell_type": "code",
   "execution_count": 40,
   "metadata": {},
   "outputs": [
    {
     "name": "stdout",
     "output_type": "stream",
     "text": [
      "Guess the number (or type q to quit):  3\n"
     ]
    },
    {
     "name": "stdout",
     "output_type": "stream",
     "text": [
      "sorry that wasn't right, sarah, you have 4 remaining attempts\n"
     ]
    },
    {
     "name": "stdout",
     "output_type": "stream",
     "text": [
      "Take another guess (or type q to quit):  5\n"
     ]
    },
    {
     "name": "stdout",
     "output_type": "stream",
     "text": [
      "sorry that wasn't right, sarah, you have 3 remaining attempts\n"
     ]
    },
    {
     "name": "stdout",
     "output_type": "stream",
     "text": [
      "Take another guess (or type q to quit):  1\n"
     ]
    },
    {
     "name": "stdout",
     "output_type": "stream",
     "text": [
      "sorry that wasn't right, sarah, you have 2 remaining attempts\n"
     ]
    },
    {
     "name": "stdout",
     "output_type": "stream",
     "text": [
      "Take another guess (or type q to quit):  138\n"
     ]
    },
    {
     "name": "stdout",
     "output_type": "stream",
     "text": [
      "congrats, sarah! 138 is indeed the number!\n"
     ]
    }
   ],
   "source": [
    "# game parameters\n",
    "name = \"sarah\"\n",
    "attempts = 5\n",
    "target = 138\n",
    "\n",
    "# initial guess\n",
    "guess = input(\"Guess the number (or type q to quit): \")\n",
    "\n",
    "# as long as there are attempts remaining\n",
    "# and the user hasn't said quit\n",
    "while attempts > 0 and guess != \"q\":\n",
    "    # change to number\n",
    "    guess_num = int(guess) \n",
    "    \n",
    "    # if the guess is correct\n",
    "    if guess_num == target:\n",
    "        # congratulate the user\n",
    "        msg = f\"congrats, {name}! {guess} is indeed the number!\"\n",
    "        print(msg)\n",
    "        # and break out of the loop (no need to keep guessing!)\n",
    "        break\n",
    "    # otherwise\n",
    "    else:\n",
    "        # subtract 1 from the number of attempts\n",
    "        attempts -= 1\n",
    "        # tell the user how many attempts are left\n",
    "        msg = f\"sorry that wasn't right, {name}, you have {attempts} remaining attempts\"\n",
    "        print(msg)\n",
    "        # get another guess\n",
    "        guess = input(\"Take another guess (or type q to quit): \")"
   ]
  },
  {
   "cell_type": "code",
   "execution_count": 41,
   "metadata": {
    "colab": {
     "base_uri": "https://localhost:8080/"
    },
    "executionInfo": {
     "elapsed": 414,
     "status": "ok",
     "timestamp": 1616423001539,
     "user": {
      "displayName": "Joel Chan",
      "photoUrl": "https://lh3.googleusercontent.com/a-/AOh14GiBPPpBf_QqgDL3pMurAsPu9WJJE_x_6UtgW13UFQ=s64",
      "userId": "15153559228409906865"
     },
     "user_tz": 240
    },
    "id": "A0opYZNufece",
    "outputId": "5635bda6-76b4-4a24-db6c-64e024eed410"
   },
   "outputs": [
    {
     "name": "stdout",
     "output_type": "stream",
     "text": [
      "Processing the item at index 0: $100\n",
      "$100\n",
      "Processing the item at index 1: $250\n",
      "$250\n",
      "Processing the item at index 2: $500\n",
      "$500\n"
     ]
    }
   ],
   "source": [
    "sales = [\"$100\", \"$250\", \"$500\"]\n",
    "\n",
    "for idx, sale in enumerate(sales):\n",
    "    print(f\"Processing the item at index {idx}: {sale}\") # example of debugging/tracing statement\n",
    "    print(sale)"
   ]
  },
  {
   "cell_type": "markdown",
   "metadata": {
    "id": "GA_9tposfe1e"
   },
   "source": [
    "### The basics\n",
    "Let's look in more detail. The intuition here is that you're defining a series of \"slots\" for variables. Each slot is indicated with the `{}` curly braces. And you put data / variables in them (which can include expressions that yield data!).\n",
    "\n",
    "You also indicate that you're doing this slot thing by prefixing the string with the letter `f`\n",
    "\n",
    "Here's how it looks:"
   ]
  },
  {
   "cell_type": "code",
   "execution_count": null,
   "metadata": {
    "colab": {
     "base_uri": "https://localhost:8080/"
    },
    "executionInfo": {
     "elapsed": 576,
     "status": "ok",
     "timestamp": 1616423190088,
     "user": {
      "displayName": "Joel Chan",
      "photoUrl": "https://lh3.googleusercontent.com/a-/AOh14GiBPPpBf_QqgDL3pMurAsPu9WJJE_x_6UtgW13UFQ=s64",
      "userId": "15153559228409906865"
     },
     "user_tz": 240
    },
    "id": "ifu4puc_gxdP",
    "outputId": "5839bbc7-3940-416b-8595-5e363e8f6087"
   },
   "outputs": [],
   "source": [
    "names = [\"Joel\", \"Sarah\", \"Michael\", \"Kacie\"]\n",
    "for name in names:\n",
    "    message = f\"Welcome, {name}!\"\n",
    "    print(message)"
   ]
  },
  {
   "cell_type": "code",
   "execution_count": 43,
   "metadata": {
    "colab": {
     "base_uri": "https://localhost:8080/"
    },
    "executionInfo": {
     "elapsed": 323,
     "status": "ok",
     "timestamp": 1616423212032,
     "user": {
      "displayName": "Joel Chan",
      "photoUrl": "https://lh3.googleusercontent.com/a-/AOh14GiBPPpBf_QqgDL3pMurAsPu9WJJE_x_6UtgW13UFQ=s64",
      "userId": "15153559228409906865"
     },
     "user_tz": 240
    },
    "id": "HHQs-FMch2BG",
    "outputId": "4ac1f0d9-ecd8-47a9-e854-44e402c04983"
   },
   "outputs": [
    {
     "name": "stdout",
     "output_type": "stream",
     "text": [
      "Happy birthday, Joel! You are 67 this year!\n"
     ]
    }
   ],
   "source": [
    "birth_year = 1956\n",
    "this_year = 2023\n",
    "name = \"Joel\"\n",
    "message = f\"Happy birthday, {name}! You are {this_year - birth_year} this year!\"\n",
    "print(message)"
   ]
  },
  {
   "cell_type": "markdown",
   "metadata": {},
   "source": [
    "**PRACTICE**: print out the following message for each row: \"{name} got a {grade}\"!"
   ]
  },
  {
   "cell_type": "code",
   "execution_count": 2,
   "metadata": {},
   "outputs": [],
   "source": [
    "records_string = \"NAME,SCORE,GRADE\\nJoel,81,B-\\nRony,98,A+\\nSravya,99,A+\"\n",
    "for row in records_string.split(\"\\n\")[1:]:\n",
    "    name, score, grade = row.split(\",\")\n",
    "    # add your msg here!"
   ]
  },
  {
   "cell_type": "markdown",
   "metadata": {
    "id": "fHWWDssMgyLV"
   },
   "source": [
    "### Controlling the way it looks\n",
    "You can also control how the string looks! Various things like controlling how many decimal places are printed out (very useful when doing math), or how wide or indented the string is."
   ]
  },
  {
   "cell_type": "code",
   "execution_count": 49,
   "metadata": {
    "colab": {
     "base_uri": "https://localhost:8080/"
    },
    "executionInfo": {
     "elapsed": 384,
     "status": "ok",
     "timestamp": 1616423310201,
     "user": {
      "displayName": "Joel Chan",
      "photoUrl": "https://lh3.googleusercontent.com/a-/AOh14GiBPPpBf_QqgDL3pMurAsPu9WJJE_x_6UtgW13UFQ=s64",
      "userId": "15153559228409906865"
     },
     "user_tz": 240
    },
    "id": "d4l5IbdPidr_",
    "outputId": "f4cd657d-9164-40cd-cc1a-542a6bdb9bf1"
   },
   "outputs": [
    {
     "name": "stdout",
     "output_type": "stream",
     "text": [
      "2 divided by 3 is 0.67\n"
     ]
    }
   ],
   "source": [
    "# most common\n",
    "x = 2\n",
    "y = 3\n",
    "message = f\"{x} divided by {y} is {x/y:.2f}\" # only show two decimal places for the float value of result\n",
    "print(message)\n",
    "# print(result)"
   ]
  },
  {
   "cell_type": "markdown",
   "metadata": {
    "id": "I7ExfNqfirdv"
   },
   "source": [
    "The general design pattern here is to put a colon after and then specify some kind of formatting option. More details here: http://zetcode.com/python/fstring/"
   ]
  },
  {
   "cell_type": "markdown",
   "metadata": {},
   "source": [
    "**PRACTICE**: complete the output message so it prints out something like this: \"Please charge my card for \\$5.23\" (if the total value is 5.23)"
   ]
  },
  {
   "cell_type": "code",
   "execution_count": 4,
   "metadata": {
    "colab": {
     "base_uri": "https://localhost:8080/"
    },
    "executionInfo": {
     "elapsed": 296,
     "status": "ok",
     "timestamp": 1616423078992,
     "user": {
      "displayName": "Joel Chan",
      "photoUrl": "https://lh3.googleusercontent.com/a-/AOh14GiBPPpBf_QqgDL3pMurAsPu9WJJE_x_6UtgW13UFQ=s64",
      "userId": "15153559228409906865"
     },
     "user_tz": 240
    },
    "id": "nXO8fZEWUbtW",
    "outputId": "46ee26f4-819e-451b-fa74-124bcf79a165"
   },
   "outputs": [
    {
     "ename": "SyntaxError",
     "evalue": "invalid syntax (2095506778.py, line 5)",
     "output_type": "error",
     "traceback": [
      "\u001b[0;36m  File \u001b[0;32m\"/var/folders/xz/_hjc5hsx743dclmg8n5678nc0000gn/T/ipykernel_35420/2095506778.py\"\u001b[0;36m, line \u001b[0;32m5\u001b[0m\n\u001b[0;31m    msg =\u001b[0m\n\u001b[0m          ^\u001b[0m\n\u001b[0;31mSyntaxError\u001b[0m\u001b[0;31m:\u001b[0m invalid syntax\n"
     ]
    }
   ],
   "source": [
    "tip = 0.18\n",
    "check = 25.00\n",
    "total_value = check + check*tip\n",
    "# complete the output msg\n",
    "msg = \n",
    "print(msg)"
   ]
  },
  {
   "cell_type": "markdown",
   "metadata": {
    "id": "z0r8-owXkrEq"
   },
   "source": [
    "For the curious: there was a time when string formatting was done differently (but Python's creators basically tell everyone *not* to use it anymore): just pointing it out as a historical novelty in case you see it in the wild in other people's code (*cough* Joel's code *cough*).\n",
    "\n",
    "https://realpython.com/python-string-formatting/#1-old-style-string-formatting-operator"
   ]
  }
 ],
 "metadata": {
  "colab": {
   "collapsed_sections": [
    "XMzCrbEgZufG",
    "cCK7NZDqd0g3",
    "ycHWzKopfIxh",
    "GA_9tposfe1e",
    "fHWWDssMgyLV"
   ],
   "name": "INST126_SP21_Week9_Strings_post-class.ipynb",
   "provenance": [],
   "toc_visible": true
  },
  "kernelspec": {
   "display_name": "Python 3 (ipykernel)",
   "language": "python",
   "name": "python3"
  },
  "language_info": {
   "codemirror_mode": {
    "name": "ipython",
    "version": 3
   },
   "file_extension": ".py",
   "mimetype": "text/x-python",
   "name": "python",
   "nbconvert_exporter": "python",
   "pygments_lexer": "ipython3",
   "version": "3.9.7"
  }
 },
 "nbformat": 4,
 "nbformat_minor": 4
}