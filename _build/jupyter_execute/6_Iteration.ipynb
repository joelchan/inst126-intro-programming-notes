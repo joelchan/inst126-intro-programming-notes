{
 "cells": [
  {
   "cell_type": "markdown",
   "metadata": {
    "id": "g-lkfdphxbR0"
   },
   "source": [
    "# 6: Iteration\n",
    "\n",
    "## What are loops and why should we care about them?"
   ]
  },
  {
   "cell_type": "markdown",
   "metadata": {},
   "source": [
    "Loops are a fundamental building block of comptutational solutions to problems. They are an example of a **control structure**. Conditionals are another example of control structures.\n",
    "\n",
    "Control structures allow you to control *when/whether* (conditional) and *how many times* (loops) you do things"
   ]
  },
  {
   "cell_type": "markdown",
   "metadata": {
    "id": "59UWIOJ_jgrs"
   },
   "source": [
    "It's hard to build programs without a concise way to instruct the computer to do *repeated actions*.\n",
    "\n",
    "Here are some simple examples. Try to think of how you might solve these without loops!\n",
    "- Put 6 cups of flour into a box\n",
    "- Stir occasionally until the sauce starts to reduce"
   ]
  },
  {
   "cell_type": "markdown",
   "metadata": {
    "id": "020LJeezj-ZD"
   },
   "source": [
    "With loops these get a LOT easier to specify, and become more robust and reusable too."
   ]
  },
  {
   "cell_type": "markdown",
   "metadata": {},
   "source": [
    "Example (not real!) program: Put 6 cups of flour into a box"
   ]
  },
  {
   "cell_type": "code",
   "execution_count": 1,
   "metadata": {
    "id": "Un6dKvO0UGEG"
   },
   "outputs": [
    {
     "name": "stdout",
     "output_type": "stream",
     "text": [
      "Scoop into box\n",
      "Scoop into box\n",
      "Scoop into box\n",
      "Scoop into box\n",
      "Scoop into box\n",
      "Scoop into box\n"
     ]
    }
   ],
   "source": [
    "def scoop_into_box():\n",
    "    print(\"Scoop into box\")\n",
    "\n",
    "# scoop into the box 6 times\n",
    "for i in range(6):\n",
    "    scoop_into_box()"
   ]
  },
  {
   "cell_type": "markdown",
   "metadata": {},
   "source": [
    "Example (not real!) program: Stir occasionally until the sauce starts to reduce (i.e., is thick)"
   ]
  },
  {
   "cell_type": "code",
   "execution_count": 2,
   "metadata": {
    "tags": []
   },
   "outputs": [
    {
     "ename": "NameError",
     "evalue": "name 'check_sauce' is not defined",
     "output_type": "error",
     "traceback": [
      "\u001b[0;31m---------------------------------------------------------------------------\u001b[0m",
      "\u001b[0;31mNameError\u001b[0m                                 Traceback (most recent call last)",
      "\u001b[0;32m/var/folders/xz/_hjc5hsx743dclmg8n5678nc0000gn/T/ipykernel_89468/3929469459.py\u001b[0m in \u001b[0;36m<module>\u001b[0;34m\u001b[0m\n\u001b[1;32m      1\u001b[0m \u001b[0;31m# stir the sauce until it is thick\u001b[0m\u001b[0;34m\u001b[0m\u001b[0;34m\u001b[0m\u001b[0m\n\u001b[0;32m----> 2\u001b[0;31m \u001b[0;32mwhile\u001b[0m \u001b[0mcheck_sauce\u001b[0m\u001b[0;34m(\u001b[0m\u001b[0;34m)\u001b[0m \u001b[0;34m==\u001b[0m \u001b[0;34m\"thick\"\u001b[0m\u001b[0;34m:\u001b[0m\u001b[0;34m\u001b[0m\u001b[0;34m\u001b[0m\u001b[0m\n\u001b[0m\u001b[1;32m      3\u001b[0m     \u001b[0mstir\u001b[0m\u001b[0;34m(\u001b[0m\u001b[0;34m)\u001b[0m\u001b[0;34m\u001b[0m\u001b[0;34m\u001b[0m\u001b[0m\n",
      "\u001b[0;31mNameError\u001b[0m: name 'check_sauce' is not defined"
     ]
    }
   ],
   "source": [
    "# stir the sauce until it is thick\n",
    "while check_sauce() == \"thick\":\n",
    "    stir()"
   ]
  },
  {
   "cell_type": "markdown",
   "metadata": {
    "id": "2EI3jDA6knjR"
   },
   "source": [
    "Loops also enable many useful algorithms/patterns that go nicely with lists. You'll be practicing and applying them in PCEs and Projects this module!\n",
    "\n",
    "For example:\n",
    "- Searching through a list\n",
    "- Filtering a list of items\n",
    "- Counting occurrences in some collection"
   ]
  },
  {
   "cell_type": "markdown",
   "metadata": {},
   "source": [
    "Continuing with our running example for this module, here are loops in the context of a program:"
   ]
  },
  {
   "cell_type": "code",
   "execution_count": 8,
   "metadata": {},
   "outputs": [
    {
     "name": "stdout",
     "output_type": "stream",
     "text": [
      "['sarah@umd.edu', 'joelchan@umd.edu']\n"
     ]
    }
   ],
   "source": [
    "# key variables:\n",
    "# the input LIST of strings\n",
    "inputs = [\n",
    "    \"hello sarah@umd.edu\",\n",
    "    \"from: joelchan@umd.edu\",\n",
    "    \"some other text that doesn't have an email\"\n",
    "]\n",
    "# a LIST to store the email addresses\n",
    "emails = []\n",
    "\n",
    "# LOOP over every text input\n",
    "for text_input in inputs:\n",
    "    \n",
    "    # extract an email address\n",
    "    # split the text into subsets\n",
    "    chunks = text_input.split()\n",
    "    \n",
    "    # LOOP over the list of chunks to check each one\n",
    "    for chunk in chunks:\n",
    "        # check if it has @ and .\n",
    "        if \"@\" in chunk and \".\" in chunk:\n",
    "            # put the chunk in the email list\n",
    "            emails.append(chunk)\n",
    "# give the email address back to the user\n",
    "print(emails)"
   ]
  },
  {
   "cell_type": "markdown",
   "metadata": {
    "id": "XMfeWgyvG3W7"
   },
   "source": [
    "## Definite loops (for loops)"
   ]
  },
  {
   "cell_type": "markdown",
   "metadata": {
    "id": "s8zUmMgjkYv2"
   },
   "source": [
    "Quite often we have a list of items of the lines in a file - effectively a finite set of things. We can write a loop to do some operation once for each of the items in a set using the Python for construct.\n",
    "\n",
    "These loops are called “*definite loops*” because they execute an exact number of times. We say that “definite loops iterate through the members of a set”\n",
    "\n",
    "Use definite/for when you know in advance how many times you want to do something.\n",
    "\n",
    "This is the use case in our running example.\n",
    "\n",
    "Other examples:\n",
    "- Do an action N times\n",
    "- Take M steps\n",
    "- Do something for every item in a finite list"
   ]
  },
  {
   "cell_type": "markdown",
   "metadata": {},
   "source": [
    "### Anatomy of a definite (for) loop in Python"
   ]
  },
  {
   "cell_type": "markdown",
   "metadata": {},
   "source": [
    "Let's take a closer look.\n",
    "\n",
    "- The **iteration variable** \"iterates\" through the **sequence** (ordered set)\n",
    "- The **block (body)** of code is executed once for each value **in** the **sequence**\n",
    "- The **iteration variable** moves through all of the values in the **sequence**"
   ]
  },
  {
   "cell_type": "code",
   "execution_count": null,
   "metadata": {},
   "outputs": [],
   "source": [
    "nums = [5, 4, 3, 2, 1]\n",
    "# here, n is the iteration variable\n",
    "\n",
    "n = nums[0]\n",
    "n = nums[1]\n",
    "n = nums[2]\n",
    "\n",
    "for n in nums: \n",
    "    print(\"taking something from the list\")\n",
    "    print(n) # block/body"
   ]
  },
  {
   "cell_type": "code",
   "execution_count": 12,
   "metadata": {},
   "outputs": [
    {
     "name": "stdout",
     "output_type": "stream",
     "text": [
      "5\n",
      "100\n",
      "4\n",
      "80\n",
      "3\n",
      "60\n",
      "2\n",
      "40\n",
      "1\n",
      "20\n"
     ]
    }
   ],
   "source": [
    "nums = [5, 4, 3, 2, 1]\n",
    "# here, i is the iteration variable\n",
    "for i in nums: \n",
    "    print(i)\n",
    "    new_num = i*20\n",
    "    print(new_num) # block/body"
   ]
  },
  {
   "cell_type": "markdown",
   "metadata": {},
   "source": [
    "The iteration variable is a *variable*: this means you can name it whatever you like, subject to the basic syntax rules and of course our heuristic to name things to make the logic of the program legible."
   ]
  },
  {
   "cell_type": "markdown",
   "metadata": {},
   "source": [
    "What is the iteration variable here?"
   ]
  },
  {
   "cell_type": "code",
   "execution_count": null,
   "metadata": {},
   "outputs": [],
   "source": [
    "nums = [5, 4, 3, 2, 1]\n",
    "for a_number in nums: \n",
    "    new_num = a_number*20\n",
    "    print(new_num) # block/body"
   ]
  },
  {
   "cell_type": "markdown",
   "metadata": {},
   "source": [
    "What is the iteration variable here?"
   ]
  },
  {
   "cell_type": "code",
   "execution_count": null,
   "metadata": {},
   "outputs": [],
   "source": [
    "nums = [5, 4, 3, 2, 1]\n",
    "for num in nums:\n",
    "    if num % 2 == 0: # check if even\n",
    "        print(num) # block/body"
   ]
  },
  {
   "cell_type": "markdown",
   "metadata": {},
   "source": [
    "What is the iteration variable here?"
   ]
  },
  {
   "cell_type": "code",
   "execution_count": null,
   "metadata": {},
   "outputs": [],
   "source": [
    "for name in [\"john\", \"terrell\", \"qian\", \"malala\"]:\n",
    "    print(name)"
   ]
  },
  {
   "cell_type": "code",
   "execution_count": null,
   "metadata": {},
   "outputs": [],
   "source": [
    "# the range function produces an iterable sequence of numbers\n",
    "# that start at the optional first argument, and stop before\n",
    "# the required second argument\n",
    "# https://www.w3schools.com/python/ref_func_range.asp\n",
    "list(range(0,5))"
   ]
  },
  {
   "cell_type": "code",
   "execution_count": null,
   "metadata": {},
   "outputs": [],
   "source": [
    "# use this if you want to specify doing something N times\n",
    "# e.g., here, take a step 5 times\n",
    "for i in range(7):\n",
    "    print(\"I has the value\", i)\n",
    "    print(\"Taking a step\")"
   ]
  },
  {
   "cell_type": "code",
   "execution_count": null,
   "metadata": {},
   "outputs": [],
   "source": [
    "# use this if you want to specify doing something N times\n",
    "# e.g., here, take a step 5 times\n",
    "for i in [0,1,2,3,4]:\n",
    "    print(\"I has the value\", i)\n",
    "    print(\"Taking a step\")"
   ]
  },
  {
   "cell_type": "code",
   "execution_count": null,
   "metadata": {},
   "outputs": [],
   "source": [
    "# scoop 6 cups\n",
    "steps = 6\n",
    "for step in range(steps):\n",
    "    print(\"scooping cup number\", step+1)"
   ]
  },
  {
   "cell_type": "markdown",
   "metadata": {},
   "source": [
    "**PRACTICE:** how would you write a loop to print \"hello\" 3 times?"
   ]
  },
  {
   "cell_type": "code",
   "execution_count": null,
   "metadata": {},
   "outputs": [],
   "source": [
    "# practice: your code here"
   ]
  },
  {
   "cell_type": "markdown",
   "metadata": {},
   "source": [
    "To get a feeling for what is going on, try copy-pasting one of these programs into [python tutor](http://www.pythontutor.com/visualize.html#mode=edit) and inspect it!\n",
    "\n"
   ]
  },
  {
   "cell_type": "markdown",
   "metadata": {
    "id": "FYVv4YjdCjfS"
   },
   "source": [
    "### Common design patterns with definite loops"
   ]
  },
  {
   "cell_type": "markdown",
   "metadata": {
    "id": "zkz3w2_RHk2B"
   },
   "source": [
    "#### Counting\n",
    "\n",
    "A common situation: you have a list of stuff, and you want to count how many times a certain kind of thing shows up in that list. \n",
    "\n",
    "If you want to count occurrences based on a simple exact match, you can use the `.count()` list method."
   ]
  },
  {
   "cell_type": "code",
   "execution_count": null,
   "metadata": {},
   "outputs": [],
   "source": [
    "names = [\"Joel\", \"John\", \"Jane\", \"Jamie\", \"John\", \"Michael\", \"Sarah\", \"Joseph\", \"Chris\", \"Ray\"]\n",
    "# count how many times \"John\" is in here\n",
    "names.count(\"John\")"
   ]
  },
  {
   "cell_type": "markdown",
   "metadata": {},
   "source": [
    "But often you want to count based on something more complex than an exact match. For example, let's say I want to count the number of \"high performers\" in a list of scores (where high performing means score of 95 or greater).\n",
    "\n",
    "Iteration is a really helpful way to do this."
   ]
  },
  {
   "cell_type": "markdown",
   "metadata": {},
   "source": [
    "Here's an example program for counting how many scores are above a user-defined threshold."
   ]
  },
  {
   "cell_type": "code",
   "execution_count": 14,
   "metadata": {
    "colab": {
     "base_uri": "https://localhost:8080/"
    },
    "executionInfo": {
     "elapsed": 386,
     "status": "ok",
     "timestamp": 1614616032440,
     "user": {
      "displayName": "Joel Chan",
      "photoUrl": "https://lh3.googleusercontent.com/a-/AOh14GiBPPpBf_QqgDL3pMurAsPu9WJJE_x_6UtgW13UFQ=s64",
      "userId": "15153559228409906865"
     },
     "user_tz": 300
    },
    "id": "97jK8jFWH0Ld",
    "outputId": "86d95e54-e442-49b6-e659-7b9db8a38a45"
   },
   "outputs": [
    {
     "name": "stdout",
     "output_type": "stream",
     "text": [
      "4\n"
     ]
    }
   ],
   "source": [
    "# \n",
    "scores = [65, 78, 23, 97, 100, 25, 95] # input list\n",
    "\n",
    "threshold = 67 # score of C\n",
    "\n",
    "n_highperformers = 0 # define the count variable, initialize to 0\n",
    "\n",
    "# go through each item\n",
    "for score in scores: \n",
    "    # check if meets my criteria for being counted\n",
    "    if score >= threshold: \n",
    "        # if so, increase count\n",
    "        n_highperformers += 1 \n",
    "print(n_highperformers)"
   ]
  },
  {
   "cell_type": "markdown",
   "metadata": {
    "id": "0GUFEwX8aSSV"
   },
   "source": [
    "The generic pattern (or algorithm) is something like this:"
   ]
  },
  {
   "cell_type": "code",
   "execution_count": null,
   "metadata": {},
   "outputs": [],
   "source": [
    "# initialize count variable\n",
    "\n",
    "# for every item in list\n",
    "    # check if meets my criteria for being counted\n",
    "        # if so, increase count"
   ]
  },
  {
   "cell_type": "markdown",
   "metadata": {},
   "source": [
    "**PRACTICE**: count how many names are short (e.g., 4 characters or less)? Or long (e.g., more than 5 characters)."
   ]
  },
  {
   "cell_type": "code",
   "execution_count": 5,
   "metadata": {},
   "outputs": [],
   "source": [
    "names = [\"Joel\", \"John\", \"Jane\", \"Jamie\", \"Johnny\", \"Michaela\", \"Sarah\", \"Joseph\", \"Chris\", \"Ray\"]\n",
    "\n",
    "# your code here"
   ]
  },
  {
   "cell_type": "markdown",
   "metadata": {},
   "source": [
    "**PRACTICE**: check how many times we have a \"banned\" name.\n",
    "*hint: how do we check if an item is in a list?"
   ]
  },
  {
   "cell_type": "code",
   "execution_count": 6,
   "metadata": {},
   "outputs": [],
   "source": [
    "names = [\"Joel\", \"John\", \"Jane\", \"Jamie\", \"Johnny\", \"Michaela\", \"Sarah\", \"Joseph\", \"Chris\", \"Ray\"]\n",
    "\n",
    "banned = [\"Joel\", \"Chris\"]\n",
    "\n",
    "# your code here"
   ]
  },
  {
   "cell_type": "markdown",
   "metadata": {
    "id": "TP00ttDLHmte"
   },
   "source": [
    "#### Filtering\n",
    "\n",
    "A closely related situation is where we want to not only count, but also \"grab\" or *filter* the things that meet our criteria.\n",
    "\n",
    "We'd want to create a new list, and make sure we have a bit of code that adds to that new list based on the criteria we have.\n",
    "\n",
    "Example: grab all scores that cross our threshold."
   ]
  },
  {
   "cell_type": "code",
   "execution_count": 28,
   "metadata": {
    "colab": {
     "base_uri": "https://localhost:8080/"
    },
    "executionInfo": {
     "elapsed": 318,
     "status": "ok",
     "timestamp": 1615216062004,
     "user": {
      "displayName": "Joel Chan",
      "photoUrl": "https://lh3.googleusercontent.com/a-/AOh14GiBPPpBf_QqgDL3pMurAsPu9WJJE_x_6UtgW13UFQ=s64",
      "userId": "15153559228409906865"
     },
     "user_tz": 300
    },
    "id": "AzsUWV0-Hz6N",
    "outputId": "ffe5db87-139f-4444-a1c0-56a62208c525"
   },
   "outputs": [
    {
     "name": "stdout",
     "output_type": "stream",
     "text": [
      "[97, 100, 95]\n"
     ]
    }
   ],
   "source": [
    "scores = [65, 82, 23, 97, 100, 95] # input list to be filtered\n",
    "\n",
    "threshold = 93 # the criterion\n",
    "\n",
    "# initialize empty list to hold filtered items\n",
    "to_grab = [] \n",
    "\n",
    "# go through each item\n",
    "for score in scores: \n",
    "    # check if item meets criteria for being filtered\n",
    "    if score >= threshold: \n",
    "        # if so, add the item to the output list\n",
    "        to_grab.append(score) \n",
    "\n",
    "print(to_grab)"
   ]
  },
  {
   "cell_type": "markdown",
   "metadata": {},
   "source": [
    "The generic pattern is something like this:"
   ]
  },
  {
   "cell_type": "code",
   "execution_count": null,
   "metadata": {},
   "outputs": [],
   "source": [
    "# initialize empty list to hold filtered items\n",
    "\n",
    "# go through each item\n",
    "    # check if item meets criteria for being filtered\n",
    "        # if so, add the item to the output list"
   ]
  },
  {
   "cell_type": "markdown",
   "metadata": {},
   "source": [
    "**PRACTICE**: Let's modify our program above to grab only the names that aren't in our banned list."
   ]
  },
  {
   "cell_type": "code",
   "execution_count": 7,
   "metadata": {},
   "outputs": [],
   "source": [
    "names = [\"Joel\", \"John\", \"Jane\", \"Jamie\", \"Johnny\", \"Michaela\", \"Sarah\", \"Joseph\", \"Chris\", \"Ray\"]\n",
    "\n",
    "banned = [\"Joel\", \"Chris\"]\n",
    "\n",
    "# your code here"
   ]
  },
  {
   "cell_type": "markdown",
   "metadata": {},
   "source": [
    "Just a reminder that you can use the `filter()` function if you're curious, BUT YOU DO NOT HAVE TO. This is just an extra thing if you're curious"
   ]
  },
  {
   "cell_type": "code",
   "execution_count": null,
   "metadata": {},
   "outputs": [],
   "source": [
    "scores = [65, 82, 23, 97, 100, 95] # input list to be filtered\n",
    "threshold = 80\n",
    "\n",
    "def meets_critera(x):\n",
    "    return x >= threshold\n",
    "\n",
    "to_grab = list(filter(meets_critera, scores))\n",
    "print(to_grab)"
   ]
  },
  {
   "cell_type": "markdown",
   "metadata": {},
   "source": [
    "#### Mapping / transforming\n",
    "\n",
    "Finally, sometimes you want to modify some/all elements in a list into a new list. An example might be data cleaning, or data transformation."
   ]
  },
  {
   "cell_type": "markdown",
   "metadata": {},
   "source": [
    "**EXAMPLE:**: Convert a list of scores (on scale of 0 to 100) to proportions."
   ]
  },
  {
   "cell_type": "code",
   "execution_count": 33,
   "metadata": {},
   "outputs": [
    {
     "data": {
      "text/plain": [
       "[0.65, 0.82, 0.23, 0.97, 1.0, 0.95]"
      ]
     },
     "execution_count": 33,
     "metadata": {},
     "output_type": "execute_result"
    }
   ],
   "source": [
    "# input list\n",
    "scores = [65, 82, 23, 97, 100, 95]\n",
    "\n",
    "# output list\n",
    "proportions = []\n",
    "\n",
    "# go through every item\n",
    "for score in scores:\n",
    "    # apply the transformation\n",
    "    proportion = score/100\n",
    "    # add the transformed value to the output list\n",
    "    proportions.append(proportion)\n",
    "proportions"
   ]
  },
  {
   "cell_type": "markdown",
   "metadata": {},
   "source": [
    "A variant of the program that's a bit more concise (does the same thing):"
   ]
  },
  {
   "cell_type": "code",
   "execution_count": null,
   "metadata": {},
   "outputs": [],
   "source": [
    "# input list\n",
    "scores = [65, 82, 23, 97, 100, 95]\n",
    "\n",
    "# output list\n",
    "proportions = []\n",
    "\n",
    "# go through every item\n",
    "for score in scores:\n",
    "    # apply the transformation\n",
    "    # add the transformed value to the output list\n",
    "    proportions.append(score/100)\n",
    "proportions"
   ]
  },
  {
   "cell_type": "markdown",
   "metadata": {},
   "source": [
    "The generic pattern is something like this"
   ]
  },
  {
   "cell_type": "code",
   "execution_count": null,
   "metadata": {},
   "outputs": [],
   "source": [
    "# initialize empty list to hold transformed items\n",
    "\n",
    "# go through each item in the input list\n",
    "    # apply transformation to item\n",
    "    # add transformed item to transformed items list"
   ]
  },
  {
   "cell_type": "markdown",
   "metadata": {},
   "source": [
    "**PRACTICE**: Change outliers (those above 1000) to missing (\"NA\")"
   ]
  },
  {
   "cell_type": "code",
   "execution_count": 9,
   "metadata": {},
   "outputs": [],
   "source": [
    "scores = [65, 82, 2323, 97, 100, 95000]\n",
    "\n",
    "# your code here"
   ]
  },
  {
   "cell_type": "markdown",
   "metadata": {},
   "source": [
    "**PRACTICE**: Change the list from scores to letter grades, using the score to letter grade mappings from our syllabus (e.g., 93 and above is A)."
   ]
  },
  {
   "cell_type": "code",
   "execution_count": 10,
   "metadata": {},
   "outputs": [],
   "source": [
    "scores = [65, 82, 23, 97, 100, 95] # input list to be filtered\n",
    "\n",
    "# your code here"
   ]
  },
  {
   "cell_type": "markdown",
   "metadata": {},
   "source": [
    "As an extra thing to try, you can use the `map()` built-in function to do this too!"
   ]
  },
  {
   "cell_type": "code",
   "execution_count": 11,
   "metadata": {},
   "outputs": [
    {
     "data": {
      "text/plain": [
       "[0.65, 0.82, 0.23, 0.97, 1.0, 0.95]"
      ]
     },
     "execution_count": 11,
     "metadata": {},
     "output_type": "execute_result"
    }
   ],
   "source": [
    "scores = [65, 82, 23, 97, 100, 95]\n",
    "# convert to proportions\n",
    "proportions = list(map(lambda x: x/100, scores))\n",
    "proportions"
   ]
  },
  {
   "cell_type": "code",
   "execution_count": 41,
   "metadata": {},
   "outputs": [
    {
     "data": {
      "text/plain": [
       "['D', 'C', 'F', 'A', 'A', 'A']"
      ]
     },
     "execution_count": 41,
     "metadata": {},
     "output_type": "execute_result"
    }
   ],
   "source": [
    "def score_to_grade(a_score):\n",
    "    # apply transformation to item\n",
    "    if a_score >= 93:\n",
    "        grade = \"A\"\n",
    "    elif a_score >= 83:\n",
    "        grade = \"B\"\n",
    "    elif a_score >= 73:\n",
    "        grade = \"C\"\n",
    "    elif a_score >= 63:\n",
    "        grade = \"D\"\n",
    "    else:\n",
    "        grade = \"F\"\n",
    "    return grade\n",
    "\n",
    "scores = [65, 82, 23, 97, 100, 95]\n",
    "# convert to letter grades\n",
    "grades = list(map(score_to_grade, scores))\n",
    "grades"
   ]
  },
  {
   "cell_type": "markdown",
   "metadata": {
    "id": "0WyKDpKBhF6Y",
    "tags": []
   },
   "source": [
    "#### Coordinated iteration across multiple sequences\n",
    "\n",
    "One of problems for Project 2 relies on a design pattern I haven't yet explicitly shown you in clear terms. So I want to quickly review it. \n",
    "\n",
    "How do you go through the elements of a list, index by index? I'll show you a form of this, and you can figure out how this might generalize to the rock paper scissors problem, where you need to go through two lists in lockstep (first item from both lists, then second item from both lists, and so on)"
   ]
  },
  {
   "cell_type": "markdown",
   "metadata": {},
   "source": [
    "In our for loops above that iterated through items in a list, we typically had an iteration variable that directly stored an item from the list at each step.\n",
    "\n",
    "But we can also define an iteration variable that iterates through a list of *indices* (remember what indices are in a list? they're positions in the list!). This will allow us to then use Indexing to grab an item from that index position from our target list. \n",
    "\n",
    "Here's an example:"
   ]
  },
  {
   "cell_type": "code",
   "execution_count": 15,
   "metadata": {},
   "outputs": [
    {
     "name": "stdout",
     "output_type": "stream",
     "text": [
      "65\n",
      "82\n",
      "23\n",
      "97\n",
      "100\n",
      "95\n"
     ]
    }
   ],
   "source": [
    "scores = [65, 82, 23, 97, 100, 95]\n",
    "\n",
    "# iterate through a list of indices that is of the same length as the `scores` list\n",
    "# by convention, people usually name the iteration variable `i`\n",
    "for i in range(len(scores)):\n",
    "    # and print the score at that index\n",
    "    print(scores[i])"
   ]
  },
  {
   "cell_type": "markdown",
   "metadata": {},
   "source": [
    "And another one:"
   ]
  },
  {
   "cell_type": "code",
   "execution_count": 16,
   "metadata": {},
   "outputs": [
    {
     "name": "stdout",
     "output_type": "stream",
     "text": [
      "Joel\n",
      "John\n",
      "Lane\n",
      "Jamie\n",
      "Freddy\n"
     ]
    }
   ],
   "source": [
    "# basic iteration through a list using indices\n",
    "names = [\"Joel\", \"John\", \"Lane\", \"Jamie\", \"Freddy\"]\n",
    "\n",
    "# make a list of numbers that start at 0, and stop before\n",
    "# the length of the names list\n",
    "# and go through every number in that list\n",
    "for index in range(len(names)):\n",
    "    # use the number as an index for the names list\n",
    "    name = names[index]\n",
    "    # do something with the item at that index\n",
    "    print(name)"
   ]
  },
  {
   "cell_type": "markdown",
   "metadata": {},
   "source": [
    "We can extend this pattern to iterate through *multiple* lists at the same time in a coordinated way. This works as long as the lists are all of the same length: we'll only need to define a list of indices that are the same length as one of the lists and avoid running into an IndexError (e.g., trying to grab an item from an index position that doesn't exist from one of the lists that is shorter than the others!)\n",
    "\n",
    "Here's an example:"
   ]
  },
  {
   "cell_type": "code",
   "execution_count": 44,
   "metadata": {
    "colab": {
     "base_uri": "https://localhost:8080/"
    },
    "executionInfo": {
     "elapsed": 343,
     "status": "ok",
     "timestamp": 1615216683162,
     "user": {
      "displayName": "Joel Chan",
      "photoUrl": "https://lh3.googleusercontent.com/a-/AOh14GiBPPpBf_QqgDL3pMurAsPu9WJJE_x_6UtgW13UFQ=s64",
      "userId": "15153559228409906865"
     },
     "user_tz": 300
    },
    "id": "oGZWgZ7ZZqPY",
    "outputId": "cd678d2b-a146-4cae-af20-533f4a6a4452"
   },
   "outputs": [
    {
     "name": "stdout",
     "output_type": "stream",
     "text": [
      "Joel True\n",
      "John False\n",
      "Lane True\n",
      "Jamie True\n",
      "Freddy False\n"
     ]
    }
   ],
   "source": [
    "# basic iteration through a list using indices\n",
    "names = [\"Joel\", \"John\", \"Lane\", \"Jamie\", \"Freddy\"]\n",
    "eligibilities = [True, False, True, True, False]\n",
    "\n",
    "# make a list of numbers that start at 0, and stop before\n",
    "# the length of the names list\n",
    "# and go through every number in that list\n",
    "for index in range(len(names)):\n",
    "    # use the number as an index for the first list\n",
    "    name = names[index]\n",
    "    # use the same number as an index for the second list\n",
    "    eligible = eligibilities[index]\n",
    "    # do something with the items at the same index position for both lists\n",
    "    print(name, eligible)"
   ]
  },
  {
   "cell_type": "markdown",
   "metadata": {},
   "source": [
    "The generic pattern is something like this:"
   ]
  },
  {
   "cell_type": "code",
   "execution_count": null,
   "metadata": {},
   "outputs": [],
   "source": [
    "# make a list of numbers that start at 0, and stop before\n",
    "# the length of one of the lists (assuming they are the same length!)\n",
    "# and go through every number in that list\n",
    "    # use the number as an index for the first list\n",
    "    # use the same number as an index for the second list\n",
    "    # do something with the items at the same index position for both lists"
   ]
  },
  {
   "cell_type": "markdown",
   "metadata": {
    "id": "pogG9d6WlQyC",
    "tags": []
   },
   "source": [
    "## Indefinite loops (while loops)\n",
    "\n",
    "Sometimes you want to repeat actions, but you don't know in advance how many times you want to repeat. But you do have a *stopping condition*. In this situation, you can use indefinite loops, which are called so because they keep going until a logical condition becomes `False`.\n",
    "\n",
    "Examples:\n",
    "- Keep going until I tell you to stop\n",
    "- Keep stirring until the sauce thickens\n",
    "- Keep taking candy from the box until your bucket is full or the box is empty\n",
    "\n",
    "Use indefinite/while when you don't know in advance how many times you want to do something, but do have a stopping condition you can clearly express."
   ]
  },
  {
   "cell_type": "markdown",
   "metadata": {
    "id": "AhUAWXgfnCgR"
   },
   "source": [
    "### Anatomy of an indefinite (while) loop in Python"
   ]
  },
  {
   "cell_type": "markdown",
   "metadata": {
    "id": "zo4AqTPfnkDz"
   },
   "source": [
    "- The **stopping condition** defines when the loop will stop and go to the next block of code\n",
    "  - It's composed of a *Boolean expression*\n",
    "  - It should be possible for the Boolean expression to be `False`!\n",
    "- The **block (body)** of code is executed once for each iteration in the loop\n",
    "- **Stopping condition update**: It is essential that the body of the loop has some operation it that modifies what is checked in the stopping condition"
   ]
  },
  {
   "cell_type": "code",
   "execution_count": 46,
   "metadata": {
    "colab": {
     "base_uri": "https://localhost:8080/"
    },
    "executionInfo": {
     "elapsed": 322,
     "status": "ok",
     "timestamp": 1615214355937,
     "user": {
      "displayName": "Joel Chan",
      "photoUrl": "https://lh3.googleusercontent.com/a-/AOh14GiBPPpBf_QqgDL3pMurAsPu9WJJE_x_6UtgW13UFQ=s64",
      "userId": "15153559228409906865"
     },
     "user_tz": 300
    },
    "id": "vgi3xvEDolOS",
    "outputId": "f7c74b34-1c0e-4af4-bcf6-9fd4dc09341b"
   },
   "outputs": [
    {
     "name": "stdout",
     "output_type": "stream",
     "text": [
      "Taking a step 0\n",
      "Taking a step 1\n",
      "Taking a step 2\n",
      "Taking a step 3\n",
      "Taking a step 4\n",
      "Taking a step 5\n",
      "Taking a step 6\n",
      "Taking a step 7\n",
      "Taking a step 8\n",
      "Taking a step 9\n",
      "Done!\n"
     ]
    }
   ],
   "source": [
    "# keep taking steps until you hit a limit\n",
    "steps = 0\n",
    "limit = 10\n",
    "# check stopping condition\n",
    "while steps < limit: \n",
    "    # body of the loop (aka do some stuff)\n",
    "    print(\"Taking a step\", steps)\n",
    "    # stopping condition update\n",
    "    steps += 1 # \n",
    "print(\"Done!\")"
   ]
  },
  {
   "cell_type": "code",
   "execution_count": 49,
   "metadata": {},
   "outputs": [
    {
     "name": "stdout",
     "output_type": "stream",
     "text": [
      "Taking a step 0\n",
      "Taking a step 1\n",
      "Taking a step 2\n",
      "Taking a step 3\n",
      "Taking a step 4\n",
      "Taking a step 5\n",
      "Taking a step 6\n",
      "Taking a step 7\n",
      "Taking a step 8\n",
      "Taking a step 9\n",
      "Taking a step 10\n",
      "Taking a step 11\n",
      "Taking a step 12\n",
      "Taking a step 13\n",
      "Taking a step 14\n",
      "Taking a step 15\n",
      "Taking a step 16\n",
      "Taking a step 17\n",
      "Taking a step 18\n",
      "Taking a step 19\n"
     ]
    }
   ],
   "source": [
    "steps = 0\n",
    "limit = 20\n",
    "for i in range(limit):\n",
    "    # body of the loop (aka do some stuff)\n",
    "    print(\"Taking a step\", steps)\n",
    "    # stopping condition update\n",
    "    steps += 1 # "
   ]
  },
  {
   "cell_type": "markdown",
   "metadata": {},
   "source": [
    "Generic pattern:"
   ]
  },
  {
   "cell_type": "code",
   "execution_count": null,
   "metadata": {},
   "outputs": [],
   "source": [
    "# check stopping condition\n",
    "    # body of the loop (aka do some stuff)\n",
    "    # stopping condition update"
   ]
  },
  {
   "cell_type": "code",
   "execution_count": 50,
   "metadata": {},
   "outputs": [
    {
     "name": "stdout",
     "output_type": "stream",
     "text": [
      "Try to guess the number between 1 and 10, or say `exit` to quit 3\n",
      "Try to guess the number between 1 and 10, or say `exit` to quit 2\n",
      "Try to guess the number between 1 and 10, or say `exit` to quit exit\n"
     ]
    }
   ],
   "source": [
    "guess = input(\"Try to guess the number between 1 and 10, or say `exit` to quit\")\n",
    "number = 5\n",
    "found = False\n",
    "\n",
    "while guess != \"exit\" and not found:\n",
    "    if int(guess) == number:\n",
    "        print(\"You got it!\")\n",
    "        found = True\n",
    "    else:\n",
    "        guess = input(\"Try to guess the number between 1 and 10, or say `exit` to quit\")"
   ]
  },
  {
   "cell_type": "markdown",
   "metadata": {},
   "source": [
    "Again, it's helpful to copy-paste one of these programs into [python tutor](http://www.pythontutor.com/visualize.html#mode=edit) to get an intuition for what is going on."
   ]
  },
  {
   "cell_type": "markdown",
   "metadata": {
    "tags": []
   },
   "source": [
    "### Some applications of indefinite loops"
   ]
  },
  {
   "cell_type": "markdown",
   "metadata": {},
   "source": [
    "#### Generically: keep doing something until...\n",
    "\n",
    "Keep adding characters to a string until it is a defined length, e.g., 10"
   ]
  },
  {
   "cell_type": "code",
   "execution_count": 55,
   "metadata": {},
   "outputs": [
    {
     "name": "stdout",
     "output_type": "stream",
     "text": [
      "abca\n",
      "abcaa\n",
      "abcaaa\n",
      "abcaaaa\n",
      "abcaaaaa\n",
      "abcaaaaaa\n",
      "abcaaaaaaa\n",
      "abcaaaaaaa\n",
      "10\n"
     ]
    }
   ],
   "source": [
    "input_string = \"abc\"\n",
    "\n",
    "# check stopping condition\n",
    "while len(input_string) < 10:\n",
    "    # body of the loop (aka do some stuff)\n",
    "    input_string = input_string + \"a\"\n",
    "    print(input_string)\n",
    "    # stopping condition update (not needed because we're modifying the thing being checked)\n",
    "    \n",
    "print(input_string)\n",
    "print(len(input_string))"
   ]
  },
  {
   "cell_type": "markdown",
   "metadata": {},
   "source": [
    "Keep adding \".\" to the string until it is 13 characters long."
   ]
  },
  {
   "cell_type": "code",
   "execution_count": null,
   "metadata": {},
   "outputs": [],
   "source": [
    "input_string = \"abc\"\n",
    "\n",
    "# check stopping condition\n",
    "    # body of the loop (aka do some stuff)\n",
    "    # stopping condition update\n",
    "    \n",
    "print(input_string)"
   ]
  },
  {
   "cell_type": "markdown",
   "metadata": {},
   "source": [
    "**PRACTICE**: Keep dividing a number by 2 until we can't anymore."
   ]
  },
  {
   "cell_type": "code",
   "execution_count": 18,
   "metadata": {},
   "outputs": [],
   "source": [
    "num = 12000\n",
    "\n",
    "# your code here"
   ]
  },
  {
   "cell_type": "markdown",
   "metadata": {},
   "source": [
    "**PRACTICE:** Go through a list of people until we have 2 people named \"John\"."
   ]
  },
  {
   "cell_type": "code",
   "execution_count": 19,
   "metadata": {},
   "outputs": [],
   "source": [
    "names = [\"Joel\", \"John\", \"Jane\", \"Jamie\", \"John\", \"Michaela\", \"Sarah\", \"John\", \"Chris\", \"John\"]\n",
    "\n",
    "# your code here"
   ]
  },
  {
   "cell_type": "markdown",
   "metadata": {},
   "source": [
    "#### Basic user interfaces (keep running program until user stops us.\n",
    "\n",
    "Guessing game."
   ]
  },
  {
   "cell_type": "code",
   "execution_count": null,
   "metadata": {},
   "outputs": [],
   "source": [
    "guess = input(\"Try to guess the number between 1 and 10, or say `exit` to quit\")\n",
    "number = 5\n",
    "while guess != \"exit\":\n",
    "    if int(guess) == number:\n",
    "        print(\"You got it!\")\n",
    "        break # we're done, exit the loop\n",
    "    else:\n",
    "        guess = input(\"Try to guess the number between 1 and 10, or say `exit` to quit\")\n",
    "print(\"Thanks for playing!\")"
   ]
  },
  {
   "cell_type": "code",
   "execution_count": null,
   "metadata": {},
   "outputs": [],
   "source": [
    "# check stopping condition\n",
    "    # body of the loop (aka do some stuff)\n",
    "    # stopping condition update"
   ]
  },
  {
   "cell_type": "markdown",
   "metadata": {},
   "source": [
    "#### All of the definite loops we saw earlier can be implemented with indefinite loops!"
   ]
  },
  {
   "cell_type": "code",
   "execution_count": 21,
   "metadata": {},
   "outputs": [
    {
     "data": {
      "text/plain": [
       "[0.65, 0.82, 0.23, 0.97, 1.0, 0.95]"
      ]
     },
     "execution_count": 21,
     "metadata": {},
     "output_type": "execute_result"
    }
   ],
   "source": [
    "# input list\n",
    "scores = [65, 82, 23, 97, 100, 95]\n",
    "\n",
    "# output list\n",
    "proportions = []\n",
    "\n",
    "# initialize index variable\n",
    "i = 0\n",
    "# check stopping condition: \n",
    "# i is less than the length of the list?\n",
    "while i < len(scores):\n",
    "    # body of the loop (aka do some stuff)\n",
    "    # apply the transformation\n",
    "    proportion = scores[i]/100\n",
    "    # add the transformed value to the output list\n",
    "    proportions.append(proportion)\n",
    "    # stopping condition update\n",
    "    i += 1\n",
    "\n",
    "proportions"
   ]
  },
  {
   "cell_type": "markdown",
   "metadata": {
    "id": "Jakekt19MaZ0"
   },
   "source": [
    "## Breaking a loop with the `break` statement"
   ]
  },
  {
   "cell_type": "markdown",
   "metadata": {
    "id": "BSXoxcbFMfWU"
   },
   "source": [
    "The break statement ends the current loop and jumps to the statement immediately following the loop. \n",
    "It is like a loop test that can happen anywhere in the body of the loop\n"
   ]
  },
  {
   "cell_type": "code",
   "execution_count": null,
   "metadata": {
    "colab": {
     "base_uri": "https://localhost:8080/"
    },
    "executionInfo": {
     "elapsed": 574,
     "status": "ok",
     "timestamp": 1615215187124,
     "user": {
      "displayName": "Joel Chan",
      "photoUrl": "https://lh3.googleusercontent.com/a-/AOh14GiBPPpBf_QqgDL3pMurAsPu9WJJE_x_6UtgW13UFQ=s64",
      "userId": "15153559228409906865"
     },
     "user_tz": 300
    },
    "id": "7Vn3T7moZCYx",
    "outputId": "784aeaa1-4410-481e-e12b-97499102adc3"
   },
   "outputs": [],
   "source": [
    "found = False # default is we hvaen't found it\n",
    "names = [\"Joel\", \"John\", \"Jane\", \"Jamie\", \"Lisa\", \"Anna\", \"Fred\"]\n",
    "for name in names:\n",
    "    print(name)\n",
    "    if name == \"John\":\n",
    "        found = True # set found to true\n",
    "        print(\"Found!\")\n",
    "        break\n",
    "print(\"We're done with the loop\")\n",
    "if found:\n",
    "    print(\"Found john!\")\n",
    "else:\n",
    "    print(\"Didn't find john\")"
   ]
  },
  {
   "cell_type": "code",
   "execution_count": null,
   "metadata": {},
   "outputs": [],
   "source": [
    "found = False # default is we hvaen't found it\n",
    "names = [\"Joel\", \"John\", \"Jane\", \"Jamie\", \"Lisa\", \"Anna\", \"Fred\"]\n",
    "\n",
    "name = names.pop()\n",
    "while not found:\n",
    "    print(name)\n",
    "    if name == \"John\":\n",
    "        found = True\n",
    "        print(found)\n",
    "        break\n",
    "    else:\n",
    "        if len(names) > 0:\n",
    "            name = names.pop()\n",
    "\n",
    "if found:\n",
    "    print(\"Found john!\")\n",
    "else:\n",
    "    print(\"Didn't find john\")"
   ]
  },
  {
   "cell_type": "code",
   "execution_count": null,
   "metadata": {
    "colab": {
     "base_uri": "https://localhost:8080/"
    },
    "executionInfo": {
     "elapsed": 34120,
     "status": "ok",
     "timestamp": 1615215056758,
     "user": {
      "displayName": "Joel Chan",
      "photoUrl": "https://lh3.googleusercontent.com/a-/AOh14GiBPPpBf_QqgDL3pMurAsPu9WJJE_x_6UtgW13UFQ=s64",
      "userId": "15153559228409906865"
     },
     "user_tz": 300
    },
    "id": "7ysp26d3MtqZ",
    "outputId": "2d76b6e8-9dad-4a41-c03d-6346b5b9cb75"
   },
   "outputs": [],
   "source": [
    "while True:\n",
    "    line = input('> ')\n",
    "    if line == 'done' :\n",
    "        break\n",
    "    print(line)\n",
    "print('Done!')"
   ]
  },
  {
   "cell_type": "markdown",
   "metadata": {
    "id": "-iQvhWi7KGAg",
    "tags": []
   },
   "source": [
    "## Common errors"
   ]
  },
  {
   "cell_type": "markdown",
   "metadata": {
    "id": "jzXOyOGZlyNN"
   },
   "source": [
    "### Indentation is key!\n",
    "\n",
    "The way that Python knows what counts as the body of code for a loop (whether definite or indefinite) is through indentation. \n",
    "\n",
    "You must indent all code that goes in the body underneath the for/while statement (after the colon).\n",
    "\n",
    "If you fail to indent the first line of code in the body, you will get an IndentationError.\n",
    "\n",
    "If you fail to indent anything after the first line of code in the body, you will be committing a semantic error: Python will not alert you because it is legal code. But your program will not do what you intend it to do."
   ]
  },
  {
   "cell_type": "code",
   "execution_count": 22,
   "metadata": {
    "colab": {
     "base_uri": "https://localhost:8080/",
     "height": 130
    },
    "executionInfo": {
     "elapsed": 422,
     "status": "error",
     "timestamp": 1615214531223,
     "user": {
      "displayName": "Joel Chan",
      "photoUrl": "https://lh3.googleusercontent.com/a-/AOh14GiBPPpBf_QqgDL3pMurAsPu9WJJE_x_6UtgW13UFQ=s64",
      "userId": "15153559228409906865"
     },
     "user_tz": 300
    },
    "id": "QhaEFbPdSYru",
    "outputId": "3ac1ea81-4afa-4574-e487-9daa18cd594f"
   },
   "outputs": [
    {
     "ename": "IndentationError",
     "evalue": "expected an indented block (3695896917.py, line 2)",
     "output_type": "error",
     "traceback": [
      "\u001b[0;36m  File \u001b[0;32m\"/var/folders/xz/_hjc5hsx743dclmg8n5678nc0000gn/T/ipykernel_34482/3695896917.py\"\u001b[0;36m, line \u001b[0;32m2\u001b[0m\n\u001b[0;31m    print(i)\u001b[0m\n\u001b[0m    ^\u001b[0m\n\u001b[0;31mIndentationError\u001b[0m\u001b[0;31m:\u001b[0m expected an indented block\n"
     ]
    }
   ],
   "source": [
    "for i in range(5):\n",
    "print(i)"
   ]
  },
  {
   "cell_type": "code",
   "execution_count": 24,
   "metadata": {
    "colab": {
     "base_uri": "https://localhost:8080/"
    },
    "executionInfo": {
     "elapsed": 350,
     "status": "ok",
     "timestamp": 1615214651739,
     "user": {
      "displayName": "Joel Chan",
      "photoUrl": "https://lh3.googleusercontent.com/a-/AOh14GiBPPpBf_QqgDL3pMurAsPu9WJJE_x_6UtgW13UFQ=s64",
      "userId": "15153559228409906865"
     },
     "user_tz": 300
    },
    "id": "rZMhDAYjSgUz",
    "outputId": "340b1967-9670-4c80-fed5-f0119830b9f7"
   },
   "outputs": [
    {
     "name": "stdout",
     "output_type": "stream",
     "text": [
      "25\n"
     ]
    }
   ],
   "source": [
    "# i want to step through a list of numbers, multiply each of them by 5 and print htem out\n",
    "nums = [1,2,3,4,5]\n",
    "for num in nums:\n",
    "  new_num = num*5\n",
    "print(new_num)"
   ]
  },
  {
   "cell_type": "markdown",
   "metadata": {
    "id": "2P-04t43Knqj"
   },
   "source": [
    "### IndexError when looping through a list\n",
    "\n",
    "This comes up mostly with `while` loops. So, while it's possible to do any for loop with a while loop, you want to be careful with it.\n"
   ]
  },
  {
   "cell_type": "code",
   "execution_count": 25,
   "metadata": {
    "colab": {
     "base_uri": "https://localhost:8080/",
     "height": 336
    },
    "executionInfo": {
     "elapsed": 297,
     "status": "error",
     "timestamp": 1615216873655,
     "user": {
      "displayName": "Joel Chan",
      "photoUrl": "https://lh3.googleusercontent.com/a-/AOh14GiBPPpBf_QqgDL3pMurAsPu9WJJE_x_6UtgW13UFQ=s64",
      "userId": "15153559228409906865"
     },
     "user_tz": 300
    },
    "id": "EQ5QH6fyeYFm",
    "outputId": "68267113-285b-4015-a7c0-b3fc089fddd8"
   },
   "outputs": [
    {
     "name": "stdout",
     "output_type": "stream",
     "text": [
      "0\n",
      "1\n",
      "2\n",
      "3\n",
      "4\n",
      "5\n"
     ]
    },
    {
     "ename": "IndexError",
     "evalue": "list index out of range",
     "output_type": "error",
     "traceback": [
      "\u001b[0;31m---------------------------------------------------------------------------\u001b[0m",
      "\u001b[0;31mIndexError\u001b[0m                                Traceback (most recent call last)",
      "\u001b[0;32m/var/folders/xz/_hjc5hsx743dclmg8n5678nc0000gn/T/ipykernel_34482/4102397174.py\u001b[0m in \u001b[0;36m<module>\u001b[0;34m\u001b[0m\n\u001b[1;32m      8\u001b[0m \u001b[0;32mwhile\u001b[0m \u001b[0mindex\u001b[0m \u001b[0;34m<\u001b[0m \u001b[0;36m10\u001b[0m\u001b[0;34m:\u001b[0m \u001b[0;31m# until you reach the end of the list\u001b[0m\u001b[0;34m\u001b[0m\u001b[0;34m\u001b[0m\u001b[0m\n\u001b[1;32m      9\u001b[0m   \u001b[0mprint\u001b[0m\u001b[0;34m(\u001b[0m\u001b[0mindex\u001b[0m\u001b[0;34m)\u001b[0m\u001b[0;34m\u001b[0m\u001b[0;34m\u001b[0m\u001b[0m\n\u001b[0;32m---> 10\u001b[0;31m   \u001b[0mname\u001b[0m \u001b[0;34m=\u001b[0m \u001b[0mnames\u001b[0m\u001b[0;34m[\u001b[0m\u001b[0mindex\u001b[0m\u001b[0;34m]\u001b[0m \u001b[0;31m# get the name at this index\u001b[0m\u001b[0;34m\u001b[0m\u001b[0;34m\u001b[0m\u001b[0m\n\u001b[0m\u001b[1;32m     11\u001b[0m   \u001b[0;32mif\u001b[0m \u001b[0mname\u001b[0m \u001b[0;34m==\u001b[0m \u001b[0;34m\"John\"\u001b[0m\u001b[0;34m:\u001b[0m \u001b[0;31m# check if is john / meets my criteria for being filtered\u001b[0m\u001b[0;34m\u001b[0m\u001b[0;34m\u001b[0m\u001b[0m\n\u001b[1;32m     12\u001b[0m     \u001b[0mto_grab\u001b[0m\u001b[0;34m.\u001b[0m\u001b[0mappend\u001b[0m\u001b[0;34m(\u001b[0m\u001b[0mname\u001b[0m\u001b[0;34m)\u001b[0m \u001b[0;31m# add the item to the output list\u001b[0m\u001b[0;34m\u001b[0m\u001b[0;34m\u001b[0m\u001b[0m\n",
      "\u001b[0;31mIndexError\u001b[0m: list index out of range"
     ]
    }
   ],
   "source": [
    "#\n",
    "#\n",
    "#\n",
    "names = [\"Joel\", \"John\", \"Jane\", \"Jamie\", \"John\"]\n",
    "to_grab = [] # output list, initialize to empty list\n",
    "\n",
    "index = 0 # set initial index to zero\n",
    "while index < 10: # until you reach the end of the list\n",
    "  print(index)\n",
    "  name = names[index] # get the name at this index\n",
    "  if name == \"John\": # check if is john / meets my criteria for being filtered\n",
    "    to_grab.append(name) # add the item to the output list\n",
    "  index += 1 # increment the index\n",
    "\n",
    "# print out the result\n",
    "print(to_grab)"
   ]
  },
  {
   "cell_type": "code",
   "execution_count": 26,
   "metadata": {
    "colab": {
     "base_uri": "https://localhost:8080/",
     "height": 302
    },
    "executionInfo": {
     "elapsed": 428,
     "status": "error",
     "timestamp": 1615217051840,
     "user": {
      "displayName": "Joel Chan",
      "photoUrl": "https://lh3.googleusercontent.com/a-/AOh14GiBPPpBf_QqgDL3pMurAsPu9WJJE_x_6UtgW13UFQ=s64",
      "userId": "15153559228409906865"
     },
     "user_tz": 300
    },
    "id": "7VDwdVTwb8R9",
    "outputId": "e729b13f-e352-417f-b979-96c2d83a2bf2"
   },
   "outputs": [
    {
     "name": "stdout",
     "output_type": "stream",
     "text": [
      "0 Joel\n",
      "1 John\n",
      "2 Lane\n",
      "3 Jamie\n",
      "4 Freddy\n"
     ]
    },
    {
     "ename": "IndexError",
     "evalue": "list index out of range",
     "output_type": "error",
     "traceback": [
      "\u001b[0;31m---------------------------------------------------------------------------\u001b[0m",
      "\u001b[0;31mIndexError\u001b[0m                                Traceback (most recent call last)",
      "\u001b[0;32m/var/folders/xz/_hjc5hsx743dclmg8n5678nc0000gn/T/ipykernel_34482/4256380183.py\u001b[0m in \u001b[0;36m<module>\u001b[0;34m\u001b[0m\n\u001b[1;32m      3\u001b[0m \u001b[0;34m\u001b[0m\u001b[0m\n\u001b[1;32m      4\u001b[0m \u001b[0;32mfor\u001b[0m \u001b[0mindex\u001b[0m \u001b[0;32min\u001b[0m \u001b[0mrange\u001b[0m\u001b[0;34m(\u001b[0m\u001b[0;36m6\u001b[0m\u001b[0;34m)\u001b[0m\u001b[0;34m:\u001b[0m\u001b[0;34m\u001b[0m\u001b[0;34m\u001b[0m\u001b[0m\n\u001b[0;32m----> 5\u001b[0;31m   \u001b[0mname\u001b[0m \u001b[0;34m=\u001b[0m \u001b[0mnames\u001b[0m\u001b[0;34m[\u001b[0m\u001b[0mindex\u001b[0m\u001b[0;34m]\u001b[0m\u001b[0;34m\u001b[0m\u001b[0;34m\u001b[0m\u001b[0m\n\u001b[0m\u001b[1;32m      6\u001b[0m   \u001b[0mprint\u001b[0m\u001b[0;34m(\u001b[0m\u001b[0mindex\u001b[0m\u001b[0;34m,\u001b[0m \u001b[0mname\u001b[0m\u001b[0;34m)\u001b[0m\u001b[0;34m\u001b[0m\u001b[0;34m\u001b[0m\u001b[0m\n",
      "\u001b[0;31mIndexError\u001b[0m: list index out of range"
     ]
    }
   ],
   "source": [
    "# basic iteration through a list using indices\n",
    "names = [\"Joel\", \"John\", \"Lane\", \"Jamie\", \"Freddy\"]\n",
    "\n",
    "for index in range(6):\n",
    "  name = names[index]\n",
    "  print(index, name)"
   ]
  },
  {
   "cell_type": "markdown",
   "metadata": {
    "id": "kjU1dyhRKZ9l"
   },
   "source": [
    "### Infinite loops\n",
    "\n",
    "Remember that with indefinite loops, we need the **stopping condition** to be `False` at some point. Or at least, give the loop a way to exit / `break`. Otherwise, it will go forever! A common error is to forget to include any block of code in the **body (block)** of the loop that modifies the **stopping condition** or provides a **break** condition."
   ]
  },
  {
   "cell_type": "code",
   "execution_count": 62,
   "metadata": {
    "colab": {
     "base_uri": "https://localhost:8080/"
    },
    "executionInfo": {
     "elapsed": 251,
     "status": "ok",
     "timestamp": 1615217318600,
     "user": {
      "displayName": "Joel Chan",
      "photoUrl": "https://lh3.googleusercontent.com/a-/AOh14GiBPPpBf_QqgDL3pMurAsPu9WJJE_x_6UtgW13UFQ=s64",
      "userId": "15153559228409906865"
     },
     "user_tz": 300
    },
    "id": "0VWvpPmJfKnN",
    "outputId": "0dce9f4b-815b-4ebb-b8ca-f0ac725e54c3"
   },
   "outputs": [
    {
     "name": "stdout",
     "output_type": "stream",
     "text": [
      "5\n",
      "4\n",
      "3\n",
      "2\n",
      "1\n",
      "Blast off!\n"
     ]
    }
   ],
   "source": [
    "# \n",
    "n = 5\n",
    "while n > 0:\n",
    "    print(n)\n",
    "    n = n - 1\n",
    "print(\"Blast off!\")"
   ]
  },
  {
   "cell_type": "code",
   "execution_count": null,
   "metadata": {
    "colab": {
     "base_uri": "https://localhost:8080/",
     "height": 119
    },
    "executionInfo": {
     "elapsed": 795,
     "status": "ok",
     "timestamp": 1602517411909,
     "user": {
      "displayName": "Joel Chan",
      "photoUrl": "https://lh3.googleusercontent.com/a-/AOh14GiBPPpBf_QqgDL3pMurAsPu9WJJE_x_6UtgW13UFQ=s64",
      "userId": "15153559228409906865"
     },
     "user_tz": 240
    },
    "id": "5LDRnY23POoo",
    "outputId": "574d3177-7458-418e-933e-3e9914654ad3"
   },
   "outputs": [],
   "source": [
    "# \n",
    "n = 5\n",
    "while n > 0:\n",
    "  print(n)\n",
    "  n = n-1\n",
    "print(\"Blast off!\")"
   ]
  },
  {
   "cell_type": "code",
   "execution_count": null,
   "metadata": {
    "colab": {
     "base_uri": "https://localhost:8080/",
     "height": 300
    },
    "executionInfo": {
     "elapsed": 605,
     "status": "error",
     "timestamp": 1602517470143,
     "user": {
      "displayName": "Joel Chan",
      "photoUrl": "https://lh3.googleusercontent.com/a-/AOh14GiBPPpBf_QqgDL3pMurAsPu9WJJE_x_6UtgW13UFQ=s64",
      "userId": "15153559228409906865"
     },
     "user_tz": 240
    },
    "id": "OZ1Ryo1me3My",
    "outputId": "ba94f18a-57b1-4956-afa1-91feae33aa8f"
   },
   "outputs": [],
   "source": [
    "#\n",
    "#\n",
    "#\n",
    "names = [\"Joel\", \"Jane\", \"Jamie\"]\n",
    "to_grab = [] # output list, initialize to empty list\n",
    "\n",
    "index = 0 # set initial index to zero\n",
    "while len(to_grab) == 0: # until you reach the end of the list\n",
    "    print(index)\n",
    "    name = names[index] # get the name at this index\n",
    "    if name == \"John\": # check if is john / meets my criteria for being filtered\n",
    "        to_grab.append(name) # add the item to the output list\n",
    "    index += 1 # increment the index\n",
    "\n",
    "# print out the result\n",
    "print(to_grab)"
   ]
  }
 ],
 "metadata": {
  "colab": {
   "name": "INST126_SP21_Week7_Iteration_post-class.ipynb",
   "provenance": [],
   "toc_visible": true
  },
  "kernelspec": {
   "display_name": "Python 3 (ipykernel)",
   "language": "python",
   "name": "python3"
  },
  "language_info": {
   "codemirror_mode": {
    "name": "ipython",
    "version": 3
   },
   "file_extension": ".py",
   "mimetype": "text/x-python",
   "name": "python",
   "nbconvert_exporter": "python",
   "pygments_lexer": "ipython3",
   "version": "3.9.7"
  }
 },
 "nbformat": 4,
 "nbformat_minor": 4
}