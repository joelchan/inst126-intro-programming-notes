{
 "cells": [
  {
   "cell_type": "markdown",
   "id": "2de1e647-92c7-471e-a072-85e9c71f6228",
   "metadata": {},
   "source": [
    "## 1: list of numbers"
   ]
  },
  {
   "cell_type": "markdown",
   "id": "3e7fc914",
   "metadata": {},
   "source": []
  },
  {
   "cell_type": "markdown",
   "id": "e9861a4f",
   "metadata": {},
   "source": []
  },
  {
   "cell_type": "code",
   "execution_count": 1,
   "id": "80ecec24-ac11-41e8-8807-a9ffbd680263",
   "metadata": {},
   "outputs": [],
   "source": [
    "a = 15\n",
    "b = 2\n",
    "c = 10\n",
    "d = 13\n",
    "e = 18\n",
    "f = 22\n",
    "g = 19\n",
    "h = 25"
   ]
  },
  {
   "cell_type": "markdown",
   "id": "d3d70569-c6ec-4b93-960e-eff1b3eb1e21",
   "metadata": {
    "tags": []
   },
   "source": [
    "### 1A: Make the list and check it\n",
    "\n",
    "Put these into a list and name it `numbers`."
   ]
  },
  {
   "cell_type": "code",
   "execution_count": 2,
   "id": "9ec88f89-dad6-433a-84d2-604c564945a5",
   "metadata": {},
   "outputs": [],
   "source": [
    "numbers = [a, b, c, d, e, f, g, h]"
   ]
  },
  {
   "cell_type": "markdown",
   "id": "3f475077-727e-4a17-83c1-2ad1378be46d",
   "metadata": {},
   "source": [
    "How long is the list?"
   ]
  },
  {
   "cell_type": "code",
   "execution_count": 3,
   "id": "706c2ef2-6d67-48e9-abfb-39909423a73b",
   "metadata": {},
   "outputs": [
    {
     "data": {
      "text/plain": [
       "8"
      ]
     },
     "execution_count": 3,
     "metadata": {},
     "output_type": "execute_result"
    }
   ],
   "source": [
    "len(numbers)"
   ]
  },
  {
   "cell_type": "markdown",
   "id": "4e8b54b0-c59c-418c-b538-00180788ca4f",
   "metadata": {},
   "source": [
    "Get the 3rd item"
   ]
  },
  {
   "cell_type": "code",
   "execution_count": 4,
   "id": "c3806d00-2403-43bf-828f-1edf8e03c853",
   "metadata": {},
   "outputs": [
    {
     "name": "stdout",
     "output_type": "stream",
     "text": [
      "10\n"
     ]
    }
   ],
   "source": [
    "print(numbers[2])"
   ]
  },
  {
   "cell_type": "markdown",
   "id": "de682523-bc43-4d6f-aaff-94fe44cf5931",
   "metadata": {},
   "source": [
    "Write a function to get the item from a user-defined position, but include a check to make sure you don't try to get something from a position that doesn't exist in the list!"
   ]
  },
  {
   "cell_type": "code",
   "execution_count": 5,
   "id": "2fbfd17c-d291-4837-b3c0-c7e6b0c53e1e",
   "metadata": {},
   "outputs": [],
   "source": [
    "def get_item_from_list(psn, the_list):\n",
    "    # check if the list is at least as long \n",
    "    # as the absolute value desired psn\n",
    "    if len(the_list) >= abs(psn):\n",
    "        return the_list[psn]"
   ]
  },
  {
   "cell_type": "code",
   "execution_count": 6,
   "id": "5b511754-64cb-49b4-8d10-b0b7351a034d",
   "metadata": {},
   "outputs": [
    {
     "data": {
      "text/plain": [
       "13"
      ]
     },
     "execution_count": 6,
     "metadata": {},
     "output_type": "execute_result"
    }
   ],
   "source": [
    "get_item_from_list(psn=3, the_list=numbers)"
   ]
  },
  {
   "cell_type": "markdown",
   "id": "d9dc1088-2d54-4e03-a8a2-8309c08c9312",
   "metadata": {},
   "source": [
    "### 1B: Modify the list\n",
    "\n",
    "Add the number 32 to the beginning of `numbers`"
   ]
  },
  {
   "cell_type": "code",
   "execution_count": 7,
   "id": "6c17e25a-d84d-4499-9dc7-a7e4655b7885",
   "metadata": {},
   "outputs": [
    {
     "data": {
      "text/plain": [
       "[32, 15, 2, 10, 13, 18, 22, 19, 25]"
      ]
     },
     "execution_count": 7,
     "metadata": {},
     "output_type": "execute_result"
    }
   ],
   "source": [
    "numbers.insert(0, 32)\n",
    "numbers"
   ]
  },
  {
   "cell_type": "markdown",
   "id": "69632d34-9b2c-4070-a897-8901dc011c48",
   "metadata": {},
   "source": [
    "Add the number 13 to the end of `numbers`"
   ]
  },
  {
   "cell_type": "code",
   "execution_count": 8,
   "id": "f94bc358-7c20-4ff6-b9ed-35644ae74d0a",
   "metadata": {},
   "outputs": [
    {
     "data": {
      "text/plain": [
       "[32, 15, 2, 10, 13, 18, 22, 19, 25, 13]"
      ]
     },
     "execution_count": 8,
     "metadata": {},
     "output_type": "execute_result"
    }
   ],
   "source": [
    "numbers.append(13)\n",
    "numbers"
   ]
  },
  {
   "cell_type": "markdown",
   "id": "6e6653a2-2c8b-4d2c-a5ec-63551db802c3",
   "metadata": {
    "jp-MarkdownHeadingCollapsed": true,
    "tags": []
   },
   "source": [
    "Sort `numbers` in ascending order."
   ]
  },
  {
   "cell_type": "code",
   "execution_count": 9,
   "id": "aaf922d0-419f-402d-9e61-43d8b9e5de40",
   "metadata": {},
   "outputs": [
    {
     "data": {
      "text/plain": [
       "[2, 10, 13, 13, 15, 18, 19, 22, 25, 32]"
      ]
     },
     "execution_count": 9,
     "metadata": {},
     "output_type": "execute_result"
    }
   ],
   "source": [
    "numbers.sort()\n",
    "numbers"
   ]
  },
  {
   "cell_type": "markdown",
   "id": "f68fd472-e061-45c2-aa23-94015ce051d3",
   "metadata": {},
   "source": [
    "Sort the list again (in reverse numeric order, from biggest to smallest), but keep the old list unchanged! Name the new list `big_to_small`. Show the first item from both lists."
   ]
  },
  {
   "cell_type": "code",
   "execution_count": 10,
   "id": "b0e29a1f-241e-4590-8883-703bc2dce1f4",
   "metadata": {},
   "outputs": [
    {
     "name": "stdout",
     "output_type": "stream",
     "text": [
      "[32, 25, 22, 19, 18, 15, 13, 13, 10, 2]\n",
      "[2, 10, 13, 13, 15, 18, 19, 22, 25, 32]\n"
     ]
    }
   ],
   "source": [
    "# user sorted (function), which doesn't change the original list\n",
    "# instead, it returns a modified version of the original list\n",
    "big_to_small = sorted(numbers, reverse=True)\n",
    "print(big_to_small)\n",
    "print(numbers)"
   ]
  },
  {
   "cell_type": "markdown",
   "id": "cdce96b8-f081-4502-81b5-49d2f6d052df",
   "metadata": {},
   "source": [
    "### 1C: Math \n",
    "\n",
    "Get the smallest and largest numbers from `numbers`"
   ]
  },
  {
   "cell_type": "code",
   "execution_count": 11,
   "id": "aaf35c3b-eae6-4b1c-affe-79496bf49550",
   "metadata": {},
   "outputs": [
    {
     "name": "stdout",
     "output_type": "stream",
     "text": [
      "2\n",
      "32\n"
     ]
    }
   ],
   "source": [
    "print(min(numbers)) #smallest\n",
    "print(max(numbers)) #largest"
   ]
  },
  {
   "cell_type": "markdown",
   "id": "4ad5b6b3-3ee4-4e31-bfca-a59be1b55ce7",
   "metadata": {},
   "source": [
    "Compute the average, which is the sum of the items, divided by the number of items"
   ]
  },
  {
   "cell_type": "code",
   "execution_count": 12,
   "id": "14b0dda6-50ab-49e9-b202-e4a288525a8e",
   "metadata": {},
   "outputs": [
    {
     "data": {
      "text/plain": [
       "16.9"
      ]
     },
     "execution_count": 12,
     "metadata": {},
     "output_type": "execute_result"
    }
   ],
   "source": [
    "sum(numbers) / len(numbers)"
   ]
  },
  {
   "cell_type": "markdown",
   "id": "0681d55a-0352-49c5-9471-2706c162f9f8",
   "metadata": {
    "tags": []
   },
   "source": [
    "## 2: list of strings"
   ]
  },
  {
   "cell_type": "code",
   "execution_count": 13,
   "id": "cb5f8f6b-d492-4ac1-9e1b-5fbf05e887a1",
   "metadata": {},
   "outputs": [],
   "source": [
    "name1 = \"Kumiyo\"\n",
    "name2 = \"Naielia\"\n",
    "name3 = \"Charlie\"\n",
    "name4 = \"Juan\"\n",
    "name5 = \"Renee\"\n",
    "name6 = \"Kumiyo\"\n",
    "name7 = \"Frank\"\n",
    "name8 = \"Charlie\"\n",
    "name9 = \"Kumiyo\"\n",
    "name10 = \"Narges\"\n",
    "name11 = \"Kumiyo\""
   ]
  },
  {
   "cell_type": "markdown",
   "id": "bd5f72f9-c4fa-4ee0-bc7d-1280a9165e69",
   "metadata": {},
   "source": [
    "### 2A: make and inspect the list \n",
    "\n",
    "Put these into a list and name it `people`."
   ]
  },
  {
   "cell_type": "code",
   "execution_count": 14,
   "id": "130fa03d-94c6-4a47-900d-8b20a9fa647a",
   "metadata": {},
   "outputs": [
    {
     "data": {
      "text/plain": [
       "['Kumiyo',\n",
       " 'Naielia',\n",
       " 'Charlie',\n",
       " 'Juan',\n",
       " 'Renee',\n",
       " 'Kumiyo',\n",
       " 'Frank',\n",
       " 'Charlie',\n",
       " 'Kumiyo',\n",
       " 'Narges',\n",
       " 'Kumiyo']"
      ]
     },
     "execution_count": 14,
     "metadata": {},
     "output_type": "execute_result"
    }
   ],
   "source": [
    "people = [name1, name2, name3, name4, name5, name6, name7, name8, name9, name10, name11]\n",
    "people"
   ]
  },
  {
   "cell_type": "markdown",
   "id": "e1bc20e0-e636-4c86-8664-9eb06a057c47",
   "metadata": {},
   "source": [
    "Grab the first 4 people off the list"
   ]
  },
  {
   "cell_type": "code",
   "execution_count": 15,
   "id": "0b0e5e74-3a67-4686-abe0-d0f065f816ba",
   "metadata": {},
   "outputs": [
    {
     "name": "stdout",
     "output_type": "stream",
     "text": [
      "['Kumiyo', 'Naielia', 'Charlie', 'Juan']\n"
     ]
    }
   ],
   "source": [
    "print(people[:4])"
   ]
  },
  {
   "cell_type": "markdown",
   "id": "5e0324d4-96d0-425d-a60c-216d1f596325",
   "metadata": {},
   "source": [
    "Grab the last 5 people off the list"
   ]
  },
  {
   "cell_type": "code",
   "execution_count": 16,
   "id": "69d37922-a91f-4a40-a70d-e1fb50812b56",
   "metadata": {},
   "outputs": [
    {
     "name": "stdout",
     "output_type": "stream",
     "text": [
      "['Frank', 'Charlie', 'Kumiyo', 'Narges', 'Kumiyo']\n"
     ]
    }
   ],
   "source": [
    "print(people[-5:])"
   ]
  },
  {
   "cell_type": "markdown",
   "id": "92a3083b-38a4-47d0-9454-d8f5bf01c400",
   "metadata": {},
   "source": [
    "How many people are named \"Charlie\"? How about \"Kumiyo\"?"
   ]
  },
  {
   "cell_type": "code",
   "execution_count": 17,
   "id": "7924b5d8-48f9-4909-a3d9-05c1334b4536",
   "metadata": {},
   "outputs": [
    {
     "data": {
      "text/plain": [
       "2"
      ]
     },
     "execution_count": 17,
     "metadata": {},
     "output_type": "execute_result"
    }
   ],
   "source": [
    "people.count(\"Charlie\")"
   ]
  },
  {
   "cell_type": "markdown",
   "id": "6add56a5-d78e-40b4-9bd6-eb51340ac176",
   "metadata": {},
   "source": [
    "### 2B: Modify the list\n",
    "\n",
    "Add three people named \"Niklas\" to the list of `people`."
   ]
  },
  {
   "cell_type": "code",
   "execution_count": 18,
   "id": "38b771d3-7aa8-4d2f-a100-a9960548c78b",
   "metadata": {},
   "outputs": [],
   "source": [
    "people.append(\"Niklas\")"
   ]
  },
  {
   "cell_type": "markdown",
   "id": "ab154f7e-896e-4fa8-880a-5caf16f3e0ef",
   "metadata": {},
   "source": [
    "Sort the list in reverse alphabetical order, but keep the original list untouched! Name the new list `sortedPeople`."
   ]
  },
  {
   "cell_type": "code",
   "execution_count": 19,
   "id": "1fa81da8-13e7-4725-9f22-7785032a8dfe",
   "metadata": {},
   "outputs": [
    {
     "data": {
      "text/plain": [
       "['Renee',\n",
       " 'Niklas',\n",
       " 'Narges',\n",
       " 'Naielia',\n",
       " 'Kumiyo',\n",
       " 'Kumiyo',\n",
       " 'Kumiyo',\n",
       " 'Kumiyo',\n",
       " 'Juan',\n",
       " 'Frank',\n",
       " 'Charlie',\n",
       " 'Charlie']"
      ]
     },
     "execution_count": 19,
     "metadata": {},
     "output_type": "execute_result"
    }
   ],
   "source": [
    "sorted(people, reverse=True)"
   ]
  },
  {
   "cell_type": "markdown",
   "id": "3ad0d1a1-cd82-433e-bb91-2af4b7c13794",
   "metadata": {},
   "source": [
    "### 2D: Write a program that filters the list so only people with a (user-defined input) name can get off the list."
   ]
  },
  {
   "cell_type": "code",
   "execution_count": 20,
   "id": "6040fc39-ce57-4fbc-afcb-1ea9d0c6cb08",
   "metadata": {},
   "outputs": [],
   "source": [
    "def name_filter(people_list, target_name):\n",
    "    # apply the x == target_name filter to every element in the people list\n",
    "    # then put the results of the filter into a list\n",
    "    return list(filter(lambda x: x == target_name, people))"
   ]
  },
  {
   "cell_type": "markdown",
   "id": "1fe38dc3-c5e1-4894-98eb-dbb0a79d6d55",
   "metadata": {},
   "source": [
    "DO NOT WORRY IF YOU DON'T UNDERSTAND THIS. THIS IS BONUS, NICE TO KNOW. You will do just fine in this course if you don't understand this, you won't *need* to use it, though it might be fun/useful to experiment with it.\n",
    "\n",
    "To understand how this works, you need to understand [lambda functions](https://www.w3schools.com/python/python_lambda.asp).\n",
    "\n",
    "You can think of lambda functions as \"lazy\", one-liner functions you don't want to name.\n",
    "\n",
    "In this case, the lambda function takes one input parameter (x), which is an element from the list, and then applies the expression x == target_name (and therefore returns `True` or `False`). \n",
    "\n",
    "The `filter()` function then applies this lambda function to every item in the people list, and puts every item for which the lambda function returns `True` (i.e., passes the check) into an output \"list\" (formally, an iterable object), which we can then turn into an actual list."
   ]
  },
  {
   "cell_type": "code",
   "execution_count": 21,
   "id": "24afd152-6e6a-4b5c-b158-7c6c51768363",
   "metadata": {},
   "outputs": [
    {
     "data": {
      "text/plain": [
       "['Charlie', 'Charlie']"
      ]
     },
     "execution_count": 21,
     "metadata": {},
     "output_type": "execute_result"
    }
   ],
   "source": [
    "name_filter(people, \"Charlie\")"
   ]
  },
  {
   "cell_type": "code",
   "execution_count": null,
   "id": "b4584fd9-577c-44f6-a95e-d9f62c18ecae",
   "metadata": {},
   "outputs": [],
   "source": []
  }
 ],
 "metadata": {
  "kernelspec": {
   "display_name": "Python 3 (ipykernel)",
   "language": "python",
   "name": "python3"
  },
  "language_info": {
   "codemirror_mode": {
    "name": "ipython",
    "version": 3
   },
   "file_extension": ".py",
   "mimetype": "text/x-python",
   "name": "python",
   "nbconvert_exporter": "python",
   "pygments_lexer": "ipython3",
   "version": "3.9.7"
  }
 },
 "nbformat": 4,
 "nbformat_minor": 5
}