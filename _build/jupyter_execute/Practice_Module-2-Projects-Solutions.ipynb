{
 "cells": [
  {
   "cell_type": "markdown",
   "id": "58493690-cee9-42a5-8165-5790cba1c05e",
   "metadata": {
    "tags": []
   },
   "source": [
    "# Practice: Module 2 Project (Lists, Iteration, Strings)\n",
    "\n",
    "## Reformat and count names\n",
    "\n",
    "Process the list to convert to lastname, firstname format. Count the number of names that have lastname \"Wright\". Be careful! There are some inconsistencies in upper/lowercase!\n",
    "\n",
    "e.g., the first three elements of the output list should look like\n",
    "\n",
    "`[\"Thompson, Amelia\", \"Martinez, Oscar\", \"Green, Sophie\"]`\n",
    "\n",
    "And you should print out a message that is formatted like this:\n",
    "`\"There are M names with lastname Wright\"`\n",
    "\n",
    "Here is the correct output:\n",
    "\n",
    "`['Thompson, Amelia', 'Martinez, Oscar', 'Wright, Sophie', 'Harrison, Miles', 'Wright, Isabella', 'Patel, Lucas', 'Murphy, Chloe', 'Rodriguez, Leo', 'Lee, Ella', 'Kim, David', 'Chen, Emily', 'Davis, Oliver', 'Robinson, Lily', 'Adams, Caleb', 'wright, Ava', 'Garcia, Nathan', 'Hernandez, Grace', 'Brown, Ethan', 'Taylor, Avery', 'WrighT, Jacob']`\n",
    "\n",
    "`There are 4 names with lastname Wright`"
   ]
  },
  {
   "cell_type": "code",
   "execution_count": 1,
   "id": "82c95a45-86cc-4075-b2ec-b50d51229fbb",
   "metadata": {},
   "outputs": [],
   "source": [
    "# make sure you run this cell before you attempt your program\n",
    "names = [\n",
    "    'Amelia Thompson',\n",
    "    'Oscar Martinez',\n",
    "    'Sophie Wright',\n",
    "    'Miles Harrison',\n",
    "    'Isabella Wright',\n",
    "    'Lucas Patel',\n",
    "    'Chloe Murphy',\n",
    "    'Leo Rodriguez',\n",
    "    'Ella Lee',\n",
    "    'David Kim',\n",
    "    'Emily Chen',\n",
    "    'Oliver Davis',\n",
    "    'Lily Robinson',\n",
    "    'Caleb Adams',\n",
    "    'Ava wright',\n",
    "    'Nathan Garcia',\n",
    "    'Grace Hernandez',\n",
    "    'Ethan Brown',\n",
    "    'Avery Taylor',\n",
    "    'Jacob WrighT'\n",
    "]"
   ]
  },
  {
   "cell_type": "code",
   "execution_count": 2,
   "id": "abbcc6d6-f7c5-4bca-aec8-ab5bfec86663",
   "metadata": {
    "tags": []
   },
   "outputs": [
    {
     "name": "stdout",
     "output_type": "stream",
     "text": [
      "['Thompson, Amelia', 'Martinez, Oscar', 'Wright, Sophie', 'Harrison, Miles', 'Wright, Isabella', 'Patel, Lucas', 'Murphy, Chloe', 'Rodriguez, Leo', 'Lee, Ella', 'Kim, David', 'Chen, Emily', 'Davis, Oliver', 'Robinson, Lily', 'Adams, Caleb', 'wright, Ava', 'Garcia, Nathan', 'Hernandez, Grace', 'Brown, Ethan', 'Taylor, Avery', 'WrighT, Jacob']\n",
      "There are 4 names with lastname Wright\n"
     ]
    }
   ],
   "source": [
    "# your program here\n",
    "names_lf = []\n",
    "num_wright = 0\n",
    "\n",
    "for name in names:\n",
    "    # parse name into first and last name\n",
    "    elements = name.split(\" \")\n",
    "    # firstname is the first thing\n",
    "    firstname = elements[0]\n",
    "    # lastname is the second thing\n",
    "    lastname = elements[1]\n",
    "    \n",
    "    # make the lastname, firstname format\n",
    "    name_lf = lastname + \", \" + firstname\n",
    "    # add it to our new list\n",
    "    names_lf.append(name_lf)\n",
    "    \n",
    "    # normalize the lastname by turning into lowercase\n",
    "    lastname_lower = lastname.lower()\n",
    "    # check if it's wright\n",
    "    if lastname_lower == \"wright\":\n",
    "        # update our count\n",
    "        num_wright += 1\n",
    "\n",
    "print(names_lf)        \n",
    "        \n",
    "# make our message\n",
    "print(f\"There are {num_wright} names with lastname Wright\")"
   ]
  },
  {
   "cell_type": "markdown",
   "id": "04bd2443-4896-4150-a8b5-985c165e2a19",
   "metadata": {},
   "source": [
    "Variant:\n",
    "- unpack split into variables immediately (`firstname, lastname = names.split(\" \")`) instead of storing resulting list in intermediate variable and then grabbing elements by indexing\n",
    "- use f strings to join"
   ]
  },
  {
   "cell_type": "code",
   "execution_count": 3,
   "id": "cfb7d0aa-8178-4caf-a2ff-4a3df813cb0a",
   "metadata": {},
   "outputs": [
    {
     "name": "stdout",
     "output_type": "stream",
     "text": [
      "['Thompson, Amelia', 'Martinez, Oscar', 'Wright, Sophie', 'Harrison, Miles', 'Wright, Isabella', 'Patel, Lucas', 'Murphy, Chloe', 'Rodriguez, Leo', 'Lee, Ella', 'Kim, David', 'Chen, Emily', 'Davis, Oliver', 'Robinson, Lily', 'Adams, Caleb', 'wright, Ava', 'Garcia, Nathan', 'Hernandez, Grace', 'Brown, Ethan', 'Taylor, Avery', 'WrighT, Jacob']\n",
      "There are 4 names with lastname Wright\n"
     ]
    }
   ],
   "source": [
    "# your program here\n",
    "names_lf = []\n",
    "num_wright = 0\n",
    "\n",
    "for name in names:\n",
    "    \n",
    "    # parse name into first and last name\n",
    "    firstname, lastname = name.split(\" \")\n",
    "    \n",
    "    # make the lastname, firstname format and append to output list\n",
    "    names_lf.append(f\"{lastname}, {firstname}\")\n",
    "    \n",
    "    # check if last name is wright (making sure to normalize to account for variant lower/uppercase)\n",
    "    if lastname.lower() == \"wright\":\n",
    "        # update count of wright last names if so\n",
    "        num_wright += 1\n",
    "        \n",
    "print(names_lf)        \n",
    "        \n",
    "# make our message\n",
    "print(f\"There are {num_wright} names with lastname Wright\")"
   ]
  },
  {
   "cell_type": "markdown",
   "id": "ae49b770-a954-4656-9435-3345f5e351a5",
   "metadata": {},
   "source": [
    "Variant:\n",
    "- First use `.map()` to transform list from firstname lastname to lastname, firstname\n",
    "- Then do counting pattern\n",
    "\n",
    "This might be preferable if you want to more clearly separate out the operations.\n",
    "\n",
    "But it's a little wasteful bc you're doing iterations twice: once for mapping, and once for counting (vs. above where you do the transformation and counting operations within the same loop."
   ]
  },
  {
   "cell_type": "code",
   "execution_count": 4,
   "id": "d0786f66-3695-4d93-9cbd-af74d26589a1",
   "metadata": {},
   "outputs": [
    {
     "name": "stdout",
     "output_type": "stream",
     "text": [
      "['Thompson, Amelia', 'Martinez, Oscar', 'Wright, Sophie', 'Harrison, Miles', 'Wright, Isabella', 'Patel, Lucas', 'Murphy, Chloe', 'Rodriguez, Leo', 'Lee, Ella', 'Kim, David', 'Chen, Emily', 'Davis, Oliver', 'Robinson, Lily', 'Adams, Caleb', 'wright, Ava', 'Garcia, Nathan', 'Hernandez, Grace', 'Brown, Ethan', 'Taylor, Avery', 'WrighT, Jacob']\n",
      "There are 4 names with lastname Wright\n"
     ]
    }
   ],
   "source": [
    "# function for converting\n",
    "def to_lf_format(name):\n",
    "    # parse name into first and last name\n",
    "    firstname, lastname = name.split(\" \")\n",
    "    \n",
    "    # convert\n",
    "    output = f\"{lastname}, {firstname}\"\n",
    "    \n",
    "    return output\n",
    "\n",
    "# map from fl to lf format\n",
    "names_lf = list(map(to_lf_format, names))\n",
    "\n",
    "# count lastname wright\n",
    "num_wright = 0\n",
    "\n",
    "for name in names_lf:\n",
    "    \n",
    "    # get last name (it's the first item in the split)\n",
    "    lastname = name.split(\",\")[0]\n",
    "    \n",
    "    # check if last name is wright (making sure to normalize to account for variant lower/uppercase)\n",
    "    if lastname.lower() == \"wright\":\n",
    "        # update count of wright last names if so\n",
    "        num_wright += 1\n",
    "        \n",
    "print(names_lf)        \n",
    "        \n",
    "# make our message\n",
    "print(f\"There are {num_wright} names with lastname Wright\")"
   ]
  },
  {
   "cell_type": "markdown",
   "id": "5a904150-e2d6-42cc-90f5-e352abf428d1",
   "metadata": {
    "tags": []
   },
   "source": [
    "## Clean dataset\n",
    "\n",
    "Clean this dataset. The values should all be between 0 and 100. Anything above 100 is an outlier. Anything coded -999 is a missing value. Compute the average value of the cleaned dataset (i.e., w/ outliers and missing removed), and report how many outliers and missing values there are. Your output message shoudl only show 3 decimal points.\n",
    "\n",
    "Here is the correct output:\n",
    "\n",
    "`[67, 96, 95, 78, 36, 94, 67, 85, 96, 60, 73, 45, 6, 17, 24, 82, 82, 100, 44, 81, 12, 60]`\n",
    "\n",
    "`After removing 4 missing values and 4 outliers, average value is 63.636`"
   ]
  },
  {
   "cell_type": "code",
   "execution_count": 5,
   "id": "1a6abbe9-2aba-4868-8bd3-81be44862ec7",
   "metadata": {},
   "outputs": [],
   "source": [
    "# make sure you run this cell before you attempt your program\n",
    "data = ['67', '96', '95', '78', '36', '94', '67', '85', '96', '60', '73', '45', '6', '17', '24', '82', '125', '150', '136', '106', '82', '100', '44', '81', '12', '-999', '-999', '-999', '-999', '60']"
   ]
  },
  {
   "cell_type": "code",
   "execution_count": 6,
   "id": "435f753b-3a2f-4554-9122-8885d60d37d8",
   "metadata": {},
   "outputs": [
    {
     "name": "stdout",
     "output_type": "stream",
     "text": [
      "[67, 96, 95, 78, 36, 94, 67, 85, 96, 60, 73, 45, 6, 17, 24, 82, 82, 100, 44, 81, 12, 60]\n",
      "After removing 4 missing values and 4 outliers, average value is 63.636\n"
     ]
    }
   ],
   "source": [
    "# your program here\n",
    "\n",
    "clean = []\n",
    "\n",
    "num_missing = 0\n",
    "num_outliers = 0\n",
    "\n",
    "for item in data:\n",
    "    \n",
    "    # convert to number\n",
    "    num = int(item)\n",
    "    \n",
    "    # check if missing or outlier\n",
    "    if num < 0:\n",
    "        num_missing += 1\n",
    "    elif num > 100:\n",
    "        num_outliers += 1\n",
    "    else:\n",
    "        clean.append(num)\n",
    "\n",
    "print(clean)\n",
    "\n",
    "print(f\"After removing {num_missing} missing values and {num_outliers} outliers, average value is {sum(clean)/len(clean):.3f}\")"
   ]
  },
  {
   "cell_type": "markdown",
   "id": "01a94064-16ff-4452-bda7-748eff53ee94",
   "metadata": {},
   "source": [
    "## Process submissions (with late penalties and exceptions)\n",
    "\n",
    "Here is a list of submissions that I want you to process.\n",
    "\n",
    "The submissions have three parts to them (separated by commas):\n",
    "1. The score (0 to 100)\n",
    "2. A value that indicates whether the submission was late (0 or 1)\n",
    "3. A value that indicates whether the submission had a late exception\n",
    "\n",
    "Produce a final list of scores that applies a late penalty (reduce score by 20%) unless the submission has a late exception. \n",
    "\n",
    "Also, report:\n",
    "1. The average score of the final list (M)\n",
    "2. The number of non-exempted late submissions (N)\n",
    "\n",
    "In the following format:\n",
    "`\"The average score (after penalizing N late submissions) is M\"`\n",
    "\n",
    "Make sure M is formatted with only 2 decimal points.\n",
    "\n",
    "Here is the correct output:\n",
    "\n",
    "`[62, 80, 5, 12.0, 64.0, 97, 61, 20, 56, 74, 73, 89, 57, 27.200000000000003, 63, 2, 27, 60, 33, 65.60000000000001]`\n",
    "\n",
    "`The average score (after penalizing 4 late submissions) is 51.39`"
   ]
  },
  {
   "cell_type": "code",
   "execution_count": 7,
   "id": "74f56354-ad42-41ac-a268-9a62f45b1631",
   "metadata": {},
   "outputs": [],
   "source": [
    "# make sure you run this cell before you attempt your program\n",
    "submissions = ['62,0,0', '80,0,0', '5,0,0', '15,1,0', '80,1,0', '97,0,0', '61,0,0', '20,1,1', '56,0,0', '74,0,0', '73,0,0', '89,0,0', '57,0,0', '34,1,0', '63,0,0', '2,0,0', '27,0,0', '60,0,0', '33,1,1', '82,1,0']"
   ]
  },
  {
   "cell_type": "code",
   "execution_count": 8,
   "id": "04575542-012b-4db3-a7ba-5f6afff49191",
   "metadata": {},
   "outputs": [
    {
     "name": "stdout",
     "output_type": "stream",
     "text": [
      "There are 20 submissions\n",
      "Processing a submission...\n",
      "Processing a submission...\n",
      "Processing a submission...\n",
      "Processing a submission...\n",
      "We found a late submission\n",
      "Processing a submission...\n",
      "We found a late submission\n",
      "Processing a submission...\n",
      "Processing a submission...\n",
      "Processing a submission...\n",
      "Processing a submission...\n",
      "Processing a submission...\n",
      "Processing a submission...\n",
      "Processing a submission...\n",
      "Processing a submission...\n",
      "Processing a submission...\n",
      "We found a late submission\n",
      "Processing a submission...\n",
      "Processing a submission...\n",
      "Processing a submission...\n",
      "Processing a submission...\n",
      "Processing a submission...\n",
      "Processing a submission...\n",
      "We found a late submission\n",
      "[62, 80, 5, 12.0, 64.0, 97, 61, 20, 56, 74, 73, 89, 57, 27.200000000000003, 63, 2, 27, 60, 33, 65.60000000000001]\n"
     ]
    },
    {
     "ename": "NameError",
     "evalue": "name 'avg' is not defined",
     "output_type": "error",
     "traceback": [
      "\u001b[0;31m---------------------------------------------------------------------------\u001b[0m",
      "\u001b[0;31mNameError\u001b[0m                                 Traceback (most recent call last)",
      "\u001b[0;32m/var/folders/xz/_hjc5hsx743dclmg8n5678nc0000gn/T/ipykernel_7473/4273460477.py\u001b[0m in \u001b[0;36m<module>\u001b[0;34m\u001b[0m\n\u001b[1;32m     37\u001b[0m \u001b[0mprint\u001b[0m\u001b[0;34m(\u001b[0m\u001b[0mfinal_scores\u001b[0m\u001b[0;34m)\u001b[0m\u001b[0;34m\u001b[0m\u001b[0;34m\u001b[0m\u001b[0m\n\u001b[1;32m     38\u001b[0m \u001b[0;31m# print out message\u001b[0m\u001b[0;34m\u001b[0m\u001b[0;34m\u001b[0m\u001b[0m\n\u001b[0;32m---> 39\u001b[0;31m \u001b[0mprint\u001b[0m\u001b[0;34m(\u001b[0m\u001b[0;34mf\"The average score (after penalizing {num_penalized} late submissions) is {avg:.2f}\"\u001b[0m\u001b[0;34m)\u001b[0m\u001b[0;34m\u001b[0m\u001b[0;34m\u001b[0m\u001b[0m\n\u001b[0m",
      "\u001b[0;31mNameError\u001b[0m: name 'avg' is not defined"
     ]
    }
   ],
   "source": [
    "# your program here\n",
    "\n",
    "final_scores = []\n",
    "num_penalized = 0\n",
    "\n",
    "print(f\"There are {len(submissions)} submissions\")\n",
    "\n",
    "for submission in submissions:\n",
    "    \n",
    "    print(\"Processing a submission...\")\n",
    "    \n",
    "    # parse the submission into parts\n",
    "    score, isLate, hasException = submission.split(\",\")\n",
    "    \n",
    "    # convert score to number\n",
    "    score = int(score)\n",
    "    \n",
    "    # check if the submission is late\n",
    "    # and does not have an exception\n",
    "    if isLate == \"1\" and hasException == \"0\":\n",
    "        \n",
    "        print(\"We found a late submission\")\n",
    "        \n",
    "        # apply late penalty\n",
    "        score = score*(1-0.2)\n",
    "        \n",
    "        # update count of penalized submission\n",
    "        num_penalized += 1\n",
    "        \n",
    "    # add the score to the final list\n",
    "    final_scores.append(score)\n",
    "\n",
    "# compute average of final score\n",
    "# avg = sum(final_scores)/len(final_scores)\n",
    "    \n",
    "# print out scores\n",
    "print(final_scores)\n",
    "# print out message\n",
    "print(f\"The average score (after penalizing {num_penalized} late submissions) is {avg:.2f}\")"
   ]
  },
  {
   "cell_type": "code",
   "execution_count": null,
   "id": "428c1ebe-8417-4601-9f03-a7b2c7201a0d",
   "metadata": {},
   "outputs": [],
   "source": [
    "submission = '62,0,0'\n",
    "# write some code to spit out\n",
    "# 1) score (is in int)\n",
    "# 2) late status\n",
    "# 3) exception status"
   ]
  },
  {
   "cell_type": "code",
   "execution_count": 12,
   "id": "568f32a5-5e35-4c46-b19a-a56b3c745e75",
   "metadata": {},
   "outputs": [
    {
     "data": {
      "text/plain": [
       "[62, 5, 12.0, 61, 20, 56, 57, 27.200000000000003, 2, 27, 60, 33]"
      ]
     },
     "execution_count": 14,
     "metadata": {},
     "output_type": "execute_result"
    }
   ],
   "source": [
    "list(filter(lambda x: x < 63, final_scores))"
   ]
  },
  {
   "cell_type": "code",
   "execution_count": 27,
   "id": "eb6532ec-f91f-4319-b810-b7751e56f667",
   "metadata": {},
   "outputs": [
    {
     "data": {
      "text/plain": [
       "[62, 5, 12.0, 61, 20, 56, 57, 27.200000000000003, 2, 27, 60, 33]"
      ]
     },
     "execution_count": 27,
     "metadata": {},
     "output_type": "execute_result"
    }
   ],
   "source": [
    "def is_failing(score):\n",
    "    return score < 63\n",
    "\n",
    "list(filter(is_failing, final_scores))"
   ]
  },
  {
   "cell_type": "code",
   "execution_count": null,
   "id": "9455adfd-4d9f-4e7d-94d7-57057ff8d169",
   "metadata": {},
   "outputs": [],
   "source": []
  }
 ],
 "metadata": {
  "kernelspec": {
   "display_name": "Python 3 (ipykernel)",
   "language": "python",
   "name": "python3"
  },
  "language_info": {
   "codemirror_mode": {
    "name": "ipython",
    "version": 3
   },
   "file_extension": ".py",
   "mimetype": "text/x-python",
   "name": "python",
   "nbconvert_exporter": "python",
   "pygments_lexer": "ipython3",
   "version": "3.9.7"
  }
 },
 "nbformat": 4,
 "nbformat_minor": 5
}