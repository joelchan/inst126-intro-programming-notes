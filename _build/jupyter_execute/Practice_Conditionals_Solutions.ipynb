{
 "cells": [
  {
   "cell_type": "markdown",
   "id": "a1c32fdf-fcf2-444b-8d34-a611820d82b2",
   "metadata": {},
   "source": [
    "## Simple conditionals"
   ]
  },
  {
   "cell_type": "markdown",
   "id": "e01675a5-e75b-41fb-b37c-cdb296dfa9d3",
   "metadata": {},
   "source": [
    "### P1 - Divisible by 5?\n",
    "\n",
    "Write a function called is_divisible_by_five that takes a number as input and returns True if the number is divisible by 5, and False if it's not."
   ]
  },
  {
   "cell_type": "code",
   "execution_count": 1,
   "id": "0b8e0f0a-91ad-48d3-a9cb-07c4c26a7fc9",
   "metadata": {},
   "outputs": [],
   "source": [
    "# define\n",
    "def is_divisible(number):\n",
    "    if number % 5 == 0:\n",
    "        return True\n",
    "    else:\n",
    "        return False\n",
    "    \n",
    "# v2\n",
    "# define\n",
    "def is_divisible_any(x, y):\n",
    "    if x % y == 0:\n",
    "        result = True\n",
    "    else:\n",
    "        result = False\n",
    "    return result\n",
    "        \n",
    "# v3\n",
    "# define\n",
    "def is_divisible(number):\n",
    "    result = number % 5 == 0\n",
    "    return result\n",
    "\n",
    "# v5\n",
    "# define\n",
    "def is_divisible(number):\n",
    "    result = False\n",
    "    if number % 5 == 0:\n",
    "        result = True\n",
    "    return result"
   ]
  },
  {
   "cell_type": "code",
   "execution_count": 2,
   "id": "a88da38c-46e1-4a55-aa4b-962ddd0eb9ed",
   "metadata": {},
   "outputs": [
    {
     "data": {
      "text/plain": [
       "False"
      ]
     },
     "execution_count": 2,
     "metadata": {},
     "output_type": "execute_result"
    }
   ],
   "source": [
    "# call\n",
    "number = 6\n",
    "is_divisible(number=number)"
   ]
  },
  {
   "cell_type": "code",
   "execution_count": 3,
   "id": "a121de39-1d4c-4a4c-acda-ddd5cbad596c",
   "metadata": {},
   "outputs": [
    {
     "data": {
      "text/plain": [
       "False"
      ]
     },
     "execution_count": 3,
     "metadata": {},
     "output_type": "execute_result"
    }
   ],
   "source": [
    "is_divisible_any(x=6, y=5)"
   ]
  },
  {
   "cell_type": "markdown",
   "id": "24503ca3-f302-4242-b5ba-92cb8d1f488d",
   "metadata": {},
   "source": [
    "### P2 - Is odd?\n",
    "\n",
    "Write a function called `is_odd` that takes a number as input and returns True if the number is odd, and False if it's not."
   ]
  },
  {
   "cell_type": "code",
   "execution_count": 4,
   "id": "08055fa3-82fb-40f3-992a-bd086a9da35d",
   "metadata": {},
   "outputs": [],
   "source": [
    "# define\n",
    "def is_odd(num):\n",
    "    # num is not divisible by 2\n",
    "    if num % 2 != 0:\n",
    "        result = True\n",
    "    else:\n",
    "        result = False\n",
    "    return result"
   ]
  },
  {
   "cell_type": "code",
   "execution_count": 5,
   "id": "cde22130-b096-4c44-9348-7a93fc9cdebd",
   "metadata": {},
   "outputs": [
    {
     "data": {
      "text/plain": [
       "False"
      ]
     },
     "execution_count": 5,
     "metadata": {},
     "output_type": "execute_result"
    }
   ],
   "source": [
    "# call\n",
    "is_odd(4)"
   ]
  },
  {
   "cell_type": "markdown",
   "id": "7ba65bd4-b6b5-42f7-9520-9b0d71d16bc3",
   "metadata": {},
   "source": [
    "## Chained conditionals"
   ]
  },
  {
   "cell_type": "markdown",
   "id": "754d629a-02db-4cf7-a8c5-bc292d59d233",
   "metadata": {},
   "source": [
    "### P3 - Train ticket\n",
    "\n",
    "Write a function called train_ticket that takes a distance as input, and returns either \"purchase local ticket\" (if distance is 50 miles or less  than 50 miles), \"purchase express ticket\" (if distance is between 50 and 100 miles), or \"purchase first-class express ticket\" (if distance is 100 miles or more)."
   ]
  },
  {
   "cell_type": "code",
   "execution_count": 6,
   "id": "d599f3f4-2b4b-4179-a146-817f5a8d18bd",
   "metadata": {},
   "outputs": [],
   "source": [
    "# v1\n",
    "def train_ticket(distance):\n",
    "    if distance <= 50:\n",
    "        result = \"purchase local ticket\"\n",
    "    # we don't need to check > 50 because of the previous condition \n",
    "    elif distance >= 50 and distance < 100: \n",
    "        result = \"purchase express ticket\"\n",
    "    elif distance >= 100:\n",
    "        result = \"purchase first-class express ticket\"\n",
    "    return result\n",
    "\n",
    "# # v2\n",
    "# def train_ticket(distance):\n",
    "#     if distance <= 50:\n",
    "#         result = \"purchase local ticket\"\n",
    "#     elif distance < 100:\n",
    "#         result = \"purchase express ticket\"\n",
    "#     elif distance >= 100:\n",
    "#         result = \"purchase first-class express ticket\"\n",
    "#     return result"
   ]
  },
  {
   "cell_type": "code",
   "execution_count": 7,
   "id": "e299f9e1-ca4a-4525-b932-92a79bbd5ca8",
   "metadata": {},
   "outputs": [
    {
     "data": {
      "text/plain": [
       "str"
      ]
     },
     "execution_count": 7,
     "metadata": {},
     "output_type": "execute_result"
    }
   ],
   "source": [
    "# call\n",
    "ticket = train_ticket(35)\n",
    "type(ticket)"
   ]
  },
  {
   "cell_type": "markdown",
   "id": "b188e055-016f-40d5-80d0-c3227cf735fe",
   "metadata": {},
   "source": [
    "### P4 - Grader\n",
    "\n",
    "Write a function called score_to_grade that takes a score (from 1 to 100) as input and returns the corresponding letter grade (don't worry about - or +).\n",
    "\n",
    "Here is the mapping: \n",
    "\n",
    "- 93 and up --> A\n",
    "- 83 and up --> B\n",
    "- 73 and up --> C\n",
    "- 63 and up --> D\n",
    "- anything else --> F"
   ]
  },
  {
   "cell_type": "code",
   "execution_count": 8,
   "id": "23b3925b-02f2-4011-9f83-c96d85dbfed2",
   "metadata": {},
   "outputs": [],
   "source": [
    "# v1\n",
    "def score_to_grade(score):\n",
    "    if score >= 93:\n",
    "        result = \"A\"\n",
    "    elif score >= 83:\n",
    "        result = \"B\"\n",
    "    elif score >= 73:\n",
    "        result = \"C\"\n",
    "    elif score >= 63:\n",
    "        result = \"D\"\n",
    "    else:\n",
    "        result = \"F\"\n",
    "    return result"
   ]
  },
  {
   "cell_type": "code",
   "execution_count": 9,
   "id": "748a5eeb-a396-4671-bf06-3527c2f642fe",
   "metadata": {},
   "outputs": [
    {
     "name": "stdout",
     "output_type": "stream",
     "text": [
      "B\n"
     ]
    }
   ],
   "source": [
    "# call\n",
    "result = score_to_grade(85)\n",
    "print(result)"
   ]
  },
  {
   "cell_type": "markdown",
   "id": "cb0b3a0f-a703-4143-9a5e-d57cea727715",
   "metadata": {},
   "source": [
    "## Compound Boolean expressions"
   ]
  },
  {
   "cell_type": "markdown",
   "id": "d5329b6b-6acd-414c-b9f7-fd155985a441",
   "metadata": {},
   "source": [
    "## P5 - Triage laptop to buy\n",
    "\n",
    "Write a filter for a person buying a laptop called laptop_triage. The parameters are os (windows, mac or linux), battery life (0 to n hours), and cost (0 to N dollars). The buyer doesn't want a windows laptop, but is willing to consider either mac or linux. They also need the battery life (in hours) to be at least 10, and the cost to be less than 1250."
   ]
  },
  {
   "cell_type": "code",
   "execution_count": 10,
   "id": "28a46409-9793-483e-9a85-f34bb484c22f",
   "metadata": {},
   "outputs": [],
   "source": [
    "# define\n",
    "def laptop_triage(os, batteryLife, cost):\n",
    "    result = \"not buying\"\n",
    "    if os != \"windows\" and batteryLife >= 10 and cost < 1250:\n",
    "        result = \"buy\"\n",
    "    return result"
   ]
  },
  {
   "cell_type": "code",
   "execution_count": 11,
   "id": "ebe82f1d-9b54-4f23-b4df-3511a99204cb",
   "metadata": {},
   "outputs": [
    {
     "data": {
      "text/plain": [
       "'not buying'"
      ]
     },
     "execution_count": 11,
     "metadata": {},
     "output_type": "execute_result"
    }
   ],
   "source": [
    "# call\n",
    "laptop_triage(\"mac\", 12, 1500)"
   ]
  },
  {
   "cell_type": "markdown",
   "id": "0136c3c2-feb9-4805-9377-f7ea1d35df56",
   "metadata": {
    "tags": []
   },
   "source": [
    "### P6 - Movie recommender\n",
    "\n",
    "Write a function called movie_rating for a person who is not too picky on movie quality (rating needs to be at least 6 out of 10 for any movie), but is somewhat picky on genre (only wants to watch movies that are action or comedy, hates drama, but will consider it if it's amazing on ratings, i.e., 9 or 10). The function will take a rating and a genre (action, comedy, drama) as inputs, and returns either \"recommended\" (if rating is at least 6 and genre is action or comedy), \"check it out\" (if rating is at least 9 and genre is drama), or \"skip it\" (for all other conditions)."
   ]
  },
  {
   "cell_type": "code",
   "execution_count": 12,
   "id": "49b68bbb-fb67-4e89-8cbe-fa6499ebf957",
   "metadata": {},
   "outputs": [],
   "source": [
    "# define\n",
    "def movie_rating(rating, genre):\n",
    "    if rating >= 6 and (genre == \"action\" or genre == \"comedy\"):\n",
    "        return \"recommended\"\n",
    "    elif rating >= 9 and genre == \"drama\":\n",
    "        return \"check it out\"\n",
    "    else:\n",
    "        return \"skip it\""
   ]
  },
  {
   "cell_type": "code",
   "execution_count": 13,
   "id": "2b6612d6-ec9d-407f-95af-2ec0d813049c",
   "metadata": {},
   "outputs": [
    {
     "data": {
      "text/plain": [
       "'recommended'"
      ]
     },
     "execution_count": 13,
     "metadata": {},
     "output_type": "execute_result"
    }
   ],
   "source": [
    "# call\n",
    "movie_rating(6, \"comedy\")"
   ]
  },
  {
   "cell_type": "code",
   "execution_count": null,
   "id": "c94c2986-35c2-4a62-9528-04714603cf58",
   "metadata": {},
   "outputs": [],
   "source": []
  }
 ],
 "metadata": {
  "kernelspec": {
   "display_name": "Python 3 (ipykernel)",
   "language": "python",
   "name": "python3"
  },
  "language_info": {
   "codemirror_mode": {
    "name": "ipython",
    "version": 3
   },
   "file_extension": ".py",
   "mimetype": "text/x-python",
   "name": "python",
   "nbconvert_exporter": "python",
   "pygments_lexer": "ipython3",
   "version": "3.9.7"
  }
 },
 "nbformat": 4,
 "nbformat_minor": 5
}