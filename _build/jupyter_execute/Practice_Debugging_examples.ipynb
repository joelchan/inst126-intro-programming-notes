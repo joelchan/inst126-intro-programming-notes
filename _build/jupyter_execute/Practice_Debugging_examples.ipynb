{
 "cells": [
  {
   "cell_type": "markdown",
   "metadata": {
    "id": "ObSubDjaEtPK"
   },
   "source": [
    "# Practice: Debugging\n",
    "\n",
    "## Semantic Errors\n",
    "\n",
    "Semantic errors come about when your program does not work as it is supposed to. These usually do not lead to an actual error message, the program instead outputs something you did not expect or want, or does not output anything when you were expecting it to."
   ]
  },
  {
   "cell_type": "markdown",
   "metadata": {
    "id": "C1iRRxXuKNOr"
   },
   "source": [
    "### Example 1\n",
    "\n",
    "Intent: program that takes two numbers by user input, adds them together, and prints the sum\n",
    "\n",
    "#### Reproducible example"
   ]
  },
  {
   "cell_type": "code",
   "execution_count": 1,
   "metadata": {
    "colab": {
     "base_uri": "https://localhost:8080/"
    },
    "id": "LT6-XER2KRIc",
    "outputId": "53fc71ff-3ae8-4377-a7c1-66f0b2296030"
   },
   "outputs": [
    {
     "ename": "StdinNotImplementedError",
     "evalue": "raw_input was called, but this frontend does not support input requests.",
     "output_type": "error",
     "traceback": [
      "\u001b[0;31m---------------------------------------------------------------------------\u001b[0m",
      "\u001b[0;31mStdinNotImplementedError\u001b[0m                  Traceback (most recent call last)",
      "\u001b[0;32m/var/folders/xz/_hjc5hsx743dclmg8n5678nc0000gn/T/ipykernel_56305/2485259710.py\u001b[0m in \u001b[0;36m<module>\u001b[0;34m\u001b[0m\n\u001b[0;32m----> 1\u001b[0;31m \u001b[0mnum1\u001b[0m \u001b[0;34m=\u001b[0m \u001b[0minput\u001b[0m\u001b[0;34m(\u001b[0m\u001b[0;34m'Enter a number:'\u001b[0m\u001b[0;34m)\u001b[0m\u001b[0;34m\u001b[0m\u001b[0;34m\u001b[0m\u001b[0m\n\u001b[0m\u001b[1;32m      2\u001b[0m \u001b[0mnum2\u001b[0m \u001b[0;34m=\u001b[0m \u001b[0minput\u001b[0m\u001b[0;34m(\u001b[0m\u001b[0;34m'Enter another number:'\u001b[0m\u001b[0;34m)\u001b[0m\u001b[0;34m\u001b[0m\u001b[0;34m\u001b[0m\u001b[0m\n\u001b[1;32m      3\u001b[0m \u001b[0mresult\u001b[0m \u001b[0;34m=\u001b[0m \u001b[0mnum1\u001b[0m \u001b[0;34m+\u001b[0m \u001b[0mnum2\u001b[0m\u001b[0;34m\u001b[0m\u001b[0;34m\u001b[0m\u001b[0m\n\u001b[1;32m      4\u001b[0m \u001b[0mprint\u001b[0m\u001b[0;34m(\u001b[0m\u001b[0;34m'The sum of'\u001b[0m\u001b[0;34m,\u001b[0m \u001b[0mnum1\u001b[0m\u001b[0;34m,\u001b[0m \u001b[0;34m'and'\u001b[0m\u001b[0;34m,\u001b[0m \u001b[0mnum2\u001b[0m\u001b[0;34m,\u001b[0m \u001b[0;34m'is'\u001b[0m\u001b[0;34m,\u001b[0m \u001b[0mresult\u001b[0m\u001b[0;34m)\u001b[0m\u001b[0;34m\u001b[0m\u001b[0;34m\u001b[0m\u001b[0m\n",
      "\u001b[0;32m~/opt/anaconda3/lib/python3.9/site-packages/ipykernel/kernelbase.py\u001b[0m in \u001b[0;36mraw_input\u001b[0;34m(self, prompt)\u001b[0m\n\u001b[1;32m   1001\u001b[0m         \"\"\"\n\u001b[1;32m   1002\u001b[0m         \u001b[0;32mif\u001b[0m \u001b[0;32mnot\u001b[0m \u001b[0mself\u001b[0m\u001b[0;34m.\u001b[0m\u001b[0m_allow_stdin\u001b[0m\u001b[0;34m:\u001b[0m\u001b[0;34m\u001b[0m\u001b[0;34m\u001b[0m\u001b[0m\n\u001b[0;32m-> 1003\u001b[0;31m             raise StdinNotImplementedError(\n\u001b[0m\u001b[1;32m   1004\u001b[0m                 \u001b[0;34m\"raw_input was called, but this frontend does not support input requests.\"\u001b[0m\u001b[0;34m\u001b[0m\u001b[0;34m\u001b[0m\u001b[0m\n\u001b[1;32m   1005\u001b[0m             )\n",
      "\u001b[0;31mStdinNotImplementedError\u001b[0m: raw_input was called, but this frontend does not support input requests."
     ]
    }
   ],
   "source": [
    "num1 = input('Enter a number:') \n",
    "num2 = input('Enter another number:') \n",
    "result = num1 + num2 \n",
    "print('The sum of', num1, 'and', num2, 'is', result)"
   ]
  },
  {
   "cell_type": "markdown",
   "metadata": {},
   "source": [
    "#### Debugging notes"
   ]
  },
  {
   "cell_type": "code",
   "execution_count": null,
   "metadata": {
    "id": "wMaJlty2UnZV"
   },
   "outputs": [],
   "source": [
    "# debugging notes here!\n",
    "\n",
    "# what did you expect?\n",
    "\n",
    "# what did you see instead?\n",
    "\n",
    "# what do you think is going on? what's the mismatch between your model and the computer's?\n",
    "# checklist of strategies to draw from:\n",
    "# [ ] model\n",
    "# [ ] document/comment the code\n",
    "# [ ] test with diff. inputs\n",
    "# [ ] add print statements to help model what is happening / use python tutor"
   ]
  },
  {
   "cell_type": "markdown",
   "metadata": {},
   "source": [
    "#### Fixed version:"
   ]
  },
  {
   "cell_type": "code",
   "execution_count": null,
   "metadata": {},
   "outputs": [],
   "source": []
  },
  {
   "cell_type": "markdown",
   "metadata": {},
   "source": [
    "#### Explanation of fix:"
   ]
  },
  {
   "cell_type": "code",
   "execution_count": null,
   "metadata": {},
   "outputs": [],
   "source": []
  },
  {
   "cell_type": "markdown",
   "metadata": {
    "id": "E0DyH3w2KP7B"
   },
   "source": [
    "### Example 2\n",
    "\n",
    "Intent: program that subtracts 2 from a given number until it reaches 0 \n",
    "\n",
    "#### Reproducible example"
   ]
  },
  {
   "cell_type": "code",
   "execution_count": 1,
   "metadata": {
    "colab": {
     "base_uri": "https://localhost:8080/"
    },
    "id": "OoyNoz3xL5zq",
    "outputId": "74009f8a-cea6-4eac-c317-adc223e10d06",
    "scrolled": true,
    "tags": []
   },
   "outputs": [
    {
     "name": "stdout",
     "output_type": "stream",
     "text": [
      "num is now 28\n",
      "num is now 26\n",
      "num is now 24\n",
      "num is now 22\n",
      "num is now 20\n",
      "num is now 18\n",
      "num is now 16\n",
      "num is now 14\n",
      "num is now 12\n",
      "num is now 10\n",
      "num is now 8\n",
      "num is now 6\n",
      "num is now 4\n",
      "num is now 2\n",
      "num is now 0\n",
      "num is now -2\n"
     ]
    }
   ],
   "source": [
    "num = 30 \n",
    "while num >= 0: \n",
    "    num = num - 2 \n",
    "    print(f'num is now {num}') "
   ]
  },
  {
   "cell_type": "markdown",
   "metadata": {},
   "source": [
    "#### Debugging notes"
   ]
  },
  {
   "cell_type": "code",
   "execution_count": 2,
   "metadata": {
    "id": "wMaJlty2UnZV"
   },
   "outputs": [],
   "source": [
    "# debugging notes here!\n",
    "\n",
    "# what did you expect?\n",
    "\n",
    "# what did you see instead?\n",
    "\n",
    "# what do you think is going on? what's the mismatch between your model and the computer's?\n",
    "# checklist of strategies to draw from:\n",
    "# [ ] model\n",
    "# [ ] document/comment the code\n",
    "# [ ] test with diff. inputs\n",
    "# [ ] add print statements to help model what is happening / use python tutor"
   ]
  },
  {
   "cell_type": "markdown",
   "metadata": {},
   "source": [
    "#### Fixed version:"
   ]
  },
  {
   "cell_type": "code",
   "execution_count": null,
   "metadata": {},
   "outputs": [],
   "source": []
  },
  {
   "cell_type": "markdown",
   "metadata": {},
   "source": [
    "#### Explanation of fix:"
   ]
  },
  {
   "cell_type": "code",
   "execution_count": null,
   "metadata": {},
   "outputs": [],
   "source": []
  },
  {
   "cell_type": "markdown",
   "metadata": {
    "id": "U1NTw-_YOnX-"
   },
   "source": [
    "### Example 3\n",
    "\n",
    "Intent: program that prints all even numbers from 1 to 10\n",
    "\n",
    "#### Reproducible example"
   ]
  },
  {
   "cell_type": "code",
   "execution_count": 3,
   "metadata": {
    "colab": {
     "base_uri": "https://localhost:8080/"
    },
    "id": "RbXoLSMBOn4T",
    "outputId": "bfadb405-61cc-44dd-b06f-b52355fe4e18",
    "scrolled": true
   },
   "outputs": [
    {
     "name": "stdout",
     "output_type": "stream",
     "text": [
      "[1, 2, 3, 4, 5, 6, 7, 8, 9, 10]\n",
      "[1, 2, 3, 4, 5, 6, 7, 8, 9, 10]\n",
      "[1, 2, 3, 4, 5, 6, 7, 8, 9, 10]\n",
      "[1, 2, 3, 4, 5, 6, 7, 8, 9, 10]\n",
      "[1, 2, 3, 4, 5, 6, 7, 8, 9, 10]\n"
     ]
    }
   ],
   "source": [
    "nums = [1,2,3,4,5,6,7,8,9,10]\n",
    "for num in nums: \n",
    "    if num%2 != 0: \n",
    "        print(nums) "
   ]
  },
  {
   "cell_type": "markdown",
   "metadata": {},
   "source": [
    "#### Debugging notes"
   ]
  },
  {
   "cell_type": "code",
   "execution_count": 4,
   "metadata": {
    "id": "wMaJlty2UnZV"
   },
   "outputs": [],
   "source": [
    "# debugging notes here!\n",
    "\n",
    "# what did you expect?\n",
    "\n",
    "# what did you see instead?\n",
    "\n",
    "# what do you think is going on? what's the mismatch between your model and the computer's?\n",
    "# checklist of strategies to draw from:\n",
    "# [ ] model\n",
    "# [ ] document/comment the code\n",
    "# [ ] test with diff. inputs\n",
    "# [ ] add print statements to help model what is happening / use python tutor"
   ]
  },
  {
   "cell_type": "markdown",
   "metadata": {},
   "source": [
    "#### Fixed version:"
   ]
  },
  {
   "cell_type": "code",
   "execution_count": null,
   "metadata": {},
   "outputs": [],
   "source": []
  },
  {
   "cell_type": "markdown",
   "metadata": {},
   "source": [
    "#### Explanation of fix:"
   ]
  },
  {
   "cell_type": "code",
   "execution_count": null,
   "metadata": {},
   "outputs": [],
   "source": []
  },
  {
   "cell_type": "markdown",
   "metadata": {
    "id": "vDO4T3SMOoM1"
   },
   "source": [
    "### Example 4\n",
    "\n",
    "Intent: program that takes two numbers and prints out if the first number is greater than or less than the second number\n",
    "\n",
    "#### Reproducible example"
   ]
  },
  {
   "cell_type": "code",
   "execution_count": 5,
   "metadata": {
    "colab": {
     "base_uri": "https://localhost:8080/"
    },
    "id": "bCuTAeToaoEh",
    "outputId": "78989a48-d33a-422e-c55b-ecce5a84c137"
   },
   "outputs": [
    {
     "name": "stdout",
     "output_type": "stream",
     "text": [
      "a is less than b\n"
     ]
    }
   ],
   "source": [
    "a = 3\n",
    "b = 3\n",
    "\n",
    "if (a > b):\n",
    "    print(\"a is greater than b\")\n",
    "else:\n",
    "    print(\"a is less than b\")"
   ]
  },
  {
   "cell_type": "markdown",
   "metadata": {},
   "source": [
    "#### Debugging notes"
   ]
  },
  {
   "cell_type": "code",
   "execution_count": 6,
   "metadata": {
    "id": "wMaJlty2UnZV"
   },
   "outputs": [],
   "source": [
    "# debugging notes here!\n",
    "\n",
    "# what did you expect?\n",
    "\n",
    "# what did you see instead?\n",
    "\n",
    "# what do you think is going on? what's the mismatch between your model and the computer's?\n",
    "# checklist of strategies to draw from:\n",
    "# [ ] model\n",
    "# [ ] document/comment the code\n",
    "# [ ] test with diff. inputs\n",
    "# [ ] add print statements to help model what is happening / use python tutor"
   ]
  },
  {
   "cell_type": "markdown",
   "metadata": {},
   "source": [
    "#### Fixed version:"
   ]
  },
  {
   "cell_type": "code",
   "execution_count": null,
   "metadata": {},
   "outputs": [],
   "source": []
  },
  {
   "cell_type": "markdown",
   "metadata": {},
   "source": [
    "#### Explanation of fix:"
   ]
  },
  {
   "cell_type": "code",
   "execution_count": null,
   "metadata": {},
   "outputs": [],
   "source": []
  },
  {
   "cell_type": "markdown",
   "metadata": {
    "id": "NUkXtgHSnj-K"
   },
   "source": [
    "### Example 5\n",
    "\n",
    "Intent: program that adds course codes (strings) from one list to a new list if the courses are from INST (contain code INST)\n",
    "\n",
    "#### Reproducible example"
   ]
  },
  {
   "cell_type": "code",
   "execution_count": 7,
   "metadata": {
    "colab": {
     "base_uri": "https://localhost:8080/"
    },
    "id": "E4BcSLFwnixl",
    "outputId": "eb4fd261-9b5c-4e50-8d49-b419808a154e"
   },
   "outputs": [
    {
     "name": "stdout",
     "output_type": "stream",
     "text": [
      "[]\n"
     ]
    }
   ],
   "source": [
    "items = [\"INST201\", \"CMSC100\", \"STAT100\", \"INST126\", \"INST326\"]\n",
    "output = []\n",
    "keyphrase = \"INST\"\n",
    "for item in items:\n",
    "    if \"INST\" in items:\n",
    "        output.append(item)\n",
    "print(output)"
   ]
  },
  {
   "cell_type": "markdown",
   "metadata": {},
   "source": [
    "#### Debugging notes"
   ]
  },
  {
   "cell_type": "code",
   "execution_count": 8,
   "metadata": {
    "id": "wMaJlty2UnZV"
   },
   "outputs": [],
   "source": [
    "# debugging notes here!\n",
    "\n",
    "# what did you expect?\n",
    "\n",
    "# what did you see instead?\n",
    "\n",
    "# what do you think is going on? what's the mismatch between your model and the computer's?\n",
    "# checklist of strategies to draw from:\n",
    "# [ ] model\n",
    "# [ ] document/comment the code\n",
    "# [ ] test with diff. inputs\n",
    "# [ ] add print statements to help model what is happening / use python tutor"
   ]
  },
  {
   "cell_type": "markdown",
   "metadata": {},
   "source": [
    "#### Fixed version:"
   ]
  },
  {
   "cell_type": "code",
   "execution_count": null,
   "metadata": {},
   "outputs": [],
   "source": []
  },
  {
   "cell_type": "markdown",
   "metadata": {},
   "source": [
    "#### Explanation of fix:"
   ]
  },
  {
   "cell_type": "code",
   "execution_count": null,
   "metadata": {},
   "outputs": [],
   "source": []
  },
  {
   "cell_type": "markdown",
   "metadata": {
    "id": "i6P2y7MNbTU8"
   },
   "source": [
    "## Syntax Errors\n",
    "\n",
    "Syntax errors come from the user failing to follow the set rules given by python (e.g., syntax errors, indentation errors, index errors. These almost always lead to some type of error message\n"
   ]
  },
  {
   "cell_type": "markdown",
   "metadata": {
    "id": "Q7jbvjsBNfNn"
   },
   "source": [
    "### Example 1\n",
    "\n",
    "Intent: Program that checks if a number is even or odd\n",
    "\n",
    "#### Reproducible example"
   ]
  },
  {
   "cell_type": "code",
   "execution_count": 9,
   "metadata": {
    "colab": {
     "base_uri": "https://localhost:8080/"
    },
    "id": "3iEYFrSVaBcu",
    "outputId": "16884844-705c-4bf1-9618-a8e1e93a003d",
    "tags": []
   },
   "outputs": [
    {
     "ename": "SyntaxError",
     "evalue": "invalid syntax (1250403228.py, line 4)",
     "output_type": "error",
     "traceback": [
      "\u001b[0;36m  File \u001b[0;32m\"/var/folders/xz/_hjc5hsx743dclmg8n5678nc0000gn/T/ipykernel_7316/1250403228.py\"\u001b[0;36m, line \u001b[0;32m4\u001b[0m\n\u001b[0;31m    if int(x)%2 = 0: # check if number is even\u001b[0m\n\u001b[0m                ^\u001b[0m\n\u001b[0;31mSyntaxError\u001b[0m\u001b[0;31m:\u001b[0m invalid syntax\n"
     ]
    }
   ],
   "source": [
    "x = input('Enter a number (or \"exit\" to quit): ') # get initial input from user\n",
    "\n",
    "while x != \"exit\": # check if we should keep going (stop if user says \"exit\")\n",
    "    if int(x)%2 = 0: # check if number is even\n",
    "        print('You have entered an even number.')\n",
    "    else:\n",
    "        print('You have entered an odd number.')\n",
    "    x = input('Enter a number (or \"exit\" to quit): ') # get new input from user"
   ]
  },
  {
   "cell_type": "markdown",
   "metadata": {},
   "source": [
    "#### Debugging notes"
   ]
  },
  {
   "cell_type": "code",
   "execution_count": 10,
   "metadata": {
    "id": "wMaJlty2UnZV"
   },
   "outputs": [],
   "source": [
    "# debugging notes here!\n",
    "\n",
    "# what did you expect?\n",
    "\n",
    "# what did you see instead?\n",
    "\n",
    "# what do you think is going on? what's the mismatch between your model and the computer's?\n",
    "# checklist of strategies to draw from:\n",
    "# [ ] model\n",
    "# [ ] document/comment the code\n",
    "# [ ] test with diff. inputs\n",
    "# [ ] add print statements to help model what is happening / use python tutor"
   ]
  },
  {
   "cell_type": "markdown",
   "metadata": {},
   "source": [
    "#### Fixed version:"
   ]
  },
  {
   "cell_type": "code",
   "execution_count": null,
   "metadata": {},
   "outputs": [],
   "source": []
  },
  {
   "cell_type": "markdown",
   "metadata": {},
   "source": [
    "#### Explanation of fix:"
   ]
  },
  {
   "cell_type": "code",
   "execution_count": null,
   "metadata": {},
   "outputs": [],
   "source": []
  },
  {
   "cell_type": "markdown",
   "metadata": {
    "id": "GSe-4gDMO8vr",
    "tags": []
   },
   "source": [
    "### Example 2\n",
    "\n",
    "Intent: program that checks if a list of numbers are even or odd \n",
    "\n",
    "#### Reproducible example"
   ]
  },
  {
   "cell_type": "code",
   "execution_count": 11,
   "metadata": {
    "colab": {
     "base_uri": "https://localhost:8080/",
     "height": 135
    },
    "id": "m4KRA3M4O8_C",
    "outputId": "992dc740-705e-4f04-ae88-5d293680884d"
   },
   "outputs": [
    {
     "ename": "IndentationError",
     "evalue": "expected an indented block (2619565430.py, line 4)",
     "output_type": "error",
     "traceback": [
      "\u001b[0;36m  File \u001b[0;32m\"/var/folders/xz/_hjc5hsx743dclmg8n5678nc0000gn/T/ipykernel_7316/2619565430.py\"\u001b[0;36m, line \u001b[0;32m4\u001b[0m\n\u001b[0;31m    if num % 2 == 0:\u001b[0m\n\u001b[0m    ^\u001b[0m\n\u001b[0;31mIndentationError\u001b[0m\u001b[0;31m:\u001b[0m expected an indented block\n"
     ]
    }
   ],
   "source": [
    "numbers = [3, 14, 58, 9, 88, 104, 25]\n",
    "\n",
    "for num in numbers:\n",
    "if num % 2 == 0:\n",
    "    print(\"Even\")\n",
    "else:\n",
    "    print(\"Odd\")"
   ]
  },
  {
   "cell_type": "markdown",
   "metadata": {},
   "source": [
    "#### Debugging notes"
   ]
  },
  {
   "cell_type": "code",
   "execution_count": 12,
   "metadata": {
    "id": "wMaJlty2UnZV"
   },
   "outputs": [],
   "source": [
    "# debugging notes here!\n",
    "\n",
    "# what did you expect?\n",
    "\n",
    "# what did you see instead?\n",
    "\n",
    "# what do you think is going on? what's the mismatch between your model and the computer's?\n",
    "# checklist of strategies to draw from:\n",
    "# [ ] model\n",
    "# [ ] document/comment the code\n",
    "# [ ] test with diff. inputs\n",
    "# [ ] add print statements to help model what is happening / use python tutor"
   ]
  },
  {
   "cell_type": "markdown",
   "metadata": {},
   "source": [
    "#### Fixed version:"
   ]
  },
  {
   "cell_type": "code",
   "execution_count": null,
   "metadata": {},
   "outputs": [],
   "source": []
  },
  {
   "cell_type": "markdown",
   "metadata": {},
   "source": [
    "#### Explanation of fix:"
   ]
  },
  {
   "cell_type": "code",
   "execution_count": null,
   "metadata": {},
   "outputs": [],
   "source": []
  },
  {
   "cell_type": "markdown",
   "metadata": {
    "id": "CZ0d6brLO9Sk"
   },
   "source": [
    "### Example 3\n",
    "\n",
    "Intent: program to see how \"small\" a number is (Under 5 is smallest, under 25 is smaller, under 50 is smallest, other is not small)\n",
    "\n",
    "#### Reproducible example"
   ]
  },
  {
   "cell_type": "code",
   "execution_count": 13,
   "metadata": {
    "colab": {
     "base_uri": "https://localhost:8080/",
     "height": 128
    },
    "id": "ILjYylo3O9hh",
    "outputId": "89f403f6-cec1-4a07-aa7f-60da729ac42f"
   },
   "outputs": [
    {
     "ename": "SyntaxError",
     "evalue": "invalid syntax (3819850021.py, line 2)",
     "output_type": "error",
     "traceback": [
      "\u001b[0;36m  File \u001b[0;32m\"/var/folders/xz/_hjc5hsx743dclmg8n5678nc0000gn/T/ipykernel_7316/3819850021.py\"\u001b[0;36m, line \u001b[0;32m2\u001b[0m\n\u001b[0;31m    if num < 5\u001b[0m\n\u001b[0m              ^\u001b[0m\n\u001b[0;31mSyntaxError\u001b[0m\u001b[0;31m:\u001b[0m invalid syntax\n"
     ]
    }
   ],
   "source": [
    "num = 4\n",
    "if num < 5\n",
    "    print (str(num) + \" is smallest\")\n",
    "elif num < 25\n",
    "    print(str(num) + \" is smaller\")\n",
    "elif num < 50\n",
    "    print (str(num) \" is small\")\n",
    "else\n",
    "    print (str(num) + \" is not small\")"
   ]
  },
  {
   "cell_type": "markdown",
   "metadata": {},
   "source": [
    "#### Debugging notes"
   ]
  },
  {
   "cell_type": "code",
   "execution_count": 14,
   "metadata": {
    "id": "wMaJlty2UnZV"
   },
   "outputs": [],
   "source": [
    "# debugging notes here!\n",
    "\n",
    "# what did you expect?\n",
    "\n",
    "# what did you see instead?\n",
    "\n",
    "# what do you think is going on? what's the mismatch between your model and the computer's?\n",
    "# checklist of strategies to draw from:\n",
    "# [ ] model\n",
    "# [ ] document/comment the code\n",
    "# [ ] test with diff. inputs\n",
    "# [ ] add print statements to help model what is happening / use python tutor"
   ]
  },
  {
   "cell_type": "markdown",
   "metadata": {},
   "source": [
    "#### Fixed version:"
   ]
  },
  {
   "cell_type": "code",
   "execution_count": null,
   "metadata": {},
   "outputs": [],
   "source": []
  },
  {
   "cell_type": "markdown",
   "metadata": {},
   "source": [
    "#### Explanation of fix:"
   ]
  },
  {
   "cell_type": "code",
   "execution_count": null,
   "metadata": {},
   "outputs": [],
   "source": []
  },
  {
   "cell_type": "markdown",
   "metadata": {
    "id": "zdVZNi8RO9v6"
   },
   "source": [
    "### Example 4\n",
    "\n",
    "Intent: program that compares two numbers. Check if the first number is divisible by the second (no remainder)\n",
    "\n",
    "#### Reproducible example"
   ]
  },
  {
   "cell_type": "code",
   "execution_count": 15,
   "metadata": {
    "colab": {
     "base_uri": "https://localhost:8080/",
     "height": 214
    },
    "id": "H7hbp3m7O9-S",
    "outputId": "7d123dbe-6c0c-483b-f57f-dba80432cc22"
   },
   "outputs": [
    {
     "ename": "NameError",
     "evalue": "name 'frist_num' is not defined",
     "output_type": "error",
     "traceback": [
      "\u001b[0;31m---------------------------------------------------------------------------\u001b[0m",
      "\u001b[0;31mNameError\u001b[0m                                 Traceback (most recent call last)",
      "\u001b[0;32m/var/folders/xz/_hjc5hsx743dclmg8n5678nc0000gn/T/ipykernel_7316/1176868596.py\u001b[0m in \u001b[0;36m<module>\u001b[0;34m\u001b[0m\n\u001b[1;32m      2\u001b[0m \u001b[0msecond_num\u001b[0m \u001b[0;34m=\u001b[0m \u001b[0;36m2\u001b[0m\u001b[0;34m\u001b[0m\u001b[0;34m\u001b[0m\u001b[0m\n\u001b[1;32m      3\u001b[0m \u001b[0;34m\u001b[0m\u001b[0m\n\u001b[0;32m----> 4\u001b[0;31m \u001b[0;32mif\u001b[0m \u001b[0mfrist_num\u001b[0m \u001b[0;34m%\u001b[0m \u001b[0msecond_num\u001b[0m \u001b[0;34m==\u001b[0m \u001b[0;36m0\u001b[0m\u001b[0;34m:\u001b[0m\u001b[0;34m\u001b[0m\u001b[0;34m\u001b[0m\u001b[0m\n\u001b[0m\u001b[1;32m      5\u001b[0m     \u001b[0mprint\u001b[0m\u001b[0;34m(\u001b[0m\u001b[0mfirst_num\u001b[0m \u001b[0;34m,\u001b[0m \u001b[0;34m\"is divisible by\"\u001b[0m\u001b[0;34m,\u001b[0m \u001b[0msecond_num\u001b[0m\u001b[0;34m)\u001b[0m\u001b[0;34m\u001b[0m\u001b[0;34m\u001b[0m\u001b[0m\n",
      "\u001b[0;31mNameError\u001b[0m: name 'frist_num' is not defined"
     ]
    }
   ],
   "source": [
    "first_num = 10\n",
    "second_num = 2\n",
    "\n",
    "if frist_num % second_num == 0:\n",
    "    print(first_num , \"is divisible by\", second_num)"
   ]
  },
  {
   "cell_type": "markdown",
   "metadata": {},
   "source": [
    "#### Debugging notes"
   ]
  },
  {
   "cell_type": "code",
   "execution_count": 16,
   "metadata": {
    "id": "wMaJlty2UnZV"
   },
   "outputs": [],
   "source": [
    "# debugging notes here!\n",
    "\n",
    "# what did you expect?\n",
    "\n",
    "# what did you see instead?\n",
    "\n",
    "# what do you think is going on? what's the mismatch between your model and the computer's?\n",
    "# checklist of strategies to draw from:\n",
    "# [ ] model\n",
    "# [ ] document/comment the code\n",
    "# [ ] test with diff. inputs\n",
    "# [ ] add print statements to help model what is happening / use python tutor"
   ]
  },
  {
   "cell_type": "markdown",
   "metadata": {},
   "source": [
    "#### Fixed version:"
   ]
  },
  {
   "cell_type": "code",
   "execution_count": null,
   "metadata": {},
   "outputs": [],
   "source": []
  },
  {
   "cell_type": "markdown",
   "metadata": {},
   "source": [
    "#### Explanation of fix:"
   ]
  },
  {
   "cell_type": "code",
   "execution_count": null,
   "metadata": {},
   "outputs": [],
   "source": []
  },
  {
   "cell_type": "markdown",
   "metadata": {
    "id": "7XprYICSO-Pe"
   },
   "source": [
    "### Example 5\n",
    "\n",
    "Intent: program that prints all the items in a list\n",
    "\n",
    "#### Reproducible example"
   ]
  },
  {
   "cell_type": "code",
   "execution_count": 17,
   "metadata": {
    "colab": {
     "base_uri": "https://localhost:8080/",
     "height": 128
    },
    "id": "iEhLRoI1O-el",
    "outputId": "2de16f77-016d-41da-e3af-d14c896b8d13",
    "scrolled": true
   },
   "outputs": [
    {
     "ename": "SyntaxError",
     "evalue": "unexpected EOF while parsing (2681184233.py, line 4)",
     "output_type": "error",
     "traceback": [
      "\u001b[0;36m  File \u001b[0;32m\"/var/folders/xz/_hjc5hsx743dclmg8n5678nc0000gn/T/ipykernel_7316/2681184233.py\"\u001b[0;36m, line \u001b[0;32m4\u001b[0m\n\u001b[0;31m    print(item\u001b[0m\n\u001b[0m              ^\u001b[0m\n\u001b[0;31mSyntaxError\u001b[0m\u001b[0;31m:\u001b[0m unexpected EOF while parsing\n"
     ]
    }
   ],
   "source": [
    "mylist = [\"Garlic\", \"Lime\", \"Onion\", \"Banana\", \"Broccoli\", \"Pomegranate\"]\n",
    "\n",
    "for item in mylist:\n",
    "    print(item"
   ]
  },
  {
   "cell_type": "markdown",
   "metadata": {},
   "source": [
    "#### Debugging notes"
   ]
  },
  {
   "cell_type": "code",
   "execution_count": 18,
   "metadata": {
    "id": "wMaJlty2UnZV"
   },
   "outputs": [],
   "source": [
    "# debugging notes here!\n",
    "\n",
    "# what did you expect?\n",
    "\n",
    "# what did you see instead?\n",
    "\n",
    "# what do you think is going on? what's the mismatch between your model and the computer's?\n",
    "# checklist of strategies to draw from:\n",
    "# [ ] model\n",
    "# [ ] document/comment the code\n",
    "# [ ] test with diff. inputs\n",
    "# [ ] add print statements to help model what is happening / use python tutor"
   ]
  },
  {
   "cell_type": "markdown",
   "metadata": {},
   "source": [
    "#### Fixed version:"
   ]
  },
  {
   "cell_type": "code",
   "execution_count": null,
   "metadata": {},
   "outputs": [],
   "source": []
  },
  {
   "cell_type": "markdown",
   "metadata": {},
   "source": [
    "#### Explanation of fix:"
   ]
  },
  {
   "cell_type": "code",
   "execution_count": null,
   "metadata": {},
   "outputs": [],
   "source": []
  }
 ],
 "metadata": {
  "colab": {
   "name": "INST126 SP21 Week10 Debugging_examples.ipynb",
   "provenance": [],
   "toc_visible": true
  },
  "kernelspec": {
   "display_name": "Python 3 (ipykernel)",
   "language": "python",
   "name": "python3"
  },
  "language_info": {
   "codemirror_mode": {
    "name": "ipython",
    "version": 3
   },
   "file_extension": ".py",
   "mimetype": "text/x-python",
   "name": "python",
   "nbconvert_exporter": "python",
   "pygments_lexer": "ipython3",
   "version": "3.9.7"
  }
 },
 "nbformat": 4,
 "nbformat_minor": 4
}