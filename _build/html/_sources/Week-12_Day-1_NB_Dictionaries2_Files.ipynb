{
 "cells": [
  {
   "cell_type": "markdown",
   "metadata": {},
   "source": [
    "# The indexing pattern with files and dictionaries"
   ]
  },
  {
   "cell_type": "markdown",
   "metadata": {
    "id": "g-lkfdphxbR0"
   },
   "source": [
    "## Motivating use case: index data from a file for later search\n",
    "\n",
    "Very similar to the theme of Project 3.\n",
    "\n",
    "Let's say we have this file: https://drive.google.com/file/d/1dY7tFf8H-TcUdiZQ90X-SPIkGIBhYsRD/view?usp=sharing (it's also in the `/resources/` directory.\n",
    "\n",
    "It contains a list of email receipts. I want to know how many emails came to me from which email addresses.\n",
    "\n",
    "I can use the indexing pattern to do this, plus a way to access the file system."
   ]
  },
  {
   "cell_type": "markdown",
   "metadata": {
    "id": "X8Q343PRGhMR"
   },
   "source": [
    "### Problem formulation\n",
    "\n",
    "https://miro.com/app/board/uXjVO9Pn42E=/?share_link_id=262351000292\n",
    "\n",
    "<img src=\"../resources/email-indexing-problem-formulation.png\" height=800 width=1200></img>"
   ]
  },
  {
   "cell_type": "code",
   "execution_count": null,
   "metadata": {
    "id": "jJvItvK9fnAY"
   },
   "outputs": [],
   "source": [
    "# in comments\n",
    "\n",
    "# READ data from the file into list\n",
    "\n",
    "# loop over the list\n",
    "    # PARSE the record\n",
    "    # UPDATE the index info for the record"
   ]
  },
  {
   "cell_type": "markdown",
   "metadata": {
    "id": "TRx-T5TYPZ_m"
   },
   "source": [
    "### Writing the code"
   ]
  },
  {
   "cell_type": "code",
   "execution_count": 17,
   "metadata": {},
   "outputs": [],
   "source": [
    "def filter_string(s, cue):\n",
    "    # split into elements\n",
    "    elements = s.split(\" \")\n",
    "    # go through and find the element that has the cue\n",
    "    for e in elements:\n",
    "        # if cue in the element\n",
    "        if cue in e:\n",
    "            # give us the thing\n",
    "            return e"
   ]
  },
  {
   "cell_type": "code",
   "execution_count": 20,
   "metadata": {},
   "outputs": [
    {
     "data": {
      "text/plain": [
       "'09:14:16'"
      ]
     },
     "execution_count": 20,
     "metadata": {},
     "output_type": "execute_result"
    }
   ],
   "source": [
    "line = \"From stephen.marquard@uct.ac.za Sat Jan  5 09:14:16 2008\"\n",
    "target = filter_string(line, \":\")\n",
    "target"
   ]
  },
  {
   "cell_type": "code",
   "execution_count": 21,
   "metadata": {},
   "outputs": [
    {
     "data": {
      "text/plain": [
       "{'stephen.marquard@uct.ac.za': 2,\n",
       " 'louis@media.berkeley.edu': 3,\n",
       " 'zqian@umich.edu': 4,\n",
       " 'rjlowe@iupui.edu': 2,\n",
       " 'cwen@iupui.edu': 5,\n",
       " 'gsilver@umich.edu': 3,\n",
       " 'wagnermr@iupui.edu': 1,\n",
       " 'antranig@caret.cam.ac.uk': 1,\n",
       " 'gopal.ramasammycook@gmail.com': 1,\n",
       " 'david.horwitz@uct.ac.za': 4,\n",
       " 'ray@media.berkeley.edu': 1}"
      ]
     },
     "execution_count": 21,
     "metadata": {},
     "output_type": "execute_result"
    }
   ],
   "source": [
    "# READ data from the file into list\n",
    "# where is the file?\n",
    "fpath = '../resources/mbox-email-receipts.txt'\n",
    "# open the file\n",
    "f = open(fpath, 'r')\n",
    "# read the file's contents into a list\n",
    "records = f.readlines()\n",
    "\n",
    "# make the index\n",
    "index = {}\n",
    "\n",
    "# loop over the list\n",
    "for r in records:\n",
    "    # PARSE the record\n",
    "    email_address = filter_string(r, '@')\n",
    "    \n",
    "    # UPDATE the index info for the record\n",
    "\n",
    "    # GET the current value of the key (email)\n",
    "    # default to zero if not found\n",
    "    count = index.get(email_address, 0)\n",
    "    # UPDATE the value\n",
    "    count += 1\n",
    "    # UPDATE the index with the key and updated value\n",
    "    index.update({email_address: count})\n",
    "    \n",
    "index"
   ]
  },
  {
   "cell_type": "markdown",
   "metadata": {
    "id": "B4JROzB4iXWL"
   },
   "source": [
    "# Fundamental concept: Files"
   ]
  },
  {
   "cell_type": "markdown",
   "metadata": {
    "id": "U-Syddp7kboO"
   },
   "source": [
    "## What are files?"
   ]
  },
  {
   "cell_type": "markdown",
   "metadata": {
    "id": "KzmF64wgkfE0"
   },
   "source": [
    "A special Python data structure that provides an interface and container for data that is outside of your program's main memory. The PY4E textbook calls it \"secondary memory\".\n",
    "\n",
    "Secondary memory is essential, because main memory, which holds all the data you create while your Python program is running, goes away once the program stops.\n",
    "\n",
    "Secondary memory is a place to have data that is persistent. Sort of like long-term memory in humans."
   ]
  },
  {
   "cell_type": "markdown",
   "metadata": {
    "id": "VsK3s0Adk15u"
   },
   "source": [
    "## Key operations on files"
   ]
  },
  {
   "cell_type": "markdown",
   "metadata": {},
   "source": [
    "### Open a file"
   ]
  },
  {
   "cell_type": "code",
   "execution_count": 22,
   "metadata": {},
   "outputs": [
    {
     "data": {
      "text/plain": [
       "<_io.TextIOWrapper name='../resources/mbox-email-receipts.txt' mode='r' encoding='UTF-8'>"
      ]
     },
     "execution_count": 22,
     "metadata": {},
     "output_type": "execute_result"
    }
   ],
   "source": [
    "f = open('../resources/mbox-email-receipts.txt', 'r')\n",
    "f"
   ]
  },
  {
   "cell_type": "markdown",
   "metadata": {
    "id": "9L-3BMSuk9B6"
   },
   "source": [
    "`open()` function, as you might suspect, opens a connection to the file.\n",
    "\n",
    "Its parameters are:\n",
    "1. The *path* to the file you want to connect to\n",
    "2. A specification of *how* you want to connect (to read, to write, etc.). \n",
    "\n",
    "And its output is a file connection object: `io.TextIOWrapper`"
   ]
  },
  {
   "cell_type": "markdown",
   "metadata": {
    "id": "GamPeChbnS0I"
   },
   "source": [
    "#### Specifying a path to a file\n",
    "\n",
    "The first bit is about giving Python directions to the file's location. This is the concept of a *path*.\n",
    "\n",
    "There are two parts to a path: the folder it's in, and then the filename itself."
   ]
  },
  {
   "cell_type": "code",
   "execution_count": 12,
   "metadata": {
    "id": "ufUJ6rTEu9dl"
   },
   "outputs": [],
   "source": [
    "fpath = '../resources/mbox-email-receipts.txt'\n",
    "fdir = '../resources/'"
   ]
  },
  {
   "cell_type": "code",
   "execution_count": 3,
   "metadata": {},
   "outputs": [
    {
     "data": {
      "text/plain": [
       "'From stephen.marquard@uct.ac.za Sat Jan  5 09:14:16 2008\\nFrom louis@media.berkeley.edu Fri Jan  4 18:10:48 2008\\nFrom zqian@umich.edu Fri Jan  4 16:10:39 2008\\nFrom rjlowe@iupui.edu Fri Jan  4 15:46:24 2008\\nFrom zqian@umich.edu Fri Jan  4 15:03:18 2008\\nFrom rjlowe@iupui.edu Fri Jan  4 14:50:18 2008\\nFrom cwen@iupui.edu Fri Jan  4 11:37:30 2008\\nFrom cwen@iupui.edu Fri Jan  4 11:35:08 2008\\nFrom gsilver@umich.edu Fri Jan  4 11:12:37 2008\\nFrom gsilver@umich.edu Fri Jan  4 11:11:52 2008\\nFrom zqian@umich.edu Fri Jan  4 11:11:03 2008\\nFrom gsilver@umich.edu Fri Jan  4 11:10:22 2008\\nFrom wagnermr@iupui.edu Fri Jan  4 10:38:42 2008\\nFrom zqian@umich.edu Fri Jan  4 10:17:43 2008\\nFrom antranig@caret.cam.ac.uk Fri Jan  4 10:04:14 2008\\nFrom gopal.ramasammycook@gmail.com Fri Jan  4 09:05:31 2008\\nFrom david.horwitz@uct.ac.za Fri Jan  4 07:02:32 2008\\nFrom david.horwitz@uct.ac.za Fri Jan  4 06:08:27 2008\\nFrom david.horwitz@uct.ac.za Fri Jan  4 04:49:08 2008\\nFrom david.horwitz@uct.ac.za Fri Jan  4 04:33:44 2008\\nFrom stephen.marquard@uct.ac.za Fri Jan  4 04:07:34 2008\\nFrom louis@media.berkeley.edu Thu Jan  3 19:51:21 2008\\nFrom louis@media.berkeley.edu Thu Jan  3 17:18:23 2008\\nFrom ray@media.berkeley.edu Thu Jan  3 17:07:00 2008\\nFrom cwen@iupui.edu Thu Jan  3 16:34:40 2008\\nFrom cwen@iupui.edu Thu Jan  3 16:29:07 2008\\nFrom cwen@iupui.edu Thu Jan  3 16:23:48 2008\\n'"
      ]
     },
     "execution_count": 3,
     "metadata": {},
     "output_type": "execute_result"
    }
   ],
   "source": [
    "f = open(fpath, 'r')\n",
    "f.read()"
   ]
  },
  {
   "cell_type": "markdown",
   "metadata": {},
   "source": [
    "What is a path? Let's look at some pictures and write a definition together."
   ]
  },
  {
   "cell_type": "markdown",
   "metadata": {},
   "source": [
    "Now let's practice! I'll move the file around, and let's modify the path to match it."
   ]
  },
  {
   "cell_type": "code",
   "execution_count": 27,
   "metadata": {},
   "outputs": [
    {
     "data": {
      "text/plain": [
       "'From stephen.marquard@uct.ac.za Sat Jan  5 09:14:16 2008\\nFrom louis@media.berkeley.edu Fri Jan  4 18:10:48 2008\\nFrom zqian@umich.edu Fri Jan  4 16:10:39 2008\\nFrom rjlowe@iupui.edu Fri Jan  4 15:46:24 2008\\nFrom zqian@umich.edu Fri Jan  4 15:03:18 2008\\nFrom rjlowe@iupui.edu Fri Jan  4 14:50:18 2008\\nFrom cwen@iupui.edu Fri Jan  4 11:37:30 2008\\nFrom cwen@iupui.edu Fri Jan  4 11:35:08 2008\\nFrom gsilver@umich.edu Fri Jan  4 11:12:37 2008\\nFrom gsilver@umich.edu Fri Jan  4 11:11:52 2008\\nFrom zqian@umich.edu Fri Jan  4 11:11:03 2008\\nFrom gsilver@umich.edu Fri Jan  4 11:10:22 2008\\nFrom wagnermr@iupui.edu Fri Jan  4 10:38:42 2008\\nFrom zqian@umich.edu Fri Jan  4 10:17:43 2008\\nFrom antranig@caret.cam.ac.uk Fri Jan  4 10:04:14 2008\\nFrom gopal.ramasammycook@gmail.com Fri Jan  4 09:05:31 2008\\nFrom david.horwitz@uct.ac.za Fri Jan  4 07:02:32 2008\\nFrom david.horwitz@uct.ac.za Fri Jan  4 06:08:27 2008\\nFrom david.horwitz@uct.ac.za Fri Jan  4 04:49:08 2008\\nFrom david.horwitz@uct.ac.za Fri Jan  4 04:33:44 2008\\nFrom stephen.marquard@uct.ac.za Fri Jan  4 04:07:34 2008\\nFrom louis@media.berkeley.edu Thu Jan  3 19:51:21 2008\\nFrom louis@media.berkeley.edu Thu Jan  3 17:18:23 2008\\nFrom ray@media.berkeley.edu Thu Jan  3 17:07:00 2008\\nFrom cwen@iupui.edu Thu Jan  3 16:34:40 2008\\nFrom cwen@iupui.edu Thu Jan  3 16:29:07 2008\\nFrom cwen@iupui.edu Thu Jan  3 16:23:48 2008\\n'"
      ]
     },
     "execution_count": 27,
     "metadata": {},
     "output_type": "execute_result"
    }
   ],
   "source": [
    "fpath = 'newfolder/mbox-email-receipts.txt'\n",
    "f = open(fpath, 'r')\n",
    "f.read()"
   ]
  },
  {
   "cell_type": "markdown",
   "metadata": {
    "id": "6on-kF69nPb3"
   },
   "source": [
    "#### Specifying a connection type/permission\n",
    "\n",
    "The second bit is how the file data structure includes some basic security: you can only write to files you have \"write access\" to, for example.\n",
    "\n",
    "Let's look at an example."
   ]
  },
  {
   "cell_type": "code",
   "execution_count": 2,
   "metadata": {
    "colab": {
     "base_uri": "https://localhost:8080/"
    },
    "executionInfo": {
     "elapsed": 373,
     "status": "ok",
     "timestamp": 1618234160386,
     "user": {
      "displayName": "Joel Chan",
      "photoUrl": "https://lh3.googleusercontent.com/a-/AOh14GiBPPpBf_QqgDL3pMurAsPu9WJJE_x_6UtgW13UFQ=s64",
      "userId": "15153559228409906865"
     },
     "user_tz": 240
    },
    "id": "Z1kM-kPKuvuC",
    "outputId": "b6714115-eb63-4ec0-aaed-6ac089ca8292"
   },
   "outputs": [
    {
     "name": "stdout",
     "output_type": "stream",
     "text": [
      "From stephen.marquard@uct.ac.za Sat Jan  5 09:14:16 2008\n",
      "From louis@media.berkeley.edu Fri Jan  4 18:10:48 2008\n",
      "From zqian@umich.edu Fri Jan  4 16:10:39 2008\n",
      "From rjlowe@iupui.edu Fri Jan  4 15:46:24 2008\n",
      "From zqian@umich.edu Fri Jan  4 15:03:18 2008\n",
      "From rjlowe@iupui.edu Fri Jan  4 14:50:18 2008\n",
      "From cwen@iupui.edu Fri Jan  4 11:37:30 2008\n",
      "From cwen@iupui.edu Fri Jan  4 11:35:08 2008\n",
      "From gsilver@umich.edu Fri Jan  4 11:12:37 2008\n",
      "From gsilver@umich.edu Fri Jan  4 11:11:52 2008\n",
      "From zqian@umich.edu Fri Jan  4 11:11:03 2008\n",
      "From gsilver@umich.edu Fri Jan  4 11:10:22 2008\n",
      "From wagnermr@iupui.edu Fri Jan  4 10:38:42 2008\n",
      "From zqian@umich.edu Fri Jan  4 10:17:43 2008\n",
      "From antranig@caret.cam.ac.uk Fri Jan  4 10:04:14 2008\n",
      "From gopal.ramasammycook@gmail.com Fri Jan  4 09:05:31 2008\n",
      "From david.horwitz@uct.ac.za Fri Jan  4 07:02:32 2008\n",
      "From david.horwitz@uct.ac.za Fri Jan  4 06:08:27 2008\n",
      "From david.horwitz@uct.ac.za Fri Jan  4 04:49:08 2008\n",
      "From david.horwitz@uct.ac.za Fri Jan  4 04:33:44 2008\n",
      "From stephen.marquard@uct.ac.za Fri Jan  4 04:07:34 2008\n",
      "From louis@media.berkeley.edu Thu Jan  3 19:51:21 2008\n",
      "From louis@media.berkeley.edu Thu Jan  3 17:18:23 2008\n",
      "From ray@media.berkeley.edu Thu Jan  3 17:07:00 2008\n",
      "From cwen@iupui.edu Thu Jan  3 16:34:40 2008\n",
      "From cwen@iupui.edu Thu Jan  3 16:29:07 2008\n",
      "From cwen@iupui.edu Thu Jan  3 16:23:48 2008\n",
      "\n"
     ]
    }
   ],
   "source": [
    "# basic read\n",
    "# put 'r' as the second argument\n",
    "f = open(fpath, 'r')\n",
    "print(f.read())"
   ]
  },
  {
   "cell_type": "code",
   "execution_count": 31,
   "metadata": {
    "colab": {
     "base_uri": "https://localhost:8080/"
    },
    "executionInfo": {
     "elapsed": 1226,
     "status": "ok",
     "timestamp": 1618234192300,
     "user": {
      "displayName": "Joel Chan",
      "photoUrl": "https://lh3.googleusercontent.com/a-/AOh14GiBPPpBf_QqgDL3pMurAsPu9WJJE_x_6UtgW13UFQ=s64",
      "userId": "15153559228409906865"
     },
     "user_tz": 240
    },
    "id": "svA1mMKlxSoj",
    "outputId": "712d77cd-6df1-40b6-af44-49e83c0a291b"
   },
   "outputs": [
    {
     "name": "stdout",
     "output_type": "stream",
     "text": [
      "<_io.TextIOWrapper name='newfolder/mbox-email-receipts.txt' mode='w' encoding='UTF-8'>\n"
     ]
    }
   ],
   "source": [
    "# basic write\n",
    "# put 'w' as the seocnd argument\n",
    "f = open(fpath, 'w')\n",
    "print(f)\n",
    "f.write(\"Hello world!\")\n",
    "f.close()"
   ]
  },
  {
   "cell_type": "code",
   "execution_count": null,
   "metadata": {
    "colab": {
     "base_uri": "https://localhost:8080/",
     "height": 225
    },
    "executionInfo": {
     "elapsed": 745,
     "status": "error",
     "timestamp": 1618234226603,
     "user": {
      "displayName": "Joel Chan",
      "photoUrl": "https://lh3.googleusercontent.com/a-/AOh14GiBPPpBf_QqgDL3pMurAsPu9WJJE_x_6UtgW13UFQ=s64",
      "userId": "15153559228409906865"
     },
     "user_tz": 240
    },
    "id": "MdSdT88DmSXm",
    "outputId": "6eedb21c-0845-4dfc-d0b0-2c5fa9e41256"
   },
   "outputs": [
    {
     "ename": "UnsupportedOperation",
     "evalue": "ignored",
     "output_type": "error",
     "traceback": [
      "\u001b[0;31m---------------------------------------------------------------------------\u001b[0m",
      "\u001b[0;31mUnsupportedOperation\u001b[0m                      Traceback (most recent call last)",
      "\u001b[0;32m<ipython-input-8-d0912558cb14>\u001b[0m in \u001b[0;36m<module>\u001b[0;34m()\u001b[0m\n\u001b[1;32m      4\u001b[0m \u001b[0mf\u001b[0m \u001b[0;34m=\u001b[0m \u001b[0mopen\u001b[0m\u001b[0;34m(\u001b[0m\u001b[0;34m'/content/drive/My Drive/_Teaching/INST126/INST126_Materials/_Lectures/test.txt'\u001b[0m\u001b[0;34m,\u001b[0m \u001b[0;34m'r'\u001b[0m\u001b[0;34m)\u001b[0m\u001b[0;34m\u001b[0m\u001b[0;34m\u001b[0m\u001b[0m\n\u001b[1;32m      5\u001b[0m \u001b[0;31m# f is now a connection to the file that allows you to write to it\u001b[0m\u001b[0;34m\u001b[0m\u001b[0;34m\u001b[0m\u001b[0;34m\u001b[0m\u001b[0m\n\u001b[0;32m----> 6\u001b[0;31m \u001b[0mf\u001b[0m\u001b[0;34m.\u001b[0m\u001b[0mwrite\u001b[0m\u001b[0;34m(\u001b[0m\u001b[0;34m\"Hello world from INST126 SP21 Week 11 at 9:30am!\"\u001b[0m\u001b[0;34m)\u001b[0m\u001b[0;34m\u001b[0m\u001b[0;34m\u001b[0m\u001b[0m\n\u001b[0m\u001b[1;32m      7\u001b[0m \u001b[0mf\u001b[0m\u001b[0;34m.\u001b[0m\u001b[0mclose\u001b[0m\u001b[0;34m(\u001b[0m\u001b[0;34m)\u001b[0m\u001b[0;34m\u001b[0m\u001b[0;34m\u001b[0m\u001b[0m\n",
      "\u001b[0;31mUnsupportedOperation\u001b[0m: not writable"
     ]
    }
   ],
   "source": [
    "# basic write\n",
    "# if you don't put 'w' as the second arugment, python doesn't know that you want to write, and will block you from doing so\n",
    "# good for security\n",
    "f = open(fpath, 'r')\n",
    "# f is now a connection to the file that allows you to write to it\n",
    "f.write(\"Hello world from INST126 SP21 Week 11 at 9:30am!\")\n",
    "f.close()"
   ]
  },
  {
   "cell_type": "code",
   "execution_count": null,
   "metadata": {
    "id": "au4lWggwR3qH"
   },
   "outputs": [],
   "source": [
    "# basic write\n",
    "# if you don't put 'w' as the second arugment, python doesn't know that you want to write, and will block you from doing so\n",
    "# good for security\n",
    "f = open(fpath, 'w')\n",
    "# f is now a connection to the file that allows you to write to it\n",
    "f.write(\"Hello world from INST126 SP21 Week 11 at 9:30am!\")\n",
    "f.close()"
   ]
  },
  {
   "cell_type": "code",
   "execution_count": null,
   "metadata": {
    "id": "hVGylbXlSRiE"
   },
   "outputs": [],
   "source": [
    "# append to a file\n",
    "f = open(fpath, 'a')\n",
    "# f is now a connection to the file that allows you to write to it\n",
    "f.write(\"More stuff from INST126 SP21 Week 11 at 9:33am!\")\n",
    "f.close()"
   ]
  },
  {
   "cell_type": "markdown",
   "metadata": {
    "id": "gWc9XtAHmtpi"
   },
   "source": [
    "There are more advanced ways to specify how you want to connect (e.g., `'rb'` read binary, for when you have weird fileformats). But basic `r` and `w` should cover most of your needs for now."
   ]
  },
  {
   "cell_type": "markdown",
   "metadata": {
    "id": "9yecFrrInkbn"
   },
   "source": [
    "### Reading the contents of a file"
   ]
  },
  {
   "cell_type": "markdown",
   "metadata": {
    "id": "EH_-JkJdmUve"
   },
   "source": [
    "Very often you want to connect to a file because you want to *read* it. There are two ways to do this:\n",
    "1. `.read()` reads in the whole contents of the file as a `string`\n",
    "2. `.readlines()` reads in the whole contents of the file as a `list` of strings\n",
    "\n",
    "In both cases, you end up with strings. You can then parse it to do what you want with it."
   ]
  },
  {
   "cell_type": "code",
   "execution_count": 35,
   "metadata": {
    "colab": {
     "base_uri": "https://localhost:8080/"
    },
    "executionInfo": {
     "elapsed": 356,
     "status": "ok",
     "timestamp": 1618234712701,
     "user": {
      "displayName": "Joel Chan",
      "photoUrl": "https://lh3.googleusercontent.com/a-/AOh14GiBPPpBf_QqgDL3pMurAsPu9WJJE_x_6UtgW13UFQ=s64",
      "userId": "15153559228409906865"
     },
     "user_tz": 240
    },
    "id": "EnDrn9ftyfjk",
    "outputId": "10261ab8-4e8f-41f5-b3e2-fe207ee2530f"
   },
   "outputs": [
    {
     "data": {
      "text/plain": [
       "['From stephen.marquard@uct.ac.za Sat Jan  5 09:14:16 2008\\n',\n",
       " 'From louis@media.berkeley.edu Fri Jan  4 18:10:48 2008\\n',\n",
       " 'From zqian@umich.edu Fri Jan  4 16:10:39 2008\\n',\n",
       " 'From rjlowe@iupui.edu Fri Jan  4 15:46:24 2008\\n',\n",
       " 'From zqian@umich.edu Fri Jan  4 15:03:18 2008\\n',\n",
       " 'From rjlowe@iupui.edu Fri Jan  4 14:50:18 2008\\n',\n",
       " 'From cwen@iupui.edu Fri Jan  4 11:37:30 2008\\n',\n",
       " 'From cwen@iupui.edu Fri Jan  4 11:35:08 2008\\n',\n",
       " 'From gsilver@umich.edu Fri Jan  4 11:12:37 2008\\n',\n",
       " 'From gsilver@umich.edu Fri Jan  4 11:11:52 2008\\n',\n",
       " 'From zqian@umich.edu Fri Jan  4 11:11:03 2008\\n',\n",
       " 'From gsilver@umich.edu Fri Jan  4 11:10:22 2008\\n',\n",
       " 'From wagnermr@iupui.edu Fri Jan  4 10:38:42 2008\\n',\n",
       " 'From zqian@umich.edu Fri Jan  4 10:17:43 2008\\n',\n",
       " 'From antranig@caret.cam.ac.uk Fri Jan  4 10:04:14 2008\\n',\n",
       " 'From gopal.ramasammycook@gmail.com Fri Jan  4 09:05:31 2008\\n',\n",
       " 'From david.horwitz@uct.ac.za Fri Jan  4 07:02:32 2008\\n',\n",
       " 'From david.horwitz@uct.ac.za Fri Jan  4 06:08:27 2008\\n',\n",
       " 'From david.horwitz@uct.ac.za Fri Jan  4 04:49:08 2008\\n',\n",
       " 'From david.horwitz@uct.ac.za Fri Jan  4 04:33:44 2008\\n',\n",
       " 'From stephen.marquard@uct.ac.za Fri Jan  4 04:07:34 2008\\n',\n",
       " 'From louis@media.berkeley.edu Thu Jan  3 19:51:21 2008\\n',\n",
       " 'From louis@media.berkeley.edu Thu Jan  3 17:18:23 2008\\n',\n",
       " 'From ray@media.berkeley.edu Thu Jan  3 17:07:00 2008\\n',\n",
       " 'From cwen@iupui.edu Thu Jan  3 16:34:40 2008\\n',\n",
       " 'From cwen@iupui.edu Thu Jan  3 16:29:07 2008\\n',\n",
       " 'From cwen@iupui.edu Thu Jan  3 16:23:48 2008\\n']"
      ]
     },
     "execution_count": 35,
     "metadata": {},
     "output_type": "execute_result"
    }
   ],
   "source": [
    "# the path\n",
    "fpath = '../resources/mbox-email-receipts.txt'\n",
    "\n",
    "# open the file connection and store in f\n",
    "# fhand = open(fpath, 'r') # open the file connection and store in the variable fhand\n",
    "# content_s = fhand.read() # read the contents of the file, and dump into a string called content_s\n",
    "# content_s\n",
    "\n",
    "# # open the file connection and store in f\n",
    "fhand = open(fpath, 'r') # open the file connection and store in the variable fhand\n",
    "# # do this if you know that the structure of the file is basically a list of lines\n",
    "content_list = fhand.readlines() # read the contents of the file, and dump into a list of strings called content_list\n",
    "content_list\n",
    "\n",
    "# content_list = f.readlines()\n",
    "# f.close()\n",
    "\n",
    "# print(\"content as string from .read()\", content_s)\n",
    "# print(\"content as list from .readlines()\", content_list)"
   ]
  },
  {
   "cell_type": "markdown",
   "metadata": {
    "id": "x2Wk37Vnm709"
   },
   "source": [
    "In the next module we will learn how the `pandas` library connects to files to cover common parsing situations (e.g., I have a spreadsheet, I want to go straight into a `dataframe` for analysis). More on that later! The concepts of accessing files will still apply."
   ]
  },
  {
   "cell_type": "markdown",
   "metadata": {
    "id": "mnlXEdeFnne3"
   },
   "source": [
    "### Writing to a file\n",
    "\n",
    "Another common use case for connecting to files is to *write* to secondary memory. \n",
    "\n",
    "The main thing to know here is the `.write()` method.\n",
    "\n",
    "Think of it as similar to the `print()` function, except it writes to the file instead of the screen."
   ]
  },
  {
   "cell_type": "code",
   "execution_count": 36,
   "metadata": {
    "id": "1rrW3gFk0PKL"
   },
   "outputs": [],
   "source": [
    "# basic write\n",
    "# put 'w' as the seocnd argument\n",
    "f = open(f'{fdir}/test2.txt', 'w')\n",
    "f.write(\"Hello INST126!\") # .write() takes a string as input, and then doesn't really return any values, just writes to the file\n",
    "f.close()"
   ]
  },
  {
   "cell_type": "markdown",
   "metadata": {
    "id": "goGYYULgmKRT"
   },
   "source": [
    "You may be told in various places that you need to `.close()` a file to safely exit the connection. As best we can tell, this used to be very true: sometimes data would be lost if the file wasn't closed. But now, in Python 3, we the instructional team have been unable to determine concrete, repeatable consequences of forgetting this. So.\n",
    "\n",
    "\n",
    "\n",
    "But you can avoid this by using the `with` pattern, like this."
   ]
  },
  {
   "cell_type": "code",
   "execution_count": 10,
   "metadata": {
    "id": "R5hPQ6_TmPja"
   },
   "outputs": [],
   "source": [
    "# once the code inside the with block finishes, Python automatically closes the file\n",
    "with open(f'{fdir}/test2.txt', 'w') as f:\n",
    "    f.write(\"Hello world! Something new\") # .write() takes a string as input, and then doesn't really return any values, just writes to the file"
   ]
  },
  {
   "cell_type": "markdown",
   "metadata": {
    "id": "wYcvIvOoVNKZ"
   },
   "source": [
    "### Iterating through a file, similar to readlines"
   ]
  },
  {
   "cell_type": "code",
   "execution_count": 37,
   "metadata": {
    "colab": {
     "base_uri": "https://localhost:8080/"
    },
    "executionInfo": {
     "elapsed": 715,
     "status": "ok",
     "timestamp": 1618235256101,
     "user": {
      "displayName": "Joel Chan",
      "photoUrl": "https://lh3.googleusercontent.com/a-/AOh14GiBPPpBf_QqgDL3pMurAsPu9WJJE_x_6UtgW13UFQ=s64",
      "userId": "15153559228409906865"
     },
     "user_tz": 240
    },
    "id": "K9vZBbg_VQLi",
    "outputId": "02cf95a2-142f-4ab1-c486-798b655b3d29"
   },
   "outputs": [
    {
     "name": "stdout",
     "output_type": "stream",
     "text": [
      "From louis@media.berkeley.edu Thu Jan  3 19:51:21 2008\n",
      "\n",
      "From louis@media.berkeley.edu Thu Jan  3 17:18:23 2008\n",
      "\n",
      "From ray@media.berkeley.edu Thu Jan  3 17:07:00 2008\n",
      "\n",
      "From cwen@iupui.edu Thu Jan  3 16:34:40 2008\n",
      "\n",
      "From cwen@iupui.edu Thu Jan  3 16:29:07 2008\n",
      "\n",
      "From cwen@iupui.edu Thu Jan  3 16:23:48 2008\n",
      "\n"
     ]
    }
   ],
   "source": [
    "fhand = open(fpath, 'r')\n",
    "for line in fhand:\n",
    "    if 'Thu' in line:\n",
    "        print(line)"
   ]
  },
  {
   "cell_type": "markdown",
   "metadata": {
    "id": "G2WjOX0saB8A"
   },
   "source": [
    "### Aside: chaining operations"
   ]
  },
  {
   "cell_type": "markdown",
   "metadata": {
    "id": "gTHg1rPp-OIg"
   },
   "source": [
    "Consider these common variants of the open + read steps that accomplish them in one line (we previously separated the steps in part to make them clearer). Let's say we have a file named `\"some_file.txt\"`. This is what it would look like to open and read them in a single line:"
   ]
  },
  {
   "cell_type": "code",
   "execution_count": null,
   "metadata": {
    "id": "K5gtfv6K-pFB"
   },
   "outputs": [],
   "source": [
    "fstring = open(\"some_file.txt\", \"r\").read() # read all the contents of the file in as a string\n",
    "flines = open(\"some_file.txt\", \"r\").readlines() # read the contents of the file in as a list of strings, one for each \"line\" in the file"
   ]
  },
  {
   "cell_type": "markdown",
   "metadata": {
    "id": "Pd2egC68_EAO"
   },
   "source": [
    "This works because the `open()` function is an expression that produces a file object, which is the kind of thing that can do the `.read()` or `.readlines()` methods. So, we can actually **chain** the `read()` or `readlines()` methods directly on the file object created by the `open()` expression, without bothering to first save the file object to a variable. This is the concept of **chaining methods/functions/operations directly on the result of an expression\". \n",
    "\n",
    "Often we do this because we don't want to waste \"mental/visible\" space on variables we actually don't care about (e.g., often we never want to do anything with the file object later).\n",
    "\n",
    "Another common situation for this might be parsing a string. For example:"
   ]
  },
  {
   "cell_type": "code",
   "execution_count": null,
   "metadata": {
    "id": "YXxHedch_u14"
   },
   "outputs": [],
   "source": [
    "# suppose we have an email\n",
    "email = \"joelchan@umd.edu\"\n",
    "\n",
    "# do this if you care about the elements\n",
    "elements = email.split() # store result of split operation in elements variable\n",
    "username = elements[0] # do the indexing operation on the list of elements\n",
    "server = elements[1]\n",
    "\n",
    "# do this if you only care about the username\n",
    "# we could grab it directly from the output of a .split() expression by chaining an index operation ([0]) directly on the output of the .split() expression (which is a list)\n",
    "# instead of saving that list in a variable and then doing the index operation on that variable\n",
    "username = email.split()[0]\n",
    "# this makes sense if we don't care about the list enough to use it more than once."
   ]
  },
  {
   "cell_type": "markdown",
   "metadata": {
    "id": "3sZmKdiWAQ7M"
   },
   "source": [
    "Another very common situation is \"cleaning\" strings. For example, you might want to normalize a string by converting it to uppercase AND remove all leading and trailing whitespace. You can do it in one line like this"
   ]
  },
  {
   "cell_type": "code",
   "execution_count": null,
   "metadata": {
    "colab": {
     "base_uri": "https://localhost:8080/"
    },
    "executionInfo": {
     "elapsed": 658,
     "status": "ok",
     "timestamp": 1618235860876,
     "user": {
      "displayName": "Joel Chan",
      "photoUrl": "https://lh3.googleusercontent.com/a-/AOh14GiBPPpBf_QqgDL3pMurAsPu9WJJE_x_6UtgW13UFQ=s64",
      "userId": "15153559228409906865"
     },
     "user_tz": 240
    },
    "id": "ZnYG1VGrAgcW",
    "outputId": "e5ff34d5-c667-4639-8a7e-e8fe2fb27291"
   },
   "outputs": [
    {
     "name": "stdout",
     "output_type": "stream",
     "text": [
      "HELLO WORLD\n",
      "HELL\n"
     ]
    }
   ],
   "source": [
    "s_raw = \"hello WorlD \"\n",
    "\n",
    "# you can do it like this\n",
    "s_upper = s_raw.upper()\n",
    "s_clean = s_upper.strip()\n",
    "\n",
    "# or like this (skip the intermediate variable)\n",
    "s_clean = s_raw.upper().strip() # convert to uppercase, which yields an uppercase string, and then chain the .strip() method directly on that string\n",
    "# instead of first saving in another variable\n",
    "print(s_clean)\n",
    "\n",
    "# only get the first four characters, but make sure it's clean and uppercase\n",
    "first_four = s_raw.upper().strip()[:4]\n",
    "print(first_four)"
   ]
  },
  {
   "cell_type": "markdown",
   "metadata": {},
   "source": [
    "## Common errors with files"
   ]
  },
  {
   "cell_type": "markdown",
   "metadata": {},
   "source": [
    "### Can't find the file: FileNotFoundError"
   ]
  },
  {
   "cell_type": "code",
   "execution_count": 39,
   "metadata": {
    "scrolled": true
   },
   "outputs": [
    {
     "ename": "FileNotFoundError",
     "evalue": "[Errno 2] No such file or directory: 'mbox-email-receipts.txt'",
     "output_type": "error",
     "traceback": [
      "\u001b[0;31m---------------------------------------------------------------------------\u001b[0m",
      "\u001b[0;31mFileNotFoundError\u001b[0m                         Traceback (most recent call last)",
      "\u001b[0;32m/var/folders/xz/_hjc5hsx743dclmg8n5678nc0000gn/T/ipykernel_3594/1782472938.py\u001b[0m in \u001b[0;36m<module>\u001b[0;34m\u001b[0m\n\u001b[0;32m----> 1\u001b[0;31m \u001b[0mf\u001b[0m \u001b[0;34m=\u001b[0m \u001b[0mopen\u001b[0m\u001b[0;34m(\u001b[0m\u001b[0;34m\"mbox-email-receipts.txt\"\u001b[0m\u001b[0;34m,\u001b[0m \u001b[0;34m'r'\u001b[0m\u001b[0;34m)\u001b[0m\u001b[0;34m\u001b[0m\u001b[0;34m\u001b[0m\u001b[0m\n\u001b[0m\u001b[1;32m      2\u001b[0m \u001b[0mprint\u001b[0m\u001b[0;34m(\u001b[0m\u001b[0mf\u001b[0m\u001b[0;34m.\u001b[0m\u001b[0mread\u001b[0m\u001b[0;34m(\u001b[0m\u001b[0;34m)\u001b[0m\u001b[0;34m)\u001b[0m\u001b[0;34m\u001b[0m\u001b[0;34m\u001b[0m\u001b[0m\n",
      "\u001b[0;31mFileNotFoundError\u001b[0m: [Errno 2] No such file or directory: 'mbox-email-receipts.txt'"
     ]
    }
   ],
   "source": [
    "f = open(\"mbox-email-receipts.txt\", 'r')\n",
    "print(f.read())"
   ]
  },
  {
   "cell_type": "markdown",
   "metadata": {},
   "source": [
    "### Wrong connection type/permission: UnsupportedOperation"
   ]
  },
  {
   "cell_type": "code",
   "execution_count": 40,
   "metadata": {
    "scrolled": true
   },
   "outputs": [
    {
     "ename": "UnsupportedOperation",
     "evalue": "not readable",
     "output_type": "error",
     "traceback": [
      "\u001b[0;31m---------------------------------------------------------------------------\u001b[0m",
      "\u001b[0;31mUnsupportedOperation\u001b[0m                      Traceback (most recent call last)",
      "\u001b[0;32m/var/folders/xz/_hjc5hsx743dclmg8n5678nc0000gn/T/ipykernel_3594/2723018052.py\u001b[0m in \u001b[0;36m<module>\u001b[0;34m\u001b[0m\n\u001b[1;32m      2\u001b[0m \u001b[0;31m# but i tried to read it\u001b[0m\u001b[0;34m\u001b[0m\u001b[0;34m\u001b[0m\u001b[0m\n\u001b[1;32m      3\u001b[0m \u001b[0mf\u001b[0m \u001b[0;34m=\u001b[0m \u001b[0mopen\u001b[0m\u001b[0;34m(\u001b[0m\u001b[0;34m\"mbox-email-receipts.txt\"\u001b[0m\u001b[0;34m,\u001b[0m \u001b[0;34m'w'\u001b[0m\u001b[0;34m)\u001b[0m\u001b[0;34m\u001b[0m\u001b[0;34m\u001b[0m\u001b[0m\n\u001b[0;32m----> 4\u001b[0;31m \u001b[0mprint\u001b[0m\u001b[0;34m(\u001b[0m\u001b[0mf\u001b[0m\u001b[0;34m.\u001b[0m\u001b[0mread\u001b[0m\u001b[0;34m(\u001b[0m\u001b[0;34m)\u001b[0m\u001b[0;34m)\u001b[0m\u001b[0;34m\u001b[0m\u001b[0;34m\u001b[0m\u001b[0m\n\u001b[0m",
      "\u001b[0;31mUnsupportedOperation\u001b[0m: not readable"
     ]
    }
   ],
   "source": [
    "# i said i would write to it\n",
    "# but i tried to read it\n",
    "f = open(\"mbox-email-receipts.txt\", 'w')\n",
    "print(f.read())"
   ]
  },
  {
   "cell_type": "code",
   "execution_count": 41,
   "metadata": {
    "scrolled": true
   },
   "outputs": [
    {
     "ename": "UnsupportedOperation",
     "evalue": "not writable",
     "output_type": "error",
     "traceback": [
      "\u001b[0;31m---------------------------------------------------------------------------\u001b[0m",
      "\u001b[0;31mUnsupportedOperation\u001b[0m                      Traceback (most recent call last)",
      "\u001b[0;32m/var/folders/xz/_hjc5hsx743dclmg8n5678nc0000gn/T/ipykernel_3594/1211330434.py\u001b[0m in \u001b[0;36m<module>\u001b[0;34m\u001b[0m\n\u001b[1;32m      2\u001b[0m \u001b[0;31m# but i tried to write to it\u001b[0m\u001b[0;34m\u001b[0m\u001b[0;34m\u001b[0m\u001b[0m\n\u001b[1;32m      3\u001b[0m \u001b[0mf\u001b[0m \u001b[0;34m=\u001b[0m \u001b[0mopen\u001b[0m\u001b[0;34m(\u001b[0m\u001b[0;34m\"mbox-email-receipts.txt\"\u001b[0m\u001b[0;34m,\u001b[0m \u001b[0;34m'r'\u001b[0m\u001b[0;34m)\u001b[0m\u001b[0;34m\u001b[0m\u001b[0;34m\u001b[0m\u001b[0m\n\u001b[0;32m----> 4\u001b[0;31m \u001b[0mprint\u001b[0m\u001b[0;34m(\u001b[0m\u001b[0mf\u001b[0m\u001b[0;34m.\u001b[0m\u001b[0mwrite\u001b[0m\u001b[0;34m(\u001b[0m\u001b[0;34m\"Hello world\"\u001b[0m\u001b[0;34m)\u001b[0m\u001b[0;34m)\u001b[0m\u001b[0;34m\u001b[0m\u001b[0;34m\u001b[0m\u001b[0m\n\u001b[0m",
      "\u001b[0;31mUnsupportedOperation\u001b[0m: not writable"
     ]
    }
   ],
   "source": [
    "# i said i would read it\n",
    "# but i tried to write to it\n",
    "f = open(\"mbox-email-receipts.txt\", 'r')\n",
    "print(f.write(\"Hello world\"))"
   ]
  },
  {
   "cell_type": "markdown",
   "metadata": {
    "id": "rt-d9q-YGx3F"
   },
   "source": [
    "# Fundamental concept: The indexing pattern with dictionaries\n",
    "\n",
    "Now let's consider the indexing pattern, first by talking about its major components, then generalizing it by looking at different ways to index a file, but still with the same pattern"
   ]
  },
  {
   "cell_type": "code",
   "execution_count": null,
   "metadata": {},
   "outputs": [],
   "source": [
    "# READ data from the file into list\n",
    "# where is the file?\n",
    "fpath = '../resources/mbox-email-receipts.txt'\n",
    "# open the file\n",
    "f = open(fpath, 'r')\n",
    "# read the file's contents into a list\n",
    "records = f.readlines()\n",
    "\n",
    "# make the index\n",
    "index = {}\n",
    "\n",
    "# loop over the list\n",
    "for r in records:\n",
    "    # PARSE the record\n",
    "    email_address = filter_string(r, '@')\n",
    "    \n",
    "    # UPDATE the index info for the record\n",
    "\n",
    "    # GET the current value of the key (email)\n",
    "    # default to zero if not found\n",
    "    count = index.get(email_address, 0)\n",
    "    # UPDATE the value\n",
    "    count += 1\n",
    "    # UPDATE the index with the key and updated value\n",
    "    index.update({email_address: count})\n",
    "    \n",
    "index"
   ]
  },
  {
   "cell_type": "markdown",
   "metadata": {},
   "source": [
    "Suppose we want to map email addresses to the times they came in. How would we change the indexing pattern?"
   ]
  },
  {
   "cell_type": "code",
   "execution_count": 43,
   "metadata": {},
   "outputs": [
    {
     "data": {
      "text/plain": [
       "{'stephen.marquard@uct.ac.za': ['09:14:16', '04:07:34'],\n",
       " 'louis@media.berkeley.edu': ['18:10:48', '19:51:21', '17:18:23'],\n",
       " 'zqian@umich.edu': ['16:10:39', '15:03:18', '11:11:03', '10:17:43'],\n",
       " 'rjlowe@iupui.edu': ['15:46:24', '14:50:18'],\n",
       " 'cwen@iupui.edu': ['11:37:30',\n",
       "  '11:35:08',\n",
       "  '16:34:40',\n",
       "  '16:29:07',\n",
       "  '16:23:48'],\n",
       " 'gsilver@umich.edu': ['11:12:37', '11:11:52', '11:10:22'],\n",
       " 'wagnermr@iupui.edu': ['10:38:42'],\n",
       " 'antranig@caret.cam.ac.uk': ['10:04:14'],\n",
       " 'gopal.ramasammycook@gmail.com': ['09:05:31'],\n",
       " 'david.horwitz@uct.ac.za': ['07:02:32', '06:08:27', '04:49:08', '04:33:44'],\n",
       " 'ray@media.berkeley.edu': ['17:07:00']}"
      ]
     },
     "execution_count": 43,
     "metadata": {},
     "output_type": "execute_result"
    }
   ],
   "source": [
    "# READ data from the file into list\n",
    "# where is the file?\n",
    "fpath = '../resources/mbox-email-receipts.txt'\n",
    "# open the file\n",
    "f = open(fpath, 'r')\n",
    "# read the file's contents into a list\n",
    "records = f.readlines()\n",
    "\n",
    "# make the index\n",
    "index = {}\n",
    "\n",
    "# loop over the list\n",
    "for r in records:\n",
    "    # PARSE the record\n",
    "    # get the email address\n",
    "    email_address = filter_string(r, '@')\n",
    "    # get the time stamp\n",
    "    time_stamp = filter_string(r, \":\")\n",
    "    \n",
    "    # UPDATE the index info for the record\n",
    "\n",
    "    # GET the current value of the key (email)\n",
    "    # default to [] if not found\n",
    "    time_stamps = index.get(email_address, [])\n",
    "    # UPDATE the value\n",
    "    time_stamps.append(time_stamp)\n",
    "    # UPDATE the index with the key and updated value\n",
    "    index.update({email_address: time_stamps})\n",
    "    \n",
    "index"
   ]
  },
  {
   "cell_type": "markdown",
   "metadata": {},
   "source": [
    "Suppose we want to map hours of the day to the list of email addresses that emailed us at that hour. How would we change the indexing pattern?"
   ]
  },
  {
   "cell_type": "code",
   "execution_count": 44,
   "metadata": {
    "scrolled": false
   },
   "outputs": [
    {
     "data": {
      "text/plain": [
       "{'09': ['stephen.marquard@uct.ac.za', 'gopal.ramasammycook@gmail.com'],\n",
       " '18': ['louis@media.berkeley.edu'],\n",
       " '16': ['zqian@umich.edu',\n",
       "  'cwen@iupui.edu',\n",
       "  'cwen@iupui.edu',\n",
       "  'cwen@iupui.edu'],\n",
       " '15': ['rjlowe@iupui.edu', 'zqian@umich.edu'],\n",
       " '14': ['rjlowe@iupui.edu'],\n",
       " '11': ['cwen@iupui.edu',\n",
       "  'cwen@iupui.edu',\n",
       "  'gsilver@umich.edu',\n",
       "  'gsilver@umich.edu',\n",
       "  'zqian@umich.edu',\n",
       "  'gsilver@umich.edu'],\n",
       " '10': ['wagnermr@iupui.edu', 'zqian@umich.edu', 'antranig@caret.cam.ac.uk'],\n",
       " '07': ['david.horwitz@uct.ac.za'],\n",
       " '06': ['david.horwitz@uct.ac.za'],\n",
       " '04': ['david.horwitz@uct.ac.za',\n",
       "  'david.horwitz@uct.ac.za',\n",
       "  'stephen.marquard@uct.ac.za'],\n",
       " '19': ['louis@media.berkeley.edu'],\n",
       " '17': ['louis@media.berkeley.edu', 'ray@media.berkeley.edu']}"
      ]
     },
     "execution_count": 44,
     "metadata": {},
     "output_type": "execute_result"
    }
   ],
   "source": [
    "# READ data from the file into list\n",
    "# where is the file?\n",
    "fpath = '../resources/mbox-email-receipts.txt'\n",
    "# open the file\n",
    "f = open(fpath, 'r')\n",
    "# read the file's contents into a list\n",
    "records = f.readlines()\n",
    "\n",
    "# make the index\n",
    "index = {}\n",
    "\n",
    "# loop over the list\n",
    "for r in records:\n",
    "    # PARSE the record\n",
    "    # get the email address\n",
    "    email_address = filter_string(r, '@')\n",
    "    # get the time stamp\n",
    "    time_stamp = filter_string(r, \":\")\n",
    "    # get the hour, which is the first element after we split on the :\n",
    "    hour = time_stamp.split(\":\")[0]\n",
    "    \n",
    "    # UPDATE the index info for the record\n",
    "\n",
    "    # GET the current value of the key (hour)\n",
    "    # default to [] if not found\n",
    "    emails = index.get(hour, [])\n",
    "    # UPDATE the value\n",
    "    emails.append(email_address)\n",
    "    # UPDATE the index with the key and updated value\n",
    "    index.update({hour: emails})\n",
    "    \n",
    "index"
   ]
  },
  {
   "cell_type": "markdown",
   "metadata": {},
   "source": [
    "Suppose we want to know how many times you've gotten emails from each email domain. How would you modify this pattern?"
   ]
  },
  {
   "cell_type": "markdown",
   "metadata": {
    "id": "8LaVLRZzcUFh"
   },
   "source": [
    "# Reminder: consequences of dictionary mutability"
   ]
  },
  {
   "cell_type": "markdown",
   "metadata": {
    "id": "3HjHwbjZc_x5"
   },
   "source": [
    "Recall that for immutable data structures like strings, anytime you want the changes you are making to the data structure to persist, you need to save the results in a variable\n",
    "\n",
    "The OPPOSITE is true for mutable data structures like lists and dictionaries. Any method that modifies these data structures do so directly; they change the data structure itself, and consequently do not return any values."
   ]
  },
  {
   "cell_type": "code",
   "execution_count": null,
   "metadata": {
    "colab": {
     "base_uri": "https://localhost:8080/",
     "height": 297
    },
    "executionInfo": {
     "elapsed": 354,
     "status": "error",
     "timestamp": 1618237444183,
     "user": {
      "displayName": "Joel Chan",
      "photoUrl": "https://lh3.googleusercontent.com/a-/AOh14GiBPPpBf_QqgDL3pMurAsPu9WJJE_x_6UtgW13UFQ=s64",
      "userId": "15153559228409906865"
     },
     "user_tz": 240
    },
    "id": "ykyxFOFycWzS",
    "outputId": "86a82b75-84f7-4ebf-96fc-2550b1003810"
   },
   "outputs": [
    {
     "name": "stdout",
     "output_type": "stream",
     "text": [
      "<class 'dict'>\n",
      "None\n",
      "<class 'NoneType'>\n"
     ]
    },
    {
     "ename": "AttributeError",
     "evalue": "ignored",
     "output_type": "error",
     "traceback": [
      "\u001b[0;31m---------------------------------------------------------------------------\u001b[0m",
      "\u001b[0;31mAttributeError\u001b[0m                            Traceback (most recent call last)",
      "\u001b[0;32m<ipython-input-15-fc557cbd0c4a>\u001b[0m in \u001b[0;36m<module>\u001b[0;34m()\u001b[0m\n\u001b[1;32m      9\u001b[0m \u001b[0mprint\u001b[0m\u001b[0;34m(\u001b[0m\u001b[0md2\u001b[0m\u001b[0;34m)\u001b[0m\u001b[0;34m\u001b[0m\u001b[0;34m\u001b[0m\u001b[0m\n\u001b[1;32m     10\u001b[0m \u001b[0mprint\u001b[0m\u001b[0;34m(\u001b[0m\u001b[0mtype\u001b[0m\u001b[0;34m(\u001b[0m\u001b[0md2\u001b[0m\u001b[0;34m)\u001b[0m\u001b[0;34m)\u001b[0m\u001b[0;34m\u001b[0m\u001b[0;34m\u001b[0m\u001b[0m\n\u001b[0;32m---> 11\u001b[0;31m \u001b[0md2\u001b[0m\u001b[0;34m.\u001b[0m\u001b[0mget\u001b[0m\u001b[0;34m(\u001b[0m\u001b[0;34m\"a\"\u001b[0m\u001b[0;34m)\u001b[0m\u001b[0;34m\u001b[0m\u001b[0;34m\u001b[0m\u001b[0m\n\u001b[0m\u001b[1;32m     12\u001b[0m \u001b[0;31m# if you want to update d1 and assign the resulting dictionary to d2, do this\u001b[0m\u001b[0;34m\u001b[0m\u001b[0;34m\u001b[0m\u001b[0;34m\u001b[0m\u001b[0m\n\u001b[1;32m     13\u001b[0m \u001b[0md2\u001b[0m \u001b[0;34m=\u001b[0m \u001b[0md1\u001b[0m\u001b[0;34m\u001b[0m\u001b[0;34m\u001b[0m\u001b[0m\n",
      "\u001b[0;31mAttributeError\u001b[0m: 'NoneType' object has no attribute 'get'"
     ]
    }
   ],
   "source": [
    "# let's say we have a dictionary d1\n",
    "d1 = {\n",
    "    'a': 1,\n",
    "    'b': 2\n",
    "}\n",
    "print(type(d1))\n",
    "# if we want to update the dictionary, we can do this\n",
    "d2 = d1.update({'c': 3}) # updating will return None, because dictionaries are mutable\n",
    "print(d2)\n",
    "print(type(d2))\n",
    "d2.get(\"a\")\n",
    "# if you want to update d1 and assign the resulting dictionary to d2, do this\n",
    "d2 = d1\n",
    "print(type(d2))\n",
    "print(d2)"
   ]
  }
 ],
 "metadata": {
  "colab": {
   "name": "INST126_SP21_Week12_Dictionaries2-Files_post-class.ipynb",
   "provenance": [],
   "toc_visible": true
  },
  "kernelspec": {
   "display_name": "Python 3 (ipykernel)",
   "language": "python",
   "name": "python3"
  },
  "language_info": {
   "codemirror_mode": {
    "name": "ipython",
    "version": 3
   },
   "file_extension": ".py",
   "mimetype": "text/x-python",
   "name": "python",
   "nbconvert_exporter": "python",
   "pygments_lexer": "ipython3",
   "version": "3.9.7"
  }
 },
 "nbformat": 4,
 "nbformat_minor": 1
}
