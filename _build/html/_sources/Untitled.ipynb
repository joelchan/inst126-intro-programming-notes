{
 "cells": [
  {
   "cell_type": "code",
   "execution_count": null,
   "id": "729ab924",
   "metadata": {},
   "outputs": [],
   "source": [
    "# DEFINE a function that takes an input string and adds a specified number of characters to it\n",
    "def longer(inputString, howMany):\n",
    "    # what to add; create a string that is \n",
    "    # howMany characters long (by multiplying)\n",
    "    toAdd = \"a\"*howMany\n",
    "    # add that long character to the input string\n",
    "    # and store result\n",
    "    result = inputString + toAdd\n",
    "    # return the result\n",
    "    return result"
   ]
  }
 ],
 "metadata": {
  "kernelspec": {
   "display_name": "Python 3 (ipykernel)",
   "language": "python",
   "name": "python3"
  },
  "language_info": {
   "codemirror_mode": {
    "name": "ipython",
    "version": 3
   },
   "file_extension": ".py",
   "mimetype": "text/x-python",
   "name": "python",
   "nbconvert_exporter": "python",
   "pygments_lexer": "ipython3",
   "version": "3.9.7"
  }
 },
 "nbformat": 4,
 "nbformat_minor": 5
}
