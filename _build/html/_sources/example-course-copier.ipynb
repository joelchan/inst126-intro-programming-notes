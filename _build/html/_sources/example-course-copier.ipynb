{
 "cells": [
  {
   "cell_type": "markdown",
   "metadata": {
    "id": "aIuGYfELt-83"
   },
   "source": [
    "# Sample program(s): course code filtering\n",
    "\n",
    "## Example program: copy only the 100-level courses over to my course list\n",
    "\n",
    "Computational formulation:\n",
    "\n",
    "Main data:\n",
    "- COURSE_CODE_LIST - list of only course codes\n",
    "- COURSE_CODE - the element we'll need to look at to decide whether to copy something over\n",
    "- MY_COURSES (list of course codes I care about)\n",
    "\n",
    "Subparts:\n",
    "- PARSER to get course code number\n",
    "- FILTER to decide whether something should be grabbed\n",
    "- ADDER to add grabbed course to my course list\n",
    "\n",
    "Logic/flow:\n",
    "- LOOP over the list of course codes\n",
    "- CONDITIONAL to grab course code or not based on filter"
   ]
  },
  {
   "cell_type": "code",
   "execution_count": 1,
   "metadata": {
    "id": "pVhDlrwSt-9C"
   },
   "outputs": [],
   "source": [
    "# PARSER\n",
    "def parse_code(course_code):\n",
    "    r = 0\n",
    "    # go through teh course code character by character\n",
    "    for char in course_code:\n",
    "        # if it's a number\n",
    "        if char.isnumeric():\n",
    "            # grab it!\n",
    "            r = char\n",
    "            # and be done with the loop, since we only want the first one\n",
    "            break\n",
    "    \n",
    "    # reutrn the code\n",
    "    return r"
   ]
  },
  {
   "cell_type": "code",
   "execution_count": 6,
   "metadata": {
    "id": "ADHAoUe-t-9E"
   },
   "outputs": [],
   "source": [
    "# FILTER\n",
    "def code_filter(course_code, target_code):\n",
    "    code = parse_code(course_code)\n",
    "    # check if the code is the one we want\n",
    "    if code == target_code:\n",
    "        return True\n",
    "    else:\n",
    "        return False"
   ]
  },
  {
   "cell_type": "code",
   "execution_count": 10,
   "metadata": {
    "id": "iX8jqa3bt-9F",
    "outputId": "118ac8d9-0097-48c5-b5ce-9fb8c07d672b"
   },
   "outputs": [
    {
     "name": "stdout",
     "output_type": "stream",
     "text": [
      "['INST201']\n"
     ]
    }
   ],
   "source": [
    "# Putting it together\n",
    "\n",
    "COURSE_CODE_LIST = ['INST126', 'INST201', 'INST311', 'INST314', 'INST326', 'INST327', 'INST335',\n",
    " 'INST346', 'INST352', 'INST354', 'INST362', 'INST377', 'INST408Y', 'INST408Z',\n",
    " 'INST414', 'INST447', 'INST462', 'INST466', 'INST490', 'INST604', 'INST612',\n",
    " 'INST614', 'INST616', 'INST622', 'INST627', 'INST630', 'INST652', 'INST702',\n",
    " 'INST709', 'INST728G', 'INST728V', 'INST733', 'INST737', 'INST741', 'INST742',\n",
    " 'INST746', 'INST762', 'INST767', 'INST776', 'INST785', 'INST794']\n",
    "\n",
    "# to hold the courses i care about\n",
    "MY_COURSES = []\n",
    "\n",
    "# the code i care about\n",
    "MY_TARGET_CODE = \"2\"\n",
    "\n",
    "# LOOP over list of courses\n",
    "for course_code in COURSE_CODE_LIST:\n",
    "    \n",
    "    # CONDITIONAL to decide whether or not to copy over course\n",
    "    if code_filter(course_code, MY_TARGET_CODE):\n",
    "        # ADDER to add course to my list\n",
    "        MY_COURSES.append(course_code)\n",
    "        \n",
    "print(MY_COURSES)"
   ]
  },
  {
   "cell_type": "markdown",
   "metadata": {
    "id": "KqXeWCLdt-9H"
   },
   "source": [
    "## Example program: copy only the 400-level courses and below over to my course list\n",
    "\n",
    "Computational formulation is same as before, only diff is we need to **generalize** the filter"
   ]
  },
  {
   "cell_type": "code",
   "execution_count": 11,
   "metadata": {
    "id": "iqNztoswt-9K"
   },
   "outputs": [],
   "source": [
    "# FILTER\n",
    "def code_filter_lte(course_code, threshold):\n",
    "    # get the first number in the code\n",
    "    code = parse_code(course_code)\n",
    "    \n",
    "    # change to number data type so we can do \"math\"\n",
    "    code = int(code)\n",
    "    \n",
    "    # check if it's less than or equal to our threshold level\n",
    "    if code <= threshold:\n",
    "        return True\n",
    "    else:\n",
    "        return False"
   ]
  },
  {
   "cell_type": "code",
   "execution_count": 12,
   "metadata": {
    "id": "86MoZ9GRt-9M",
    "outputId": "3a3087b6-cef8-41ee-85bd-aa4028e19065"
   },
   "outputs": [
    {
     "name": "stdout",
     "output_type": "stream",
     "text": [
      "['INST126', 'INST201', 'INST311', 'INST314', 'INST326', 'INST327', 'INST335', 'INST346', 'INST352', 'INST354', 'INST362', 'INST377', 'INST408Y', 'INST408Z', 'INST414', 'INST447', 'INST462', 'INST466', 'INST490']\n"
     ]
    }
   ],
   "source": [
    "# TRANSFERRER v2\n",
    "\n",
    "MY_UNDERGRAD_COURSES = []\n",
    "\n",
    "MY_THRESHOLD = 4\n",
    "\n",
    "for course_code in COURSE_CODE_LIST:\n",
    "    if code_filter_lte(course_code, MY_THRESHOLD):\n",
    "        MY_UNDERGRAD_COURSES.append(course_code)\n",
    "        \n",
    "print(MY_UNDERGRAD_COURSES)"
   ]
  }
 ],
 "metadata": {
  "colab": {
   "name": "INST 126 example program - course copier.ipynb",
   "provenance": []
  },
  "kernelspec": {
   "display_name": "Python 3 (ipykernel)",
   "language": "python",
   "name": "python3"
  },
  "language_info": {
   "codemirror_mode": {
    "name": "ipython",
    "version": 3
   },
   "file_extension": ".py",
   "mimetype": "text/x-python",
   "name": "python",
   "nbconvert_exporter": "python",
   "pygments_lexer": "ipython3",
   "version": "3.9.7"
  },
  "toc": {
   "base_numbering": 1,
   "nav_menu": {},
   "number_sections": true,
   "sideBar": true,
   "skip_h1_title": false,
   "title_cell": "Table of Contents",
   "title_sidebar": "Contents",
   "toc_cell": false,
   "toc_position": {},
   "toc_section_display": true,
   "toc_window_display": false
  }
 },
 "nbformat": 4,
 "nbformat_minor": 1
}
