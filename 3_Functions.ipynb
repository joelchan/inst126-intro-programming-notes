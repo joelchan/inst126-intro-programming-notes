{
 "cells": [
  {
   "cell_type": "markdown",
   "metadata": {
    "id": "IUP5mKyTxbRy"
   },
   "source": [
    "# 3: Functions"
   ]
  },
  {
   "cell_type": "markdown",
   "metadata": {
    "id": "TB-Kg9GExbRz"
   },
   "source": [
    "## Learning goals:\n",
    "- Explain why we need functions in our programs\n",
    "- Identify key components of a function in Python\n",
    "- Construct a function block, from scratch\n",
    "- Convert existing code to a function\n",
    "- Use a function\n",
    "- Identify common errors with functions"
   ]
  },
  {
   "cell_type": "markdown",
   "metadata": {
    "id": "g-lkfdphxbR0"
   },
   "source": [
    "## What are functions and why do we care about them?\n",
    "Functions are basically machines that take some __input(s)__, do some __operations__ on the input(s), and then produce an __output__.\n",
    "\n",
    "Why we need functions:    \n",
    "- Model your problem so that it can be solved by a computer well aka Computational Thinking\n",
    "- Make fewer errors (reduce points of failure from copy/paste, etc.)\n",
    "\n",
    "Motivating example: simple data analysis pipeline to compute percent change in revenue from last year.\n",
    "\n",
    "We have two sales numbers\n",
    "- `last_year = \"$150,000\"`\n",
    "- `this_year = \"$230,000\"`\n",
    "\n",
    "How can we analyze them? What are the subproblems here that we'll need to solve?\n",
    "\n",
    "Keep this in mind, we'll come back to this.\n"
   ]
  },
  {
   "cell_type": "code",
   "execution_count": null,
   "metadata": {
    "id": "gQbQMwfWNJJN"
   },
   "outputs": [],
   "source": [
    "# 1. convert strings to integers\n",
    "\n",
    "# 2. compute the percent change\n"
   ]
  },
  {
   "cell_type": "markdown",
   "metadata": {},
   "source": [
    "Also, pragmatically: I'm explaining functions now so the PCEs are a little less confusing.\n",
    "\n",
    "You'll really start to feel a practical need for functions once your programs start to approach a regular level fo complexity, starting in Module 2 or so."
   ]
  },
  {
   "cell_type": "markdown",
   "metadata": {},
   "source": [
    "## The basic pattern: DEFINE a function, use (CALL) a function"
   ]
  },
  {
   "cell_type": "code",
   "execution_count": null,
   "metadata": {},
   "outputs": [],
   "source": [
    "# DEFINE a function that takes an input string and adds a specified number of characters to it\n",
    "def longer(inputString, howMany):\n",
    "    # what to add; create a string that is \n",
    "    # howMany characters long (by multiplying)\n",
    "    toAdd = \"a\"*howMany\n",
    "    # add that long character to the input string\n",
    "    # and store result\n",
    "    result = inputString + toAdd\n",
    "    # return the result\n",
    "    return result"
   ]
  },
  {
   "cell_type": "code",
   "execution_count": null,
   "metadata": {},
   "outputs": [],
   "source": [
    "s = \"huzzah\"\n",
    "# this is how the string is rn\n",
    "print(\"S is originally\", len(s), \"characters long. Here it is:\", s)\n",
    "# now CALL the longer() function to make s 3 characters longer\n",
    "howMany = 3\n",
    "longer_s = longer(s, howMany)\n",
    "# this is how long the string is now\n",
    "print(\"S is now\", len(longer_s), \"characters long after adding\", howMany, \"characters. Here it is:\", longer_s)"
   ]
  },
  {
   "cell_type": "markdown",
   "metadata": {},
   "source": [
    "Here's another example."
   ]
  },
  {
   "cell_type": "code",
   "execution_count": null,
   "metadata": {},
   "outputs": [],
   "source": [
    "def minutes_to_hours(minutes):\n",
    "    result = minutes/60\n",
    "    return result"
   ]
  },
  {
   "cell_type": "code",
   "execution_count": null,
   "metadata": {},
   "outputs": [],
   "source": [
    "minutes = 150\n",
    "hours = minutes_to_hours(minutes)\n",
    "print(minutes, \"minutes is\", hours, \"hours\")"
   ]
  },
  {
   "cell_type": "markdown",
   "metadata": {},
   "source": [
    "The first cell is the function definition. The second cell *calls* the function on the 2nd line (`minutes_to_hours(minutes)`).\n",
    "\n",
    "Let's practice! Look at the following two cells. Which one is the function definition and which one is the function call?"
   ]
  },
  {
   "cell_type": "code",
   "execution_count": null,
   "metadata": {},
   "outputs": [],
   "source": [
    "# A\n",
    "def greet_user(username):\n",
    "    msg = \"Hello \" + username + \"!\"\n",
    "    return msg"
   ]
  },
  {
   "cell_type": "code",
   "execution_count": null,
   "metadata": {},
   "outputs": [],
   "source": [
    "# B\n",
    "username = \"Joel\"\n",
    "greeting = greet_user(username)\n",
    "print(greeting)"
   ]
  },
  {
   "cell_type": "markdown",
   "metadata": {},
   "source": [
    "Q: Which line in the function call cell is actually calling the function?\n",
    "\n",
    "A: line 3!"
   ]
  },
  {
   "attachments": {},
   "cell_type": "markdown",
   "metadata": {},
   "source": [
    "This define-call sequence should look similar to our PCE structure! \n",
    "\n",
    "In later more complex programs, you often define a few functions at once, or borrow them from other bits of code, and then use them in a single program. \n",
    "\n",
    "As we talked about, you can also compose functions into larger functions!\n",
    "\n",
    "Here's an example sequence of functions from our motivating example."
   ]
  },
  {
   "cell_type": "code",
   "execution_count": null,
   "metadata": {},
   "outputs": [],
   "source": [
    "# DEFINE the two sub-functions we need\n",
    "\n",
    "def clean_sale_number(saleNumStr): \n",
    "    # make the input numbers actually numbers\n",
    "    # 1: remove dollar signs\n",
    "    saleNumStr = saleNumStr.replace(\"$\", \"\")\n",
    "    # 2: remove the comma\n",
    "    saleNumStr = saleNumStr.replace(\",\", \"\")\n",
    "    # 3: convert to float\n",
    "    result = float(saleNumStr)\n",
    "    return result \n",
    "\n",
    "def compute_percent_change(lastYear, thisYear):\n",
    "    # first make the input numbers actually numbers\n",
    "    lastYear = clean_sale_number(lastYear)\n",
    "    thisYear = clean_sale_number(thisYear)\n",
    "\n",
    "    # then compute the percent change\n",
    "    result = ((thisYear - lastYear)/lastYear)*100\n",
    "    return result"
   ]
  },
  {
   "cell_type": "code",
   "execution_count": null,
   "metadata": {},
   "outputs": [],
   "source": [
    "# without functinos, we need to copy/paste the clean sales operation\n",
    "# twice\n",
    "def compute_percent_change(lastYear, thisYear):\n",
    "    # first make the input numbers actually numbers\n",
    "    # make the input numbers actually numbers\n",
    "    # 1: remove dollar signs\n",
    "    lastYear = lastYear.replace(\"$\", \"\")\n",
    "    # 2: remove the comma\n",
    "    lastYear = lastYear.replace(\",\", \"\")\n",
    "    # 3: convert to float\n",
    "    lastYear = float(lastYear)\n",
    "    \n",
    "     # make the input numbers actually numbers\n",
    "    # 1: remove dollar signs\n",
    "    thisYear = thisYear.replace(\"$\", \"\")\n",
    "    # 2: remove the comma\n",
    "    thisYear = thisYear.replace(\",\", \"\")\n",
    "    # 3: convert to float\n",
    "    thisYear = float(thisYear)\n",
    "\n",
    "    # then compute the percent change\n",
    "    result = ((thisYear - lastYear)/lastYear)*100\n",
    "    return result"
   ]
  },
  {
   "cell_type": "code",
   "execution_count": null,
   "metadata": {
    "colab": {
     "base_uri": "https://localhost:8080/"
    },
    "executionInfo": {
     "elapsed": 327,
     "status": "ok",
     "timestamp": 1612796182560,
     "user": {
      "displayName": "Joel Chan",
      "photoUrl": "https://lh3.googleusercontent.com/a-/AOh14GiBPPpBf_QqgDL3pMurAsPu9WJJE_x_6UtgW13UFQ=s64",
      "userId": "15153559228409906865"
     },
     "user_tz": 300
    },
    "id": "ddTI4mlzDX3f",
    "outputId": "b20d9edd-74c2-41e7-dcf8-f989fd05d8ee"
   },
   "outputs": [],
   "source": [
    "# actually use (CALL) the functions.\n",
    "\n",
    "lastYear = \"$500,000.35\"\n",
    "thisYear = \"$1,256,000.21\"\n",
    "percentChange = compute_percent_change(lastYear, thisYear)\n",
    "print(percentChange)"
   ]
  },
  {
   "cell_type": "markdown",
   "metadata": {},
   "source": [
    "Q: Where are the function definitions?\n",
    "\n",
    "A: \n",
    "\n",
    "Q: Where are the function calls?\n",
    "\n",
    "A: Also inside the body of the compute_percent_change function!"
   ]
  },
  {
   "cell_type": "markdown",
   "metadata": {
    "id": "ifBcaTKuA2jN"
   },
   "source": [
    "## Anatomy of a Python function definition and function call\n",
    "\n",
    "Let's take a closer look at what a function actually is in Python.\n",
    "\n",
    "### Function definition\n",
    "\n",
    "In Python, a function consist of three main components:\n",
    "1. **Parameters**: what are the main __input__ variables your function will be manipulating?\n",
    "2. **Body of the function:** what __operations__ will your function be performing on/with the input variables?\n",
    "3. **Return value**: what will your function's __output __be (i.e., what will come out of the function to the code that is calling the function)?\n",
    "\n",
    "Let's go back to our example of a function to convert minutes to hours. The following function `minutes_to_hours()` has input __parameter__ `minutes`, a __body __of code that divides `minutes` by 60 and stores it in the variable `result`, and a `return value` that is the value of the variable `result`"
   ]
  },
  {
   "cell_type": "code",
   "execution_count": null,
   "metadata": {
    "executionInfo": {
     "elapsed": 501,
     "status": "ok",
     "timestamp": 1612794869144,
     "user": {
      "displayName": "Joel Chan",
      "photoUrl": "https://lh3.googleusercontent.com/a-/AOh14GiBPPpBf_QqgDL3pMurAsPu9WJJE_x_6UtgW13UFQ=s64",
      "userId": "15153559228409906865"
     },
     "user_tz": 300
    },
    "id": "Fu2eYI2iBrBg"
   },
   "outputs": [],
   "source": [
    "def minutes_to_hours(minutes):\n",
    "    result = minutes/60\n",
    "    return result"
   ]
  },
  {
   "cell_type": "code",
   "execution_count": null,
   "metadata": {},
   "outputs": [],
   "source": [
    "def greet_user(username):\n",
    "    msg = \"Hello \" + username + \"!\"\n",
    "    return msg"
   ]
  },
  {
   "cell_type": "code",
   "execution_count": null,
   "metadata": {},
   "outputs": [],
   "source": [
    "def longer(inputString, howMany):\n",
    "    toAdd = \"a\"*howMany\n",
    "    result = inputString + toAdd\n",
    "    return result"
   ]
  },
  {
   "cell_type": "markdown",
   "metadata": {},
   "source": [
    "There's also the syntax bits that make up a function definition. There's a fair bit to notice here. What do you see here that you think is important?\n",
    "1. def (bold green)\n",
    "2. return (bold green), indented under the function name\n",
    "3. name of the function (typically in blue)\n",
    "4. parentheses after the function name\n",
    "5. one or more parameters inside the parentheses\n",
    "6. colon\n",
    "7. indented code as the body of the function (everything between the colon and the return statement)"
   ]
  },
  {
   "cell_type": "markdown",
   "metadata": {},
   "source": [
    "Let's practice with another function definition."
   ]
  },
  {
   "cell_type": "code",
   "execution_count": null,
   "metadata": {},
   "outputs": [],
   "source": [
    "def greet_user(username):\n",
    "    msg = \"Hello \" + username + \"!\"\n",
    "    return msg"
   ]
  },
  {
   "cell_type": "markdown",
   "metadata": {},
   "source": [
    "What are the parts here?\n",
    "1. Parameter(s): username\n",
    "2. Function body: `msg = \"Hello \" + username + \"!\"`\n",
    "3. Return value: msg"
   ]
  },
  {
   "cell_type": "markdown",
   "metadata": {},
   "source": [
    "And another example:"
   ]
  },
  {
   "cell_type": "code",
   "execution_count": null,
   "metadata": {},
   "outputs": [],
   "source": [
    "def longer(inputString, howMany):\n",
    "    toAdd = \"a\"*howMany\n",
    "    result = inputString + toAdd\n",
    "    return result"
   ]
  },
  {
   "cell_type": "markdown",
   "metadata": {},
   "source": [
    "What are the parts here?\n",
    "1. Parameter(s): inputString, howMany\n",
    "2. Function body: lines 2 and 3\n",
    "3. Return value: result"
   ]
  },
  {
   "cell_type": "markdown",
   "metadata": {},
   "source": [
    "NOTE: when you run a function definition, there should be no output. The same thing is happening as with a variable assignment statement, like `a = 3`. Python is storing the code in the function body (and its associated parameters and return values) to be used later, just like with `a = 3`, Python is storing the value of `3` in the variable `a` to be used later.\n",
    "\n",
    "So. When you write a colon after a variable name, and indent code after it, it's equivalent to an assignment statement (you're assigning the code body and return statement to the function name)."
   ]
  },
  {
   "cell_type": "markdown",
   "metadata": {},
   "source": [
    "### Function call\n",
    "\n",
    "In Python, function calls consist of at least:\n",
    "1. A reference to the **function name**\n",
    "2. One or more **arguments** (inside **parentheses**) to pass as input to the function (how many and what type is determined by the parameters in the function definition)\n",
    "Alongside other code\n",
    "\n",
    "Let's look at an example."
   ]
  },
  {
   "cell_type": "code",
   "execution_count": null,
   "metadata": {},
   "outputs": [],
   "source": [
    "mins = 150\n",
    "# call the minutes_to_hours function\n",
    "# with mins as an argument\n",
    "# and store the return value in the variable hours\n",
    "hours = minutes_to_hours(mins)\n",
    "print(hours)"
   ]
  },
  {
   "cell_type": "markdown",
   "metadata": {},
   "source": [
    "Here, we have the function name (`minutes_to_hours`), and the argument `mins` being passed as input to the function, and code that takes the return value from the function and prints it out."
   ]
  },
  {
   "cell_type": "markdown",
   "metadata": {},
   "source": [
    "Here it is in pictures"
   ]
  },
  {
   "cell_type": "markdown",
   "metadata": {},
   "source": [
    "<img src=\"assets/function-definition-annotated.png\" height=600 width=800></img>"
   ]
  },
  {
   "cell_type": "markdown",
   "metadata": {},
   "source": [
    "<img src=\"assets/function-call-annotated.png\" height=300 width=500></img>"
   ]
  },
  {
   "cell_type": "markdown",
   "metadata": {},
   "source": [
    "What's happening under the hood at this function call is:\n",
    "1. Define the variable `mins` and put the value 150 in it\n",
    "2. Retrieve the code associated with the function name `minutes_to_hours` and give it `mins` as an input argument\n",
    "3. Run the code associated with the function name `minutes_to_hours` with `mins` as input, and return the result\n",
    "4. Pass that result to the `print` function (yes, this is a function also!) as an input argument.\n",
    "\n",
    "Let's look at another example pair. Where are the arguments and parameters?\n",
    "\n",
    "Parameter: age\n",
    "Argument: your_age"
   ]
  },
  {
   "cell_type": "code",
   "execution_count": null,
   "metadata": {
    "executionInfo": {
     "elapsed": 553,
     "status": "ok",
     "timestamp": 1612794865821,
     "user": {
      "displayName": "Joel Chan",
      "photoUrl": "https://lh3.googleusercontent.com/a-/AOh14GiBPPpBf_QqgDL3pMurAsPu9WJJE_x_6UtgW13UFQ=s64",
      "userId": "15153559228409906865"
     },
     "user_tz": 300
    },
    "id": "_h3Kq36sDt8u"
   },
   "outputs": [],
   "source": [
    "def bouncer(age):\n",
    "    result = age >= 21\n",
    "    return result"
   ]
  },
  {
   "cell_type": "code",
   "execution_count": null,
   "metadata": {
    "colab": {
     "base_uri": "https://localhost:8080/"
    },
    "executionInfo": {
     "elapsed": 358,
     "status": "ok",
     "timestamp": 1612795108919,
     "user": {
      "displayName": "Joel Chan",
      "photoUrl": "https://lh3.googleusercontent.com/a-/AOh14GiBPPpBf_QqgDL3pMurAsPu9WJJE_x_6UtgW13UFQ=s64",
      "userId": "15153559228409906865"
     },
     "user_tz": 300
    },
    "id": "MXSU469VEdn-",
    "outputId": "918bfa03-e68c-42de-f17f-c0144ac3e82f"
   },
   "outputs": [],
   "source": [
    "your_age = 24\n",
    "come_in = bouncer(your_age)\n",
    "print(come_in)"
   ]
  },
  {
   "cell_type": "code",
   "execution_count": null,
   "metadata": {},
   "outputs": [],
   "source": [
    "bouncer(31)"
   ]
  },
  {
   "cell_type": "markdown",
   "metadata": {
    "id": "ffHIlz8iDDLM"
   },
   "source": [
    "### Key idea: Arguments vs. parameters\n",
    "\n",
    "Parameters and arguments are easy to confuse. They both go in the parentheses after the function name. What's the difference?\n",
    "\n",
    "It helps me to think of them as two sides of a special kind of variable assignment statement.\n",
    "\n",
    "`a = 3`\n",
    "\n",
    "Parameters are the key *variables* in the function (what's on the left side of an assignment statement). \n",
    "Arguments are the *values* you assign to those variables when you use the function (what's on the right side of an assignment statement).\n",
    "\n",
    "One tip I have to drive this home is to write your function calls like this, where you actually make this analogy explicit.\n",
    "\n",
    "We'll actually see this format come back later on when we deal with more complicated functions, especially when we borrow code from other libraries!"
   ]
  },
  {
   "cell_type": "code",
   "execution_count": null,
   "metadata": {
    "colab": {
     "base_uri": "https://localhost:8080/",
     "height": 34
    },
    "executionInfo": {
     "elapsed": 321,
     "status": "ok",
     "timestamp": 1600097615673,
     "user": {
      "displayName": "Joel Chan",
      "photoUrl": "https://lh3.googleusercontent.com/a-/AOh14GiBPPpBf_QqgDL3pMurAsPu9WJJE_x_6UtgW13UFQ=s64",
      "userId": "15153559228409906865"
     },
     "user_tz": 240
    },
    "id": "oeFZ9HEQP1-9",
    "outputId": "b65c174c-8f05-4287-fd22-1f10ca00c9f2"
   },
   "outputs": [],
   "source": [
    "# if you want to make life easier for yourself when you're still learning,\n",
    "# you can make this explicit in the function call code\n",
    "minutes_to_hours(minutes=90)"
   ]
  },
  {
   "cell_type": "code",
   "execution_count": null,
   "metadata": {},
   "outputs": [],
   "source": [
    "# equivalently\n",
    "mins = 120\n",
    "minutes_to_hours(minutes=mins)"
   ]
  },
  {
   "cell_type": "code",
   "execution_count": null,
   "metadata": {
    "colab": {
     "base_uri": "https://localhost:8080/",
     "height": 168
    },
    "executionInfo": {
     "elapsed": 336,
     "status": "error",
     "timestamp": 1612796335820,
     "user": {
      "displayName": "Joel Chan",
      "photoUrl": "https://lh3.googleusercontent.com/a-/AOh14GiBPPpBf_QqgDL3pMurAsPu9WJJE_x_6UtgW13UFQ=s64",
      "userId": "15153559228409906865"
     },
     "user_tz": 300
    },
    "id": "55B47lMhJkU0",
    "outputId": "2bd6e6df-d49b-46ad-d69c-2dbfa018ed94"
   },
   "outputs": [],
   "source": [
    "my_age = 19\n",
    "bouncer(age=my_age)"
   ]
  },
  {
   "cell_type": "markdown",
   "metadata": {
    "id": "FYVv4YjdCjfS"
   },
   "source": [
    "## How to define functions"
   ]
  },
  {
   "cell_type": "markdown",
   "metadata": {
    "id": "LcXUfJ1qCmZD"
   },
   "source": [
    "### Writing a function from scratch\n",
    "\n",
    "There are a few main steps to follow:\n",
    "1. Write the code that goes in the function (the steps)\n",
    "2. Create a function definition\n",
    "    - Write the skeleton of your function (`def`, a name, parentheses, `return` statement)\n",
    "3. Integrate your code into the function:\n",
    "    - Fill out the parameters\n",
    "    - Fill out the body of the code\n",
    "    - Fill out the return statement\n",
    "4. Run the function definition cell (this defines the function for Python)\n",
    "\n",
    "Let's do an example together!\n",
    "\n",
    "Let's write a function that applies a discount to a sale, given the sale amount and the percentage discount."
   ]
  },
  {
   "cell_type": "code",
   "execution_count": null,
   "metadata": {},
   "outputs": [],
   "source": [
    "# we'll write this together in class\n",
    "saleAmount = 10.00\n",
    "percentageDiscount = 0.3\n",
    "\n",
    "saleAmount - saleAmount*percentageDiscount"
   ]
  },
  {
   "cell_type": "code",
   "execution_count": null,
   "metadata": {},
   "outputs": [],
   "source": [
    "def apply_discount(saleAmount, percentageDiscount):\n",
    "    finalAmount = saleAmount - saleAmount*percentageDiscount\n",
    "    return finalAmount"
   ]
  },
  {
   "cell_type": "code",
   "execution_count": null,
   "metadata": {},
   "outputs": [],
   "source": [
    "apply_discount(saleAmount=325.99, percentageDiscount=.2)"
   ]
  },
  {
   "cell_type": "markdown",
   "metadata": {
    "colab": {
     "base_uri": "https://localhost:8080/"
    },
    "executionInfo": {
     "elapsed": 342,
     "status": "ok",
     "timestamp": 1612796099954,
     "user": {
      "displayName": "Joel Chan",
      "photoUrl": "https://lh3.googleusercontent.com/a-/AOh14GiBPPpBf_QqgDL3pMurAsPu9WJJE_x_6UtgW13UFQ=s64",
      "userId": "15153559228409906865"
     },
     "user_tz": 300
    },
    "id": "2DKG-nQZIzH_",
    "outputId": "d2f5c8dc-ef18-4d0d-e2cd-2126f15f73d5"
   },
   "source": [
    "And another simple one: give me the area of a triangle, given its base and height."
   ]
  },
  {
   "cell_type": "code",
   "execution_count": null,
   "metadata": {},
   "outputs": [],
   "source": [
    "# we'll write this together in class\n",
    "b = 3\n",
    "h = 2\n",
    "0.5*b*h"
   ]
  },
  {
   "cell_type": "code",
   "execution_count": null,
   "metadata": {},
   "outputs": [],
   "source": [
    "def triangle_area(base, height):\n",
    "    area = 0.5*base*height\n",
    "    return area"
   ]
  },
  {
   "cell_type": "code",
   "execution_count": null,
   "metadata": {},
   "outputs": [],
   "source": [
    "triangle_area(base=5, height=10)"
   ]
  },
  {
   "cell_type": "markdown",
   "metadata": {
    "id": "21v9caNsEE1A"
   },
   "source": [
    "### Converting existing code into a function\n",
    "\n",
    "The steps here are similar to writing from scratch, with the main difference that we:\n",
    "1. Decide which of the variables in the existing code are inputs (parameters), and which ones are outputs (return values), then put those in the function definition and return statements.\n",
    "2. Integrate the rest of the working code into the body of the function.\n",
    "\n",
    "Here we've written the code for our substeps of converting the numbers into.. numbers. We know it works."
   ]
  },
  {
   "cell_type": "code",
   "execution_count": null,
   "metadata": {
    "colab": {
     "base_uri": "https://localhost:8080/",
     "height": 35
    },
    "executionInfo": {
     "elapsed": 351,
     "status": "ok",
     "timestamp": 1612796487597,
     "user": {
      "displayName": "Joel Chan",
      "photoUrl": "https://lh3.googleusercontent.com/a-/AOh14GiBPPpBf_QqgDL3pMurAsPu9WJJE_x_6UtgW13UFQ=s64",
      "userId": "15153559228409906865"
     },
     "user_tz": 300
    },
    "id": "jezPgHN1Un6v",
    "outputId": "dbef3ce5-162c-4d2e-90fa-b1bc9aec6a67"
   },
   "outputs": [],
   "source": [
    "# test number\n",
    "sale = \"$600,153.25\"\n",
    "# make the input numbers actually numbers\n",
    "# 1: remove dollar signs\n",
    "sale = sale.replace(\"$\", \"\")\n",
    "# 2: remove the comma\n",
    "sale = sale.replace(\",\", \"\")\n",
    "# 3: convert to float\n",
    "result = float(sale)\n",
    "result # the output"
   ]
  },
  {
   "cell_type": "markdown",
   "metadata": {},
   "source": [
    "Let's walk through this together."
   ]
  },
  {
   "cell_type": "code",
   "execution_count": null,
   "metadata": {},
   "outputs": [],
   "source": [
    "# 1. decide which variables are inputs/outputs, fill out function skeleton\n",
    "# 2. integrate rest of code into the body of the function\n",
    "def clean_sale_string(rawSale):\n",
    "    # 1: remove dollar signs\n",
    "    sale = rawSale.replace(\"$\", \"\")\n",
    "    # 2: remove the comma\n",
    "    sale = sale.replace(\",\", \"\")\n",
    "    # 3: convert to float\n",
    "    result = float(sale) \n",
    "    return result"
   ]
  },
  {
   "cell_type": "code",
   "execution_count": null,
   "metadata": {},
   "outputs": [],
   "source": [
    "clean_sale_string(rawSale=\"$2,115,000\")"
   ]
  },
  {
   "cell_type": "markdown",
   "metadata": {
    "id": "Q1vmmUJTE67i"
   },
   "source": [
    "## Common errors when using functions"
   ]
  },
  {
   "cell_type": "markdown",
   "metadata": {
    "id": "yhMs4re7DgN7"
   },
   "source": [
    "### Order of execution and NameErrors\n",
    "\n",
    "Remember: In a computational notebook like Jupyter, Python executes the code in the order that you run the cells. If you run the cells from top to bottom, then it behaves the same way as a script. But if you run the cells in a different order, then it's different. \n",
    "\n",
    "This is important because a common error is to forget to run your **function definition** code before you **call the function**. This will result in a `NameError`, which means you're saying something to Python with words it doesn't yet know. The solution is to go back and make sure you do Step 2.\n",
    "\n",
    "If you're __updating__ your function, you'll get different kinds of errors. Sometimes it will be a silent logical or semantic error (where the code will run, but the results of the code will not be what you intend). So you always want to make sure you run a function definition cell to update it in Python's memory, before you run any code that uses the function."
   ]
  },
  {
   "cell_type": "code",
   "execution_count": null,
   "metadata": {},
   "outputs": [],
   "source": [
    "clean_sale_string(rawSale=\"$2,115,000\")"
   ]
  },
  {
   "cell_type": "code",
   "execution_count": 2,
   "metadata": {
    "executionInfo": {
     "elapsed": 292,
     "status": "ok",
     "timestamp": 1612796852635,
     "user": {
      "displayName": "Joel Chan",
      "photoUrl": "https://lh3.googleusercontent.com/a-/AOh14GiBPPpBf_QqgDL3pMurAsPu9WJJE_x_6UtgW13UFQ=s64",
      "userId": "15153559228409906865"
     },
     "user_tz": 300
    },
    "id": "RlTQSduSUMIB"
   },
   "outputs": [],
   "source": [
    "def divide(x, y):\n",
    "    result = x / y\n",
    "    result = int(result)\n",
    "    return result"
   ]
  },
  {
   "cell_type": "code",
   "execution_count": 3,
   "metadata": {
    "colab": {
     "base_uri": "https://localhost:8080/",
     "height": 168
    },
    "executionInfo": {
     "elapsed": 589,
     "status": "error",
     "timestamp": 1612796754279,
     "user": {
      "displayName": "Joel Chan",
      "photoUrl": "https://lh3.googleusercontent.com/a-/AOh14GiBPPpBf_QqgDL3pMurAsPu9WJJE_x_6UtgW13UFQ=s64",
      "userId": "15153559228409906865"
     },
     "user_tz": 300
    },
    "id": "0_yPVfFOUQka",
    "outputId": "df90e017-4707-4167-faa6-9f18d873ff33"
   },
   "outputs": [
    {
     "data": {
      "text/plain": [
       "5"
      ]
     },
     "execution_count": 3,
     "metadata": {},
     "output_type": "execute_result"
    }
   ],
   "source": [
    "divide(25, 5)"
   ]
  },
  {
   "cell_type": "code",
   "execution_count": null,
   "metadata": {
    "colab": {
     "base_uri": "https://localhost:8080/"
    },
    "executionInfo": {
     "elapsed": 558,
     "status": "ok",
     "timestamp": 1612796855373,
     "user": {
      "displayName": "Joel Chan",
      "photoUrl": "https://lh3.googleusercontent.com/a-/AOh14GiBPPpBf_QqgDL3pMurAsPu9WJJE_x_6UtgW13UFQ=s64",
      "userId": "15153559228409906865"
     },
     "user_tz": 300
    },
    "id": "CD7bmreLLY5l",
    "outputId": "0b4534b9-863a-4ddd-d7ae-921b3ebf8642"
   },
   "outputs": [],
   "source": [
    "division(25, 3)"
   ]
  },
  {
   "cell_type": "markdown",
   "metadata": {
    "id": "lwqweGQiEzWb"
   },
   "source": [
    "### Missing / incorrect return statements\n",
    "\n",
    "Technically, from a syntax perspective, the return statement in a function definition is optional. Functions that don't have return values are syntactically valid (legal code); they're known as a \"void functions\".\n",
    "- Confusingly, in Python, a void function still does return a value (i.e., `None`). \n",
    "- Honestly, void functions kind of break the model of what a function should be (subcomponents in a larger program). In my experience, they are also quite rare in practice, except as, say, a main control loop, or the \"main\" procedure in a script. So, if you're confused by void functions and find \"regular\" (also sometimes called \"fruitful\") functions (with return values) easier to think conceptualize, I'm happy.\n",
    "\n",
    "For now, I want you to pretend void functions don't exist (i.e., do *not* write void functions; always have a `return` statement).\n",
    "\n",
    "So why am I telling you this then?\n",
    "- You'll see void functions in many Python tutorials. Often you'll even learn about void functions *before* fruitful (or regular) functions. I think this may be because it has fewer moving parts? I'm not really sure. \n",
    "- Practically, too, if you leave out a `return` statement, your code will still run! So the *syntax* is fine! But you'll probably have made a semantic error (you meant to give the output of the function to some other piece of code, but the code you wrote isn't actually doing that). **This is a very common error for beginning programmers.** So you if run into this, you're in good company! If you're pretty sure that the code in the body of the function is correct, but you're confused by what happens when the function is used (e.g., it's not giving you the value you expect), but the code runs, it's a good idea to check your `return` statement!\n",
    "\n",
    "An extremely common way to make this mistake is to write a print statement in the function body to produce output to you, the user, and declare that it works, but forget to write a return statement"
   ]
  },
  {
   "cell_type": "code",
   "execution_count": 4,
   "metadata": {
    "executionInfo": {
     "elapsed": 276,
     "status": "ok",
     "timestamp": 1612797092002,
     "user": {
      "displayName": "Joel Chan",
      "photoUrl": "https://lh3.googleusercontent.com/a-/AOh14GiBPPpBf_QqgDL3pMurAsPu9WJJE_x_6UtgW13UFQ=s64",
      "userId": "15153559228409906865"
     },
     "user_tz": 300
    },
    "id": "IeGAjCnyF3dw"
   },
   "outputs": [],
   "source": [
    "# example: if we define the functions this way, without return statements, they wil still run! \n",
    "# but we won't be able to use their results in a meaningful way, leading to an error if we try\n",
    "def tip(base, percentage):\n",
    "    result = base * percentage\n",
    "    print(result)\n",
    "    \n",
    "def tax(base, tax_rate):\n",
    "    result = base * tax_rate\n",
    "    print(result)"
   ]
  },
  {
   "cell_type": "code",
   "execution_count": 5,
   "metadata": {
    "colab": {
     "base_uri": "https://localhost:8080/"
    },
    "executionInfo": {
     "elapsed": 346,
     "status": "ok",
     "timestamp": 1612797093648,
     "user": {
      "displayName": "Joel Chan",
      "photoUrl": "https://lh3.googleusercontent.com/a-/AOh14GiBPPpBf_QqgDL3pMurAsPu9WJJE_x_6UtgW13UFQ=s64",
      "userId": "15153559228409906865"
     },
     "user_tz": 300
    },
    "id": "f6ZZFAJbF7-y",
    "outputId": "5dbcbd24-4e97-4fae-d993-556e3a5aa8d5"
   },
   "outputs": [
    {
     "name": "stdout",
     "output_type": "stream",
     "text": [
      "0.6000000000000001\n"
     ]
    },
    {
     "ename": "TypeError",
     "evalue": "unsupported operand type(s) for +: 'NoneType' and 'int'",
     "output_type": "error",
     "traceback": [
      "\u001b[0;31m---------------------------------------------------------------------------\u001b[0m",
      "\u001b[0;31mTypeError\u001b[0m                                 Traceback (most recent call last)",
      "\u001b[0;32m/var/folders/xz/_hjc5hsx743dclmg8n5678nc0000gn/T/ipykernel_54668/89328718.py\u001b[0m in \u001b[0;36m<module>\u001b[0;34m\u001b[0m\n\u001b[1;32m      3\u001b[0m \u001b[0mtax_rate\u001b[0m \u001b[0;34m=\u001b[0m \u001b[0;36m0.08\u001b[0m\u001b[0;34m\u001b[0m\u001b[0;34m\u001b[0m\u001b[0m\n\u001b[1;32m      4\u001b[0m \u001b[0;34m\u001b[0m\u001b[0m\n\u001b[0;32m----> 5\u001b[0;31m \u001b[0mtotal_check\u001b[0m \u001b[0;34m=\u001b[0m \u001b[0mtip\u001b[0m\u001b[0;34m(\u001b[0m\u001b[0mbase\u001b[0m\u001b[0;34m,\u001b[0m \u001b[0mtip_rate\u001b[0m\u001b[0;34m)\u001b[0m \u001b[0;34m+\u001b[0m \u001b[0mbase\u001b[0m \u001b[0;34m+\u001b[0m \u001b[0mtax\u001b[0m\u001b[0;34m(\u001b[0m\u001b[0mbase\u001b[0m\u001b[0;34m,\u001b[0m \u001b[0mtax_rate\u001b[0m\u001b[0;34m)\u001b[0m\u001b[0;34m\u001b[0m\u001b[0;34m\u001b[0m\u001b[0m\n\u001b[0m\u001b[1;32m      6\u001b[0m \u001b[0mprint\u001b[0m\u001b[0;34m(\u001b[0m\u001b[0mtotal_check\u001b[0m\u001b[0;34m)\u001b[0m\u001b[0;34m\u001b[0m\u001b[0;34m\u001b[0m\u001b[0m\n",
      "\u001b[0;31mTypeError\u001b[0m: unsupported operand type(s) for +: 'NoneType' and 'int'"
     ]
    }
   ],
   "source": [
    "base = 3\n",
    "tip_rate = 0.2\n",
    "tax_rate = 0.08\n",
    "\n",
    "total_check = tip(base, tip_rate) + base + tax(base, tax_rate)\n",
    "print(total_check)"
   ]
  },
  {
   "cell_type": "markdown",
   "metadata": {
    "id": "_ISyo9rIE48n"
   },
   "source": [
    "### Mismatching arguments and parameters\n",
    "\n",
    "Make sure that the body of your function is operating on the actual input variables you're passing in via your parameters! This is a common error to make when you're converting code to functions."
   ]
  },
  {
   "cell_type": "code",
   "execution_count": null,
   "metadata": {
    "executionInfo": {
     "elapsed": 282,
     "status": "ok",
     "timestamp": 1612797269463,
     "user": {
      "displayName": "Joel Chan",
      "photoUrl": "https://lh3.googleusercontent.com/a-/AOh14GiBPPpBf_QqgDL3pMurAsPu9WJJE_x_6UtgW13UFQ=s64",
      "userId": "15153559228409906865"
     },
     "user_tz": 300
    },
    "id": "T7834g2mFwhQ"
   },
   "outputs": [],
   "source": [
    "# example\n",
    "def minus(x, y):\n",
    "    result = x - y\n",
    "    return result"
   ]
  },
  {
   "cell_type": "code",
   "execution_count": null,
   "metadata": {
    "colab": {
     "base_uri": "https://localhost:8080/"
    },
    "executionInfo": {
     "elapsed": 372,
     "status": "ok",
     "timestamp": 1612797270436,
     "user": {
      "displayName": "Joel Chan",
      "photoUrl": "https://lh3.googleusercontent.com/a-/AOh14GiBPPpBf_QqgDL3pMurAsPu9WJJE_x_6UtgW13UFQ=s64",
      "userId": "15153559228409906865"
     },
     "user_tz": 300
    },
    "id": "afTKxlcbGDLI",
    "outputId": "7d754367-17d2-450a-f8d3-2c3e26369f4c"
   },
   "outputs": [],
   "source": [
    "x = 7\n",
    "y = 2\n",
    "diff = minus(x, y)\n",
    "print(diff)"
   ]
  },
  {
   "cell_type": "markdown",
   "metadata": {
    "id": "G8JNuz9YGPJI"
   },
   "source": [
    "You also need to make sure the arguments and parameters match in number and value"
   ]
  },
  {
   "cell_type": "code",
   "execution_count": null,
   "metadata": {
    "executionInfo": {
     "elapsed": 398,
     "status": "ok",
     "timestamp": 1612797325432,
     "user": {
      "displayName": "Joel Chan",
      "photoUrl": "https://lh3.googleusercontent.com/a-/AOh14GiBPPpBf_QqgDL3pMurAsPu9WJJE_x_6UtgW13UFQ=s64",
      "userId": "15153559228409906865"
     },
     "user_tz": 300
    },
    "id": "cN83vrjWGZEn"
   },
   "outputs": [],
   "source": [
    "# example\n",
    "def minus(x, y):\n",
    "    result = x - y\n",
    "    return result"
   ]
  },
  {
   "cell_type": "code",
   "execution_count": null,
   "metadata": {},
   "outputs": [],
   "source": [
    "x = 3\n",
    "y = 2\n",
    "diff = minus(x)\n",
    "print(diff)"
   ]
  },
  {
   "cell_type": "markdown",
   "metadata": {},
   "source": [
    "This can fail silently (semantic vs. syntax error!)"
   ]
  },
  {
   "cell_type": "code",
   "execution_count": null,
   "metadata": {
    "colab": {
     "base_uri": "https://localhost:8080/"
    },
    "executionInfo": {
     "elapsed": 413,
     "status": "ok",
     "timestamp": 1612797405430,
     "user": {
      "displayName": "Joel Chan",
      "photoUrl": "https://lh3.googleusercontent.com/a-/AOh14GiBPPpBf_QqgDL3pMurAsPu9WJJE_x_6UtgW13UFQ=s64",
      "userId": "15153559228409906865"
     },
     "user_tz": 300
    },
    "id": "re-7xC6cGZEt",
    "outputId": "d66ea777-f570-470d-f081-ea0afe6702e5"
   },
   "outputs": [],
   "source": [
    "x = 3\n",
    "y = 2\n",
    "diff = minus(y, x)\n",
    "print(diff)"
   ]
  },
  {
   "cell_type": "markdown",
   "metadata": {},
   "source": [
    "This is where the explicit parameter-argument mapping function call pattern can help you."
   ]
  },
  {
   "cell_type": "code",
   "execution_count": null,
   "metadata": {},
   "outputs": [],
   "source": [
    "x = 3\n",
    "y = 2\n",
    "diff = minus(x=x, y=y)\n",
    "print(diff)"
   ]
  },
  {
   "cell_type": "markdown",
   "metadata": {},
   "source": [
    "A related error is hard-coding the variables inside the function body instead of letting the parameter be defined and given its value from the argument"
   ]
  },
  {
   "cell_type": "code",
   "execution_count": null,
   "metadata": {},
   "outputs": [],
   "source": [
    "# example\n",
    "# now, no matter what arguments we pass in, \n",
    "# the result will never change\n",
    "# the key here is to remember that x and y are defined *when the function is called, by passing the value of the argument into the parameter, which we can then use int he body of hte function\n",
    "def minus(x, y):\n",
    "    x = 3\n",
    "    y = 1\n",
    "    result = x - y\n",
    "    return result"
   ]
  }
 ],
 "metadata": {
  "colab": {
   "name": "INST126_SP21_Week3_Functions.ipynb",
   "provenance": []
  },
  "kernelspec": {
   "display_name": "Python 3 (ipykernel)",
   "language": "python",
   "name": "python3"
  },
  "language_info": {
   "codemirror_mode": {
    "name": "ipython",
    "version": 3
   },
   "file_extension": ".py",
   "mimetype": "text/x-python",
   "name": "python",
   "nbconvert_exporter": "python",
   "pygments_lexer": "ipython3",
   "version": "3.9.7"
  },
  "toc": {
   "base_numbering": 1,
   "nav_menu": {},
   "number_sections": false,
   "sideBar": true,
   "skip_h1_title": false,
   "title_cell": "Table of Contents",
   "title_sidebar": "Contents",
   "toc_cell": false,
   "toc_position": {},
   "toc_section_display": true,
   "toc_window_display": false
  }
 },
 "nbformat": 4,
 "nbformat_minor": 1
}
