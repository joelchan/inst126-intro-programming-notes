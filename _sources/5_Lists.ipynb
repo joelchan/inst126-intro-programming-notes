{
 "cells": [
  {
   "cell_type": "markdown",
   "id": "482b267a",
   "metadata": {},
   "source": [
    "# 5: Lists\n",
    "\n",
    "## Learning goals\n",
    "- Create a list in Python\n",
    "- Do common operations on lists (e.g., appending, indexing, slicing, sorting)\n",
    "- Explain difference between mutable and immutable data structures\n",
    "- Recognize potential application opportunities for collection methods and functions (e.g., len, max, min)\n",
    "- Explain difference between functions and methods\n",
    "- Appropriately apply collection methods and functions to lists\n",
    "\n",
    "## What are lists and why should we care about them?\n",
    "\n",
    "### A list is a kind of collection data structure\n",
    "\n",
    "So far we’ve mostly used a “non-collection” data structures. Most of our variables have one value in them - when we put a new value in the variable, the old value is overwritten\n",
    "\n",
    "A list is a kind of **collection** data structure. A collection allows us to put many values into a single \"variable\"\n",
    "\n",
    "A collection is nice because we can carry many values around in one convenient package"
   ]
  },
  {
   "cell_type": "code",
   "execution_count": 1,
   "id": "d2b4686a",
   "metadata": {},
   "outputs": [],
   "source": [
    "a_list = []\n",
    "s = \"\"\n",
    "friends = ['Joseph', 'Glenn', 'Sally']\n",
    "carryon = ['socks', 'shirt', 'perfume']\n",
    "scores = [1, 50, 32]"
   ]
  },
  {
   "cell_type": "code",
   "execution_count": 2,
   "id": "d98b87b1",
   "metadata": {},
   "outputs": [
    {
     "data": {
      "text/plain": [
       "['Joseph', 'Glenn', 'Sally']"
      ]
     },
     "execution_count": 2,
     "metadata": {},
     "output_type": "execute_result"
    }
   ],
   "source": [
    "friends"
   ]
  },
  {
   "cell_type": "markdown",
   "id": "a2029d25",
   "metadata": {},
   "source": [
    "### Why do we need more data structures than strings, numbers and Boolean values?\n",
    "\n",
    "Recall that computational thinking is a key component of programming skill. **Algorithms** --- sets of rules or steps used to solve a problem --- are an important way to model and instruct computers to solve problems. In computer science, it is well known that some algorithms need special **data structures** --- particular ways of organizing data in a computer.\n",
    "\n",
    "Consider this problem: Find the smallest number amongst a set of N numbers.\n",
    "\n",
    "Can you think of a structured set of rules (algorithms) for solving this problem in a reusable way *without* using a collection / list?"
   ]
  },
  {
   "cell_type": "code",
   "execution_count": 3,
   "id": "da9e115f",
   "metadata": {},
   "outputs": [],
   "source": [
    "# find the smallest number amongst five numbers\n",
    "a = 1\n",
    "b = 5\n",
    "c = 7\n",
    "d = 10\n",
    "e = 2  \n",
    "\n",
    "def find_smallest_among_5(a, b, c, d, e):\n",
    "    smallest = a\n",
    "    if b < smallest:\n",
    "        smallest = b\n",
    "    elif c < smallest:\n",
    "        smallest = c\n",
    "    elif d < smallest:\n",
    "        smallest = d\n",
    "    elif e < smallest:\n",
    "        smallest = e\n",
    "    return smallest"
   ]
  },
  {
   "cell_type": "markdown",
   "id": "274576a4",
   "metadata": {},
   "source": [
    "What if we have six numbers? We can't reuse our function, need to modify to add more parameters and \"switches\" in our chained conditional."
   ]
  },
  {
   "cell_type": "code",
   "execution_count": 4,
   "id": "2ae45b23",
   "metadata": {},
   "outputs": [],
   "source": [
    "def find_smallest_among_6(a, b, c, d, e, f):\n",
    "    smallest = a\n",
    "    if b < smallest:\n",
    "        smallest = b\n",
    "    elif c < smallest:\n",
    "        smallest = c\n",
    "    elif d < smallest:\n",
    "        smallest = d\n",
    "    elif e < smallest:\n",
    "        smallest = e\n",
    "    elif f < smallest:\n",
    "        smallest = f\n",
    "    return smallest"
   ]
  },
  {
   "cell_type": "markdown",
   "id": "cb262586",
   "metadata": {},
   "source": [
    "What if we have three numbers? Again, can't reuse our function, need to modify to remove parameters and \"switches\" in our chained conditional."
   ]
  },
  {
   "cell_type": "code",
   "execution_count": 5,
   "id": "3cc369bc",
   "metadata": {},
   "outputs": [],
   "source": [
    "# or just 3?\n",
    "def find_smallest_among_3(a, b, c):\n",
    "    smallest = a\n",
    "    if b < smallest:\n",
    "        smallest = b\n",
    "    elif c < smallest:\n",
    "        smallest = c\n",
    "    return smallest"
   ]
  },
  {
   "cell_type": "markdown",
   "id": "fd3d322d",
   "metadata": {},
   "source": [
    "In contrast, check out what we can do if we have lists as a data structure! This is an elegant function that covers the class of \"find smallest among N numbers\" problems and can be reused and composed."
   ]
  },
  {
   "cell_type": "code",
   "execution_count": 6,
   "id": "86e0f485",
   "metadata": {},
   "outputs": [],
   "source": [
    "# with lists\n",
    "def find_smallest(l):\n",
    "    # sort the list\n",
    "    l.sort()\n",
    "    # get the first item\n",
    "    return l[0]    "
   ]
  },
  {
   "cell_type": "code",
   "execution_count": 7,
   "id": "281b8db5",
   "metadata": {},
   "outputs": [
    {
     "data": {
      "text/plain": [
       "2"
      ]
     },
     "execution_count": 7,
     "metadata": {},
     "output_type": "execute_result"
    }
   ],
   "source": [
    "l = [4, 5, 7, 10, 2, 10, 15]\n",
    "find_smallest(l)"
   ]
  },
  {
   "cell_type": "markdown",
   "id": "eff69ed6",
   "metadata": {},
   "source": [
    "Again, as you can see, we could in principle solve each variant of the \"find smallest\" problem with separate variables for each item. But it's very clunky! And error prone! And basically impossible to generalize (contra core goal of developing **abstractions over classes of problems**, from CompT).\n",
    "\n",
    "The point to note here is that your ability to model (and therefore solve) problems with programming is dependent on your knowledge of data structures (since they constrain the set of algorithms you can recognize and apply to problems). So as you expand your knowledge of data structures, try to note down also the common situations in which they apply, and what algorithms they tend to \"work well with\".\n",
    "\n",
    "You will learn a few more data structures this semester (dive more into strings this module, then files and dictionaries next module, and dataframes for data analysis in the final module). And of course many more as you advance in your career.\n",
    "\n",
    "Here are lists in context of our example problem from last week:"
   ]
  },
  {
   "cell_type": "code",
   "execution_count": 8,
   "id": "43a1d8ce",
   "metadata": {},
   "outputs": [
    {
     "name": "stdout",
     "output_type": "stream",
     "text": [
      "['sarah@umd.edu', 'joelchan@umd.edu']\n"
     ]
    }
   ],
   "source": [
    "# key variables:\n",
    "# the input LIST of strings\n",
    "inputs = [\n",
    "    \"hello sarah@umd.edu\",\n",
    "    \"from: joelchan@umd.edu\",\n",
    "    \"some other text that doesn't have an email\"\n",
    "]\n",
    "# a LIST to store the email addresses\n",
    "emails = []\n",
    "\n",
    "# Loop over every text input\n",
    "for text_input in inputs:\n",
    "    \n",
    "    # extract an email address\n",
    "    # split the text into subsets\n",
    "    chunks = text_input.split()\n",
    "    \n",
    "    # check every chunk\n",
    "    for chunk in chunks:\n",
    "        # check if it has @ and .\n",
    "        if \"@\" in chunk and \".\" in chunk:\n",
    "            # put the chunk in the email list\n",
    "            emails.append(chunk)\n",
    "# give the email address back to the user\n",
    "print(emails)"
   ]
  },
  {
   "cell_type": "markdown",
   "id": "53ebaeb4",
   "metadata": {},
   "source": [
    "How would you solve this without lists? Or some kind of collection?\n",
    "\n",
    "## Anatomy of a list in Python\n",
    "\n",
    "List constants or \"literals\":\n",
    "1. Are surrounded by square brackets\n",
    "2. Contain at least one element in the list; multiple items are separated by commas."
   ]
  },
  {
   "cell_type": "code",
   "execution_count": 9,
   "id": "6bd1aa0b",
   "metadata": {},
   "outputs": [],
   "source": [
    "\"1, 2, 3\" # string\n",
    "1 # int\n",
    "1.0 # float\n",
    "\n",
    "basic_list = [1, 2, 3] # list\n",
    "another_list = [11,32,53] # the spaces don't matter for Python, only the commas; spaces are for readability for us\n",
    "another_list = [\n",
    "    \"a really long item in the list\", \n",
    "    2,\n",
    "    3\n",
    "]\n",
    "matrix = [\n",
    "    [0, 1, 2],\n",
    "    [0, 0, 1],\n",
    "    [0, 1, 0]\n",
    "]\n",
    "\n",
    "# can also show up like this if you want to see the contents more explicitly\n",
    "# python knows where the list starts or stops based on the brackets\n",
    "basic_list_2 = [\n",
    "    1,\n",
    "    2,\n",
    "    3\n",
    "]\n",
    "\n",
    "# handy for large items in a list\n",
    "sentences = [\n",
    "    \"something\",\n",
    "    \"she sells sea shells by the sea here\",\n",
    "    \"she sells sea shells by the sea there\",\n",
    "]\n",
    "#sentences = [\"she sells sea shells by the sea shore\", \"she sells sea shells by the sea here\", \"she sells sea shells by the sea there\"]"
   ]
  },
  {
   "cell_type": "code",
   "execution_count": 10,
   "id": "9cd6c60a",
   "metadata": {},
   "outputs": [
    {
     "data": {
      "text/plain": [
       "['something',\n",
       " 'she sells sea shells by the sea here',\n",
       " 'she sells sea shells by the sea there']"
      ]
     },
     "execution_count": 10,
     "metadata": {},
     "output_type": "execute_result"
    }
   ],
   "source": [
    "sentences"
   ]
  },
  {
   "cell_type": "code",
   "execution_count": 11,
   "id": "dce3440a",
   "metadata": {},
   "outputs": [
    {
     "data": {
      "text/plain": [
       "[1, 2, 3]"
      ]
     },
     "execution_count": 11,
     "metadata": {},
     "output_type": "execute_result"
    }
   ],
   "source": [
    "basic_list"
   ]
  },
  {
   "cell_type": "markdown",
   "id": "c6d5267a",
   "metadata": {},
   "source": [
    "You can assign lists to variables, just like other values, with a variable assignment statement."
   ]
  },
  {
   "cell_type": "code",
   "execution_count": 12,
   "id": "f994e461",
   "metadata": {},
   "outputs": [
    {
     "name": "stdout",
     "output_type": "stream",
     "text": [
      "[1, 2, 3]\n",
      "[1, '2', 3.0]\n",
      "[[1, 2, 3], [1, '2', 3.0]]\n"
     ]
    },
    {
     "data": {
      "text/plain": [
       "[{'a': 1}, [1, 2, 3]]"
      ]
     },
     "execution_count": 12,
     "metadata": {},
     "output_type": "execute_result"
    }
   ],
   "source": [
    "a = [1, 2, 3]\n",
    "b = [1, \"2\", 3.0]\n",
    "c = [a, b] # list of lists\n",
    "print(a)\n",
    "print(b)\n",
    "print(c)\n",
    "d = {\"a\": 1}\n",
    "e = [d, a]\n",
    "e"
   ]
  },
  {
   "cell_type": "markdown",
   "id": "e0065029",
   "metadata": {},
   "source": [
    "## Some properties of lists\n",
    "\n",
    "Some properties of lists:\n",
    "- Can hold **more than one value**\n",
    "    - What can go in a list?\n",
    "        - Any Python object: even another list!\n",
    "        - Mixed objects: doesn't all have to be the same type of object\n",
    "    - But you can also have lists with just one item, or no items! Rarely will this be useful (except to initialize the variable).\n",
    "- Is **indexed** positionally, and therefore has a notion of position / order\n",
    "    - Some other data structures, like dictionaries, don't have this property\n",
    "        - This allows you to do things like sort, find by position (e.g., \"first\" or \"last\")\n",
    "    - NOTE: the index starts at 0, not 1! So the first item is at index / position 0, the second at index / position 1, and so on...\n",
    "        - Very important to remember this as you work with getting things in and out of lists\n",
    "- Is **mutable**: you can change the data held by the variable directly. Some other data structures (like strings!) are immutable - you can never directly modify the value held by the variable, you can only create a new modified value that you must then assign to the same or different variable to keep around. Hold this thought to compare/contrast when we discuss strings in a couple weeks.\n",
    "\n",
    "Let's demonstrate these properties by \"dissecting\" a few lists together.\n",
    "\n",
    "### Can hold multiple types of data, including other lists"
   ]
  },
  {
   "cell_type": "code",
   "execution_count": 13,
   "id": "e2909bdf",
   "metadata": {},
   "outputs": [
    {
     "name": "stdout",
     "output_type": "stream",
     "text": [
      "[1, '1', [1, 2, 3]]\n",
      "[[1, 2, 3], [1, 2, 3], [1, 2, 3]]\n"
     ]
    }
   ],
   "source": [
    "basic_list = [1, 2, 3] # list\n",
    "x = [1, \"1\", basic_list] # mixed\n",
    "y = [basic_list, basic_list, basic_list] # list of lists\n",
    "empty_list = [] # empty list, often used for initialization\n",
    "list_w_one = [1]\n",
    "print(x)\n",
    "print(y)"
   ]
  },
  {
   "cell_type": "code",
   "execution_count": 14,
   "id": "ad28178d",
   "metadata": {},
   "outputs": [
    {
     "data": {
      "text/plain": [
       "[[1, 2, 3], [1, 2, 3], [1, 2, 3]]"
      ]
     },
     "execution_count": 14,
     "metadata": {},
     "output_type": "execute_result"
    }
   ],
   "source": [
    "y"
   ]
  },
  {
   "cell_type": "markdown",
   "id": "3ec2cb4c",
   "metadata": {},
   "source": [
    "### Indexing\n",
    "\n",
    "REMEMBER: indexing starts at 0"
   ]
  },
  {
   "cell_type": "code",
   "execution_count": 15,
   "id": "47033fb7",
   "metadata": {},
   "outputs": [
    {
     "data": {
      "text/plain": [
       "'black'"
      ]
     },
     "execution_count": 15,
     "metadata": {},
     "output_type": "execute_result"
    }
   ],
   "source": [
    "basic_list_3 = [\n",
    "  \"red\", # psn 0\n",
    "  \"green\", # psn 1\n",
    "  \"blue\", # psn 2\n",
    "  \"yellow\", # psn 3\n",
    "  \"white\", # psn 4\n",
    "    \"black\", # psn 5\n",
    "]\n",
    "\n",
    "# get the first item\n",
    "basic_list_3[0]\n",
    "\n",
    "# get the fourth item\n",
    "basic_list_3[5]"
   ]
  },
  {
   "cell_type": "markdown",
   "id": "62dfb0f9",
   "metadata": {},
   "source": [
    "Here it is in pictures.\n",
    "\n",
    "```{image} assets/positive-indexes.png\n",
    ":alt: typeError\n",
    ":class: bg-primary mb-1\n",
    ":width: 800px\n",
    ":align: center\n",
    "```\n",
    "\n",
    "You can also index in reverse! Handy for getting the last item in a list.\n",
    "\n",
    "```{image} assets/negative-indexes.png\n",
    ":alt: typeError\n",
    ":class: bg-primary mb-1\n",
    ":width: 800px\n",
    ":align: center\n",
    "```\n",
    "\n",
    "Yes, the alert reader will notice that this reverse indexing starts at... 1. So why does the indexing start at 0? I'm afraid I don't have a good answer. [Maybe it came from the design of the C programming language](https://albertkoz.com/why-does-array-start-with-index-0-65ffc07cbce8), and most languages (but not all!! R starts indexing at 1), followed suit."
   ]
  },
  {
   "cell_type": "code",
   "execution_count": 16,
   "id": "560caa98",
   "metadata": {},
   "outputs": [
    {
     "name": "stdout",
     "output_type": "stream",
     "text": [
      "black\n",
      "white\n"
     ]
    }
   ],
   "source": [
    "print(basic_list_3[-1]) # gets you the last item, at position -1\n",
    "print(basic_list_3[-2]) # gets you the 2nd last item, at position -2"
   ]
  },
  {
   "cell_type": "markdown",
   "id": "67a504e9",
   "metadata": {},
   "source": [
    "### Mutating (changing) list values directly"
   ]
  },
  {
   "cell_type": "code",
   "execution_count": 17,
   "id": "a36aac0d",
   "metadata": {},
   "outputs": [
    {
     "name": "stdout",
     "output_type": "stream",
     "text": [
      "[4, 6, 7, 10, 5]\n",
      "[4, 7, 7, 10, 5]\n"
     ]
    }
   ],
   "source": [
    "basic_list_4 = [4, 6, 7, 10, 5]\n",
    "print(basic_list_4)\n",
    "basic_list_4[1] = 7 # can mutate the list (i.e., modify it directly)\n",
    "print(basic_list_4)"
   ]
  },
  {
   "cell_type": "markdown",
   "id": "76333d17",
   "metadata": {},
   "source": [
    "## Working with lists\n",
    "\n",
    "### Make a list\n",
    "Can use the assignment statement to initialize to an empty list, or manually specify what's in a list"
   ]
  },
  {
   "cell_type": "code",
   "execution_count": 18,
   "id": "9b4158ee",
   "metadata": {},
   "outputs": [],
   "source": [
    "x = [1, 2, 3] # list with numbers 1 2 and 3\n",
    "y = [] # empty list\n",
    "z = [4, 7]"
   ]
  },
  {
   "cell_type": "markdown",
   "id": "58e0226d",
   "metadata": {},
   "source": [
    "Can create from existing lists, using **concatenation** (adding two existing lists together)"
   ]
  },
  {
   "cell_type": "code",
   "execution_count": 19,
   "id": "66348f99",
   "metadata": {},
   "outputs": [
    {
     "data": {
      "text/plain": [
       "[1, 2, 3, 4, 7]"
      ]
     },
     "execution_count": 19,
     "metadata": {},
     "output_type": "execute_result"
    }
   ],
   "source": [
    "new_list = x + z\n",
    "new_list"
   ]
  },
  {
   "cell_type": "code",
   "execution_count": 20,
   "id": "4116e20c",
   "metadata": {},
   "outputs": [
    {
     "data": {
      "text/plain": [
       "[]"
      ]
     },
     "execution_count": 20,
     "metadata": {},
     "output_type": "execute_result"
    }
   ],
   "source": [
    "# another way that some people create lists\n",
    "some_list = list()\n",
    "some_list"
   ]
  },
  {
   "cell_type": "code",
   "execution_count": 21,
   "id": "73ea4735",
   "metadata": {},
   "outputs": [
    {
     "data": {
      "text/plain": [
       "3"
      ]
     },
     "execution_count": 21,
     "metadata": {},
     "output_type": "execute_result"
    }
   ],
   "source": [
    "int(\"3\")"
   ]
  },
  {
   "cell_type": "markdown",
   "id": "fed5177f",
   "metadata": {},
   "source": [
    "### Get one thing out of a list: Indexing\n",
    "\n",
    "Lists are composed of a sequence of slots, each of which has an index. Indexing is a way to get something out of a list at a specific index position. In English, we might say, \"get me the 1st item in the list\", or \"get me the 3rd item in the list\". In Python, it's a little bit different, since indices start at 0. So \"the first item in the list\" in Python would be \"the item at index position 0 in the list\".\n",
    "\n",
    "Here are some examples:"
   ]
  },
  {
   "cell_type": "code",
   "execution_count": 22,
   "id": "a1b2d9fa",
   "metadata": {},
   "outputs": [
    {
     "name": "stdout",
     "output_type": "stream",
     "text": [
      "3\n",
      "4\n",
      "5\n"
     ]
    }
   ],
   "source": [
    "some_list = [3, 4, 5]\n",
    "print(some_list[0]) # first item\n",
    "print(some_list[1]) # second item\n",
    "print(some_list[2]) # third item"
   ]
  },
  {
   "cell_type": "markdown",
   "id": "a27df3b4",
   "metadata": {},
   "source": [
    "A helpful trick for getting the last or nth-to-last item is to start the indexing in reverse. Confusingly, this indexing starts at 1... Sorry!\n",
    "- -1 is last\n",
    "- -2 is second last\n",
    "- and so on..."
   ]
  },
  {
   "cell_type": "code",
   "execution_count": 23,
   "id": "89e9de8b",
   "metadata": {},
   "outputs": [
    {
     "name": "stdout",
     "output_type": "stream",
     "text": [
      "6\n",
      "7\n",
      "6\n"
     ]
    }
   ],
   "source": [
    "another_list = [3, 4, 5, 6, 7] # 5 items in this list\n",
    "print(another_list[3]) # how to get the 4th item?\n",
    "print(another_list[-1]) # get the last item\n",
    "print(another_list[-2]) # get the 2nd-to-last item"
   ]
  },
  {
   "cell_type": "markdown",
   "id": "7c1b703b",
   "metadata": {},
   "source": [
    "This reverse indexing can be handy for getting smallest/largest after sorting a list, especially if there are lots of items in the list."
   ]
  },
  {
   "cell_type": "code",
   "execution_count": 24,
   "id": "1dc7d5e2",
   "metadata": {},
   "outputs": [
    {
     "data": {
      "text/plain": [
       "20"
      ]
     },
     "execution_count": 24,
     "metadata": {},
     "output_type": "execute_result"
    }
   ],
   "source": [
    "a = [4, 6, 1, 8, 20, 13]\n",
    "a.sort()\n",
    "a[-1]"
   ]
  },
  {
   "cell_type": "markdown",
   "id": "28923b97",
   "metadata": {},
   "source": [
    "Let's practice some more!"
   ]
  },
  {
   "cell_type": "code",
   "execution_count": 25,
   "id": "659e4621",
   "metadata": {},
   "outputs": [
    {
     "name": "stdout",
     "output_type": "stream",
     "text": [
      "3\n",
      "three\n"
     ]
    }
   ],
   "source": [
    "# get the 3rd item\n",
    "x = [1, 2, 3]\n",
    "y = [\"one\", \"two\", \"three\"]\n",
    "print(x[2])\n",
    "print(y[2])"
   ]
  },
  {
   "cell_type": "code",
   "execution_count": 26,
   "id": "09ed5ad6",
   "metadata": {},
   "outputs": [
    {
     "name": "stdout",
     "output_type": "stream",
     "text": [
      "1\n",
      "one\n"
     ]
    }
   ],
   "source": [
    "# get the first item\n",
    "print(x[0])\n",
    "print(y[0])"
   ]
  },
  {
   "cell_type": "markdown",
   "id": "2e0b5988",
   "metadata": {},
   "source": [
    "### Get multiple (contiguous) things out of a list: Slicing\n",
    "**Slicing** is a variation of indexing that grabs more than one value. The colon specifies that you're slicing.\n",
    "\n",
    "The first number is where you start.\n",
    "The second number is the upper limit, i.e., up to but *not including*."
   ]
  },
  {
   "cell_type": "code",
   "execution_count": 27,
   "id": "d1a84a36",
   "metadata": {},
   "outputs": [
    {
     "name": "stdout",
     "output_type": "stream",
     "text": [
      "[8, 1, 2, 5]\n"
     ]
    }
   ],
   "source": [
    "x = [\n",
    "  4, # 0\n",
    "  6, # 1\n",
    "  8, # 2\n",
    "  1, # 3\n",
    "  2, # 4\n",
    "  5  # 5\n",
    "]\n",
    "# get the first two items\n",
    "# print(x[0:2])\n",
    "# # get the last two items\n",
    "# print(x[-2:])\n",
    "# # get the items from the 3rd position onwards (i want to ignore the first two)\n",
    "print(x[2:])\n",
    "# # get everything up to the 3rd position (i.e., index 2)\n",
    "# print(x[:3])"
   ]
  },
  {
   "cell_type": "markdown",
   "id": "f4e11494",
   "metadata": {},
   "source": [
    "Let's practice some more!"
   ]
  },
  {
   "cell_type": "code",
   "execution_count": 28,
   "id": "bf098b98",
   "metadata": {},
   "outputs": [
    {
     "data": {
      "text/plain": [
       "[4, 6, 8, 1]"
      ]
     },
     "execution_count": 28,
     "metadata": {},
     "output_type": "execute_result"
    }
   ],
   "source": [
    "# get everything up to the 4th item\n",
    "x[:4]"
   ]
  },
  {
   "cell_type": "markdown",
   "id": "caa644b4",
   "metadata": {},
   "source": [
    "### Modify values (\"mutate\") in a list\n",
    "\n",
    "Use the index to specify which part of the list you want to modify, and assign it a (new) value"
   ]
  },
  {
   "cell_type": "code",
   "execution_count": 29,
   "id": "8601eeb9",
   "metadata": {},
   "outputs": [
    {
     "name": "stdout",
     "output_type": "stream",
     "text": [
      "[4, 6, 8, 1, 2, 5]\n",
      "first item 4\n",
      "[10, 6, 8, 1, 2, 5]\n",
      "new first item 10\n"
     ]
    }
   ],
   "source": [
    "x = [4,6,8,1,2,5]\n",
    "print(x)\n",
    "print(\"first item\", x[0])\n",
    "# change the first item to 10\n",
    "x[0] = 10 # notice how this looks like an assignment statement\n",
    "print(x)\n",
    "print(\"new first item\", x[0])"
   ]
  },
  {
   "cell_type": "code",
   "execution_count": 30,
   "id": "11171db9",
   "metadata": {},
   "outputs": [
    {
     "data": {
      "text/plain": [
       "[4, 6, 8, 1, 2, 20]"
      ]
     },
     "execution_count": 30,
     "metadata": {},
     "output_type": "execute_result"
    }
   ],
   "source": [
    "x = [\n",
    "  4, # 0\n",
    "  6, # 1\n",
    "  8, # 2\n",
    "  1, # 3\n",
    "  2, # 4\n",
    "  5  # 5\n",
    "]\n",
    "# how do we modify this list so that the last item has the value 20?\n",
    "x[5] = 20\n",
    "# x[-1] = 20 # this is equivalent\n",
    "x"
   ]
  },
  {
   "cell_type": "markdown",
   "id": "5c56a356",
   "metadata": {},
   "source": [
    "### Check what's in a list\n",
    "\n",
    "Python provides the `in` operator that lets you check if an item is in a list.\n",
    "\n",
    "It's a logical operator that returns True or False, so you can use it as a logica / Boolean expression, for use with conditionals and so on. You'll find this to be quite handy: we often want to be lazy and only do something if a list contains a thing we care about!"
   ]
  },
  {
   "cell_type": "code",
   "execution_count": 31,
   "id": "f77d4b36",
   "metadata": {},
   "outputs": [
    {
     "data": {
      "text/plain": [
       "True"
      ]
     },
     "execution_count": 31,
     "metadata": {},
     "output_type": "execute_result"
    }
   ],
   "source": [
    "names = [\"joe\", \"harry\", \"rachel\", \"kelly\"]\n",
    "\"joel\" not in names\n",
    "# if \"joel\" in names:\n",
    "#     print(\"Found!\")\n",
    "# else:\n",
    "#     print(\"Not found!\")"
   ]
  },
  {
   "cell_type": "markdown",
   "id": "cd6fdf40",
   "metadata": {},
   "source": [
    "## List methods and collection functions\n",
    "\n",
    "There are a great many other built-in operations in Python that let you do things with lists. They fall into list *methods* and also built in *functions* that take a list as an argument.\n",
    "\n",
    "### Collection functions\n",
    "\n",
    "Python has built in functions that operate on lists as arguments\n",
    "- `len()`\n",
    "- math ones: `max()`, `min()`, `sum()`\n",
    "- `sorted()`\n",
    "- look for the ones that have an \"iterable\" as as parameter type here: https://docs.python.org/3/library/functions.html\n",
    "\n",
    "These are functions, so mechanics are just like functions - function name, pass in list as an **input** argument, plus whatever other arguments might be needed, and get back some **output** value\n",
    "\n",
    "Let's play with a few!"
   ]
  },
  {
   "cell_type": "code",
   "execution_count": 32,
   "id": "b2466f38",
   "metadata": {},
   "outputs": [
    {
     "name": "stdout",
     "output_type": "stream",
     "text": [
      "10\n"
     ]
    }
   ],
   "source": [
    "# \n",
    "x = [1, 2, 3, 1, 4, 1, 5, 10, 12, 11]\n",
    "x_length = len(x) # get the length of x\n",
    "print(x_length)"
   ]
  },
  {
   "cell_type": "code",
   "execution_count": 33,
   "id": "0754f335",
   "metadata": {},
   "outputs": [
    {
     "name": "stdout",
     "output_type": "stream",
     "text": [
      "[1, 1, 1, 2, 3, 4, 5, 10, 11, 12]\n"
     ]
    }
   ],
   "source": [
    "# make a new list that is a sorted version of x. do this if you want to keep the original list around.\n",
    "x_sorted = sorted(x) \n",
    "print(x_sorted)"
   ]
  },
  {
   "cell_type": "code",
   "execution_count": 34,
   "id": "951462d6",
   "metadata": {},
   "outputs": [
    {
     "name": "stdout",
     "output_type": "stream",
     "text": [
      "1\n",
      "12\n",
      "5.0\n"
     ]
    }
   ],
   "source": [
    "print(min(x))\n",
    "print(max(x))\n",
    "print(sum(x)/len(x)) # average, using suma nd len"
   ]
  },
  {
   "cell_type": "markdown",
   "id": "430e7d41",
   "metadata": {},
   "source": [
    "NOTE: you can't use any of these math-y functions with lists of \"not-numbers\". For example, the following code will yield a `TypeError`:\n",
    "```\n",
    "list_of_strings = [\n",
    "    \"she\",\n",
    "    \"sells\",\n",
    "    \"seashells\",\n",
    "    \"by\",\n",
    "    \"the\",\n",
    "    \"seashore\"\n",
    "]\n",
    "sum(list_of_strings)\n",
    "```\n",
    "### List methods\n",
    "\n",
    "Python lists also have *methods*. \n",
    "\n",
    "in Python, methods are like functions that only certain kinds of objects (e.g., list) can do. We'll see that many of the data structures in Python are like this, including strings in 2 weeks. And you can also create your own objects! You will learn much more about this in 326 - this is \"object oriented programming\".\n",
    "\n",
    "All of the list methods are listed (no pun intended!) here: https://docs.python.org/3/tutorial/datastructures.html\n",
    "\n",
    "Here are some common examples:"
   ]
  },
  {
   "cell_type": "code",
   "execution_count": 35,
   "id": "03a0a3de",
   "metadata": {},
   "outputs": [
    {
     "name": "stdout",
     "output_type": "stream",
     "text": [
      "original list: [1, 2, 3, 1, 4, 1, 5]\n",
      "\n",
      " [1, 2, 3, 1, 4, 1, 5, 4] after appending 4\n",
      "\n",
      " [1, 1, 1, 2, 3, 4, 4, 5] after sorting\n",
      "\n",
      " [5, 4, 4, 3, 2, 1, 1, 1] after sorting in reverse order\n",
      "\n",
      "number of occurences of 1 in the list: 3\n",
      "\n",
      "1 is at position 5 in the list\n",
      "\n",
      " [5, 4, 4, 22, 3, 2, 1, 1, 1] after inserting 22 at the first position\n"
     ]
    }
   ],
   "source": [
    "a_list = [1, 2, 3, 1, 4, 1, 5]\n",
    "print(\"original list:\", a_list)\n",
    "\n",
    "# add something to the end of a list (WE'LL USE THIS A LOT)\n",
    "a_list.append(4)\n",
    "print(\"\\n\", a_list, \"after appending 4\")\n",
    "\n",
    "# sort the list (WE'LL ALSO USE THIS A LOT)\n",
    "a_list.sort()\n",
    "print(\"\\n\", a_list, \"after sorting\")\n",
    "# control how you sort\n",
    "a_list.sort(reverse=True)\n",
    "print(\"\\n\", a_list, \"after sorting in reverse order\")\n",
    "\n",
    "# count how many times an item is in a list (handy for searching)\n",
    "print(\"\\nnumber of occurences of 1 in the list:\", a_list.count(1)) # how many times does the number 1 show up in this list?\n",
    "\n",
    "# where is 1 in the list?\n",
    "print(\"\\n1 is at position\", a_list.index(1), \"in the list\")\n",
    "\n",
    "# insert an item at a specific position\n",
    "a_list.insert(3, 22)\n",
    "print(\"\\n\", a_list, \"after inserting 22 at the first position\")"
   ]
  },
  {
   "cell_type": "markdown",
   "id": "cce71659",
   "metadata": {},
   "source": [
    "#### Syntax for (list) methods\n",
    "\n",
    "Stepping back for a second, here's how it works, basically, syntax wise.\n",
    "\n",
    "`nameOfVariable.nameOfMethod(anyArgumentsTheMethodsNeed)`\n",
    "\n",
    "And in pictures:\n",
    "\n",
    "```{image} assets/python-method-example.png\n",
    ":alt: typeError\n",
    ":class: bg-primary mb-1\n",
    ":width: 800px\n",
    ":align: center\n",
    "```\n",
    "\n",
    "Note: unlike functions, list methods change the list itself; they do *not* return a new value. Like your functions that lack return statements, the return value of list methods is `None`."
   ]
  },
  {
   "cell_type": "code",
   "execution_count": 36,
   "id": "29288c00",
   "metadata": {},
   "outputs": [
    {
     "name": "stdout",
     "output_type": "stream",
     "text": [
      "None\n"
     ]
    }
   ],
   "source": [
    "result = a_list.sort()\n",
    "print(result)"
   ]
  },
  {
   "cell_type": "markdown",
   "id": "a02ba8cc",
   "metadata": {},
   "source": [
    "If you want to keep the original list instead of modifying it directly, you should use the collection functions (e.g., `sorted()` instead of `list.sort()`)."
   ]
  },
  {
   "cell_type": "code",
   "execution_count": 37,
   "id": "2accb83f",
   "metadata": {},
   "outputs": [
    {
     "name": "stdout",
     "output_type": "stream",
     "text": [
      "[5, 2, 7, 10, 3]\n",
      "[2, 3, 5, 7, 10]\n"
     ]
    }
   ],
   "source": [
    "a_list = [5,2,7,10,3]\n",
    "result = sorted(a_list)\n",
    "print(a_list)\n",
    "print(result)"
   ]
  },
  {
   "cell_type": "markdown",
   "id": "01887a4e",
   "metadata": {},
   "source": [
    "### Mapping methods/functions to situations\n",
    "\n",
    "Let's practice! Keep these handy, and guess/propose situations where some of these methods/functions will be useful"
   ]
  },
  {
   "cell_type": "code",
   "execution_count": 38,
   "id": "16d8fd6e",
   "metadata": {},
   "outputs": [
    {
     "data": {
      "text/plain": [
       "[1, 3, 7, 9, 11]"
      ]
     },
     "execution_count": 38,
     "metadata": {},
     "output_type": "execute_result"
    }
   ],
   "source": [
    "# finding the smallest/biggest thing\n",
    "x = [1, 2, 3, 7, 9, 11, 14]\n",
    "\n",
    "# find the smallest?\n",
    "min(x) # yes, we didn't actually even need to write our `find_smallest()` function above!\n",
    "\n",
    "# find the biggest?\n",
    "max(x)\n",
    "\n",
    "# sort?\n",
    "x.sort()\n",
    "\n",
    "# filtering\n",
    "def is_odd(n):\n",
    "    return n % 2 != 0\n",
    "\n",
    "# apply the \"is_odd\" function to filter all the elements in x, so that we only get items that pass the \"is_odd\" test\n",
    "list(filter(is_odd, x))"
   ]
  },
  {
   "cell_type": "markdown",
   "id": "57d19373",
   "metadata": {},
   "source": [
    "Meta-points here\n",
    "- Get in the habit of suspecting that something you want to do probably already has a function/method written for it that you can use (that probably does it well)\n",
    "- Notice the docstrings!"
   ]
  },
  {
   "cell_type": "markdown",
   "id": "7fd83fce",
   "metadata": {
    "id": "-iQvhWi7KGAg"
   },
   "source": [
    "## Common errors\n",
    "\n",
    "### Forgetting that indices start at 0\n",
    "\n",
    "As I noted earlier, remember that indices start at 0. A common error to make if you forget this, is to get something at the wrong position!"
   ]
  },
  {
   "cell_type": "code",
   "execution_count": 39,
   "id": "a0d35d0f",
   "metadata": {},
   "outputs": [
    {
     "data": {
      "text/plain": [
       "2"
      ]
     },
     "execution_count": 39,
     "metadata": {},
     "output_type": "execute_result"
    }
   ],
   "source": [
    "a = [1, 2, 3]\n",
    "a[1]"
   ]
  },
  {
   "cell_type": "markdown",
   "id": "212ab5ff",
   "metadata": {},
   "source": [
    "### IndexError\n",
    "\n",
    "Another common error is to try to get something from an index position that doesn't yet exist in a list.\n",
    "\n",
    "For example, the list `x = [1, 4, 5]` has 3 items (has length 3). \n",
    "\n",
    "But! If I want to get the 3rd item with `x[3]`, I will get an IndexError, because the item only has indices that go up to 2!\n",
    "\n",
    "Sometimes this happens if you forget 0-indexing, and try to get the \"3rd item\" with index 3 (instead of the correct index 2).\n",
    "\n",
    "We'll return to this error next week, because it often shows up with iteration"
   ]
  },
  {
   "cell_type": "code",
   "execution_count": 40,
   "id": "f2811b0f",
   "metadata": {},
   "outputs": [
    {
     "ename": "SyntaxError",
     "evalue": "invalid syntax (3285008488.py, line 6)",
     "output_type": "error",
     "traceback": [
      "\u001b[0;36m  File \u001b[0;32m\"/var/folders/xz/_hjc5hsx743dclmg8n5678nc0000gn/T/ipykernel_89461/3285008488.py\"\u001b[0;36m, line \u001b[0;32m6\u001b[0m\n\u001b[0;31m    This happens most with operations that can be done wiht methods and functions, such as sorting\u001b[0m\n\u001b[0m         ^\u001b[0m\n\u001b[0;31mSyntaxError\u001b[0m\u001b[0;31m:\u001b[0m invalid syntax\n"
     ]
    }
   ],
   "source": [
    "x = [1, 4, 5]\n",
    "x[3]\n",
    "\n",
    "### Mixing up mutable/immutable when using methods/functions\n",
    "\n",
    "This happens most with operations that can be done wiht methods and functions, such as sorting\n",
    "\n",
    "```{code-cell} ipython3\n",
    "x = [1, 7, 4, 2]\n",
    "xsort = sorted(x) # don't change x, just make a  new list that is a sorted version of x\n",
    "print(x)\n",
    "print(xsort)"
   ]
  },
  {
   "cell_type": "code",
   "execution_count": null,
   "id": "c532f604",
   "metadata": {},
   "outputs": [],
   "source": [
    "x = [1, 7, 4, 2]\n",
    "xsort = x.sort() # modify x directly, we don't care if it changes, so it won't return a value and xsort will have None as its value\n",
    "print(x)\n",
    "print(xsort)"
   ]
  }
 ],
 "metadata": {
  "jupytext": {
   "text_representation": {
    "extension": ".md",
    "format_name": "myst",
    "format_version": 0.13,
    "jupytext_version": "1.14.4"
   }
  },
  "kernelspec": {
   "display_name": "Python 3 (ipykernel)",
   "language": "python",
   "name": "python3"
  },
  "language_info": {
   "codemirror_mode": {
    "name": "ipython",
    "version": 3
   },
   "file_extension": ".py",
   "mimetype": "text/x-python",
   "name": "python",
   "nbconvert_exporter": "python",
   "pygments_lexer": "ipython3",
   "version": "3.9.7"
  },
  "source_map": [
   12,
   34,
   42,
   44,
   54,
   73,
   75,
   89,
   92,
   101,
   104,
   113,
   116,
   126,
   152,
   162,
   197,
   201,
   203,
   207,
   217,
   238,
   248,
   250,
   256,
   271,
   293,
   296,
   300,
   305,
   312,
   317,
   321,
   326,
   332,
   334,
   342,
   347,
   354,
   359,
   363,
   367,
   371,
   379,
   383,
   391,
   408,
   412,
   415,
   421,
   431,
   444,
   452,
   459,
   477,
   484,
   490,
   494,
   518,
   542,
   561,
   564,
   568,
   573,
   579,
   598,
   604,
   612,
   615,
   629,
   644
  ]
 },
 "nbformat": 4,
 "nbformat_minor": 5
}