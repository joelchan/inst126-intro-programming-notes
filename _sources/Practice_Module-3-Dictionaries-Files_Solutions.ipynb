{
 "cells": [
  {
   "cell_type": "markdown",
   "id": "9a21cc2c-7d99-4878-90fe-6677009e6d8f",
   "metadata": {},
   "source": [
    "# Practice problems for Project 3\n",
    "\n",
    "## Problem 1: index occurrences of characters across lines of a story\n",
    "\n",
    "Input data is `game-of-thrones.txt` in the `data/` directory."
   ]
  },
  {
   "cell_type": "code",
   "execution_count": 10,
   "id": "a7ea0de4-256e-47e4-a0ec-d528cc9a5dc6",
   "metadata": {},
   "outputs": [],
   "source": [
    "characterList = [\n",
    "    \"Bran\",\n",
    "    \"Jon\",\n",
    "    \"Greyjoy\",\n",
    "    \"Robb\",\n",
    "    \"father\",\n",
    "    \"Jory\",\n",
    "    \"Theon\"\n",
    "]"
   ]
  },
  {
   "cell_type": "markdown",
   "id": "019cde45-7731-444a-96cf-768b6b482065",
   "metadata": {},
   "source": [
    "## Problem 2: make a search engine for character mentions\n",
    "\n",
    "Input data is `game-of-thrones.txt` in the `data/` directory.\n",
    "\n",
    "I want to get back every line that any given character was mentioned in."
   ]
  },
  {
   "cell_type": "code",
   "execution_count": null,
   "id": "1c0e5843-10f4-4113-800f-db19029d6cc1",
   "metadata": {},
   "outputs": [],
   "source": [
    "characterList = [\n",
    "    \"Bran\",\n",
    "    \"Jon\",\n",
    "    \"Greyjoy\",\n",
    "    \"Robb\",\n",
    "    \"father\",\n",
    "    \"Jory\",\n",
    "    \"Theon\"\n",
    "]"
   ]
  },
  {
   "cell_type": "markdown",
   "id": "c7ba2f70-6b72-4d0e-8e78-7800f5602b3f",
   "metadata": {
    "tags": []
   },
   "source": [
    "## Problem 3: index total dollar amount of donations associated with each team\n",
    "\n",
    "Input data is `donations.txt` in the `data/` directory. There is a teams \"column\", and I want to know how much was donated for each team."
   ]
  },
  {
   "cell_type": "code",
   "execution_count": null,
   "id": "2f214d69-fdf8-43db-a51e-5baad760f549",
   "metadata": {},
   "outputs": [],
   "source": []
  },
  {
   "cell_type": "markdown",
   "id": "6a3670fb-75c9-4df5-a100-7c00f4e002c6",
   "metadata": {
    "tags": []
   },
   "source": [
    "## Problem 4: index donors associated with each team\n",
    "\n",
    "Input data is `donations.txt` in the `assets/` directory. There is a name \"column\", and I want to know for each team, the list of names who donated for that team."
   ]
  },
  {
   "cell_type": "code",
   "execution_count": null,
   "id": "c25c7b19-8f23-4261-94b5-93a92e25baf0",
   "metadata": {},
   "outputs": [],
   "source": []
  },
  {
   "cell_type": "markdown",
   "id": "471e9a2d-8ce6-4ee9-af39-88f1da45d742",
   "metadata": {},
   "source": [
    "## Bonus! Map game of thrones character interactions\n",
    "\n",
    "Each character should be mapped to a dictionary of interactions, where the keys are other characters they've interacted with, and the values are the number of times they've interacted.\n",
    "\n",
    "Interactions are based on co-occurrences in the same line of the story.\n",
    "\n",
    "Input data is `game-of-thrones.txt`.\n",
    "\n",
    "The resulting dictionary should look something like this:"
   ]
  },
  {
   "cell_type": "code",
   "execution_count": 33,
   "id": "a7e13b86-9f70-488a-9b73-fd6fe445e238",
   "metadata": {},
   "outputs": [],
   "source": [
    "answer = {\n",
    "    'Bran': {\n",
    "        'father': 11,\n",
    "        'Robb': 6,\n",
    "        'Jon': 8,\n",
    "        'Greyjoy': 3,\n",
    "        'Theon': 2,\n",
    "        'Jory': 2\n",
    "    },\n",
    "    'father': {\n",
    "        'Bran': 11,\n",
    "        'Jon': 6,\n",
    "        'Robb': 4,\n",
    "        'Greyjoy': 2,\n",
    "        'Theon': 1,\n",
    "        'Jory': 2\n",
    "    },\n",
    "    'Robb': {\n",
    "        'Bran': 6,\n",
    "        'Jon': 6,\n",
    "        'father': 4,\n",
    "        'Greyjoy': 1,\n",
    "        'Theon': 1,\n",
    "        'Jory': 2\n",
    "    },\n",
    "    'Jon': {\n",
    "        'Bran': 8,\n",
    "        'Robb': 6,\n",
    "        'father': 6,\n",
    "        'Greyjoy': 3,\n",
    "        'Jory': 1,\n",
    "        'Theon': 1\n",
    "    },\n",
    "    'Greyjoy': {\n",
    "        'Bran': 3,\n",
    "        'Robb': 1,\n",
    "        'father': 2,\n",
    "        'Theon': 7,\n",
    "        'Jon': 3,\n",
    "        'Jory': 2\n",
    "    },\n",
    "    'Theon': {\n",
    "        'Bran': 2,\n",
    "        'Greyjoy': 7,\n",
    "        'Robb': 1,\n",
    "        'father': 1,\n",
    "        'Jory': 2,\n",
    "        'Jon': 1\n",
    "    },\n",
    "    'Jory': {\n",
    "        'father': 2,\n",
    "        'Bran': 2,\n",
    "        'Greyjoy': 2,\n",
    "        'Theon': 2,\n",
    "        'Robb': 2,\n",
    "        'Jon': 1\n",
    "    }\n",
    "}"
   ]
  },
  {
   "cell_type": "code",
   "execution_count": null,
   "id": "0ccee626-6b20-4473-930c-e45c063f951d",
   "metadata": {},
   "outputs": [],
   "source": []
  },
  {
   "cell_type": "code",
   "execution_count": null,
   "id": "38005a76-76f4-4a63-8642-299574caebd2",
   "metadata": {},
   "outputs": [],
   "source": []
  }
 ],
 "metadata": {
  "kernelspec": {
   "display_name": "Python 3 (ipykernel)",
   "language": "python",
   "name": "python3"
  },
  "language_info": {
   "codemirror_mode": {
    "name": "ipython",
    "version": 3
   },
   "file_extension": ".py",
   "mimetype": "text/x-python",
   "name": "python",
   "nbconvert_exporter": "python",
   "pygments_lexer": "ipython3",
   "version": "3.9.7"
  }
 },
 "nbformat": 4,
 "nbformat_minor": 5
}
