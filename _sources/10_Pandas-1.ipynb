{
 "cells": [
  {
   "cell_type": "markdown",
   "metadata": {
    "id": "YS4zb0r-Xu3x"
   },
   "source": [
    "# Pandas for data analysis with Python: Part 1\n",
    "\n",
    "## What is Pandas?"
   ]
  },
  {
   "cell_type": "markdown",
   "metadata": {
    "id": "pirCy3GOXy7A"
   },
   "source": [
    "Pandas is a **library** in Python that is designed for **data manipulation and analysis**\n",
    "\n",
    "Especially tabular data, as in an SQL table or Excel spreadsheet. So things like:\n",
    "* Time series data\n",
    "* Arbitrary matrix data with meaningful row and column labels\n",
    "* Any other form of observational / statistical data sets"
   ]
  },
  {
   "cell_type": "markdown",
   "metadata": {
    "id": "y1nJ1dxvh1qc"
   },
   "source": [
    "![](https://firebasestorage.googleapis.com/v0/b/firescript-577a2.appspot.com/o/imgs%2Fapp%2Fmegacoglab%2FevDDX8yw-s.png?alt=media&token=8b81e706-a68e-40ac-a3aa-4bccd403fd45)"
   ]
  },
  {
   "cell_type": "markdown",
   "metadata": {
    "id": "YaUiUOmcnWj1"
   },
   "source": [
    "### Example / motivating use cases"
   ]
  },
  {
   "cell_type": "markdown",
   "metadata": {
    "id": "kEVBltVFk_-C"
   },
   "source": [
    "Back to last week's demo!"
   ]
  },
  {
   "cell_type": "markdown",
   "metadata": {
    "id": "MKRiDOklsetz"
   },
   "source": [
    "## Importing the pandas library (getting started)"
   ]
  },
  {
   "cell_type": "markdown",
   "metadata": {
    "id": "l2gfEzKViujS"
   },
   "source": [
    "### What is a library?\n",
    "\n",
    "You can think of a library is a **collection of functions and data structures**. You *import* a library (or subsets of it) into your program / notebook so you have access to special functions or data structures in your program.\n",
    "\n",
    "You are already using Python's standard library, which includes built-in functions like `print()`, and built-in data structures like `str` and `dict`. Every time you fire up Python, these are \"imported\" into your program in the background.\n",
    "\n",
    "As you advance in your programming career, you will often find that you want to solve some (sub)problems that others have tried to do, and wrote a collection of functions and/or data structures to solve those problems really well, and saved that collection into a library that others can use. Take advantage of this!"
   ]
  },
  {
   "cell_type": "markdown",
   "metadata": {
    "id": "MKRiDOklsetz"
   },
   "source": [
    "### You should learn how to read documentation for libraries\n",
    "\n",
    "You should have handy access to (and know how to use):\n",
    "- Docs for \"ground truth\"\n",
    "- Some collection of examples for references.\n",
    "\n",
    "The pandas website is decent place to start: https://pandas.pydata.org/\n",
    "\n",
    "This \"cheat sheet\" is also a really helpful guide to more common operations that you may run into later: https://pandas.pydata.org/Pandas_Cheat_Sheet.pdf\n",
    "\n",
    "There are also many blogs that are helpful, like towardsdatascience.com\n",
    "\n",
    "The cool thing about pandas and data analysis in python is that many people share notebooks that you can inspect / learn from / adapt code for your own projects (just like mine!).\n",
    "\n",
    "Learning how to use libraries is training for learning to code in teams, using code from others. Basically nobody writes anything all from scratch, unless they are trying to *really* **REALLY** learn something deeply."
   ]
  },
  {
   "cell_type": "markdown",
   "metadata": {
    "id": "u7jmcWXJsw7l"
   },
   "source": [
    "### \"importing\" a library: mechanics"
   ]
  },
  {
   "cell_type": "markdown",
   "metadata": {
    "id": "iwVuI5GmszeR"
   },
   "source": [
    "Here's what it looks like to import a library and use it, conceptually with a \"fake\" library, and with the pandas library"
   ]
  },
  {
   "cell_type": "markdown",
   "metadata": {
    "id": "3mp-JCPQs87F"
   },
   "source": [
    "![](https://firebasestorage.googleapis.com/v0/b/firescript-577a2.appspot.com/o/imgs%2Fapp%2Fmegacoglab%2F0P_oLpCNzy.png?alt=media&token=0908b80b-a761-4588-85b5-7c87bee6bf0e)"
   ]
  },
  {
   "cell_type": "markdown",
   "metadata": {
    "id": "d0xPjQu2s9RF"
   },
   "source": [
    "We often want to import libraries with \"as\"\n",
    "\n",
    "The name after `as` is sort of like a variable name; usually we do that if the library name is clunky, or might conflict with variable names we want to use\n",
    "\n",
    "For pandas, by convention people usually import it `as pd`."
   ]
  },
  {
   "cell_type": "markdown",
   "metadata": {
    "id": "zUfoA-0etIkg"
   },
   "source": [
    "![](https://firebasestorage.googleapis.com/v0/b/firescript-577a2.appspot.com/o/imgs%2Fapp%2Fmegacoglab%2FLJ66aL66zf.png?alt=media&token=e0ae487c-910f-48bc-a8f2-ac42424009a9)"
   ]
  },
  {
   "cell_type": "markdown",
   "metadata": {
    "id": "wArN5QpYtck8"
   },
   "source": [
    "Let's do that quickly to illustrate."
   ]
  },
  {
   "cell_type": "code",
   "execution_count": null,
   "metadata": {
    "id": "p_bX2Zdhtfs0"
   },
   "outputs": [],
   "source": [
    "# import the pandas library, give it the name pd for easier access\n",
    "import pandas as pd"
   ]
  },
  {
   "cell_type": "code",
   "execution_count": null,
   "metadata": {
    "id": "hTidhAj42g0a"
   },
   "outputs": [],
   "source": [
    "# test here\n",
    "pd."
   ]
  },
  {
   "cell_type": "markdown",
   "metadata": {},
   "source": [
    "TODO: Aside: we can import a couple other things in the standard library that are useful.\n",
    "\n",
    "math (for math stuff)\n",
    "\n",
    "os (for knowing/seeing where we are)"
   ]
  },
  {
   "cell_type": "markdown",
   "metadata": {
    "id": "4-Pwu6LeEUd5"
   },
   "source": [
    "## The core of Pandas: The dataframe data structure\n",
    "\n",
    "We've so far progressed from single-item data structures (`str`, `int`, `float`) to \"basic\" collections (`list`, `dict`)\n",
    "\n",
    "Now we will learn about the `dataframe`, which has:\n",
    "* nice properties of both lists (*orderable, indexable*) and dictionaries (can *retrieve things quickly by key, store associated values*)\n",
    "* and othe properties and *built-in algorithms and methods* that are useful for data analysis (e.g., summarizing, grouping, statistics, etc.)\n",
    "\n",
    "Remember: **data structures and algorithms go hand in hand**: people made dataframes (and the associated pandas library) so we can do particular kinds of algorithms more easily."
   ]
  },
  {
   "cell_type": "markdown",
   "metadata": {
    "id": "4NB9q5Sqd-s7"
   },
   "source": [
    "Dataframes are basically like smart spreadsheets that Python can read/write\n",
    "\n",
    "![](https://firebasestorage.googleapis.com/v0/b/firescript-577a2.appspot.com/o/imgs%2Fapp%2Fmegacoglab%2Fpf7jrFPGel.png?alt=media&token=d9992446-f30f-436b-9102-fa2baab5f3b0)\n",
    "\n",
    "The data is in rows and columns. Columns in pandas are special data structures called `series`.\n",
    "\n",
    "More [here](https://www.geeksforgeeks.org/python-pandas-dataframe/)"
   ]
  },
  {
   "cell_type": "markdown",
   "metadata": {
    "id": "vSTY-6cTSSOP"
   },
   "source": [
    "#### Dataframes combine the best characteristics of lists and dictionaries, and more!"
   ]
  },
  {
   "cell_type": "markdown",
   "metadata": {
    "id": "_c5MqErlSZXT"
   },
   "source": [
    "- Can sort (from lists)\n",
    "- Can access data by key (from dictionaries)\n",
    "- Can also reindex easily!"
   ]
  },
  {
   "cell_type": "code",
   "execution_count": null,
   "metadata": {
    "colab": {
     "base_uri": "https://localhost:8080/",
     "height": 580
    },
    "id": "hIWihqhrSX70",
    "outputId": "99ba51d0-3f41-486f-d096-2be34c1c26a3"
   },
   "outputs": [],
   "source": [
    "# integrated practice! how do we specify directions to the INST courses file?\n",
    "fpath = 'data/INST courses.csv'\n",
    "df = pd.read_csv(fpath)\n",
    "df.head(10)"
   ]
  },
  {
   "cell_type": "code",
   "execution_count": null,
   "metadata": {},
   "outputs": [],
   "source": [
    "# show me the \"columns\"\n",
    "df.columns"
   ]
  },
  {
   "cell_type": "code",
   "execution_count": null,
   "metadata": {},
   "outputs": [],
   "source": [
    "# get the code column\n",
    "df['Code']"
   ]
  },
  {
   "cell_type": "code",
   "execution_count": null,
   "metadata": {
    "colab": {
     "base_uri": "https://localhost:8080/",
     "height": 1000
    },
    "id": "Ci6MJTj0c1rD",
    "outputId": "8d233bc3-8a8a-4364-93cf-5177de680f2c"
   },
   "outputs": [],
   "source": [
    "# find the courses that are 3 credits\n",
    "df[df['Credits'] == 3.0]"
   ]
  },
  {
   "cell_type": "code",
   "execution_count": null,
   "metadata": {},
   "outputs": [],
   "source": [
    "# find all courses where the title contains the word introduction\n",
    "df[df['Title'].str.contains(\"Introduction\")]"
   ]
  },
  {
   "cell_type": "code",
   "execution_count": null,
   "metadata": {
    "colab": {
     "base_uri": "https://localhost:8080/",
     "height": 580
    },
    "id": "1A4nn6EKwXbT",
    "outputId": "91b0269e-4780-40d1-e4aa-a6db87c8f931"
   },
   "outputs": [],
   "source": [
    "df.head(10) # show me the top 10 rows in the dataframe"
   ]
  },
  {
   "cell_type": "markdown",
   "metadata": {
    "id": "lJRnLbtErjLP"
   },
   "source": [
    "## Common operations (basic)\n",
    "\n",
    "Let's go over some common operations with dataframes. This will overlap with your PCE, mostly Q1-5 and Q8."
   ]
  },
  {
   "cell_type": "markdown",
   "metadata": {
    "id": "bK8uPFuJt7JG"
   },
   "source": [
    "### Constructing a dataframe"
   ]
  },
  {
   "cell_type": "markdown",
   "metadata": {
    "id": "OvYOLL-uuFEr"
   },
   "source": [
    "#### From other data structures (e.g., lists, dictionaries)"
   ]
  },
  {
   "cell_type": "markdown",
   "metadata": {
    "id": "m-HWfgJHpmMp"
   },
   "source": [
    "Seldom use this at the start (usually we import data from an external file like a `.csv` file into a dataframe.\n",
    "\n",
    "But I do use this frequently when I'm creating new dataframes for analysis from existing data(frames). Might not be the best pattern to emulate (but it works for me!): a lot of what I do could probably be done more elegantly with proper use of `.groupby()` and `.apply()` (more on this next week)."
   ]
  },
  {
   "cell_type": "markdown",
   "metadata": {},
   "source": [
    "But it's useful to do this to get a sense of how a dataframe combines aspects of lists and dictionaries. Because a common input 'literal' for a dictionary (just like the input literal for an int has to be numbers), is a set of \"records\" - a list of dictionaries, where each dictionary is a row, and within each dictionary, a key is a column (with an associated value)."
   ]
  },
  {
   "cell_type": "code",
   "execution_count": null,
   "metadata": {
    "id": "nCRX4FnPwfdf"
   },
   "outputs": [],
   "source": [
    "basic_data = [\n",
    "    {'name': 'Joel', 'role': 'instructor'},\n",
    "    {'name': 'Sarah', 'role': 'UTA'}\n",
    "]\n",
    "example_df = pd.DataFrame(basic_data)"
   ]
  },
  {
   "cell_type": "code",
   "execution_count": null,
   "metadata": {
    "colab": {
     "base_uri": "https://localhost:8080/",
     "height": 110
    },
    "id": "lPyKmMci49TJ",
    "outputId": "487e3753-ce6b-477a-8e2c-d2302f9641d3"
   },
   "outputs": [],
   "source": [
    "example_df"
   ]
  },
  {
   "cell_type": "code",
   "execution_count": null,
   "metadata": {
    "colab": {
     "base_uri": "https://localhost:8080/",
     "height": 110
    },
    "id": "5nSyDR9lhe0B",
    "outputId": "b02bcd02-3336-4cce-f8dd-819bfc4fea6b"
   },
   "outputs": [],
   "source": [
    "example_df.sort_values(by=\"name\", ascending=False)"
   ]
  },
  {
   "cell_type": "code",
   "execution_count": null,
   "metadata": {},
   "outputs": [],
   "source": [
    "more_basic_data = [\n",
    "    {'school': 'UMD', 'fundingModel': 'public', 'conference': 'Big Ten'},\n",
    "    {'school': 'Harvard', 'fundingModel': 'private', 'conference': 'Harvard'}\n",
    "]\n",
    "# let's make this into a dataframe!"
   ]
  },
  {
   "cell_type": "code",
   "execution_count": null,
   "metadata": {},
   "outputs": [],
   "source": [
    "# let's make another sample dataset!\n",
    "\n",
    "# and turn it into a dataframe"
   ]
  },
  {
   "cell_type": "markdown",
   "metadata": {
    "id": "G7q9bv5lp9sX"
   },
   "source": [
    "#### From (external) data files\n",
    "\n",
    "Most frequently this is done with `.read_csv()`, but there are many other common formats, such as `json`. See [here](https://pandas.pydata.org/pandas-docs/stable/user_guide/io.html) for a full listing"
   ]
  },
  {
   "cell_type": "markdown",
   "metadata": {
    "id": "UeMRqwteihDX"
   },
   "source": [
    "csv stands for comma-separated-values\n",
    "\n",
    "commonly used because it's *plain-text*, technically. this means any program that can read a string can read this file. and have it be meaningful. not so with excel files!"
   ]
  },
  {
   "cell_type": "code",
   "execution_count": null,
   "metadata": {
    "colab": {
     "base_uri": "https://localhost:8080/",
     "height": 1000
    },
    "id": "O5k8pAnZwgCn",
    "outputId": "76e02a55-5e0f-474d-a4ee-93c1a4058d8d",
    "tags": []
   },
   "outputs": [],
   "source": [
    "df = pd.read_csv(fpath) # needs a path to a csv file\n",
    "df"
   ]
  },
  {
   "cell_type": "markdown",
   "metadata": {
    "id": "ampc1pSDeJIx"
   },
   "source": [
    "### Inspecting your dataframe\n",
    "\n",
    "Common operations:\n",
    "- summarizing\n",
    "- filtering / accessing\n",
    "- sorting"
   ]
  },
  {
   "cell_type": "markdown",
   "metadata": {
    "id": "6BB5xZrjqfCQ"
   },
   "source": [
    "#### Summarizing\n",
    "\n",
    "With:\n",
    "- `.head()`\n",
    "- `.describe()`\n",
    "- various stats"
   ]
  },
  {
   "cell_type": "code",
   "execution_count": null,
   "metadata": {
    "colab": {
     "base_uri": "https://localhost:8080/",
     "height": 580
    },
    "id": "iQRQD1eWrb7-",
    "outputId": "5e1caf3f-896e-4fc0-81ac-fe476fb1c26e"
   },
   "outputs": [],
   "source": [
    "# we have a dataframe named df\n",
    "# df has a method called head\n",
    "# can optionally pass in a parameter to tell how many rows from the top to return\n",
    "df.head(10) # show the top 10"
   ]
  },
  {
   "cell_type": "code",
   "execution_count": null,
   "metadata": {
    "id": "rOb5aK-brczc"
   },
   "outputs": [],
   "source": [
    "import random # importing a library! :) to generate random numbers\n",
    "df['random_number'] = [c + random.randint(0,5) for c in df['Credits']]"
   ]
  },
  {
   "cell_type": "code",
   "execution_count": null,
   "metadata": {
    "colab": {
     "base_uri": "https://localhost:8080/",
     "height": 295
    },
    "id": "nBiw8IOC652w",
    "outputId": "0aa7b092-5456-4cc9-b158-caa06e500a2b"
   },
   "outputs": [],
   "source": [
    "df.describe()"
   ]
  },
  {
   "cell_type": "code",
   "execution_count": null,
   "metadata": {},
   "outputs": [],
   "source": [
    "ncaa = pd.read_csv(\"../Project 4 Datasets/ncaa-team-data.csv\")\n",
    "ncaa.head()"
   ]
  },
  {
   "cell_type": "code",
   "execution_count": null,
   "metadata": {
    "colab": {
     "base_uri": "https://localhost:8080/"
    },
    "id": "sLr7HhZ6kxyW",
    "outputId": "7966bb74-8385-4b8a-ad5d-d50df064d689"
   },
   "outputs": [],
   "source": [
    "print(ncaa['wl'].mean())\n",
    "print(ncaa['wl'].median())\n",
    "print(ncaa['wl'].mode())"
   ]
  },
  {
   "cell_type": "code",
   "execution_count": null,
   "metadata": {
    "colab": {
     "base_uri": "https://localhost:8080/",
     "height": 295
    },
    "id": "9piTNfdblFRi",
    "outputId": "2ca7a4a8-3a8b-4c3e-b814-0588cb07c984"
   },
   "outputs": [],
   "source": [
    "ncaa.describe()"
   ]
  },
  {
   "cell_type": "code",
   "execution_count": null,
   "metadata": {
    "colab": {
     "base_uri": "https://localhost:8080/",
     "height": 355
    },
    "id": "H1RDa7su7Ac7",
    "outputId": "c7b2bd5c-3514-4464-b294-684d8fd36ceb"
   },
   "outputs": [],
   "source": [
    "ncaa.hist(column=\"wl\")"
   ]
  },
  {
   "cell_type": "markdown",
   "metadata": {
    "id": "dOUrhbmvqo_4"
   },
   "source": [
    "#### Getting/accessing parts of our dataframe\n",
    "\n",
    "Most basic is just getting a specific column. Looks like the basic way we index things in lists or dictionaries."
   ]
  },
  {
   "cell_type": "code",
   "execution_count": null,
   "metadata": {
    "colab": {
     "base_uri": "https://localhost:8080/"
    },
    "id": "m2e1HZHHeJIz",
    "outputId": "ac89ac48-36a2-4e4f-a840-d29648d06239"
   },
   "outputs": [],
   "source": [
    "df['Code']"
   ]
  },
  {
   "cell_type": "markdown",
   "metadata": {
    "id": "kzOMmpJH-RvE"
   },
   "source": [
    "Let's say you want a particular statistic for only one column. You can do this by accessing the series, and asking for a specific statistic."
   ]
  },
  {
   "cell_type": "code",
   "execution_count": null,
   "metadata": {
    "colab": {
     "base_uri": "https://localhost:8080/"
    },
    "id": "8xdgSyiG-SzX",
    "outputId": "8217029e-18cd-4cf7-e95e-041ccc634f16"
   },
   "outputs": [],
   "source": [
    "df['random_number'].median()"
   ]
  },
  {
   "cell_type": "code",
   "execution_count": null,
   "metadata": {},
   "outputs": [],
   "source": []
  },
  {
   "cell_type": "markdown",
   "metadata": {},
   "source": [
    "#### Filtering the data based on one or more columns"
   ]
  },
  {
   "cell_type": "markdown",
   "metadata": {
    "id": "oK9hP1H4qwTL"
   },
   "source": [
    "But we sometimes also want to get **subsets** of the data, depending on one or more column values.\n",
    "\n",
    "We can do this with indexing notation (I use this because I'm used to it)."
   ]
  },
  {
   "cell_type": "markdown",
   "metadata": {},
   "source": [
    "The stuff you put in the brackets is a Boolean expression\n",
    "Any row where the answer is TRUE, will come back; anything where the answer is FALSE, is filtered out"
   ]
  },
  {
   "cell_type": "code",
   "execution_count": null,
   "metadata": {
    "colab": {
     "base_uri": "https://localhost:8080/",
     "height": 1000
    },
    "id": "gwwkb5gJraIw",
    "outputId": "bc8f4b1d-57b4-4ebb-8090-99454948dddd"
   },
   "outputs": [],
   "source": [
    "df[df['Code']==\"INST126\"] # get me all the rows where the value of the column random_number is less than or equal to 5"
   ]
  },
  {
   "cell_type": "code",
   "execution_count": null,
   "metadata": {
    "colab": {
     "base_uri": "https://localhost:8080/",
     "height": 751
    },
    "id": "VM8V96T8lwyM",
    "outputId": "16c848a2-c0b7-4fbe-e6fb-368260e6d826",
    "scrolled": true
   },
   "outputs": [],
   "source": [
    "# find all of the seasons where maryland had a winning record"
   ]
  },
  {
   "cell_type": "code",
   "execution_count": null,
   "metadata": {
    "scrolled": true
   },
   "outputs": [],
   "source": [
    "# find all of the seasons where a Big Ten school had a winning record"
   ]
  },
  {
   "cell_type": "code",
   "execution_count": null,
   "metadata": {},
   "outputs": [],
   "source": [
    "# find all of the seasons where an ACC school had a winning record"
   ]
  },
  {
   "cell_type": "code",
   "execution_count": null,
   "metadata": {},
   "outputs": [],
   "source": [
    "# all losing seasons for coach K"
   ]
  },
  {
   "cell_type": "markdown",
   "metadata": {},
   "source": [
    "Many of the basic Boolean operators apply here, like `>` and `==` (see [here](https://joelchan.github.io/inst126-intro-programming-notes/4_Conditionals.html#a-closer-look-at-boolean-expressions) for review of Boolean expressions)\n",
    "\n",
    "But in Pandas we also have access to Boolean \"methods\" for strings, like `.contains()` or `.startswith()`. It works like this:"
   ]
  },
  {
   "cell_type": "code",
   "execution_count": null,
   "metadata": {
    "colab": {
     "base_uri": "https://localhost:8080/",
     "height": 171
    },
    "id": "rugOUq7D8NzR",
    "outputId": "e9b61cad-7516-4d4c-e806-ef756e68c2ef"
   },
   "outputs": [],
   "source": [
    "df[df['Title'].str.contains(\"Design\")] # get all the rows where the value of the code column contains the word Design"
   ]
  },
  {
   "cell_type": "code",
   "execution_count": null,
   "metadata": {
    "colab": {
     "base_uri": "https://localhost:8080/",
     "height": 110
    },
    "id": "a3Agz5UW8axq",
    "outputId": "10a5fbdc-b9c9-481c-d4cf-42f41457e508"
   },
   "outputs": [],
   "source": [
    "# get all the 300 level design courses?"
   ]
  },
  {
   "cell_type": "code",
   "execution_count": null,
   "metadata": {
    "colab": {
     "base_uri": "https://localhost:8080/",
     "height": 263
    },
    "id": "8sEyhZk28sCF",
    "outputId": "d7d9d635-61bb-4d14-8cf4-7a0e8127b619"
   },
   "outputs": [],
   "source": [
    "# get all the courses that have a \"minimum grade\" prereq"
   ]
  },
  {
   "cell_type": "markdown",
   "metadata": {
    "id": "4LscE8E8eJIz"
   },
   "source": [
    "### Reshaping"
   ]
  },
  {
   "cell_type": "markdown",
   "metadata": {
    "id": "zoRjiKeYrS04"
   },
   "source": [
    "Most basic is sorting. \n",
    "\n",
    "More advanced stuff like transposing and so on we will discuss next week."
   ]
  },
  {
   "cell_type": "code",
   "execution_count": null,
   "metadata": {},
   "outputs": [],
   "source": [
    "df.columns"
   ]
  },
  {
   "cell_type": "code",
   "execution_count": null,
   "metadata": {
    "colab": {
     "base_uri": "https://localhost:8080/",
     "height": 1000
    },
    "id": "fN5dAkCisaSa",
    "outputId": "9b5e6f5c-1e18-4523-a3ab-80d81e10a6c2"
   },
   "outputs": [],
   "source": [
    "# sort the dataframe, and make sure the mod changes the df itself\n",
    "df.sort_values(by=\"Code\", ascending=False, inplace=True) # sort in ascending order by the random_number column\n",
    "# sort the dataframe, and save the resulting copy in another variable\n",
    "sorted_df = df.sort_values(by=\"Code\", ascending=False, inplace=False)"
   ]
  },
  {
   "cell_type": "code",
   "execution_count": null,
   "metadata": {},
   "outputs": [],
   "source": [
    "# if you modify in place and store result, it will be None\n",
    "sorted_df = df.sort_values(by=\"Code\", ascending=False, inplace=True)\n",
    "print(type(sorted_df))"
   ]
  },
  {
   "cell_type": "code",
   "execution_count": null,
   "metadata": {
    "colab": {
     "base_uri": "https://localhost:8080/",
     "height": 1000
    },
    "id": "CA5RWpBd_Fnc",
    "outputId": "9022ba38-a56f-420d-f798-86825dc929ee"
   },
   "outputs": [],
   "source": [
    "# sort by the code column, in ascending order"
   ]
  },
  {
   "cell_type": "code",
   "execution_count": null,
   "metadata": {
    "id": "_N-CkYS1_Plr"
   },
   "outputs": [],
   "source": [
    "# sort by the code column, in ascending order"
   ]
  },
  {
   "cell_type": "code",
   "execution_count": null,
   "metadata": {
    "colab": {
     "base_uri": "https://localhost:8080/",
     "height": 1000
    },
    "id": "Mozh70-R_m1-",
    "outputId": "b13820c7-9258-497f-b97e-fa44293d1d13"
   },
   "outputs": [],
   "source": [
    "# sort by prereqs"
   ]
  },
  {
   "cell_type": "code",
   "execution_count": null,
   "metadata": {
    "colab": {
     "base_uri": "https://localhost:8080/",
     "height": 1000
    },
    "id": "LphfaK2__48-",
    "outputId": "fe59c1c7-f46b-4ae5-c3f7-c9b43ab2aea8"
   },
   "outputs": [],
   "source": [
    "# sort by prereqs, then random"
   ]
  },
  {
   "cell_type": "markdown",
   "metadata": {
    "id": "s7_bUZKOAB0V"
   },
   "source": [
    "## Aside: dataframes are (mostly) immutable\n",
    "\n",
    "Python wants you to treat dataframes as immutable: by default, any modifications you make to a dataframe will create a modified copy (just like a string), rather than modifying the dataframe itself. \n",
    "\n",
    "This means you'll get the same error as with strings, in that your modifications won't stick around if you don't save the resulting copy in a variable.\n",
    "\n",
    "Like this:"
   ]
  },
  {
   "cell_type": "code",
   "execution_count": null,
   "metadata": {
    "id": "z1zZP9X9MxLt"
   },
   "outputs": [],
   "source": []
  },
  {
   "cell_type": "markdown",
   "metadata": {},
   "source": [
    "You *can* get around this if you want, by passing in a `inplace=True` argument to most function calls.\n",
    "\n",
    "But most of the time you will treat them like strings and make sure you save the result of a modification into a variable."
   ]
  }
 ],
 "metadata": {
  "colab": {
   "collapsed_sections": [],
   "name": "INST126_SP21_Week14_Pandas-1.ipynb",
   "provenance": [],
   "toc_visible": true
  },
  "kernelspec": {
   "display_name": "Python 3 (ipykernel)",
   "language": "python",
   "name": "python3"
  },
  "language_info": {
   "codemirror_mode": {
    "name": "ipython",
    "version": 3
   },
   "file_extension": ".py",
   "mimetype": "text/x-python",
   "name": "python",
   "nbconvert_exporter": "python",
   "pygments_lexer": "ipython3",
   "version": "3.9.7"
  }
 },
 "nbformat": 4,
 "nbformat_minor": 4
}
