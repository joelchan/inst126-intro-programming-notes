{
 "cells": [
  {
   "cell_type": "markdown",
   "id": "f66bdaec",
   "metadata": {},
   "source": [
    "# 2b: Variables\n",
    "\n",
    "## Learning goals:\n",
    "- Explain the function of variables in programs\n",
    "- Articulate basic principles of variable naming\n",
    "- Recognize good and bad examples of variable naming\n",
    "- Recognize NameErrors and common fixes\n",
    "\n",
    "## What are variables?\n",
    "\n",
    "Variables are a named place in the computer's memory where a programmer can store data and later retrieve it using the variable name.\n",
    "\n",
    "Think of a variable as a box with a label on it. You can put stuff in the box, take stuff out of the box.\n",
    "\n",
    "For example:"
   ]
  },
  {
   "cell_type": "code",
   "execution_count": 1,
   "id": "da6a3a6d",
   "metadata": {},
   "outputs": [
    {
     "name": "stdout",
     "output_type": "stream",
     "text": [
      "x has the value  12.2\n",
      "y has the value  14\n"
     ]
    }
   ],
   "source": [
    "x = 12.2\n",
    "y = 14\n",
    "print(\"x has the value \", x)\n",
    "print(\"y has the value \", y)"
   ]
  },
  {
   "cell_type": "markdown",
   "id": "7e6131c6",
   "metadata": {},
   "source": [
    "Python will remember what's in the `x` and `y` boxes, so you can do more stuff with it.\n",
    "\n",
    "Like this:"
   ]
  },
  {
   "cell_type": "code",
   "execution_count": 2,
   "id": "376229f1",
   "metadata": {},
   "outputs": [
    {
     "data": {
      "text/plain": [
       "26.2"
      ]
     },
     "execution_count": 2,
     "metadata": {},
     "output_type": "execute_result"
    }
   ],
   "source": [
    "x + y"
   ]
  },
  {
   "cell_type": "markdown",
   "id": "a8ccd51e",
   "metadata": {},
   "source": [
    "And this:"
   ]
  },
  {
   "cell_type": "code",
   "execution_count": 3,
   "id": "9147f663",
   "metadata": {},
   "outputs": [
    {
     "data": {
      "text/plain": [
       "False"
      ]
     },
     "execution_count": 3,
     "metadata": {},
     "output_type": "execute_result"
    }
   ],
   "source": [
    "x > y"
   ]
  },
  {
   "cell_type": "markdown",
   "id": "9d78c328",
   "metadata": {},
   "source": [
    "You can also switch out what is in the variable boxes.\n",
    "\n",
    "For example, let's change what's in `x` box."
   ]
  },
  {
   "cell_type": "code",
   "execution_count": 4,
   "id": "fccc025d",
   "metadata": {},
   "outputs": [
    {
     "name": "stdout",
     "output_type": "stream",
     "text": [
      "x is  12.2\n",
      "x is  100\n",
      "x is  49\n"
     ]
    }
   ],
   "source": [
    "# first print what the value of x is\n",
    "print(\"x is \", x)\n",
    "# then change it\n",
    "x = 100\n",
    "print(\"x is \", x)\n",
    "# and change it again!\n",
    "x = y + 35\n",
    "print(\"x is \", x)"
   ]
  },
  {
   "cell_type": "markdown",
   "id": "9a6293c0",
   "metadata": {},
   "source": [
    "## Variables are a kind of abstraction: a crucial element of computational thinking\n",
    "\n",
    "In computational thinking, we want to model data and develop/select algorithms to solve *classes* of problems, not just a specific individual problem. So one question programmers ask a lot is: what's the underlying repeating structure here that I can or want to *generalize* and compose with other things?\n",
    "\n",
    "Here's a basic example of generalizing from \"do multiplication with only these two specific numbers\", to \"do multiplication with any two numbers\" (i.e., the class of multiplication problems)"
   ]
  },
  {
   "cell_type": "code",
   "execution_count": 5,
   "id": "3aa81756",
   "metadata": {
    "tags": [
     "remove-output"
    ]
   },
   "outputs": [
    {
     "name": "stdout",
     "output_type": "stream",
     "text": [
      "6\n",
      "20\n",
      "30\n",
      "41.0\n"
     ]
    }
   ],
   "source": [
    "# a machine that multiplies 2 and 3\n",
    "print(2 * 3)\n",
    "\n",
    "# a machine that multiplies 4 and 5\n",
    "print(4 * 5)\n",
    "\n",
    "# a machine that multiplies 3 and 10\n",
    "print(3 * 10)\n",
    "\n",
    "# a machine that multiplies two numbers\n",
    "x = 2\n",
    "y = 20.5\n",
    "print(x * y)"
   ]
  },
  {
   "cell_type": "markdown",
   "id": "2da2b860",
   "metadata": {},
   "source": [
    "And another that goes from \"add this specific person's name to the end of each hello\" to \"add an input name to the end of each hello\")"
   ]
  },
  {
   "cell_type": "code",
   "execution_count": 6,
   "id": "a2b003ef",
   "metadata": {
    "tags": [
     "remove-output"
    ]
   },
   "outputs": [
    {
     "name": "stdout",
     "output_type": "stream",
     "text": [
      "hello Joel\n",
      "hello Rony\n",
      "helloJoel\n"
     ]
    }
   ],
   "source": [
    "# a machine that adds \"Joel\" to the greeting\n",
    "print(\"hello \" + \"Joel\")\n",
    "\n",
    "# a machine that adds \"Rony\" to the greeting\n",
    "print(\"hello \" + \"Rony\")\n",
    "\n",
    "# a machine that adds \"Joel\" to the greeting\n",
    "username = \"Joel\"\n",
    "print(\"hello\" + username)"
   ]
  },
  {
   "cell_type": "markdown",
   "id": "a83a18ee",
   "metadata": {},
   "source": [
    "We could even generalize the greeting from hello if we want to!"
   ]
  },
  {
   "cell_type": "code",
   "execution_count": 7,
   "id": "7b5f79da",
   "metadata": {
    "tags": [
     "remove-output"
    ]
   },
   "outputs": [
    {
     "name": "stdout",
     "output_type": "stream",
     "text": [
      "helloJoel\n",
      "helloJoel\n",
      "helloJoel\n"
     ]
    }
   ],
   "source": [
    "# a machine that prints out a personalized greeting\n",
    "username = \"Joel\"\n",
    "greeting = \"hello\"\n",
    "print(\"hello\" + username)\n",
    "\n",
    "# a machine that prints out a personalized greeting\n",
    "username = \"Joel\"\n",
    "greeting = \"ni hao\"\n",
    "print(\"hello\" + username)\n",
    "\n",
    "# a machine that prints out a personalized greeting\n",
    "username = \"Joel\"\n",
    "greeting = \"what's up\"\n",
    "print(\"hello\" + username)"
   ]
  },
  {
   "cell_type": "markdown",
   "id": "edd586d7",
   "metadata": {},
   "source": [
    "## HowTo: Create and update variables\n",
    "\n",
    "We assign a value to a variable using an **assignment statement**, which consists of:\n",
    "1. An *expression* on the right-hand side that tells you what value should go in the variable,\n",
    "2. An *assignment operator* (`=`), and\n",
    "3. The *name* you want for the variable\n",
    "\n",
    "\n",
    "**NOTE THE DIFFERENCE BETWEEN `=` and `==`!!!**"
   ]
  },
  {
   "cell_type": "code",
   "execution_count": 8,
   "id": "25323c6b",
   "metadata": {},
   "outputs": [
    {
     "data": {
      "text/plain": [
       "15"
      ]
     },
     "execution_count": 8,
     "metadata": {},
     "output_type": "execute_result"
    }
   ],
   "source": [
    "# multiply 3 by 5 and put the resulting value in the variable box labeled \"x\"\n",
    "x = 3 * 5\n",
    "x"
   ]
  },
  {
   "cell_type": "code",
   "execution_count": 9,
   "id": "c5bca694",
   "metadata": {},
   "outputs": [
    {
     "data": {
      "text/plain": [
       "'joel chan'"
      ]
     },
     "execution_count": 9,
     "metadata": {},
     "output_type": "execute_result"
    }
   ],
   "source": [
    "y = \"joel\" + \" chan\"\n",
    "y"
   ]
  },
  {
   "cell_type": "markdown",
   "id": "0f5d97b4",
   "metadata": {},
   "source": [
    "Updating a variable also happens with an assignment statement"
   ]
  },
  {
   "cell_type": "code",
   "execution_count": 10,
   "id": "8061d105",
   "metadata": {},
   "outputs": [
    {
     "name": "stdout",
     "output_type": "stream",
     "text": [
      "x has the value 15\n",
      "x now has the value 22\n"
     ]
    }
   ],
   "source": [
    "x = 3 * 5 # create the variable x and assign its initial value\n",
    "print(\"x has the value\", x)\n",
    "x = 22 # update the value of the variable x with the value 22\n",
    "print(\"x now has the value\", x)"
   ]
  },
  {
   "cell_type": "markdown",
   "id": "ac7d5689",
   "metadata": {},
   "source": [
    "<!-- In some statically typed languages you can declare a variable just by writing its name and its type. But in Python you need to define it with an assignment statement. -->\n",
    "\n",
    "## Managing \"types\" with variables\n",
    "\n",
    "Remember how we said that data types matter? Because some operators only work with certain data types?\n",
    "\n",
    "This means you need to make sure you keep track of / control what data types are going in your expressions. If you never use variables, it's a bit easier, bc you can clearly see what type the values are. \n",
    "\n",
    "But with variables, keeping track of data types can be tricky in Python. This is because Python is a **dynamically typed** language. This means that when the computer runs a Python program, it dynamically guesses the \"type\" of a variable box. It also means that the type of data that can go in a variable box is \"dynamic\" (i.e., can be changed). This removes some of the overhead to writing code, but you do need to be careful, since Python's guesses may not always match your intentions! And we know that mixing data types in statements leads to bugs.\n",
    "\n",
    "*Side note: if you've learned another programming language before, you might find this unfamiliar. For example, in Java, which is a statically typed language, you have to declare what type a variable is when you create it, and the type won't change.*\n",
    "\n",
    "### Find out what type a variable is with `type()`\n",
    "\n",
    "You can use the built-in function `type()` to figure out what is inside a variable."
   ]
  },
  {
   "cell_type": "code",
   "execution_count": 11,
   "id": "ce97acf6",
   "metadata": {},
   "outputs": [
    {
     "data": {
      "text/plain": [
       "float"
      ]
     },
     "execution_count": 11,
     "metadata": {},
     "output_type": "execute_result"
    }
   ],
   "source": [
    "a = 1\n",
    "b = 2\n",
    "c = a/b\n",
    "type(c)"
   ]
  },
  {
   "cell_type": "code",
   "execution_count": 12,
   "id": "878bb92c",
   "metadata": {},
   "outputs": [
    {
     "name": "stdout",
     "output_type": "stream",
     "text": [
      "1 is a <class 'str'>\n",
      "1 is a <class 'int'>\n",
      "1.0 is a <class 'float'>\n"
     ]
    }
   ],
   "source": [
    "a = \"1\"\n",
    "b = 1\n",
    "c = 1.0\n",
    "print(a, \"is a\", type(a))\n",
    "print(b, \"is a\", type(b))\n",
    "print(c, \"is a\", type(c))"
   ]
  },
  {
   "cell_type": "markdown",
   "id": "ce31ad94",
   "metadata": {},
   "source": [
    "*Aside: here I'm using a `,` to join multiple things into a string, instead of the `+`. Ignore it for now, but if you're curious, the reason is this `,` operator tells Python to automatically convert all the things into strings before trying to concatenante them together.*\n",
    "\n",
    "You can also write an expression that can test this"
   ]
  },
  {
   "cell_type": "code",
   "execution_count": 13,
   "id": "62228030",
   "metadata": {},
   "outputs": [
    {
     "data": {
      "text/plain": [
       "True"
      ]
     },
     "execution_count": 13,
     "metadata": {},
     "output_type": "execute_result"
    }
   ],
   "source": [
    "# is a a string?\n",
    "type(a) == str"
   ]
  },
  {
   "cell_type": "markdown",
   "id": "eb62dd5c",
   "metadata": {},
   "source": [
    "### \"Casting\" variables to change their type\n",
    "\n",
    "So what to do? If we really want to make sure that data types are what we expect them to be, we often use \"cast\" functions. These are the same name as data types, and they basically \"force\" a value to become a certain data type. You can pass in raw values or variables. \n",
    "\n",
    "For example:"
   ]
  },
  {
   "cell_type": "code",
   "execution_count": 14,
   "id": "6d71e89f",
   "metadata": {},
   "outputs": [
    {
     "name": "stdout",
     "output_type": "stream",
     "text": [
      "x is  2\n",
      "x is a  <class 'int'>\n",
      "x is  2\n",
      "x is a  <class 'str'>\n",
      "x is  2.0\n",
      "x is a  <class 'float'>\n",
      "x is  2\n",
      "x is a  <class 'int'>\n"
     ]
    }
   ],
   "source": [
    "# an int\n",
    "x = 2\n",
    "print(\"x is \", x)\n",
    "print(\"x is a \", type(x))\n",
    "# change to a str\n",
    "x = str(x)\n",
    "print(\"x is \", x)\n",
    "print(\"x is a \", type(x))\n",
    "# change to a float\n",
    "x = float(x)\n",
    "print(\"x is \", x)\n",
    "print(\"x is a \", type(x))\n",
    "x = int(x)\n",
    "print(\"x is \", x)\n",
    "print(\"x is a \", type(x))"
   ]
  },
  {
   "cell_type": "markdown",
   "id": "7d6113f2",
   "metadata": {},
   "source": [
    "Let's go back to a common use case for this. Making sure that the data that will go in a math expression are all number types (otherwise we run into issues!)\n",
    "\n",
    "```\n",
    "# this will produce our TypeError\n",
    "x = 3\n",
    "y = \"2\"\n",
    "x + y\n",
    "```\n",
    "\n",
    "Here's a fix:"
   ]
  },
  {
   "cell_type": "code",
   "execution_count": 15,
   "id": "0e672258",
   "metadata": {},
   "outputs": [
    {
     "data": {
      "text/plain": [
       "5"
      ]
     },
     "execution_count": 15,
     "metadata": {},
     "output_type": "execute_result"
    }
   ],
   "source": [
    "# if we want to do math, need to convert y to a number\n",
    "x = 3\n",
    "y = \"2\"\n",
    "# cast the value of y to be an int before doing addition\n",
    "x + int(y)"
   ]
  },
  {
   "cell_type": "markdown",
   "id": "19b4afe4",
   "metadata": {},
   "source": [
    "And if we want to make sure we're doing concatenation:"
   ]
  },
  {
   "cell_type": "code",
   "execution_count": 16,
   "id": "ede99c7b",
   "metadata": {},
   "outputs": [
    {
     "data": {
      "text/plain": [
       "'32'"
      ]
     },
     "execution_count": 16,
     "metadata": {},
     "output_type": "execute_result"
    }
   ],
   "source": [
    "# if we want to do concatenation, need to convert x to a string\n",
    "x = 3\n",
    "y = \"2\"\n",
    "# cast the value of x to be an str before doing concatenation\n",
    "str(x) + y"
   ]
  },
  {
   "cell_type": "markdown",
   "id": "f4bfc994",
   "metadata": {},
   "source": [
    "One thing to keep in mind: you can only cast something if it \"looks like\" the thing you're trying to cast to.\n",
    "\n",
    "So, for example, this will yield an error:\n",
    "```\n",
    "int(\"three\")\n",
    "```\n",
    "\n",
    "Because `\"three\"` doesn't \"look like\" a number, so you can't turn it into a number.\n",
    "\n",
    "What do you think will happen with this? Feel free to paste this code into a jupyter notebook to find out!\n",
    "```\n",
    "int(\"$5,000)\n",
    "```\n",
    "\n",
    "```{admonition} Answer:\n",
    ":class: toggle\n",
    "An error! It sorta looks like a number to humans, but notice what's in there that's not a number? The `$` and `,`! This is a common situation we'll return to in the next module when we talk about strings (e.g., how to parse a string to get values we want out of it, such as numbers). \n",
    "```\n",
    "\n",
    "## Choosing names for your variables\n",
    "\n",
    "### Syntax\n",
    "\n",
    "In terms of **syntax** (remember our division between computational thinking and coding? this is coding), there aren't a ton of restrictions for naming variables:\n",
    "- Must contain at least one letter\n",
    "- Must start with a letter or an underscore (`_`)\n",
    "- Must not be a \"reserved word\"\n",
    "  - Non-exhaustive list: `False`, `None`, `class`, `if`, `and`, `as`, `else`\n",
    "  - Full list [here](https://www.w3schools.com/python/python_ref_keywords.asp) (can also Google \"python reserved words\". Don't need to memorize (you'll naturally remember this over time), but definitely keep handy\n",
    "\n",
    "So this is ok:"
   ]
  },
  {
   "cell_type": "code",
   "execution_count": 17,
   "id": "43e2baf0",
   "metadata": {},
   "outputs": [],
   "source": [
    "ten2 = 5"
   ]
  },
  {
   "cell_type": "markdown",
   "id": "ba29ecad",
   "metadata": {},
   "source": [
    "This is bad:\n",
    "```\n",
    "2 = 5\n",
    "```\n",
    "\n",
    "Running it will yield a somewhat helpful error message:\n",
    "```\n",
    "  File \"/var/folders/xz/_hjc5hsx743dclmg8n5678nc0000gn/T/ipykernel_21680/2360489726.py\", line 1\n",
    "    2 = 5\n",
    "    ^\n",
    "SyntaxError: cannot assign to literal\n",
    "```\n",
    "\n",
    "Remember that bottom left bit? It says \"syntax error\" which is helpful: it basically always means there's something about the way you wrote the code that's not valid Python code. Think of it like a grammatical or spelling error in English. The bottom right bit, in this case? Not so helpful if you're a beginner, but here it's basically saying \"hey you're trying to assign a thing to a variable, but it's... not a valid variable, it's a value (literal)!\"\n",
    "\n",
    "This is also bad (`None` is reserved)\n",
    "```\n",
    "None = 6\n",
    "```\n",
    "\n",
    "Will yield this error message:\n",
    "```\n",
    "  File \"/var/folders/xz/_hjc5hsx743dclmg8n5678nc0000gn/T/ipykernel_21680/774819309.py\", line 1\n",
    "    None = 6\n",
    "    ^\n",
    "SyntaxError: cannot assign to None\n",
    "```\n",
    "\n",
    "### Semantics\n",
    "\n",
    "The more important piece is the computational thinking piece. How do you choose variable names that assist with your ability to formulate problems, model data, and debug your programs?\n",
    "\n",
    "Our **fundamental principle** here is: *choose names that make the logic of the program legible*.\n",
    "\n",
    "For example, consider this chunk of code:"
   ]
  },
  {
   "cell_type": "code",
   "execution_count": 18,
   "id": "d93fd7e3",
   "metadata": {},
   "outputs": [
    {
     "name": "stdout",
     "output_type": "stream",
     "text": [
      "47.5\n"
     ]
    }
   ],
   "source": [
    "# compute pay for an employee\n",
    "a = 35.0\n",
    "b = 12.50\n",
    "c = a + b\n",
    "print(c)"
   ]
  },
  {
   "cell_type": "markdown",
   "id": "58f642a0",
   "metadata": {},
   "source": [
    "What do you think this code does?\n",
    "What do you think the value types of the variables should be? What about the operators/expressions?\n",
    "Do you spot anything that might be wrong here? (hint: there is no syntax error here, only a semantic one!)\n",
    "\n",
    "How about now?"
   ]
  },
  {
   "cell_type": "code",
   "execution_count": 19,
   "id": "793d7e12",
   "metadata": {},
   "outputs": [
    {
     "name": "stdout",
     "output_type": "stream",
     "text": [
      "47.0\n"
     ]
    }
   ],
   "source": [
    "# compute pay for an employee\n",
    "hoursWorked = 35.0\n",
    "hourlyRate = 12\n",
    "pay = hoursWorked + hourlyRate\n",
    "print(pay)"
   ]
  },
  {
   "cell_type": "markdown",
   "id": "94fa5fa4",
   "metadata": {},
   "source": [
    "```{admonition} Answer:\n",
    ":class: toggle\n",
    "For me at least, the 2nd version makes it clearer that the program shouldn't have `+` in there: it should be `*`, since pay is a function of hours worked *times* hourly rate.\n",
    "```\n",
    "\n",
    "Going back to the issue of data types, I like to name my variables in a way that suggests their data type.\n",
    "\n",
    "For example:\n",
    "- `userName` instead of `a`, which makes it clear that there's probably some kind of `str` in there.\n",
    "- `isFunny` instead of `x`, which makes it clear that there's probably a `boolean` in there\n",
    "- `numCredits` instead of `y`, which makes it clear that there's probably some kind of number in there\n",
    "\n",
    "Also, by convention, you might see people use certain names for certain kinds of things. For example, `i` is often used to refer to a counter value\n",
    "`s` (or some variant of it) is often used to refer to a string.\n",
    "\n",
    "You should feel free to name variables whatever makes sense to you, as long as you feel they accurately signal the logic of the program they're in. Your future self (and current/future collaborators) will thank you for following this fundamental principle. You'll be surprised how often you can get unstuck simply by clarifying the names of the variables (which makes the structure of the program clearer, and the source of the problem obvious).\n",
    "\n",
    "Example: debug a program that is supposed to compute a total check with 20% tip after accounting for 7% tax"
   ]
  },
  {
   "cell_type": "code",
   "execution_count": 20,
   "id": "5646111b",
   "metadata": {},
   "outputs": [
    {
     "data": {
      "text/plain": [
       "16.26"
      ]
     },
     "execution_count": 20,
     "metadata": {},
     "output_type": "execute_result"
    }
   ],
   "source": [
    "# compute a total check with 20% tip after accounting for 7% tax\n",
    "a = 15.00\n",
    "b = 0.2\n",
    "c = 0.07\n",
    "\n",
    "d = c * (a + a*b)\n",
    "e = a + d\n",
    "e"
   ]
  },
  {
   "cell_type": "markdown",
   "id": "30ca09d4",
   "metadata": {},
   "source": [
    "Compare:"
   ]
  },
  {
   "cell_type": "code",
   "execution_count": 21,
   "id": "18ab7de4",
   "metadata": {},
   "outputs": [
    {
     "data": {
      "text/plain": [
       "16.26"
      ]
     },
     "execution_count": 21,
     "metadata": {},
     "output_type": "execute_result"
    }
   ],
   "source": [
    "# compute a total check with 20% tip after accounting for 7% tax\n",
    "baseAmount = 15.00\n",
    "tipRate = 0.2\n",
    "taxRate = 0.07\n",
    "\n",
    "tipAmount = taxRate * (baseAmount + baseAmount*tipRate)\n",
    "totalCheck = baseAmount + tipAmount\n",
    "totalCheck"
   ]
  },
  {
   "cell_type": "markdown",
   "id": "c87b9e92",
   "metadata": {},
   "source": [
    "```{admonition} Answer:\n",
    ":class: toggle\n",
    "For me at least, the 2nd version makes it clearer that the program is mixing up the tip and the tax rate!\n",
    "\n",
    "`tipAmount = taxRate * (baseAmount + baseAmount*tipRate)`\n",
    "\n",
    "Should instead be:\n",
    "\n",
    "`tipAmount = tipRate * (baseAmount + baseAmount*taxRate)`\n",
    "```\n",
    "\n",
    "Again, these are the same exact programs, from Python's perspective! The variable names make all the difference.\n",
    "\n",
    "## The `NameError`\n",
    "\n",
    "Remember: computers (and Python) are *very literal*. For variables, this means *everything* needs to be *exactly* the same when you're referring to a variable.\n",
    "\n",
    "For example, what do you think will happen if you run the following code?\n",
    "```\n",
    "myNumber = 125\n",
    "anotherNumber = 65\n",
    "mynumber + anotherNumber\n",
    "```\n",
    "\n",
    "```{admonition} Answer:\n",
    "You should get an error with this message on the bottom:\n",
    "\n",
    "`NameError: name 'mynumber' is not defined`\n",
    "\n",
    "Remember our map for reading errors? Bottom left says it's a \"NameError\", and bottom right says \"you're asking me to do something with the variable `mynumber`, but I don't know what it is: you haven't defined it for me! It's like asking someone who knows nothing about football, \"what play did they run on third down?\" (error: `third down` is not defined)\n",
    "```\n",
    "\n",
    "The `NameError` is probably going to show up a lot this semester. It's basically this:\n",
    "\n",
    "```{image} assets/what-huh.gif\n",
    ":alt: nameError\n",
    ":class: bg-primary mb-1\n",
    ":width: 300px\n",
    ":align: center\n",
    "```\n",
    "\n",
    "\n",
    "\"not defined\" = \"I can't find the box you're asking me to find\"\n",
    "\n",
    "Reasons this can happen:\n",
    "- You misspelled the variable\n",
    "- You forgot to run an assignment statement that defined the variable before you asked Python to do something with it\n",
    "\n",
    "For the first one, a fun tip in programming environments like this is to use the `tab` autocomplete feature. Basically, if you have a variable defined already, you can start typing in a later cell, hit `tab`, and the editor (e.g., Jupyter) will autocomplete for you. This helps reduce/eliminate misspellings. Nifty!\n",
    "\n",
    "```{image} assets/variable-tab-autocomplete.gif\n",
    ":class: bg-primary mb-1\n",
    ":width: 800px\n",
    ":align: center\n",
    "```\n",
    "\n",
    "If there are multiple similar ones, you can choose between them with arrow keys, like this:\n",
    "```{image} assets/variable-tab-autocomplete-multiple.gif\n",
    ":class: bg-primary mb-1\n",
    ":width: 800px\n",
    ":align: center\n",
    "```"
   ]
  }
 ],
 "metadata": {
  "jupytext": {
   "formats": "md:myst",
   "text_representation": {
    "extension": ".md",
    "format_name": "myst",
    "format_version": 0.13,
    "jupytext_version": "1.14.4"
   }
  },
  "kernelspec": {
   "display_name": "Python 3 (ipykernel)",
   "language": "python",
   "name": "python3"
  },
  "language_info": {
   "codemirror_mode": {
    "name": "ipython",
    "version": 3
   },
   "file_extension": ".py",
   "mimetype": "text/x-python",
   "name": "python",
   "nbconvert_exporter": "python",
   "pygments_lexer": "ipython3",
   "version": "3.9.7"
  },
  "source_map": [
   13,
   30,
   35,
   40,
   42,
   45,
   47,
   52,
   61,
   68,
   83,
   86,
   97,
   100,
   116,
   128,
   134,
   137,
   141,
   146,
   164,
   171,
   178,
   184,
   187,
   194,
   210,
   222,
   228,
   231,
   237,
   270,
   272,
   309,
   315,
   321,
   327,
   347,
   356,
   359,
   368
  ]
 },
 "nbformat": 4,
 "nbformat_minor": 5
}