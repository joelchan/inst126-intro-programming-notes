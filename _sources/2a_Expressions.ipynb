{
 "cells": [
  {
   "cell_type": "markdown",
   "id": "48c3874e",
   "metadata": {},
   "source": [
    "# 2a: Expressions\n",
    "\n",
    "## Learning goals:\n",
    "- Recognize Python expressions\n",
    "- Recognize different data type literals\n",
    "- Recognize what operators are used for the appropriate data types\n",
    "- Recognize TypeErrors and common fixes\n",
    "\n",
    "## What are Expressions?\n",
    "\n",
    "Expressions are a basic building block of programs. They are chunks of Python code that **evaluate to** (yield) some value. \n",
    "\n",
    "Here are a simple few examples.\n",
    "\n",
    "What is 1 added to 1?"
   ]
  },
  {
   "cell_type": "code",
   "execution_count": 1,
   "id": "6d4e160e",
   "metadata": {},
   "outputs": [
    {
     "data": {
      "text/plain": [
       "2"
      ]
     },
     "execution_count": 1,
     "metadata": {},
     "output_type": "execute_result"
    }
   ],
   "source": [
    "1 + 1"
   ]
  },
  {
   "cell_type": "markdown",
   "id": "fdb46419",
   "metadata": {},
   "source": [
    "What is 3 multiplied by 2?"
   ]
  },
  {
   "cell_type": "code",
   "execution_count": 2,
   "id": "a5f6b336",
   "metadata": {},
   "outputs": [
    {
     "data": {
      "text/plain": [
       "6"
      ]
     },
     "execution_count": 2,
     "metadata": {},
     "output_type": "execute_result"
    }
   ],
   "source": [
    "3 * 2"
   ]
  },
  {
   "cell_type": "markdown",
   "id": "0c9f8a92",
   "metadata": {},
   "source": [
    "Is 3 larger than 2?"
   ]
  },
  {
   "cell_type": "code",
   "execution_count": 3,
   "id": "06adb1c4",
   "metadata": {},
   "outputs": [
    {
     "data": {
      "text/plain": [
       "True"
      ]
     },
     "execution_count": 3,
     "metadata": {},
     "output_type": "execute_result"
    }
   ],
   "source": [
    "3 > 2"
   ]
  },
  {
   "cell_type": "markdown",
   "id": "78419afa",
   "metadata": {},
   "source": [
    "Here's one that includes multiple expressions"
   ]
  },
  {
   "cell_type": "code",
   "execution_count": 4,
   "id": "b1a1ec2c",
   "metadata": {},
   "outputs": [
    {
     "data": {
      "text/plain": [
       "11"
      ]
     },
     "execution_count": 4,
     "metadata": {},
     "output_type": "execute_result"
    }
   ],
   "source": [
    "3 * 2 + 5"
   ]
  },
  {
   "cell_type": "markdown",
   "id": "4a627e8b",
   "metadata": {},
   "source": [
    "So far, you may recognize these as basically math. That's good! There's a good amount of overlap between the concept of expressions and what you remember from math.\n",
    "\n",
    "Now let's stretch that prototypical example a bit. Keeping in mind that expressions are chunks of Python code that **evaluate to** (yield) some value, these are also expressions:\n",
    "\n",
    "Is 3 the same as 3?"
   ]
  },
  {
   "cell_type": "code",
   "execution_count": 5,
   "id": "1b3d7723",
   "metadata": {},
   "outputs": [
    {
     "data": {
      "text/plain": [
       "True"
      ]
     },
     "execution_count": 5,
     "metadata": {},
     "output_type": "execute_result"
    }
   ],
   "source": [
    "3 == 3"
   ]
  },
  {
   "cell_type": "markdown",
   "id": "0fb55521",
   "metadata": {},
   "source": [
    "And even this: Evaluate the literal value 1"
   ]
  },
  {
   "cell_type": "code",
   "execution_count": 6,
   "id": "04983ec3",
   "metadata": {},
   "outputs": [
    {
     "data": {
      "text/plain": [
       "1"
      ]
     },
     "execution_count": 6,
     "metadata": {},
     "output_type": "execute_result"
    }
   ],
   "source": [
    "1"
   ]
  },
  {
   "cell_type": "markdown",
   "id": "2652047f",
   "metadata": {},
   "source": [
    "And of course, our most classic \"hello world\" in Python:"
   ]
  },
  {
   "cell_type": "code",
   "execution_count": 7,
   "id": "7d4d34f5",
   "metadata": {},
   "outputs": [
    {
     "name": "stdout",
     "output_type": "stream",
     "text": [
      "Hello world!\n"
     ]
    }
   ],
   "source": [
    "print(\"Hello world!\")"
   ]
  },
  {
   "cell_type": "markdown",
   "id": "46dc236b",
   "metadata": {},
   "source": [
    "One heuristic you can use to tell if a chunk of code is an expression or not, is to test or imagine it being the last line in a cell; if it yields an output by itself, then it's an expression.\n",
    "\n",
    "## Anatomy of an expression\n",
    "\n",
    "An expression is built from, at minimum a value.\n",
    "\n",
    "Like `3`, or (as we will later see), a variable that holds a value.\n",
    "\n",
    "Often, it also includes an **operator** that does something with the value(s).\n",
    "\n",
    "Like `>` or `+`.\n",
    "\n",
    "So, in:\n",
    "\n",
    "`3 + 1`\n",
    "\n",
    "The values are `3` and `1`\n",
    "\n",
    "and the operator is `+` (addition).\n",
    "\n",
    "### Types of operations\n",
    "\n",
    "There is a full list of operators [here](https://www.w3schools.com/python/python_operators.asp) (bookmark this!). But for this module, the main ones to focus on are\n",
    "- Arithmetic operators (for doing math): `+ - * / %`\n",
    "- Concatenation operator (for joining `str` values) `+`\n",
    "- Comparison operators (yield `boolean` values, used for conditionals)\n",
    "- Logical operators: `and` `or` `not` (yield `boolean` values, used for conditionals)\n",
    "\n",
    "Let's look at some examples together.\n",
    "\n",
    "#### Arithmetic operators"
   ]
  },
  {
   "cell_type": "code",
   "execution_count": 8,
   "id": "c5aade17",
   "metadata": {},
   "outputs": [
    {
     "data": {
      "text/plain": [
       "-2"
      ]
     },
     "execution_count": 8,
     "metadata": {},
     "output_type": "execute_result"
    }
   ],
   "source": [
    "1 - 3"
   ]
  },
  {
   "cell_type": "markdown",
   "id": "76df959a",
   "metadata": {},
   "source": [
    "#### Concatenation"
   ]
  },
  {
   "cell_type": "code",
   "execution_count": 9,
   "id": "2bb4fb06",
   "metadata": {},
   "outputs": [
    {
     "data": {
      "text/plain": [
       "'11'"
      ]
     },
     "execution_count": 9,
     "metadata": {},
     "output_type": "execute_result"
    }
   ],
   "source": [
    "\"1\" + \"1\""
   ]
  },
  {
   "cell_type": "markdown",
   "id": "0c083d8c",
   "metadata": {},
   "source": [
    "#### Comparison operators\n",
    "\n",
    "These can work with most/any data types. But the result may not always be what you expect!"
   ]
  },
  {
   "cell_type": "code",
   "execution_count": 10,
   "id": "3b5c20c5",
   "metadata": {},
   "outputs": [
    {
     "data": {
      "text/plain": [
       "True"
      ]
     },
     "execution_count": 10,
     "metadata": {},
     "output_type": "execute_result"
    }
   ],
   "source": [
    "\"A\" != \"a\""
   ]
  },
  {
   "cell_type": "markdown",
   "id": "bbe810cb",
   "metadata": {},
   "source": [
    "#### Logical operators\n",
    "These are for logical expressions. You'll find them to be most useful when you work with conditionals"
   ]
  },
  {
   "cell_type": "code",
   "execution_count": 11,
   "id": "74053ebb",
   "metadata": {},
   "outputs": [
    {
     "data": {
      "text/plain": [
       "True"
      ]
     },
     "execution_count": 11,
     "metadata": {},
     "output_type": "execute_result"
    }
   ],
   "source": [
    "a = 5\n",
    "a < 10 and a % 2 != 0"
   ]
  },
  {
   "cell_type": "markdown",
   "id": "9de6c899",
   "metadata": {},
   "source": [
    "### Compound expressions\n",
    "\n",
    "We can build expressions from values that are... the results of expressions.\n",
    "\n",
    "We know we can do this with math."
   ]
  },
  {
   "cell_type": "code",
   "execution_count": 12,
   "id": "a7ed1638",
   "metadata": {},
   "outputs": [
    {
     "data": {
      "text/plain": [
       "9"
      ]
     },
     "execution_count": 12,
     "metadata": {},
     "output_type": "execute_result"
    }
   ],
   "source": [
    "# value on the right is the *result* of the expression 1 + 2\n",
    "3 * (1 + 2)"
   ]
  },
  {
   "cell_type": "markdown",
   "id": "ff60df4f",
   "metadata": {},
   "source": [
    "And it's also common with logical expressions, which are often built from comparison expressions"
   ]
  },
  {
   "cell_type": "code",
   "execution_count": 13,
   "id": "098cbf02",
   "metadata": {},
   "outputs": [
    {
     "data": {
      "text/plain": [
       "True"
      ]
     },
     "execution_count": 13,
     "metadata": {},
     "output_type": "execute_result"
    }
   ],
   "source": [
    "# is 3 greater than 2 and less than 10? \n",
    "# this will make more sense when we use variables :)\n",
    "3 > 2 and 3 < 10"
   ]
  },
  {
   "cell_type": "markdown",
   "id": "0a2233d9",
   "metadata": {},
   "source": [
    "## Values have *types*\n",
    "\n",
    "To work with expressions and perform operations on them, Python needs to know what **type** of data they are.\n",
    "\n",
    "Here are some basic types of data that Python knows out of the box:\n",
    "1. `str` - strings, expressed with single quotes `'a'` or double quotes `\"a\"` (Python doesn't differentiate)\n",
    "2. `int` - integer numbers (i.e., no decimals), like `3`. For doing math.\n",
    "3. `float` - floating point numbers (i.e., with decimals), like `3.0`. For doing more precise math.\n",
    "4. `boolean` - True or False values. Important for creating logical structures in your programs (like conditionals).\n",
    "\n",
    "There are (many!) more types of values (including more complex data structures, such as lists, dictionaries, and data frames), but these will be sufficient for at least Module 1.\n",
    "\n",
    "When we give these values to Python by themselves (not in a value), we call them **literals**. Let's look at some examples."
   ]
  },
  {
   "cell_type": "code",
   "execution_count": 14,
   "id": "d4742435",
   "metadata": {
    "tags": [
     "remove-output"
    ]
   },
   "outputs": [
    {
     "data": {
      "text/plain": [
       "1"
      ]
     },
     "execution_count": 14,
     "metadata": {},
     "output_type": "execute_result"
    }
   ],
   "source": [
    "# this is an int\n",
    "1"
   ]
  },
  {
   "cell_type": "code",
   "execution_count": 15,
   "id": "9c6b0f48",
   "metadata": {
    "tags": [
     "remove-output"
    ]
   },
   "outputs": [
    {
     "data": {
      "text/plain": [
       "1.0"
      ]
     },
     "execution_count": 15,
     "metadata": {},
     "output_type": "execute_result"
    }
   ],
   "source": [
    "# this is a float\n",
    "1.0"
   ]
  },
  {
   "cell_type": "code",
   "execution_count": 16,
   "id": "bedc5822",
   "metadata": {
    "tags": [
     "remove-output"
    ]
   },
   "outputs": [
    {
     "data": {
      "text/plain": [
       "'1'"
      ]
     },
     "execution_count": 16,
     "metadata": {},
     "output_type": "execute_result"
    }
   ],
   "source": [
    "# this is a string\n",
    "\"1\""
   ]
  },
  {
   "cell_type": "code",
   "execution_count": 17,
   "id": "cb215357",
   "metadata": {
    "tags": [
     "remove-output"
    ]
   },
   "outputs": [
    {
     "data": {
      "text/plain": [
       "'True'"
      ]
     },
     "execution_count": 17,
     "metadata": {},
     "output_type": "execute_result"
    }
   ],
   "source": [
    "# this is also a string\n",
    "\"True\""
   ]
  },
  {
   "cell_type": "code",
   "execution_count": 18,
   "id": "9a9389ed",
   "metadata": {
    "tags": [
     "remove-output"
    ]
   },
   "outputs": [
    {
     "data": {
      "text/plain": [
       "True"
      ]
     },
     "execution_count": 18,
     "metadata": {},
     "output_type": "execute_result"
    }
   ],
   "source": [
    "# this is a boolean\n",
    "True"
   ]
  },
  {
   "cell_type": "markdown",
   "id": "8124b9a1",
   "metadata": {},
   "source": [
    "Notice how the syntax highlighting helps us recognize the different literals. Generally, for systems that do syntax highlighting for Python:\n",
    "- `int` and `float` are green\n",
    "- `strings` are red (as long as they are in quotation marks!)\n",
    "- and `booleans` are bold and green.\n",
    "\n",
    "This color coding can help you manage data types. \n",
    "\n",
    "Let's practice a little!\n",
    "\n",
    "Q: What data type is this? Guess and then reveal to check your answer."
   ]
  },
  {
   "cell_type": "code",
   "execution_count": 19,
   "id": "259d423d",
   "metadata": {
    "tags": [
     "remove-output"
    ]
   },
   "outputs": [
    {
     "data": {
      "text/plain": [
       "3"
      ]
     },
     "execution_count": 19,
     "metadata": {},
     "output_type": "execute_result"
    }
   ],
   "source": [
    "3"
   ]
  },
  {
   "cell_type": "markdown",
   "id": "197822a8",
   "metadata": {},
   "source": [
    "```{admonition} Answer:\n",
    ":class: toggle\n",
    "`int`!\n",
    "```\n",
    "\n",
    "Q: What data type is this? Guess and then reveal to check your answer."
   ]
  },
  {
   "cell_type": "code",
   "execution_count": 20,
   "id": "e3e9b69d",
   "metadata": {
    "tags": [
     "remove-output"
    ]
   },
   "outputs": [
    {
     "data": {
      "text/plain": [
       "'3'"
      ]
     },
     "execution_count": 20,
     "metadata": {},
     "output_type": "execute_result"
    }
   ],
   "source": [
    "\"3\""
   ]
  },
  {
   "cell_type": "markdown",
   "id": "800a4d4b",
   "metadata": {},
   "source": [
    "```{admonition} Answer:\n",
    ":class: toggle\n",
    "`str` (string)!\n",
    "```\n",
    "\n",
    "Q: What data type is this? Guess and then reveal to check your answer."
   ]
  },
  {
   "cell_type": "code",
   "execution_count": 21,
   "id": "43aaebdf",
   "metadata": {
    "tags": [
     "remove-output"
    ]
   },
   "outputs": [
    {
     "data": {
      "text/plain": [
       "'65'"
      ]
     },
     "execution_count": 21,
     "metadata": {},
     "output_type": "execute_result"
    }
   ],
   "source": [
    "\"65\""
   ]
  },
  {
   "cell_type": "markdown",
   "id": "1ad33e19",
   "metadata": {},
   "source": [
    "```{admonition} Answer:\n",
    ":class: toggle\n",
    "`str` (string)!\n",
    "```\n",
    "\n",
    "Q: What data type is this? Guess and then reveal to check your answer."
   ]
  },
  {
   "cell_type": "code",
   "execution_count": 22,
   "id": "d315fc8c",
   "metadata": {
    "tags": [
     "remove-output"
    ]
   },
   "outputs": [
    {
     "data": {
      "text/plain": [
       "65"
      ]
     },
     "execution_count": 22,
     "metadata": {},
     "output_type": "execute_result"
    }
   ],
   "source": [
    "65"
   ]
  },
  {
   "cell_type": "markdown",
   "id": "aa6608f9",
   "metadata": {},
   "source": [
    "```{admonition} Answer:\n",
    ":class: toggle\n",
    "`int`!\n",
    "```\n",
    "\n",
    "Q: What data type is this? Guess and then reveal to check your answer."
   ]
  },
  {
   "cell_type": "code",
   "execution_count": 23,
   "id": "627ad6b0",
   "metadata": {
    "tags": [
     "remove-output"
    ]
   },
   "outputs": [
    {
     "data": {
      "text/plain": [
       "'True'"
      ]
     },
     "execution_count": 23,
     "metadata": {},
     "output_type": "execute_result"
    }
   ],
   "source": [
    "\"True\""
   ]
  },
  {
   "cell_type": "markdown",
   "id": "f13ac8e4",
   "metadata": {},
   "source": [
    "```{admonition} Answer:\n",
    ":class: toggle\n",
    "`str` (string)!\n",
    "```\n",
    "\n",
    "Q: What data type is this? Guess and then reveal to check your answer."
   ]
  },
  {
   "cell_type": "code",
   "execution_count": 24,
   "id": "566e40f1",
   "metadata": {
    "tags": [
     "remove-output"
    ]
   },
   "outputs": [
    {
     "data": {
      "text/plain": [
       "True"
      ]
     },
     "execution_count": 24,
     "metadata": {},
     "output_type": "execute_result"
    }
   ],
   "source": [
    "True"
   ]
  },
  {
   "cell_type": "markdown",
   "id": "27c1cf1d",
   "metadata": {},
   "source": [
    "```{admonition} Answer:\n",
    ":class: toggle\n",
    "`boolean`!\n",
    "```\n",
    "\n",
    "Types are super important, because as we will see next, value types constrain what kinds of operations are valid.\n",
    "\n",
    "## Value types constrain operators\n",
    "\n",
    "As we saw, most commonly, expressions are built from a combination of values and some *operators* that do something with the values. The values in the expression constrain what kinds of operations are valid.\n",
    "\n",
    "Let's look at an example. Can you predict what the output of this expression will be? Guess then reveal the output."
   ]
  },
  {
   "cell_type": "code",
   "execution_count": 25,
   "id": "bb9e4204",
   "metadata": {
    "tags": [
     "hide-output"
    ]
   },
   "outputs": [
    {
     "data": {
      "text/plain": [
       "3"
      ]
     },
     "execution_count": 25,
     "metadata": {},
     "output_type": "execute_result"
    }
   ],
   "source": [
    "1 + 2"
   ]
  },
  {
   "cell_type": "markdown",
   "id": "b3365de0",
   "metadata": {},
   "source": [
    "What about this? Can you predict what the output of this expression will be? Guess then reveal the output and the explanation."
   ]
  },
  {
   "cell_type": "code",
   "execution_count": 26,
   "id": "f6bef3d3",
   "metadata": {
    "tags": [
     "hide-output"
    ]
   },
   "outputs": [
    {
     "data": {
      "text/plain": [
       "'12'"
      ]
     },
     "execution_count": 26,
     "metadata": {},
     "output_type": "execute_result"
    }
   ],
   "source": [
    "\"1\" + \"2\""
   ]
  },
  {
   "cell_type": "markdown",
   "id": "3729b8db",
   "metadata": {},
   "source": [
    "```{admonition} Explanation:\n",
    ":class: toggle\n",
    "The `+` here is *not* addition, but **concatenation** because the data values here are both strings.\n",
    "```\n",
    "\n",
    "And this? Can you predict what the output of this expression will be? Guess then reveal the output and the explanation.\n",
    "```\n",
    "\"1\" + 2\n",
    "```\n",
    "\n",
    "```{admonition} Explanation:\n",
    ":class: toggle\n",
    "You should see an error message! Python doesn't know what to do here, because one of the values is a `str` (which means the `+` is concatenation) and the other is an `int` (which means the `+` is addition)! More on this in the next section.\n",
    "```\n",
    "\n",
    "## Aside: your first bug!\n",
    "\n",
    "### The TypeError\n",
    "\n",
    "Congratulations, you have just encountered your first bug!\n",
    "\n",
    "When we try to write an expression that creates an invalid combination of operators and values, we get a `TypeError` error message. \n",
    "\n",
    "Let's unpack this error message a bit\n",
    "\n",
    "```{image} assets/annotated-error-msg-TypeError-str-concat.png\n",
    ":alt: typeError\n",
    ":class: bg-primary mb-1\n",
    ":width: 800px\n",
    ":align: center\n",
    "```\n",
    "\n",
    "Here, Python is telling us:\n",
    "1) That there's something wrong with data types here\n",
    "2) It's something to do with trying to concatenate a string with something else, and failing because it's an int instead of a string\n",
    "3) It's somewhere around the `\"1\" + 2` expression\n",
    "\n",
    "These three parts are generally what you look for in an error message to help you figure out what to do to fix what's going on:\n",
    "1) What type of thing went wrong (this helps narrow the range of potential problems/fixes)\n",
    "2) A bit more about what went wrong (often helpful, but sometimes not, depending on how much you know and how helpful the programmers who wrote the error messages are!)\n",
    "3) Where the problem was detected (which *may not be where the problem actually is!*)\n",
    "\n",
    "```{image} assets/annotated-error-msg-generic.png\n",
    ":alt: typeError\n",
    ":class: bg-primary mb-1\n",
    ":width: 800px\n",
    ":align: center\n",
    "```\n",
    "\n",
    "The bottom bit (type of error (1) and description (2)) is helpful for Googling for fixes. The traceback (3) helps you find the part in your code that *might* be causing an error. \n",
    "\n",
    "### The (silent) type error\n",
    "\n",
    "These error messages can be annoying! But they're helpful: this is Python helping us catch bugs before the code runs! \n",
    "\n",
    "Unfortunately, we can make mistakes with the values in a way that fails silently, without these error messages. \n",
    "\n",
    "For example, if you want to add 1 and 2, and write:"
   ]
  },
  {
   "cell_type": "code",
   "execution_count": 27,
   "id": "e6391930",
   "metadata": {},
   "outputs": [
    {
     "data": {
      "text/plain": [
       "'12'"
      ]
     },
     "execution_count": 27,
     "metadata": {},
     "output_type": "execute_result"
    }
   ],
   "source": [
    "\"1\" + \"2\""
   ]
  },
  {
   "cell_type": "markdown",
   "id": "2a25ee22",
   "metadata": {},
   "source": [
    "This is valid code! And it runs and produces output! But it's *not* what you want. \n",
    "\n",
    "In this course, we'll call this sort of error a **semantic error**: it's a mismatch between what you want Python to do, and what you actually told Python to do (which is exactly what it did). This is different from the **syntax error** in the previous example (which prevents the code from executing/finishing, and yields an error code). We'll discuss debugging in more detail in the next module, but for now, just be aware that bugs can be silent like this. The key idea, which we will expand on later, is to always be mindful of the (potential) difference between 1) what you want to happen, and 2) what Python actually does, which is what produces the output you can see/inspect."
   ]
  }
 ],
 "metadata": {
  "jupytext": {
   "formats": "md:myst",
   "text_representation": {
    "extension": ".md",
    "format_name": "myst",
    "format_version": 0.13,
    "jupytext_version": "1.14.4"
   }
  },
  "kernelspec": {
   "display_name": "Python 3 (ipykernel)",
   "language": "python",
   "name": "python3"
  },
  "language_info": {
   "codemirror_mode": {
    "name": "ipython",
    "version": 3
   },
   "file_extension": ".py",
   "mimetype": "text/x-python",
   "name": "python",
   "nbconvert_exporter": "python",
   "pygments_lexer": "ipython3",
   "version": "3.9.7"
  },
  "source_map": [
   13,
   30,
   32,
   35,
   37,
   40,
   42,
   45,
   47,
   54,
   56,
   59,
   61,
   64,
   66,
   100,
   102,
   106,
   108,
   114,
   116,
   121,
   124,
   132,
   135,
   139,
   143,
   159,
   165,
   171,
   177,
   183,
   187,
   199,
   202,
   210,
   213,
   221,
   224,
   232,
   235,
   243,
   246,
   254,
   257,
   272,
   275,
   278,
   281,
   341,
   343
  ]
 },
 "nbformat": 4,
 "nbformat_minor": 5
}