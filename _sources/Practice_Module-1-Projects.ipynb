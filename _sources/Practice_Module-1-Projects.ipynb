{
 "cells": [
  {
   "cell_type": "markdown",
   "id": "8b77dd6f-c554-41fa-9b9d-31e2e1b2a557",
   "metadata": {
    "tags": []
   },
   "source": [
    "# Practice: Module 1 Project (Conditional Functions)\n",
    "\n",
    "## 1: Traffic light timer\n",
    "\n",
    "Two main considerations:\n",
    "1. Rush hour or not (if rush hour, then we use 6 second cycles, otherwise we use 9)\n",
    "2. Weekends or not (if weekends, then the rush hour rule doesn't apply, and we just use 9)"
   ]
  },
  {
   "cell_type": "code",
   "execution_count": 3,
   "id": "e3ffbbd8-228e-4aff-9cd7-7cf0880481e4",
   "metadata": {},
   "outputs": [],
   "source": [
    "def traffic_light_seconds(isRushHour, isWeekend):\n",
    "    if isWeekend == False and isRushHour == True:\n",
    "        return 6\n",
    "    else:\n",
    "        return 9"
   ]
  },
  {
   "cell_type": "code",
   "execution_count": null,
   "id": "7d804144-6003-4714-b727-ac6ea9eff80c",
   "metadata": {},
   "outputs": [],
   "source": [
    "# run\n",
    "rush = True\n",
    "weekend = False\n",
    "traffic_light_seconds(isRushHour=rush, isWeekend=weekend)"
   ]
  },
  {
   "cell_type": "markdown",
   "id": "51e8e6b6-663c-45c0-9eda-6639075cee38",
   "metadata": {},
   "source": [
    "1. What are the names of the arguments in the function call?\n",
    "2. What are the names of the parameters?\n",
    "3. What are the value types of the parameters?\n",
    "4. What is the value type of the return value?\n",
    "5. What is the Boolean expression?\n",
    "6. What comparison operators are used?\n",
    "7. What Boolean/logical operators are used?\n",
    "8. What conditional pattern is being used here?"
   ]
  },
  {
   "cell_type": "markdown",
   "id": "14570850-5dcb-4fe0-bcef-29e40bf21e83",
   "metadata": {
    "tags": []
   },
   "source": [
    "## 2: Shipping calculator\n",
    "\n",
    "Write a function called shipping_calculator that calculates the shipping cost based on the weight of the package and the destination. If the package is being shipped within the US and weighs less than or equal to 10 pounds, the shipping cost is \\\\$10. If the package is being shipped within the US and weighs more than 10 pounds, the shipping cost is \\\\$20. If the package is being shipped internationally and weighs less than or equal to 10 pounds, the shipping cost is \\\\$20. If the package is being shipped internationally and weighs more than 10 pounds, the shipping cost is \\\\$40."
   ]
  },
  {
   "cell_type": "code",
   "execution_count": 6,
   "id": "e4e669ee-3723-44e2-b4dd-fcfc9ac441e4",
   "metadata": {},
   "outputs": [],
   "source": [
    "# define\n",
    "def shipping_calculator(destination, weight):\n",
    "    # domestic, light\n",
    "    if destination == \"US\" and weight <= 10:\n",
    "        return 10\n",
    "    # international, heavy\n",
    "    elif destination != \"US\" and weight > 10:\n",
    "        return 40\n",
    "    # domestic heavy and international light\n",
    "    # i'm lazy to write out the Boolean expression :P\n",
    "    else:\n",
    "        return 20"
   ]
  },
  {
   "cell_type": "code",
   "execution_count": 7,
   "id": "f45a4b52-0adb-4b14-aeb3-54cecdd1d618",
   "metadata": {},
   "outputs": [
    {
     "data": {
      "text/plain": [
       "40"
      ]
     },
     "execution_count": 7,
     "metadata": {},
     "output_type": "execute_result"
    }
   ],
   "source": [
    "# run\n",
    "d = \"Bolivia\"\n",
    "w = 25\n",
    "shipping_calculator(d, w)"
   ]
  },
  {
   "cell_type": "markdown",
   "id": "960bb075-ffcb-42d6-805c-3a1c9c7783f4",
   "metadata": {},
   "source": [
    "1. What are the names of the arguments in the function call?\n",
    "2. What are the names of the parameters?\n",
    "3. What are the value types of the parameters?\n",
    "4. What is the value type of the return value?\n",
    "5. What are the Boolean expressions?\n",
    "6. What comparison operators are used?\n",
    "7. What Boolean/logical operators are used?\n",
    "8. What conditional pattern is being used here?"
   ]
  },
  {
   "cell_type": "markdown",
   "id": "880d0746-ad6f-40de-ab41-e420a0d3a559",
   "metadata": {
    "tags": []
   },
   "source": [
    "## 3: Interest rate calculator for a mortgage loan.\n",
    "\n",
    "Three main considerations:\n",
    "1. `loanLength`: 15 starts at 7; 30 starts at 8\n",
    "2. `creditScore` (int) 0 to 850 - exceptional (800 and up) applies a 10% reduction to the interest rate (e.g., 7 would go down to 6.3); very good (740 to 799) applies a 5% reduction, and good (670-739) applies a \n",
    "3. `isSecured`: if True, then we get a flat 1 percentage point reduction of the interest rate after considering life of loan and credit score.\n",
    "\n",
    "Returns an `int` that specifies the interest rate percentage as a function of the input params."
   ]
  },
  {
   "cell_type": "code",
   "execution_count": 1,
   "id": "7968d26f-2d0b-4d6b-863f-4541bb9325f5",
   "metadata": {},
   "outputs": [],
   "source": [
    "# define \n",
    "def interest_rate():\n",
    "    return "
   ]
  },
  {
   "cell_type": "code",
   "execution_count": 2,
   "id": "5d4ec496-8c5e-4751-8c2f-fb6bbb569fa0",
   "metadata": {},
   "outputs": [],
   "source": [
    "# run\n",
    "l = 15\n",
    "c = 700\n",
    "s = True\n",
    "interest_rate(l, c, s)"
   ]
  },
  {
   "cell_type": "markdown",
   "id": "9b70b502-797b-47c5-9666-4c2b5db6bb60",
   "metadata": {},
   "source": [
    "## 4: Travel caller for basketball\n",
    "\n",
    "`is_traveling()` returns `True` or `False`, depending on:\n",
    "1. `stepCount`: more than 2 = Travel (though subject to gather step and pivot considerations)\n",
    "2. `gatherStep` (True or False). If True, subtract 1 from step count before deciding if it's a travel.\n",
    "3. `isPivoting` (True or False). If True, then call no travel, regardless of `stepCount`"
   ]
  },
  {
   "cell_type": "code",
   "execution_count": null,
   "id": "69213e59-335f-407c-bde8-72288a974666",
   "metadata": {},
   "outputs": [],
   "source": [
    "# define\n",
    "def is_traveling():\n",
    "    return"
   ]
  },
  {
   "cell_type": "code",
   "execution_count": null,
   "id": "ab0561b6-f4b0-46d7-ba68-d93716653184",
   "metadata": {},
   "outputs": [],
   "source": [
    "# run\n",
    "s = 3\n",
    "g = False\n",
    "p = False\n",
    "is_traveling(s, g, p)"
   ]
  }
 ],
 "metadata": {
  "kernelspec": {
   "display_name": "Python 3 (ipykernel)",
   "language": "python",
   "name": "python3"
  },
  "language_info": {
   "codemirror_mode": {
    "name": "ipython",
    "version": 3
   },
   "file_extension": ".py",
   "mimetype": "text/x-python",
   "name": "python",
   "nbconvert_exporter": "python",
   "pygments_lexer": "ipython3",
   "version": "3.9.7"
  }
 },
 "nbformat": 4,
 "nbformat_minor": 5
}
